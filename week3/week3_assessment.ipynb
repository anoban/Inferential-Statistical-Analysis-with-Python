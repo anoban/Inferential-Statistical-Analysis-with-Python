{
 "cells": [
  {
   "cell_type": "markdown",
   "metadata": {
    "colab_type": "text",
    "id": "6w1_Mo78NDof"
   },
   "source": [
    "## Hypothesis Tests in Python\n",
    "In this assessment, you will look at data from a study on toddler sleep habits. \n",
    "\n",
    "The hypothesis tests you create and the questions you answer in this Jupyter notebook will be used to answer questions in the following graded assignment."
   ]
  },
  {
   "cell_type": "code",
   "execution_count": 40,
   "metadata": {
    "colab": {},
    "colab_type": "code",
    "execution": {
     "iopub.execute_input": "2023-07-08T09:26:54.056773Z",
     "iopub.status.busy": "2023-07-08T09:26:54.056773Z",
     "iopub.status.idle": "2023-07-08T09:26:54.063136Z",
     "shell.execute_reply": "2023-07-08T09:26:54.063136Z",
     "shell.execute_reply.started": "2023-07-08T09:26:54.056773Z"
    },
    "id": "YNKXymB_NDoh"
   },
   "outputs": [],
   "source": [
    "import numpy as np\n",
    "import pandas as pd\n",
    "from scipy.stats import (t, norm, ttest_ind)\n",
    "import matplotlib.pyplot as plt"
   ]
  },
  {
   "cell_type": "markdown",
   "metadata": {
    "colab_type": "text",
    "id": "HL4-ACl_NDol"
   },
   "source": [
    "Your goal is to analyse data which is the result of a study that examined\n",
    "differences in a number of sleep variables between napping and non-napping toddlers. Some of these\n",
    "sleep variables included: Bedtime (lights-off time in decimalized time), Night Sleep Onset Time (in\n",
    "decimalized time), Wake Time (sleep end time in decimalized time), Night Sleep Duration (interval\n",
    "between sleep onset and sleep end in minutes), and Total 24-Hour Sleep Duration (in minutes). Note:\n",
    "[Decimalized time](https://en.wikipedia.org/wiki/Decimal_time) is the representation of the time of day using units which are decimally related.   \n",
    "\n",
    "\n",
    "The 20 study participants were healthy, normally developing toddlers with no sleep or behavioral\n",
    "problems. These children were categorized as napping or non-napping based upon parental report of\n",
    "children’s habitual sleep patterns. Researchers then verified napping status with data from actigraphy (a\n",
    "non-invasive method of monitoring human rest/activity cycles by wearing of a sensor on the wrist) and\n",
    "sleep diaries during the 5 days before the study assessments were made.\n",
    "\n",
    "\n",
    "You are specifically interested in the results for the Bedtime and Total 24-Hour Sleep Duration. "
   ]
  },
  {
   "cell_type": "markdown",
   "metadata": {
    "colab_type": "text",
    "id": "XHo6lLm_NDol"
   },
   "source": [
    "Reference: Akacem LD, Simpkin CT, Carskadon MA, Wright KP Jr, Jenni OG, Achermann P, et al. (2015) The Timing of the Circadian Clock and Sleep Differ between Napping and Non-Napping Toddlers. PLoS ONE 10(4): e0125181. https://doi.org/10.1371/journal.pone.0125181"
   ]
  },
  {
   "cell_type": "code",
   "execution_count": 18,
   "metadata": {
    "colab": {},
    "colab_type": "code",
    "execution": {
     "iopub.execute_input": "2023-07-08T09:15:07.005748Z",
     "iopub.status.busy": "2023-07-08T09:15:07.005748Z",
     "iopub.status.idle": "2023-07-08T09:15:07.021734Z",
     "shell.execute_reply": "2023-07-08T09:15:07.021734Z",
     "shell.execute_reply.started": "2023-07-08T09:15:07.005748Z"
    },
    "id": "mBcxVw04NFW9"
   },
   "outputs": [],
   "source": [
    "df = pd.read_csv(\"../data/nap_no_nap.csv\", usecols = [\"napping\", \"24 h sleep duration\", \"night bedtime\"]) "
   ]
  },
  {
   "cell_type": "code",
   "execution_count": 19,
   "metadata": {
    "colab": {},
    "colab_type": "code",
    "execution": {
     "iopub.execute_input": "2023-07-08T09:15:07.204156Z",
     "iopub.status.busy": "2023-07-08T09:15:07.200160Z",
     "iopub.status.idle": "2023-07-08T09:15:07.210873Z",
     "shell.execute_reply": "2023-07-08T09:15:07.210873Z",
     "shell.execute_reply.started": "2023-07-08T09:15:07.204156Z"
    },
    "id": "TYe8b7MoNDop"
   },
   "outputs": [
    {
     "data": {
      "text/html": [
       "<div>\n",
       "<style scoped>\n",
       "    .dataframe tbody tr th:only-of-type {\n",
       "        vertical-align: middle;\n",
       "    }\n",
       "\n",
       "    .dataframe tbody tr th {\n",
       "        vertical-align: top;\n",
       "    }\n",
       "\n",
       "    .dataframe thead th {\n",
       "        text-align: right;\n",
       "    }\n",
       "</style>\n",
       "<table border=\"1\" class=\"dataframe\">\n",
       "  <thead>\n",
       "    <tr style=\"text-align: right;\">\n",
       "      <th></th>\n",
       "      <th>napping</th>\n",
       "      <th>night bedtime</th>\n",
       "      <th>24 h sleep duration</th>\n",
       "    </tr>\n",
       "  </thead>\n",
       "  <tbody>\n",
       "    <tr>\n",
       "      <th>0</th>\n",
       "      <td>0</td>\n",
       "      <td>20.45</td>\n",
       "      <td>629.4</td>\n",
       "    </tr>\n",
       "    <tr>\n",
       "      <th>1</th>\n",
       "      <td>0</td>\n",
       "      <td>19.23</td>\n",
       "      <td>672.4</td>\n",
       "    </tr>\n",
       "    <tr>\n",
       "      <th>2</th>\n",
       "      <td>0</td>\n",
       "      <td>19.60</td>\n",
       "      <td>628.8</td>\n",
       "    </tr>\n",
       "    <tr>\n",
       "      <th>3</th>\n",
       "      <td>0</td>\n",
       "      <td>19.46</td>\n",
       "      <td>766.6</td>\n",
       "    </tr>\n",
       "    <tr>\n",
       "      <th>4</th>\n",
       "      <td>0</td>\n",
       "      <td>19.21</td>\n",
       "      <td>678.0</td>\n",
       "    </tr>\n",
       "  </tbody>\n",
       "</table>\n",
       "</div>"
      ],
      "text/plain": [
       "   napping  night bedtime  24 h sleep duration\n",
       "0        0          20.45                629.4\n",
       "1        0          19.23                672.4\n",
       "2        0          19.60                628.8\n",
       "3        0          19.46                766.6\n",
       "4        0          19.21                678.0"
      ]
     },
     "execution_count": 19,
     "metadata": {},
     "output_type": "execute_result"
    }
   ],
   "source": [
    "df.head()"
   ]
  },
  {
   "cell_type": "code",
   "execution_count": 20,
   "metadata": {
    "execution": {
     "iopub.execute_input": "2023-07-08T09:15:07.678892Z",
     "iopub.status.busy": "2023-07-08T09:15:07.678892Z",
     "iopub.status.idle": "2023-07-08T09:15:07.686362Z",
     "shell.execute_reply": "2023-07-08T09:15:07.686362Z",
     "shell.execute_reply.started": "2023-07-08T09:15:07.678892Z"
    }
   },
   "outputs": [
    {
     "data": {
      "text/plain": [
       "Index(['napping', 'night bedtime', '24 h sleep duration'], dtype='object')"
      ]
     },
     "execution_count": 20,
     "metadata": {},
     "output_type": "execute_result"
    }
   ],
   "source": [
    "df.columns"
   ]
  },
  {
   "cell_type": "code",
   "execution_count": 21,
   "metadata": {
    "execution": {
     "iopub.execute_input": "2023-07-08T09:15:08.039507Z",
     "iopub.status.busy": "2023-07-08T09:15:08.039507Z",
     "iopub.status.idle": "2023-07-08T09:15:08.046711Z",
     "shell.execute_reply": "2023-07-08T09:15:08.046653Z",
     "shell.execute_reply.started": "2023-07-08T09:15:08.039507Z"
    }
   },
   "outputs": [
    {
     "data": {
      "text/plain": [
       "(20, 3)"
      ]
     },
     "execution_count": 21,
     "metadata": {},
     "output_type": "execute_result"
    }
   ],
   "source": [
    "df.shape"
   ]
  },
  {
   "cell_type": "code",
   "execution_count": 22,
   "metadata": {
    "execution": {
     "iopub.execute_input": "2023-07-08T09:15:08.399721Z",
     "iopub.status.busy": "2023-07-08T09:15:08.399721Z",
     "iopub.status.idle": "2023-07-08T09:15:08.406223Z",
     "shell.execute_reply": "2023-07-08T09:15:08.406223Z",
     "shell.execute_reply.started": "2023-07-08T09:15:08.399721Z"
    }
   },
   "outputs": [
    {
     "data": {
      "text/plain": [
       "15"
      ]
     },
     "execution_count": 22,
     "metadata": {},
     "output_type": "execute_result"
    }
   ],
   "source": [
    "df.napping.sum()"
   ]
  },
  {
   "cell_type": "markdown",
   "metadata": {
    "colab_type": "text",
    "id": "VfZxEx3gNDor"
   },
   "source": [
    "**Question**: What value is used in the column 'napping' to indicate a toddler takes a nap? (see reference article) \n",
    "\n",
    "**Questions**: What is the overall sample size $n$? What are the sample sizes of napping and non-napping toddlers?"
   ]
  },
  {
   "cell_type": "code",
   "execution_count": 23,
   "metadata": {
    "execution": {
     "iopub.execute_input": "2023-07-08T09:15:08.787369Z",
     "iopub.status.busy": "2023-07-08T09:15:08.787369Z",
     "iopub.status.idle": "2023-07-08T09:15:08.792079Z",
     "shell.execute_reply": "2023-07-08T09:15:08.792079Z",
     "shell.execute_reply.started": "2023-07-08T09:15:08.787369Z"
    }
   },
   "outputs": [],
   "source": [
    "# napping = 1\n",
    "# non-napping = 0\n",
    "\n",
    "# sample size  = 20\n",
    "# napping toddlers = 15, non-napping toddlers = 5"
   ]
  },
  {
   "cell_type": "markdown",
   "metadata": {
    "colab_type": "text",
    "id": "9djLvqwJNDos"
   },
   "source": [
    "## Hypothesis tests\n",
    "We will look at two hypothesis test, each with $\\alpha = .05$:  \n",
    "\n",
    "\n",
    "# 1. Is the average bedtime for toddlers who nap later than the average bedtime for toddlers who don't nap?\n",
    "\n",
    "\n",
    "### $$H_0: \\mu_{nap}=\\mu_{no\\ nap}, \\ H_a:\\mu_{nap}>\\mu_{no\\ nap}$$\n",
    "Or equivalently:\n",
    "### $$H_0: \\mu_{nap}-\\mu_{no\\ nap}=0, \\ H_a:\\mu_{nap}-\\mu_{no\\ nap}>0$$\n",
    "\n",
    "\n",
    "# 2. The average 24 h sleep duration (in minutes) for napping toddlers is different from toddlers who don't nap.\n",
    "\n",
    "\n",
    "### $$H_0: \\mu_{nap}=\\mu_{no\\ nap}, \\ H_a:\\mu_{nap}\\neq\\mu_{no\\ nap}$$\n",
    "Or equivalently:\n",
    "### $$H_0: \\mu_{nap}-\\mu_{no\\ nap}=0, \\ H_a:\\mu_{nap}-\\mu_{no\\ nap} \\neq 0$$"
   ]
  },
  {
   "cell_type": "code",
   "execution_count": null,
   "metadata": {},
   "outputs": [],
   "source": []
  },
  {
   "cell_type": "markdown",
   "metadata": {
    "colab_type": "text",
    "id": "WprO1i-ONDot"
   },
   "source": [
    "First isolate `night bedtime` into two variables - one for toddlers who nap and one for toddlers who do not nap."
   ]
  },
  {
   "cell_type": "code",
   "execution_count": 24,
   "metadata": {
    "colab": {},
    "colab_type": "code",
    "execution": {
     "iopub.execute_input": "2023-07-08T09:15:10.231557Z",
     "iopub.status.busy": "2023-07-08T09:15:10.231557Z",
     "iopub.status.idle": "2023-07-08T09:15:10.238483Z",
     "shell.execute_reply": "2023-07-08T09:15:10.237892Z",
     "shell.execute_reply.started": "2023-07-08T09:15:10.231557Z"
    },
    "id": "5gZyghIbNDoy"
   },
   "outputs": [],
   "source": [
    "nap_bedtime = df[\"night bedtime\"][df.napping == 1]"
   ]
  },
  {
   "cell_type": "code",
   "execution_count": 25,
   "metadata": {
    "colab": {},
    "colab_type": "code",
    "execution": {
     "iopub.execute_input": "2023-07-08T09:15:10.760177Z",
     "iopub.status.busy": "2023-07-08T09:15:10.756174Z",
     "iopub.status.idle": "2023-07-08T09:15:10.763769Z",
     "shell.execute_reply": "2023-07-08T09:15:10.763300Z",
     "shell.execute_reply.started": "2023-07-08T09:15:10.760177Z"
    },
    "id": "yoX2nh1RNDo0"
   },
   "outputs": [],
   "source": [
    "no_nap_bedtime = df[\"night bedtime\"][df.napping == 0]"
   ]
  },
  {
   "cell_type": "code",
   "execution_count": null,
   "metadata": {},
   "outputs": [],
   "source": []
  },
  {
   "cell_type": "markdown",
   "metadata": {
    "colab_type": "text",
    "id": "ZEqxhPObNDo3"
   },
   "source": [
    "Now find the sample mean bedtime for nap and no_nap."
   ]
  },
  {
   "cell_type": "code",
   "execution_count": 26,
   "metadata": {
    "colab": {},
    "colab_type": "code",
    "execution": {
     "iopub.execute_input": "2023-07-08T09:15:11.761165Z",
     "iopub.status.busy": "2023-07-08T09:15:11.760052Z",
     "iopub.status.idle": "2023-07-08T09:15:11.765404Z",
     "shell.execute_reply": "2023-07-08T09:15:11.764842Z",
     "shell.execute_reply.started": "2023-07-08T09:15:11.761165Z"
    },
    "id": "ySJiflu5NDo5"
   },
   "outputs": [],
   "source": [
    "nap_mean_bedtime = nap_bedtime.mean()\n",
    "no_nap_mean_bedtime = no_nap_bedtime.mean()"
   ]
  },
  {
   "cell_type": "code",
   "execution_count": 27,
   "metadata": {
    "execution": {
     "iopub.execute_input": "2023-07-08T09:15:12.087215Z",
     "iopub.status.busy": "2023-07-08T09:15:12.087215Z",
     "iopub.status.idle": "2023-07-08T09:15:12.095177Z",
     "shell.execute_reply": "2023-07-08T09:15:12.094546Z",
     "shell.execute_reply.started": "2023-07-08T09:15:12.087215Z"
    }
   },
   "outputs": [
    {
     "data": {
      "text/plain": [
       "(20.304, 19.590000000000003)"
      ]
     },
     "execution_count": 27,
     "metadata": {},
     "output_type": "execute_result"
    }
   ],
   "source": [
    "nap_mean_bedtime, no_nap_mean_bedtime"
   ]
  },
  {
   "cell_type": "code",
   "execution_count": null,
   "metadata": {},
   "outputs": [],
   "source": []
  },
  {
   "cell_type": "markdown",
   "metadata": {
    "colab_type": "text",
    "id": "LFCWELIDNDo-"
   },
   "source": [
    "**Question**: What is the sample difference of mean bedtime for nappers minus no nappers?"
   ]
  },
  {
   "cell_type": "code",
   "execution_count": 28,
   "metadata": {
    "execution": {
     "iopub.execute_input": "2023-07-08T09:15:13.033145Z",
     "iopub.status.busy": "2023-07-08T09:15:13.033145Z",
     "iopub.status.idle": "2023-07-08T09:15:13.039106Z",
     "shell.execute_reply": "2023-07-08T09:15:13.039106Z",
     "shell.execute_reply.started": "2023-07-08T09:15:13.033145Z"
    }
   },
   "outputs": [
    {
     "data": {
      "text/plain": [
       "0.7139999999999951"
      ]
     },
     "execution_count": 28,
     "metadata": {},
     "output_type": "execute_result"
    }
   ],
   "source": [
    "mean_bedtime_diff = nap_mean_bedtime - no_nap_mean_bedtime\n",
    "mean_bedtime_diff"
   ]
  },
  {
   "cell_type": "code",
   "execution_count": null,
   "metadata": {},
   "outputs": [],
   "source": []
  },
  {
   "cell_type": "markdown",
   "metadata": {
    "colab_type": "text",
    "id": "qm-fIbluNDpA"
   },
   "source": [
    "Now find the sample standard deviation for $X_{nap}$ and $X_{no\\ nap}$."
   ]
  },
  {
   "cell_type": "code",
   "execution_count": 33,
   "metadata": {
    "colab": {},
    "colab_type": "code",
    "execution": {
     "iopub.execute_input": "2023-07-08T09:19:00.192051Z",
     "iopub.status.busy": "2023-07-08T09:19:00.192051Z",
     "iopub.status.idle": "2023-07-08T09:19:00.201415Z",
     "shell.execute_reply": "2023-07-08T09:19:00.201415Z",
     "shell.execute_reply.started": "2023-07-08T09:19:00.192051Z"
    },
    "id": "G5X_l8-qNDpA"
   },
   "outputs": [],
   "source": [
    "# Since the standard deviations are closer, we'll use the pooled approach.\n",
    "\n",
    "nap_s_bedtime = nap_bedtime.std()\n",
    "no_nap_s_bedtime = no_nap_bedtime.std()"
   ]
  },
  {
   "cell_type": "code",
   "execution_count": 30,
   "metadata": {
    "execution": {
     "iopub.execute_input": "2023-07-08T09:15:14.009192Z",
     "iopub.status.busy": "2023-07-08T09:15:14.009192Z",
     "iopub.status.idle": "2023-07-08T09:15:14.014336Z",
     "shell.execute_reply": "2023-07-08T09:15:14.014336Z",
     "shell.execute_reply.started": "2023-07-08T09:15:14.009192Z"
    }
   },
   "outputs": [
    {
     "data": {
      "text/plain": [
       "(0.5910619981984009, 0.5075923561284187)"
      ]
     },
     "execution_count": 30,
     "metadata": {},
     "output_type": "execute_result"
    }
   ],
   "source": [
    "nap_s_bedtime, no_nap_s_bedtime"
   ]
  },
  {
   "cell_type": "code",
   "execution_count": null,
   "metadata": {},
   "outputs": [],
   "source": []
  },
  {
   "cell_type": "markdown",
   "metadata": {
    "colab_type": "text",
    "id": "zikRy_GINDpF"
   },
   "source": [
    "**Question**: What is the s.e.$(\\bar{X}_{nap} - \\bar{X}_{no\\ nap})$?\n",
    "\n",
    "We expect the variance in sleep time for toddlers who nap and toddlers who don't nap to be the same. So we use a pooled standard error.\n",
    "\n",
    "Calculate the pooled standard error of $\\bar{X}_{nap} - \\bar{X}_{no\\ nap}$ using the formula below.\n",
    "\n",
    "# $s.e.(\\bar{X}_{nap} - \\bar{X}_{no\\ nap}) = \\sqrt{\\frac{(n_1-1)s_1^2 + (n_2-1)s_2^2}{n_1+n_2-2}(\\frac{1}{n_1}+\\frac{1}{n_2})}$"
   ]
  },
  {
   "cell_type": "code",
   "execution_count": 31,
   "metadata": {
    "colab": {},
    "colab_type": "code",
    "execution": {
     "iopub.execute_input": "2023-07-08T09:15:15.529529Z",
     "iopub.status.busy": "2023-07-08T09:15:15.529529Z",
     "iopub.status.idle": "2023-07-08T09:15:15.536294Z",
     "shell.execute_reply": "2023-07-08T09:15:15.536294Z",
     "shell.execute_reply.started": "2023-07-08T09:15:15.529529Z"
    },
    "id": "KZUAaqFYNDpF"
   },
   "outputs": [
    {
     "data": {
      "text/plain": [
       "0.2961871280370147"
      ]
     },
     "execution_count": 31,
     "metadata": {},
     "output_type": "execute_result"
    }
   ],
   "source": [
    "pooled_se = np.sqrt((((nap_bedtime.size - 1) * nap_bedtime.var()) + ((no_nap_bedtime.size - 1) * no_nap_bedtime.var())) * \\\n",
    "                    ((1 / nap_bedtime.size) + (1 / no_nap_bedtime.size)) / (nap_bedtime.size + no_nap_bedtime.size - 2))\n",
    "pooled_se"
   ]
  },
  {
   "cell_type": "code",
   "execution_count": null,
   "metadata": {},
   "outputs": [],
   "source": []
  },
  {
   "cell_type": "markdown",
   "metadata": {
    "colab_type": "text",
    "id": "63-jF9fmNDpI"
   },
   "source": [
    "**Question**: Given our sample size of $n$, how many degrees of freedom ($df$) are there for the associated $t$ distribution?"
   ]
  },
  {
   "cell_type": "markdown",
   "metadata": {},
   "source": [
    "# $s.e._{pooled}(\\bar{X}_{nap} - \\bar{X}_{no\\ nap}) = \\sqrt{\\frac{(n_1-1)s_1^2 + (n_2-1)s_2^2}{n_1+n_2-2}(\\frac{1}{n_1}+\\frac{1}{n_2})}$"
   ]
  },
  {
   "cell_type": "code",
   "execution_count": 32,
   "metadata": {
    "execution": {
     "iopub.execute_input": "2023-07-08T09:17:01.672379Z",
     "iopub.status.busy": "2023-07-08T09:17:01.672379Z",
     "iopub.status.idle": "2023-07-08T09:17:01.679979Z",
     "shell.execute_reply": "2023-07-08T09:17:01.679979Z",
     "shell.execute_reply.started": "2023-07-08T09:17:01.672379Z"
    }
   },
   "outputs": [
    {
     "data": {
      "text/plain": [
       "18"
      ]
     },
     "execution_count": 32,
     "metadata": {},
     "output_type": "execute_result"
    }
   ],
   "source": [
    "df_pooled = nap_bedtime.size + no_nap_bedtime.size - 2\n",
    "df_pooled"
   ]
  },
  {
   "cell_type": "code",
   "execution_count": null,
   "metadata": {},
   "outputs": [],
   "source": []
  },
  {
   "cell_type": "markdown",
   "metadata": {
    "colab_type": "text",
    "id": "S3DC4b-iNDpI"
   },
   "source": [
    "### Now calculate the $t$-test statistic for our __first hypothesis test__ using  \n",
    "* pooled s.e.($\\bar{X}_{nap} - \\bar{X}_{no\\ nap}$)  \n",
    "* $\\bar{X}_{nap} - \\bar{X}_{no\\ nap}$  \n",
    "* $\\mu_{0,\\ nap} - \\mu_{0,\\ no\\ nap}=0$, the population difference in means under the null hypothesis"
   ]
  },
  {
   "cell_type": "code",
   "execution_count": 34,
   "metadata": {
    "execution": {
     "iopub.execute_input": "2023-07-08T09:19:56.637565Z",
     "iopub.status.busy": "2023-07-08T09:19:56.637565Z",
     "iopub.status.idle": "2023-07-08T09:19:56.656564Z",
     "shell.execute_reply": "2023-07-08T09:19:56.656564Z",
     "shell.execute_reply.started": "2023-07-08T09:19:56.637565Z"
    }
   },
   "outputs": [
    {
     "data": {
      "text/plain": [
       "2.4106381824626966"
      ]
     },
     "execution_count": 34,
     "metadata": {},
     "output_type": "execute_result"
    }
   ],
   "source": [
    "tstat = (mean_bedtime_diff - 0) / pooled_se\n",
    "tstat"
   ]
  },
  {
   "cell_type": "code",
   "execution_count": null,
   "metadata": {},
   "outputs": [],
   "source": []
  },
  {
   "cell_type": "markdown",
   "metadata": {
    "colab_type": "text",
    "id": "vpGx3jGXNDpJ"
   },
   "source": [
    "**Question**: What is the p-value for the first hypothesis test?"
   ]
  },
  {
   "cell_type": "markdown",
   "metadata": {
    "colab_type": "text",
    "id": "YSys0xG3NDpK"
   },
   "source": [
    "For a discussion of probability density functions (PDF) and cumulative distribution functions (CDF) see:\n",
    "\n",
    "https://integratedmlai.com/normal-distribution-an-introductory-guide-to-pdf-and-cdf/\n",
    "\n",
    "To find the p-value, we can use the CDF for the t-distribution:\n",
    "```\n",
    "t.cdf(tstat, df)\n",
    "```\n",
    "Which for $X \\sim t(df)$ returns $P(X \\leq tstat)$.\n",
    "\n",
    "Because of the symmetry of the $t$ distribution, we have that \n",
    "```\n",
    "1 - t.cdf(tstat, df)\n",
    "```\n",
    "returns $P(X > tstat)$\n",
    "\n",
    "The function `t.cdf(tstat, df)` will give you the same value as finding the one-tailed probability of `tstat` on a t-table with the specified degrees of freedom.\n",
    "\n",
    "Use the function `t.cdf(tstat, df)` to find the p-value for the first hypothesis test."
   ]
  },
  {
   "cell_type": "code",
   "execution_count": null,
   "metadata": {},
   "outputs": [],
   "source": []
  },
  {
   "cell_type": "code",
   "execution_count": 44,
   "metadata": {
    "execution": {
     "iopub.execute_input": "2023-07-08T09:30:44.050562Z",
     "iopub.status.busy": "2023-07-08T09:30:44.050562Z",
     "iopub.status.idle": "2023-07-08T09:30:44.155750Z",
     "shell.execute_reply": "2023-07-08T09:30:44.155750Z",
     "shell.execute_reply.started": "2023-07-08T09:30:44.050562Z"
    }
   },
   "outputs": [
    {
     "data": {
      "image/png": "[encoded data removed]",
      "text/plain": [
       "<Figure size 640x480 with 1 Axes>"
      ]
     },
     "metadata": {},
     "output_type": "display_data"
    }
   ],
   "source": [
    "x = np.linspace(start = -5, stop = 5, num = 1000, endpoint = True)\n",
    "tpdfs = t.pdf(x, df = x.size - 1)\n",
    "\n",
    "fig, axes = plt.subplots()\n",
    "axes.plot(x, tpdfs, color = \"black\")\n",
    "ymin, ymax = axes.get_ybound()\n",
    "axes.vlines(tstat, ymax = ymax, ymin = ymin, color = \"red\")\n",
    "axes.fill_between(x = x, y1 = 0, y2 = tpdfs, where = (x >= abs(tstat)), color = \"red\", alpha = 0.75)\n",
    "axes.set_ylabel(\"Density\")\n",
    "axes.set_xlabel(\"t\")\n",
    "axes.set_title(\"One tailed t test\")\n",
    "plt.show()"
   ]
  },
  {
   "cell_type": "code",
   "execution_count": 45,
   "metadata": {
    "colab": {},
    "colab_type": "code",
    "execution": {
     "iopub.execute_input": "2023-07-08T09:30:56.831222Z",
     "iopub.status.busy": "2023-07-08T09:30:56.831222Z",
     "iopub.status.idle": "2023-07-08T09:30:56.849035Z",
     "shell.execute_reply": "2023-07-08T09:30:56.849035Z",
     "shell.execute_reply.started": "2023-07-08T09:30:56.831222Z"
    },
    "id": "onJwGMApNDpM"
   },
   "outputs": [
    {
     "data": {
      "text/plain": [
       "0.013417041438843036"
      ]
     },
     "execution_count": 45,
     "metadata": {},
     "output_type": "execute_result"
    }
   ],
   "source": [
    "pvalue = (1 - t.cdf(tstat , df = df_pooled))\n",
    "pvalue"
   ]
  },
  {
   "cell_type": "code",
   "execution_count": null,
   "metadata": {},
   "outputs": [],
   "source": []
  },
  {
   "cell_type": "markdown",
   "metadata": {},
   "source": [
    "**Question**: What are the t-statistic and p-value for the second hypothesis test?\n",
    "\n",
    "Calculate the $t$ test statistics and corresponding p-value using the `scipy` function `scipy.stats.ttest_ind(a, b, equal_var=True)` and check with your answer. "
   ]
  },
  {
   "cell_type": "code",
   "execution_count": 46,
   "metadata": {
    "execution": {
     "iopub.execute_input": "2023-07-08T09:31:27.492757Z",
     "iopub.status.busy": "2023-07-08T09:31:27.492757Z",
     "iopub.status.idle": "2023-07-08T09:31:27.504411Z",
     "shell.execute_reply": "2023-07-08T09:31:27.504346Z",
     "shell.execute_reply.started": "2023-07-08T09:31:27.492757Z"
    }
   },
   "outputs": [
    {
     "data": {
      "text/plain": [
       "0.026834082877686072"
      ]
     },
     "execution_count": 46,
     "metadata": {},
     "output_type": "execute_result"
    }
   ],
   "source": [
    "pvalue = 2 * (1 - t.cdf(tstat , df = df_pooled))\n",
    "pvalue"
   ]
  },
  {
   "cell_type": "code",
   "execution_count": 48,
   "metadata": {
    "execution": {
     "iopub.execute_input": "2023-07-08T09:37:06.560356Z",
     "iopub.status.busy": "2023-07-08T09:37:06.560356Z",
     "iopub.status.idle": "2023-07-08T09:37:06.581043Z",
     "shell.execute_reply": "2023-07-08T09:37:06.580512Z",
     "shell.execute_reply.started": "2023-07-08T09:37:06.560356Z"
    }
   },
   "outputs": [
    {
     "data": {
      "text/plain": [
       "TtestResult(statistic=2.4106381824626966, pvalue=0.013417041438843019, df=18.0)"
      ]
     },
     "execution_count": 48,
     "metadata": {},
     "output_type": "execute_result"
    }
   ],
   "source": [
    "ttest_ind(nap_bedtime, no_nap_bedtime, equal_var = True, alternative = \"greater\")"
   ]
  },
  {
   "cell_type": "code",
   "execution_count": 47,
   "metadata": {
    "execution": {
     "iopub.execute_input": "2023-07-08T09:36:36.801712Z",
     "iopub.status.busy": "2023-07-08T09:36:36.801712Z",
     "iopub.status.idle": "2023-07-08T09:36:36.808247Z",
     "shell.execute_reply": "2023-07-08T09:36:36.808162Z",
     "shell.execute_reply.started": "2023-07-08T09:36:36.801712Z"
    }
   },
   "outputs": [],
   "source": [
    "# The p values (for both the first and second hypothesis tests) are less than the significance level 0.05\n",
    "# In both cases, we can reject the Null hypothesis.\n",
    "# So, there's enough evidence to assert that the bedtime of napping toodlers and that of non-napping toddlers are not the same."
   ]
  },
  {
   "cell_type": "code",
   "execution_count": null,
   "metadata": {},
   "outputs": [],
   "source": []
  },
  {
   "cell_type": "markdown",
   "metadata": {
    "execution": {
     "iopub.execute_input": "2023-07-08T09:25:37.541421Z",
     "iopub.status.busy": "2023-07-08T09:25:37.541421Z",
     "iopub.status.idle": "2023-07-08T09:25:37.554711Z",
     "shell.execute_reply": "2023-07-08T09:25:37.554194Z",
     "shell.execute_reply.started": "2023-07-08T09:25:37.541421Z"
    }
   },
   "source": [
    "**Question**: Does `scipy.stats.ttest_ind` return values for a one-sided or two-sided test?"
   ]
  },
  {
   "cell_type": "code",
   "execution_count": 42,
   "metadata": {
    "execution": {
     "iopub.execute_input": "2023-07-08T09:27:53.315482Z",
     "iopub.status.busy": "2023-07-08T09:27:53.315482Z",
     "iopub.status.idle": "2023-07-08T09:27:53.327167Z",
     "shell.execute_reply": "2023-07-08T09:27:53.327113Z",
     "shell.execute_reply.started": "2023-07-08T09:27:53.315482Z"
    }
   },
   "outputs": [],
   "source": [
    "# Two tailed ;&)"
   ]
  },
  {
   "cell_type": "code",
   "execution_count": null,
   "metadata": {},
   "outputs": [],
   "source": []
  },
  {
   "cell_type": "markdown",
   "metadata": {
    "colab_type": "text",
    "id": "ObOjGXrTNDpP"
   },
   "source": [
    "**Question**: Can you think of a way to recover the results you got using `1-t.cdf` from the p-value given by `scipy.stats.ttest_ind`?\n",
    "\n",
    "Use the `scipy` function `scipy.stats.ttest_ind(a, b, equal_var=True)` to find the $t$ test statistic and corresponding p-value for the second hypothesis test."
   ]
  },
  {
   "cell_type": "code",
   "execution_count": 49,
   "metadata": {
    "colab": {},
    "colab_type": "code",
    "execution": {
     "iopub.execute_input": "2023-07-08T09:37:31.588941Z",
     "iopub.status.busy": "2023-07-08T09:37:31.588941Z",
     "iopub.status.idle": "2023-07-08T09:37:31.596469Z",
     "shell.execute_reply": "2023-07-08T09:37:31.596390Z",
     "shell.execute_reply.started": "2023-07-08T09:37:31.588941Z"
    },
    "id": "mOdFSpXoNDpQ"
   },
   "outputs": [
    {
     "data": {
      "text/plain": [
       "TtestResult(statistic=2.4106381824626966, pvalue=0.026834082877686037, df=18.0)"
      ]
     },
     "execution_count": 49,
     "metadata": {},
     "output_type": "execute_result"
    }
   ],
   "source": [
    "ttest_ind(nap_bedtime, no_nap_bedtime, equal_var = True, alternative = \"two-sided\")"
   ]
  },
  {
   "cell_type": "code",
   "execution_count": null,
   "metadata": {},
   "outputs": [],
   "source": []
  },
  {
   "cell_type": "markdown",
   "metadata": {
    "colab_type": "text",
    "id": "ATF7D28TNDpW"
   },
   "source": [
    "**Question**: For the $\\alpha=.05$, do you reject or fail to reject the first hypothesis?\n",
    "\n",
    "**Question**: For the $\\alpha=.05$, do you reject or fail to reject the second hypothesis?"
   ]
  },
  {
   "cell_type": "code",
   "execution_count": null,
   "metadata": {},
   "outputs": [],
   "source": [
    "# We'll reject both Null hypotheses."
   ]
  }
 ],
 "metadata": {
  "colab": {
   "collapsed_sections": [],
   "name": "Hypothesis testing assessment.ipynb",
   "provenance": [],
   "version": "0.3.2"
  },
  "kernelspec": {
   "display_name": "Python 3 (ipykernel)",
   "language": "python",
   "name": "python3"
  },
  "language_info": {
   "codemirror_mode": {
    "name": "ipython",
    "version": 3
   },
   "file_extension": ".py",
   "mimetype": "text/x-python",
   "name": "python",
   "nbconvert_exporter": "python",
   "pygments_lexer": "ipython3",
   "version": "3.11.4"
  }
 },
 "nbformat": 4,
 "nbformat_minor": 4
}
