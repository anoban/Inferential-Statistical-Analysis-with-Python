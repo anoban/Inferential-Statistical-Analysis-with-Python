{
 "cells": [
  {
   "cell_type": "markdown",
   "metadata": {
    "colab_type": "text",
    "id": "8BYZBHWdMyV4"
   },
   "source": [
    "## Confidence intervals in python\n",
    "In this assessment, you will look at data from a study on toddler sleep habits. \n",
    "\n",
    "The confidence intervals you create and the questions you answer in this Jupyter notebook will be used to answer questions in the following graded assignment."
   ]
  },
  {
   "cell_type": "code",
   "execution_count": 1,
   "metadata": {
    "colab": {},
    "colab_type": "code",
    "execution": {
     "iopub.execute_input": "2023-06-22T13:29:28.002690Z",
     "iopub.status.busy": "2023-06-22T13:29:28.002690Z",
     "iopub.status.idle": "2023-06-22T13:29:32.305235Z",
     "shell.execute_reply": "2023-06-22T13:29:32.305235Z",
     "shell.execute_reply.started": "2023-06-22T13:29:28.002690Z"
    },
    "id": "XgFyiBR-MyV6"
   },
   "outputs": [],
   "source": [
    "import numpy as np\n",
    "import pandas as pd\n",
    "from scipy.stats import t\n",
    "pd.set_option('display.max_columns', 30) # set so can see all columns of the DataFrame"
   ]
  },
  {
   "cell_type": "markdown",
   "metadata": {
    "colab_type": "text",
    "id": "Tdw2MXJrMyWA"
   },
   "source": [
    "Your goal is to analyse data which is the result of a study that examined\n",
    "differences in a number of sleep variables between napping and non-napping toddlers. Some of these\n",
    "sleep variables included: Bedtime (lights-off time in decimalized time), Night Sleep Onset Time (in\n",
    "decimalized time), Wake Time (sleep end time in decimalized time), Night Sleep Duration (interval\n",
    "between sleep onset and sleep end in minutes), and Total 24-Hour Sleep Duration (in minutes). Note:\n",
    "[Decimalized time](https://en.wikipedia.org/wiki/Decimal_time) is the representation of the time of day using units which are decimally related.   \n",
    "\n",
    "\n",
    "The 20 study participants were healthy, normally developing toddlers with no sleep or behavioral\n",
    "problems. These children were categorized as napping or non-napping based upon parental report of\n",
    "children’s habitual sleep patterns. Researchers then verified napping status with data from actigraphy (a\n",
    "non-invasive method of monitoring human rest/activity cycles by wearing of a sensor on the wrist) and\n",
    "sleep diaries during the 5 days before the study assessments were made.\n",
    "\n",
    "\n",
    "You are specifically interested in the results for Bedtime. "
   ]
  },
  {
   "cell_type": "markdown",
   "metadata": {
    "colab_type": "text",
    "id": "qZeYAvHRMyWC"
   },
   "source": [
    "Reference: Akacem LD, Simpkin CT, Carskadon MA, Wright KP Jr, Jenni OG, Achermann P, et al. (2015) The Timing of the Circadian Clock and Sleep Differ between Napping and Non-Napping Toddlers. PLoS ONE 10(4): e0125181. https://doi.org/10.1371/journal.pone.0125181"
   ]
  },
  {
   "cell_type": "code",
   "execution_count": 3,
   "metadata": {
    "colab": {},
    "colab_type": "code",
    "execution": {
     "iopub.execute_input": "2023-06-22T13:29:49.048923Z",
     "iopub.status.busy": "2023-06-22T13:29:49.047898Z",
     "iopub.status.idle": "2023-06-22T13:29:49.088980Z",
     "shell.execute_reply": "2023-06-22T13:29:49.088980Z",
     "shell.execute_reply.started": "2023-06-22T13:29:49.048923Z"
    },
    "id": "tY3EqOuoMyWD"
   },
   "outputs": [],
   "source": [
    "# Import the data\n",
    "df = pd.read_csv(\"../data/nap_no_nap.csv\") "
   ]
  },
  {
   "cell_type": "code",
   "execution_count": 16,
   "metadata": {
    "colab": {},
    "colab_type": "code",
    "execution": {
     "iopub.execute_input": "2023-06-22T13:42:05.966655Z",
     "iopub.status.busy": "2023-06-22T13:42:05.966655Z",
     "iopub.status.idle": "2023-06-22T13:42:05.977997Z",
     "shell.execute_reply": "2023-06-22T13:42:05.976977Z",
     "shell.execute_reply.started": "2023-06-22T13:42:05.966655Z"
    },
    "id": "pcjLN7goMyWH"
   },
   "outputs": [
    {
     "data": {
      "text/plain": [
       "Index(['id', 'sex', 'age (months)', 'dlmo time', 'days napped', 'napping',\n",
       "       'nap lights outl time', 'nap sleep onset', 'nap midsleep',\n",
       "       'nap sleep offset', 'nap wake time', 'nap duration', 'nap time in bed',\n",
       "       'night bedtime', 'night sleep onset', 'sleep onset latency',\n",
       "       'night midsleep time', 'night wake time', 'night sleep duration',\n",
       "       'night time in bed', '24 h sleep duration', 'bedtime phase difference',\n",
       "       'sleep onset phase difference', 'midsleep phase difference',\n",
       "       'wake time phase difference'],\n",
       "      dtype='object')"
      ]
     },
     "execution_count": 16,
     "metadata": {},
     "output_type": "execute_result"
    }
   ],
   "source": [
    "# First, look at the DataFrame to get a sense of the data\n",
    "df.columns"
   ]
  },
  {
   "cell_type": "markdown",
   "metadata": {
    "colab_type": "text",
    "id": "38Oy8dWVMyWM"
   },
   "source": [
    "**Question**: What value is used in the column 'napping' to indicate a toddler takes a nap? (see reference article)  \n",
    "**Question**: What is the overall sample size $n$? What is the sample size for toddlers who nap, $n_1$, and toddlers who don't nap, $n_2$?"
   ]
  },
  {
   "cell_type": "code",
   "execution_count": 5,
   "metadata": {
    "execution": {
     "iopub.execute_input": "2023-06-22T13:33:47.822774Z",
     "iopub.status.busy": "2023-06-22T13:33:47.822774Z",
     "iopub.status.idle": "2023-06-22T13:33:47.867207Z",
     "shell.execute_reply": "2023-06-22T13:33:47.867207Z",
     "shell.execute_reply.started": "2023-06-22T13:33:47.822774Z"
    }
   },
   "outputs": [
    {
     "data": {
      "text/html": [
       "<div>\n",
       "<style scoped>\n",
       "    .dataframe tbody tr th:only-of-type {\n",
       "        vertical-align: middle;\n",
       "    }\n",
       "\n",
       "    .dataframe tbody tr th {\n",
       "        vertical-align: top;\n",
       "    }\n",
       "\n",
       "    .dataframe thead th {\n",
       "        text-align: right;\n",
       "    }\n",
       "</style>\n",
       "<table border=\"1\" class=\"dataframe\">\n",
       "  <thead>\n",
       "    <tr style=\"text-align: right;\">\n",
       "      <th></th>\n",
       "      <th>napping</th>\n",
       "      <th>nap duration</th>\n",
       "    </tr>\n",
       "  </thead>\n",
       "  <tbody>\n",
       "    <tr>\n",
       "      <th>0</th>\n",
       "      <td>0</td>\n",
       "      <td>NaN</td>\n",
       "    </tr>\n",
       "    <tr>\n",
       "      <th>1</th>\n",
       "      <td>0</td>\n",
       "      <td>NaN</td>\n",
       "    </tr>\n",
       "    <tr>\n",
       "      <th>2</th>\n",
       "      <td>0</td>\n",
       "      <td>NaN</td>\n",
       "    </tr>\n",
       "    <tr>\n",
       "      <th>3</th>\n",
       "      <td>0</td>\n",
       "      <td>NaN</td>\n",
       "    </tr>\n",
       "    <tr>\n",
       "      <th>4</th>\n",
       "      <td>0</td>\n",
       "      <td>NaN</td>\n",
       "    </tr>\n",
       "    <tr>\n",
       "      <th>5</th>\n",
       "      <td>1</td>\n",
       "      <td>93.75</td>\n",
       "    </tr>\n",
       "    <tr>\n",
       "      <th>6</th>\n",
       "      <td>1</td>\n",
       "      <td>106.00</td>\n",
       "    </tr>\n",
       "    <tr>\n",
       "      <th>7</th>\n",
       "      <td>1</td>\n",
       "      <td>121.60</td>\n",
       "    </tr>\n",
       "    <tr>\n",
       "      <th>8</th>\n",
       "      <td>1</td>\n",
       "      <td>155.50</td>\n",
       "    </tr>\n",
       "    <tr>\n",
       "      <th>9</th>\n",
       "      <td>1</td>\n",
       "      <td>106.67</td>\n",
       "    </tr>\n",
       "    <tr>\n",
       "      <th>10</th>\n",
       "      <td>1</td>\n",
       "      <td>98.75</td>\n",
       "    </tr>\n",
       "    <tr>\n",
       "      <th>11</th>\n",
       "      <td>1</td>\n",
       "      <td>105.80</td>\n",
       "    </tr>\n",
       "    <tr>\n",
       "      <th>12</th>\n",
       "      <td>1</td>\n",
       "      <td>93.33</td>\n",
       "    </tr>\n",
       "    <tr>\n",
       "      <th>13</th>\n",
       "      <td>1</td>\n",
       "      <td>100.75</td>\n",
       "    </tr>\n",
       "    <tr>\n",
       "      <th>14</th>\n",
       "      <td>1</td>\n",
       "      <td>110.75</td>\n",
       "    </tr>\n",
       "    <tr>\n",
       "      <th>15</th>\n",
       "      <td>1</td>\n",
       "      <td>117.33</td>\n",
       "    </tr>\n",
       "    <tr>\n",
       "      <th>16</th>\n",
       "      <td>1</td>\n",
       "      <td>74.20</td>\n",
       "    </tr>\n",
       "    <tr>\n",
       "      <th>17</th>\n",
       "      <td>1</td>\n",
       "      <td>89.80</td>\n",
       "    </tr>\n",
       "    <tr>\n",
       "      <th>18</th>\n",
       "      <td>1</td>\n",
       "      <td>73.00</td>\n",
       "    </tr>\n",
       "    <tr>\n",
       "      <th>19</th>\n",
       "      <td>1</td>\n",
       "      <td>91.67</td>\n",
       "    </tr>\n",
       "  </tbody>\n",
       "</table>\n",
       "</div>"
      ],
      "text/plain": [
       "    napping  nap duration\n",
       "0         0           NaN\n",
       "1         0           NaN\n",
       "2         0           NaN\n",
       "3         0           NaN\n",
       "4         0           NaN\n",
       "5         1         93.75\n",
       "6         1        106.00\n",
       "7         1        121.60\n",
       "8         1        155.50\n",
       "9         1        106.67\n",
       "10        1         98.75\n",
       "11        1        105.80\n",
       "12        1         93.33\n",
       "13        1        100.75\n",
       "14        1        110.75\n",
       "15        1        117.33\n",
       "16        1         74.20\n",
       "17        1         89.80\n",
       "18        1         73.00\n",
       "19        1         91.67"
      ]
     },
     "execution_count": 5,
     "metadata": {},
     "output_type": "execute_result"
    }
   ],
   "source": [
    "df.loc[:, [\"napping\", \"nap duration\"]]"
   ]
  },
  {
   "cell_type": "code",
   "execution_count": 6,
   "metadata": {
    "execution": {
     "iopub.execute_input": "2023-06-22T13:35:17.144599Z",
     "iopub.status.busy": "2023-06-22T13:35:17.144599Z",
     "iopub.status.idle": "2023-06-22T13:35:17.150069Z",
     "shell.execute_reply": "2023-06-22T13:35:17.150069Z",
     "shell.execute_reply.started": "2023-06-22T13:35:17.144599Z"
    }
   },
   "outputs": [
    {
     "data": {
      "text/plain": [
       "(20, 25)"
      ]
     },
     "execution_count": 6,
     "metadata": {},
     "output_type": "execute_result"
    }
   ],
   "source": [
    "df.shape"
   ]
  },
  {
   "cell_type": "code",
   "execution_count": 9,
   "metadata": {
    "execution": {
     "iopub.execute_input": "2023-06-22T13:35:40.658993Z",
     "iopub.status.busy": "2023-06-22T13:35:40.658993Z",
     "iopub.status.idle": "2023-06-22T13:35:40.667571Z",
     "shell.execute_reply": "2023-06-22T13:35:40.667571Z",
     "shell.execute_reply.started": "2023-06-22T13:35:40.658993Z"
    }
   },
   "outputs": [
    {
     "data": {
      "text/plain": [
       "5"
      ]
     },
     "execution_count": 9,
     "metadata": {},
     "output_type": "execute_result"
    }
   ],
   "source": [
    "(df.napping == 0).sum()"
   ]
  },
  {
   "cell_type": "code",
   "execution_count": 10,
   "metadata": {
    "execution": {
     "iopub.execute_input": "2023-06-22T13:35:45.988949Z",
     "iopub.status.busy": "2023-06-22T13:35:45.988949Z",
     "iopub.status.idle": "2023-06-22T13:35:45.996861Z",
     "shell.execute_reply": "2023-06-22T13:35:45.996861Z",
     "shell.execute_reply.started": "2023-06-22T13:35:45.988949Z"
    }
   },
   "outputs": [
    {
     "data": {
      "text/plain": [
       "15"
      ]
     },
     "execution_count": 10,
     "metadata": {},
     "output_type": "execute_result"
    }
   ],
   "source": [
    "(df.napping == 1).sum()"
   ]
  },
  {
   "cell_type": "code",
   "execution_count": 36,
   "metadata": {
    "execution": {
     "iopub.execute_input": "2023-06-22T13:57:03.085253Z",
     "iopub.status.busy": "2023-06-22T13:57:03.085253Z",
     "iopub.status.idle": "2023-06-22T13:57:03.093105Z",
     "shell.execute_reply": "2023-06-22T13:57:03.093105Z",
     "shell.execute_reply.started": "2023-06-22T13:57:03.085253Z"
    }
   },
   "outputs": [
    {
     "data": {
      "text/plain": [
       "1.7613101357748562"
      ]
     },
     "execution_count": 36,
     "metadata": {},
     "output_type": "execute_result"
    }
   ],
   "source": [
    "t.ppf(0.95, df = 14)"
   ]
  },
  {
   "cell_type": "code",
   "execution_count": 37,
   "metadata": {
    "execution": {
     "iopub.execute_input": "2023-06-22T13:57:03.461923Z",
     "iopub.status.busy": "2023-06-22T13:57:03.461923Z",
     "iopub.status.idle": "2023-06-22T13:57:03.476526Z",
     "shell.execute_reply": "2023-06-22T13:57:03.475919Z",
     "shell.execute_reply.started": "2023-06-22T13:57:03.461923Z"
    }
   },
   "outputs": [
    {
     "data": {
      "text/plain": [
       "2.13184678133629"
      ]
     },
     "execution_count": 37,
     "metadata": {},
     "output_type": "execute_result"
    }
   ],
   "source": [
    "t.ppf(0.95, df = 4)"
   ]
  },
  {
   "cell_type": "code",
   "execution_count": null,
   "metadata": {},
   "outputs": [],
   "source": []
  },
  {
   "cell_type": "code",
   "execution_count": 18,
   "metadata": {
    "execution": {
     "iopub.execute_input": "2023-06-22T13:43:28.313846Z",
     "iopub.status.busy": "2023-06-22T13:43:28.313846Z",
     "iopub.status.idle": "2023-06-22T13:43:28.357036Z",
     "shell.execute_reply": "2023-06-22T13:43:28.357036Z",
     "shell.execute_reply.started": "2023-06-22T13:43:28.313846Z"
    }
   },
   "outputs": [
    {
     "data": {
      "text/html": [
       "<div>\n",
       "<style scoped>\n",
       "    .dataframe tbody tr th:only-of-type {\n",
       "        vertical-align: middle;\n",
       "    }\n",
       "\n",
       "    .dataframe tbody tr th {\n",
       "        vertical-align: top;\n",
       "    }\n",
       "\n",
       "    .dataframe thead th {\n",
       "        text-align: right;\n",
       "    }\n",
       "</style>\n",
       "<table border=\"1\" class=\"dataframe\">\n",
       "  <thead>\n",
       "    <tr style=\"text-align: right;\">\n",
       "      <th></th>\n",
       "      <th>night bedtime</th>\n",
       "    </tr>\n",
       "    <tr>\n",
       "      <th>napping</th>\n",
       "      <th></th>\n",
       "    </tr>\n",
       "  </thead>\n",
       "  <tbody>\n",
       "    <tr>\n",
       "      <th>0</th>\n",
       "      <td>19.590</td>\n",
       "    </tr>\n",
       "    <tr>\n",
       "      <th>1</th>\n",
       "      <td>20.304</td>\n",
       "    </tr>\n",
       "  </tbody>\n",
       "</table>\n",
       "</div>"
      ],
      "text/plain": [
       "         night bedtime\n",
       "napping               \n",
       "0               19.590\n",
       "1               20.304"
      ]
     },
     "execution_count": 18,
     "metadata": {},
     "output_type": "execute_result"
    }
   ],
   "source": [
    "# Mean bedtime for napping and non-napping toddlers.\n",
    "\n",
    "df.loc[:, [\"napping\", \"night bedtime\"]].groupby(\"napping\").mean()"
   ]
  },
  {
   "cell_type": "code",
   "execution_count": 20,
   "metadata": {
    "execution": {
     "iopub.execute_input": "2023-06-22T13:45:48.432199Z",
     "iopub.status.busy": "2023-06-22T13:45:48.432199Z",
     "iopub.status.idle": "2023-06-22T13:45:48.445952Z",
     "shell.execute_reply": "2023-06-22T13:45:48.445952Z",
     "shell.execute_reply.started": "2023-06-22T13:45:48.432199Z"
    }
   },
   "outputs": [
    {
     "data": {
      "text/plain": [
       "20.304"
      ]
     },
     "execution_count": 20,
     "metadata": {},
     "output_type": "execute_result"
    }
   ],
   "source": [
    "# sample mean bedtimes => best estimates\n",
    "\n",
    "bedtime_mean_nap = df.loc[:, \"night bedtime\"][df.napping == 1].mean()\n",
    "bedtime_mean_nap"
   ]
  },
  {
   "cell_type": "code",
   "execution_count": 21,
   "metadata": {
    "execution": {
     "iopub.execute_input": "2023-06-22T13:46:04.936760Z",
     "iopub.status.busy": "2023-06-22T13:46:04.936760Z",
     "iopub.status.idle": "2023-06-22T13:46:04.950650Z",
     "shell.execute_reply": "2023-06-22T13:46:04.950650Z",
     "shell.execute_reply.started": "2023-06-22T13:46:04.936760Z"
    }
   },
   "outputs": [
    {
     "data": {
      "text/plain": [
       "19.590000000000003"
      ]
     },
     "execution_count": 21,
     "metadata": {},
     "output_type": "execute_result"
    }
   ],
   "source": [
    "bedtime_mean_nonnap = df.loc[:, \"night bedtime\"][df.napping == 0].mean()\n",
    "bedtime_mean_nonnap"
   ]
  },
  {
   "cell_type": "code",
   "execution_count": null,
   "metadata": {},
   "outputs": [],
   "source": []
  },
  {
   "cell_type": "code",
   "execution_count": 23,
   "metadata": {
    "execution": {
     "iopub.execute_input": "2023-06-22T13:47:46.829912Z",
     "iopub.status.busy": "2023-06-22T13:47:46.829912Z",
     "iopub.status.idle": "2023-06-22T13:47:46.871231Z",
     "shell.execute_reply": "2023-06-22T13:47:46.871231Z",
     "shell.execute_reply.started": "2023-06-22T13:47:46.829912Z"
    }
   },
   "outputs": [
    {
     "data": {
      "text/plain": [
       "napping\n",
       "1    15\n",
       "0     5\n",
       "Name: count, dtype: int64"
      ]
     },
     "execution_count": 23,
     "metadata": {},
     "output_type": "execute_result"
    }
   ],
   "source": [
    "df.napping.value_counts()"
   ]
  },
  {
   "cell_type": "code",
   "execution_count": 38,
   "metadata": {
    "execution": {
     "iopub.execute_input": "2023-06-22T14:16:13.053082Z",
     "iopub.status.busy": "2023-06-22T14:16:13.053082Z",
     "iopub.status.idle": "2023-06-22T14:16:13.059787Z",
     "shell.execute_reply": "2023-06-22T14:16:13.059787Z",
     "shell.execute_reply.started": "2023-06-22T14:16:13.053082Z"
    }
   },
   "outputs": [],
   "source": [
    "# The first argument t t.ppf() is the probability\n",
    "# that x % of density of the t distribution lying in the range of -t* and +t*\n",
    "# e.g. for a 95% confidence interval, the probability will be the probability of 95% of the density of t distribution lying in the range \n",
    "# between -t* and +t*"
   ]
  },
  {
   "cell_type": "code",
   "execution_count": null,
   "metadata": {},
   "outputs": [],
   "source": [
    "# Since t distribution is a symmetric distribution (normal), the probability can be calculated as follows,\n",
    "# that allows us to leverage CLT, where prob = 1 - {(1 - alpha) / 2}\n",
    "# P(-t* < x < t*) = 0.95\n",
    "# find t* ?"
   ]
  },
  {
   "cell_type": "code",
   "execution_count": 41,
   "metadata": {
    "execution": {
     "iopub.execute_input": "2023-06-22T14:23:15.739990Z",
     "iopub.status.busy": "2023-06-22T14:23:15.739990Z",
     "iopub.status.idle": "2023-06-22T14:23:15.751601Z",
     "shell.execute_reply": "2023-06-22T14:23:15.751601Z",
     "shell.execute_reply.started": "2023-06-22T14:23:15.739990Z"
    }
   },
   "outputs": [
    {
     "data": {
      "text/plain": [
       "0.975"
      ]
     },
     "execution_count": 41,
     "metadata": {},
     "output_type": "execute_result"
    }
   ],
   "source": [
    "# prob = 1 - (alpha / 2), for a 95% confidence interval, significance alpha = 0.05\n",
    "# prob = 1 - (alpha / 2) is also equivalent to prob = 1 - ((1 - confidence) / 2) because significance = 1 - confidence.\n",
    "\n",
    "prob = 1 - (0.05 / 2)\n",
    "prob"
   ]
  },
  {
   "cell_type": "code",
   "execution_count": null,
   "metadata": {},
   "outputs": [],
   "source": [
    "# IT IS IMPORTANT TO NOTE THAT THE PROBABILITY OF THE DENSITY OF T DISTRIBUTION FALLING INTO A RANGE IS NOT NECESSARILY EQUAL TO THE \n",
    "# CONFIDENCE VALUE!\n",
    "# .95 != .975"
   ]
  },
  {
   "cell_type": "code",
   "execution_count": 45,
   "metadata": {
    "execution": {
     "iopub.execute_input": "2023-06-22T14:27:34.660279Z",
     "iopub.status.busy": "2023-06-22T14:27:34.660279Z",
     "iopub.status.idle": "2023-06-22T14:27:34.680324Z",
     "shell.execute_reply": "2023-06-22T14:27:34.680324Z",
     "shell.execute_reply.started": "2023-06-22T14:27:34.660279Z"
    }
   },
   "outputs": [
    {
     "name": "stdout",
     "output_type": "stream",
     "text": [
      "t* Napping: 2.1447866879169273\n",
      "t* Non-napping: 2.7764451051977987\n",
      "\n",
      "Confidence interval for napping toddlers: (19.976680775477412, 20.631319224522585)\n",
      "Confidence interval for non-napping toddlers: (18.95974084563192, 20.220259154368087)\n"
     ]
    }
   ],
   "source": [
    "tstar_nap = t.ppf(prob, df = 14)\n",
    "stderr_nap = df.loc[:, \"night bedtime\"][df.napping == 1].std() / np.sqrt(df.loc[:, \"night bedtime\"][df.napping == 1].size)\n",
    "moerr_nap = tstar_nap * stderr_nap\n",
    "cint_nap = (bedtime_mean_nap - moerr_nap, bedtime_mean_nap + moerr_nap)\n",
    "\n",
    "tstar_nonnap = t.ppf(prob, df = 4)\n",
    "stderr_nonnap = df.loc[:, \"night bedtime\"][df.napping == 0].std() / np.sqrt(df.loc[:, \"night bedtime\"][df.napping == 0].size)\n",
    "moerr_nonnap = tstar_nonnap * stderr_nonnap\n",
    "cint_nonnap = (bedtime_mean_nonnap - moerr_nonnap, bedtime_mean_nonnap + moerr_nonnap)\n",
    "\n",
    "print(f\"t* Napping: {tstar_nap}\")\n",
    "print(f\"t* Non-napping: {tstar_nonnap}\")\n",
    "print()\n",
    "\n",
    "print(f\"Confidence interval for napping toddlers: {cint_nap}\")\n",
    "print(f\"Confidence interval for non-napping toddlers: {cint_nonnap}\")"
   ]
  },
  {
   "cell_type": "code",
   "execution_count": null,
   "metadata": {},
   "outputs": [],
   "source": []
  },
  {
   "cell_type": "markdown",
   "metadata": {
    "colab_type": "text",
    "id": "2sPjUew6MyWN"
   },
   "source": [
    "### Average bedtime confidence interval for napping and non napping toddlers\n",
    "Create two 95% confidence intervals for the average bedtime, one for toddler who nap and one for toddlers who don't."
   ]
  },
  {
   "cell_type": "markdown",
   "metadata": {
    "colab_type": "text",
    "id": "u4kYFl3OMyWR"
   },
   "source": [
    "First, isolate the column 'night bedtime' for those who nap into a new variable, and those who didn't nap into another new variable. "
   ]
  },
  {
   "cell_type": "code",
   "execution_count": null,
   "metadata": {
    "colab": {},
    "colab_type": "code",
    "id": "umYCPgifMyWT"
   },
   "outputs": [],
   "source": [
    "bedtime_nap = "
   ]
  },
  {
   "cell_type": "code",
   "execution_count": null,
   "metadata": {
    "colab": {},
    "colab_type": "code",
    "id": "Jgv1CweOMyWU"
   },
   "outputs": [],
   "source": [
    "bedtime_no_nap = "
   ]
  },
  {
   "cell_type": "markdown",
   "metadata": {
    "colab_type": "text",
    "id": "w7D04IiqMyWX"
   },
   "source": [
    "Now find the sample mean bedtime for nap and no_nap."
   ]
  },
  {
   "cell_type": "code",
   "execution_count": null,
   "metadata": {
    "colab": {},
    "colab_type": "code",
    "id": "ukpOHZk9MyWZ"
   },
   "outputs": [],
   "source": [
    "nap_mean_bedtime = "
   ]
  },
  {
   "cell_type": "code",
   "execution_count": null,
   "metadata": {
    "colab": {},
    "colab_type": "code",
    "id": "S16eWcwrMyWc"
   },
   "outputs": [],
   "source": [
    "no_nap_mean_bedtime = "
   ]
  },
  {
   "cell_type": "markdown",
   "metadata": {},
   "source": [
    "Now find the sample standard deviation for $X_{nap}$ and $X_{no\\ nap}$."
   ]
  },
  {
   "cell_type": "code",
   "execution_count": null,
   "metadata": {},
   "outputs": [],
   "source": [
    "# The np.std function can be used to find the standard deviation. The\n",
    "# ddof parameter must be set to 1 to get the sample standard deviation.\n",
    "# If it is not, you will be using the population standard deviation which\n",
    "# is not the correct estimator\n",
    "nap_s_bedtime = "
   ]
  },
  {
   "cell_type": "code",
   "execution_count": null,
   "metadata": {},
   "outputs": [],
   "source": [
    "no_nap_s_bedtime = "
   ]
  },
  {
   "cell_type": "markdown",
   "metadata": {
    "colab_type": "text",
    "id": "Gsyq63z9MyWf"
   },
   "source": [
    "Now find the standard error for $\\bar{X}_{nap}$ and $\\bar{X}_{no\\ nap}$."
   ]
  },
  {
   "cell_type": "code",
   "execution_count": null,
   "metadata": {
    "colab": {},
    "colab_type": "code",
    "id": "CRkxL29UMyWg"
   },
   "outputs": [],
   "source": [
    "nap_se_mean_bedtime = "
   ]
  },
  {
   "cell_type": "code",
   "execution_count": null,
   "metadata": {
    "colab": {},
    "colab_type": "code",
    "id": "mMaluR9uMyWj"
   },
   "outputs": [],
   "source": [
    "no_nap_se_mean_bedtime = "
   ]
  },
  {
   "cell_type": "markdown",
   "metadata": {
    "colab_type": "text",
    "id": "RaMARY4aMyWl"
   },
   "source": [
    "**Question**: Given our sample sizes of $n_1$ and $n_2$ for napping and non napping toddlers respectively, how many degrees of freedom ($df$) are there for the associated $t$ distributions?"
   ]
  },
  {
   "cell_type": "markdown",
   "metadata": {
    "colab_type": "text",
    "id": "7MLtPm0LMyWm"
   },
   "source": [
    "To build a 95% confidence interval, what is the value of t\\*?  You can find this value using the percent point function (PPF): \n",
    "```\n",
    "from scipy.stats import t\n",
    "\n",
    "t.ppf(probability, df)\n",
    "```\n",
    "This will return the quantile value such that to the left of this value, the tail probabiliy is equal to the input probabiliy (for the specified degrees of freedom). "
   ]
  },
  {
   "cell_type": "markdown",
   "metadata": {
    "colab_type": "text",
    "id": "oTOR6oRFMyWm"
   },
   "source": [
    "Example: to find the $t^*$ for a 90% confidence interval, we want $t^*$ such that 90% of the density of the $t$ distribution lies between $-t^*$ and $t^*$.\n",
    "\n",
    "Or in other words if $X \\sim t(df)$:\n",
    "\n",
    "P($-t^*$ < X < $t^*$) = .90\n",
    "\n",
    "Which, because the $t$ distribution is symmetric, is equivalent to finding $t^*$ such that:  \n",
    "\n",
    "P(X < $t^*$) = .95\n",
    "\n",
    "(0.95 = 1 - (1 - confidence) / 2 = 1 - 0.1 / 2 = 1 - 0.05)\n",
    "\n",
    "So the $t^*$ for a 90% confidence interval, and lets say df=10, will be:\n",
    "\n",
    "t_star = t.ppf(.95, df=10)\n"
   ]
  },
  {
   "cell_type": "code",
   "execution_count": null,
   "metadata": {
    "colab": {},
    "colab_type": "code",
    "id": "swHZqQ9LMyWo"
   },
   "outputs": [],
   "source": [
    "# Find the t_stars for the 95% confidence intervals\n",
    "nap_t_star = "
   ]
  },
  {
   "cell_type": "code",
   "execution_count": null,
   "metadata": {
    "colab": {},
    "colab_type": "code",
    "id": "ZwKnTJbPMyWq"
   },
   "outputs": [],
   "source": [
    "no_nap_t_star = "
   ]
  },
  {
   "cell_type": "markdown",
   "metadata": {
    "colab_type": "text",
    "id": "AnhhDXMbMyWs"
   },
   "source": [
    "**Quesion**: What is $t^*$ for nap and no nap?"
   ]
  },
  {
   "cell_type": "markdown",
   "metadata": {
    "colab_type": "text",
    "id": "WeTPNMzRMyWt"
   },
   "source": [
    "Now to create our confidence intervals. For the average bedtime for nap and no nap, find the upper and lower bounds for the respective 95% confidence intervals."
   ]
  },
  {
   "cell_type": "code",
   "execution_count": null,
   "metadata": {
    "colab": {},
    "colab_type": "code",
    "id": "k3iNowvfMyWv"
   },
   "outputs": [],
   "source": []
  },
  {
   "cell_type": "markdown",
   "metadata": {
    "colab_type": "text",
    "id": "3skLkWyyMyWy"
   },
   "source": [
    "**Question**: What are the 95% confidence intervals for the average bedtime for toddlers who nap and for toddlers who don't nap? \n",
    "\n",
    "CI = $\\bar{X} \\pm \\ t^* \\cdot s.e.(\\bar{X})$"
   ]
  },
  {
   "cell_type": "code",
   "execution_count": null,
   "metadata": {},
   "outputs": [],
   "source": []
  }
 ],
 "metadata": {
  "colab": {
   "collapsed_sections": [],
   "name": "Confidence intervals assessment.ipynb",
   "provenance": [],
   "version": "0.3.2"
  },
  "kernelspec": {
   "display_name": "Python 3 (ipykernel)",
   "language": "python",
   "name": "python3"
  },
  "language_info": {
   "codemirror_mode": {
    "name": "ipython",
    "version": 3
   },
   "file_extension": ".py",
   "mimetype": "text/x-python",
   "name": "python",
   "nbconvert_exporter": "python",
   "pygments_lexer": "ipython3",
   "version": "3.11.4"
  }
 },
 "nbformat": 4,
 "nbformat_minor": 4
}
