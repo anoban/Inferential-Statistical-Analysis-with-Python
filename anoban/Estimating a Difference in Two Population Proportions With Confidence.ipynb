{
 "cells": [
  {
   "cell_type": "code",
   "execution_count": 13,
   "id": "fa2077de-1f22-4c24-b75c-7ec4e718889e",
   "metadata": {
    "execution": {
     "iopub.execute_input": "2023-06-08T14:17:20.158244Z",
     "iopub.status.busy": "2023-06-08T14:17:20.158244Z",
     "iopub.status.idle": "2023-06-08T14:17:20.172847Z",
     "shell.execute_reply": "2023-06-08T14:17:20.172756Z",
     "shell.execute_reply.started": "2023-06-08T14:17:20.158244Z"
    }
   },
   "outputs": [],
   "source": [
    "import numpy as np\n",
    "np.random.seed(2023 - 6 - 8)\n",
    "import pandas as pd"
   ]
  },
  {
   "cell_type": "markdown",
   "id": "431b3610-0cb1-4514-8b7e-1e9bf454f27a",
   "metadata": {},
   "source": [
    "# ___Estimating a Difference in Two Population Proportions With Confidence___\n",
    "------------------"
   ]
  },
  {
   "cell_type": "code",
   "execution_count": 44,
   "id": "8166995c-f95f-4348-83da-0ba9b9bc7412",
   "metadata": {
    "execution": {
     "iopub.execute_input": "2023-06-08T14:32:45.339305Z",
     "iopub.status.busy": "2023-06-08T14:32:45.339305Z",
     "iopub.status.idle": "2023-06-08T14:32:45.387051Z",
     "shell.execute_reply": "2023-06-08T14:32:45.385964Z",
     "shell.execute_reply.started": "2023-06-08T14:32:45.339305Z"
    }
   },
   "outputs": [],
   "source": [
    "population_1 = np.random.randint(low = 0, high = 20, size = 1_000_000)\n",
    "population_2 = np.random.choice(a = [1, 3, 5, 7, 9, 2, 4, 6, 11, 13, 15], size = population_1.size)"
   ]
  },
  {
   "cell_type": "code",
   "execution_count": null,
   "id": "e7eb498e-7d7a-4e19-a931-08f339005c15",
   "metadata": {},
   "outputs": [],
   "source": []
  },
  {
   "cell_type": "markdown",
   "id": "5bd36fc0-1387-4f39-bf63-80a181995b74",
   "metadata": {},
   "source": [
    "# ___Q: What is the difference in population proportions of odd numbers and even numbers in the two populations?___"
   ]
  },
  {
   "cell_type": "code",
   "execution_count": 45,
   "id": "f6a8c344-be59-4eab-869c-3233178e38e4",
   "metadata": {
    "execution": {
     "iopub.execute_input": "2023-06-08T14:32:46.360024Z",
     "iopub.status.busy": "2023-06-08T14:32:46.360024Z",
     "iopub.status.idle": "2023-06-08T14:32:46.373310Z",
     "shell.execute_reply": "2023-06-08T14:32:46.373310Z",
     "shell.execute_reply.started": "2023-06-08T14:32:46.360024Z"
    }
   },
   "outputs": [
    {
     "data": {
      "text/plain": [
       "0.500802"
      ]
     },
     "execution_count": 45,
     "metadata": {},
     "output_type": "execute_result"
    }
   ],
   "source": [
    "# Odd numbers in population 1\n",
    "\n",
    "(population_1 % 2).sum() / population_1.size"
   ]
  },
  {
   "cell_type": "code",
   "execution_count": 46,
   "id": "13d5549f-93e7-4be5-a2d9-308395edbb78",
   "metadata": {
    "execution": {
     "iopub.execute_input": "2023-06-08T14:32:47.053048Z",
     "iopub.status.busy": "2023-06-08T14:32:47.053048Z",
     "iopub.status.idle": "2023-06-08T14:32:47.071946Z",
     "shell.execute_reply": "2023-06-08T14:32:47.070932Z",
     "shell.execute_reply.started": "2023-06-08T14:32:47.053048Z"
    }
   },
   "outputs": [
    {
     "data": {
      "text/plain": [
       "0.726815"
      ]
     },
     "execution_count": 46,
     "metadata": {},
     "output_type": "execute_result"
    }
   ],
   "source": [
    "# Odd numbers in population 2\n",
    "\n",
    "(population_2 % 2).sum() / population_2.size"
   ]
  },
  {
   "cell_type": "code",
   "execution_count": null,
   "id": "5f1389a7-d6d5-4041-809c-10d6dc837dbb",
   "metadata": {},
   "outputs": [],
   "source": []
  }
 ],
 "metadata": {
  "kernelspec": {
   "display_name": "Python 3 (ipykernel)",
   "language": "python",
   "name": "python3"
  },
  "language_info": {
   "codemirror_mode": {
    "name": "ipython",
    "version": 3
   },
   "file_extension": ".py",
   "mimetype": "text/x-python",
   "name": "python",
   "nbconvert_exporter": "python",
   "pygments_lexer": "ipython3",
   "version": "3.11.3"
  }
 },
 "nbformat": 4,
 "nbformat_minor": 5
}
