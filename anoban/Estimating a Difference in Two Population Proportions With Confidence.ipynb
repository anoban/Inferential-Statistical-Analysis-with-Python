{
 "cells": [
  {
   "cell_type": "code",
   "execution_count": 1,
   "id": "fa2077de-1f22-4c24-b75c-7ec4e718889e",
   "metadata": {
    "execution": {
     "iopub.execute_input": "2023-06-07T13:23:21.727875Z",
     "iopub.status.busy": "2023-06-07T13:23:21.727875Z",
     "iopub.status.idle": "2023-06-07T13:23:22.889601Z",
     "shell.execute_reply": "2023-06-07T13:23:22.889601Z",
     "shell.execute_reply.started": "2023-06-07T13:23:21.727875Z"
    }
   },
   "outputs": [],
   "source": [
    "import numpy as np\n",
    "import pandas as pd"
   ]
  },
  {
   "cell_type": "markdown",
   "id": "431b3610-0cb1-4514-8b7e-1e9bf454f27a",
   "metadata": {},
   "source": [
    "# ___Estimating a Difference in Two Population Proportions With Confidence___\n",
    "------------------"
   ]
  },
  {
   "cell_type": "code",
   "execution_count": null,
   "id": "8166995c-f95f-4348-83da-0ba9b9bc7412",
   "metadata": {},
   "outputs": [],
   "source": []
  },
  {
   "cell_type": "code",
   "execution_count": 2,
   "id": "e7eb498e-7d7a-4e19-a931-08f339005c15",
   "metadata": {
    "execution": {
     "iopub.execute_input": "2023-06-07T13:23:43.735090Z",
     "iopub.status.busy": "2023-06-07T13:23:43.735090Z",
     "iopub.status.idle": "2023-06-07T13:23:43.831793Z",
     "shell.execute_reply": "2023-06-07T13:23:43.831793Z",
     "shell.execute_reply.started": "2023-06-07T13:23:43.735090Z"
    }
   },
   "outputs": [],
   "source": [
    "evdata = pd.read_csv(\"../data/EV_Population_Data.csv\")"
   ]
  },
  {
   "cell_type": "code",
   "execution_count": 4,
   "id": "20bfa3b7-0183-4b0d-a442-c3188abac1d9",
   "metadata": {
    "execution": {
     "iopub.execute_input": "2023-06-07T13:24:12.120582Z",
     "iopub.status.busy": "2023-06-07T13:24:12.120582Z",
     "iopub.status.idle": "2023-06-07T13:24:12.129977Z",
     "shell.execute_reply": "2023-06-07T13:24:12.129977Z",
     "shell.execute_reply.started": "2023-06-07T13:24:12.120582Z"
    }
   },
   "outputs": [
    {
     "data": {
      "text/plain": [
       "(130443, 3)"
      ]
     },
     "execution_count": 4,
     "metadata": {},
     "output_type": "execute_result"
    }
   ],
   "source": [
    "evdata.shape"
   ]
  },
  {
   "cell_type": "code",
   "execution_count": 6,
   "id": "d8fb0ab5-4d9d-472f-a197-27f1a5957e6b",
   "metadata": {
    "execution": {
     "iopub.execute_input": "2023-06-07T13:24:20.923116Z",
     "iopub.status.busy": "2023-06-07T13:24:20.923116Z",
     "iopub.status.idle": "2023-06-07T13:24:20.931524Z",
     "shell.execute_reply": "2023-06-07T13:24:20.931453Z",
     "shell.execute_reply.started": "2023-06-07T13:24:20.923116Z"
    }
   },
   "outputs": [
    {
     "data": {
      "text/plain": [
       "Index(['City', 'State', 'Make'], dtype='object')"
      ]
     },
     "execution_count": 6,
     "metadata": {},
     "output_type": "execute_result"
    }
   ],
   "source": [
    "evdata.columns"
   ]
  },
  {
   "cell_type": "code",
   "execution_count": 21,
   "id": "a60f0410-03d1-4dfb-92a0-b7e2a0e001e5",
   "metadata": {
    "execution": {
     "iopub.execute_input": "2023-06-07T13:30:48.584125Z",
     "iopub.status.busy": "2023-06-07T13:30:48.584125Z",
     "iopub.status.idle": "2023-06-07T13:30:48.634365Z",
     "shell.execute_reply": "2023-06-07T13:30:48.634365Z",
     "shell.execute_reply.started": "2023-06-07T13:30:48.584125Z"
    }
   },
   "outputs": [
    {
     "data": {
      "text/plain": [
       "State\n",
       "WA    130138\n",
       "CA        83\n",
       "VA        35\n",
       "MD        29\n",
       "TX        19\n",
       "CO        11\n",
       "NC        10\n",
       "AZ         9\n",
       "IL         8\n",
       "CT         7\n",
       "NV         7\n",
       "GA         6\n",
       "OR         6\n",
       "NY         6\n",
       "SC         5\n",
       "HI         5\n",
       "NJ         5\n",
       "FL         4\n",
       "LA         4\n",
       "DC         4\n",
       "MA         3\n",
       "NE         3\n",
       "KS         3\n",
       "AR         3\n",
       "MO         2\n",
       "BC         2\n",
       "ID         2\n",
       "OH         2\n",
       "TN         2\n",
       "UT         2\n",
       "PA         2\n",
       "WY         2\n",
       "DE         1\n",
       "MN         1\n",
       "AL         1\n",
       "KY         1\n",
       "NM         1\n",
       "AP         1\n",
       "MS         1\n",
       "WI         1\n",
       "OK         1\n",
       "MI         1\n",
       "NH         1\n",
       "IN         1\n",
       "RI         1\n",
       "AK         1\n",
       "Name: count, dtype: int64"
      ]
     },
     "execution_count": 21,
     "metadata": {},
     "output_type": "execute_result"
    }
   ],
   "source": [
    "evdata.State.value_counts()"
   ]
  },
  {
   "cell_type": "markdown",
   "id": "5bd36fc0-1387-4f39-bf63-80a181995b74",
   "metadata": {},
   "source": [
    "# ___Q: What is the difference in proportions of Tesla owners"
   ]
  }
 ],
 "metadata": {
  "kernelspec": {
   "display_name": "Python 3 (ipykernel)",
   "language": "python",
   "name": "python3"
  },
  "language_info": {
   "codemirror_mode": {
    "name": "ipython",
    "version": 3
   },
   "file_extension": ".py",
   "mimetype": "text/x-python",
   "name": "python",
   "nbconvert_exporter": "python",
   "pygments_lexer": "ipython3",
   "version": "3.11.3"
  }
 },
 "nbformat": 4,
 "nbformat_minor": 5
}
