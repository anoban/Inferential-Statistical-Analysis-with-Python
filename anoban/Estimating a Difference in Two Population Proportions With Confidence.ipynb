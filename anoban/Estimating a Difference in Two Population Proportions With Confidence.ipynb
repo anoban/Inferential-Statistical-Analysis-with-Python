{
 "cells": [
  {
   "cell_type": "code",
   "execution_count": 13,
   "id": "fa2077de-1f22-4c24-b75c-7ec4e718889e",
   "metadata": {
    "execution": {
     "iopub.execute_input": "2023-06-08T14:17:20.158244Z",
     "iopub.status.busy": "2023-06-08T14:17:20.158244Z",
     "iopub.status.idle": "2023-06-08T14:17:20.172847Z",
     "shell.execute_reply": "2023-06-08T14:17:20.172756Z",
     "shell.execute_reply.started": "2023-06-08T14:17:20.158244Z"
    }
   },
   "outputs": [],
   "source": [
    "import numpy as np\n",
    "np.random.seed(2023 - 6 - 8)\n",
    "import pandas as pd"
   ]
  },
  {
   "cell_type": "markdown",
   "id": "431b3610-0cb1-4514-8b7e-1e9bf454f27a",
   "metadata": {},
   "source": [
    "# ___Estimating a Difference in Two Population Proportions With Confidence___\n",
    "------------------"
   ]
  },
  {
   "cell_type": "code",
   "execution_count": 14,
   "id": "8166995c-f95f-4348-83da-0ba9b9bc7412",
   "metadata": {
    "execution": {
     "iopub.execute_input": "2023-06-08T14:18:20.630114Z",
     "iopub.status.busy": "2023-06-08T14:18:20.630114Z",
     "iopub.status.idle": "2023-06-08T14:18:20.709720Z",
     "shell.execute_reply": "2023-06-08T14:18:20.709720Z",
     "shell.execute_reply.started": "2023-06-08T14:18:20.630114Z"
    }
   },
   "outputs": [],
   "source": [
    "population_1 = np.random.randint(low = 0, high = 20, size = 1000_000)\n",
    "population_2 = np.random.randint(low = 0, high = 20, size = 1000_000)"
   ]
  },
  {
   "cell_type": "code",
   "execution_count": null,
   "id": "e7eb498e-7d7a-4e19-a931-08f339005c15",
   "metadata": {},
   "outputs": [],
   "source": []
  },
  {
   "cell_type": "markdown",
   "id": "5bd36fc0-1387-4f39-bf63-80a181995b74",
   "metadata": {},
   "source": []
  }
 ],
 "metadata": {
  "kernelspec": {
   "display_name": "Python 3 (ipykernel)",
   "language": "python",
   "name": "python3"
  },
  "language_info": {
   "codemirror_mode": {
    "name": "ipython",
    "version": 3
   },
   "file_extension": ".py",
   "mimetype": "text/x-python",
   "name": "python",
   "nbconvert_exporter": "python",
   "pygments_lexer": "ipython3",
   "version": "3.11.3"
  }
 },
 "nbformat": 4,
 "nbformat_minor": 5
}
