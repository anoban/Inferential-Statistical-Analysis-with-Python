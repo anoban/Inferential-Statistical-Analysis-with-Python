{
 "cells": [
  {
   "cell_type": "code",
   "execution_count": 2,
   "id": "fa2077de-1f22-4c24-b75c-7ec4e718889e",
   "metadata": {
    "execution": {
     "iopub.execute_input": "2023-06-09T22:00:10.639869Z",
     "iopub.status.busy": "2023-06-09T22:00:10.639869Z",
     "iopub.status.idle": "2023-06-09T22:00:11.956457Z",
     "shell.execute_reply": "2023-06-09T22:00:11.956457Z",
     "shell.execute_reply.started": "2023-06-09T22:00:10.639869Z"
    }
   },
   "outputs": [],
   "source": [
    "import numpy as np\n",
    "np.random.seed(2023 - 6 - 8)\n",
    "import pandas as pd"
   ]
  },
  {
   "cell_type": "markdown",
   "id": "431b3610-0cb1-4514-8b7e-1e9bf454f27a",
   "metadata": {},
   "source": [
    "# ___Estimating a Difference in Two Population Proportions With Confidence___\n",
    "------------------"
   ]
  },
  {
   "cell_type": "code",
   "execution_count": 3,
   "id": "8166995c-f95f-4348-83da-0ba9b9bc7412",
   "metadata": {
    "execution": {
     "iopub.execute_input": "2023-06-09T22:00:11.956457Z",
     "iopub.status.busy": "2023-06-09T22:00:11.956457Z",
     "iopub.status.idle": "2023-06-09T22:00:11.987191Z",
     "shell.execute_reply": "2023-06-09T22:00:11.987191Z",
     "shell.execute_reply.started": "2023-06-09T22:00:11.956457Z"
    }
   },
   "outputs": [],
   "source": [
    "population_1 = np.random.randint(low = 0, high = 20, size = 1_000_000)\n",
    "population_2 = np.random.choice(a = [1, 3, 5, 7, 9, 2, 4, 6, 11, 13, 15], size = population_1.size)"
   ]
  },
  {
   "cell_type": "code",
   "execution_count": null,
   "id": "e7eb498e-7d7a-4e19-a931-08f339005c15",
   "metadata": {},
   "outputs": [],
   "source": []
  },
  {
   "cell_type": "markdown",
   "id": "5bd36fc0-1387-4f39-bf63-80a181995b74",
   "metadata": {},
   "source": [
    "# ___Q: What is the difference in population proportions of odd numbers in the two populations?___"
   ]
  },
  {
   "cell_type": "code",
   "execution_count": 4,
   "id": "f6a8c344-be59-4eab-869c-3233178e38e4",
   "metadata": {
    "execution": {
     "iopub.execute_input": "2023-06-09T22:00:18.409186Z",
     "iopub.status.busy": "2023-06-09T22:00:18.409186Z",
     "iopub.status.idle": "2023-06-09T22:00:18.419986Z",
     "shell.execute_reply": "2023-06-09T22:00:18.419986Z",
     "shell.execute_reply.started": "2023-06-09T22:00:18.409186Z"
    }
   },
   "outputs": [
    {
     "data": {
      "text/plain": [
       "0.50117"
      ]
     },
     "execution_count": 4,
     "metadata": {},
     "output_type": "execute_result"
    }
   ],
   "source": [
    "# Odd numbers in population 1\n",
    "\n",
    "(population_1 % 2).sum() / population_1.size"
   ]
  },
  {
   "cell_type": "code",
   "execution_count": 5,
   "id": "13d5549f-93e7-4be5-a2d9-308395edbb78",
   "metadata": {
    "execution": {
     "iopub.execute_input": "2023-06-09T22:00:19.051799Z",
     "iopub.status.busy": "2023-06-09T22:00:19.051799Z",
     "iopub.status.idle": "2023-06-09T22:00:19.072632Z",
     "shell.execute_reply": "2023-06-09T22:00:19.072533Z",
     "shell.execute_reply.started": "2023-06-09T22:00:19.051799Z"
    }
   },
   "outputs": [
    {
     "data": {
      "text/plain": [
       "0.726999"
      ]
     },
     "execution_count": 5,
     "metadata": {},
     "output_type": "execute_result"
    }
   ],
   "source": [
    "# Odd numbers in population 2\n",
    "\n",
    "(population_2 % 2).sum() / population_2.size"
   ]
  },
  {
   "cell_type": "code",
   "execution_count": 6,
   "id": "5f1389a7-d6d5-4041-809c-10d6dc837dbb",
   "metadata": {
    "execution": {
     "iopub.execute_input": "2023-06-09T22:00:49.251990Z",
     "iopub.status.busy": "2023-06-09T22:00:49.251990Z",
     "iopub.status.idle": "2023-06-09T22:00:49.267678Z",
     "shell.execute_reply": "2023-06-09T22:00:49.267678Z",
     "shell.execute_reply.started": "2023-06-09T22:00:49.251990Z"
    }
   },
   "outputs": [],
   "source": [
    "# The metric we are interested in is =>"
   ]
  },
  {
   "cell_type": "markdown",
   "id": "171c0831-0786-410a-ace1-2e983c93d33b",
   "metadata": {},
   "source": [
    "# ___$P_{odd_{Population~1}} - P_{odd_{Population~2}}$___"
   ]
  },
  {
   "cell_type": "markdown",
   "id": "0e89fb85-209b-4b8e-8ae3-e5d803a03177",
   "metadata": {},
   "source": [
    "## ___Population 1___\n",
    "---------------------"
   ]
  },
  {
   "cell_type": "code",
   "execution_count": 13,
   "id": "6bd15b5d-9779-4b4c-9570-83ae9107fea5",
   "metadata": {
    "execution": {
     "iopub.execute_input": "2023-06-09T22:06:02.871671Z",
     "iopub.status.busy": "2023-06-09T22:06:02.871671Z",
     "iopub.status.idle": "2023-06-09T22:06:02.889721Z",
     "shell.execute_reply": "2023-06-09T22:06:02.888708Z",
     "shell.execute_reply.started": "2023-06-09T22:06:02.871671Z"
    }
   },
   "outputs": [],
   "source": [
    "# Proportion of odd numbers in Population 1, with just one sample.\n",
    "\n",
    "prop_pop_1 = sum(population_1[np.random.randint(0, population_1.size, size = 1000)] % 2) / 1000"
   ]
  },
  {
   "cell_type": "code",
   "execution_count": 15,
   "id": "84112494-045a-4c47-bf3b-8deab87704df",
   "metadata": {
    "execution": {
     "iopub.execute_input": "2023-06-09T22:06:07.214791Z",
     "iopub.status.busy": "2023-06-09T22:06:07.214791Z",
     "iopub.status.idle": "2023-06-09T22:06:07.219439Z",
     "shell.execute_reply": "2023-06-09T22:06:07.219439Z",
     "shell.execute_reply.started": "2023-06-09T22:06:07.214791Z"
    }
   },
   "outputs": [
    {
     "data": {
      "text/plain": [
       "0.518"
      ]
     },
     "execution_count": 15,
     "metadata": {},
     "output_type": "execute_result"
    }
   ],
   "source": [
    "prop_pop_1"
   ]
  },
  {
   "cell_type": "code",
   "execution_count": null,
   "id": "9cee92e2-67f2-4079-9c2b-87f8d26f3703",
   "metadata": {},
   "outputs": [],
   "source": [
    "# Confidence interval = best estimate +- margin of error\n",
    "# MoE = multiplier * standard error"
   ]
  },
  {
   "cell_type": "code",
   "execution_count": 18,
   "id": "62df118c-0e73-4ba8-b526-4102d676d391",
   "metadata": {
    "execution": {
     "iopub.execute_input": "2023-06-09T22:10:18.103530Z",
     "iopub.status.busy": "2023-06-09T22:10:18.103530Z",
     "iopub.status.idle": "2023-06-09T22:10:18.118840Z",
     "shell.execute_reply": "2023-06-09T22:10:18.118840Z",
     "shell.execute_reply.started": "2023-06-09T22:10:18.103530Z"
    }
   },
   "outputs": [
    {
     "data": {
      "text/plain": [
       "0.03097023283089748"
      ]
     },
     "execution_count": 18,
     "metadata": {},
     "output_type": "execute_result"
    }
   ],
   "source": [
    "# 95% confidence interval \n",
    "\n",
    "moerror = 1.96 * np.sqrt(prop_pop_1 * (1 - prop_pop_1) / 1000)\n",
    "moerror"
   ]
  },
  {
   "cell_type": "code",
   "execution_count": 19,
   "id": "74a06c89-2ba7-474b-abef-422a38cb4601",
   "metadata": {
    "execution": {
     "iopub.execute_input": "2023-06-09T22:10:49.228087Z",
     "iopub.status.busy": "2023-06-09T22:10:49.228087Z",
     "iopub.status.idle": "2023-06-09T22:10:49.237157Z",
     "shell.execute_reply": "2023-06-09T22:10:49.237157Z",
     "shell.execute_reply.started": "2023-06-09T22:10:49.228087Z"
    }
   },
   "outputs": [
    {
     "data": {
      "text/plain": [
       "(0.4870297671691025, 0.5489702328308975)"
      ]
     },
     "execution_count": 19,
     "metadata": {},
     "output_type": "execute_result"
    }
   ],
   "source": [
    "# 95% confidence interval for population 1\n",
    "\n",
    "prop_pop_1 - moerror, prop_pop_1 + moerror"
   ]
  },
  {
   "cell_type": "code",
   "execution_count": null,
   "id": "abe41b59-ca2e-4861-8613-15a0fda48c61",
   "metadata": {},
   "outputs": [],
   "source": []
  },
  {
   "cell_type": "code",
   "execution_count": 16,
   "id": "0c292a2d-2900-417e-b00c-72430a5d45c7",
   "metadata": {
    "execution": {
     "iopub.execute_input": "2023-06-09T22:07:21.595280Z",
     "iopub.status.busy": "2023-06-09T22:07:21.595280Z",
     "iopub.status.idle": "2023-06-09T22:07:21.656889Z",
     "shell.execute_reply": "2023-06-09T22:07:21.656889Z",
     "shell.execute_reply.started": "2023-06-09T22:07:21.595280Z"
    }
   },
   "outputs": [],
   "source": [
    "# Proportion of odd numbers in population 2, again with just one sample.\n",
    "\n",
    "prop_pop_2 = (population_2[np.random.randint(0, population_2.size, size = 1000)] % 2).mean()"
   ]
  },
  {
   "cell_type": "code",
   "execution_count": 17,
   "id": "704015f6-cd2f-4c5d-a183-ff7ac627efd6",
   "metadata": {
    "execution": {
     "iopub.execute_input": "2023-06-09T22:07:27.669515Z",
     "iopub.status.busy": "2023-06-09T22:07:27.669515Z",
     "iopub.status.idle": "2023-06-09T22:07:27.677457Z",
     "shell.execute_reply": "2023-06-09T22:07:27.677457Z",
     "shell.execute_reply.started": "2023-06-09T22:07:27.669515Z"
    }
   },
   "outputs": [
    {
     "data": {
      "text/plain": [
       "0.726"
      ]
     },
     "execution_count": 17,
     "metadata": {},
     "output_type": "execute_result"
    }
   ],
   "source": [
    "prop_pop_2"
   ]
  },
  {
   "cell_type": "code",
   "execution_count": 20,
   "id": "bfb6af9f-76b8-4b00-ac4f-c60086ab519d",
   "metadata": {
    "execution": {
     "iopub.execute_input": "2023-06-09T22:14:28.854676Z",
     "iopub.status.busy": "2023-06-09T22:14:28.854676Z",
     "iopub.status.idle": "2023-06-09T22:14:28.870061Z",
     "shell.execute_reply": "2023-06-09T22:14:28.870061Z",
     "shell.execute_reply.started": "2023-06-09T22:14:28.854676Z"
    }
   },
   "outputs": [
    {
     "data": {
      "text/plain": [
       "0.036664680159521366"
      ]
     },
     "execution_count": 20,
     "metadata": {},
     "output_type": "execute_result"
    }
   ],
   "source": [
    "moerror = 1.96 * np.sqrt(prop_pop_2 * (1 - prop_pop_1) / 1000)\n",
    "moerror"
   ]
  },
  {
   "cell_type": "code",
   "execution_count": 22,
   "id": "a4d77df8-768b-490a-9270-561e29e450e4",
   "metadata": {
    "execution": {
     "iopub.execute_input": "2023-06-09T22:15:04.202069Z",
     "iopub.status.busy": "2023-06-09T22:15:04.202069Z",
     "iopub.status.idle": "2023-06-09T22:15:04.214065Z",
     "shell.execute_reply": "2023-06-09T22:15:04.214065Z",
     "shell.execute_reply.started": "2023-06-09T22:15:04.202069Z"
    }
   },
   "outputs": [
    {
     "data": {
      "text/plain": [
       "(0.6893353198404786, 0.7626646801595214)"
      ]
     },
     "execution_count": 22,
     "metadata": {},
     "output_type": "execute_result"
    }
   ],
   "source": [
    "prop_pop_2 - moerror, prop_pop_2 + moerror"
   ]
  },
  {
   "cell_type": "code",
   "execution_count": null,
   "id": "33b6b7bf-9098-439c-84c3-e1caf892583a",
   "metadata": {},
   "outputs": [],
   "source": []
  },
  {
   "cell_type": "markdown",
   "id": "3c07ae6c-c3e0-48ed-9854-c06670570cb8",
   "metadata": {},
   "source": [
    "## ___What about the Margin of Error for the Difference?___\n",
    "---------------------"
   ]
  },
  {
   "cell_type": "code",
   "execution_count": 23,
   "id": "2f5f578d-d3d2-4795-84b7-c9785744466e",
   "metadata": {
    "execution": {
     "iopub.execute_input": "2023-06-09T22:16:14.294246Z",
     "iopub.status.busy": "2023-06-09T22:16:14.294246Z",
     "iopub.status.idle": "2023-06-09T22:16:14.303146Z",
     "shell.execute_reply": "2023-06-09T22:16:14.303056Z",
     "shell.execute_reply.started": "2023-06-09T22:16:14.294246Z"
    }
   },
   "outputs": [
    {
     "data": {
      "text/plain": [
       "0.20799999999999996"
      ]
     },
     "execution_count": 23,
     "metadata": {},
     "output_type": "execute_result"
    }
   ],
   "source": [
    "# The difference is \n",
    "\n",
    "np.absolute(prop_pop_1 - prop_pop_2)"
   ]
  },
  {
   "cell_type": "code",
   "execution_count": 25,
   "id": "b4af97f5-932a-4d4b-98ff-a0af971bfc4e",
   "metadata": {
    "execution": {
     "iopub.execute_input": "2023-06-09T22:18:29.401889Z",
     "iopub.status.busy": "2023-06-09T22:18:29.401889Z",
     "iopub.status.idle": "2023-06-09T22:18:29.420491Z",
     "shell.execute_reply": "2023-06-09T22:18:29.420491Z",
     "shell.execute_reply.started": "2023-06-09T22:18:29.401889Z"
    }
   },
   "outputs": [],
   "source": [
    "# What is the confidence interval for the above difference?\n",
    "# What is the MoE for the above difference?"
   ]
  },
  {
   "cell_type": "markdown",
   "id": "904d9220-7279-49e8-adbb-aa1fc6a724e7",
   "metadata": {},
   "source": [
    "# ___$Confidence~interval=Best~estimate+MoE$___\n",
    "# ___$= (\\bar{x} - \\bar{y}) \\pm \\hat{Z} \\cdot (x_{stderr} - y_{stderr})$___\n",
    "# ___$= (\\bar{x} - \\bar{y}) \\pm 1.96 \\cdot \\sqrt{\\frac{\\bar{x}(1 - \\bar{x})}{n_x} + \\frac{\\bar{y}(1 - \\bar{y})}{n_y}}$___"
   ]
  },
  {
   "cell_type": "code",
   "execution_count": 26,
   "id": "deac9cfb-202b-402d-a798-c9abe02d18af",
   "metadata": {
    "execution": {
     "iopub.execute_input": "2023-06-09T22:33:35.949394Z",
     "iopub.status.busy": "2023-06-09T22:33:35.949394Z",
     "iopub.status.idle": "2023-06-09T22:33:35.957863Z",
     "shell.execute_reply": "2023-06-09T22:33:35.957807Z",
     "shell.execute_reply.started": "2023-06-09T22:33:35.949394Z"
    }
   },
   "outputs": [],
   "source": [
    "# Note that the bar notations are primarily used for means, but here there are used to represent proportions."
   ]
  },
  {
   "cell_type": "code",
   "execution_count": 32,
   "id": "60a05c69-eaea-4fed-bfb1-048fc0eeb23a",
   "metadata": {
    "execution": {
     "iopub.execute_input": "2023-06-09T22:36:09.509324Z",
     "iopub.status.busy": "2023-06-09T22:36:09.509324Z",
     "iopub.status.idle": "2023-06-09T22:36:09.525416Z",
     "shell.execute_reply": "2023-06-09T22:36:09.524877Z",
     "shell.execute_reply.started": "2023-06-09T22:36:09.509324Z"
    }
   },
   "outputs": [
    {
     "data": {
      "text/plain": [
       "0.20799999999999996"
      ]
     },
     "execution_count": 32,
     "metadata": {},
     "output_type": "execute_result"
    }
   ],
   "source": [
    "# best estimate (x_bar - y_bar)\n",
    "\n",
    "best_est = np.absolute(prop_pop_1 - prop_pop_2)\n",
    "best_est"
   ]
  },
  {
   "cell_type": "code",
   "execution_count": 34,
   "id": "4946d31f-0ccb-4b5d-9795-6fe7f9722b1a",
   "metadata": {
    "execution": {
     "iopub.execute_input": "2023-06-09T22:36:30.874569Z",
     "iopub.status.busy": "2023-06-09T22:36:30.874569Z",
     "iopub.status.idle": "2023-06-09T22:36:30.886329Z",
     "shell.execute_reply": "2023-06-09T22:36:30.886329Z",
     "shell.execute_reply.started": "2023-06-09T22:36:30.874569Z"
    }
   },
   "outputs": [
    {
     "data": {
      "text/plain": [
       "0.041513151651012964"
      ]
     },
     "execution_count": 34,
     "metadata": {},
     "output_type": "execute_result"
    }
   ],
   "source": [
    "moerror = 1.96 * np.sqrt((prop_pop_1 * (1 - prop_pop_1) / 1000) + (prop_pop_2 * (1 - prop_pop_2) / 1000))\n",
    "moerror"
   ]
  },
  {
   "cell_type": "code",
   "execution_count": 33,
   "id": "a333e6bd-6a86-4625-8dbc-1f9e1801a5a2",
   "metadata": {
    "execution": {
     "iopub.execute_input": "2023-06-09T22:36:20.650639Z",
     "iopub.status.busy": "2023-06-09T22:36:20.650639Z",
     "iopub.status.idle": "2023-06-09T22:36:20.662682Z",
     "shell.execute_reply": "2023-06-09T22:36:20.662155Z",
     "shell.execute_reply.started": "2023-06-09T22:36:20.650639Z"
    }
   },
   "outputs": [
    {
     "data": {
      "text/plain": [
       "(0.166486848348987, 0.24951315165101293)"
      ]
     },
     "execution_count": 33,
     "metadata": {},
     "output_type": "execute_result"
    }
   ],
   "source": [
    "best_est - moerror, best_est + moerror"
   ]
  },
  {
   "cell_type": "code",
   "execution_count": 35,
   "id": "790c235a-f9fa-40e7-805f-717ea6ffa262",
   "metadata": {
    "execution": {
     "iopub.execute_input": "2023-06-09T22:37:30.202556Z",
     "iopub.status.busy": "2023-06-09T22:37:30.202556Z",
     "iopub.status.idle": "2023-06-09T22:37:30.216167Z",
     "shell.execute_reply": "2023-06-09T22:37:30.216167Z",
     "shell.execute_reply.started": "2023-06-09T22:37:30.202556Z"
    }
   },
   "outputs": [],
   "source": [
    "# So what do we make of this?"
   ]
  },
  {
   "cell_type": "code",
   "execution_count": null,
   "id": "ca991f56-ce9c-4147-8055-366379a4f8cf",
   "metadata": {},
   "outputs": [],
   "source": [
    "# With 95% confidence, the population proportion of odd numbers in Population 2 is 16.64% to 24.95% higher than the population proportion of \n",
    "# odd numbers in Population 1."
   ]
  }
 ],
 "metadata": {
  "kernelspec": {
   "display_name": "Python 3 (ipykernel)",
   "language": "python",
   "name": "python3"
  },
  "language_info": {
   "codemirror_mode": {
    "name": "ipython",
    "version": 3
   },
   "file_extension": ".py",
   "mimetype": "text/x-python",
   "name": "python",
   "nbconvert_exporter": "python",
   "pygments_lexer": "ipython3",
   "version": "3.11.4"
  }
 },
 "nbformat": 4,
 "nbformat_minor": 5
}
