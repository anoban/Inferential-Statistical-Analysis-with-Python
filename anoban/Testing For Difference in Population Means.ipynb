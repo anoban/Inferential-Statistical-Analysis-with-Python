{
 "cells": [
  {
   "cell_type": "code",
   "execution_count": 2,
   "id": "91c2396c-4f1d-4ad5-a9a3-08ea30badfd6",
   "metadata": {
    "execution": {
     "iopub.execute_input": "2023-07-06T14:00:28.198750Z",
     "iopub.status.busy": "2023-07-06T14:00:28.198750Z",
     "iopub.status.idle": "2023-07-06T14:00:28.208475Z",
     "shell.execute_reply": "2023-07-06T14:00:28.208295Z",
     "shell.execute_reply.started": "2023-07-06T14:00:28.198750Z"
    }
   },
   "outputs": [],
   "source": [
    "import numpy as np\n",
    "import pandas as pd\n",
    "import matplotlib.pyplot as plt\n",
    "from scipy.stats import (t, norm)"
   ]
  },
  {
   "cell_type": "markdown",
   "id": "58320a86-bc6b-4df9-b0f8-81bd9dde4cb5",
   "metadata": {},
   "source": [
    "# ___Testing For Difference in Population Means___\n",
    "-----------"
   ]
  },
  {
   "cell_type": "code",
   "execution_count": 7,
   "id": "6b5c2080-5018-4ea9-aa79-a7d1787cf19b",
   "metadata": {
    "execution": {
     "iopub.execute_input": "2023-07-04T12:54:51.272181Z",
     "iopub.status.busy": "2023-07-04T12:54:51.272181Z",
     "iopub.status.idle": "2023-07-04T12:54:51.294604Z",
     "shell.execute_reply": "2023-07-04T12:54:51.294045Z",
     "shell.execute_reply.started": "2023-07-04T12:54:51.272181Z"
    }
   },
   "outputs": [
    {
     "name": "stdout",
     "output_type": "stream",
     "text": [
      " Volume in drive D has no label.\n",
      " Volume Serial Number is 3A29-3F7E\n",
      "\n",
      " Directory of D:\\Inferential-Statistical-Analysis-with-Python\\data\n",
      "\n",
      "03/07/2023  01:25 pm    <DIR>          .\n",
      "22/06/2023  08:22 pm    <DIR>          ..\n",
      "20/05/2023  04:03 pm               866 Cartwheeldata.csv\n",
      "03/07/2023  01:25 pm           298,207 children_per_woman_total_fertility.csv\n",
      "01/07/2023  04:31 pm           256,139 child_mortality_0_5_year_olds_dying_per_1000_born.csv\n",
      "07/06/2023  04:33 pm            17,906 CommonCLZvalues.png\n",
      "10/06/2023  11:05 am            81,208 Data Description_Metro.pdf\n",
      "01/06/2023  06:34 am         2,581,551 EV_Population_Data.csv\n",
      "12/06/2023  06:18 pm        52,028,852 MetroPT3(AirCompressor).csv\n",
      "20/05/2023  04:03 pm             2,831 nap_no_nap.csv\n",
      "20/05/2023  04:03 pm           762,373 nhanes_2015_2016.csv\n",
      "06/06/2023  04:56 pm         7,224,973 USDA_plants_database.csv\n",
      "              10 File(s)     63,254,906 bytes\n",
      "               2 Dir(s)  147,795,501,056 bytes free\n"
     ]
    }
   ],
   "source": [
    "!dir .\\..\\data"
   ]
  },
  {
   "cell_type": "code",
   "execution_count": 22,
   "id": "800ec09b-db1a-4dfa-b031-06c9a44b2623",
   "metadata": {
    "execution": {
     "iopub.execute_input": "2023-07-04T13:21:16.912030Z",
     "iopub.status.busy": "2023-07-04T13:21:16.912030Z",
     "iopub.status.idle": "2023-07-04T13:21:16.923451Z",
     "shell.execute_reply": "2023-07-04T13:21:16.922437Z",
     "shell.execute_reply.started": "2023-07-04T13:21:16.912030Z"
    }
   },
   "outputs": [],
   "source": [
    "# Let's consider the mean temperatures in January in Columbia and Australia\n",
    "\n",
    "columbia = pd.read_csv(\"./../data/tas_timeseries_monthly_cru_1901-2021_Colombia.csv\", index_col = \"Year\", usecols = [\"Jan\", \"Year\"])\n",
    "australia = pd.read_csv(\"./../data/tas_timeseries_monthly_cru_1901-2021_Australia.csv\", index_col = \"Year\", usecols = [\"Jan\", \"Year\"])"
   ]
  },
  {
   "cell_type": "code",
   "execution_count": 92,
   "id": "8d7e1ada-486f-441b-9b55-81974afb2a97",
   "metadata": {
    "execution": {
     "iopub.execute_input": "2023-07-04T14:00:03.811297Z",
     "iopub.status.busy": "2023-07-04T14:00:03.811297Z",
     "iopub.status.idle": "2023-07-04T14:00:03.815114Z",
     "shell.execute_reply": "2023-07-04T14:00:03.815114Z",
     "shell.execute_reply.started": "2023-07-04T14:00:03.811297Z"
    }
   },
   "outputs": [],
   "source": [
    "columbia = columbia.values.ravel()\n",
    "australia = australia.values.ravel()"
   ]
  },
  {
   "cell_type": "code",
   "execution_count": null,
   "id": "2ca49204-1d73-4c41-afbb-5b3200976410",
   "metadata": {},
   "outputs": [],
   "source": []
  },
  {
   "cell_type": "code",
   "execution_count": 95,
   "id": "16f520e6-2060-4786-988a-2af2ff7166ec",
   "metadata": {
    "execution": {
     "iopub.execute_input": "2023-07-04T14:00:15.460395Z",
     "iopub.status.busy": "2023-07-04T14:00:15.460395Z",
     "iopub.status.idle": "2023-07-04T14:00:15.464638Z",
     "shell.execute_reply": "2023-07-04T14:00:15.464638Z",
     "shell.execute_reply.started": "2023-07-04T14:00:15.460395Z"
    }
   },
   "outputs": [
    {
     "data": {
      "text/plain": [
       "(27.865123966942146, 24.765123966942152)"
      ]
     },
     "execution_count": 95,
     "metadata": {},
     "output_type": "execute_result"
    }
   ],
   "source": [
    "# Now we have mean temperatures for January from year 1901 to 2021 from Australia and Columbia\n",
    "\n",
    "# Null hypothesis: There is no significant difference between the mean temperatures in January in Columbia and Australia\n",
    "# Alternative hypothesis: There is a significant difference between the mean temperatures in January in Columbia and Australia.\n",
    "\n",
    "temp_col = columbia.mean()\n",
    "temp_aus = australia.mean()\n",
    "\n",
    "temp_aus, temp_col"
   ]
  },
  {
   "cell_type": "code",
   "execution_count": 96,
   "id": "718da95d-d664-4c1e-be1f-843b551168b5",
   "metadata": {
    "execution": {
     "iopub.execute_input": "2023-07-04T14:00:16.856904Z",
     "iopub.status.busy": "2023-07-04T14:00:16.856904Z",
     "iopub.status.idle": "2023-07-04T14:00:16.863598Z",
     "shell.execute_reply": "2023-07-04T14:00:16.863423Z",
     "shell.execute_reply.started": "2023-07-04T14:00:16.856904Z"
    }
   },
   "outputs": [
    {
     "data": {
      "text/plain": [
       "3.0999999999999943"
      ]
     },
     "execution_count": 96,
     "metadata": {},
     "output_type": "execute_result"
    }
   ],
   "source": [
    "temp_diff = temp_aus - temp_col\n",
    "temp_diff"
   ]
  },
  {
   "cell_type": "code",
   "execution_count": null,
   "id": "ab89acc7-f93b-4ddc-af63-099ce0c118cc",
   "metadata": {},
   "outputs": [],
   "source": []
  },
  {
   "cell_type": "code",
   "execution_count": 100,
   "id": "e332c20a-710f-4cc6-9bd7-79e77658a769",
   "metadata": {
    "execution": {
     "iopub.execute_input": "2023-07-04T14:00:40.337427Z",
     "iopub.status.busy": "2023-07-04T14:00:40.337427Z",
     "iopub.status.idle": "2023-07-04T14:00:40.414863Z",
     "shell.execute_reply": "2023-07-04T14:00:40.414863Z",
     "shell.execute_reply.started": "2023-07-04T14:00:40.337427Z"
    }
   },
   "outputs": [
    {
     "data": {
      "image/png": "[encoded data removed]",
      "text/plain": [
       "<Figure size 640x480 with 1 Axes>"
      ]
     },
     "metadata": {},
     "output_type": "display_data"
    }
   ],
   "source": [
    "fig, axes = plt.subplots()\n",
    "axes.boxplot([columbia, australia], labels = [\"Columbia\", \"Australia\"], widths = .65)\n",
    "plt.show()"
   ]
  },
  {
   "cell_type": "code",
   "execution_count": null,
   "id": "472eeec1-c66e-4902-85ae-ba8bed0af6d7",
   "metadata": {},
   "outputs": [],
   "source": []
  },
  {
   "cell_type": "code",
   "execution_count": 54,
   "id": "a8ccdc49-09fe-40c3-a31e-c2da3c99ceff",
   "metadata": {
    "execution": {
     "iopub.execute_input": "2023-07-04T13:37:30.428339Z",
     "iopub.status.busy": "2023-07-04T13:37:30.428339Z",
     "iopub.status.idle": "2023-07-04T13:37:30.434053Z",
     "shell.execute_reply": "2023-07-04T13:37:30.434053Z",
     "shell.execute_reply.started": "2023-07-04T13:37:30.428339Z"
    }
   },
   "outputs": [],
   "source": [
    "# Assumptions:\n",
    "\n",
    "# 1) Our samples are simple random samples.\n",
    "# 2) Two samples are independent from one another.\n",
    "# 3) Both POPULATIONS are approximately normal. or the two samples are large enough."
   ]
  },
  {
   "cell_type": "code",
   "execution_count": 101,
   "id": "13725a07-637e-4e4f-825c-c4e92ee70527",
   "metadata": {
    "execution": {
     "iopub.execute_input": "2023-07-04T14:00:47.804709Z",
     "iopub.status.busy": "2023-07-04T14:00:47.803713Z",
     "iopub.status.idle": "2023-07-04T14:00:48.111680Z",
     "shell.execute_reply": "2023-07-04T14:00:48.111680Z",
     "shell.execute_reply.started": "2023-07-04T14:00:47.804709Z"
    }
   },
   "outputs": [
    {
     "data": {
      "image/png": "[encoded data removed]",
      "text/plain": [
       "<Figure size 1500x700 with 4 Axes>"
      ]
     },
     "metadata": {},
     "output_type": "display_data"
    }
   ],
   "source": [
    "# Let's first visualize the data exploratively,\n",
    "\n",
    "x = np.linspace(0, 1, num = 100)\n",
    "qnorm = norm.ppf(x)\n",
    "\n",
    "fig, ((axes_0, axes_1), (axes_2, axes_3)) = plt.subplots(nrows = 2, ncols = 2)\n",
    "axes_0.sharex(axes_2)\n",
    "axes_1.sharex(axes_3)\n",
    "fig.set_size_inches(15, 7)\n",
    "\n",
    "axes_0.hist(columbia, rwidth = 0.9, bins = 10)\n",
    "axes_1.scatter(qnorm, np.quantile(q = x, a = columbia))\n",
    "axes_1.plot(axes_1.get_xbound(), axes_1.get_ybound(), color = \"red\")\n",
    "\n",
    "axes_2.hist(australia, rwidth = 0.9, bins = 10)\n",
    "axes_3.scatter(qnorm, np.quantile(q = x, a = australia))\n",
    "axes_3.plot(axes_3.get_xbound(), axes_3.get_ybound(), color = \"red\")\n",
    "\n",
    "plt.show()"
   ]
  },
  {
   "cell_type": "code",
   "execution_count": 102,
   "id": "70d85077-87ad-4f0d-b7a0-68df62305386",
   "metadata": {
    "execution": {
     "iopub.execute_input": "2023-07-04T14:00:52.002640Z",
     "iopub.status.busy": "2023-07-04T14:00:52.002640Z",
     "iopub.status.idle": "2023-07-04T14:00:52.008980Z",
     "shell.execute_reply": "2023-07-04T14:00:52.008859Z",
     "shell.execute_reply.started": "2023-07-04T14:00:52.002640Z"
    }
   },
   "outputs": [
    {
     "data": {
      "text/plain": [
       "(121, 121)"
      ]
     },
     "execution_count": 102,
     "metadata": {},
     "output_type": "execute_result"
    }
   ],
   "source": [
    "# Our samples are not LARGE but large enough.\n",
    "\n",
    "columbia.size, australia.size"
   ]
  },
  {
   "cell_type": "code",
   "execution_count": 103,
   "id": "1440e513-03da-4c8d-8ea2-00779319bddf",
   "metadata": {
    "execution": {
     "iopub.execute_input": "2023-07-04T14:00:52.707018Z",
     "iopub.status.busy": "2023-07-04T14:00:52.707018Z",
     "iopub.status.idle": "2023-07-04T14:00:52.711886Z",
     "shell.execute_reply": "2023-07-04T14:00:52.710873Z",
     "shell.execute_reply.started": "2023-07-04T14:00:52.707018Z"
    }
   },
   "outputs": [],
   "source": [
    "# They form aoughly normal distributions, with Australia having a higher degree of normality in distribution of temperatures.\n",
    "# This postulate is reinforced by the qq plots as well."
   ]
  },
  {
   "cell_type": "code",
   "execution_count": null,
   "id": "95959dc3-8ac7-4673-8f73-eb08d4ed5963",
   "metadata": {},
   "outputs": [],
   "source": []
  },
  {
   "cell_type": "code",
   "execution_count": 104,
   "id": "d32a2c3c-58f9-4f80-ad5c-6c7f0c05d9de",
   "metadata": {
    "execution": {
     "iopub.execute_input": "2023-07-04T14:00:53.313146Z",
     "iopub.status.busy": "2023-07-04T14:00:53.313146Z",
     "iopub.status.idle": "2023-07-04T14:00:53.318224Z",
     "shell.execute_reply": "2023-07-04T14:00:53.318224Z",
     "shell.execute_reply.started": "2023-07-04T14:00:53.313146Z"
    }
   },
   "outputs": [
    {
     "data": {
      "text/plain": [
       "3.0999999999999943"
      ]
     },
     "execution_count": 104,
     "metadata": {},
     "output_type": "execute_result"
    }
   ],
   "source": [
    "# Our best estimate is the difference in the means of the two samples,\n",
    "\n",
    "temp_diff"
   ]
  },
  {
   "cell_type": "code",
   "execution_count": 110,
   "id": "ac8cd1cd-707e-4564-bbcb-9bbc8de0e5dd",
   "metadata": {
    "execution": {
     "iopub.execute_input": "2023-07-04T14:02:40.460761Z",
     "iopub.status.busy": "2023-07-04T14:02:40.456752Z",
     "iopub.status.idle": "2023-07-04T14:02:40.464663Z",
     "shell.execute_reply": "2023-07-04T14:02:40.464663Z",
     "shell.execute_reply.started": "2023-07-04T14:02:40.456752Z"
    }
   },
   "outputs": [
    {
     "data": {
      "text/plain": [
       "(0.0647872863232248, 0.04378279895216276)"
      ]
     },
     "execution_count": 110,
     "metadata": {},
     "output_type": "execute_result"
    }
   ],
   "source": [
    "# Next, to calculate the test statistic, we need the standard error of the population, since we do not know the standard error of the populations, \n",
    "# We'll use the standard error of the samples!\n",
    "\n",
    "stderr_aus = australia.std() / np.sqrt(australia.size)\n",
    "stderr_col = columbia.std() / np.sqrt(columbia.size)\n",
    "\n",
    "stderr_aus, stderr_col"
   ]
  },
  {
   "cell_type": "code",
   "execution_count": 114,
   "id": "60ec4a21-ec77-48a9-bee1-adf40b133f61",
   "metadata": {
    "execution": {
     "iopub.execute_input": "2023-07-04T14:08:25.092743Z",
     "iopub.status.busy": "2023-07-04T14:08:25.092743Z",
     "iopub.status.idle": "2023-07-04T14:08:25.098028Z",
     "shell.execute_reply": "2023-07-04T14:08:25.097489Z",
     "shell.execute_reply.started": "2023-07-04T14:08:25.092743Z"
    }
   },
   "outputs": [
    {
     "data": {
      "text/plain": [
       "(0.5078844887644287, 0.2319489515743461)"
      ]
     },
     "execution_count": 114,
     "metadata": {},
     "output_type": "execute_result"
    }
   ],
   "source": [
    "# Pooled approach is not suitable here since there's considerable variation between the variances of the two samples!\n",
    "\n",
    "australia.var(), columbia.var()"
   ]
  },
  {
   "cell_type": "code",
   "execution_count": 111,
   "id": "9231e21d-5ed6-48bb-a177-2f87375e0c1c",
   "metadata": {
    "execution": {
     "iopub.execute_input": "2023-07-04T14:05:59.085767Z",
     "iopub.status.busy": "2023-07-04T14:05:59.085767Z",
     "iopub.status.idle": "2023-07-04T14:05:59.090881Z",
     "shell.execute_reply": "2023-07-04T14:05:59.090881Z",
     "shell.execute_reply.started": "2023-07-04T14:05:59.085767Z"
    }
   },
   "outputs": [
    {
     "data": {
      "text/plain": [
       "0.10857008527538756"
      ]
     },
     "execution_count": 111,
     "metadata": {},
     "output_type": "execute_result"
    }
   ],
   "source": [
    "# Using the unpooled approach,\n",
    "\n",
    "stderr_combined = stderr_aus + stderr_col\n",
    "stderr_combined"
   ]
  },
  {
   "cell_type": "code",
   "execution_count": 112,
   "id": "4970593f-eaeb-4fc1-be55-d45e00143e73",
   "metadata": {
    "execution": {
     "iopub.execute_input": "2023-07-04T14:06:22.485372Z",
     "iopub.status.busy": "2023-07-04T14:06:22.485372Z",
     "iopub.status.idle": "2023-07-04T14:06:22.490097Z",
     "shell.execute_reply": "2023-07-04T14:06:22.490097Z",
     "shell.execute_reply.started": "2023-07-04T14:06:22.485372Z"
    }
   },
   "outputs": [
    {
     "data": {
      "text/plain": [
       "28.552984849711205"
      ]
     },
     "execution_count": 112,
     "metadata": {},
     "output_type": "execute_result"
    }
   ],
   "source": [
    "tstat = (temp_diff - 0) / stderr_combined\n",
    "tstat"
   ]
  },
  {
   "cell_type": "code",
   "execution_count": 120,
   "id": "f7512d11-cc1b-40e4-b5f3-893b731b05e8",
   "metadata": {
    "execution": {
     "iopub.execute_input": "2023-07-04T14:14:30.740546Z",
     "iopub.status.busy": "2023-07-04T14:14:30.740546Z",
     "iopub.status.idle": "2023-07-04T14:14:30.746347Z",
     "shell.execute_reply": "2023-07-04T14:14:30.746347Z",
     "shell.execute_reply.started": "2023-07-04T14:14:30.740546Z"
    }
   },
   "outputs": [
    {
     "data": {
      "text/plain": [
       "(3.0999999999999943, 3.0999999999999943)"
      ]
     },
     "execution_count": 120,
     "metadata": {},
     "output_type": "execute_result"
    }
   ],
   "source": [
    "# What does this t statistic really tell us?\n",
    "\n",
    "# It tells that the actual population difference is t times the combined standard errors greater than the hypothesized difference, i.e 0.\n",
    "\n",
    "temp_diff, 0.0 + (tstat * stderr_combined) "
   ]
  },
  {
   "cell_type": "code",
   "execution_count": null,
   "id": "1e122d95-5ef5-4f32-951a-3a35527eaf33",
   "metadata": {},
   "outputs": [],
   "source": [
    "# Since our t value had no direction, i.e two tailed t test,"
   ]
  },
  {
   "cell_type": "code",
   "execution_count": 130,
   "id": "57c07374-3b28-4871-a402-ec2feb92c04d",
   "metadata": {
    "execution": {
     "iopub.execute_input": "2023-07-04T14:19:23.556394Z",
     "iopub.status.busy": "2023-07-04T14:19:23.556394Z",
     "iopub.status.idle": "2023-07-04T14:19:23.668096Z",
     "shell.execute_reply": "2023-07-04T14:19:23.668096Z",
     "shell.execute_reply.started": "2023-07-04T14:19:23.556394Z"
    }
   },
   "outputs": [
    {
     "data": {
      "image/png": "[encoded data removed]",
      "text/plain": [
       "<Figure size 640x480 with 1 Axes>"
      ]
     },
     "metadata": {},
     "output_type": "display_data"
    }
   ],
   "source": [
    "x = np.linspace(-30, 30, num = 10000)\n",
    "tscores = t.pdf(x, df = x.size - 1)\n",
    "\n",
    "fig, axes = plt.subplots()\n",
    "axes.plot(x, tscores)\n",
    "axes.vlines([-tstat, tstat], ymin = 0, ymax = 0.4, color = \"red\")\n",
    "axes.fill_between(x = x, y1 = 0, y2 = 0.4, where = (x <= -tstat) | (x >= tstat), color = \"yellow\")\n",
    "plt.show()"
   ]
  },
  {
   "cell_type": "code",
   "execution_count": 132,
   "id": "76cf8848-23c1-4131-ab50-a6abaf0d2f9d",
   "metadata": {
    "execution": {
     "iopub.execute_input": "2023-07-04T14:20:33.045336Z",
     "iopub.status.busy": "2023-07-04T14:20:33.041325Z",
     "iopub.status.idle": "2023-07-04T14:20:33.050679Z",
     "shell.execute_reply": "2023-07-04T14:20:33.050679Z",
     "shell.execute_reply.started": "2023-07-04T14:20:33.045336Z"
    }
   },
   "outputs": [
    {
     "data": {
      "text/plain": [
       "1.0"
      ]
     },
     "execution_count": 132,
     "metadata": {},
     "output_type": "execute_result"
    }
   ],
   "source": [
    "# The area of the curve enclosed by the line x = tstat, on the left.\n",
    "\n",
    "t.cdf(tstat, df = columbia.size - 1)"
   ]
  },
  {
   "cell_type": "code",
   "execution_count": 133,
   "id": "a9fbc8d6-6360-4e8d-b19c-e73143a82389",
   "metadata": {
    "execution": {
     "iopub.execute_input": "2023-07-04T14:21:02.515579Z",
     "iopub.status.busy": "2023-07-04T14:21:02.515579Z",
     "iopub.status.idle": "2023-07-04T14:21:02.522217Z",
     "shell.execute_reply": "2023-07-04T14:21:02.522217Z",
     "shell.execute_reply.started": "2023-07-04T14:21:02.515579Z"
    }
   },
   "outputs": [
    {
     "data": {
      "text/plain": [
       "0.0"
      ]
     },
     "execution_count": 133,
     "metadata": {},
     "output_type": "execute_result"
    }
   ],
   "source": [
    "# To get what's on the right, \n",
    "\n",
    "1 - t.cdf(tstat, df = columbia.size - 1)"
   ]
  },
  {
   "cell_type": "code",
   "execution_count": 135,
   "id": "d06fdc0d-b502-4094-88ef-d3d12f9f813f",
   "metadata": {
    "execution": {
     "iopub.execute_input": "2023-07-04T14:21:30.242282Z",
     "iopub.status.busy": "2023-07-04T14:21:30.242282Z",
     "iopub.status.idle": "2023-07-04T14:21:30.249085Z",
     "shell.execute_reply": "2023-07-04T14:21:30.248990Z",
     "shell.execute_reply.started": "2023-07-04T14:21:30.242282Z"
    }
   },
   "outputs": [
    {
     "data": {
      "text/plain": [
       "0.0"
      ]
     },
     "execution_count": 135,
     "metadata": {},
     "output_type": "execute_result"
    }
   ],
   "source": [
    "# Twice that area,\n",
    "\n",
    "p = 2 * (1 - t.cdf(tstat, df = columbia.size - 1))\n",
    "p"
   ]
  },
  {
   "cell_type": "code",
   "execution_count": null,
   "id": "344cf475-082c-4bd8-b46b-bddab843ce9c",
   "metadata": {},
   "outputs": [],
   "source": [
    "# p value is less than our alpha, significance!\n",
    "# We can reject the Null hypothesis!.\n",
    "\n",
    "# There is NOT ENOUGH EVIDENCE TO ACCEPT THE NULL!\n",
    "# SO, IT GETS REJECTED!\n",
    "\n",
    "# HOWEVER, WE SHOULD NOTE THAT WE DO NOT FIND EVIDENCE TO SUPPORT THE ALTERNATIVE HYPOTHESIS, BUT JUST TO REJECT THE NULL HYPOTHESIS."
   ]
  },
  {
   "cell_type": "code",
   "execution_count": null,
   "id": "8e3f644f-f2f2-44fe-a668-881a531419df",
   "metadata": {},
   "outputs": [],
   "source": []
  },
  {
   "cell_type": "markdown",
   "id": "c55bda75-41b1-47b1-9e1c-34d4302bf5f1",
   "metadata": {},
   "source": [
    "# ___NHANES___\n",
    "-----------"
   ]
  },
  {
   "cell_type": "markdown",
   "id": "7d632725-5280-4514-8793-004c39631302",
   "metadata": {},
   "source": [
    "### ___Variables___\n",
    "\n",
    "- ___RIDRETH1___: This race-ethnicity variable was derived from responses to the survey questions on race and Hispanic origin. Respondents who self-identified as “Mexican American” were coded as such (i.e., RIDRETH1=1) regardless of their other race-ethnicity identities. Otherwise, self-identified “Hispanic” ethnicity would result in code “2, Other Hispanic” in the RIDRETH1 variable. All other non-Hispanic participants would then be categorized based on their self-reported races: non-Hispanic white (RIDRETH1=3), non-Hispanic black (RIDRETH1=4), and other non-Hispanic races including non-Hispanic multiracial (RIDRETH1=5).\n",
    "\n",
    "- ___RIAGENDR___: Males - 1, Females - 2"
   ]
  },
  {
   "cell_type": "code",
   "execution_count": 29,
   "id": "2d7ec2a2-4cc4-4fc1-a127-38e1100cee40",
   "metadata": {
    "execution": {
     "iopub.execute_input": "2023-07-06T14:21:19.016459Z",
     "iopub.status.busy": "2023-07-06T14:21:19.016459Z",
     "iopub.status.idle": "2023-07-06T14:21:19.035911Z",
     "shell.execute_reply": "2023-07-06T14:21:19.035911Z",
     "shell.execute_reply.started": "2023-07-06T14:21:19.016459Z"
    }
   },
   "outputs": [
    {
     "data": {
      "text/plain": [
       "Index(['SEQN', 'ALQ101', 'ALQ110', 'ALQ130', 'SMQ020', 'RIAGENDR', 'RIDAGEYR',\n",
       "       'RIDRETH1', 'DMDCITZN', 'DMDEDUC2', 'DMDMARTL', 'DMDHHSIZ', 'WTINT2YR',\n",
       "       'SDMVPSU', 'SDMVSTRA', 'INDFMPIR', 'BPXSY1', 'BPXDI1', 'BPXSY2',\n",
       "       'BPXDI2', 'BMXWT', 'BMXHT', 'BMXBMI', 'BMXLEG', 'BMXARML', 'BMXARMC',\n",
       "       'BMXWAIST', 'HIQ210'],\n",
       "      dtype='object')"
      ]
     },
     "execution_count": 29,
     "metadata": {},
     "output_type": "execute_result"
    }
   ],
   "source": [
    "pd.read_csv(\"./../data/nhanes_2015_2016.csv\").columns"
   ]
  },
  {
   "cell_type": "code",
   "execution_count": 55,
   "id": "28964bd9-aa75-45f1-8e33-132fdd17c85b",
   "metadata": {
    "execution": {
     "iopub.execute_input": "2023-07-06T14:27:10.653010Z",
     "iopub.status.busy": "2023-07-06T14:27:10.653010Z",
     "iopub.status.idle": "2023-07-06T14:27:10.679939Z",
     "shell.execute_reply": "2023-07-06T14:27:10.679939Z",
     "shell.execute_reply.started": "2023-07-06T14:27:10.653010Z"
    }
   },
   "outputs": [],
   "source": [
    "data = pd.read_csv(\"./../data/nhanes_2015_2016.csv\", usecols = [\"RIAGENDR\", \"BMXBMI\", \"RIDRETH1\"]).query(\"RIDRETH1 == 1\").drop(\"RIDRETH1\", axis = 1)"
   ]
  },
  {
   "cell_type": "code",
   "execution_count": 56,
   "id": "f20f4916-ee06-4c75-85ed-1c8475b94400",
   "metadata": {
    "execution": {
     "iopub.execute_input": "2023-07-06T14:27:11.014738Z",
     "iopub.status.busy": "2023-07-06T14:27:11.014738Z",
     "iopub.status.idle": "2023-07-06T14:27:11.021106Z",
     "shell.execute_reply": "2023-07-06T14:27:11.021106Z",
     "shell.execute_reply.started": "2023-07-06T14:27:11.014738Z"
    }
   },
   "outputs": [],
   "source": [
    "data.dropna(axis = 0, inplace = True)"
   ]
  },
  {
   "cell_type": "code",
   "execution_count": 57,
   "id": "a5ebbf6e-801c-4d49-9841-f313f166dab6",
   "metadata": {
    "execution": {
     "iopub.execute_input": "2023-07-06T14:27:12.114726Z",
     "iopub.status.busy": "2023-07-06T14:27:12.114726Z",
     "iopub.status.idle": "2023-07-06T14:27:12.121595Z",
     "shell.execute_reply": "2023-07-06T14:27:12.121595Z",
     "shell.execute_reply.started": "2023-07-06T14:27:12.114726Z"
    }
   },
   "outputs": [
    {
     "data": {
      "text/plain": [
       "array([2, 1], dtype=int64)"
      ]
     },
     "execution_count": 57,
     "metadata": {},
     "output_type": "execute_result"
    }
   ],
   "source": [
    "data.RIAGENDR.unique()"
   ]
  },
  {
   "cell_type": "code",
   "execution_count": 58,
   "id": "76892dc7-a35c-46cb-b67a-e80c0ba2acf3",
   "metadata": {
    "execution": {
     "iopub.execute_input": "2023-07-06T14:27:12.569808Z",
     "iopub.status.busy": "2023-07-06T14:27:12.569808Z",
     "iopub.status.idle": "2023-07-06T14:27:12.577085Z",
     "shell.execute_reply": "2023-07-06T14:27:12.577085Z",
     "shell.execute_reply.started": "2023-07-06T14:27:12.569808Z"
    }
   },
   "outputs": [
    {
     "data": {
      "text/plain": [
       "(1000, 2)"
      ]
     },
     "execution_count": 58,
     "metadata": {},
     "output_type": "execute_result"
    }
   ],
   "source": [
    "data.shape"
   ]
  },
  {
   "cell_type": "code",
   "execution_count": 59,
   "id": "33d21c1d-2f0c-4870-96ad-a17c2c014f02",
   "metadata": {
    "execution": {
     "iopub.execute_input": "2023-07-06T14:27:13.291756Z",
     "iopub.status.busy": "2023-07-06T14:27:13.291756Z",
     "iopub.status.idle": "2023-07-06T14:27:13.304634Z",
     "shell.execute_reply": "2023-07-06T14:27:13.304634Z",
     "shell.execute_reply.started": "2023-07-06T14:27:13.291756Z"
    }
   },
   "outputs": [
    {
     "data": {
      "text/plain": [
       "0"
      ]
     },
     "execution_count": 59,
     "metadata": {},
     "output_type": "execute_result"
    }
   ],
   "source": [
    "data.BMXBMI.isna().sum()"
   ]
  },
  {
   "cell_type": "code",
   "execution_count": 60,
   "id": "edb984ea-2720-4247-83cc-c61a926587ce",
   "metadata": {
    "execution": {
     "iopub.execute_input": "2023-07-06T14:27:14.154791Z",
     "iopub.status.busy": "2023-07-06T14:27:14.154791Z",
     "iopub.status.idle": "2023-07-06T14:27:14.158683Z",
     "shell.execute_reply": "2023-07-06T14:27:14.158614Z",
     "shell.execute_reply.started": "2023-07-06T14:27:14.154791Z"
    }
   },
   "outputs": [],
   "source": [
    "# Research questions: Considering the Mexican Americans living in USA, do males have a significantly higher BMI than their female counterparts?"
   ]
  },
  {
   "cell_type": "code",
   "execution_count": 61,
   "id": "d36e5ac0-cc36-46e5-8573-e5683389538e",
   "metadata": {
    "execution": {
     "iopub.execute_input": "2023-07-06T14:27:14.405374Z",
     "iopub.status.busy": "2023-07-06T14:27:14.405374Z",
     "iopub.status.idle": "2023-07-06T14:27:14.415188Z",
     "shell.execute_reply": "2023-07-06T14:27:14.414560Z",
     "shell.execute_reply.started": "2023-07-06T14:27:14.405374Z"
    }
   },
   "outputs": [],
   "source": [
    "# Significance => alpha = 0.05\n",
    "\n",
    "# Null hypothesis: There is no significant difference between the BMIs of Mexican American men and women.\n",
    "# Alternative hypothesis: There's a significant difference between the BMIs of Mexican American men and women."
   ]
  },
  {
   "cell_type": "markdown",
   "id": "32d8b1e9-08b6-4571-80fb-95760559155c",
   "metadata": {},
   "source": [
    "# ___$H_0: \\mu_f - \\mu_m = 0$___\n",
    "\n",
    "# ___$H_1: \\mu_f - \\mu_m \\ne 0$___"
   ]
  },
  {
   "cell_type": "code",
   "execution_count": 62,
   "id": "0ad05fa4-d8b7-47da-9a63-206f4af7d476",
   "metadata": {
    "execution": {
     "iopub.execute_input": "2023-07-06T14:27:14.970722Z",
     "iopub.status.busy": "2023-07-06T14:27:14.970722Z",
     "iopub.status.idle": "2023-07-06T14:27:14.983049Z",
     "shell.execute_reply": "2023-07-06T14:27:14.982942Z",
     "shell.execute_reply.started": "2023-07-06T14:27:14.970722Z"
    }
   },
   "outputs": [],
   "source": [
    "# Since we do not know the population means, we'll use the sample means for BMIs."
   ]
  },
  {
   "cell_type": "markdown",
   "id": "4c084cde-422b-4698-9cba-3b06daad7807",
   "metadata": {},
   "source": [
    "# ___$H_0: \\bar{x}_f - \\bar{x}_m = 0$___\n",
    "\n",
    "# ___$H_1: \\bar{x}_f - \\bar{x}_m \\ne 0$___"
   ]
  },
  {
   "cell_type": "code",
   "execution_count": 63,
   "id": "941232f3-0b2c-48b4-919a-7ad3b1792b5e",
   "metadata": {
    "execution": {
     "iopub.execute_input": "2023-07-06T14:27:15.300642Z",
     "iopub.status.busy": "2023-07-06T14:27:15.300642Z",
     "iopub.status.idle": "2023-07-06T14:27:15.321750Z",
     "shell.execute_reply": "2023-07-06T14:27:15.321750Z",
     "shell.execute_reply.started": "2023-07-06T14:27:15.300642Z"
    }
   },
   "outputs": [
    {
     "data": {
      "text/plain": [
       "(464, 536)"
      ]
     },
     "execution_count": 63,
     "metadata": {},
     "output_type": "execute_result"
    }
   ],
   "source": [
    "msize = sum(data.RIAGENDR == 1)\n",
    "fsize = sum(data.RIAGENDR == 2)\n",
    "\n",
    "msize, fsize"
   ]
  },
  {
   "cell_type": "code",
   "execution_count": null,
   "id": "c53bf4bf-d7f5-41a5-8b49-307da1f802ee",
   "metadata": {},
   "outputs": [],
   "source": []
  },
  {
   "cell_type": "code",
   "execution_count": 64,
   "id": "880078a5-f45d-4ed0-ace0-5928c0dbe4c7",
   "metadata": {
    "execution": {
     "iopub.execute_input": "2023-07-06T14:27:15.943107Z",
     "iopub.status.busy": "2023-07-06T14:27:15.943107Z",
     "iopub.status.idle": "2023-07-06T14:27:15.966071Z",
     "shell.execute_reply": "2023-07-06T14:27:15.965965Z",
     "shell.execute_reply.started": "2023-07-06T14:27:15.943107Z"
    }
   },
   "outputs": [
    {
     "data": {
      "text/html": [
       "<div>\n",
       "<style scoped>\n",
       "    .dataframe tbody tr th:only-of-type {\n",
       "        vertical-align: middle;\n",
       "    }\n",
       "\n",
       "    .dataframe tbody tr th {\n",
       "        vertical-align: top;\n",
       "    }\n",
       "\n",
       "    .dataframe thead tr th {\n",
       "        text-align: left;\n",
       "    }\n",
       "\n",
       "    .dataframe thead tr:last-of-type th {\n",
       "        text-align: right;\n",
       "    }\n",
       "</style>\n",
       "<table border=\"1\" class=\"dataframe\">\n",
       "  <thead>\n",
       "    <tr>\n",
       "      <th></th>\n",
       "      <th colspan=\"8\" halign=\"left\">BMXBMI</th>\n",
       "    </tr>\n",
       "    <tr>\n",
       "      <th></th>\n",
       "      <th>count</th>\n",
       "      <th>mean</th>\n",
       "      <th>std</th>\n",
       "      <th>min</th>\n",
       "      <th>25%</th>\n",
       "      <th>50%</th>\n",
       "      <th>75%</th>\n",
       "      <th>max</th>\n",
       "    </tr>\n",
       "    <tr>\n",
       "      <th>RIAGENDR</th>\n",
       "      <th></th>\n",
       "      <th></th>\n",
       "      <th></th>\n",
       "      <th></th>\n",
       "      <th></th>\n",
       "      <th></th>\n",
       "      <th></th>\n",
       "      <th></th>\n",
       "    </tr>\n",
       "  </thead>\n",
       "  <tbody>\n",
       "    <tr>\n",
       "      <th>1</th>\n",
       "      <td>464.0</td>\n",
       "      <td>30.098276</td>\n",
       "      <td>6.483573</td>\n",
       "      <td>16.2</td>\n",
       "      <td>25.975</td>\n",
       "      <td>29.20</td>\n",
       "      <td>33.0</td>\n",
       "      <td>58.8</td>\n",
       "    </tr>\n",
       "    <tr>\n",
       "      <th>2</th>\n",
       "      <td>536.0</td>\n",
       "      <td>31.716978</td>\n",
       "      <td>7.530061</td>\n",
       "      <td>16.2</td>\n",
       "      <td>26.975</td>\n",
       "      <td>30.15</td>\n",
       "      <td>35.3</td>\n",
       "      <td>63.9</td>\n",
       "    </tr>\n",
       "  </tbody>\n",
       "</table>\n",
       "</div>"
      ],
      "text/plain": [
       "         BMXBMI                                                      \n",
       "          count       mean       std   min     25%    50%   75%   max\n",
       "RIAGENDR                                                             \n",
       "1         464.0  30.098276  6.483573  16.2  25.975  29.20  33.0  58.8\n",
       "2         536.0  31.716978  7.530061  16.2  26.975  30.15  35.3  63.9"
      ]
     },
     "execution_count": 64,
     "metadata": {},
     "output_type": "execute_result"
    }
   ],
   "source": [
    "data.groupby(\"RIAGENDR\").describe()"
   ]
  },
  {
   "cell_type": "code",
   "execution_count": 68,
   "id": "288446e9-8b89-4c52-900a-0beaa23bd3e4",
   "metadata": {
    "execution": {
     "iopub.execute_input": "2023-07-06T14:28:19.714832Z",
     "iopub.status.busy": "2023-07-06T14:28:19.714832Z",
     "iopub.status.idle": "2023-07-06T14:28:19.802087Z",
     "shell.execute_reply": "2023-07-06T14:28:19.802087Z",
     "shell.execute_reply.started": "2023-07-06T14:28:19.714832Z"
    }
   },
   "outputs": [
    {
     "data": {
      "image/png": "[encoded data removed]",
      "text/plain": [
       "<Figure size 640x480 with 1 Axes>"
      ]
     },
     "metadata": {},
     "output_type": "display_data"
    }
   ],
   "source": [
    "# BOXPLOTS SUCK WHEN THE DATA CONTAINS NAs!\n",
    "\n",
    "fig, axes = plt.subplots()\n",
    "axes.boxplot([data.BMXBMI[data.RIAGENDR == 1], data.BMXBMI[data.RIAGENDR == 2]], labels = [\"Males\", \"Females\"], widths = 0.6)\n",
    "plt.show()"
   ]
  },
  {
   "cell_type": "code",
   "execution_count": null,
   "id": "151d957d-2c21-4004-acc3-c750bfe5ad25",
   "metadata": {},
   "outputs": [],
   "source": []
  },
  {
   "cell_type": "code",
   "execution_count": 66,
   "id": "dc5ee525-e421-45cf-8795-693c0ebf8542",
   "metadata": {
    "execution": {
     "iopub.execute_input": "2023-07-06T14:27:28.010557Z",
     "iopub.status.busy": "2023-07-06T14:27:28.010557Z",
     "iopub.status.idle": "2023-07-06T14:27:28.017006Z",
     "shell.execute_reply": "2023-07-06T14:27:28.017006Z",
     "shell.execute_reply.started": "2023-07-06T14:27:28.010557Z"
    }
   },
   "outputs": [
    {
     "data": {
      "text/plain": [
       "(30.098275862068967, 31.716977611940298)"
      ]
     },
     "execution_count": 66,
     "metadata": {},
     "output_type": "execute_result"
    }
   ],
   "source": [
    "bmi_m = data.BMXBMI[data.RIAGENDR == 1].mean()\n",
    "bmi_f = data.BMXBMI[data.RIAGENDR == 2].mean()\n",
    "\n",
    "bmi_m, bmi_f"
   ]
  },
  {
   "cell_type": "code",
   "execution_count": 67,
   "id": "dfab9c3b-e06a-4c15-9780-b2b80caea18e",
   "metadata": {
    "execution": {
     "iopub.execute_input": "2023-07-06T14:27:29.249840Z",
     "iopub.status.busy": "2023-07-06T14:27:29.249840Z",
     "iopub.status.idle": "2023-07-06T14:27:29.265384Z",
     "shell.execute_reply": "2023-07-06T14:27:29.265384Z",
     "shell.execute_reply.started": "2023-07-06T14:27:29.249840Z"
    }
   },
   "outputs": [
    {
     "data": {
      "text/plain": [
       "1.618701749871331"
      ]
     },
     "execution_count": 67,
     "metadata": {},
     "output_type": "execute_result"
    }
   ],
   "source": [
    "# Our best estimate is the difference of means of male and female BMIs in the sample.\n",
    "\n",
    "best_est = bmi_f - bmi_m\n",
    "best_est"
   ]
  },
  {
   "cell_type": "code",
   "execution_count": 70,
   "id": "49012555-6d01-42a8-bda8-ab56d68bdc8f",
   "metadata": {
    "execution": {
     "iopub.execute_input": "2023-07-06T14:30:49.147748Z",
     "iopub.status.busy": "2023-07-06T14:30:49.147748Z",
     "iopub.status.idle": "2023-07-06T14:30:49.450238Z",
     "shell.execute_reply": "2023-07-06T14:30:49.450238Z",
     "shell.execute_reply.started": "2023-07-06T14:30:49.147748Z"
    }
   },
   "outputs": [
    {
     "data": {
      "image/png": "[encoded data removed]",
      "text/plain": [
       "<Figure size 1500x700 with 4 Axes>"
      ]
     },
     "metadata": {},
     "output_type": "display_data"
    }
   ],
   "source": [
    "# Are the data normal?\n",
    "\n",
    "x = np.linspace(0, 1, num = 100)\n",
    "qnorm = norm.ppf(x)\n",
    "\n",
    "fig, ((axes_0, axes_1), (axes_2, axes_3)) = plt.subplots(nrows = 2, ncols = 2)\n",
    "axes_0.sharex(axes_2)\n",
    "axes_1.sharex(axes_3)\n",
    "fig.set_size_inches(15, 7)\n",
    "\n",
    "axes_0.hist(data.BMXBMI[data.RIAGENDR == 1], rwidth = 0.9, bins = 10)\n",
    "axes_1.scatter(qnorm, np.quantile(q = x, a = data.BMXBMI[data.RIAGENDR == 1]))\n",
    "axes_1.plot(axes_1.get_xbound(), axes_1.get_ybound(), color = \"red\")\n",
    "\n",
    "axes_2.hist(data.BMXBMI[data.RIAGENDR == 2], rwidth = 0.9, bins = 10)\n",
    "axes_3.scatter(qnorm, np.quantile(q = x, a = data.BMXBMI[data.RIAGENDR == 2]))\n",
    "axes_3.plot(axes_3.get_xbound(), axes_3.get_ybound(), color = \"red\")\n",
    "\n",
    "axes_0.set_ylabel(\"Males\")\n",
    "axes_2.set_ylabel(\"Females\")\n",
    "\n",
    "plt.show()"
   ]
  },
  {
   "cell_type": "code",
   "execution_count": 72,
   "id": "d9af70f8-983e-43de-b269-98709b63e939",
   "metadata": {
    "execution": {
     "iopub.execute_input": "2023-07-06T14:33:20.951433Z",
     "iopub.status.busy": "2023-07-06T14:33:20.951433Z",
     "iopub.status.idle": "2023-07-06T14:33:20.963266Z",
     "shell.execute_reply": "2023-07-06T14:33:20.963266Z",
     "shell.execute_reply.started": "2023-07-06T14:33:20.951433Z"
    }
   },
   "outputs": [
    {
     "data": {
      "text/plain": [
       "(464, 536)"
      ]
     },
     "execution_count": 72,
     "metadata": {},
     "output_type": "execute_result"
    }
   ],
   "source": [
    "# Data seem slightly normal with a right skew!\n",
    "# We do have considerable right skews for samples of both sexes.\n",
    "# However, our sample sizes are fairly large (both > 200), so we can move on with CLT,\n",
    "\n",
    "msize, fsize"
   ]
  },
  {
   "cell_type": "code",
   "execution_count": 73,
   "id": "76e438b5-0f80-43d5-9a61-f83f4a3b1696",
   "metadata": {
    "execution": {
     "iopub.execute_input": "2023-07-06T14:36:00.061440Z",
     "iopub.status.busy": "2023-07-06T14:36:00.061440Z",
     "iopub.status.idle": "2023-07-06T14:36:00.068264Z",
     "shell.execute_reply": "2023-07-06T14:36:00.068264Z",
     "shell.execute_reply.started": "2023-07-06T14:36:00.061440Z"
    }
   },
   "outputs": [
    {
     "data": {
      "text/plain": [
       "(42.03671408356298, 56.70182337146045)"
      ]
     },
     "execution_count": 73,
     "metadata": {},
     "output_type": "execute_result"
    }
   ],
   "source": [
    "# standard error for the difference\n",
    "# We'll use the estimated standard error for the populations.\n",
    "\n",
    "# Are the variances of the two populations equal? (to consider the Pooled approach)\n",
    "\n",
    "data.BMXBMI[data.RIAGENDR == 1].var(), data.BMXBMI[data.RIAGENDR == 2].var()"
   ]
  },
  {
   "cell_type": "code",
   "execution_count": 76,
   "id": "1b5af3f4-f45d-43cb-a681-57555ffd3df2",
   "metadata": {
    "execution": {
     "iopub.execute_input": "2023-07-06T14:38:27.847246Z",
     "iopub.status.busy": "2023-07-06T14:38:27.847246Z",
     "iopub.status.idle": "2023-07-06T14:38:27.854102Z",
     "shell.execute_reply": "2023-07-06T14:38:27.854102Z",
     "shell.execute_reply.started": "2023-07-06T14:38:27.847246Z"
    }
   },
   "outputs": [
    {
     "data": {
      "text/plain": [
       "(0.30099230315641456, 0.32524911053218647)"
      ]
     },
     "execution_count": 76,
     "metadata": {},
     "output_type": "execute_result"
    }
   ],
   "source": [
    "# Nope, we'll resort to the unpooled approach.\n",
    "\n",
    "stderr_m = data.BMXBMI[data.RIAGENDR == 1].std() / np.sqrt(msize)\n",
    "stderr_f = data.BMXBMI[data.RIAGENDR == 2].std() / np.sqrt(fsize)\n",
    "\n",
    "stderr_m, stderr_f"
   ]
  },
  {
   "cell_type": "code",
   "execution_count": 77,
   "id": "e5ccc379-e48f-4a91-be64-d5b36aec356e",
   "metadata": {
    "execution": {
     "iopub.execute_input": "2023-07-06T14:38:29.919800Z",
     "iopub.status.busy": "2023-07-06T14:38:29.919800Z",
     "iopub.status.idle": "2023-07-06T14:38:29.938436Z",
     "shell.execute_reply": "2023-07-06T14:38:29.937840Z",
     "shell.execute_reply.started": "2023-07-06T14:38:29.919800Z"
    }
   },
   "outputs": [
    {
     "data": {
      "text/plain": [
       "0.626241413688601"
      ]
     },
     "execution_count": 77,
     "metadata": {},
     "output_type": "execute_result"
    }
   ],
   "source": [
    "stderr_comb = stderr_m + stderr_f\n",
    "stderr_comb"
   ]
  },
  {
   "cell_type": "code",
   "execution_count": 78,
   "id": "5a86659e-6e84-4600-a13f-f12696a5fd6c",
   "metadata": {
    "execution": {
     "iopub.execute_input": "2023-07-06T14:38:53.296360Z",
     "iopub.status.busy": "2023-07-06T14:38:53.296360Z",
     "iopub.status.idle": "2023-07-06T14:38:53.306526Z",
     "shell.execute_reply": "2023-07-06T14:38:53.306526Z",
     "shell.execute_reply.started": "2023-07-06T14:38:53.296360Z"
    }
   },
   "outputs": [
    {
     "data": {
      "text/plain": [
       "2.584788732410839"
      ]
     },
     "execution_count": 78,
     "metadata": {},
     "output_type": "execute_result"
    }
   ],
   "source": [
    "# test statistic = (best estimate - hypothesized estimate) / standard error\n",
    "\n",
    "tstat = (best_est - 0) / stderr_comb\n",
    "tstat"
   ]
  },
  {
   "cell_type": "code",
   "execution_count": 88,
   "id": "d71371f0-546e-4813-88bd-4f1463fc1812",
   "metadata": {
    "execution": {
     "iopub.execute_input": "2023-07-06T14:42:53.103328Z",
     "iopub.status.busy": "2023-07-06T14:42:53.103328Z",
     "iopub.status.idle": "2023-07-06T14:42:53.207652Z",
     "shell.execute_reply": "2023-07-06T14:42:53.207652Z",
     "shell.execute_reply.started": "2023-07-06T14:42:53.103328Z"
    }
   },
   "outputs": [
    {
     "data": {
      "image/png": "[encoded data removed]",
      "text/plain": [
       "<Figure size 640x480 with 1 Axes>"
      ]
     },
     "metadata": {},
     "output_type": "display_data"
    }
   ],
   "source": [
    "# Visualize the t distribution.\n",
    "\n",
    "x = np.linspace(-5, 5, num = 1000)\n",
    "tvals = t.pdf(x, df = x.size -1)\n",
    "\n",
    "fig, axes = plt.subplots()\n",
    "axes.plot(x, tvals, color = \"blue\")\n",
    "axes.vlines([-tstat, tstat], ymin = 0, ymax = 0.45, color = \"black\")\n",
    "axes.fill_between(x = x, y1 = 0, y2 = tvals, where = (x <= -tstat) | (x >= tstat), color = \"red\")\n",
    "plt.show()"
   ]
  },
  {
   "cell_type": "code",
   "execution_count": 89,
   "id": "8f504078-c4d3-405c-8797-62f344550fe9",
   "metadata": {
    "execution": {
     "iopub.execute_input": "2023-07-06T14:43:34.186460Z",
     "iopub.status.busy": "2023-07-06T14:43:34.186460Z",
     "iopub.status.idle": "2023-07-06T14:43:34.196392Z",
     "shell.execute_reply": "2023-07-06T14:43:34.195878Z",
     "shell.execute_reply.started": "2023-07-06T14:43:34.186460Z"
    }
   },
   "outputs": [
    {
     "data": {
      "text/plain": [
       "(464, 536)"
      ]
     },
     "execution_count": 89,
     "metadata": {},
     "output_type": "execute_result"
    }
   ],
   "source": [
    "msize, fsize"
   ]
  },
  {
   "cell_type": "code",
   "execution_count": 92,
   "id": "1bc44347-f6b9-477c-b17c-e3a9dc124419",
   "metadata": {
    "execution": {
     "iopub.execute_input": "2023-07-06T14:44:26.421444Z",
     "iopub.status.busy": "2023-07-06T14:44:26.421444Z",
     "iopub.status.idle": "2023-07-06T14:44:26.434524Z",
     "shell.execute_reply": "2023-07-06T14:44:26.434524Z",
     "shell.execute_reply.started": "2023-07-06T14:44:26.421444Z"
    }
   },
   "outputs": [
    {
     "data": {
      "text/plain": [
       "0.010048739731553624"
      ]
     },
     "execution_count": 92,
     "metadata": {},
     "output_type": "execute_result"
    }
   ],
   "source": [
    "# We need the area of the red region! (for df, we'll use the smallest sample size - 1)\n",
    "\n",
    "p = 2 * (1 - t.cdf(tstat, df = msize - 1))\n",
    "p"
   ]
  },
  {
   "cell_type": "code",
   "execution_count": 93,
   "id": "c6e84294-2900-4be8-87ca-32a299701a06",
   "metadata": {
    "execution": {
     "iopub.execute_input": "2023-07-06T14:45:46.455605Z",
     "iopub.status.busy": "2023-07-06T14:45:46.455605Z",
     "iopub.status.idle": "2023-07-06T14:45:46.466282Z",
     "shell.execute_reply": "2023-07-06T14:45:46.465626Z",
     "shell.execute_reply.started": "2023-07-06T14:45:46.455605Z"
    }
   },
   "outputs": [],
   "source": [
    "# p < 0.05\n",
    "# So, we can REJECT the Null hypothesis.\n",
    "# We do have enough evidence to claim that the population BMIs of Mexican American males and females are not equal."
   ]
  },
  {
   "cell_type": "code",
   "execution_count": null,
   "id": "2b0cb82d-56c9-437b-9bcd-f62a9a892292",
   "metadata": {},
   "outputs": [],
   "source": []
  }
 ],
 "metadata": {
  "kernelspec": {
   "display_name": "Python 3 (ipykernel)",
   "language": "python",
   "name": "python3"
  },
  "language_info": {
   "codemirror_mode": {
    "name": "ipython",
    "version": 3
   },
   "file_extension": ".py",
   "mimetype": "text/x-python",
   "name": "python",
   "nbconvert_exporter": "python",
   "pygments_lexer": "ipython3",
   "version": "3.11.4"
  }
 },
 "nbformat": 4,
 "nbformat_minor": 5
}
