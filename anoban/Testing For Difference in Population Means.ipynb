{
 "cells": [
  {
   "cell_type": "code",
   "execution_count": 1,
   "id": "91c2396c-4f1d-4ad5-a9a3-08ea30badfd6",
   "metadata": {
    "execution": {
     "iopub.execute_input": "2023-07-04T12:53:25.842970Z",
     "iopub.status.busy": "2023-07-04T12:53:25.842970Z",
     "iopub.status.idle": "2023-07-04T12:53:28.924639Z",
     "shell.execute_reply": "2023-07-04T12:53:28.924639Z",
     "shell.execute_reply.started": "2023-07-04T12:53:25.842970Z"
    }
   },
   "outputs": [],
   "source": [
    "import numpy as np\n",
    "import pandas as pd\n",
    "import matplotlib.pyplot as plt\n",
    "from scipy.stats import (t, norm)"
   ]
  },
  {
   "cell_type": "markdown",
   "id": "58320a86-bc6b-4df9-b0f8-81bd9dde4cb5",
   "metadata": {},
   "source": [
    "# ___Testing For Difference in Population Means___\n",
    "-----------"
   ]
  },
  {
   "cell_type": "code",
   "execution_count": 7,
   "id": "6b5c2080-5018-4ea9-aa79-a7d1787cf19b",
   "metadata": {
    "execution": {
     "iopub.execute_input": "2023-07-04T12:54:51.272181Z",
     "iopub.status.busy": "2023-07-04T12:54:51.272181Z",
     "iopub.status.idle": "2023-07-04T12:54:51.294604Z",
     "shell.execute_reply": "2023-07-04T12:54:51.294045Z",
     "shell.execute_reply.started": "2023-07-04T12:54:51.272181Z"
    }
   },
   "outputs": [
    {
     "name": "stdout",
     "output_type": "stream",
     "text": [
      " Volume in drive D has no label.\n",
      " Volume Serial Number is 3A29-3F7E\n",
      "\n",
      " Directory of D:\\Inferential-Statistical-Analysis-with-Python\\data\n",
      "\n",
      "03/07/2023  01:25 pm    <DIR>          .\n",
      "22/06/2023  08:22 pm    <DIR>          ..\n",
      "20/05/2023  04:03 pm               866 Cartwheeldata.csv\n",
      "03/07/2023  01:25 pm           298,207 children_per_woman_total_fertility.csv\n",
      "01/07/2023  04:31 pm           256,139 child_mortality_0_5_year_olds_dying_per_1000_born.csv\n",
      "07/06/2023  04:33 pm            17,906 CommonCLZvalues.png\n",
      "10/06/2023  11:05 am            81,208 Data Description_Metro.pdf\n",
      "01/06/2023  06:34 am         2,581,551 EV_Population_Data.csv\n",
      "12/06/2023  06:18 pm        52,028,852 MetroPT3(AirCompressor).csv\n",
      "20/05/2023  04:03 pm             2,831 nap_no_nap.csv\n",
      "20/05/2023  04:03 pm           762,373 nhanes_2015_2016.csv\n",
      "06/06/2023  04:56 pm         7,224,973 USDA_plants_database.csv\n",
      "              10 File(s)     63,254,906 bytes\n",
      "               2 Dir(s)  147,795,501,056 bytes free\n"
     ]
    }
   ],
   "source": [
    "!dir .\\..\\data"
   ]
  },
  {
   "cell_type": "code",
   "execution_count": 22,
   "id": "800ec09b-db1a-4dfa-b031-06c9a44b2623",
   "metadata": {
    "execution": {
     "iopub.execute_input": "2023-07-04T13:21:16.912030Z",
     "iopub.status.busy": "2023-07-04T13:21:16.912030Z",
     "iopub.status.idle": "2023-07-04T13:21:16.923451Z",
     "shell.execute_reply": "2023-07-04T13:21:16.922437Z",
     "shell.execute_reply.started": "2023-07-04T13:21:16.912030Z"
    }
   },
   "outputs": [],
   "source": [
    "# Let's consider the mean temperatures in January in Columbia and Australia\n",
    "\n",
    "columbia = pd.read_csv(\"./../data/tas_timeseries_monthly_cru_1901-2021_Colombia.csv\", index_col = \"Year\", usecols = [\"Jan\", \"Year\"])\n",
    "australia = pd.read_csv(\"./../data/tas_timeseries_monthly_cru_1901-2021_Australia.csv\", index_col = \"Year\", usecols = [\"Jan\", \"Year\"])"
   ]
  },
  {
   "cell_type": "code",
   "execution_count": 92,
   "id": "8d7e1ada-486f-441b-9b55-81974afb2a97",
   "metadata": {
    "execution": {
     "iopub.execute_input": "2023-07-04T14:00:03.811297Z",
     "iopub.status.busy": "2023-07-04T14:00:03.811297Z",
     "iopub.status.idle": "2023-07-04T14:00:03.815114Z",
     "shell.execute_reply": "2023-07-04T14:00:03.815114Z",
     "shell.execute_reply.started": "2023-07-04T14:00:03.811297Z"
    }
   },
   "outputs": [],
   "source": [
    "columbia = columbia.values.ravel()\n",
    "australia = australia.values.ravel()"
   ]
  },
  {
   "cell_type": "code",
   "execution_count": null,
   "id": "2ca49204-1d73-4c41-afbb-5b3200976410",
   "metadata": {},
   "outputs": [],
   "source": []
  },
  {
   "cell_type": "code",
   "execution_count": 95,
   "id": "16f520e6-2060-4786-988a-2af2ff7166ec",
   "metadata": {
    "execution": {
     "iopub.execute_input": "2023-07-04T14:00:15.460395Z",
     "iopub.status.busy": "2023-07-04T14:00:15.460395Z",
     "iopub.status.idle": "2023-07-04T14:00:15.464638Z",
     "shell.execute_reply": "2023-07-04T14:00:15.464638Z",
     "shell.execute_reply.started": "2023-07-04T14:00:15.460395Z"
    }
   },
   "outputs": [
    {
     "data": {
      "text/plain": [
       "(27.865123966942146, 24.765123966942152)"
      ]
     },
     "execution_count": 95,
     "metadata": {},
     "output_type": "execute_result"
    }
   ],
   "source": [
    "# Now we have mean temperatures for January from year 1901 to 2021 from Australia and Columbia\n",
    "\n",
    "# Null hypothesis: There is no significant difference between the mean temperatures in January in Columbia and Australia\n",
    "# Alternative hypothesis: There is a significant difference between the mean temperatures in January in Columbia and Australia.\n",
    "\n",
    "temp_col = columbia.mean()\n",
    "temp_aus = australia.mean()\n",
    "\n",
    "temp_aus, temp_col"
   ]
  },
  {
   "cell_type": "code",
   "execution_count": 96,
   "id": "718da95d-d664-4c1e-be1f-843b551168b5",
   "metadata": {
    "execution": {
     "iopub.execute_input": "2023-07-04T14:00:16.856904Z",
     "iopub.status.busy": "2023-07-04T14:00:16.856904Z",
     "iopub.status.idle": "2023-07-04T14:00:16.863598Z",
     "shell.execute_reply": "2023-07-04T14:00:16.863423Z",
     "shell.execute_reply.started": "2023-07-04T14:00:16.856904Z"
    }
   },
   "outputs": [
    {
     "data": {
      "text/plain": [
       "3.0999999999999943"
      ]
     },
     "execution_count": 96,
     "metadata": {},
     "output_type": "execute_result"
    }
   ],
   "source": [
    "temp_diff = temp_aus - temp_col\n",
    "temp_diff"
   ]
  },
  {
   "cell_type": "code",
   "execution_count": null,
   "id": "ab89acc7-f93b-4ddc-af63-099ce0c118cc",
   "metadata": {},
   "outputs": [],
   "source": []
  },
  {
   "cell_type": "code",
   "execution_count": 100,
   "id": "e332c20a-710f-4cc6-9bd7-79e77658a769",
   "metadata": {
    "execution": {
     "iopub.execute_input": "2023-07-04T14:00:40.337427Z",
     "iopub.status.busy": "2023-07-04T14:00:40.337427Z",
     "iopub.status.idle": "2023-07-04T14:00:40.414863Z",
     "shell.execute_reply": "2023-07-04T14:00:40.414863Z",
     "shell.execute_reply.started": "2023-07-04T14:00:40.337427Z"
    }
   },
   "outputs": [
    {
     "data": {
      "image/png": "[encoded data removed]",
      "text/plain": [
       "<Figure size 640x480 with 1 Axes>"
      ]
     },
     "metadata": {},
     "output_type": "display_data"
    }
   ],
   "source": [
    "fig, axes = plt.subplots()\n",
    "axes.boxplot([columbia, australia], labels = [\"Columbia\", \"Australia\"], widths = .65)\n",
    "plt.show()"
   ]
  },
  {
   "cell_type": "code",
   "execution_count": null,
   "id": "472eeec1-c66e-4902-85ae-ba8bed0af6d7",
   "metadata": {},
   "outputs": [],
   "source": []
  },
  {
   "cell_type": "code",
   "execution_count": 54,
   "id": "a8ccdc49-09fe-40c3-a31e-c2da3c99ceff",
   "metadata": {
    "execution": {
     "iopub.execute_input": "2023-07-04T13:37:30.428339Z",
     "iopub.status.busy": "2023-07-04T13:37:30.428339Z",
     "iopub.status.idle": "2023-07-04T13:37:30.434053Z",
     "shell.execute_reply": "2023-07-04T13:37:30.434053Z",
     "shell.execute_reply.started": "2023-07-04T13:37:30.428339Z"
    }
   },
   "outputs": [],
   "source": [
    "# Assumptions:\n",
    "\n",
    "# 1) Our samples are simple random samples.\n",
    "# 2) Two samples are independent from one another.\n",
    "# 3) Both POPULATIONS are approximately normal. or the two samples are large enough."
   ]
  },
  {
   "cell_type": "code",
   "execution_count": 101,
   "id": "13725a07-637e-4e4f-825c-c4e92ee70527",
   "metadata": {
    "execution": {
     "iopub.execute_input": "2023-07-04T14:00:47.804709Z",
     "iopub.status.busy": "2023-07-04T14:00:47.803713Z",
     "iopub.status.idle": "2023-07-04T14:00:48.111680Z",
     "shell.execute_reply": "2023-07-04T14:00:48.111680Z",
     "shell.execute_reply.started": "2023-07-04T14:00:47.804709Z"
    }
   },
   "outputs": [
    {
     "data": {
      "image/png": "[encoded data removed]",
      "text/plain": [
       "<Figure size 1500x700 with 4 Axes>"
      ]
     },
     "metadata": {},
     "output_type": "display_data"
    }
   ],
   "source": [
    "# Let's first visualize the data exploratively,\n",
    "\n",
    "x = np.linspace(0, 1, num = 100)\n",
    "qnorm = norm.ppf(x)\n",
    "\n",
    "fig, ((axes_0, axes_1), (axes_2, axes_3)) = plt.subplots(nrows = 2, ncols = 2)\n",
    "axes_0.sharex(axes_2)\n",
    "axes_1.sharex(axes_3)\n",
    "fig.set_size_inches(15, 7)\n",
    "\n",
    "axes_0.hist(columbia, rwidth = 0.9, bins = 10)\n",
    "axes_1.scatter(qnorm, np.quantile(q = x, a = columbia))\n",
    "axes_1.plot(axes_1.get_xbound(), axes_1.get_ybound(), color = \"red\")\n",
    "\n",
    "axes_2.hist(australia, rwidth = 0.9, bins = 10)\n",
    "axes_3.scatter(qnorm, np.quantile(q = x, a = australia))\n",
    "axes_3.plot(axes_3.get_xbound(), axes_3.get_ybound(), color = \"red\")\n",
    "\n",
    "plt.show()"
   ]
  },
  {
   "cell_type": "code",
   "execution_count": 102,
   "id": "70d85077-87ad-4f0d-b7a0-68df62305386",
   "metadata": {
    "execution": {
     "iopub.execute_input": "2023-07-04T14:00:52.002640Z",
     "iopub.status.busy": "2023-07-04T14:00:52.002640Z",
     "iopub.status.idle": "2023-07-04T14:00:52.008980Z",
     "shell.execute_reply": "2023-07-04T14:00:52.008859Z",
     "shell.execute_reply.started": "2023-07-04T14:00:52.002640Z"
    }
   },
   "outputs": [
    {
     "data": {
      "text/plain": [
       "(121, 121)"
      ]
     },
     "execution_count": 102,
     "metadata": {},
     "output_type": "execute_result"
    }
   ],
   "source": [
    "# Our samples are not LARGE but large enough.\n",
    "\n",
    "columbia.size, australia.size"
   ]
  },
  {
   "cell_type": "code",
   "execution_count": 103,
   "id": "1440e513-03da-4c8d-8ea2-00779319bddf",
   "metadata": {
    "execution": {
     "iopub.execute_input": "2023-07-04T14:00:52.707018Z",
     "iopub.status.busy": "2023-07-04T14:00:52.707018Z",
     "iopub.status.idle": "2023-07-04T14:00:52.711886Z",
     "shell.execute_reply": "2023-07-04T14:00:52.710873Z",
     "shell.execute_reply.started": "2023-07-04T14:00:52.707018Z"
    }
   },
   "outputs": [],
   "source": [
    "# They form aoughly normal distributions, with Australia having a higher degree of normality in distribution of temperatures.\n",
    "# This postulate is reinforced by the qq plots as well."
   ]
  },
  {
   "cell_type": "code",
   "execution_count": null,
   "id": "95959dc3-8ac7-4673-8f73-eb08d4ed5963",
   "metadata": {},
   "outputs": [],
   "source": []
  },
  {
   "cell_type": "code",
   "execution_count": 104,
   "id": "d32a2c3c-58f9-4f80-ad5c-6c7f0c05d9de",
   "metadata": {
    "execution": {
     "iopub.execute_input": "2023-07-04T14:00:53.313146Z",
     "iopub.status.busy": "2023-07-04T14:00:53.313146Z",
     "iopub.status.idle": "2023-07-04T14:00:53.318224Z",
     "shell.execute_reply": "2023-07-04T14:00:53.318224Z",
     "shell.execute_reply.started": "2023-07-04T14:00:53.313146Z"
    }
   },
   "outputs": [
    {
     "data": {
      "text/plain": [
       "3.0999999999999943"
      ]
     },
     "execution_count": 104,
     "metadata": {},
     "output_type": "execute_result"
    }
   ],
   "source": [
    "# Our best estimate is the difference in the means of the two samples,\n",
    "\n",
    "temp_diff"
   ]
  },
  {
   "cell_type": "code",
   "execution_count": 110,
   "id": "ac8cd1cd-707e-4564-bbcb-9bbc8de0e5dd",
   "metadata": {
    "execution": {
     "iopub.execute_input": "2023-07-04T14:02:40.460761Z",
     "iopub.status.busy": "2023-07-04T14:02:40.456752Z",
     "iopub.status.idle": "2023-07-04T14:02:40.464663Z",
     "shell.execute_reply": "2023-07-04T14:02:40.464663Z",
     "shell.execute_reply.started": "2023-07-04T14:02:40.456752Z"
    }
   },
   "outputs": [
    {
     "data": {
      "text/plain": [
       "(0.0647872863232248, 0.04378279895216276)"
      ]
     },
     "execution_count": 110,
     "metadata": {},
     "output_type": "execute_result"
    }
   ],
   "source": [
    "# Next, to calculate the test statistic, we need the standard error of the population, since we do not know the standard error of the populations, \n",
    "# We'll use the standard error of the samples!\n",
    "\n",
    "stderr_aus = australia.std() / np.sqrt(australia.size)\n",
    "stderr_col = columbia.std() / np.sqrt(columbia.size)\n",
    "\n",
    "stderr_aus, stderr_col"
   ]
  },
  {
   "cell_type": "code",
   "execution_count": 114,
   "id": "60ec4a21-ec77-48a9-bee1-adf40b133f61",
   "metadata": {
    "execution": {
     "iopub.execute_input": "2023-07-04T14:08:25.092743Z",
     "iopub.status.busy": "2023-07-04T14:08:25.092743Z",
     "iopub.status.idle": "2023-07-04T14:08:25.098028Z",
     "shell.execute_reply": "2023-07-04T14:08:25.097489Z",
     "shell.execute_reply.started": "2023-07-04T14:08:25.092743Z"
    }
   },
   "outputs": [
    {
     "data": {
      "text/plain": [
       "(0.5078844887644287, 0.2319489515743461)"
      ]
     },
     "execution_count": 114,
     "metadata": {},
     "output_type": "execute_result"
    }
   ],
   "source": [
    "# Pooled approach is not suitable here since there's considerable variation between the variances of the two samples!\n",
    "\n",
    "australia.var(), columbia.var()"
   ]
  },
  {
   "cell_type": "code",
   "execution_count": 111,
   "id": "9231e21d-5ed6-48bb-a177-2f87375e0c1c",
   "metadata": {
    "execution": {
     "iopub.execute_input": "2023-07-04T14:05:59.085767Z",
     "iopub.status.busy": "2023-07-04T14:05:59.085767Z",
     "iopub.status.idle": "2023-07-04T14:05:59.090881Z",
     "shell.execute_reply": "2023-07-04T14:05:59.090881Z",
     "shell.execute_reply.started": "2023-07-04T14:05:59.085767Z"
    }
   },
   "outputs": [
    {
     "data": {
      "text/plain": [
       "0.10857008527538756"
      ]
     },
     "execution_count": 111,
     "metadata": {},
     "output_type": "execute_result"
    }
   ],
   "source": [
    "# Using the unpooled approach,\n",
    "\n",
    "stderr_combined = stderr_aus + stderr_col\n",
    "stderr_combined"
   ]
  },
  {
   "cell_type": "code",
   "execution_count": 112,
   "id": "4970593f-eaeb-4fc1-be55-d45e00143e73",
   "metadata": {
    "execution": {
     "iopub.execute_input": "2023-07-04T14:06:22.485372Z",
     "iopub.status.busy": "2023-07-04T14:06:22.485372Z",
     "iopub.status.idle": "2023-07-04T14:06:22.490097Z",
     "shell.execute_reply": "2023-07-04T14:06:22.490097Z",
     "shell.execute_reply.started": "2023-07-04T14:06:22.485372Z"
    }
   },
   "outputs": [
    {
     "data": {
      "text/plain": [
       "28.552984849711205"
      ]
     },
     "execution_count": 112,
     "metadata": {},
     "output_type": "execute_result"
    }
   ],
   "source": [
    "tstat = (temp_diff - 0) / stderr_combined\n",
    "tstat"
   ]
  },
  {
   "cell_type": "code",
   "execution_count": 120,
   "id": "f7512d11-cc1b-40e4-b5f3-893b731b05e8",
   "metadata": {
    "execution": {
     "iopub.execute_input": "2023-07-04T14:14:30.740546Z",
     "iopub.status.busy": "2023-07-04T14:14:30.740546Z",
     "iopub.status.idle": "2023-07-04T14:14:30.746347Z",
     "shell.execute_reply": "2023-07-04T14:14:30.746347Z",
     "shell.execute_reply.started": "2023-07-04T14:14:30.740546Z"
    }
   },
   "outputs": [
    {
     "data": {
      "text/plain": [
       "(3.0999999999999943, 3.0999999999999943)"
      ]
     },
     "execution_count": 120,
     "metadata": {},
     "output_type": "execute_result"
    }
   ],
   "source": [
    "# What does this t statistic really tell us?\n",
    "\n",
    "# It tells that the actual population difference is t times the combined standard errors greater than the hypothesized difference, i.e 0.\n",
    "\n",
    "temp_diff, 0.0 + (tstat * stderr_combined) "
   ]
  },
  {
   "cell_type": "code",
   "execution_count": null,
   "id": "1e122d95-5ef5-4f32-951a-3a35527eaf33",
   "metadata": {},
   "outputs": [],
   "source": [
    "# Since our t value had no direction, i.e two tailed t test,"
   ]
  },
  {
   "cell_type": "code",
   "execution_count": 130,
   "id": "57c07374-3b28-4871-a402-ec2feb92c04d",
   "metadata": {
    "execution": {
     "iopub.execute_input": "2023-07-04T14:19:23.556394Z",
     "iopub.status.busy": "2023-07-04T14:19:23.556394Z",
     "iopub.status.idle": "2023-07-04T14:19:23.668096Z",
     "shell.execute_reply": "2023-07-04T14:19:23.668096Z",
     "shell.execute_reply.started": "2023-07-04T14:19:23.556394Z"
    }
   },
   "outputs": [
    {
     "data": {
      "image/png": "[encoded data removed]",
      "text/plain": [
       "<Figure size 640x480 with 1 Axes>"
      ]
     },
     "metadata": {},
     "output_type": "display_data"
    }
   ],
   "source": [
    "x = np.linspace(-30, 30, num = 10000)\n",
    "tscores = t.pdf(x, df = x.size - 1)\n",
    "\n",
    "fig, axes = plt.subplots()\n",
    "axes.plot(x, tscores)\n",
    "axes.vlines([-tstat, tstat], ymin = 0, ymax = 0.4, color = \"red\")\n",
    "axes.fill_between(x = x, y1 = 0, y2 = 0.4, where = (x <= -tstat) | (x >= tstat), color = \"yellow\")\n",
    "plt.show()"
   ]
  },
  {
   "cell_type": "code",
   "execution_count": 132,
   "id": "76cf8848-23c1-4131-ab50-a6abaf0d2f9d",
   "metadata": {
    "execution": {
     "iopub.execute_input": "2023-07-04T14:20:33.045336Z",
     "iopub.status.busy": "2023-07-04T14:20:33.041325Z",
     "iopub.status.idle": "2023-07-04T14:20:33.050679Z",
     "shell.execute_reply": "2023-07-04T14:20:33.050679Z",
     "shell.execute_reply.started": "2023-07-04T14:20:33.045336Z"
    }
   },
   "outputs": [
    {
     "data": {
      "text/plain": [
       "1.0"
      ]
     },
     "execution_count": 132,
     "metadata": {},
     "output_type": "execute_result"
    }
   ],
   "source": [
    "# The area of the curve enclosed by the line x = tstat, on the left.\n",
    "\n",
    "t.cdf(tstat, df = columbia.size - 1)"
   ]
  },
  {
   "cell_type": "code",
   "execution_count": 133,
   "id": "a9fbc8d6-6360-4e8d-b19c-e73143a82389",
   "metadata": {
    "execution": {
     "iopub.execute_input": "2023-07-04T14:21:02.515579Z",
     "iopub.status.busy": "2023-07-04T14:21:02.515579Z",
     "iopub.status.idle": "2023-07-04T14:21:02.522217Z",
     "shell.execute_reply": "2023-07-04T14:21:02.522217Z",
     "shell.execute_reply.started": "2023-07-04T14:21:02.515579Z"
    }
   },
   "outputs": [
    {
     "data": {
      "text/plain": [
       "0.0"
      ]
     },
     "execution_count": 133,
     "metadata": {},
     "output_type": "execute_result"
    }
   ],
   "source": [
    "# To get what's on the right, \n",
    "\n",
    "1 - t.cdf(tstat, df = columbia.size - 1)"
   ]
  },
  {
   "cell_type": "code",
   "execution_count": 135,
   "id": "d06fdc0d-b502-4094-88ef-d3d12f9f813f",
   "metadata": {
    "execution": {
     "iopub.execute_input": "2023-07-04T14:21:30.242282Z",
     "iopub.status.busy": "2023-07-04T14:21:30.242282Z",
     "iopub.status.idle": "2023-07-04T14:21:30.249085Z",
     "shell.execute_reply": "2023-07-04T14:21:30.248990Z",
     "shell.execute_reply.started": "2023-07-04T14:21:30.242282Z"
    }
   },
   "outputs": [
    {
     "data": {
      "text/plain": [
       "0.0"
      ]
     },
     "execution_count": 135,
     "metadata": {},
     "output_type": "execute_result"
    }
   ],
   "source": [
    "# Twice that area,\n",
    "\n",
    "p = 2 * (1 - t.cdf(tstat, df = columbia.size - 1))\n",
    "p"
   ]
  },
  {
   "cell_type": "code",
   "execution_count": null,
   "id": "344cf475-082c-4bd8-b46b-bddab843ce9c",
   "metadata": {},
   "outputs": [],
   "source": [
    "# p value is less than our alpha, significance!\n",
    "# We can reject the Null hypothesis!.\n",
    "\n",
    "# There is NOT ENOUGH EVIDENCE TO ACCEPT THE NULL!\n",
    "# SO, IT GETS REJECTED!\n",
    "\n",
    "# HOWEVER, WE SHOULD NOTE THAT WE DO NOT FIND EVIDENCE TO SUPPORT THE ALTERNATIVE HYPOTHESIS, BUT JUST TO REJECT THE NULL HYPOTHESIS."
   ]
  }
 ],
 "metadata": {
  "kernelspec": {
   "display_name": "Python 3 (ipykernel)",
   "language": "python",
   "name": "python3"
  },
  "language_info": {
   "codemirror_mode": {
    "name": "ipython",
    "version": 3
   },
   "file_extension": ".py",
   "mimetype": "text/x-python",
   "name": "python",
   "nbconvert_exporter": "python",
   "pygments_lexer": "ipython3",
   "version": "3.11.4"
  }
 },
 "nbformat": 4,
 "nbformat_minor": 5
}
