{
 "cells": [
  {
   "cell_type": "code",
   "execution_count": 2,
   "id": "d22c9282-e9e2-4c69-aadc-410c04b59337",
   "metadata": {
    "execution": {
     "iopub.execute_input": "2023-05-22T11:19:52.763713Z",
     "iopub.status.busy": "2023-05-22T11:19:52.763713Z",
     "iopub.status.idle": "2023-05-22T11:19:54.017850Z",
     "shell.execute_reply": "2023-05-22T11:19:54.017850Z",
     "shell.execute_reply.started": "2023-05-22T11:19:52.763713Z"
    }
   },
   "outputs": [],
   "source": [
    "import numpy as np\n",
    "np.random.seed(2023 - 5 - 21)\n",
    "import pandas as pd\n",
    "import matplotlib.pyplot as plt"
   ]
  },
  {
   "cell_type": "code",
   "execution_count": 3,
   "id": "8d453fc3-cbcc-460d-9228-8c543cb7cee2",
   "metadata": {
    "execution": {
     "iopub.execute_input": "2023-05-22T11:19:54.602005Z",
     "iopub.status.busy": "2023-05-22T11:19:54.602005Z",
     "iopub.status.idle": "2023-05-22T11:19:54.609087Z",
     "shell.execute_reply": "2023-05-22T11:19:54.608479Z",
     "shell.execute_reply.started": "2023-05-22T11:19:54.602005Z"
    }
   },
   "outputs": [],
   "source": [
    "# Let's say that we have 2 bags -> A and B\n",
    "# Each have a number of vouchers whose monetary values range from negative to positive."
   ]
  },
  {
   "cell_type": "code",
   "execution_count": 4,
   "id": "b8c619b3-44c6-47d2-b3b4-449865105c23",
   "metadata": {
    "execution": {
     "iopub.execute_input": "2023-05-22T11:19:55.198042Z",
     "iopub.status.busy": "2023-05-22T11:19:55.198042Z",
     "iopub.status.idle": "2023-05-22T11:19:55.261061Z",
     "shell.execute_reply": "2023-05-22T11:19:55.261061Z",
     "shell.execute_reply.started": "2023-05-22T11:19:55.198042Z"
    }
   },
   "outputs": [],
   "source": [
    "A = np.array([ -2,  -6, -15, -15,  -8,  -1, -13,  -8,  -1,  -9,  -6,  -7, -15,\n",
    "       -14, -14,  -9,  -3,  -4,  -2, -14, -15, -10, -15, -13, -14, -15,\n",
    "        -1, -10,  -9,  -5,  -2, -12, -12,  -8, -11,  -4,  -2,  -4, -10,\n",
    "       -15,  -9,  -3,  -6,  -9,  -2, -13,  -8,  -3,  -6, -14,  -4,  -5,\n",
    "        -4,  -5,  -2,  -6, -14, -10,  -4,  -6,  -4, -11, -13,  -4,  -5,\n",
    "       -13, -11, -14,  -4,  -6, -14, -14, -14, -11,  -3,  -7,  -7, -15,\n",
    "       -10, -15, -13,  -9, -10,  -6,  -4, -10, -13,  -6,  -1, -10,  -8,\n",
    "        -4, -14, -14, -11,  -6,  -4,  -2,  -5,  -9, -10, -12,  -9,  -3,\n",
    "        -5,  -6,  -1, -12,  -3,  -7,  -9, -15,  -2,  -4,  -4,  -4,  -6,\n",
    "        -5,  -7,  -6,  -4,  -1,  -5, -14,  -8, -12,  -7,  -6, -14,  -9,\n",
    "       -10, -13,  -8,  -6, -11, -10,  -9, -14,  -5, -15, -13,  -7, -15,\n",
    "       -13, -10,  -7,  -3,  -1, -13,  -5,  -3, -13,  -6, -12, -14,  -2,\n",
    "       -11,  -3,  -3, -12,  -1, -13, -14,  -6,  -8,  -1, -14,  -1, -15,\n",
    "        -2, -12,  -1,  -5, -15,  -4,  -6, -11,  -3,  -6,  -7,  -2, -13,\n",
    "       -10,  -1,  -7,  -3,  -9, -12,  -6, -11,  -1, -12,  -6, -10, -11,\n",
    "        -1, -12,  -4,  -8, -11,   7,   3,   8,   6,   8,   5,   1,   9,\n",
    "         1,   9,   5,   1,   7,   8,   1,   8,   8,   2,   1,   9,   5,\n",
    "         4,   0,   5,   6,   0,   6,   4,   9,   5,   1,   1,   2,   8,\n",
    "         0,   4,   1,   8,   2,   3,   3,   5,   9,   7,   5,   8,   9,\n",
    "         3,   2,   3,   9,   7,   7,   7,   1,   7,   8,   9,   2,   7,\n",
    "         7,   5,   3,   1,   9,   3,   7,   6,   5,   3,   4,   0,   3,\n",
    "         3,   2,   4,   4,   5,   5,   2,   4,   0,   1,   7,   7,   5,\n",
    "         7,   6,   4,   3,   5,   8,   7,   6,   1,   8,   0,   8,   3,\n",
    "         3])\n",
    "\n",
    "B = np.array([ -6,  -6,  -8, -10,  -6,  -3,  -3,  -6,  -2,  -8,  -3,  -2,  -3,\n",
    "        -2,  -2,  -3,  -1, -10,  -6,  -4,  -4, -10,  -3, -10,  -6,  -3,\n",
    "        -4,  -8,  -9,  -7,  -4,  -8,  -7,  -2,  -2,  -5,  -8,  -1,  -8,\n",
    "        -6,  -9,  -1,  -5,  -8,  -6,  -8,  -1,  -8,  -8, -10,  -7,  -4,\n",
    "        -4,  -8,  -2,  -5,  -4,  -3,  -9,  -3,  -2,  -1,  -6,  -3,  -2,\n",
    "       -10,  -3,  -3,  -3, -10,  -6,  -1,  -6,  -5,  -6,  -2,  -3,  -1,\n",
    "        -7,  -7,  -6,  -8,  -3,  -6,  -5,  -3,  -9,  -7,  -4,  -1,  -1,\n",
    "        -7,  -8,  -9,  -8,  -9,  -3, -10,  -8,  -4,  -8,  -2,  -3,  -7,\n",
    "        -2,  -1,  -4,  -7,  -2,  -1, -10,  -5,  -1,  -4,  -9,  -7,  -1,\n",
    "        -3,  -4,  -3,  -9,  -6,  -7,  -3,  -2,  -3,  -1,  -2,  -4,  -7,\n",
    "        -7,  -3,  -7,  -4,  -1,  -9,  -1,  -1,  -3,  -4,  -4,  -9,  -3,\n",
    "        -6,  -4,  -5,  -2,  -6,  -4,  -4,   8,   4,   4,   9,   9,   9,\n",
    "         0,   7,   4,  13,   1,  12,   5,  13,   8,   3,  14,  10,  12,\n",
    "         9,   9,  13,   7,  11,   3,   2,  10,   3,  12,   1,  12,  13,\n",
    "        12,   6,   8,  12,   9,  14,   3,   0,  14,   0,   5,   1,   0,\n",
    "        12,   0,   8,   9,   0,   7,   0,   5,   5,   0,  12,   3,   1,\n",
    "        14,   0,   6,   4,  12,   5,  10,  13,   4,  14,   5,  14,   3,\n",
    "        14,  14,   9,   9,   3,  11,   1,   5,  13,   9,  12,  10,   0,\n",
    "        12,  13,   1,   7,   2,  10,   1,  13,  10,   7,  13,  10,  10,\n",
    "        14,  14,   9,  14,   6,   5,  11,   8,   8,   3,   3,   9,  13,\n",
    "        12,  12,   2,   3,  10,  13,   2,  13,  10,  12,  12,   7,  12,\n",
    "         6,   2,   7,  10,  12,   8,   5,   7,  11,   8,   4,   1,   6,\n",
    "        12,   7,  14,   0,   5,   0,  10,   1,  11,  10,   5,   8,  11,\n",
    "         2])"
   ]
  },
  {
   "cell_type": "code",
   "execution_count": 5,
   "id": "8b4df4d9-66d1-42ef-ba6b-717c9ee7adb2",
   "metadata": {
    "execution": {
     "iopub.execute_input": "2023-05-22T11:19:56.828265Z",
     "iopub.status.busy": "2023-05-22T11:19:56.828265Z",
     "iopub.status.idle": "2023-05-22T11:19:56.880141Z",
     "shell.execute_reply": "2023-05-22T11:19:56.880141Z",
     "shell.execute_reply.started": "2023-05-22T11:19:56.828265Z"
    }
   },
   "outputs": [
    {
     "data": {
      "text/plain": [
       "(array([-15, -14, -13, -12, -11, -10,  -9,  -8,  -7,  -6,  -5,  -4,  -3,\n",
       "         -2,  -1,   0,   1,   2,   3,   4,   5,   6,   7,   8,   9]),\n",
       " array([14, 18, 14, 11, 11, 14, 12,  9, 10, 21, 11, 18, 12, 11, 14,  6, 12,\n",
       "         7, 13,  8, 13,  6, 14, 12,  9], dtype=int64))"
      ]
     },
     "execution_count": 5,
     "metadata": {},
     "output_type": "execute_result"
    }
   ],
   "source": [
    "np.unique(A, return_counts = True)"
   ]
  },
  {
   "cell_type": "code",
   "execution_count": 6,
   "id": "5a8dd30b-67e9-4e62-9541-ceb586c4410b",
   "metadata": {
    "execution": {
     "iopub.execute_input": "2023-05-22T11:19:59.552276Z",
     "iopub.status.busy": "2023-05-22T11:19:59.552276Z",
     "iopub.status.idle": "2023-05-22T11:19:59.572978Z",
     "shell.execute_reply": "2023-05-22T11:19:59.572533Z",
     "shell.execute_reply.started": "2023-05-22T11:19:59.552276Z"
    }
   },
   "outputs": [
    {
     "name": "stdout",
     "output_type": "stream",
     "text": [
      "Total value of all vouchers in bag A is: -1139 and bag B is: 396\n"
     ]
    }
   ],
   "source": [
    "print(f\"Total value of all vouchers in bag A is: {A.sum()} and bag B is: {B.sum()}\")"
   ]
  },
  {
   "cell_type": "code",
   "execution_count": 7,
   "id": "96852d44-6f3e-4975-a2e6-1e6a52b17f8e",
   "metadata": {
    "execution": {
     "iopub.execute_input": "2023-05-22T11:19:59.927910Z",
     "iopub.status.busy": "2023-05-22T11:19:59.927910Z",
     "iopub.status.idle": "2023-05-22T11:19:59.972566Z",
     "shell.execute_reply": "2023-05-22T11:19:59.972566Z",
     "shell.execute_reply.started": "2023-05-22T11:19:59.927910Z"
    }
   },
   "outputs": [],
   "source": [
    "_A = pd.Series(np.unique(A, return_counts = True)[1], index = range(-15, 10))\n",
    "_B = pd.Series(np.unique(B, return_counts = True)[1], index = range(-10, 15))"
   ]
  },
  {
   "cell_type": "code",
   "execution_count": 8,
   "id": "99767d42-1644-4694-a17f-baf3ee9a68c3",
   "metadata": {
    "execution": {
     "iopub.execute_input": "2023-05-22T11:20:00.305785Z",
     "iopub.status.busy": "2023-05-22T11:20:00.305785Z",
     "iopub.status.idle": "2023-05-22T11:20:00.313484Z",
     "shell.execute_reply": "2023-05-22T11:20:00.313484Z",
     "shell.execute_reply.started": "2023-05-22T11:20:00.305785Z"
    }
   },
   "outputs": [],
   "source": [
    "ftable = pd.DataFrame({\"A\": _A, \"B\": _B}, dtype = np.int64)"
   ]
  },
  {
   "cell_type": "code",
   "execution_count": 9,
   "id": "8cbadfa1-c1c1-450f-8e52-c29c9c3dc9c5",
   "metadata": {
    "execution": {
     "iopub.execute_input": "2023-05-22T11:20:00.902517Z",
     "iopub.status.busy": "2023-05-22T11:20:00.902517Z",
     "iopub.status.idle": "2023-05-22T11:20:00.967330Z",
     "shell.execute_reply": "2023-05-22T11:20:00.967330Z",
     "shell.execute_reply.started": "2023-05-22T11:20:00.902517Z"
    }
   },
   "outputs": [
    {
     "data": {
      "text/html": [
       "<div>\n",
       "<style scoped>\n",
       "    .dataframe tbody tr th:only-of-type {\n",
       "        vertical-align: middle;\n",
       "    }\n",
       "\n",
       "    .dataframe tbody tr th {\n",
       "        vertical-align: top;\n",
       "    }\n",
       "\n",
       "    .dataframe thead th {\n",
       "        text-align: right;\n",
       "    }\n",
       "</style>\n",
       "<table border=\"1\" class=\"dataframe\">\n",
       "  <thead>\n",
       "    <tr style=\"text-align: right;\">\n",
       "      <th></th>\n",
       "      <th>A</th>\n",
       "      <th>B</th>\n",
       "    </tr>\n",
       "  </thead>\n",
       "  <tbody>\n",
       "    <tr>\n",
       "      <th>-15</th>\n",
       "      <td>14.0</td>\n",
       "      <td>NaN</td>\n",
       "    </tr>\n",
       "    <tr>\n",
       "      <th>-14</th>\n",
       "      <td>18.0</td>\n",
       "      <td>NaN</td>\n",
       "    </tr>\n",
       "    <tr>\n",
       "      <th>-13</th>\n",
       "      <td>14.0</td>\n",
       "      <td>NaN</td>\n",
       "    </tr>\n",
       "    <tr>\n",
       "      <th>-12</th>\n",
       "      <td>11.0</td>\n",
       "      <td>NaN</td>\n",
       "    </tr>\n",
       "    <tr>\n",
       "      <th>-11</th>\n",
       "      <td>11.0</td>\n",
       "      <td>NaN</td>\n",
       "    </tr>\n",
       "    <tr>\n",
       "      <th>-10</th>\n",
       "      <td>14.0</td>\n",
       "      <td>9.0</td>\n",
       "    </tr>\n",
       "    <tr>\n",
       "      <th>-9</th>\n",
       "      <td>12.0</td>\n",
       "      <td>10.0</td>\n",
       "    </tr>\n",
       "    <tr>\n",
       "      <th>-8</th>\n",
       "      <td>9.0</td>\n",
       "      <td>16.0</td>\n",
       "    </tr>\n",
       "    <tr>\n",
       "      <th>-7</th>\n",
       "      <td>10.0</td>\n",
       "      <td>14.0</td>\n",
       "    </tr>\n",
       "    <tr>\n",
       "      <th>-6</th>\n",
       "      <td>21.0</td>\n",
       "      <td>17.0</td>\n",
       "    </tr>\n",
       "    <tr>\n",
       "      <th>-5</th>\n",
       "      <td>11.0</td>\n",
       "      <td>7.0</td>\n",
       "    </tr>\n",
       "    <tr>\n",
       "      <th>-4</th>\n",
       "      <td>18.0</td>\n",
       "      <td>19.0</td>\n",
       "    </tr>\n",
       "    <tr>\n",
       "      <th>-3</th>\n",
       "      <td>12.0</td>\n",
       "      <td>25.0</td>\n",
       "    </tr>\n",
       "    <tr>\n",
       "      <th>-2</th>\n",
       "      <td>11.0</td>\n",
       "      <td>16.0</td>\n",
       "    </tr>\n",
       "    <tr>\n",
       "      <th>-1</th>\n",
       "      <td>14.0</td>\n",
       "      <td>17.0</td>\n",
       "    </tr>\n",
       "    <tr>\n",
       "      <th>0</th>\n",
       "      <td>6.0</td>\n",
       "      <td>12.0</td>\n",
       "    </tr>\n",
       "    <tr>\n",
       "      <th>1</th>\n",
       "      <td>12.0</td>\n",
       "      <td>9.0</td>\n",
       "    </tr>\n",
       "    <tr>\n",
       "      <th>2</th>\n",
       "      <td>7.0</td>\n",
       "      <td>6.0</td>\n",
       "    </tr>\n",
       "    <tr>\n",
       "      <th>3</th>\n",
       "      <td>13.0</td>\n",
       "      <td>10.0</td>\n",
       "    </tr>\n",
       "    <tr>\n",
       "      <th>4</th>\n",
       "      <td>8.0</td>\n",
       "      <td>6.0</td>\n",
       "    </tr>\n",
       "    <tr>\n",
       "      <th>5</th>\n",
       "      <td>13.0</td>\n",
       "      <td>11.0</td>\n",
       "    </tr>\n",
       "    <tr>\n",
       "      <th>6</th>\n",
       "      <td>6.0</td>\n",
       "      <td>5.0</td>\n",
       "    </tr>\n",
       "    <tr>\n",
       "      <th>7</th>\n",
       "      <td>14.0</td>\n",
       "      <td>9.0</td>\n",
       "    </tr>\n",
       "    <tr>\n",
       "      <th>8</th>\n",
       "      <td>12.0</td>\n",
       "      <td>9.0</td>\n",
       "    </tr>\n",
       "    <tr>\n",
       "      <th>9</th>\n",
       "      <td>9.0</td>\n",
       "      <td>12.0</td>\n",
       "    </tr>\n",
       "    <tr>\n",
       "      <th>10</th>\n",
       "      <td>NaN</td>\n",
       "      <td>13.0</td>\n",
       "    </tr>\n",
       "    <tr>\n",
       "      <th>11</th>\n",
       "      <td>NaN</td>\n",
       "      <td>6.0</td>\n",
       "    </tr>\n",
       "    <tr>\n",
       "      <th>12</th>\n",
       "      <td>NaN</td>\n",
       "      <td>18.0</td>\n",
       "    </tr>\n",
       "    <tr>\n",
       "      <th>13</th>\n",
       "      <td>NaN</td>\n",
       "      <td>12.0</td>\n",
       "    </tr>\n",
       "    <tr>\n",
       "      <th>14</th>\n",
       "      <td>NaN</td>\n",
       "      <td>12.0</td>\n",
       "    </tr>\n",
       "  </tbody>\n",
       "</table>\n",
       "</div>"
      ],
      "text/plain": [
       "        A     B\n",
       "-15  14.0   NaN\n",
       "-14  18.0   NaN\n",
       "-13  14.0   NaN\n",
       "-12  11.0   NaN\n",
       "-11  11.0   NaN\n",
       "-10  14.0   9.0\n",
       "-9   12.0  10.0\n",
       "-8    9.0  16.0\n",
       "-7   10.0  14.0\n",
       "-6   21.0  17.0\n",
       "-5   11.0   7.0\n",
       "-4   18.0  19.0\n",
       "-3   12.0  25.0\n",
       "-2   11.0  16.0\n",
       "-1   14.0  17.0\n",
       "0     6.0  12.0\n",
       "1    12.0   9.0\n",
       "2     7.0   6.0\n",
       "3    13.0  10.0\n",
       "4     8.0   6.0\n",
       "5    13.0  11.0\n",
       "6     6.0   5.0\n",
       "7    14.0   9.0\n",
       "8    12.0   9.0\n",
       "9     9.0  12.0\n",
       "10    NaN  13.0\n",
       "11    NaN   6.0\n",
       "12    NaN  18.0\n",
       "13    NaN  12.0\n",
       "14    NaN  12.0"
      ]
     },
     "execution_count": 9,
     "metadata": {},
     "output_type": "execute_result"
    }
   ],
   "source": [
    "ftable"
   ]
  },
  {
   "cell_type": "code",
   "execution_count": 42,
   "id": "b65c063b-9c25-4622-a710-4e2cf7694b62",
   "metadata": {
    "execution": {
     "iopub.execute_input": "2023-05-22T11:40:45.315043Z",
     "iopub.status.busy": "2023-05-22T11:40:45.315043Z",
     "iopub.status.idle": "2023-05-22T11:40:45.323598Z",
     "shell.execute_reply": "2023-05-22T11:40:45.323598Z",
     "shell.execute_reply.started": "2023-05-22T11:40:45.315043Z"
    }
   },
   "outputs": [],
   "source": [
    "ftable.fillna(0, inplace = True)"
   ]
  },
  {
   "cell_type": "code",
   "execution_count": 11,
   "id": "72e0732f-77d9-4d8c-9268-8d6be7fa303f",
   "metadata": {
    "execution": {
     "iopub.execute_input": "2023-05-22T11:20:01.906219Z",
     "iopub.status.busy": "2023-05-22T11:20:01.906219Z",
     "iopub.status.idle": "2023-05-22T11:20:02.171199Z",
     "shell.execute_reply": "2023-05-22T11:20:02.171199Z",
     "shell.execute_reply.started": "2023-05-22T11:20:01.906219Z"
    },
    "jp-MarkdownHeadingCollapsed": true
   },
   "outputs": [
    {
     "data": {
      "image/png": "[encoded data removed]",
      "text/plain": [
       "<Figure size 2000x800 with 1 Axes>"
      ]
     },
     "metadata": {},
     "output_type": "display_data"
    }
   ],
   "source": [
    "plt.rcParams[\"figure.figsize\"] = 20, 8\n",
    "plt.rcParams[\"font.size\"] = 20\n",
    "plt.plot(ftable.A, label = \"A\", marker = \"o\", linestyle = \"--\", mec = \"black\", mfc = \"violet\", color = \"purple\")\n",
    "plt.plot(ftable.B, label = \"B\",  marker = \"o\", linestyle = \"--\", mec = \"black\", mfc = \"lightgreen\", color = \"green\")\n",
    "plt.grid()\n",
    "plt.legend()\n",
    "plt.ylabel(\"Frequency\")\n",
    "plt.xlabel(\"Value\")\n",
    "plt.tight_layout()\n",
    "plt.show()\n",
    "\n",
    "# plt.savefig(\"bags.jpeg\", format = \"jpeg\", dpi = 300)"
   ]
  },
  {
   "cell_type": "code",
   "execution_count": 12,
   "id": "c125872a-b945-4b1a-ae2d-4a371151a53d",
   "metadata": {
    "execution": {
     "iopub.execute_input": "2023-05-22T11:20:02.751989Z",
     "iopub.status.busy": "2023-05-22T11:20:02.751989Z",
     "iopub.status.idle": "2023-05-22T11:20:02.759292Z",
     "shell.execute_reply": "2023-05-22T11:20:02.758776Z",
     "shell.execute_reply.started": "2023-05-22T11:20:02.751989Z"
    }
   },
   "outputs": [],
   "source": [
    "# Now we have the data from two bags, let's remove the labels -> Now we're left with two bags without labels.\n",
    "# Let's randomly pick one voucher from the bag at hand and given the value of the voucher can we say which bag it was taken from?"
   ]
  },
  {
   "cell_type": "markdown",
   "id": "ffa56c62-6d56-4789-85dd-d0cb4dd441d6",
   "metadata": {},
   "source": [
    "![Bags](./bags.jpeg)"
   ]
  },
  {
   "cell_type": "code",
   "execution_count": 13,
   "id": "2229454e-033d-4c6c-a8d7-d9ba15c302dc",
   "metadata": {
    "execution": {
     "iopub.execute_input": "2023-05-22T11:20:05.296539Z",
     "iopub.status.busy": "2023-05-22T11:20:05.296539Z",
     "iopub.status.idle": "2023-05-22T11:20:05.311064Z",
     "shell.execute_reply": "2023-05-22T11:20:05.310941Z",
     "shell.execute_reply.started": "2023-05-22T11:20:05.296539Z"
    }
   },
   "outputs": [],
   "source": [
    "# Say that we got a $ -10 voucher, frequency of $ -10 vouchers in \n",
    "# Bag A is 15\n",
    "# Bag B is 14\n",
    "\n",
    "# Since bag A has a higher frequency of $ -10 vouchers, the bag we selected the voucher from is likely to be bag A by a smaller margin.\n",
    "# Since the difference is not that significant."
   ]
  },
  {
   "cell_type": "code",
   "execution_count": 14,
   "id": "5f12815d-b3a8-4528-b4e3-ddc4ff6fc8da",
   "metadata": {
    "execution": {
     "iopub.execute_input": "2023-05-22T11:20:05.754891Z",
     "iopub.status.busy": "2023-05-22T11:20:05.754891Z",
     "iopub.status.idle": "2023-05-22T11:20:05.761098Z",
     "shell.execute_reply": "2023-05-22T11:20:05.761098Z",
     "shell.execute_reply.started": "2023-05-22T11:20:05.754891Z"
    }
   },
   "outputs": [
    {
     "data": {
      "text/plain": [
       "(300, 300)"
      ]
     },
     "execution_count": 14,
     "metadata": {},
     "output_type": "execute_result"
    }
   ],
   "source": [
    "A.size, B.size"
   ]
  },
  {
   "cell_type": "code",
   "execution_count": 15,
   "id": "4d75bfbd-93e5-4507-a61a-92bb18777e7c",
   "metadata": {
    "execution": {
     "iopub.execute_input": "2023-05-22T11:20:06.479498Z",
     "iopub.status.busy": "2023-05-22T11:20:06.479498Z",
     "iopub.status.idle": "2023-05-22T11:20:06.654885Z",
     "shell.execute_reply": "2023-05-22T11:20:06.654885Z",
     "shell.execute_reply.started": "2023-05-22T11:20:06.479498Z"
    }
   },
   "outputs": [
    {
     "data": {
      "image/png": "[encoded data removed]",
      "text/plain": [
       "<Figure size 2000x800 with 1 Axes>"
      ]
     },
     "metadata": {},
     "output_type": "display_data"
    }
   ],
   "source": [
    "# Another way to view this problem is to view the distributions of the two bags as two different models.\n",
    "\n",
    "plt.rcParams[\"font.size\"] = 12\n",
    "plt.rcParams[\"figure.figsize\"] = 20, 8\n",
    "plt.hist([A, B], bins = 25, rwidth = 0.8, color = [\"red\", \"blue\"], label = [\"A\", \"B\"])\n",
    "plt.legend()\n",
    "plt.show()"
   ]
  },
  {
   "cell_type": "code",
   "execution_count": 16,
   "id": "3c85cdb6-ef43-4715-8450-243f86e6c495",
   "metadata": {
    "execution": {
     "iopub.execute_input": "2023-05-22T11:20:07.076479Z",
     "iopub.status.busy": "2023-05-22T11:20:07.076479Z",
     "iopub.status.idle": "2023-05-22T11:20:07.093378Z",
     "shell.execute_reply": "2023-05-22T11:20:07.093378Z",
     "shell.execute_reply.started": "2023-05-22T11:20:07.076479Z"
    }
   },
   "outputs": [],
   "source": [
    "# Null hypothesis -> the choosen voucher is from bag A\n",
    "# Alternative hypothesis -> the chosen voucher is from bag B"
   ]
  },
  {
   "cell_type": "code",
   "execution_count": 17,
   "id": "5e3686c3-e1bf-42bb-84b2-d6e6ac048abf",
   "metadata": {
    "execution": {
     "iopub.execute_input": "2023-05-22T11:20:07.815144Z",
     "iopub.status.busy": "2023-05-22T11:20:07.815144Z",
     "iopub.status.idle": "2023-05-22T11:20:07.830442Z",
     "shell.execute_reply": "2023-05-22T11:20:07.829722Z",
     "shell.execute_reply.started": "2023-05-22T11:20:07.815144Z"
    }
   },
   "outputs": [],
   "source": [
    "# If we got a $ -15 voucher, we know that the bag is A with 100% certainty since it is the only bag that has $ -15 vouchers.\n",
    "# => Null hypothesis accepted.\n",
    "\n",
    "# If we git a $ 14 voucher, we know that the bag is B with 100% certainty since it is the only bag that has $ 14 vouchers.\n",
    "# Null hypothesis rejected, Alternative hypothesis accepted."
   ]
  },
  {
   "cell_type": "code",
   "execution_count": 18,
   "id": "a14c8e32-dc2d-476c-bb12-e439035381d4",
   "metadata": {
    "execution": {
     "iopub.execute_input": "2023-05-22T11:20:08.442772Z",
     "iopub.status.busy": "2023-05-22T11:20:08.442772Z",
     "iopub.status.idle": "2023-05-22T11:20:08.455699Z",
     "shell.execute_reply": "2023-05-22T11:20:08.455699Z",
     "shell.execute_reply.started": "2023-05-22T11:20:08.442772Z"
    }
   },
   "outputs": [
    {
     "name": "stdout",
     "output_type": "stream",
     "text": [
      "Probability of getting a $ 3 voucher from bag A: 0.043333333333333335\n",
      "Probability of getting a $ 3 voucher from bag B: 0.03333333333333333\n"
     ]
    }
   ],
   "source": [
    "# How about a $ $ 3 voucher? It can come from either of the bags.\n",
    "\n",
    "print(f\"Probability of getting a $ 3 voucher from bag A: {_A[3] / A.size}\")\n",
    "print(f\"Probability of getting a $ 3 voucher from bag B: {_B[3] / B.size}\")"
   ]
  },
  {
   "cell_type": "code",
   "execution_count": 19,
   "id": "31ac9c6f-31c1-4edb-b85d-972eb7bc3ecd",
   "metadata": {
    "execution": {
     "iopub.execute_input": "2023-05-22T11:20:08.960732Z",
     "iopub.status.busy": "2023-05-22T11:20:08.960732Z",
     "iopub.status.idle": "2023-05-22T11:20:08.974228Z",
     "shell.execute_reply": "2023-05-22T11:20:08.974228Z",
     "shell.execute_reply.started": "2023-05-22T11:20:08.960732Z"
    }
   },
   "outputs": [],
   "source": [
    "# The probability of getting a 3 dollar voucher from bag A > getting a 3 dollar voucher from bag B\n",
    "# => Null hypothesis accepted."
   ]
  },
  {
   "cell_type": "code",
   "execution_count": 20,
   "id": "f297160a-0985-4346-bd78-de3236a67da8",
   "metadata": {
    "execution": {
     "iopub.execute_input": "2023-05-22T11:20:09.493846Z",
     "iopub.status.busy": "2023-05-22T11:20:09.493846Z",
     "iopub.status.idle": "2023-05-22T11:20:09.514366Z",
     "shell.execute_reply": "2023-05-22T11:20:09.513858Z",
     "shell.execute_reply.started": "2023-05-22T11:20:09.493846Z"
    }
   },
   "outputs": [
    {
     "name": "stdout",
     "output_type": "stream",
     "text": [
      "Probability of getting a $ 0 voucher from bag A: 0.02\n",
      "Probability of getting a $ 0 voucher from bag B: 0.04\n"
     ]
    }
   ],
   "source": [
    "# How about $ 0 vouchers?\n",
    "\n",
    "print(f\"Probability of getting a $ 0 voucher from bag A: {_A[0] / A.size}\")\n",
    "print(f\"Probability of getting a $ 0 voucher from bag B: {_B[0] / B.size}\")"
   ]
  },
  {
   "cell_type": "code",
   "execution_count": 21,
   "id": "f094ec1f-913a-4e42-adcc-d80bc6f93454",
   "metadata": {
    "execution": {
     "iopub.execute_input": "2023-05-22T11:20:09.885761Z",
     "iopub.status.busy": "2023-05-22T11:20:09.885761Z",
     "iopub.status.idle": "2023-05-22T11:20:09.903209Z",
     "shell.execute_reply": "2023-05-22T11:20:09.903209Z",
     "shell.execute_reply.started": "2023-05-22T11:20:09.885761Z"
    }
   },
   "outputs": [],
   "source": [
    "# The probability of getting a 0 dollar voucher from bag A < getting a 0 dollar voucher from bag B\n",
    "# => Null hypothesis rejected, Alternative hypothesis accepted."
   ]
  },
  {
   "cell_type": "code",
   "execution_count": null,
   "id": "8c2ccea2-cc4c-4eed-8ef5-50a4930374a3",
   "metadata": {},
   "outputs": [],
   "source": []
  },
  {
   "cell_type": "code",
   "execution_count": 22,
   "id": "0364c40c-610a-45f9-a18a-70435075bde8",
   "metadata": {
    "execution": {
     "iopub.execute_input": "2023-05-22T11:20:10.748124Z",
     "iopub.status.busy": "2023-05-22T11:20:10.748124Z",
     "iopub.status.idle": "2023-05-22T11:20:10.767214Z",
     "shell.execute_reply": "2023-05-22T11:20:10.767214Z",
     "shell.execute_reply.started": "2023-05-22T11:20:10.748124Z"
    }
   },
   "outputs": [],
   "source": [
    "# Larger values (10 - 15) are more likely to come from bag B => Alternative hypothesis.\n",
    "# Smaller values (-15 - -10) are more likely to come from bag A => Null hypothesis."
   ]
  },
  {
   "cell_type": "code",
   "execution_count": null,
   "id": "1dc82990-c845-4f88-860b-c39bf127544c",
   "metadata": {},
   "outputs": [],
   "source": []
  },
  {
   "cell_type": "markdown",
   "id": "48d7102a-22da-47d8-9a53-6bab3c1c5c34",
   "metadata": {},
   "source": [
    "## ___Decision Rule___\n",
    "---------"
   ]
  },
  {
   "cell_type": "code",
   "execution_count": 23,
   "id": "a7bf0570-6ca2-446a-9a51-284deb41b455",
   "metadata": {
    "execution": {
     "iopub.execute_input": "2023-05-22T11:20:15.647854Z",
     "iopub.status.busy": "2023-05-22T11:20:15.647854Z",
     "iopub.status.idle": "2023-05-22T11:20:15.662631Z",
     "shell.execute_reply": "2023-05-22T11:20:15.662123Z",
     "shell.execute_reply.started": "2023-05-22T11:20:15.647854Z"
    }
   },
   "outputs": [],
   "source": [
    "# Let's say that we'd assume bag A if the voucher value is less than 0\n",
    "# Assume bag B if the voucher value is greater than / equal to 0."
   ]
  },
  {
   "cell_type": "code",
   "execution_count": 24,
   "id": "033bdf97-709c-4f36-ac19-2022dca03370",
   "metadata": {
    "execution": {
     "iopub.execute_input": "2023-05-22T11:20:16.008097Z",
     "iopub.status.busy": "2023-05-22T11:20:16.008097Z",
     "iopub.status.idle": "2023-05-22T11:20:16.180751Z",
     "shell.execute_reply": "2023-05-22T11:20:16.180751Z",
     "shell.execute_reply.started": "2023-05-22T11:20:16.008097Z"
    }
   },
   "outputs": [
    {
     "data": {
      "image/png": "[encoded data removed]",
      "text/plain": [
       "<Figure size 2000x800 with 1 Axes>"
      ]
     },
     "metadata": {},
     "output_type": "display_data"
    }
   ],
   "source": [
    "plt.hist([A, B], bins = 25, rwidth = 0.8, color = [\"red\", \"blue\"], label = [\"A\", \"B\"])\n",
    "plt.vlines(x = 0, ymin = -5, ymax = 35, color = \"green\", linestyle = \"--\")\n",
    "plt.legend()\n",
    "plt.show()"
   ]
  },
  {
   "cell_type": "code",
   "execution_count": 25,
   "id": "d0761377-e895-4561-bcbf-f6b3e95a46f0",
   "metadata": {
    "execution": {
     "iopub.execute_input": "2023-05-22T11:20:16.212741Z",
     "iopub.status.busy": "2023-05-22T11:20:16.212741Z",
     "iopub.status.idle": "2023-05-22T11:20:16.229703Z",
     "shell.execute_reply": "2023-05-22T11:20:16.229703Z",
     "shell.execute_reply.started": "2023-05-22T11:20:16.212741Z"
    }
   },
   "outputs": [],
   "source": [
    "# Since we assume all values < 0 come from bag A => Null hypothesis.\n",
    "# Values > 0 come from bag B => Alternative hypothesis."
   ]
  },
  {
   "cell_type": "code",
   "execution_count": 26,
   "id": "0b41a402-4794-41ec-876f-c88f8c4af729",
   "metadata": {
    "execution": {
     "iopub.execute_input": "2023-05-22T11:20:16.778169Z",
     "iopub.status.busy": "2023-05-22T11:20:16.778169Z",
     "iopub.status.idle": "2023-05-22T11:20:16.782628Z",
     "shell.execute_reply": "2023-05-22T11:20:16.782109Z",
     "shell.execute_reply.started": "2023-05-22T11:20:16.778169Z"
    }
   },
   "outputs": [],
   "source": [
    "# However is this rule reasonable?\n",
    "\n",
    "# Sure, if the value is below -10 it would certainly have come from bag A\n",
    "# But what about values that are >= -10 and < 0 ???\n",
    "\n",
    "# Similarly, if the value is > 10, then it sure is bag B\n",
    "# But what about the values > 0 and <= 10 ???\n",
    "\n",
    "# With how much confidence we can make such statements??\n",
    "# There are decent amount of chances for these to be wrong."
   ]
  },
  {
   "cell_type": "code",
   "execution_count": 27,
   "id": "18bbea74-253d-4c49-ba3b-c97982b84ddb",
   "metadata": {
    "execution": {
     "iopub.execute_input": "2023-05-22T11:20:17.343766Z",
     "iopub.status.busy": "2023-05-22T11:20:17.343766Z",
     "iopub.status.idle": "2023-05-22T11:20:17.360634Z",
     "shell.execute_reply": "2023-05-22T11:20:17.360634Z",
     "shell.execute_reply.started": "2023-05-22T11:20:17.343766Z"
    }
   },
   "outputs": [
    {
     "data": {
      "text/plain": [
       "(13, 11)"
      ]
     },
     "execution_count": 27,
     "metadata": {},
     "output_type": "execute_result"
    }
   ],
   "source": [
    "# Let's say that we pick a 5 dollar voucher,\n",
    "# Frequencies of $ 5 vouchers in bag A and bag B are:\n",
    "\n",
    "_A[5], _B[5]"
   ]
  },
  {
   "cell_type": "code",
   "execution_count": 123,
   "id": "c7388249-f11b-492d-926e-edea9deeb9c7",
   "metadata": {
    "execution": {
     "iopub.execute_input": "2023-05-21T10:21:38.445832Z",
     "iopub.status.busy": "2023-05-21T10:21:38.445832Z",
     "iopub.status.idle": "2023-05-21T10:21:38.459597Z",
     "shell.execute_reply": "2023-05-21T10:21:38.459597Z",
     "shell.execute_reply.started": "2023-05-21T10:21:38.445832Z"
    }
   },
   "outputs": [],
   "source": [
    "# We'd decide that it was bag B based on our decision rule.\n",
    "# But there is a greater chance for it to have come from bag A."
   ]
  },
  {
   "cell_type": "code",
   "execution_count": 137,
   "id": "35026ed3-fb15-42ca-bb15-dfca2bf1482b",
   "metadata": {
    "execution": {
     "iopub.execute_input": "2023-05-21T10:27:23.363930Z",
     "iopub.status.busy": "2023-05-21T10:27:23.363930Z",
     "iopub.status.idle": "2023-05-21T10:27:23.375370Z",
     "shell.execute_reply": "2023-05-21T10:27:23.375370Z",
     "shell.execute_reply.started": "2023-05-21T10:27:23.363930Z"
    }
   },
   "outputs": [
    {
     "data": {
      "text/plain": [
       "94"
      ]
     },
     "execution_count": 137,
     "metadata": {},
     "output_type": "execute_result"
    }
   ],
   "source": [
    "# What is the probability of rejecting the Null hypothesis when the Null is true?\n",
    "# Null is true => bag A\n",
    "\n",
    "# The range in which we reject Null hypothesis is => 0 > value\n",
    "# How many values are in that range in bag A?\n",
    "\n",
    "_A.loc[_A.index > 0].sum()"
   ]
  },
  {
   "cell_type": "code",
   "execution_count": 28,
   "id": "e2b0a60c-2d12-4466-b433-d4ee22e6fe01",
   "metadata": {
    "execution": {
     "iopub.execute_input": "2023-05-22T11:22:20.264765Z",
     "iopub.status.busy": "2023-05-22T11:22:20.264765Z",
     "iopub.status.idle": "2023-05-22T11:22:20.274869Z",
     "shell.execute_reply": "2023-05-22T11:22:20.274740Z",
     "shell.execute_reply.started": "2023-05-22T11:22:20.264765Z"
    }
   },
   "outputs": [
    {
     "data": {
      "text/plain": [
       "0.31333333333333335"
      ]
     },
     "execution_count": 28,
     "metadata": {},
     "output_type": "execute_result"
    }
   ],
   "source": [
    "# So, the probability of incorrectly rejecting the Null hypothesis is \n",
    "\n",
    "94 / _A.sum()"
   ]
  },
  {
   "cell_type": "code",
   "execution_count": 29,
   "id": "1f84d600-049a-4366-8f5b-bb40161f7137",
   "metadata": {
    "execution": {
     "iopub.execute_input": "2023-05-22T11:22:20.652375Z",
     "iopub.status.busy": "2023-05-22T11:22:20.652375Z",
     "iopub.status.idle": "2023-05-22T11:22:20.671224Z",
     "shell.execute_reply": "2023-05-22T11:22:20.670613Z",
     "shell.execute_reply.started": "2023-05-22T11:22:20.652375Z"
    }
   },
   "outputs": [
    {
     "data": {
      "text/plain": [
       "150"
      ]
     },
     "execution_count": 29,
     "metadata": {},
     "output_type": "execute_result"
    }
   ],
   "source": [
    "# The next type of mistake is accepting the Null hypothesis when it is incorrect (Alternative is true).\n",
    "# Alternative hypothesis => bag B\n",
    "\n",
    "# The range in which we'd accept the Null hypothesis is => value >= 0\n",
    "# How many values in bag B fall in this range?\n",
    "\n",
    "_B.loc[_B.index >= 0].sum()"
   ]
  },
  {
   "cell_type": "code",
   "execution_count": 30,
   "id": "7dca8aaa-3dfc-4453-90f3-f6ac20f76f7b",
   "metadata": {
    "execution": {
     "iopub.execute_input": "2023-05-22T11:22:21.138502Z",
     "iopub.status.busy": "2023-05-22T11:22:21.138502Z",
     "iopub.status.idle": "2023-05-22T11:22:21.149222Z",
     "shell.execute_reply": "2023-05-22T11:22:21.149222Z",
     "shell.execute_reply.started": "2023-05-22T11:22:21.138502Z"
    }
   },
   "outputs": [
    {
     "data": {
      "text/plain": [
       "0.5"
      ]
     },
     "execution_count": 30,
     "metadata": {},
     "output_type": "execute_result"
    }
   ],
   "source": [
    "# So, the probability of incorrectly accepting Null hypothesis is \n",
    "# i.e accepting the Null hypothesis when the alternative is true.\n",
    "\n",
    "150 / _B.sum()"
   ]
  },
  {
   "cell_type": "code",
   "execution_count": null,
   "id": "c8494e97-4d9d-4109-8c3a-616c70f072e9",
   "metadata": {},
   "outputs": [],
   "source": []
  },
  {
   "cell_type": "code",
   "execution_count": 145,
   "id": "0ef7def2-e521-4c81-8357-ae261a1378c6",
   "metadata": {
    "execution": {
     "iopub.execute_input": "2023-05-21T10:35:50.927110Z",
     "iopub.status.busy": "2023-05-21T10:35:50.927110Z",
     "iopub.status.idle": "2023-05-21T10:35:50.940156Z",
     "shell.execute_reply": "2023-05-21T10:35:50.940156Z",
     "shell.execute_reply.started": "2023-05-21T10:35:50.927110Z"
    }
   },
   "outputs": [],
   "source": [
    "# These two types of errors have special names and notations."
   ]
  },
  {
   "cell_type": "markdown",
   "id": "ca88506f-557b-4a83-835e-3571e325a966",
   "metadata": {},
   "source": [
    "## ___Type 1 Error: Reject Null when Null is True &rarr; $\\alpha$___\n",
    "## ___Type 2 Error: Accept Null when Alternative is True &rarr; $\\beta$___"
   ]
  },
  {
   "cell_type": "code",
   "execution_count": 35,
   "id": "a8288c0a-8921-460d-945f-fd94995536d9",
   "metadata": {
    "execution": {
     "iopub.execute_input": "2023-05-22T11:31:03.520308Z",
     "iopub.status.busy": "2023-05-22T11:31:03.520308Z",
     "iopub.status.idle": "2023-05-22T11:31:03.540740Z",
     "shell.execute_reply": "2023-05-22T11:31:03.540740Z",
     "shell.execute_reply.started": "2023-05-22T11:31:03.520308Z"
    }
   },
   "outputs": [
    {
     "data": {
      "text/plain": [
       "200"
      ]
     },
     "execution_count": 35,
     "metadata": {},
     "output_type": "execute_result"
    }
   ],
   "source": [
    "# When we move the decision line (which currently is at 0), we'd be changing the alpha and beta.\n",
    "# Picking the $ 0 value is equivalent to picking the alpha value.\n",
    "\n",
    "# when we pick the $ 0 voucher as the margin,\n",
    "# alpha = P(Rejecting the Null) / |Null|\n",
    "\n",
    "# Null => bag A\n",
    "# this is the chance of Null being true when value < 0\n",
    "_A.loc[_A.index < 0].sum()"
   ]
  },
  {
   "cell_type": "code",
   "execution_count": 38,
   "id": "ba4310cc-5395-4b57-9fb5-3e8daff6f695",
   "metadata": {
    "execution": {
     "iopub.execute_input": "2023-05-22T11:32:41.911893Z",
     "iopub.status.busy": "2023-05-22T11:32:41.911893Z",
     "iopub.status.idle": "2023-05-22T11:32:41.931284Z",
     "shell.execute_reply": "2023-05-22T11:32:41.930665Z",
     "shell.execute_reply.started": "2023-05-22T11:32:41.911893Z"
    }
   },
   "outputs": [
    {
     "data": {
      "text/plain": [
       "100"
      ]
     },
     "execution_count": 38,
     "metadata": {},
     "output_type": "execute_result"
    }
   ],
   "source": [
    "# chance of Null being true when value >= 0\n",
    "_A.loc[_A.index >= 0].sum()"
   ]
  },
  {
   "cell_type": "code",
   "execution_count": 39,
   "id": "464f29c4-99f8-4137-b0c1-672cf3a99d85",
   "metadata": {
    "execution": {
     "iopub.execute_input": "2023-05-22T11:33:34.080456Z",
     "iopub.status.busy": "2023-05-22T11:33:34.080456Z",
     "iopub.status.idle": "2023-05-22T11:33:34.096730Z",
     "shell.execute_reply": "2023-05-22T11:33:34.096730Z",
     "shell.execute_reply.started": "2023-05-22T11:33:34.080456Z"
    }
   },
   "outputs": [],
   "source": [
    "# But according to our rule, we'd reject Null when value >= 0\n",
    "# So, there's a 100 / 300 chance to reject Null when it is actually true."
   ]
  },
  {
   "cell_type": "code",
   "execution_count": 40,
   "id": "3e6b21fb-be68-4573-8022-6e111fc8acc8",
   "metadata": {
    "execution": {
     "iopub.execute_input": "2023-05-22T11:33:53.264112Z",
     "iopub.status.busy": "2023-05-22T11:33:53.264112Z",
     "iopub.status.idle": "2023-05-22T11:33:53.274345Z",
     "shell.execute_reply": "2023-05-22T11:33:53.274345Z",
     "shell.execute_reply.started": "2023-05-22T11:33:53.264112Z"
    }
   },
   "outputs": [
    {
     "data": {
      "text/plain": [
       "0.3333333333333333"
      ]
     },
     "execution_count": 40,
     "metadata": {},
     "output_type": "execute_result"
    }
   ],
   "source": [
    "# alpha = \n",
    "\n",
    "100 / 300"
   ]
  },
  {
   "cell_type": "code",
   "execution_count": null,
   "id": "7347bb85-8424-4726-803b-2b62adbabb23",
   "metadata": {},
   "outputs": [],
   "source": []
  },
  {
   "cell_type": "code",
   "execution_count": 47,
   "id": "457ae364-0fda-4003-949e-84d2184f8eed",
   "metadata": {
    "execution": {
     "iopub.execute_input": "2023-05-22T11:43:49.134169Z",
     "iopub.status.busy": "2023-05-22T11:43:49.134169Z",
     "iopub.status.idle": "2023-05-22T11:43:49.139675Z",
     "shell.execute_reply": "2023-05-22T11:43:49.139675Z",
     "shell.execute_reply.started": "2023-05-22T11:43:49.134169Z"
    }
   },
   "outputs": [
    {
     "data": {
      "text/plain": [
       "(9.0, 16.0)"
      ]
     },
     "execution_count": 47,
     "metadata": {},
     "output_type": "execute_result"
    }
   ],
   "source": [
    "# Let's say we pick a voucher from an unlabelled bag and the voucher turns out to be a $ -8 voucher\n",
    "# According to our rule we'd assume that it came from bag A\n",
    "\n",
    "ftable.A[-8], ftable.B[-8]"
   ]
  },
  {
   "cell_type": "code",
   "execution_count": 49,
   "id": "b960d1b5-4c07-4362-abc9-047b6cb583f0",
   "metadata": {
    "execution": {
     "iopub.execute_input": "2023-05-22T11:45:32.247780Z",
     "iopub.status.busy": "2023-05-22T11:45:32.247780Z",
     "iopub.status.idle": "2023-05-22T11:45:32.260573Z",
     "shell.execute_reply": "2023-05-22T11:45:32.260415Z",
     "shell.execute_reply.started": "2023-05-22T11:45:32.247780Z"
    }
   },
   "outputs": [
    {
     "data": {
      "text/plain": [
       "150"
      ]
     },
     "execution_count": 49,
     "metadata": {},
     "output_type": "execute_result"
    }
   ],
   "source": [
    "# However, there's a greater chance for it to have come from bag B\n",
    "# Here we are selecting the Null when the alternative is true\n",
    "\n",
    "# the chances for alternative to be true when value < 0\n",
    "# i.e when we'd accept Null where alternative is true\n",
    "\n",
    "_B.loc[_B.index < 0].sum()"
   ]
  },
  {
   "cell_type": "code",
   "execution_count": 50,
   "id": "333235d8-acd2-4d59-a0c1-5debe43aab9b",
   "metadata": {
    "execution": {
     "iopub.execute_input": "2023-05-22T11:46:03.827587Z",
     "iopub.status.busy": "2023-05-22T11:46:03.827587Z",
     "iopub.status.idle": "2023-05-22T11:46:03.836667Z",
     "shell.execute_reply": "2023-05-22T11:46:03.836138Z",
     "shell.execute_reply.started": "2023-05-22T11:46:03.827587Z"
    }
   },
   "outputs": [
    {
     "data": {
      "text/plain": [
       "0.5"
      ]
     },
     "execution_count": 50,
     "metadata": {},
     "output_type": "execute_result"
    }
   ],
   "source": [
    "# beta = 150 / 300\n",
    "\n",
    "_B.loc[_B.index < 0].sum() / _B.sum()"
   ]
  },
  {
   "cell_type": "code",
   "execution_count": 51,
   "id": "42a42744-f4ae-4377-aec2-dfad039ec42a",
   "metadata": {
    "execution": {
     "iopub.execute_input": "2023-05-22T11:55:19.527568Z",
     "iopub.status.busy": "2023-05-22T11:55:19.527568Z",
     "iopub.status.idle": "2023-05-22T11:55:19.531068Z",
     "shell.execute_reply": "2023-05-22T11:55:19.531068Z",
     "shell.execute_reply.started": "2023-05-22T11:55:19.527568Z"
    }
   },
   "outputs": [],
   "source": [
    "# When we set the alpha upfront,\n",
    "# we could calculate the probability of how compatible is our data with Null => this probability is the p value\n",
    "# If p is small => results are not compatible with the Null hypothesis => Null will be rejected & alternative will be accepted."
   ]
  },
  {
   "cell_type": "code",
   "execution_count": 52,
   "id": "47cc8d56-266d-45e3-9289-1bf5d14faf1c",
   "metadata": {
    "execution": {
     "iopub.execute_input": "2023-05-22T12:01:17.064574Z",
     "iopub.status.busy": "2023-05-22T12:01:17.064574Z",
     "iopub.status.idle": "2023-05-22T12:01:17.073325Z",
     "shell.execute_reply": "2023-05-22T12:01:17.073257Z",
     "shell.execute_reply.started": "2023-05-22T12:01:17.064574Z"
    }
   },
   "outputs": [],
   "source": [
    "# A universal rule is to reject the Null when the p value is < alpha.\n",
    "# when p value < the chance of rejecting Null when Null is true."
   ]
  },
  {
   "cell_type": "code",
   "execution_count": null,
   "id": "1c15a2dd-303d-45f6-a119-0baf55090fe1",
   "metadata": {},
   "outputs": [],
   "source": []
  },
  {
   "cell_type": "code",
   "execution_count": 54,
   "id": "72af9beb-0737-440f-bbd3-0059aa00b96e",
   "metadata": {
    "execution": {
     "iopub.execute_input": "2023-05-22T12:03:40.834643Z",
     "iopub.status.busy": "2023-05-22T12:03:40.834643Z",
     "iopub.status.idle": "2023-05-22T12:03:40.853345Z",
     "shell.execute_reply": "2023-05-22T12:03:40.852779Z",
     "shell.execute_reply.started": "2023-05-22T12:03:40.834643Z"
    }
   },
   "outputs": [
    {
     "data": {
      "text/plain": [
       "5"
      ]
     },
     "execution_count": 54,
     "metadata": {},
     "output_type": "execute_result"
    }
   ],
   "source": [
    "# If the selected voucher was a $ 6 one => we'd select the alternative hypothesis.\n",
    "\n",
    "_B[6]"
   ]
  },
  {
   "cell_type": "code",
   "execution_count": 56,
   "id": "113e35dd-ae3c-4b69-a1f3-8c584502ce46",
   "metadata": {
    "execution": {
     "iopub.execute_input": "2023-05-22T12:05:10.133539Z",
     "iopub.status.busy": "2023-05-22T12:05:10.133539Z",
     "iopub.status.idle": "2023-05-22T12:05:10.147293Z",
     "shell.execute_reply": "2023-05-22T12:05:10.147293Z",
     "shell.execute_reply.started": "2023-05-22T12:05:10.133539Z"
    }
   },
   "outputs": [
    {
     "data": {
      "text/plain": [
       "0.016666666666666666"
      ]
     },
     "execution_count": 56,
     "metadata": {},
     "output_type": "execute_result"
    }
   ],
   "source": [
    "# The p value of getting a $ 6 voucher from bag B is \n",
    "\n",
    "_B[6] / _B.sum()"
   ]
  },
  {
   "cell_type": "code",
   "execution_count": 58,
   "id": "b6378ea8-48d1-4051-8201-471c3dd23638",
   "metadata": {
    "execution": {
     "iopub.execute_input": "2023-05-22T12:08:45.986462Z",
     "iopub.status.busy": "2023-05-22T12:08:45.986462Z",
     "iopub.status.idle": "2023-05-22T12:08:46.001284Z",
     "shell.execute_reply": "2023-05-22T12:08:46.001202Z",
     "shell.execute_reply.started": "2023-05-22T12:08:45.986462Z"
    }
   },
   "outputs": [],
   "source": [
    "# SOMETHING IS WRONG HERE"
   ]
  },
  {
   "cell_type": "code",
   "execution_count": 59,
   "id": "050e15d9-e1dc-4e5e-9f0d-35f8ce82f829",
   "metadata": {
    "execution": {
     "iopub.execute_input": "2023-05-22T12:08:46.501775Z",
     "iopub.status.busy": "2023-05-22T12:08:46.489252Z",
     "iopub.status.idle": "2023-05-22T12:08:46.506735Z",
     "shell.execute_reply": "2023-05-22T12:08:46.506628Z",
     "shell.execute_reply.started": "2023-05-22T12:08:46.501775Z"
    }
   },
   "outputs": [
    {
     "data": {
      "text/plain": [
       "True"
      ]
     },
     "execution_count": 59,
     "metadata": {},
     "output_type": "execute_result"
    }
   ],
   "source": [
    "# let's say the alpha we chose was 0.05\n",
    "\n",
    "(_B[6] / _B.sum()) < 0.05"
   ]
  },
  {
   "cell_type": "code",
   "execution_count": 60,
   "id": "18331891-4d36-4075-90f6-37b9cb51217a",
   "metadata": {
    "execution": {
     "iopub.execute_input": "2023-05-22T12:08:47.103141Z",
     "iopub.status.busy": "2023-05-22T12:08:47.103141Z",
     "iopub.status.idle": "2023-05-22T12:08:47.109972Z",
     "shell.execute_reply": "2023-05-22T12:08:47.109800Z",
     "shell.execute_reply.started": "2023-05-22T12:08:47.103141Z"
    }
   },
   "outputs": [],
   "source": [
    "# So, we'd reject the Null"
   ]
  },
  {
   "cell_type": "code",
   "execution_count": null,
   "id": "0aaa7625-d761-4046-a20c-af5ea408e5bf",
   "metadata": {},
   "outputs": [],
   "source": []
  }
 ],
 "metadata": {
  "kernelspec": {
   "display_name": "Python 3 (ipykernel)",
   "language": "python",
   "name": "python3"
  },
  "language_info": {
   "codemirror_mode": {
    "name": "ipython",
    "version": 3
   },
   "file_extension": ".py",
   "mimetype": "text/x-python",
   "name": "python",
   "nbconvert_exporter": "python",
   "pygments_lexer": "ipython3",
   "version": "3.11.3"
  }
 },
 "nbformat": 4,
 "nbformat_minor": 5
}
