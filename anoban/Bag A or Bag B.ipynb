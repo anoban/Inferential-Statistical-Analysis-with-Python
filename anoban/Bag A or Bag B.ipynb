{
 "cells": [
  {
   "cell_type": "code",
   "execution_count": 30,
   "id": "d22c9282-e9e2-4c69-aadc-410c04b59337",
   "metadata": {
    "execution": {
     "iopub.execute_input": "2023-05-21T02:13:29.253904Z",
     "iopub.status.busy": "2023-05-21T02:13:29.253904Z",
     "iopub.status.idle": "2023-05-21T02:13:29.612165Z",
     "shell.execute_reply": "2023-05-21T02:13:29.612165Z",
     "shell.execute_reply.started": "2023-05-21T02:13:29.253904Z"
    }
   },
   "outputs": [],
   "source": [
    "import numpy as np\n",
    "np.random.seed(2023 - 5 - 21)\n",
    "import pandas as pd\n",
    "import matplotlib.pyplot as plt"
   ]
  },
  {
   "cell_type": "code",
   "execution_count": 2,
   "id": "8d453fc3-cbcc-460d-9228-8c543cb7cee2",
   "metadata": {
    "execution": {
     "iopub.execute_input": "2023-05-21T02:00:30.345352Z",
     "iopub.status.busy": "2023-05-21T02:00:30.345352Z",
     "iopub.status.idle": "2023-05-21T02:00:30.357499Z",
     "shell.execute_reply": "2023-05-21T02:00:30.356292Z",
     "shell.execute_reply.started": "2023-05-21T02:00:30.345352Z"
    }
   },
   "outputs": [],
   "source": [
    "# Let's say that we have 2 bags -> A and B\n",
    "# Each have a number of vouchers whose monetary values range from negative to positive."
   ]
  },
  {
   "cell_type": "code",
   "execution_count": 15,
   "id": "b8c619b3-44c6-47d2-b3b4-449865105c23",
   "metadata": {
    "execution": {
     "iopub.execute_input": "2023-05-21T02:09:27.858455Z",
     "iopub.status.busy": "2023-05-21T02:09:27.858455Z",
     "iopub.status.idle": "2023-05-21T02:09:27.864098Z",
     "shell.execute_reply": "2023-05-21T02:09:27.863084Z",
     "shell.execute_reply.started": "2023-05-21T02:09:27.858455Z"
    }
   },
   "outputs": [],
   "source": [
    "A = np.random.randint(-50, 50, size = 1000)\n",
    "B = np.random.randint(-50, 50, size = 1000)"
   ]
  },
  {
   "cell_type": "code",
   "execution_count": 16,
   "id": "8b4df4d9-66d1-42ef-ba6b-717c9ee7adb2",
   "metadata": {
    "execution": {
     "iopub.execute_input": "2023-05-21T02:09:28.266095Z",
     "iopub.status.busy": "2023-05-21T02:09:28.266095Z",
     "iopub.status.idle": "2023-05-21T02:09:28.288311Z",
     "shell.execute_reply": "2023-05-21T02:09:28.287298Z",
     "shell.execute_reply.started": "2023-05-21T02:09:28.266095Z"
    }
   },
   "outputs": [
    {
     "data": {
      "text/plain": [
       "(array([-50, -49, -48, -47, -46, -45, -44, -43, -42, -41, -40, -39, -38,\n",
       "        -37, -36, -35, -34, -33, -32, -31, -30, -29, -28, -27, -26, -25,\n",
       "        -24, -23, -22, -21, -20, -19, -18, -17, -16, -15, -14, -13, -12,\n",
       "        -11, -10,  -9,  -8,  -7,  -6,  -5,  -4,  -3,  -2,  -1,   0,   1,\n",
       "          2,   3,   4,   5,   6,   7,   8,   9,  10,  11,  12,  13,  14,\n",
       "         15,  16,  17,  18,  19,  20,  21,  22,  23,  24,  25,  26,  27,\n",
       "         28,  29,  30,  31,  32,  33,  34,  35,  36,  37,  38,  39,  40,\n",
       "         41,  42,  43,  44,  45,  46,  47,  48,  49]),\n",
       " array([11,  7, 13,  8,  9,  8, 10,  3,  9, 11,  9,  9,  9, 13,  9,  6, 10,\n",
       "        10, 14, 10, 16,  8,  5, 10, 13,  6, 17,  9,  7, 11,  9,  8, 12, 11,\n",
       "        10,  8, 11,  9,  8,  6, 13, 12,  3, 16, 10,  7,  7,  8, 12, 11,  8,\n",
       "        10, 12, 10, 12, 11,  6, 13,  9, 11,  4,  9,  3, 11,  6,  9, 11,  9,\n",
       "        11,  7, 12, 13, 10,  9,  8,  9,  7, 10, 18,  8, 14,  7, 12, 15, 11,\n",
       "        17, 19, 15, 14,  8,  7,  9, 11,  9, 15, 13,  9,  7, 13,  8],\n",
       "       dtype=int64))"
      ]
     },
     "execution_count": 16,
     "metadata": {},
     "output_type": "execute_result"
    }
   ],
   "source": [
    "np.unique(A, return_counts = True)"
   ]
  },
  {
   "cell_type": "code",
   "execution_count": 57,
   "id": "5a8dd30b-67e9-4e62-9541-ceb586c4410b",
   "metadata": {
    "execution": {
     "iopub.execute_input": "2023-05-21T03:33:38.679779Z",
     "iopub.status.busy": "2023-05-21T03:33:38.664266Z",
     "iopub.status.idle": "2023-05-21T03:33:38.685523Z",
     "shell.execute_reply": "2023-05-21T03:33:38.685523Z",
     "shell.execute_reply.started": "2023-05-21T03:33:38.679779Z"
    }
   },
   "outputs": [
    {
     "name": "stdout",
     "output_type": "stream",
     "text": [
      "Total value of all vouchers in bag A is: 1102 and bag B is: -830\n"
     ]
    }
   ],
   "source": [
    "print(f\"Total value of all vouchers in bag A is: {A.sum()} and bag B is: {B.sum()}\")"
   ]
  },
  {
   "cell_type": "code",
   "execution_count": 58,
   "id": "317396e2-6200-4541-a265-36832024646a",
   "metadata": {
    "execution": {
     "iopub.execute_input": "2023-05-21T03:33:55.816105Z",
     "iopub.status.busy": "2023-05-21T03:33:55.816105Z",
     "iopub.status.idle": "2023-05-21T03:33:55.825171Z",
     "shell.execute_reply": "2023-05-21T03:33:55.824663Z",
     "shell.execute_reply.started": "2023-05-21T03:33:55.816105Z"
    }
   },
   "outputs": [],
   "source": [
    "assert all(np.unique(A) == np.unique(B)), \"Shit went south\""
   ]
  },
  {
   "cell_type": "code",
   "execution_count": 26,
   "id": "99767d42-1644-4694-a17f-baf3ee9a68c3",
   "metadata": {
    "execution": {
     "iopub.execute_input": "2023-05-21T02:12:51.734502Z",
     "iopub.status.busy": "2023-05-21T02:12:51.734502Z",
     "iopub.status.idle": "2023-05-21T02:12:51.738714Z",
     "shell.execute_reply": "2023-05-21T02:12:51.738714Z",
     "shell.execute_reply.started": "2023-05-21T02:12:51.734502Z"
    }
   },
   "outputs": [],
   "source": [
    "ftable = pd.DataFrame({\"A\": np.unique(A, return_counts = True)[1], \"B\": np.unique(B, return_counts = True)[1]}, index = np.unique(A))"
   ]
  },
  {
   "cell_type": "code",
   "execution_count": 31,
   "id": "b65c063b-9c25-4622-a710-4e2cf7694b62",
   "metadata": {
    "execution": {
     "iopub.execute_input": "2023-05-21T02:13:33.193915Z",
     "iopub.status.busy": "2023-05-21T02:13:33.193915Z",
     "iopub.status.idle": "2023-05-21T02:13:33.202026Z",
     "shell.execute_reply": "2023-05-21T02:13:33.202026Z",
     "shell.execute_reply.started": "2023-05-21T02:13:33.193915Z"
    }
   },
   "outputs": [
    {
     "data": {
      "text/html": [
       "<div>\n",
       "<style scoped>\n",
       "    .dataframe tbody tr th:only-of-type {\n",
       "        vertical-align: middle;\n",
       "    }\n",
       "\n",
       "    .dataframe tbody tr th {\n",
       "        vertical-align: top;\n",
       "    }\n",
       "\n",
       "    .dataframe thead th {\n",
       "        text-align: right;\n",
       "    }\n",
       "</style>\n",
       "<table border=\"1\" class=\"dataframe\">\n",
       "  <thead>\n",
       "    <tr style=\"text-align: right;\">\n",
       "      <th></th>\n",
       "      <th>A</th>\n",
       "      <th>B</th>\n",
       "    </tr>\n",
       "  </thead>\n",
       "  <tbody>\n",
       "    <tr>\n",
       "      <th>-50</th>\n",
       "      <td>11</td>\n",
       "      <td>15</td>\n",
       "    </tr>\n",
       "    <tr>\n",
       "      <th>-49</th>\n",
       "      <td>7</td>\n",
       "      <td>9</td>\n",
       "    </tr>\n",
       "    <tr>\n",
       "      <th>-48</th>\n",
       "      <td>13</td>\n",
       "      <td>14</td>\n",
       "    </tr>\n",
       "    <tr>\n",
       "      <th>-47</th>\n",
       "      <td>8</td>\n",
       "      <td>12</td>\n",
       "    </tr>\n",
       "    <tr>\n",
       "      <th>-46</th>\n",
       "      <td>9</td>\n",
       "      <td>15</td>\n",
       "    </tr>\n",
       "    <tr>\n",
       "      <th>...</th>\n",
       "      <td>...</td>\n",
       "      <td>...</td>\n",
       "    </tr>\n",
       "    <tr>\n",
       "      <th>45</th>\n",
       "      <td>13</td>\n",
       "      <td>8</td>\n",
       "    </tr>\n",
       "    <tr>\n",
       "      <th>46</th>\n",
       "      <td>9</td>\n",
       "      <td>10</td>\n",
       "    </tr>\n",
       "    <tr>\n",
       "      <th>47</th>\n",
       "      <td>7</td>\n",
       "      <td>12</td>\n",
       "    </tr>\n",
       "    <tr>\n",
       "      <th>48</th>\n",
       "      <td>13</td>\n",
       "      <td>11</td>\n",
       "    </tr>\n",
       "    <tr>\n",
       "      <th>49</th>\n",
       "      <td>8</td>\n",
       "      <td>9</td>\n",
       "    </tr>\n",
       "  </tbody>\n",
       "</table>\n",
       "<p>100 rows × 2 columns</p>\n",
       "</div>"
      ],
      "text/plain": [
       "      A   B\n",
       "-50  11  15\n",
       "-49   7   9\n",
       "-48  13  14\n",
       "-47   8  12\n",
       "-46   9  15\n",
       "..   ..  ..\n",
       " 45  13   8\n",
       " 46   9  10\n",
       " 47   7  12\n",
       " 48  13  11\n",
       " 49   8   9\n",
       "\n",
       "[100 rows x 2 columns]"
      ]
     },
     "execution_count": 31,
     "metadata": {},
     "output_type": "execute_result"
    }
   ],
   "source": [
    "ftable"
   ]
  },
  {
   "cell_type": "raw",
   "id": "a67fd75e-e6df-498b-929b-1e98296d8a48",
   "metadata": {
    "execution": {
     "iopub.execute_input": "2023-05-21T02:42:18.876040Z",
     "iopub.status.busy": "2023-05-21T02:42:18.876040Z",
     "iopub.status.idle": "2023-05-21T02:42:19.080951Z",
     "shell.execute_reply": "2023-05-21T02:42:19.080951Z",
     "shell.execute_reply.started": "2023-05-21T02:42:18.876040Z"
    },
    "jp-MarkdownHeadingCollapsed": true
   },
   "source": [
    "plt.rcParams[\"figure.figsize\"] = 20, 8\n",
    "plt.plot(ftable.A, label = \"A\", marker = \"o\", linestyle = \"--\", mec = \"black\", mfc = \"violet\", color = \"purple\")\n",
    "plt.plot(ftable.B, label = \"B\",  marker = \"o\", linestyle = \"--\", mec = \"black\", mfc = \"lightgreen\", color = \"green\")\n",
    "plt.grid()\n",
    "plt.legend()\n",
    "plt.ylabel(\"Frequency\")\n",
    "plt.xlabel(\"Value\")\n",
    "plt.tight_layout()\n",
    "plt.show()\n",
    "\n",
    "# plt.savefig(\"bags.jpeg\", format = \"jpeg\", dpi = 300)"
   ]
  },
  {
   "cell_type": "markdown",
   "id": "ffa56c62-6d56-4789-85dd-d0cb4dd441d6",
   "metadata": {},
   "source": [
    "![Bags](./bags.jpeg)"
   ]
  },
  {
   "cell_type": "code",
   "execution_count": 52,
   "id": "c125872a-b945-4b1a-ae2d-4a371151a53d",
   "metadata": {
    "execution": {
     "iopub.execute_input": "2023-05-21T02:40:30.794454Z",
     "iopub.status.busy": "2023-05-21T02:40:30.794454Z",
     "iopub.status.idle": "2023-05-21T02:40:30.798708Z",
     "shell.execute_reply": "2023-05-21T02:40:30.798708Z",
     "shell.execute_reply.started": "2023-05-21T02:40:30.794454Z"
    }
   },
   "outputs": [],
   "source": [
    "# Now we have the data from two bags, let's remove the labels -> Now we're left with two bags without labels.\n",
    "# Let's randomly pick one voucher from the bag at hand and given the value of the voucher can we say which bag it was taken from?"
   ]
  },
  {
   "cell_type": "code",
   "execution_count": null,
   "id": "0fdc6a76-a0cf-4c10-a425-a4c6ff7dc5e1",
   "metadata": {},
   "outputs": [],
   "source": [
    "# If the voucher is a $ "
   ]
  },
  {
   "cell_type": "markdown",
   "id": "f881acea-a6a7-468f-903c-472d99d0499a",
   "metadata": {},
   "source": [
    "![Bags](./bags.jpeg)"
   ]
  },
  {
   "cell_type": "code",
   "execution_count": 59,
   "id": "2229454e-033d-4c6c-a8d7-d9ba15c302dc",
   "metadata": {
    "execution": {
     "iopub.execute_input": "2023-05-21T03:35:49.461111Z",
     "iopub.status.busy": "2023-05-21T03:35:49.461111Z",
     "iopub.status.idle": "2023-05-21T03:35:49.469845Z",
     "shell.execute_reply": "2023-05-21T03:35:49.469726Z",
     "shell.execute_reply.started": "2023-05-21T03:35:49.461111Z"
    }
   },
   "outputs": [],
   "source": [
    "# Say that we got a $ 40 voucher, frequency of $ 40 vouchers in \n",
    "# Bag A is 9\n",
    "# Bag B is 11\n",
    "\n",
    "# Since bag B has a higher frequency of $ 40 vouchers, the bag we selected the voucher from is likely to be bag B by a smaller margin.\n",
    "# Since the difference is not that significant."
   ]
  },
  {
   "cell_type": "code",
   "execution_count": 70,
   "id": "5f12815d-b3a8-4528-b4e3-ddc4ff6fc8da",
   "metadata": {
    "execution": {
     "iopub.execute_input": "2023-05-21T04:02:57.846006Z",
     "iopub.status.busy": "2023-05-21T04:02:57.846006Z",
     "iopub.status.idle": "2023-05-21T04:02:57.858266Z",
     "shell.execute_reply": "2023-05-21T04:02:57.857232Z",
     "shell.execute_reply.started": "2023-05-21T04:02:57.846006Z"
    }
   },
   "outputs": [
    {
     "data": {
      "text/plain": [
       "1000"
      ]
     },
     "execution_count": 70,
     "metadata": {},
     "output_type": "execute_result"
    }
   ],
   "source": [
    "A.size"
   ]
  },
  {
   "cell_type": "code",
   "execution_count": 94,
   "id": "4d75bfbd-93e5-4507-a61a-92bb18777e7c",
   "metadata": {
    "execution": {
     "iopub.execute_input": "2023-05-21T04:11:10.998730Z",
     "iopub.status.busy": "2023-05-21T04:11:10.996669Z",
     "iopub.status.idle": "2023-05-21T04:11:11.604384Z",
     "shell.execute_reply": "2023-05-21T04:11:11.604384Z",
     "shell.execute_reply.started": "2023-05-21T04:11:10.998730Z"
    }
   },
   "outputs": [
    {
     "ename": "ValueError",
     "evalue": "The number of FixedLocator locations (113), usually from a call to set_ticks, does not match the number of labels (101).",
     "output_type": "error",
     "traceback": [
      "\u001b[1;31m---------------------------------------------------------------------------\u001b[0m",
      "\u001b[1;31mValueError\u001b[0m                                Traceback (most recent call last)",
      "Cell \u001b[1;32mIn[94], line 5\u001b[0m\n\u001b[0;32m      3\u001b[0m plt\u001b[38;5;241m.\u001b[39mhist([A, B], bins \u001b[38;5;241m=\u001b[39m \u001b[38;5;241m100\u001b[39m, rwidth \u001b[38;5;241m=\u001b[39m \u001b[38;5;241m0.8\u001b[39m, color \u001b[38;5;241m=\u001b[39m [\u001b[38;5;124m\"\u001b[39m\u001b[38;5;124mred\u001b[39m\u001b[38;5;124m\"\u001b[39m, \u001b[38;5;124m\"\u001b[39m\u001b[38;5;124mblue\u001b[39m\u001b[38;5;124m\"\u001b[39m], label \u001b[38;5;241m=\u001b[39m [\u001b[38;5;124m\"\u001b[39m\u001b[38;5;124mA\u001b[39m\u001b[38;5;124m\"\u001b[39m, \u001b[38;5;124m\"\u001b[39m\u001b[38;5;124mB\u001b[39m\u001b[38;5;124m\"\u001b[39m])\n\u001b[0;32m      4\u001b[0m plt\u001b[38;5;241m.\u001b[39mlegend()\n\u001b[1;32m----> 5\u001b[0m \u001b[43mplt\u001b[49m\u001b[38;5;241;43m.\u001b[39;49m\u001b[43mxticks\u001b[49m\u001b[43m(\u001b[49m\u001b[43mticks\u001b[49m\u001b[43m \u001b[49m\u001b[38;5;241;43m=\u001b[39;49m\u001b[43m \u001b[49m\u001b[43mnp\u001b[49m\u001b[38;5;241;43m.\u001b[39;49m\u001b[43marange\u001b[49m\u001b[43m(\u001b[49m\u001b[38;5;241;43m-\u001b[39;49m\u001b[38;5;241;43m49.5\u001b[39;49m\u001b[43m,\u001b[49m\u001b[43m \u001b[49m\u001b[38;5;241;43m51.5\u001b[39;49m\u001b[43m,\u001b[49m\u001b[43m \u001b[49m\u001b[38;5;241;43m.9\u001b[39;49m\u001b[43m)\u001b[49m\u001b[43m,\u001b[49m\u001b[43m \u001b[49m\u001b[43mlabels\u001b[49m\u001b[43m \u001b[49m\u001b[38;5;241;43m=\u001b[39;49m\u001b[43m \u001b[49m\u001b[43mnp\u001b[49m\u001b[38;5;241;43m.\u001b[39;49m\u001b[43marange\u001b[49m\u001b[43m(\u001b[49m\u001b[38;5;241;43m-\u001b[39;49m\u001b[38;5;241;43m50\u001b[39;49m\u001b[43m,\u001b[49m\u001b[43m \u001b[49m\u001b[38;5;241;43m51\u001b[39;49m\u001b[43m,\u001b[49m\u001b[43m \u001b[49m\u001b[38;5;241;43m1\u001b[39;49m\u001b[43m)\u001b[49m\u001b[43m,\u001b[49m\u001b[43m \u001b[49m\u001b[43mrotation\u001b[49m\u001b[43m \u001b[49m\u001b[38;5;241;43m=\u001b[39;49m\u001b[43m \u001b[49m\u001b[38;5;241;43m90\u001b[39;49m\u001b[43m)\u001b[49m\n\u001b[0;32m      6\u001b[0m plt\u001b[38;5;241m.\u001b[39mshow()\n",
      "File \u001b[1;32mC:\\Program Files\\Python311\\Lib\\site-packages\\matplotlib\\pyplot.py:1893\u001b[0m, in \u001b[0;36mxticks\u001b[1;34m(ticks, labels, minor, **kwargs)\u001b[0m\n\u001b[0;32m   1891\u001b[0m         l\u001b[38;5;241m.\u001b[39m_internal_update(kwargs)\n\u001b[0;32m   1892\u001b[0m \u001b[38;5;28;01melse\u001b[39;00m:\n\u001b[1;32m-> 1893\u001b[0m     labels \u001b[38;5;241m=\u001b[39m \u001b[43max\u001b[49m\u001b[38;5;241;43m.\u001b[39;49m\u001b[43mset_xticklabels\u001b[49m\u001b[43m(\u001b[49m\u001b[43mlabels\u001b[49m\u001b[43m,\u001b[49m\u001b[43m \u001b[49m\u001b[43mminor\u001b[49m\u001b[38;5;241;43m=\u001b[39;49m\u001b[43mminor\u001b[49m\u001b[43m,\u001b[49m\u001b[43m \u001b[49m\u001b[38;5;241;43m*\u001b[39;49m\u001b[38;5;241;43m*\u001b[39;49m\u001b[43mkwargs\u001b[49m\u001b[43m)\u001b[49m\n\u001b[0;32m   1895\u001b[0m \u001b[38;5;28;01mreturn\u001b[39;00m locs, labels\n",
      "File \u001b[1;32mC:\\Program Files\\Python311\\Lib\\site-packages\\matplotlib\\axes\\_base.py:74\u001b[0m, in \u001b[0;36m_axis_method_wrapper.__set_name__.<locals>.wrapper\u001b[1;34m(self, *args, **kwargs)\u001b[0m\n\u001b[0;32m     73\u001b[0m \u001b[38;5;28;01mdef\u001b[39;00m \u001b[38;5;21mwrapper\u001b[39m(\u001b[38;5;28mself\u001b[39m, \u001b[38;5;241m*\u001b[39margs, \u001b[38;5;241m*\u001b[39m\u001b[38;5;241m*\u001b[39mkwargs):\n\u001b[1;32m---> 74\u001b[0m     \u001b[38;5;28;01mreturn\u001b[39;00m \u001b[43mget_method\u001b[49m\u001b[43m(\u001b[49m\u001b[38;5;28;43mself\u001b[39;49m\u001b[43m)\u001b[49m\u001b[43m(\u001b[49m\u001b[38;5;241;43m*\u001b[39;49m\u001b[43margs\u001b[49m\u001b[43m,\u001b[49m\u001b[43m \u001b[49m\u001b[38;5;241;43m*\u001b[39;49m\u001b[38;5;241;43m*\u001b[39;49m\u001b[43mkwargs\u001b[49m\u001b[43m)\u001b[49m\n",
      "File \u001b[1;32mC:\\Program Files\\Python311\\Lib\\site-packages\\matplotlib\\_api\\deprecation.py:297\u001b[0m, in \u001b[0;36mrename_parameter.<locals>.wrapper\u001b[1;34m(*args, **kwargs)\u001b[0m\n\u001b[0;32m    292\u001b[0m     warn_deprecated(\n\u001b[0;32m    293\u001b[0m         since, message\u001b[38;5;241m=\u001b[39m\u001b[38;5;124mf\u001b[39m\u001b[38;5;124m\"\u001b[39m\u001b[38;5;124mThe \u001b[39m\u001b[38;5;132;01m{\u001b[39;00mold\u001b[38;5;132;01m!r}\u001b[39;00m\u001b[38;5;124m parameter of \u001b[39m\u001b[38;5;132;01m{\u001b[39;00mfunc\u001b[38;5;241m.\u001b[39m\u001b[38;5;18m__name__\u001b[39m\u001b[38;5;132;01m}\u001b[39;00m\u001b[38;5;124m() \u001b[39m\u001b[38;5;124m\"\u001b[39m\n\u001b[0;32m    294\u001b[0m         \u001b[38;5;124mf\u001b[39m\u001b[38;5;124m\"\u001b[39m\u001b[38;5;124mhas been renamed \u001b[39m\u001b[38;5;132;01m{\u001b[39;00mnew\u001b[38;5;132;01m!r}\u001b[39;00m\u001b[38;5;124m since Matplotlib \u001b[39m\u001b[38;5;132;01m{\u001b[39;00msince\u001b[38;5;132;01m}\u001b[39;00m\u001b[38;5;124m; support \u001b[39m\u001b[38;5;124m\"\u001b[39m\n\u001b[0;32m    295\u001b[0m         \u001b[38;5;124mf\u001b[39m\u001b[38;5;124m\"\u001b[39m\u001b[38;5;124mfor the old name will be dropped %(removal)s.\u001b[39m\u001b[38;5;124m\"\u001b[39m)\n\u001b[0;32m    296\u001b[0m     kwargs[new] \u001b[38;5;241m=\u001b[39m kwargs\u001b[38;5;241m.\u001b[39mpop(old)\n\u001b[1;32m--> 297\u001b[0m \u001b[38;5;28;01mreturn\u001b[39;00m \u001b[43mfunc\u001b[49m\u001b[43m(\u001b[49m\u001b[38;5;241;43m*\u001b[39;49m\u001b[43margs\u001b[49m\u001b[43m,\u001b[49m\u001b[43m \u001b[49m\u001b[38;5;241;43m*\u001b[39;49m\u001b[38;5;241;43m*\u001b[39;49m\u001b[43mkwargs\u001b[49m\u001b[43m)\u001b[49m\n",
      "File \u001b[1;32mC:\\Program Files\\Python311\\Lib\\site-packages\\matplotlib\\axis.py:1969\u001b[0m, in \u001b[0;36mAxis.set_ticklabels\u001b[1;34m(self, labels, minor, fontdict, **kwargs)\u001b[0m\n\u001b[0;32m   1965\u001b[0m \u001b[38;5;28;01mif\u001b[39;00m \u001b[38;5;28misinstance\u001b[39m(locator, mticker\u001b[38;5;241m.\u001b[39mFixedLocator):\n\u001b[0;32m   1966\u001b[0m     \u001b[38;5;66;03m# Passing [] as a list of labels is often used as a way to\u001b[39;00m\n\u001b[0;32m   1967\u001b[0m     \u001b[38;5;66;03m# remove all tick labels, so only error for > 0 labels\u001b[39;00m\n\u001b[0;32m   1968\u001b[0m     \u001b[38;5;28;01mif\u001b[39;00m \u001b[38;5;28mlen\u001b[39m(locator\u001b[38;5;241m.\u001b[39mlocs) \u001b[38;5;241m!=\u001b[39m \u001b[38;5;28mlen\u001b[39m(labels) \u001b[38;5;129;01mand\u001b[39;00m \u001b[38;5;28mlen\u001b[39m(labels) \u001b[38;5;241m!=\u001b[39m \u001b[38;5;241m0\u001b[39m:\n\u001b[1;32m-> 1969\u001b[0m         \u001b[38;5;28;01mraise\u001b[39;00m \u001b[38;5;167;01mValueError\u001b[39;00m(\n\u001b[0;32m   1970\u001b[0m             \u001b[38;5;124m\"\u001b[39m\u001b[38;5;124mThe number of FixedLocator locations\u001b[39m\u001b[38;5;124m\"\u001b[39m\n\u001b[0;32m   1971\u001b[0m             \u001b[38;5;124mf\u001b[39m\u001b[38;5;124m\"\u001b[39m\u001b[38;5;124m (\u001b[39m\u001b[38;5;132;01m{\u001b[39;00m\u001b[38;5;28mlen\u001b[39m(locator\u001b[38;5;241m.\u001b[39mlocs)\u001b[38;5;132;01m}\u001b[39;00m\u001b[38;5;124m), usually from a call to\u001b[39m\u001b[38;5;124m\"\u001b[39m\n\u001b[0;32m   1972\u001b[0m             \u001b[38;5;124m\"\u001b[39m\u001b[38;5;124m set_ticks, does not match\u001b[39m\u001b[38;5;124m\"\u001b[39m\n\u001b[0;32m   1973\u001b[0m             \u001b[38;5;124mf\u001b[39m\u001b[38;5;124m\"\u001b[39m\u001b[38;5;124m the number of labels (\u001b[39m\u001b[38;5;132;01m{\u001b[39;00m\u001b[38;5;28mlen\u001b[39m(labels)\u001b[38;5;132;01m}\u001b[39;00m\u001b[38;5;124m).\u001b[39m\u001b[38;5;124m\"\u001b[39m)\n\u001b[0;32m   1974\u001b[0m     tickd \u001b[38;5;241m=\u001b[39m {loc: lab \u001b[38;5;28;01mfor\u001b[39;00m loc, lab \u001b[38;5;129;01min\u001b[39;00m \u001b[38;5;28mzip\u001b[39m(locator\u001b[38;5;241m.\u001b[39mlocs, labels)}\n\u001b[0;32m   1975\u001b[0m     func \u001b[38;5;241m=\u001b[39m functools\u001b[38;5;241m.\u001b[39mpartial(\u001b[38;5;28mself\u001b[39m\u001b[38;5;241m.\u001b[39m_format_with_dict, tickd)\n",
      "\u001b[1;31mValueError\u001b[0m: The number of FixedLocator locations (113), usually from a call to set_ticks, does not match the number of labels (101)."
     ]
    },
    {
     "data": {
      "image/png": "[encoded data removed]",
      "text/plain": [
       "<Figure size 2000x800 with 1 Axes>"
      ]
     },
     "metadata": {},
     "output_type": "display_data"
    }
   ],
   "source": [
    "# Another way to view this problem is to view the distributions of the two bags as two different models.\n",
    "\n",
    "plt.hist([A, B], bins = 100, rwidth = 0.8, color = [\"red\", \"blue\"], label = [\"A\", \"B\"])\n",
    "plt.legend()\n",
    "plt.xticks(ticks = np.arange(-49.5, 51.5, .9), labels = np.arange(-50, 51, 1), rotation = 90)\n",
    "plt.show()"
   ]
  },
  {
   "cell_type": "code",
   "execution_count": null,
   "id": "3c85cdb6-ef43-4715-8450-243f86e6c495",
   "metadata": {},
   "outputs": [],
   "source": []
  }
 ],
 "metadata": {
  "kernelspec": {
   "display_name": "Python 3 (ipykernel)",
   "language": "python",
   "name": "python3"
  },
  "language_info": {
   "codemirror_mode": {
    "name": "ipython",
    "version": 3
   },
   "file_extension": ".py",
   "mimetype": "text/x-python",
   "name": "python",
   "nbconvert_exporter": "python",
   "pygments_lexer": "ipython3",
   "version": "3.11.3"
  }
 },
 "nbformat": 4,
 "nbformat_minor": 5
}
