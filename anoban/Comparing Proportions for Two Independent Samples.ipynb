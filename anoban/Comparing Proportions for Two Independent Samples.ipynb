{
 "cells": [
  {
   "cell_type": "code",
   "execution_count": 1,
   "id": "d07f7529-ac0a-4bf9-bf70-588975a6b476",
   "metadata": {
    "execution": {
     "iopub.execute_input": "2023-07-10T14:47:45.946532Z",
     "iopub.status.busy": "2023-07-10T14:47:45.946532Z",
     "iopub.status.idle": "2023-07-10T14:47:49.966890Z",
     "shell.execute_reply": "2023-07-10T14:47:49.966890Z",
     "shell.execute_reply.started": "2023-07-10T14:47:45.946532Z"
    }
   },
   "outputs": [],
   "source": [
    "import numpy as np\n",
    "import pandas as pd\n",
    "import matplotlib.pyplot as plt\n",
    "from scipy.stats import (t, norm)"
   ]
  },
  {
   "cell_type": "markdown",
   "id": "3397b48b-5374-4754-8ae7-0fe30b2aa9c9",
   "metadata": {},
   "source": [
    "# ___Comparing Proportions for Two Independent Samples___\n",
    "---------------"
   ]
  },
  {
   "cell_type": "code",
   "execution_count": 2,
   "id": "29f24451-8c5c-43d7-a39f-146d1f2c5aec",
   "metadata": {
    "execution": {
     "iopub.execute_input": "2023-07-10T14:47:52.220260Z",
     "iopub.status.busy": "2023-07-10T14:47:52.220260Z",
     "iopub.status.idle": "2023-07-10T14:47:52.288893Z",
     "shell.execute_reply": "2023-07-10T14:47:52.288893Z",
     "shell.execute_reply.started": "2023-07-10T14:47:52.220260Z"
    }
   },
   "outputs": [],
   "source": [
    "data = pd.read_csv(\"../data/nhanes_2015_2016.csv\", usecols = [\"SMQ020\", \"RIAGENDR\", \"RIDAGEYR\", \"RIDRETH1\"]).dropna(axis = 0)"
   ]
  },
  {
   "cell_type": "code",
   "execution_count": 3,
   "id": "daa5327c-df48-4205-ad37-5a7f50630b20",
   "metadata": {
    "execution": {
     "iopub.execute_input": "2023-07-10T14:47:52.755659Z",
     "iopub.status.busy": "2023-07-10T14:47:52.755659Z",
     "iopub.status.idle": "2023-07-10T14:47:52.774289Z",
     "shell.execute_reply": "2023-07-10T14:47:52.774289Z",
     "shell.execute_reply.started": "2023-07-10T14:47:52.755659Z"
    }
   },
   "outputs": [
    {
     "data": {
      "text/plain": [
       "array([18, 19, 20, 21, 22, 23, 24, 25, 26, 27, 28, 29, 30, 31, 32, 33, 34,\n",
       "       35, 36, 37, 38, 39, 40, 41, 42, 43, 44, 45, 46, 47, 48, 49, 50, 51,\n",
       "       52, 53, 54, 55, 56, 57, 58, 59, 60, 61, 62, 63, 64, 65, 66, 67, 68,\n",
       "       69, 70, 71, 72, 73, 74, 75, 76, 77, 78, 79, 80], dtype=int64)"
      ]
     },
     "execution_count": 3,
     "metadata": {},
     "output_type": "execute_result"
    }
   ],
   "source": [
    "np.sort(data.RIDAGEYR.unique())"
   ]
  },
  {
   "cell_type": "code",
   "execution_count": 4,
   "id": "d776c883-6b9e-4860-88d9-1de13c0c44e9",
   "metadata": {
    "execution": {
     "iopub.execute_input": "2023-07-10T14:47:53.308882Z",
     "iopub.status.busy": "2023-07-10T14:47:53.308882Z",
     "iopub.status.idle": "2023-07-10T14:47:53.313122Z",
     "shell.execute_reply": "2023-07-10T14:47:53.313122Z",
     "shell.execute_reply.started": "2023-07-10T14:47:53.308882Z"
    }
   },
   "outputs": [
    {
     "data": {
      "text/plain": [
       "(5735, 4)"
      ]
     },
     "execution_count": 4,
     "metadata": {},
     "output_type": "execute_result"
    }
   ],
   "source": [
    "data.shape"
   ]
  },
  {
   "cell_type": "code",
   "execution_count": 5,
   "id": "c8373a42-9117-44d7-8c01-6b8e236f6718",
   "metadata": {
    "execution": {
     "iopub.execute_input": "2023-07-10T14:47:53.686530Z",
     "iopub.status.busy": "2023-07-10T14:47:53.686530Z",
     "iopub.status.idle": "2023-07-10T14:47:53.699013Z",
     "shell.execute_reply": "2023-07-10T14:47:53.699013Z",
     "shell.execute_reply.started": "2023-07-10T14:47:53.686530Z"
    }
   },
   "outputs": [
    {
     "data": {
      "text/plain": [
       "array([1, 2, 7, 9], dtype=int64)"
      ]
     },
     "execution_count": 5,
     "metadata": {},
     "output_type": "execute_result"
    }
   ],
   "source": [
    "data.SMQ020.unique()"
   ]
  },
  {
   "cell_type": "markdown",
   "id": "eb16f473-4003-4056-8c12-fd47f628007c",
   "metadata": {},
   "source": [
    "__SMQ020: Smoked at least 100 cigarettes in life__\n",
    "\n",
    "1. \tYes  \n",
    "2. \tNo  \n",
    "7. \tRefused  \t \t\n",
    "9. \tDon't know     "
   ]
  },
  {
   "cell_type": "code",
   "execution_count": 6,
   "id": "d7c83af0-b87c-40bf-b5da-457e667fc045",
   "metadata": {
    "execution": {
     "iopub.execute_input": "2023-07-10T14:47:54.328290Z",
     "iopub.status.busy": "2023-07-10T14:47:54.328290Z",
     "iopub.status.idle": "2023-07-10T14:47:54.358421Z",
     "shell.execute_reply": "2023-07-10T14:47:54.358421Z",
     "shell.execute_reply.started": "2023-07-10T14:47:54.328290Z"
    }
   },
   "outputs": [
    {
     "data": {
      "text/html": [
       "<div>\n",
       "<style scoped>\n",
       "    .dataframe tbody tr th:only-of-type {\n",
       "        vertical-align: middle;\n",
       "    }\n",
       "\n",
       "    .dataframe tbody tr th {\n",
       "        vertical-align: top;\n",
       "    }\n",
       "\n",
       "    .dataframe thead th {\n",
       "        text-align: right;\n",
       "    }\n",
       "</style>\n",
       "<table border=\"1\" class=\"dataframe\">\n",
       "  <thead>\n",
       "    <tr style=\"text-align: right;\">\n",
       "      <th></th>\n",
       "      <th>SMQ020</th>\n",
       "      <th>RIAGENDR</th>\n",
       "      <th>RIDAGEYR</th>\n",
       "      <th>RIDRETH1</th>\n",
       "    </tr>\n",
       "  </thead>\n",
       "  <tbody>\n",
       "    <tr>\n",
       "      <th>43</th>\n",
       "      <td>2</td>\n",
       "      <td>2</td>\n",
       "      <td>80</td>\n",
       "      <td>2</td>\n",
       "    </tr>\n",
       "    <tr>\n",
       "      <th>80</th>\n",
       "      <td>2</td>\n",
       "      <td>2</td>\n",
       "      <td>80</td>\n",
       "      <td>1</td>\n",
       "    </tr>\n",
       "    <tr>\n",
       "      <th>261</th>\n",
       "      <td>2</td>\n",
       "      <td>2</td>\n",
       "      <td>80</td>\n",
       "      <td>2</td>\n",
       "    </tr>\n",
       "    <tr>\n",
       "      <th>521</th>\n",
       "      <td>1</td>\n",
       "      <td>1</td>\n",
       "      <td>80</td>\n",
       "      <td>1</td>\n",
       "    </tr>\n",
       "    <tr>\n",
       "      <th>557</th>\n",
       "      <td>1</td>\n",
       "      <td>2</td>\n",
       "      <td>80</td>\n",
       "      <td>2</td>\n",
       "    </tr>\n",
       "  </tbody>\n",
       "</table>\n",
       "</div>"
      ],
      "text/plain": [
       "     SMQ020  RIAGENDR  RIDAGEYR  RIDRETH1\n",
       "43        2         2        80         2\n",
       "80        2         2        80         1\n",
       "261       2         2        80         2\n",
       "521       1         1        80         1\n",
       "557       1         2        80         2"
      ]
     },
     "execution_count": 6,
     "metadata": {},
     "output_type": "execute_result"
    }
   ],
   "source": [
    "# RIDRETH1 = 1 -> Mexican americans\n",
    "# RIDRETH1 = 2 -> other hispanics\n",
    "\n",
    "# data that includes only 80+ hispanic adults.\n",
    "\n",
    "data = data.loc[(data.RIDAGEYR >= 80) & ((data.RIDRETH1 == 1) | (data.RIDRETH1 == 2)), :]\n",
    "data.head()"
   ]
  },
  {
   "cell_type": "code",
   "execution_count": 45,
   "id": "b3e776fb-245a-4f23-8450-c46fb7eb6a76",
   "metadata": {
    "execution": {
     "iopub.execute_input": "2023-07-10T05:29:27.794269Z",
     "iopub.status.busy": "2023-07-10T05:29:27.794269Z",
     "iopub.status.idle": "2023-07-10T05:29:27.801361Z",
     "shell.execute_reply": "2023-07-10T05:29:27.800756Z",
     "shell.execute_reply.started": "2023-07-10T05:29:27.794269Z"
    }
   },
   "outputs": [
    {
     "data": {
      "text/plain": [
       "(49, 4)"
      ]
     },
     "execution_count": 45,
     "metadata": {},
     "output_type": "execute_result"
    }
   ],
   "source": [
    "data.shape"
   ]
  },
  {
   "cell_type": "code",
   "execution_count": 35,
   "id": "d65bc0b2-0572-4190-ad18-4aea6dbd0160",
   "metadata": {
    "execution": {
     "iopub.execute_input": "2023-07-10T05:27:24.280001Z",
     "iopub.status.busy": "2023-07-10T05:27:24.280001Z",
     "iopub.status.idle": "2023-07-10T05:27:24.286228Z",
     "shell.execute_reply": "2023-07-10T05:27:24.286228Z",
     "shell.execute_reply.started": "2023-07-10T05:27:24.280001Z"
    }
   },
   "outputs": [],
   "source": [
    "# Q. Does the proportions of 80+ aged hispanic males and females living in the US in 2015 - 2016 who smoked significantly differ significantly?"
   ]
  },
  {
   "cell_type": "code",
   "execution_count": null,
   "id": "56d1d7d3-536a-40cf-84e3-6e45b2c97aa1",
   "metadata": {},
   "outputs": [],
   "source": []
  },
  {
   "cell_type": "markdown",
   "id": "281ffdf5-ca5a-4c4b-b309-86d64166d8c0",
   "metadata": {},
   "source": [
    "## ___Using Confidence Intervals___\n",
    "--------------------"
   ]
  },
  {
   "cell_type": "code",
   "execution_count": 49,
   "id": "259a61bf-aee5-484c-9324-b5b1f1d100e3",
   "metadata": {
    "execution": {
     "iopub.execute_input": "2023-07-10T05:33:16.311902Z",
     "iopub.status.busy": "2023-07-10T05:33:16.311902Z",
     "iopub.status.idle": "2023-07-10T05:33:16.330286Z",
     "shell.execute_reply": "2023-07-10T05:33:16.329700Z",
     "shell.execute_reply.started": "2023-07-10T05:33:16.311902Z"
    }
   },
   "outputs": [
    {
     "data": {
      "text/plain": [
       "(17, 32)"
      ]
     },
     "execution_count": 49,
     "metadata": {},
     "output_type": "execute_result"
    }
   ],
   "source": [
    "# sample sizes of hsipanic males and females aged 80+, living in the US in 2015 - 2016\n",
    "\n",
    "ssize_m, ssize_f = (data.RIAGENDR == 1).sum(), (data.RIAGENDR == 2).sum()\n",
    "ssize_m, ssize_f"
   ]
  },
  {
   "cell_type": "code",
   "execution_count": 8,
   "id": "d7a7eb4e-fbd4-4d68-8099-28faf9a0db4c",
   "metadata": {
    "execution": {
     "iopub.execute_input": "2023-07-10T14:50:34.447908Z",
     "iopub.status.busy": "2023-07-10T14:50:34.447908Z",
     "iopub.status.idle": "2023-07-10T14:50:34.455287Z",
     "shell.execute_reply": "2023-07-10T14:50:34.455287Z",
     "shell.execute_reply.started": "2023-07-10T14:50:34.447908Z"
    }
   },
   "outputs": [
    {
     "data": {
      "text/plain": [
       "(0.5294117647058824, 0.25)"
      ]
     },
     "execution_count": 8,
     "metadata": {},
     "output_type": "execute_result"
    }
   ],
   "source": [
    "# proportion of males and females who smoked at least 100 cigarettes in their life in the samples of hsipanic males and females aged 80+, \n",
    "# living in the US in 2015 - 2016\n",
    "\n",
    "prop_m = ((data.RIAGENDR == 1) & (data.SMQ020 == 1)).sum() / (data.RIAGENDR == 1).sum()\n",
    "prop_f = ((data.RIAGENDR == 2) & (data.SMQ020 == 1)).sum() / (data.RIAGENDR == 2).sum()\n",
    "\n",
    "prop_m, prop_f"
   ]
  },
  {
   "cell_type": "code",
   "execution_count": 9,
   "id": "beee547f-2667-46f7-aa89-1069453c95d0",
   "metadata": {
    "execution": {
     "iopub.execute_input": "2023-07-10T14:51:21.943492Z",
     "iopub.status.busy": "2023-07-10T14:51:21.943492Z",
     "iopub.status.idle": "2023-07-10T14:51:21.948359Z",
     "shell.execute_reply": "2023-07-10T14:51:21.948359Z",
     "shell.execute_reply.started": "2023-07-10T14:51:21.943492Z"
    }
   },
   "outputs": [],
   "source": [
    "# HOWEVER, THE SAMPLE SIZES HERE ARE EXTREMELY SMALL!"
   ]
  },
  {
   "cell_type": "code",
   "execution_count": 10,
   "id": "bd1dc00e-1703-456d-b064-d5281943639f",
   "metadata": {
    "execution": {
     "iopub.execute_input": "2023-07-10T14:52:25.949964Z",
     "iopub.status.busy": "2023-07-10T14:52:25.949964Z",
     "iopub.status.idle": "2023-07-10T14:52:25.956801Z",
     "shell.execute_reply": "2023-07-10T14:52:25.956288Z",
     "shell.execute_reply.started": "2023-07-10T14:52:25.949964Z"
    }
   },
   "outputs": [
    {
     "data": {
      "text/plain": [
       "0.27941176470588236"
      ]
     },
     "execution_count": 10,
     "metadata": {},
     "output_type": "execute_result"
    }
   ],
   "source": [
    "# best estimate is the difference in sample proportions;\n",
    "\n",
    "best_est = prop_m - prop_f\n",
    "best_est"
   ]
  },
  {
   "cell_type": "code",
   "execution_count": 13,
   "id": "c2fec9ed-6edb-4c19-8fb1-ec63f57eebc5",
   "metadata": {
    "execution": {
     "iopub.execute_input": "2023-07-10T14:54:21.183452Z",
     "iopub.status.busy": "2023-07-10T14:54:21.183452Z",
     "iopub.status.idle": "2023-07-10T14:54:21.195102Z",
     "shell.execute_reply": "2023-07-10T14:54:21.195102Z",
     "shell.execute_reply.started": "2023-07-10T14:54:21.183452Z"
    }
   },
   "outputs": [
    {
     "data": {
      "text/plain": [
       "2.119905299221011"
      ]
     },
     "execution_count": 13,
     "metadata": {},
     "output_type": "execute_result"
    }
   ],
   "source": [
    "# confidence interval = best estimate +- margin of error\n",
    "# margin of error = multiplier * standard error\n",
    "\n",
    "tscore = t.ppf(0.975, df = 16)\n",
    "tscore"
   ]
  },
  {
   "cell_type": "code",
   "execution_count": null,
   "id": "8bbee0ac-1ccf-4242-b94b-cdb713fb2fe9",
   "metadata": {},
   "outputs": [],
   "source": [
    "# Let's check our assumptions,\n",
    "# Are the populations that these samples come from normal?\n",
    "# Do we have at least 10 values of each type in each samples?\n",
    "# Are the two samples independent?\n",
    "# Are the observations independent?"
   ]
  }
 ],
 "metadata": {
  "kernelspec": {
   "display_name": "Python 3 (ipykernel)",
   "language": "python",
   "name": "python3"
  },
  "language_info": {
   "codemirror_mode": {
    "name": "ipython",
    "version": 3
   },
   "file_extension": ".py",
   "mimetype": "text/x-python",
   "name": "python",
   "nbconvert_exporter": "python",
   "pygments_lexer": "ipython3",
   "version": "3.11.4"
  }
 },
 "nbformat": 4,
 "nbformat_minor": 5
}
