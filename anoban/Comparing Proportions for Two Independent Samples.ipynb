{
 "cells": [
  {
   "cell_type": "code",
   "execution_count": 46,
   "id": "d07f7529-ac0a-4bf9-bf70-588975a6b476",
   "metadata": {
    "execution": {
     "iopub.execute_input": "2023-07-11T12:30:25.326186Z",
     "iopub.status.busy": "2023-07-11T12:30:25.326186Z",
     "iopub.status.idle": "2023-07-11T12:30:25.330383Z",
     "shell.execute_reply": "2023-07-11T12:30:25.329864Z",
     "shell.execute_reply.started": "2023-07-11T12:30:25.326186Z"
    }
   },
   "outputs": [],
   "source": [
    "import numpy as np\n",
    "import pandas as pd\n",
    "import matplotlib.pyplot as plt\n",
    "from scipy.stats import (t, norm, chi2)"
   ]
  },
  {
   "cell_type": "markdown",
   "id": "3397b48b-5374-4754-8ae7-0fe30b2aa9c9",
   "metadata": {},
   "source": [
    "# ___Comparing Proportions for Two Independent Samples___\n",
    "---------------"
   ]
  },
  {
   "cell_type": "code",
   "execution_count": 2,
   "id": "29f24451-8c5c-43d7-a39f-146d1f2c5aec",
   "metadata": {
    "execution": {
     "iopub.execute_input": "2023-07-11T11:50:39.387268Z",
     "iopub.status.busy": "2023-07-11T11:50:39.387268Z",
     "iopub.status.idle": "2023-07-11T11:50:39.447643Z",
     "shell.execute_reply": "2023-07-11T11:50:39.447643Z",
     "shell.execute_reply.started": "2023-07-11T11:50:39.387268Z"
    }
   },
   "outputs": [],
   "source": [
    "data = pd.read_csv(\"../data/nhanes_2015_2016.csv\", usecols = [\"SMQ020\", \"RIAGENDR\", \"RIDAGEYR\", \"RIDRETH1\"]).dropna(axis = 0)"
   ]
  },
  {
   "cell_type": "code",
   "execution_count": 3,
   "id": "daa5327c-df48-4205-ad37-5a7f50630b20",
   "metadata": {
    "execution": {
     "iopub.execute_input": "2023-07-11T11:50:39.812182Z",
     "iopub.status.busy": "2023-07-11T11:50:39.812182Z",
     "iopub.status.idle": "2023-07-11T11:50:39.860310Z",
     "shell.execute_reply": "2023-07-11T11:50:39.860310Z",
     "shell.execute_reply.started": "2023-07-11T11:50:39.812182Z"
    }
   },
   "outputs": [
    {
     "data": {
      "text/plain": [
       "array([18, 19, 20, 21, 22, 23, 24, 25, 26, 27, 28, 29, 30, 31, 32, 33, 34,\n",
       "       35, 36, 37, 38, 39, 40, 41, 42, 43, 44, 45, 46, 47, 48, 49, 50, 51,\n",
       "       52, 53, 54, 55, 56, 57, 58, 59, 60, 61, 62, 63, 64, 65, 66, 67, 68,\n",
       "       69, 70, 71, 72, 73, 74, 75, 76, 77, 78, 79, 80], dtype=int64)"
      ]
     },
     "execution_count": 3,
     "metadata": {},
     "output_type": "execute_result"
    }
   ],
   "source": [
    "np.sort(data.RIDAGEYR.unique())"
   ]
  },
  {
   "cell_type": "code",
   "execution_count": 4,
   "id": "d776c883-6b9e-4860-88d9-1de13c0c44e9",
   "metadata": {
    "execution": {
     "iopub.execute_input": "2023-07-11T11:50:40.396690Z",
     "iopub.status.busy": "2023-07-11T11:50:40.396690Z",
     "iopub.status.idle": "2023-07-11T11:50:40.409865Z",
     "shell.execute_reply": "2023-07-11T11:50:40.409865Z",
     "shell.execute_reply.started": "2023-07-11T11:50:40.396690Z"
    }
   },
   "outputs": [
    {
     "data": {
      "text/plain": [
       "(5735, 4)"
      ]
     },
     "execution_count": 4,
     "metadata": {},
     "output_type": "execute_result"
    }
   ],
   "source": [
    "data.shape"
   ]
  },
  {
   "cell_type": "code",
   "execution_count": 5,
   "id": "c8373a42-9117-44d7-8c01-6b8e236f6718",
   "metadata": {
    "execution": {
     "iopub.execute_input": "2023-07-11T11:50:40.863509Z",
     "iopub.status.busy": "2023-07-11T11:50:40.863509Z",
     "iopub.status.idle": "2023-07-11T11:50:40.876256Z",
     "shell.execute_reply": "2023-07-11T11:50:40.875596Z",
     "shell.execute_reply.started": "2023-07-11T11:50:40.863509Z"
    }
   },
   "outputs": [
    {
     "data": {
      "text/plain": [
       "array([1, 2, 7, 9], dtype=int64)"
      ]
     },
     "execution_count": 5,
     "metadata": {},
     "output_type": "execute_result"
    }
   ],
   "source": [
    "data.SMQ020.unique()"
   ]
  },
  {
   "cell_type": "markdown",
   "id": "eb16f473-4003-4056-8c12-fd47f628007c",
   "metadata": {},
   "source": [
    "__SMQ020: Smoked at least 100 cigarettes in life__\n",
    "\n",
    "1. \tYes  \n",
    "2. \tNo  \n",
    "7. \tRefused  \t \t\n",
    "9. \tDon't know     "
   ]
  },
  {
   "cell_type": "code",
   "execution_count": 6,
   "id": "d7c83af0-b87c-40bf-b5da-457e667fc045",
   "metadata": {
    "execution": {
     "iopub.execute_input": "2023-07-11T11:50:41.866473Z",
     "iopub.status.busy": "2023-07-11T11:50:41.866473Z",
     "iopub.status.idle": "2023-07-11T11:50:41.885707Z",
     "shell.execute_reply": "2023-07-11T11:50:41.885707Z",
     "shell.execute_reply.started": "2023-07-11T11:50:41.866473Z"
    }
   },
   "outputs": [
    {
     "data": {
      "text/html": [
       "<div>\n",
       "<style scoped>\n",
       "    .dataframe tbody tr th:only-of-type {\n",
       "        vertical-align: middle;\n",
       "    }\n",
       "\n",
       "    .dataframe tbody tr th {\n",
       "        vertical-align: top;\n",
       "    }\n",
       "\n",
       "    .dataframe thead th {\n",
       "        text-align: right;\n",
       "    }\n",
       "</style>\n",
       "<table border=\"1\" class=\"dataframe\">\n",
       "  <thead>\n",
       "    <tr style=\"text-align: right;\">\n",
       "      <th></th>\n",
       "      <th>SMQ020</th>\n",
       "      <th>RIAGENDR</th>\n",
       "      <th>RIDAGEYR</th>\n",
       "      <th>RIDRETH1</th>\n",
       "    </tr>\n",
       "  </thead>\n",
       "  <tbody>\n",
       "    <tr>\n",
       "      <th>43</th>\n",
       "      <td>2</td>\n",
       "      <td>2</td>\n",
       "      <td>80</td>\n",
       "      <td>2</td>\n",
       "    </tr>\n",
       "    <tr>\n",
       "      <th>80</th>\n",
       "      <td>2</td>\n",
       "      <td>2</td>\n",
       "      <td>80</td>\n",
       "      <td>1</td>\n",
       "    </tr>\n",
       "    <tr>\n",
       "      <th>261</th>\n",
       "      <td>2</td>\n",
       "      <td>2</td>\n",
       "      <td>80</td>\n",
       "      <td>2</td>\n",
       "    </tr>\n",
       "    <tr>\n",
       "      <th>521</th>\n",
       "      <td>1</td>\n",
       "      <td>1</td>\n",
       "      <td>80</td>\n",
       "      <td>1</td>\n",
       "    </tr>\n",
       "    <tr>\n",
       "      <th>557</th>\n",
       "      <td>1</td>\n",
       "      <td>2</td>\n",
       "      <td>80</td>\n",
       "      <td>2</td>\n",
       "    </tr>\n",
       "  </tbody>\n",
       "</table>\n",
       "</div>"
      ],
      "text/plain": [
       "     SMQ020  RIAGENDR  RIDAGEYR  RIDRETH1\n",
       "43        2         2        80         2\n",
       "80        2         2        80         1\n",
       "261       2         2        80         2\n",
       "521       1         1        80         1\n",
       "557       1         2        80         2"
      ]
     },
     "execution_count": 6,
     "metadata": {},
     "output_type": "execute_result"
    }
   ],
   "source": [
    "# RIDRETH1 = 1 -> Mexican americans\n",
    "# RIDRETH1 = 2 -> other hispanics\n",
    "\n",
    "# data that includes only 80+ hispanic adults.\n",
    "\n",
    "data = data.loc[(data.RIDAGEYR >= 80) & ((data.RIDRETH1 == 1) | (data.RIDRETH1 == 2)), :]\n",
    "data.head()"
   ]
  },
  {
   "cell_type": "code",
   "execution_count": 7,
   "id": "b3e776fb-245a-4f23-8450-c46fb7eb6a76",
   "metadata": {
    "execution": {
     "iopub.execute_input": "2023-07-11T11:50:42.461620Z",
     "iopub.status.busy": "2023-07-11T11:50:42.461620Z",
     "iopub.status.idle": "2023-07-11T11:50:42.466967Z",
     "shell.execute_reply": "2023-07-11T11:50:42.466437Z",
     "shell.execute_reply.started": "2023-07-11T11:50:42.461620Z"
    }
   },
   "outputs": [
    {
     "data": {
      "text/plain": [
       "(49, 4)"
      ]
     },
     "execution_count": 7,
     "metadata": {},
     "output_type": "execute_result"
    }
   ],
   "source": [
    "data.shape"
   ]
  },
  {
   "cell_type": "markdown",
   "id": "f91745a8-284a-47c2-9eca-40ce343aa755",
   "metadata": {
    "execution": {
     "iopub.execute_input": "2023-07-10T05:27:24.280001Z",
     "iopub.status.busy": "2023-07-10T05:27:24.280001Z",
     "iopub.status.idle": "2023-07-10T05:27:24.286228Z",
     "shell.execute_reply": "2023-07-10T05:27:24.286228Z",
     "shell.execute_reply.started": "2023-07-10T05:27:24.280001Z"
    }
   },
   "source": [
    "## ___Q. Does the proportions of 80+ aged hispanic males and females living in the US in 2015 - 2016 who smoked significantly differ significantly?___"
   ]
  },
  {
   "cell_type": "code",
   "execution_count": null,
   "id": "56d1d7d3-536a-40cf-84e3-6e45b2c97aa1",
   "metadata": {},
   "outputs": [],
   "source": []
  },
  {
   "cell_type": "markdown",
   "id": "281ffdf5-ca5a-4c4b-b309-86d64166d8c0",
   "metadata": {},
   "source": [
    "## ___Using Confidence Intervals___\n",
    "--------------------"
   ]
  },
  {
   "cell_type": "code",
   "execution_count": 8,
   "id": "259a61bf-aee5-484c-9324-b5b1f1d100e3",
   "metadata": {
    "execution": {
     "iopub.execute_input": "2023-07-11T11:50:49.890915Z",
     "iopub.status.busy": "2023-07-11T11:50:49.890915Z",
     "iopub.status.idle": "2023-07-11T11:50:49.901336Z",
     "shell.execute_reply": "2023-07-11T11:50:49.901336Z",
     "shell.execute_reply.started": "2023-07-11T11:50:49.890915Z"
    }
   },
   "outputs": [
    {
     "data": {
      "text/plain": [
       "(17, 32)"
      ]
     },
     "execution_count": 8,
     "metadata": {},
     "output_type": "execute_result"
    }
   ],
   "source": [
    "# sample sizes of hsipanic males and females aged 80+, living in the US in 2015 - 2016\n",
    "\n",
    "ssize_m, ssize_f = (data.RIAGENDR == 1).sum(), (data.RIAGENDR == 2).sum()\n",
    "ssize_m, ssize_f"
   ]
  },
  {
   "cell_type": "code",
   "execution_count": 9,
   "id": "92fc8a9b-f936-4589-ae6d-1dd8def242f9",
   "metadata": {
    "execution": {
     "iopub.execute_input": "2023-07-11T11:51:11.186248Z",
     "iopub.status.busy": "2023-07-11T11:51:11.186248Z",
     "iopub.status.idle": "2023-07-11T11:51:11.196235Z",
     "shell.execute_reply": "2023-07-11T11:51:11.196235Z",
     "shell.execute_reply.started": "2023-07-11T11:51:11.186248Z"
    }
   },
   "outputs": [],
   "source": [
    "# NOTE THE EXTREMELY SMALL SAMPLE SIZES!."
   ]
  },
  {
   "cell_type": "code",
   "execution_count": 10,
   "id": "d7a7eb4e-fbd4-4d68-8099-28faf9a0db4c",
   "metadata": {
    "execution": {
     "iopub.execute_input": "2023-07-11T11:51:12.470715Z",
     "iopub.status.busy": "2023-07-11T11:51:12.470715Z",
     "iopub.status.idle": "2023-07-11T11:51:12.478674Z",
     "shell.execute_reply": "2023-07-11T11:51:12.477953Z",
     "shell.execute_reply.started": "2023-07-11T11:51:12.470715Z"
    }
   },
   "outputs": [
    {
     "data": {
      "text/plain": [
       "(0.5294117647058824, 0.25)"
      ]
     },
     "execution_count": 10,
     "metadata": {},
     "output_type": "execute_result"
    }
   ],
   "source": [
    "# proportion of males and females who smoked at least 100 cigarettes in their life in the samples of hsipanic males and females aged 80+, \n",
    "# living in the US in 2015 - 2016\n",
    "\n",
    "prop_m = ((data.RIAGENDR == 1) & (data.SMQ020 == 1)).sum() / (data.RIAGENDR == 1).sum()\n",
    "prop_f = ((data.RIAGENDR == 2) & (data.SMQ020 == 1)).sum() / (data.RIAGENDR == 2).sum()\n",
    "\n",
    "prop_m, prop_f"
   ]
  },
  {
   "cell_type": "code",
   "execution_count": 11,
   "id": "beee547f-2667-46f7-aa89-1069453c95d0",
   "metadata": {
    "execution": {
     "iopub.execute_input": "2023-07-11T11:51:15.105838Z",
     "iopub.status.busy": "2023-07-11T11:51:15.105838Z",
     "iopub.status.idle": "2023-07-11T11:51:15.120641Z",
     "shell.execute_reply": "2023-07-11T11:51:15.120641Z",
     "shell.execute_reply.started": "2023-07-11T11:51:15.105838Z"
    }
   },
   "outputs": [],
   "source": [
    "# HOWEVER, THE SAMPLE SIZES HERE ARE EXTREMELY SMALL!"
   ]
  },
  {
   "cell_type": "code",
   "execution_count": 12,
   "id": "bd1dc00e-1703-456d-b064-d5281943639f",
   "metadata": {
    "execution": {
     "iopub.execute_input": "2023-07-11T11:51:15.655700Z",
     "iopub.status.busy": "2023-07-11T11:51:15.655700Z",
     "iopub.status.idle": "2023-07-11T11:51:15.666021Z",
     "shell.execute_reply": "2023-07-11T11:51:15.665428Z",
     "shell.execute_reply.started": "2023-07-11T11:51:15.655700Z"
    }
   },
   "outputs": [
    {
     "data": {
      "text/plain": [
       "0.27941176470588236"
      ]
     },
     "execution_count": 12,
     "metadata": {},
     "output_type": "execute_result"
    }
   ],
   "source": [
    "# best estimate is the difference in sample proportions;\n",
    "\n",
    "best_est = prop_m - prop_f\n",
    "best_est"
   ]
  },
  {
   "cell_type": "code",
   "execution_count": 13,
   "id": "c2fec9ed-6edb-4c19-8fb1-ec63f57eebc5",
   "metadata": {
    "execution": {
     "iopub.execute_input": "2023-07-11T11:51:50.191775Z",
     "iopub.status.busy": "2023-07-11T11:51:50.191775Z",
     "iopub.status.idle": "2023-07-11T11:51:50.241474Z",
     "shell.execute_reply": "2023-07-11T11:51:50.241474Z",
     "shell.execute_reply.started": "2023-07-11T11:51:50.191775Z"
    }
   },
   "outputs": [
    {
     "data": {
      "text/plain": [
       "2.119905299221011"
      ]
     },
     "execution_count": 13,
     "metadata": {},
     "output_type": "execute_result"
    }
   ],
   "source": [
    "# confidence interval = best estimate +- margin of error\n",
    "# margin of error = multiplier * standard error\n",
    "\n",
    "tscore = t.ppf(0.975, df = min(ssize_m, ssize_f) - 1)\n",
    "tscore"
   ]
  },
  {
   "cell_type": "markdown",
   "id": "d5904d95-0c8b-4450-9343-0cbb43d9a3d9",
   "metadata": {},
   "source": [
    "### ___Let's check our assumptions___"
   ]
  },
  {
   "cell_type": "code",
   "execution_count": 20,
   "id": "8bbee0ac-1ccf-4242-b94b-cdb713fb2fe9",
   "metadata": {
    "execution": {
     "iopub.execute_input": "2023-07-11T11:58:50.261918Z",
     "iopub.status.busy": "2023-07-11T11:58:50.261918Z",
     "iopub.status.idle": "2023-07-11T11:58:50.271241Z",
     "shell.execute_reply": "2023-07-11T11:58:50.270724Z",
     "shell.execute_reply.started": "2023-07-11T11:58:50.261918Z"
    }
   },
   "outputs": [
    {
     "data": {
      "text/plain": [
       "(9, 8)"
      ]
     },
     "execution_count": 20,
     "metadata": {},
     "output_type": "execute_result"
    }
   ],
   "source": [
    "# 1) Are the populations that these samples come from normal? Don't know.\n",
    "# 2) Do we have at least 10 values of each type in each samples? Nope! (our sample sizes are 32 and 17), one sample difinitely contains one or both \n",
    "# variants in quantities less than 0.\n",
    "\n",
    "# for males;\n",
    "((data.RIAGENDR == 1) & (data.SMQ020 == 1)).sum(), ((data.RIAGENDR == 1) & (data.SMQ020 != 1)).sum()"
   ]
  },
  {
   "cell_type": "code",
   "execution_count": 18,
   "id": "06cb8a9b-67b4-408b-991a-fe41c184856d",
   "metadata": {
    "execution": {
     "iopub.execute_input": "2023-07-11T11:55:37.141473Z",
     "iopub.status.busy": "2023-07-11T11:55:37.141473Z",
     "iopub.status.idle": "2023-07-11T11:55:37.155824Z",
     "shell.execute_reply": "2023-07-11T11:55:37.155824Z",
     "shell.execute_reply.started": "2023-07-11T11:55:37.141473Z"
    }
   },
   "outputs": [],
   "source": [
    "# There we go,\n",
    "# So in our males sample, 9 of them smoked significantly and 8 of them did not smoke significantly!\n",
    "# So, both of these two variants fail to realize a sample size of 10."
   ]
  },
  {
   "cell_type": "code",
   "execution_count": 21,
   "id": "45f1be99-c623-43a2-aae8-cd934f38dca7",
   "metadata": {
    "execution": {
     "iopub.execute_input": "2023-07-11T11:59:28.839123Z",
     "iopub.status.busy": "2023-07-11T11:59:28.839123Z",
     "iopub.status.idle": "2023-07-11T11:59:28.844065Z",
     "shell.execute_reply": "2023-07-11T11:59:28.844065Z",
     "shell.execute_reply.started": "2023-07-11T11:59:28.839123Z"
    }
   },
   "outputs": [],
   "source": [
    "# 3) Are the two samples independent? Yes.\n",
    "# 4) Are the observations independent? Supposedly yes!."
   ]
  },
  {
   "cell_type": "code",
   "execution_count": 24,
   "id": "33d43efb-3826-4038-8cc8-579a675a1d06",
   "metadata": {
    "execution": {
     "iopub.execute_input": "2023-07-11T12:02:12.421532Z",
     "iopub.status.busy": "2023-07-11T12:02:12.421532Z",
     "iopub.status.idle": "2023-07-11T12:02:12.437164Z",
     "shell.execute_reply": "2023-07-11T12:02:12.437164Z",
     "shell.execute_reply.started": "2023-07-11T12:02:12.421532Z"
    }
   },
   "outputs": [
    {
     "data": {
      "text/plain": [
       "(0.12105782480647682, 0.07654655446197431)"
      ]
     },
     "execution_count": 24,
     "metadata": {},
     "output_type": "execute_result"
    }
   ],
   "source": [
    "# estimated standard errors\n",
    "\n",
    "stderr_m = np.sqrt(prop_m * (1 - prop_m) / ssize_m)\n",
    "stderr_f = np.sqrt(prop_f * (1 - prop_f) / ssize_f)\n",
    "\n",
    "stderr_m, stderr_f"
   ]
  },
  {
   "cell_type": "code",
   "execution_count": 25,
   "id": "4d9344fc-2861-4187-804e-c274437eef16",
   "metadata": {
    "execution": {
     "iopub.execute_input": "2023-07-11T12:02:12.767857Z",
     "iopub.status.busy": "2023-07-11T12:02:12.767857Z",
     "iopub.status.idle": "2023-07-11T12:02:12.779204Z",
     "shell.execute_reply": "2023-07-11T12:02:12.778521Z",
     "shell.execute_reply.started": "2023-07-11T12:02:12.767857Z"
    }
   },
   "outputs": [
    {
     "data": {
      "text/plain": [
       "0.19760437926845115"
      ]
     },
     "execution_count": 25,
     "metadata": {},
     "output_type": "execute_result"
    }
   ],
   "source": [
    "stderr_comb = stderr_m + stderr_f\n",
    "stderr_comb"
   ]
  },
  {
   "cell_type": "code",
   "execution_count": 33,
   "id": "85702c7e-e465-4740-9078-a34485e045d6",
   "metadata": {
    "execution": {
     "iopub.execute_input": "2023-07-11T12:06:31.187543Z",
     "iopub.status.busy": "2023-07-11T12:06:31.187543Z",
     "iopub.status.idle": "2023-07-11T12:06:31.197857Z",
     "shell.execute_reply": "2023-07-11T12:06:31.197342Z",
     "shell.execute_reply.started": "2023-07-11T12:06:31.187543Z"
    }
   },
   "outputs": [
    {
     "data": {
      "text/plain": [
       "1.959963984540054"
      ]
     },
     "execution_count": 33,
     "metadata": {},
     "output_type": "execute_result"
    }
   ],
   "source": [
    "# margin of error, assuming that the sampling distribution is normal!\n",
    "\n",
    "zstar = norm.ppf(0.975)\n",
    "zstar"
   ]
  },
  {
   "cell_type": "code",
   "execution_count": 34,
   "id": "33bbe445-fd9a-47f8-9bf5-f5ca07851843",
   "metadata": {
    "execution": {
     "iopub.execute_input": "2023-07-11T12:06:33.763479Z",
     "iopub.status.busy": "2023-07-11T12:06:33.763479Z",
     "iopub.status.idle": "2023-07-11T12:06:33.770626Z",
     "shell.execute_reply": "2023-07-11T12:06:33.770535Z",
     "shell.execute_reply.started": "2023-07-11T12:06:33.763479Z"
    }
   },
   "outputs": [
    {
     "data": {
      "text/plain": [
       "0.38729746655355757"
      ]
     },
     "execution_count": 34,
     "metadata": {},
     "output_type": "execute_result"
    }
   ],
   "source": [
    "moerr = stderr_comb * zstar\n",
    "moerr"
   ]
  },
  {
   "cell_type": "code",
   "execution_count": 35,
   "id": "4724ea05-a002-46aa-8056-73423f17ee40",
   "metadata": {
    "execution": {
     "iopub.execute_input": "2023-07-11T12:06:34.092013Z",
     "iopub.status.busy": "2023-07-11T12:06:34.092013Z",
     "iopub.status.idle": "2023-07-11T12:06:34.100164Z",
     "shell.execute_reply": "2023-07-11T12:06:34.100164Z",
     "shell.execute_reply.started": "2023-07-11T12:06:34.092013Z"
    }
   },
   "outputs": [
    {
     "data": {
      "text/plain": [
       "(-0.10788570184767521, 0.6667092312594399)"
      ]
     },
     "execution_count": 35,
     "metadata": {},
     "output_type": "execute_result"
    }
   ],
   "source": [
    "# 95% confidence interval;\n",
    "\n",
    "lcb, ucb = best_est - moerr, best_est + moerr\n",
    "lcb, ucb"
   ]
  },
  {
   "cell_type": "code",
   "execution_count": 32,
   "id": "9d5a78eb-f21d-49c5-95f7-d9c96ab6bda3",
   "metadata": {
    "execution": {
     "iopub.execute_input": "2023-07-11T12:05:42.593784Z",
     "iopub.status.busy": "2023-07-11T12:05:42.593784Z",
     "iopub.status.idle": "2023-07-11T12:05:42.604261Z",
     "shell.execute_reply": "2023-07-11T12:05:42.604199Z",
     "shell.execute_reply.started": "2023-07-11T12:05:42.593784Z"
    }
   },
   "outputs": [],
   "source": [
    "# Our confidence interval does include 0!\n",
    "# So, Null hypothesis's proposal of 0.0 difference in the proportions is an entertainable option!\n",
    "# There is perhaps no significant difference between the males and females who smoked."
   ]
  },
  {
   "cell_type": "code",
   "execution_count": null,
   "id": "e253488d-c0d7-493b-8a5f-e36014c8cf52",
   "metadata": {},
   "outputs": [],
   "source": []
  },
  {
   "cell_type": "markdown",
   "id": "1723f818-580d-477a-af36-dce0bebf06c0",
   "metadata": {},
   "source": [
    "## ___Using Hypothesis Testing: $\\chi^2$ test___\n",
    "--------------------"
   ]
  },
  {
   "cell_type": "code",
   "execution_count": 39,
   "id": "01ee2932-57ab-4075-b65b-83fa040d43f8",
   "metadata": {
    "execution": {
     "iopub.execute_input": "2023-07-11T12:11:03.684260Z",
     "iopub.status.busy": "2023-07-11T12:11:03.684260Z",
     "iopub.status.idle": "2023-07-11T12:11:03.690912Z",
     "shell.execute_reply": "2023-07-11T12:11:03.690912Z",
     "shell.execute_reply.started": "2023-07-11T12:11:03.684260Z"
    }
   },
   "outputs": [],
   "source": [
    "# Significance level 5% (0.05)\n",
    "\n",
    "# Null hypothesis: There is no significant difference in the proportions of 80+ aged hispanic males and females living in US, in 2015 - 2016\n",
    "# who smoked significantly.\n",
    "\n",
    "# Alternative hypothesis: There is a significant difference in the proportions of 80+ aged hispanic males and females living in US, in 2015 - 2016\n",
    "# who smoked significantly. (two tailed!)"
   ]
  },
  {
   "cell_type": "code",
   "execution_count": 43,
   "id": "e3615a2a-0efc-43e9-9d37-da450eee76c3",
   "metadata": {
    "execution": {
     "iopub.execute_input": "2023-07-11T12:29:03.142834Z",
     "iopub.status.busy": "2023-07-11T12:29:03.142834Z",
     "iopub.status.idle": "2023-07-11T12:29:03.165301Z",
     "shell.execute_reply": "2023-07-11T12:29:03.164790Z",
     "shell.execute_reply.started": "2023-07-11T12:29:03.142834Z"
    }
   },
   "outputs": [
    {
     "data": {
      "text/plain": [
       "(9, 8, 8, 24)"
      ]
     },
     "execution_count": 43,
     "metadata": {},
     "output_type": "execute_result"
    }
   ],
   "source": [
    "# Assumptions:\n",
    "\n",
    "# 1) Chi squared test involves a 2x2 matrix, that consists of sample sizes for two variants of values present in the samples.\n",
    "# e.g. [[n(smoking-males), n(non-smoking-males)], [n(smoking-females), n(non-smoking-females)]]\n",
    "# All these 4 values need to be greater than 5!\n",
    "\n",
    "((data.RIAGENDR == 1) & (data.SMQ020 == 1)).sum(), ((data.RIAGENDR == 1) & (data.SMQ020 != 1)).sum(), \\\n",
    "((data.RIAGENDR == 2) & (data.SMQ020 == 1)).sum(), ((data.RIAGENDR == 2) & (data.SMQ020 != 1)).sum()"
   ]
  },
  {
   "cell_type": "code",
   "execution_count": 44,
   "id": "844143a7-4f22-4b59-8acf-e18b4d122152",
   "metadata": {
    "execution": {
     "iopub.execute_input": "2023-07-11T12:29:36.361824Z",
     "iopub.status.busy": "2023-07-11T12:29:36.361824Z",
     "iopub.status.idle": "2023-07-11T12:29:36.372802Z",
     "shell.execute_reply": "2023-07-11T12:29:36.372107Z",
     "shell.execute_reply.started": "2023-07-11T12:29:36.361824Z"
    }
   },
   "outputs": [],
   "source": [
    "# The above assumption is justified."
   ]
  },
  {
   "cell_type": "code",
   "execution_count": 45,
   "id": "c23f2b38-59f0-4573-b718-ee7285eb8b9e",
   "metadata": {
    "execution": {
     "iopub.execute_input": "2023-07-11T12:30:06.997361Z",
     "iopub.status.busy": "2023-07-11T12:30:06.997361Z",
     "iopub.status.idle": "2023-07-11T12:30:07.002277Z",
     "shell.execute_reply": "2023-07-11T12:30:07.002277Z",
     "shell.execute_reply.started": "2023-07-11T12:30:06.997361Z"
    }
   },
   "outputs": [],
   "source": [
    "# We'll assume that the observations are independent!"
   ]
  },
  {
   "cell_type": "markdown",
   "id": "3f8b0c6c-33f9-45b9-bfd4-1f47d4c5586d",
   "metadata": {},
   "source": [
    "# ___$\\chi^2 = \\sum \\frac{(O - E)^2}{E}$___"
   ]
  },
  {
   "cell_type": "code",
   "execution_count": 52,
   "id": "15d536b3-622f-458b-a5a4-7175bbfc4835",
   "metadata": {
    "execution": {
     "iopub.execute_input": "2023-07-11T12:38:54.293645Z",
     "iopub.status.busy": "2023-07-11T12:38:54.293645Z",
     "iopub.status.idle": "2023-07-11T12:38:54.306897Z",
     "shell.execute_reply": "2023-07-11T12:38:54.306897Z",
     "shell.execute_reply.started": "2023-07-11T12:38:54.293645Z"
    }
   },
   "outputs": [],
   "source": [
    "# O, E denote the observed and expected FREQUENCIES NOT PROPORTIONS!"
   ]
  },
  {
   "cell_type": "code",
   "execution_count": 57,
   "id": "4b89e33f-012b-43c3-be11-23ba6e8ccc48",
   "metadata": {
    "execution": {
     "iopub.execute_input": "2023-07-11T12:57:37.226744Z",
     "iopub.status.busy": "2023-07-11T12:57:37.226744Z",
     "iopub.status.idle": "2023-07-11T12:57:37.233288Z",
     "shell.execute_reply": "2023-07-11T12:57:37.233288Z",
     "shell.execute_reply.started": "2023-07-11T12:57:37.226744Z"
    }
   },
   "outputs": [],
   "source": [
    "# SOMETHING WRONG WITH THE CHI SQUARED TEST RESULTS :&("
   ]
  },
  {
   "cell_type": "code",
   "execution_count": 58,
   "id": "e5797bd1-df57-4b8c-837f-ca90ccd5edad",
   "metadata": {
    "execution": {
     "iopub.execute_input": "2023-07-11T12:57:50.927998Z",
     "iopub.status.busy": "2023-07-11T12:57:50.927998Z",
     "iopub.status.idle": "2023-07-11T12:57:50.946460Z",
     "shell.execute_reply": "2023-07-11T12:57:50.946029Z",
     "shell.execute_reply.started": "2023-07-11T12:57:50.927998Z"
    }
   },
   "outputs": [
    {
     "data": {
      "text/plain": [
       "0.1111111111111111"
      ]
     },
     "execution_count": 58,
     "metadata": {},
     "output_type": "execute_result"
    }
   ],
   "source": [
    "# Let's say that we expected the females' proportion to be same as the males' proportion.\n",
    "\n",
    "msmoke = ((data.RIAGENDR == 1) & (data.SMQ020 == 1)).sum()\n",
    "fsmoke = ((data.RIAGENDR == 2) & (data.SMQ020 == 1)).sum()\n",
    "\n",
    "chi2_stat = (((msmoke - msmoke) ** 2) / msmoke) + (((fsmoke - msmoke) ** 2) / msmoke)\n",
    "chi2_stat"
   ]
  },
  {
   "cell_type": "code",
   "execution_count": 59,
   "id": "1599a4aa-ff0f-4064-9e40-201cd577d629",
   "metadata": {
    "execution": {
     "iopub.execute_input": "2023-07-11T12:57:51.262464Z",
     "iopub.status.busy": "2023-07-11T12:57:51.262464Z",
     "iopub.status.idle": "2023-07-11T12:57:51.273483Z",
     "shell.execute_reply": "2023-07-11T12:57:51.273483Z",
     "shell.execute_reply.started": "2023-07-11T12:57:51.262464Z"
    }
   },
   "outputs": [
    {
     "data": {
      "text/plain": [
       "1.4777653607270547"
      ]
     },
     "execution_count": 59,
     "metadata": {},
     "output_type": "execute_result"
    }
   ],
   "source": [
    "2 * (1 - chi2.cdf(chi2_stat, df = 1))"
   ]
  },
  {
   "cell_type": "code",
   "execution_count": null,
   "id": "dda2ab3e-301f-4b4e-982d-55c74bab5b2b",
   "metadata": {},
   "outputs": [],
   "source": []
  }
 ],
 "metadata": {
  "kernelspec": {
   "display_name": "Python 3 (ipykernel)",
   "language": "python",
   "name": "python3"
  },
  "language_info": {
   "codemirror_mode": {
    "name": "ipython",
    "version": 3
   },
   "file_extension": ".py",
   "mimetype": "text/x-python",
   "name": "python",
   "nbconvert_exporter": "python",
   "pygments_lexer": "ipython3",
   "version": "3.11.4"
  }
 },
 "nbformat": 4,
 "nbformat_minor": 5
}
