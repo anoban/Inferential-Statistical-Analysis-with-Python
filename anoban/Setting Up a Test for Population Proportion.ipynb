{
 "cells": [
  {
   "cell_type": "code",
   "execution_count": 2,
   "id": "4bdfbd76-a5f0-431f-b2fb-0bd9f01cffee",
   "metadata": {
    "execution": {
     "iopub.execute_input": "2023-06-24T02:07:49.442747Z",
     "iopub.status.busy": "2023-06-24T02:07:49.442747Z",
     "iopub.status.idle": "2023-06-24T02:07:50.661701Z",
     "shell.execute_reply": "2023-06-24T02:07:50.661701Z",
     "shell.execute_reply.started": "2023-06-24T02:07:49.442747Z"
    }
   },
   "outputs": [],
   "source": [
    "import numpy as np\n",
    "import pandas as pd"
   ]
  },
  {
   "cell_type": "markdown",
   "id": "c37439ad-3b0a-4448-9dfa-1783a521ec8c",
   "metadata": {},
   "source": [
    "# ___Setting Up a Test for Population Proportion___\n",
    "----------------"
   ]
  },
  {
   "cell_type": "code",
   "execution_count": 1,
   "id": "2c5aa6a9-ed17-4f1f-8f59-dda760e82742",
   "metadata": {
    "execution": {
     "iopub.execute_input": "2023-06-24T02:07:31.294333Z",
     "iopub.status.busy": "2023-06-24T02:07:31.294333Z",
     "iopub.status.idle": "2023-06-24T02:07:31.301135Z",
     "shell.execute_reply": "2023-06-24T02:07:31.301018Z",
     "shell.execute_reply.started": "2023-06-24T02:07:31.294333Z"
    }
   },
   "outputs": [],
   "source": [
    "# Why do we formulate hypotheses and test them?\n",
    "\n",
    "# Typically we will have a research question, \n",
    "# We'd use data to support or debunk that claim.\n",
    "# This is where hypothesis testing comes in."
   ]
  },
  {
   "cell_type": "code",
   "execution_count": null,
   "id": "1e42017c-f1fe-4ea2-a283-cd0b2a3a2118",
   "metadata": {},
   "outputs": [],
   "source": []
  },
  {
   "cell_type": "markdown",
   "id": "1edec2a4-b3c7-4552-af64-cf8395e8ca45",
   "metadata": {},
   "source": [
    "## ___Could the Mean Oil Temperature be $58.5 \\degree C$ ?___\n",
    "___________"
   ]
  },
  {
   "cell_type": "code",
   "execution_count": 8,
   "id": "f3d9d232-702e-4249-82b7-d9eb55dd7e97",
   "metadata": {
    "execution": {
     "iopub.execute_input": "2023-06-24T02:09:59.109779Z",
     "iopub.status.busy": "2023-06-24T02:09:59.109779Z",
     "iopub.status.idle": "2023-06-24T02:09:59.391802Z",
     "shell.execute_reply": "2023-06-24T02:09:59.391802Z",
     "shell.execute_reply.started": "2023-06-24T02:09:59.109779Z"
    }
   },
   "outputs": [],
   "source": [
    "oil_temps = pd.read_csv(\"./../data/MetroPT3(AirCompressor).csv\", usecols = [\"Oil_temperature\"]).to_numpy().ravel()"
   ]
  },
  {
   "cell_type": "code",
   "execution_count": 9,
   "id": "a0f7e288-b320-41be-8d5a-f55be7039733",
   "metadata": {
    "execution": {
     "iopub.execute_input": "2023-06-24T02:10:04.401033Z",
     "iopub.status.busy": "2023-06-24T02:10:04.401033Z",
     "iopub.status.idle": "2023-06-24T02:10:04.415958Z",
     "shell.execute_reply": "2023-06-24T02:10:04.415958Z",
     "shell.execute_reply.started": "2023-06-24T02:10:04.401033Z"
    }
   },
   "outputs": [
    {
     "data": {
      "text/plain": [
       "60.91453961453962"
      ]
     },
     "execution_count": 9,
     "metadata": {},
     "output_type": "execute_result"
    }
   ],
   "source": [
    "# The true mean oil temperature.\n",
    "\n",
    "oil_temps.mean()"
   ]
  },
  {
   "cell_type": "code",
   "execution_count": 10,
   "id": "b9b42d93-af48-4ec8-b575-2a45565cd34c",
   "metadata": {
    "execution": {
     "iopub.execute_input": "2023-06-24T02:11:58.623534Z",
     "iopub.status.busy": "2023-06-24T02:11:58.623534Z",
     "iopub.status.idle": "2023-06-24T02:11:58.629719Z",
     "shell.execute_reply": "2023-06-24T02:11:58.629202Z",
     "shell.execute_reply.started": "2023-06-24T02:11:58.623534Z"
    }
   },
   "outputs": [
    {
     "data": {
      "text/plain": [
       "999999"
      ]
     },
     "execution_count": 10,
     "metadata": {},
     "output_type": "execute_result"
    }
   ],
   "source": [
    "# population -> a set of engine oil temperatures.\n",
    "\n",
    "oil_temps.size"
   ]
  },
  {
   "cell_type": "code",
   "execution_count": 11,
   "id": "84c6d396-0e16-4ea1-acd4-0d6245e25a16",
   "metadata": {
    "execution": {
     "iopub.execute_input": "2023-06-24T02:13:38.685362Z",
     "iopub.status.busy": "2023-06-24T02:13:38.685362Z",
     "iopub.status.idle": "2023-06-24T02:13:38.699860Z",
     "shell.execute_reply": "2023-06-24T02:13:38.699760Z",
     "shell.execute_reply.started": "2023-06-24T02:13:38.685362Z"
    }
   },
   "outputs": [],
   "source": [
    "# Parameter that interests us -> mean oil temperature.\n",
    "# The hypothesis we want to test is whether the true population mean is significantly different than our proposed mean of 58.5 degrees celcius."
   ]
  },
  {
   "cell_type": "code",
   "execution_count": null,
   "id": "47fbe6a8-e589-4caa-a789-bb89baf2a078",
   "metadata": {},
   "outputs": [],
   "source": []
  },
  {
   "cell_type": "markdown",
   "id": "cd829f39-6ba4-48bf-93cc-3a1c877b7229",
   "metadata": {},
   "source": [
    "# ___Hypotheses___\n",
    "-------------------\n",
    "\n",
    "## ___Null hypothesis: $H_0$ &rarr; $\\bar{temp} = 58.5 \\degree C$___\n",
    "## ___Alternative hypothesis: $H_1$ &rarr; $\\bar{temp} \\neq 58.5 \\degree C$___"
   ]
  },
  {
   "cell_type": "code",
   "execution_count": 12,
   "id": "630d7b0e-d8b5-4075-9831-bf26e686b9cd",
   "metadata": {
    "execution": {
     "iopub.execute_input": "2023-06-24T02:25:59.792134Z",
     "iopub.status.busy": "2023-06-24T02:25:59.792134Z",
     "iopub.status.idle": "2023-06-24T02:25:59.799003Z",
     "shell.execute_reply": "2023-06-24T02:25:59.799003Z",
     "shell.execute_reply.started": "2023-06-24T02:25:59.792134Z"
    }
   },
   "outputs": [],
   "source": [
    "# Simply having a less specific alternative hypothesis like the above gives 2 options,\n",
    "# the mean temperature could either be greater than the proposed temperature or less than the proposed temperature.\n",
    "# To improve the specificity, we could change the alternative hypothesis to be based on just one of the options."
   ]
  },
  {
   "cell_type": "markdown",
   "id": "b3df6b8b-9188-4c2f-bf8b-c051d60f2e20",
   "metadata": {},
   "source": [
    "## ___Null hypothesis: $H_0$ &rarr; $\\bar{temp} = 58.5 \\degree C$___\n",
    "## ___Alternative hypothesis: $H_1$ &rarr; $\\bar{temp} \\gt 58.5 \\degree C$___"
   ]
  },
  {
   "cell_type": "code",
   "execution_count": 13,
   "id": "8c89d391-9516-41df-a102-99970007a401",
   "metadata": {
    "execution": {
     "iopub.execute_input": "2023-06-24T02:30:51.800951Z",
     "iopub.status.busy": "2023-06-24T02:30:51.800951Z",
     "iopub.status.idle": "2023-06-24T02:30:51.812929Z",
     "shell.execute_reply": "2023-06-24T02:30:51.812929Z",
     "shell.execute_reply.started": "2023-06-24T02:30:51.800951Z"
    }
   },
   "outputs": [],
   "source": [
    "# We also need to set an alpha level (significance), to which 0.05 is used customarily."
   ]
  },
  {
   "cell_type": "code",
   "execution_count": null,
   "id": "8bab37b8-19ac-40b1-9c02-162c7496cb79",
   "metadata": {},
   "outputs": [],
   "source": []
  },
  {
   "cell_type": "markdown",
   "id": "d3e8fe74-e970-415c-a5e5-3125aa6daa2b",
   "metadata": {},
   "source": [
    "## ___Assumptions___\n",
    "-------------"
   ]
  },
  {
   "cell_type": "code",
   "execution_count": 15,
   "id": "e1571d40-55af-49d5-9389-d74ff6c87fcb",
   "metadata": {
    "execution": {
     "iopub.execute_input": "2023-06-24T02:34:12.261509Z",
     "iopub.status.busy": "2023-06-24T02:34:12.261509Z",
     "iopub.status.idle": "2023-06-24T02:34:12.268303Z",
     "shell.execute_reply": "2023-06-24T02:34:12.267875Z",
     "shell.execute_reply.started": "2023-06-24T02:34:12.261509Z"
    }
   },
   "outputs": [],
   "source": [
    "# 1) Our sample is a simple random sample. \n",
    "# 2) Sample is large enough, that the sample metrics form a normal distribution. (we'll consider the whole dataset to be a sample)"
   ]
  },
  {
   "cell_type": "markdown",
   "id": "5cd1fd86-d5f2-422d-af9b-e91a697ef807",
   "metadata": {},
   "source": [
    "To ensure that our sample metrics comply to a normal distribution,\n",
    "\n",
    "# $N \\cdot P(H_0) \\ge 10~and~N \\cdot P(H_1) \\ge 10$"
   ]
  },
  {
   "cell_type": "code",
   "execution_count": 19,
   "id": "977e9652-750c-4105-a8a4-5a267a26647b",
   "metadata": {
    "execution": {
     "iopub.execute_input": "2023-06-24T02:37:58.497419Z",
     "iopub.status.busy": "2023-06-24T02:37:58.481785Z",
     "iopub.status.idle": "2023-06-24T02:37:58.503297Z",
     "shell.execute_reply": "2023-06-24T02:37:58.503297Z",
     "shell.execute_reply.started": "2023-06-24T02:37:58.497419Z"
    }
   },
   "outputs": [
    {
     "data": {
      "text/plain": [
       "2881"
      ]
     },
     "execution_count": 19,
     "metadata": {},
     "output_type": "execute_result"
    }
   ],
   "source": [
    "# That's an unexpectedly huge number!\n",
    "\n",
    "(oil_temps == 58.5).sum()"
   ]
  },
  {
   "cell_type": "code",
   "execution_count": 20,
   "id": "88c1389c-84de-45fd-99a0-264f97cf0b4f",
   "metadata": {
    "execution": {
     "iopub.execute_input": "2023-06-24T02:38:04.558750Z",
     "iopub.status.busy": "2023-06-24T02:38:04.558750Z",
     "iopub.status.idle": "2023-06-24T02:38:04.574739Z",
     "shell.execute_reply": "2023-06-24T02:38:04.574739Z",
     "shell.execute_reply.started": "2023-06-24T02:38:04.558750Z"
    }
   },
   "outputs": [
    {
     "data": {
      "text/plain": [
       "577715"
      ]
     },
     "execution_count": 20,
     "metadata": {},
     "output_type": "execute_result"
    }
   ],
   "source": [
    "(oil_temps > 58.5).sum()"
   ]
  },
  {
   "cell_type": "code",
   "execution_count": 21,
   "id": "0083938f-7e72-4648-8086-c16118b7d193",
   "metadata": {
    "execution": {
     "iopub.execute_input": "2023-06-24T02:38:40.703381Z",
     "iopub.status.busy": "2023-06-24T02:38:40.703381Z",
     "iopub.status.idle": "2023-06-24T02:38:40.709858Z",
     "shell.execute_reply": "2023-06-24T02:38:40.709858Z",
     "shell.execute_reply.started": "2023-06-24T02:38:40.703381Z"
    }
   },
   "outputs": [],
   "source": [
    "# So, yes both evaluate to counts greater than 10."
   ]
  },
  {
   "cell_type": "code",
   "execution_count": null,
   "id": "441aef70-8e23-4b54-86b4-8c3392b83909",
   "metadata": {},
   "outputs": [],
   "source": []
  }
 ],
 "metadata": {
  "kernelspec": {
   "display_name": "Python 3 (ipykernel)",
   "language": "python",
   "name": "python3"
  },
  "language_info": {
   "codemirror_mode": {
    "name": "ipython",
    "version": 3
   },
   "file_extension": ".py",
   "mimetype": "text/x-python",
   "name": "python",
   "nbconvert_exporter": "python",
   "pygments_lexer": "ipython3",
   "version": "3.11.4"
  }
 },
 "nbformat": 4,
 "nbformat_minor": 5
}
