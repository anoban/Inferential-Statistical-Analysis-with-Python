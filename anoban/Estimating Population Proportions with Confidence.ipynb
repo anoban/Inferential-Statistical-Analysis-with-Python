{
 "cells": [
  {
   "cell_type": "code",
   "execution_count": 1,
   "id": "79365466-c118-4de7-a0c1-77cd619e987f",
   "metadata": {
    "execution": {
     "iopub.execute_input": "2023-06-01T11:11:36.774172Z",
     "iopub.status.busy": "2023-06-01T11:11:36.774172Z",
     "iopub.status.idle": "2023-06-01T11:11:38.557596Z",
     "shell.execute_reply": "2023-06-01T11:11:38.557596Z",
     "shell.execute_reply.started": "2023-06-01T11:11:36.774172Z"
    }
   },
   "outputs": [],
   "source": [
    "import numpy as np\n",
    "np.random.seed(2023 - 6 - 1)\n",
    "import pandas as pd\n",
    "import matplotlib.pyplot as plt"
   ]
  },
  {
   "cell_type": "markdown",
   "id": "03cc2b17-79d0-43a8-9da2-672ac18ec2b3",
   "metadata": {},
   "source": [
    "# ___Estimating Population Proportions with Confidence___\n",
    "-----------------"
   ]
  },
  {
   "cell_type": "code",
   "execution_count": 2,
   "id": "00df9161-e9b9-4ae1-be3d-24ad31325b2f",
   "metadata": {
    "execution": {
     "iopub.execute_input": "2023-05-31T23:56:03.372306Z",
     "iopub.status.busy": "2023-05-31T23:56:03.372306Z",
     "iopub.status.idle": "2023-05-31T23:56:03.376020Z",
     "shell.execute_reply": "2023-05-31T23:56:03.376020Z",
     "shell.execute_reply.started": "2023-05-31T23:56:03.372306Z"
    }
   },
   "outputs": [],
   "source": [
    "# Confidence interval = best estimate +- margin of error.\n",
    "# Best estimate is an unbiased point estimate. (x_bar)"
   ]
  },
  {
   "cell_type": "code",
   "execution_count": 3,
   "id": "29ac8a5f-41aa-45d4-a9cb-89bab3f58d8a",
   "metadata": {
    "execution": {
     "iopub.execute_input": "2023-05-31T23:58:16.350219Z",
     "iopub.status.busy": "2023-05-31T23:58:16.350219Z",
     "iopub.status.idle": "2023-05-31T23:58:16.362190Z",
     "shell.execute_reply": "2023-05-31T23:58:16.362190Z",
     "shell.execute_reply.started": "2023-05-31T23:58:16.350219Z"
    }
   },
   "outputs": [],
   "source": [
    "# margin of error -> composed of two parts\n",
    "# 1) a multiplier representing the needed leve of confidence.\n",
    "# 2) measure of sampling variability in our statistic"
   ]
  },
  {
   "cell_type": "code",
   "execution_count": 4,
   "id": "c2a1ded5-b160-4690-8aea-bbe7849fa152",
   "metadata": {
    "execution": {
     "iopub.execute_input": "2023-05-31T23:59:38.624070Z",
     "iopub.status.busy": "2023-05-31T23:59:38.624070Z",
     "iopub.status.idle": "2023-05-31T23:59:38.632342Z",
     "shell.execute_reply": "2023-05-31T23:59:38.632342Z",
     "shell.execute_reply.started": "2023-05-31T23:59:38.624070Z"
    }
   },
   "outputs": [],
   "source": [
    "# e.g. for 95% confidence interval -> the multiplier is 1.96\n",
    "# 95% confidence level corresponds to 0.05 (5%) significance."
   ]
  },
  {
   "cell_type": "code",
   "execution_count": null,
   "id": "83db7ec1-dfbc-4977-be42-e22e3832d3e3",
   "metadata": {},
   "outputs": [],
   "source": []
  },
  {
   "cell_type": "code",
   "execution_count": 5,
   "id": "f6bd5ca4-0e4e-4ac2-87fb-a51c2c8cbbe5",
   "metadata": {
    "execution": {
     "iopub.execute_input": "2023-06-01T00:02:02.403661Z",
     "iopub.status.busy": "2023-06-01T00:02:02.403661Z",
     "iopub.status.idle": "2023-06-01T00:02:02.409243Z",
     "shell.execute_reply": "2023-06-01T00:02:02.409243Z",
     "shell.execute_reply.started": "2023-06-01T00:02:02.403661Z"
    }
   },
   "outputs": [],
   "source": [
    "# We'll use a dataset from C.S Mott Children's Hospital in Ann Arbor, Michigan.\n",
    "# This data is collected to record parents taking necessary measures to ensure their children's safety when travelling."
   ]
  },
  {
   "cell_type": "markdown",
   "id": "cd1e8b2e-0043-4957-890e-27b96d640c91",
   "metadata": {},
   "source": [
    "## ___The main question we are interested in is that what proportion of parents use a special seat for their toddlers in their cars?___\n",
    "![Toddler's car seat](./toddler.webp)"
   ]
  },
  {
   "cell_type": "code",
   "execution_count": 6,
   "id": "c40f5a6d-f42e-4067-b984-df7a07e70e4f",
   "metadata": {
    "execution": {
     "iopub.execute_input": "2023-06-01T00:06:45.816123Z",
     "iopub.status.busy": "2023-06-01T00:06:45.816123Z",
     "iopub.status.idle": "2023-06-01T00:06:45.827452Z",
     "shell.execute_reply": "2023-06-01T00:06:45.826921Z",
     "shell.execute_reply.started": "2023-06-01T00:06:45.816123Z"
    }
   },
   "outputs": [],
   "source": [
    "# Setting the context for the analyses.\n",
    "\n",
    "# Population -> All parents with a toddler.\n",
    "# Statistic of interest -> a proportion"
   ]
  },
  {
   "cell_type": "code",
   "execution_count": 2,
   "id": "cad19e32-1f21-42ff-a961-61f1ac96254c",
   "metadata": {
    "execution": {
     "iopub.execute_input": "2023-06-01T11:11:51.808490Z",
     "iopub.status.busy": "2023-06-01T11:11:51.808490Z",
     "iopub.status.idle": "2023-06-01T11:11:51.899018Z",
     "shell.execute_reply": "2023-06-01T11:11:51.899018Z",
     "shell.execute_reply.started": "2023-06-01T11:11:51.808490Z"
    }
   },
   "outputs": [],
   "source": [
    "# Unfortunately the Ann Arbor data is not available for download. So, let's use this dataset for analysis.\n",
    "# Let's estimate the proportion of a brand of ev among all the EVs. -> \n",
    "\n",
    "evdata = pd.read_csv(\"../data/EV_Population_Data.csv\")"
   ]
  },
  {
   "cell_type": "code",
   "execution_count": 3,
   "id": "64829b0b-2457-498d-a806-b331df671569",
   "metadata": {
    "execution": {
     "iopub.execute_input": "2023-06-01T11:11:52.560631Z",
     "iopub.status.busy": "2023-06-01T11:11:52.560631Z",
     "iopub.status.idle": "2023-06-01T11:11:52.575126Z",
     "shell.execute_reply": "2023-06-01T11:11:52.575126Z",
     "shell.execute_reply.started": "2023-06-01T11:11:52.560631Z"
    }
   },
   "outputs": [],
   "source": [
    "# evdata.to_csv(\"./EV_Population_Data.csv\", index = False)"
   ]
  },
  {
   "cell_type": "code",
   "execution_count": 4,
   "id": "928a0dee-fdb7-49e6-82ab-4cf010a6fea2",
   "metadata": {
    "execution": {
     "iopub.execute_input": "2023-06-01T11:11:52.797354Z",
     "iopub.status.busy": "2023-06-01T11:11:52.797354Z",
     "iopub.status.idle": "2023-06-01T11:11:52.818129Z",
     "shell.execute_reply": "2023-06-01T11:11:52.818129Z",
     "shell.execute_reply.started": "2023-06-01T11:11:52.797354Z"
    }
   },
   "outputs": [
    {
     "data": {
      "text/plain": [
       "(130443, 3)"
      ]
     },
     "execution_count": 4,
     "metadata": {},
     "output_type": "execute_result"
    }
   ],
   "source": [
    "evdata.shape"
   ]
  },
  {
   "cell_type": "code",
   "execution_count": 5,
   "id": "986eb340-ea1b-498f-baca-a9eed70e1c59",
   "metadata": {
    "execution": {
     "iopub.execute_input": "2023-06-01T11:11:53.159244Z",
     "iopub.status.busy": "2023-06-01T11:11:53.159244Z",
     "iopub.status.idle": "2023-06-01T11:11:53.211355Z",
     "shell.execute_reply": "2023-06-01T11:11:53.211355Z",
     "shell.execute_reply.started": "2023-06-01T11:11:53.159244Z"
    }
   },
   "outputs": [
    {
     "data": {
      "text/plain": [
       "array(['TESLA', 'HONDA', 'NISSAN', 'FORD', 'AUDI', 'KIA', 'CHEVROLET',\n",
       "       'SMART', 'BMW', 'TOYOTA', 'JEEP', 'FIAT', 'VOLVO', 'CHRYSLER',\n",
       "       'LEXUS', 'PORSCHE', 'CADILLAC', 'HYUNDAI', 'MERCEDES-BENZ',\n",
       "       'RIVIAN', 'VOLKSWAGEN', 'JAGUAR', 'LINCOLN', 'MITSUBISHI', 'MINI',\n",
       "       'POLESTAR', 'GENESIS', 'SUBARU', 'LUCID', 'TH!NK', 'LAND ROVER',\n",
       "       'FISKER', 'AZURE DYNAMICS', 'WHEEGO ELECTRIC CARS', 'BENTLEY'],\n",
       "      dtype=object)"
      ]
     },
     "execution_count": 5,
     "metadata": {},
     "output_type": "execute_result"
    }
   ],
   "source": [
    "evdata.Make.unique()"
   ]
  },
  {
   "cell_type": "code",
   "execution_count": 6,
   "id": "01f0cc92-9cf5-49a0-b50d-d947514f6deb",
   "metadata": {
    "execution": {
     "iopub.execute_input": "2023-06-01T11:11:53.536439Z",
     "iopub.status.busy": "2023-06-01T11:11:53.536439Z",
     "iopub.status.idle": "2023-06-01T11:11:53.551005Z",
     "shell.execute_reply": "2023-06-01T11:11:53.551005Z",
     "shell.execute_reply.started": "2023-06-01T11:11:53.536439Z"
    }
   },
   "outputs": [],
   "source": [
    "# Let's focus of Nissan EVs.\n",
    "\n",
    "# Our population -> all the EVs available in our dataset.\n",
    "# Metric of interest -> the proportion of Nissan EVs."
   ]
  },
  {
   "cell_type": "code",
   "execution_count": 7,
   "id": "908cf101-229b-4ec9-b439-1867d318782a",
   "metadata": {
    "execution": {
     "iopub.execute_input": "2023-06-01T11:11:53.898380Z",
     "iopub.status.busy": "2023-06-01T11:11:53.898380Z",
     "iopub.status.idle": "2023-06-01T11:11:53.935948Z",
     "shell.execute_reply": "2023-06-01T11:11:53.935948Z",
     "shell.execute_reply.started": "2023-06-01T11:11:53.898380Z"
    }
   },
   "outputs": [],
   "source": [
    "evdata[\"is_Nissan\"] = evdata.Make.apply(lambda name: True if name == \"NISSAN\" else False)"
   ]
  },
  {
   "cell_type": "code",
   "execution_count": 8,
   "id": "990350af-b213-47f8-8bbe-4ef1f1d3beb4",
   "metadata": {
    "execution": {
     "iopub.execute_input": "2023-06-01T11:11:54.291788Z",
     "iopub.status.busy": "2023-06-01T11:11:54.291788Z",
     "iopub.status.idle": "2023-06-01T11:11:54.341786Z",
     "shell.execute_reply": "2023-06-01T11:11:54.341786Z",
     "shell.execute_reply.started": "2023-06-01T11:11:54.291788Z"
    }
   },
   "outputs": [
    {
     "name": "stdout",
     "output_type": "stream",
     "text": [
      "130,443\n"
     ]
    }
   ],
   "source": [
    "# Population size is\n",
    "\n",
    "print(f\"{evdata.shape[0]:,}\")"
   ]
  },
  {
   "cell_type": "code",
   "execution_count": 9,
   "id": "1925111e-3abc-485f-9700-1bf91e1962e8",
   "metadata": {
    "execution": {
     "iopub.execute_input": "2023-06-01T11:12:00.799625Z",
     "iopub.status.busy": "2023-06-01T11:12:00.799625Z",
     "iopub.status.idle": "2023-06-01T11:12:01.193707Z",
     "shell.execute_reply": "2023-06-01T11:12:01.193707Z",
     "shell.execute_reply.started": "2023-06-01T11:12:00.799625Z"
    }
   },
   "outputs": [],
   "source": [
    "# We can sample 1000 cars 1000 times. :)\n",
    "\n",
    "NISSANs_in_sample = []\n",
    "LIMIT = evdata.shape[0]\n",
    "\n",
    "for i in range(1000):\n",
    "    NISSANs_in_sample.append(evdata.is_Nissan[np.random.randint(low = 0, high = LIMIT, size = 1000)].mean())"
   ]
  },
  {
   "cell_type": "code",
   "execution_count": 10,
   "id": "3e011636-b1eb-472e-80ef-f0df343020a6",
   "metadata": {
    "execution": {
     "iopub.execute_input": "2023-06-01T11:12:02.274956Z",
     "iopub.status.busy": "2023-06-01T11:12:02.274956Z",
     "iopub.status.idle": "2023-06-01T11:12:02.282569Z",
     "shell.execute_reply": "2023-06-01T11:12:02.282569Z",
     "shell.execute_reply.started": "2023-06-01T11:12:02.274956Z"
    }
   },
   "outputs": [
    {
     "data": {
      "text/plain": [
       "0.09976100000000002"
      ]
     },
     "execution_count": 10,
     "metadata": {},
     "output_type": "execute_result"
    }
   ],
   "source": [
    "# Now, that we have sampled the data 1000 times with 1000 records in each sample.\n",
    "\n",
    "np.mean(NISSANs_in_sample)"
   ]
  },
  {
   "cell_type": "code",
   "execution_count": 11,
   "id": "138a14d6-dc84-45fd-b775-9431cb322c5d",
   "metadata": {
    "execution": {
     "iopub.execute_input": "2023-06-01T11:12:02.919374Z",
     "iopub.status.busy": "2023-06-01T11:12:02.919374Z",
     "iopub.status.idle": "2023-06-01T11:12:02.931429Z",
     "shell.execute_reply": "2023-06-01T11:12:02.930737Z",
     "shell.execute_reply.started": "2023-06-01T11:12:02.919374Z"
    }
   },
   "outputs": [
    {
     "data": {
      "text/plain": [
       "0.0998367102872519"
      ]
     },
     "execution_count": 11,
     "metadata": {},
     "output_type": "execute_result"
    }
   ],
   "source": [
    "evdata.is_Nissan.mean()"
   ]
  },
  {
   "cell_type": "code",
   "execution_count": 12,
   "id": "7d739596-f9ad-4c6b-bfea-c3c98a048e4a",
   "metadata": {
    "execution": {
     "iopub.execute_input": "2023-06-01T11:12:04.329150Z",
     "iopub.status.busy": "2023-06-01T11:12:04.329150Z",
     "iopub.status.idle": "2023-06-01T11:12:04.334843Z",
     "shell.execute_reply": "2023-06-01T11:12:04.334843Z",
     "shell.execute_reply.started": "2023-06-01T11:12:04.329150Z"
    }
   },
   "outputs": [],
   "source": [
    "# The results are pretty close.\n",
    "# Since we cannot do 1000 repeated samplings in real life, we'd next use a single sample of 20,000 records."
   ]
  },
  {
   "cell_type": "code",
   "execution_count": null,
   "id": "d7ce5fbc-56dc-42ff-909d-21adc2beab49",
   "metadata": {},
   "outputs": [],
   "source": []
  },
  {
   "cell_type": "code",
   "execution_count": 13,
   "id": "d5a2a03f-c8e3-46ba-9b7c-e56eee599bc8",
   "metadata": {
    "execution": {
     "iopub.execute_input": "2023-06-01T11:12:06.084668Z",
     "iopub.status.busy": "2023-06-01T11:12:06.084668Z",
     "iopub.status.idle": "2023-06-01T11:12:06.096179Z",
     "shell.execute_reply": "2023-06-01T11:12:06.096179Z",
     "shell.execute_reply.started": "2023-06-01T11:12:06.084668Z"
    }
   },
   "outputs": [],
   "source": [
    "sample = evdata.copy().loc[np.random.randint(low = 0, high = LIMIT, size = 20000), :]"
   ]
  },
  {
   "cell_type": "code",
   "execution_count": 14,
   "id": "88b696c9-a9d9-4c1f-b730-e79ed268a6a6",
   "metadata": {
    "execution": {
     "iopub.execute_input": "2023-06-01T11:12:06.963488Z",
     "iopub.status.busy": "2023-06-01T11:12:06.963488Z",
     "iopub.status.idle": "2023-06-01T11:12:07.022949Z",
     "shell.execute_reply": "2023-06-01T11:12:07.022949Z",
     "shell.execute_reply.started": "2023-06-01T11:12:06.963488Z"
    }
   },
   "outputs": [
    {
     "data": {
      "text/html": [
       "<div>\n",
       "<style scoped>\n",
       "    .dataframe tbody tr th:only-of-type {\n",
       "        vertical-align: middle;\n",
       "    }\n",
       "\n",
       "    .dataframe tbody tr th {\n",
       "        vertical-align: top;\n",
       "    }\n",
       "\n",
       "    .dataframe thead th {\n",
       "        text-align: right;\n",
       "    }\n",
       "</style>\n",
       "<table border=\"1\" class=\"dataframe\">\n",
       "  <thead>\n",
       "    <tr style=\"text-align: right;\">\n",
       "      <th></th>\n",
       "      <th>City</th>\n",
       "      <th>State</th>\n",
       "      <th>Make</th>\n",
       "      <th>is_Nissan</th>\n",
       "    </tr>\n",
       "  </thead>\n",
       "  <tbody>\n",
       "    <tr>\n",
       "      <th>94928</th>\n",
       "      <td>Redmond</td>\n",
       "      <td>WA</td>\n",
       "      <td>TESLA</td>\n",
       "      <td>False</td>\n",
       "    </tr>\n",
       "    <tr>\n",
       "      <th>27995</th>\n",
       "      <td>Sammamish</td>\n",
       "      <td>WA</td>\n",
       "      <td>FIAT</td>\n",
       "      <td>False</td>\n",
       "    </tr>\n",
       "    <tr>\n",
       "      <th>43418</th>\n",
       "      <td>Seattle</td>\n",
       "      <td>WA</td>\n",
       "      <td>NISSAN</td>\n",
       "      <td>True</td>\n",
       "    </tr>\n",
       "    <tr>\n",
       "      <th>40937</th>\n",
       "      <td>Sammamish</td>\n",
       "      <td>WA</td>\n",
       "      <td>TESLA</td>\n",
       "      <td>False</td>\n",
       "    </tr>\n",
       "    <tr>\n",
       "      <th>109475</th>\n",
       "      <td>Spokane</td>\n",
       "      <td>WA</td>\n",
       "      <td>TESLA</td>\n",
       "      <td>False</td>\n",
       "    </tr>\n",
       "    <tr>\n",
       "      <th>...</th>\n",
       "      <td>...</td>\n",
       "      <td>...</td>\n",
       "      <td>...</td>\n",
       "      <td>...</td>\n",
       "    </tr>\n",
       "    <tr>\n",
       "      <th>120087</th>\n",
       "      <td>Langley</td>\n",
       "      <td>WA</td>\n",
       "      <td>BMW</td>\n",
       "      <td>False</td>\n",
       "    </tr>\n",
       "    <tr>\n",
       "      <th>54238</th>\n",
       "      <td>Mercer Island</td>\n",
       "      <td>WA</td>\n",
       "      <td>PORSCHE</td>\n",
       "      <td>False</td>\n",
       "    </tr>\n",
       "    <tr>\n",
       "      <th>45303</th>\n",
       "      <td>Federal Way</td>\n",
       "      <td>WA</td>\n",
       "      <td>NISSAN</td>\n",
       "      <td>True</td>\n",
       "    </tr>\n",
       "    <tr>\n",
       "      <th>58883</th>\n",
       "      <td>Kirkland</td>\n",
       "      <td>WA</td>\n",
       "      <td>TESLA</td>\n",
       "      <td>False</td>\n",
       "    </tr>\n",
       "    <tr>\n",
       "      <th>91788</th>\n",
       "      <td>Wenatchee</td>\n",
       "      <td>WA</td>\n",
       "      <td>TESLA</td>\n",
       "      <td>False</td>\n",
       "    </tr>\n",
       "  </tbody>\n",
       "</table>\n",
       "<p>20000 rows × 4 columns</p>\n",
       "</div>"
      ],
      "text/plain": [
       "                 City State     Make  is_Nissan\n",
       "94928         Redmond    WA    TESLA      False\n",
       "27995       Sammamish    WA     FIAT      False\n",
       "43418         Seattle    WA   NISSAN       True\n",
       "40937       Sammamish    WA    TESLA      False\n",
       "109475        Spokane    WA    TESLA      False\n",
       "...               ...   ...      ...        ...\n",
       "120087        Langley    WA      BMW      False\n",
       "54238   Mercer Island    WA  PORSCHE      False\n",
       "45303     Federal Way    WA   NISSAN       True\n",
       "58883        Kirkland    WA    TESLA      False\n",
       "91788       Wenatchee    WA    TESLA      False\n",
       "\n",
       "[20000 rows x 4 columns]"
      ]
     },
     "execution_count": 14,
     "metadata": {},
     "output_type": "execute_result"
    }
   ],
   "source": [
    "sample"
   ]
  },
  {
   "cell_type": "code",
   "execution_count": 15,
   "id": "45aa8af2-391e-4c87-be7a-fb5e58f153a5",
   "metadata": {
    "execution": {
     "iopub.execute_input": "2023-06-01T11:12:09.739940Z",
     "iopub.status.busy": "2023-06-01T11:12:09.739940Z",
     "iopub.status.idle": "2023-06-01T11:12:09.757559Z",
     "shell.execute_reply": "2023-06-01T11:12:09.756983Z",
     "shell.execute_reply.started": "2023-06-01T11:12:09.739940Z"
    }
   },
   "outputs": [
    {
     "data": {
      "text/plain": [
       "20000"
      ]
     },
     "execution_count": 15,
     "metadata": {},
     "output_type": "execute_result"
    }
   ],
   "source": [
    "# Size of the sample \n",
    "\n",
    "sample.shape[0]"
   ]
  },
  {
   "cell_type": "code",
   "execution_count": 21,
   "id": "303be067-feed-4ec1-aa78-3a64eba0801a",
   "metadata": {
    "execution": {
     "iopub.execute_input": "2023-06-01T11:13:34.377015Z",
     "iopub.status.busy": "2023-06-01T11:13:34.377015Z",
     "iopub.status.idle": "2023-06-01T11:13:34.395290Z",
     "shell.execute_reply": "2023-06-01T11:13:34.395290Z",
     "shell.execute_reply.started": "2023-06-01T11:13:34.377015Z"
    }
   },
   "outputs": [
    {
     "data": {
      "text/plain": [
       "0.099"
      ]
     },
     "execution_count": 21,
     "metadata": {},
     "output_type": "execute_result"
    }
   ],
   "source": [
    "# Proportion of Nissan Evs\n",
    "\n",
    "x_bar = sample.is_Nissan.mean()\n",
    "x_bar"
   ]
  },
  {
   "cell_type": "code",
   "execution_count": 17,
   "id": "4d02ede1-4439-4fff-bf67-8c2e645d1ad2",
   "metadata": {
    "execution": {
     "iopub.execute_input": "2023-06-01T11:12:11.861085Z",
     "iopub.status.busy": "2023-06-01T11:12:11.861085Z",
     "iopub.status.idle": "2023-06-01T11:12:11.878933Z",
     "shell.execute_reply": "2023-06-01T11:12:11.878933Z",
     "shell.execute_reply.started": "2023-06-01T11:12:11.861085Z"
    }
   },
   "outputs": [],
   "source": [
    "# Still quite representative!"
   ]
  },
  {
   "cell_type": "code",
   "execution_count": 18,
   "id": "d42db9c2-4359-4dbc-aabf-d3dc4e2703f4",
   "metadata": {
    "execution": {
     "iopub.execute_input": "2023-06-01T11:12:12.410318Z",
     "iopub.status.busy": "2023-06-01T11:12:12.410318Z",
     "iopub.status.idle": "2023-06-01T11:12:12.417722Z",
     "shell.execute_reply": "2023-06-01T11:12:12.416708Z",
     "shell.execute_reply.started": "2023-06-01T11:12:12.410318Z"
    }
   },
   "outputs": [],
   "source": [
    "# Our best estimate statistic is 0.099\n",
    "# From our sample we propose that of all EVs, 9.9% are Nissans."
   ]
  },
  {
   "cell_type": "code",
   "execution_count": 19,
   "id": "0c42311f-9d20-4e68-85be-f1d83d9f5a3f",
   "metadata": {
    "execution": {
     "iopub.execute_input": "2023-06-01T11:12:13.023289Z",
     "iopub.status.busy": "2023-06-01T11:12:13.023289Z",
     "iopub.status.idle": "2023-06-01T11:12:13.038841Z",
     "shell.execute_reply": "2023-06-01T11:12:13.038841Z",
     "shell.execute_reply.started": "2023-06-01T11:12:13.023289Z"
    }
   },
   "outputs": [],
   "source": [
    "# Now we have the best estimate statistic, how do we compute the margin of error"
   ]
  },
  {
   "cell_type": "markdown",
   "id": "17a5d9b9-3234-499e-a2eb-3af8161e774b",
   "metadata": {},
   "source": [
    "# ___$\\bar{x}~\\pm~multiplier \\cdot standard~err$___"
   ]
  },
  {
   "cell_type": "code",
   "execution_count": 20,
   "id": "bf72fbb1-27e7-42dd-97d4-9530e1d8cfa6",
   "metadata": {
    "execution": {
     "iopub.execute_input": "2023-06-01T11:12:14.151537Z",
     "iopub.status.busy": "2023-06-01T11:12:14.151537Z",
     "iopub.status.idle": "2023-06-01T11:12:14.161042Z",
     "shell.execute_reply": "2023-06-01T11:12:14.160029Z",
     "shell.execute_reply.started": "2023-06-01T11:12:14.151537Z"
    }
   },
   "outputs": [],
   "source": [
    "# At 95% confidence interval, multiplier = 1.96"
   ]
  },
  {
   "cell_type": "markdown",
   "id": "658e8877-5117-49a5-bfce-6a6cb27e7371",
   "metadata": {},
   "source": [
    "# ___$stderr~=~\\sqrt{\\frac{\\bar{x}(1 - \\bar{x})}{n}}$___\n",
    "# ___$\\bar{x} - sample~statistic$___\n",
    "# ___$n - sample~size$___"
   ]
  },
  {
   "cell_type": "code",
   "execution_count": null,
   "id": "b5158351-9181-4b88-ac1a-1140566a51a6",
   "metadata": {},
   "outputs": [],
   "source": []
  },
  {
   "cell_type": "code",
   "execution_count": 23,
   "id": "63b90dda-7008-48a1-b86c-5d80de3c3b20",
   "metadata": {
    "execution": {
     "iopub.execute_input": "2023-06-01T11:16:52.920357Z",
     "iopub.status.busy": "2023-06-01T11:16:52.920357Z",
     "iopub.status.idle": "2023-06-01T11:16:52.929733Z",
     "shell.execute_reply": "2023-06-01T11:16:52.929733Z",
     "shell.execute_reply.started": "2023-06-01T11:16:52.920357Z"
    }
   },
   "outputs": [],
   "source": [
    "multiplier = 1.96\n",
    "stderr = np.sqrt(x_bar * (1 - x_bar) / sample.shape[0])"
   ]
  },
  {
   "cell_type": "code",
   "execution_count": 25,
   "id": "427ecb96-1a17-4fc3-a5f8-b4e0f30a831c",
   "metadata": {
    "execution": {
     "iopub.execute_input": "2023-06-01T11:18:00.123548Z",
     "iopub.status.busy": "2023-06-01T11:18:00.123548Z",
     "iopub.status.idle": "2023-06-01T11:18:00.139289Z",
     "shell.execute_reply": "2023-06-01T11:18:00.138755Z",
     "shell.execute_reply.started": "2023-06-01T11:18:00.123548Z"
    }
   },
   "outputs": [
    {
     "name": "stdout",
     "output_type": "stream",
     "text": [
      "Confidence interval: 0.0948607556341767 - 0.10313924436582331\n"
     ]
    }
   ],
   "source": [
    "print(f\"Confidence interval: {x_bar - (multiplier * stderr)} - {x_bar + (multiplier * stderr)}\")"
   ]
  },
  {
   "cell_type": "code",
   "execution_count": 26,
   "id": "2b7ec8a8-797f-4fdd-9745-8ab4a6e993b2",
   "metadata": {
    "execution": {
     "iopub.execute_input": "2023-06-01T11:19:10.223423Z",
     "iopub.status.busy": "2023-06-01T11:19:10.223423Z",
     "iopub.status.idle": "2023-06-01T11:19:10.232880Z",
     "shell.execute_reply": "2023-06-01T11:19:10.232880Z",
     "shell.execute_reply.started": "2023-06-01T11:19:10.223423Z"
    }
   },
   "outputs": [],
   "source": [
    "# A confidence interval will always define a lower bound and an upper bound.\n",
    "# And the center of this interval will be our best estimate!"
   ]
  },
  {
   "cell_type": "code",
   "execution_count": null,
   "id": "0307c93f-4d87-4f6a-a9b0-4a30313321c2",
   "metadata": {},
   "outputs": [],
   "source": []
  },
  {
   "cell_type": "markdown",
   "id": "a7e37fc5-3514-4c7c-8697-ac883f5e4cf2",
   "metadata": {},
   "source": [
    "## ___What does a confidence interval mean?___\n",
    "---------------------"
   ]
  },
  {
   "cell_type": "code",
   "execution_count": 33,
   "id": "a1e41573-68c3-41a1-8ff6-f475e242c5e9",
   "metadata": {
    "execution": {
     "iopub.execute_input": "2023-06-01T11:28:43.308847Z",
     "iopub.status.busy": "2023-06-01T11:28:43.308847Z",
     "iopub.status.idle": "2023-06-01T11:28:43.314571Z",
     "shell.execute_reply": "2023-06-01T11:28:43.314043Z",
     "shell.execute_reply.started": "2023-06-01T11:28:43.308847Z"
    }
   },
   "outputs": [
    {
     "name": "stdout",
     "output_type": "stream",
     "text": [
      "That is to say, with 95% confidence, the proportion of Nissans among EVs is between 9.4861% & 10.3139%\n"
     ]
    }
   ],
   "source": [
    "# Note: Here we assume the whole population to be our dataset.\n",
    "# Even though, in reality, our dataset itself is a sample.\n",
    "\n",
    "# Means a range of reasonable values for our parameter.\n",
    "# That is to say, with 95% confidence, the proportion of Nissans among EVs is between \n",
    "\n",
    "print(f\"That is to say, with 95% confidence, the proportion of Nissans among EVs is between {(x_bar - (multiplier * stderr)) * 100:.4f}% & \\\n",
    "{(x_bar + (multiplier * stderr)) * 100:.4f}%\")"
   ]
  },
  {
   "cell_type": "code",
   "execution_count": 34,
   "id": "417765a5-9e10-4f4f-9062-0fb8ac2b45bc",
   "metadata": {
    "execution": {
     "iopub.execute_input": "2023-06-01T11:31:02.789207Z",
     "iopub.status.busy": "2023-06-01T11:31:02.789207Z",
     "iopub.status.idle": "2023-06-01T11:31:02.793902Z",
     "shell.execute_reply": "2023-06-01T11:31:02.793834Z",
     "shell.execute_reply.started": "2023-06-01T11:31:02.789207Z"
    }
   },
   "outputs": [],
   "source": [
    "# This range is the limits where we believe our statistc to be.\n",
    "# It might be in there, it might not be, we can never be sure. But we are 95% confident that IT IS THERE!"
   ]
  },
  {
   "cell_type": "code",
   "execution_count": null,
   "id": "17b35b4f-d6a5-4bc7-a1b4-03f18546b5ae",
   "metadata": {},
   "outputs": [],
   "source": []
  }
 ],
 "metadata": {
  "kernelspec": {
   "display_name": "Python 3 (ipykernel)",
   "language": "python",
   "name": "python3"
  },
  "language_info": {
   "codemirror_mode": {
    "name": "ipython",
    "version": 3
   },
   "file_extension": ".py",
   "mimetype": "text/x-python",
   "name": "python",
   "nbconvert_exporter": "python",
   "pygments_lexer": "ipython3",
   "version": "3.11.4"
  }
 },
 "nbformat": 4,
 "nbformat_minor": 5
}
