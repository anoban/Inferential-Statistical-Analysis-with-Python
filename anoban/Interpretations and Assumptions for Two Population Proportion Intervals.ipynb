{
 "cells": [
  {
   "cell_type": "code",
   "execution_count": 1,
   "id": "56dea257-56e6-4bea-89ee-e0e093849ef0",
   "metadata": {
    "execution": {
     "iopub.execute_input": "2023-06-10T05:07:00.708979Z",
     "iopub.status.busy": "2023-06-10T05:07:00.708979Z",
     "iopub.status.idle": "2023-06-10T05:07:02.005645Z",
     "shell.execute_reply": "2023-06-10T05:07:02.005645Z",
     "shell.execute_reply.started": "2023-06-10T05:07:00.708979Z"
    }
   },
   "outputs": [],
   "source": [
    "import numpy as np\n",
    "np.random.seed(2023 - 6 - 10)\n",
    "import pandas as pd"
   ]
  },
  {
   "cell_type": "markdown",
   "id": "9157ea7f-3c5e-408b-b3d2-7a4cd22927cf",
   "metadata": {},
   "source": [
    "# ___Interpretations and Assumptions for Two Population Proportion Intervals___\n",
    "----------------------"
   ]
  },
  {
   "cell_type": "markdown",
   "id": "97b209dd-3f20-4145-9532-4f2738b06466",
   "metadata": {},
   "source": [
    "# ___$= (\\bar{x} - \\bar{y}) \\pm 1.96 \\cdot \\sqrt{\\frac{\\bar{x}(1 - \\bar{x})}{n_x} + \\frac{\\bar{y}(1 - \\bar{y})}{n_y}}$___"
   ]
  },
  {
   "cell_type": "code",
   "execution_count": 8,
   "id": "fddb6bee-eb33-4204-8203-b1944cf5cd5f",
   "metadata": {
    "execution": {
     "iopub.execute_input": "2023-06-10T05:17:02.158343Z",
     "iopub.status.busy": "2023-06-10T05:17:02.158343Z",
     "iopub.status.idle": "2023-06-10T05:17:02.191316Z",
     "shell.execute_reply": "2023-06-10T05:17:02.191316Z",
     "shell.execute_reply.started": "2023-06-10T05:17:02.158343Z"
    }
   },
   "outputs": [],
   "source": [
    "population_1 = np.random.randint(low = 0, high = 20, size = 1_000_000)\n",
    "population_2 = np.random.choice(a = [1, 3, 5, 7, 9, 2, 4, 6, 11, 13, 15], size = population_1.size)\n",
    "\n",
    "prop_pop1_est = (population_1[np.random.randint(0, population_1.size, size = 1000)] % 2).mean()\n",
    "moerror_1 = 1.96 * np.sqrt(prop_pop1_est * (1 - prop_pop1_est) / 1000)\n",
    "\n",
    "prop_pop2_est = (population_2[np.random.randint(0, population_2.size, size = 1000)] % 2).mean()\n",
    "moerror_2 = 1.96 * np.sqrt(prop_pop2_est * (1 - prop_pop2_est) / 1000)\n",
    "\n",
    "# Difference in proportions\n",
    "best_estimate = np.absolute(prop_pop1_est - prop_pop2_est)\n",
    "\n",
    "# Confidence interval for difference in population proportions.\n",
    "stderr = np.sqrt((prop_pop1_est * (1 - prop_pop1_est) / 1000) + (prop_pop2_est * (1 - prop_pop2_est) / 1000))\n",
    "moe = 1.96 * stderr\n",
    "confidence_int = (best_estimate - moe, best_estimate + moe)"
   ]
  },
  {
   "cell_type": "code",
   "execution_count": 9,
   "id": "c7ea920b-baf1-49e1-99be-1571e37169a9",
   "metadata": {
    "execution": {
     "iopub.execute_input": "2023-06-10T05:17:02.534591Z",
     "iopub.status.busy": "2023-06-10T05:17:02.534591Z",
     "iopub.status.idle": "2023-06-10T05:17:02.554001Z",
     "shell.execute_reply": "2023-06-10T05:17:02.553483Z",
     "shell.execute_reply.started": "2023-06-10T05:17:02.534591Z"
    }
   },
   "outputs": [
    {
     "data": {
      "text/plain": [
       "(0.1898490076523056, 0.27215099234769435)"
      ]
     },
     "execution_count": 9,
     "metadata": {},
     "output_type": "execute_result"
    }
   ],
   "source": [
    "confidence_int"
   ]
  },
  {
   "cell_type": "code",
   "execution_count": null,
   "id": "4f7d6804-5a14-469e-a387-945165fd493b",
   "metadata": {},
   "outputs": [],
   "source": []
  },
  {
   "cell_type": "code",
   "execution_count": 10,
   "id": "5e2207a6-3700-43c0-b3b2-3e43e12e3ca1",
   "metadata": {
    "execution": {
     "iopub.execute_input": "2023-06-10T05:19:17.731813Z",
     "iopub.status.busy": "2023-06-10T05:19:17.731813Z",
     "iopub.status.idle": "2023-06-10T05:19:17.746056Z",
     "shell.execute_reply": "2023-06-10T05:19:17.746056Z",
     "shell.execute_reply.started": "2023-06-10T05:19:17.731813Z"
    }
   },
   "outputs": [],
   "source": [
    "# Is there a difference between the two population metrics?\n",
    "# If the metrics are equal, then the difference is 0.\n",
    "# If not, the difference is != 0"
   ]
  },
  {
   "cell_type": "code",
   "execution_count": 11,
   "id": "b7783f83-7fc7-4c58-8381-f8f59e1a6692",
   "metadata": {
    "execution": {
     "iopub.execute_input": "2023-06-10T05:20:36.494302Z",
     "iopub.status.busy": "2023-06-10T05:20:36.494302Z",
     "iopub.status.idle": "2023-06-10T05:20:36.505975Z",
     "shell.execute_reply": "2023-06-10T05:20:36.505975Z",
     "shell.execute_reply.started": "2023-06-10T05:20:36.494302Z"
    }
   },
   "outputs": [],
   "source": [
    "# If our confidence interval contains 0, then the metrics of the two populations may be equal\n",
    "# If the confidence interval does not contain 0, then our two metrics are highly unlikely to be equal."
   ]
  },
  {
   "cell_type": "code",
   "execution_count": 14,
   "id": "393200bb-d4d8-4ad9-8027-ebb16eb77071",
   "metadata": {
    "execution": {
     "iopub.execute_input": "2023-06-10T05:23:20.059820Z",
     "iopub.status.busy": "2023-06-10T05:23:20.059820Z",
     "iopub.status.idle": "2023-06-10T05:23:20.077002Z",
     "shell.execute_reply": "2023-06-10T05:23:20.077002Z",
     "shell.execute_reply.started": "2023-06-10T05:23:20.059820Z"
    }
   },
   "outputs": [
    {
     "data": {
      "text/plain": [
       "array([ True,  True])"
      ]
     },
     "execution_count": 14,
     "metadata": {},
     "output_type": "execute_result"
    }
   ],
   "source": [
    "# Our confidence interval does not cover 0.\n",
    "# Both limits are greater than 0 :(\n",
    "\n",
    "np.array(confidence_int) > 0"
   ]
  },
  {
   "cell_type": "code",
   "execution_count": null,
   "id": "5da478b5-cf78-413b-a6eb-97396fe5e200",
   "metadata": {},
   "outputs": [],
   "source": []
  },
  {
   "cell_type": "markdown",
   "id": "3c52ae2d-3273-4cc6-99e1-e1b8a0b2860c",
   "metadata": {},
   "source": [
    "## ___Prerequisites for Confidence Interval Computations for Two Different Population Parameters___\n",
    "------------------"
   ]
  },
  {
   "cell_type": "code",
   "execution_count": 15,
   "id": "0a2a4339-0d20-4416-bc01-7d635ce2e6a4",
   "metadata": {
    "execution": {
     "iopub.execute_input": "2023-06-10T05:26:47.179537Z",
     "iopub.status.busy": "2023-06-10T05:26:47.179537Z",
     "iopub.status.idle": "2023-06-10T05:26:47.187006Z",
     "shell.execute_reply": "2023-06-10T05:26:47.187006Z",
     "shell.execute_reply.started": "2023-06-10T05:26:47.179537Z"
    }
   },
   "outputs": [],
   "source": [
    "# 1) Two samples are independent random samples.\n",
    "# 2) Sample size must be large enough, so that the distribution of our estimate is normal. (at least 10 odd numbers and even numbers in samples)"
   ]
  },
  {
   "cell_type": "code",
   "execution_count": null,
   "id": "f69fc923-a3ba-4c9c-872a-749624f3ce07",
   "metadata": {},
   "outputs": [],
   "source": []
  }
 ],
 "metadata": {
  "kernelspec": {
   "display_name": "Python 3 (ipykernel)",
   "language": "python",
   "name": "python3"
  },
  "language_info": {
   "codemirror_mode": {
    "name": "ipython",
    "version": 3
   },
   "file_extension": ".py",
   "mimetype": "text/x-python",
   "name": "python",
   "nbconvert_exporter": "python",
   "pygments_lexer": "ipython3",
   "version": "3.11.3"
  }
 },
 "nbformat": 4,
 "nbformat_minor": 5
}
