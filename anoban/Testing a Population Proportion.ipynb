{
 "cells": [
  {
   "cell_type": "code",
   "execution_count": 1,
   "id": "cfc14e49-8af7-4b9f-a8e0-d4859c14939e",
   "metadata": {
    "execution": {
     "iopub.execute_input": "2023-06-28T23:22:47.424412Z",
     "iopub.status.busy": "2023-06-28T23:22:47.424412Z",
     "iopub.status.idle": "2023-06-28T23:22:51.424219Z",
     "shell.execute_reply": "2023-06-28T23:22:51.424219Z",
     "shell.execute_reply.started": "2023-06-28T23:22:47.424412Z"
    }
   },
   "outputs": [],
   "source": [
    "import numpy as np\n",
    "import pandas as pd\n",
    "import matplotlib.pyplot as plt\n",
    "from scipy.stats import (zscore, norm, ttest_ind)"
   ]
  },
  {
   "cell_type": "markdown",
   "id": "db0f6766-7985-4c1b-a179-4436ead1436c",
   "metadata": {},
   "source": [
    "# ___Testing a Population Proportion___\n",
    "------------"
   ]
  },
  {
   "cell_type": "code",
   "execution_count": 7,
   "id": "74c6abc8-1662-44e8-b03b-0c16ac5fb4b3",
   "metadata": {
    "execution": {
     "iopub.execute_input": "2023-06-28T23:33:20.612575Z",
     "iopub.status.busy": "2023-06-28T23:33:20.612575Z",
     "iopub.status.idle": "2023-06-28T23:33:20.898468Z",
     "shell.execute_reply": "2023-06-28T23:33:20.898468Z",
     "shell.execute_reply.started": "2023-06-28T23:33:20.612575Z"
    }
   },
   "outputs": [],
   "source": [
    "# We'll be treating this as a simple random sample.\n",
    "\n",
    "oil_temps = pd.read_csv(\"./../data/MetroPT3(AirCompressor).csv\", usecols = [\"Oil_temperature\"]).values.ravel()"
   ]
  },
  {
   "cell_type": "code",
   "execution_count": 8,
   "id": "9b9cc6d1-0e7c-463d-a41f-0be80db72e3d",
   "metadata": {
    "execution": {
     "iopub.execute_input": "2023-06-28T23:33:20.974505Z",
     "iopub.status.busy": "2023-06-28T23:33:20.974505Z",
     "iopub.status.idle": "2023-06-28T23:33:20.988335Z",
     "shell.execute_reply": "2023-06-28T23:33:20.987756Z",
     "shell.execute_reply.started": "2023-06-28T23:33:20.974505Z"
    }
   },
   "outputs": [
    {
     "data": {
      "text/plain": [
       "(15.400000000000006, 83.125)"
      ]
     },
     "execution_count": 8,
     "metadata": {},
     "output_type": "execute_result"
    }
   ],
   "source": [
    "oil_temps.min(), oil_temps.max()"
   ]
  },
  {
   "cell_type": "markdown",
   "id": "5d6a9e59-59a2-442f-bb18-c445b2a8e6b5",
   "metadata": {},
   "source": [
    "---------------------\n",
    "### ___Null hypothesis $(H_0)$: The proportion of temperatures above $60 \\degree C$ is 0.5___\n",
    "### ___Alternative hypothesis $(H_1)$: The proportion of temperatures above $60 \\degree C$ is less than 0.5___\n",
    "--------------------"
   ]
  },
  {
   "cell_type": "code",
   "execution_count": 9,
   "id": "df7640fd-beb8-4000-b5bc-b67dac2c0a69",
   "metadata": {
    "execution": {
     "iopub.execute_input": "2023-06-28T23:33:21.665561Z",
     "iopub.status.busy": "2023-06-28T23:33:21.665561Z",
     "iopub.status.idle": "2023-06-28T23:33:21.673956Z",
     "shell.execute_reply": "2023-06-28T23:33:21.673956Z",
     "shell.execute_reply.started": "2023-06-28T23:33:21.665561Z"
    }
   },
   "outputs": [
    {
     "data": {
      "text/plain": [
       "0.49361949361949364"
      ]
     },
     "execution_count": 9,
     "metadata": {},
     "output_type": "execute_result"
    }
   ],
   "source": [
    "# Proportion of temperature values that are above 60 degrees celsius.\n",
    "\n",
    "prop = (oil_temps > 60).mean()\n",
    "prop"
   ]
  },
  {
   "cell_type": "code",
   "execution_count": 10,
   "id": "4e7698fc-590b-40ed-bd83-87b16af84e9f",
   "metadata": {
    "execution": {
     "iopub.execute_input": "2023-06-28T23:33:21.869507Z",
     "iopub.status.busy": "2023-06-28T23:33:21.869507Z",
     "iopub.status.idle": "2023-06-28T23:33:21.877776Z",
     "shell.execute_reply": "2023-06-28T23:33:21.877693Z",
     "shell.execute_reply.started": "2023-06-28T23:33:21.869507Z"
    }
   },
   "outputs": [],
   "source": [
    "# We'll define our significance to be 0.05\n",
    "\n",
    "alpha = 0.05"
   ]
  },
  {
   "cell_type": "code",
   "execution_count": null,
   "id": "6e65c240-6f1e-4040-aef0-f13e038b984a",
   "metadata": {},
   "outputs": [],
   "source": []
  },
  {
   "cell_type": "markdown",
   "id": "a36eff5c-3e23-499e-9058-e7cee9dae2d3",
   "metadata": {},
   "source": [
    "## ___Test Statistic___\n",
    "------------------"
   ]
  },
  {
   "cell_type": "markdown",
   "id": "60698846-9ced-40e2-adb2-3e82f62dcb19",
   "metadata": {},
   "source": [
    "# ___$= \\frac{(best~estimate - hypothesized~estimate)}{stderr~of~estimate}$___"
   ]
  },
  {
   "cell_type": "markdown",
   "id": "e67aa564-9b4b-4912-8a76-7fc146e1fbe1",
   "metadata": {},
   "source": [
    "# ___$stderr_{null} = \\sqrt{\\frac{P_{null}(1 - P_{null})}{n}}$___"
   ]
  },
  {
   "cell_type": "code",
   "execution_count": 11,
   "id": "25c53858-d031-469e-b757-e7ab12047e45",
   "metadata": {
    "execution": {
     "iopub.execute_input": "2023-06-28T23:33:22.733008Z",
     "iopub.status.busy": "2023-06-28T23:33:22.733008Z",
     "iopub.status.idle": "2023-06-28T23:33:22.750515Z",
     "shell.execute_reply": "2023-06-28T23:33:22.750515Z",
     "shell.execute_reply.started": "2023-06-28T23:33:22.733008Z"
    }
   },
   "outputs": [],
   "source": [
    "# We cannot technically calculate the standard error for the alternative hypothesis, because we do not know the \n",
    "# hypothesized estimate for the alternative hypothesis, \n",
    "# H1 claims that the proportion is less than 0.5, but that includes a range of values which we cannot substitute for P in the equation.\n"
   ]
  },
  {
   "cell_type": "code",
   "execution_count": 12,
   "id": "51c061e9-0702-4f31-8ed6-7f2fa6d8ed4c",
   "metadata": {
    "execution": {
     "iopub.execute_input": "2023-06-28T23:33:22.890099Z",
     "iopub.status.busy": "2023-06-28T23:33:22.890099Z",
     "iopub.status.idle": "2023-06-28T23:33:22.896403Z",
     "shell.execute_reply": "2023-06-28T23:33:22.896403Z",
     "shell.execute_reply.started": "2023-06-28T23:33:22.890099Z"
    }
   },
   "outputs": [
    {
     "data": {
      "text/plain": [
       "0.49361949361949364"
      ]
     },
     "execution_count": 12,
     "metadata": {},
     "output_type": "execute_result"
    }
   ],
   "source": [
    "# Best estimate is the proportion of values that are above 60 in the sample.\n",
    "\n",
    "best_est = (oil_temps > 60).mean()\n",
    "best_est"
   ]
  },
  {
   "cell_type": "code",
   "execution_count": 13,
   "id": "d6f7ea02-e015-41a7-9243-a3a089a0ab35",
   "metadata": {
    "execution": {
     "iopub.execute_input": "2023-06-28T23:33:23.188070Z",
     "iopub.status.busy": "2023-06-28T23:33:23.188070Z",
     "iopub.status.idle": "2023-06-28T23:33:23.208202Z",
     "shell.execute_reply": "2023-06-28T23:33:23.208202Z",
     "shell.execute_reply.started": "2023-06-28T23:33:23.188070Z"
    }
   },
   "outputs": [
    {
     "data": {
      "text/plain": [
       "0.0004999595374606503"
      ]
     },
     "execution_count": 13,
     "metadata": {},
     "output_type": "execute_result"
    }
   ],
   "source": [
    "# Since we are dealing with proportions, standard error is defined as the square root of {proportion * (1 - proportion) / sample size}\n",
    "\n",
    "stderr = np.sqrt(best_est * (1 - best_est) / oil_temps.size)\n",
    "stderr"
   ]
  },
  {
   "cell_type": "code",
   "execution_count": 14,
   "id": "e0900114-943f-464f-a7bf-d025df6b23aa",
   "metadata": {
    "execution": {
     "iopub.execute_input": "2023-06-28T23:33:23.559631Z",
     "iopub.status.busy": "2023-06-28T23:33:23.559631Z",
     "iopub.status.idle": "2023-06-28T23:33:23.568728Z",
     "shell.execute_reply": "2023-06-28T23:33:23.567952Z",
     "shell.execute_reply.started": "2023-06-28T23:33:23.559631Z"
    }
   },
   "outputs": [
    {
     "data": {
      "text/plain": [
       "-12.762045530551639"
      ]
     },
     "execution_count": 14,
     "metadata": {},
     "output_type": "execute_result"
    }
   ],
   "source": [
    "# For Null hypothesis, hypothesized estimate is 0.5\n",
    "# The test statistic z will be,\n",
    "\n",
    "z = (best_est - 0.5) / stderr\n",
    "z"
   ]
  },
  {
   "cell_type": "code",
   "execution_count": 15,
   "id": "7171a3d1-b5ee-4987-ad3c-52a88c735bf7",
   "metadata": {
    "execution": {
     "iopub.execute_input": "2023-06-28T23:33:23.960718Z",
     "iopub.status.busy": "2023-06-28T23:33:23.960718Z",
     "iopub.status.idle": "2023-06-28T23:33:23.966442Z",
     "shell.execute_reply": "2023-06-28T23:33:23.966442Z",
     "shell.execute_reply.started": "2023-06-28T23:33:23.960718Z"
    }
   },
   "outputs": [],
   "source": [
    "# We annotate this test statistic as z, because we are dealing with a proportion that follows a normal distribution, \n",
    "# given that our sample is large enough, we can annotate this statistic as z value."
   ]
  },
  {
   "cell_type": "code",
   "execution_count": null,
   "id": "7d5ba2f0-30f9-48a2-905a-4f290383fc43",
   "metadata": {},
   "outputs": [],
   "source": []
  },
  {
   "cell_type": "markdown",
   "id": "fda5314d-b689-4bce-8a49-4c09a01e45fc",
   "metadata": {},
   "source": [
    "## ___Meaning of the Test Statistic___\n",
    "-------------------"
   ]
  },
  {
   "cell_type": "code",
   "execution_count": 16,
   "id": "cc872da7-712d-4915-a1ae-b5fdb390c243",
   "metadata": {
    "execution": {
     "iopub.execute_input": "2023-06-28T23:33:25.353357Z",
     "iopub.status.busy": "2023-06-28T23:33:25.353357Z",
     "iopub.status.idle": "2023-06-28T23:33:25.357465Z",
     "shell.execute_reply": "2023-06-28T23:33:25.357465Z",
     "shell.execute_reply.started": "2023-06-28T23:33:25.353357Z"
    }
   },
   "outputs": [],
   "source": [
    "# The value of the test statistic tells us that the true population proportion is z times the null standard errors\n",
    "# above or below (depends on the sign of the z score) the hypothesized population proportion."
   ]
  },
  {
   "cell_type": "code",
   "execution_count": 17,
   "id": "05082d17-d952-46a5-b000-40c79d0cfb36",
   "metadata": {
    "execution": {
     "iopub.execute_input": "2023-06-28T23:33:25.562753Z",
     "iopub.status.busy": "2023-06-28T23:33:25.562753Z",
     "iopub.status.idle": "2023-06-28T23:33:25.576159Z",
     "shell.execute_reply": "2023-06-28T23:33:25.576159Z",
     "shell.execute_reply.started": "2023-06-28T23:33:25.562753Z"
    }
   },
   "outputs": [
    {
     "data": {
      "text/plain": [
       "0.49361949361949364"
      ]
     },
     "execution_count": 17,
     "metadata": {},
     "output_type": "execute_result"
    }
   ],
   "source": [
    "# i.e a test statistic of -12.762 tells us that the true population proportion is -12.762 * stderr_null below the hypothesized population\n",
    "# proportion.\n",
    "\n",
    "0.5 + (z * stderr)"
   ]
  },
  {
   "cell_type": "code",
   "execution_count": 18,
   "id": "61af17c3-aaff-46ad-85fb-a9952a672bff",
   "metadata": {
    "execution": {
     "iopub.execute_input": "2023-06-28T23:33:25.981569Z",
     "iopub.status.busy": "2023-06-28T23:33:25.981569Z",
     "iopub.status.idle": "2023-06-28T23:33:25.992042Z",
     "shell.execute_reply": "2023-06-28T23:33:25.991988Z",
     "shell.execute_reply.started": "2023-06-28T23:33:25.981569Z"
    }
   },
   "outputs": [
    {
     "data": {
      "text/plain": [
       "0.49361949361949364"
      ]
     },
     "execution_count": 18,
     "metadata": {},
     "output_type": "execute_result"
    }
   ],
   "source": [
    "best_est"
   ]
  },
  {
   "cell_type": "code",
   "execution_count": 19,
   "id": "88030b59-ae03-4e77-8c3c-928f9225b579",
   "metadata": {
    "execution": {
     "iopub.execute_input": "2023-06-28T23:33:26.514604Z",
     "iopub.status.busy": "2023-06-28T23:33:26.514604Z",
     "iopub.status.idle": "2023-06-28T23:33:26.525937Z",
     "shell.execute_reply": "2023-06-28T23:33:26.525418Z",
     "shell.execute_reply.started": "2023-06-28T23:33:26.514604Z"
    }
   },
   "outputs": [],
   "source": [
    "# The Z test statistic is a random variable, that has a distribution.\n",
    "# Z statistic follows a standard normal distribution. (ranging from 0 to 1).\n",
    "# This standard normal nature comes from centering & scaling our original data."
   ]
  },
  {
   "cell_type": "code",
   "execution_count": 20,
   "id": "fdd22826-4cf4-479e-9a98-385e73aa7ca7",
   "metadata": {
    "execution": {
     "iopub.execute_input": "2023-06-28T23:33:27.018436Z",
     "iopub.status.busy": "2023-06-28T23:33:27.018436Z",
     "iopub.status.idle": "2023-06-28T23:33:27.028948Z",
     "shell.execute_reply": "2023-06-28T23:33:27.028948Z",
     "shell.execute_reply.started": "2023-06-28T23:33:27.018436Z"
    }
   },
   "outputs": [],
   "source": [
    "# centering :  best_est - hyp_est (subtracting the hypothesized estimate)\n",
    "# scaling : (best_est - hyp_est) / stderr (division by the standard error)"
   ]
  },
  {
   "cell_type": "code",
   "execution_count": null,
   "id": "320c3847-6425-4bd6-a4a6-cad432ddccc2",
   "metadata": {},
   "outputs": [],
   "source": []
  },
  {
   "cell_type": "markdown",
   "id": "27e19ddd-9e2e-43cf-a448-f65aea640805",
   "metadata": {},
   "source": [
    "## ___P Values___\n",
    "---------------"
   ]
  },
  {
   "cell_type": "code",
   "execution_count": 21,
   "id": "dd69beb2-985d-4f1a-9f5f-24524dd28eab",
   "metadata": {
    "execution": {
     "iopub.execute_input": "2023-06-28T23:33:28.603030Z",
     "iopub.status.busy": "2023-06-28T23:33:28.587455Z",
     "iopub.status.idle": "2023-06-28T23:33:28.965507Z",
     "shell.execute_reply": "2023-06-28T23:33:28.965507Z",
     "shell.execute_reply.started": "2023-06-28T23:33:28.603030Z"
    }
   },
   "outputs": [
    {
     "data": {
      "image/png": "[encoded data removed]",
      "text/plain": [
       "<Figure size 640x480 with 1 Axes>"
      ]
     },
     "metadata": {},
     "output_type": "display_data"
    }
   ],
   "source": [
    "# Once we have a t statistic at hand, we can compute a p value from it.\n",
    "# p values also have a standard normal distribution.\n",
    "\n",
    "plt.hist(zscore(oil_temps), bins = 250, alpha = 0.85, color = \"red\")\n",
    "plt.vlines(z, ymin = 0, ymax = 25000, color = \"black\")\n",
    "plt.show()"
   ]
  },
  {
   "cell_type": "code",
   "execution_count": 22,
   "id": "213d4a5e-5614-428a-ae6e-5b9be366f8c5",
   "metadata": {
    "execution": {
     "iopub.execute_input": "2023-06-28T23:33:30.595594Z",
     "iopub.status.busy": "2023-06-28T23:33:30.595594Z",
     "iopub.status.idle": "2023-06-28T23:33:30.613762Z",
     "shell.execute_reply": "2023-06-28T23:33:30.613376Z",
     "shell.execute_reply.started": "2023-06-28T23:33:30.595594Z"
    }
   },
   "outputs": [],
   "source": [
    "# The alternative hypothesis was that the population proportion of temperatures above 60 is less than 0.5\n",
    "# So, our z score corresponds to the hypothesized null proportion, 0.5\n",
    "# Since H1 references a proportion less than the null proportion, we need the area on the left of the line.\n",
    "\n",
    "# Which is virtually nothing."
   ]
  },
  {
   "cell_type": "code",
   "execution_count": 34,
   "id": "57f95cd2-6dc8-4d4e-86f1-c986f746a5a3",
   "metadata": {
    "execution": {
     "iopub.execute_input": "2023-06-28T23:40:40.182171Z",
     "iopub.status.busy": "2023-06-28T23:40:40.182171Z",
     "iopub.status.idle": "2023-06-28T23:40:40.193980Z",
     "shell.execute_reply": "2023-06-28T23:40:40.193980Z",
     "shell.execute_reply.started": "2023-06-28T23:40:40.182171Z"
    }
   },
   "outputs": [
    {
     "data": {
      "text/plain": [
       "1.3354694904265272e-37"
      ]
     },
     "execution_count": 34,
     "metadata": {},
     "output_type": "execute_result"
    }
   ],
   "source": [
    "# Cumulative distribution function tells us the probability of a random value from a select distribution to be found at or less than the\n",
    "# specified limit.\n",
    "\n",
    "# P value is,\n",
    "\n",
    "p = norm.cdf(z)\n",
    "p"
   ]
  },
  {
   "cell_type": "code",
   "execution_count": 36,
   "id": "148d06b5-9d6a-430a-8d54-54e8ef40d174",
   "metadata": {
    "execution": {
     "iopub.execute_input": "2023-06-28T23:42:45.276903Z",
     "iopub.status.busy": "2023-06-28T23:42:45.275904Z",
     "iopub.status.idle": "2023-06-28T23:42:45.280251Z",
     "shell.execute_reply": "2023-06-28T23:42:45.280251Z",
     "shell.execute_reply.started": "2023-06-28T23:42:45.276903Z"
    }
   },
   "outputs": [],
   "source": [
    "# That is a very small value, that is way smaller than our specified significance (alpha).\n",
    "# So, we'll reject the Null hypothesis.\n",
    "# So, we cannot say that the proportion of temperatures above 60 degrees celsius is 0.5 in the population."
   ]
  },
  {
   "cell_type": "code",
   "execution_count": 37,
   "id": "5058a515-9295-4414-8735-361c8541d1ae",
   "metadata": {
    "execution": {
     "iopub.execute_input": "2023-06-28T23:44:09.289907Z",
     "iopub.status.busy": "2023-06-28T23:44:09.289907Z",
     "iopub.status.idle": "2023-06-28T23:44:09.295619Z",
     "shell.execute_reply": "2023-06-28T23:44:09.295561Z",
     "shell.execute_reply.started": "2023-06-28T23:44:09.289907Z"
    }
   },
   "outputs": [],
   "source": [
    "# To put our analyses into words,\n",
    "# There's adequate evidence to believe that the population proportion of temperatures above 60 degrees celsius is less than 0.5\n",
    "# or 50%"
   ]
  },
  {
   "cell_type": "code",
   "execution_count": 26,
   "id": "4a0412a5-64f4-4bfd-84e2-e1de1098bd14",
   "metadata": {
    "execution": {
     "iopub.execute_input": "2023-06-28T23:35:19.377685Z",
     "iopub.status.busy": "2023-06-28T23:35:19.377685Z",
     "iopub.status.idle": "2023-06-28T23:35:19.395117Z",
     "shell.execute_reply": "2023-06-28T23:35:19.395117Z",
     "shell.execute_reply.started": "2023-06-28T23:35:19.377685Z"
    }
   },
   "outputs": [
    {
     "data": {
      "text/plain": [
       "0.7876836989700404"
      ]
     },
     "execution_count": 26,
     "metadata": {},
     "output_type": "execute_result"
    }
   ],
   "source": [
    "# Say that our z score was a positive value,\n",
    "\n",
    "z_dummy = 0.79841\n",
    "norm.cdf(z_dummy)"
   ]
  },
  {
   "cell_type": "code",
   "execution_count": 29,
   "id": "6e0fb8da-e625-4e3d-8a9d-6f4baef2b916",
   "metadata": {
    "execution": {
     "iopub.execute_input": "2023-06-28T23:38:38.103509Z",
     "iopub.status.busy": "2023-06-28T23:38:38.103509Z",
     "iopub.status.idle": "2023-06-28T23:38:38.116249Z",
     "shell.execute_reply": "2023-06-28T23:38:38.116110Z",
     "shell.execute_reply.started": "2023-06-28T23:38:38.103509Z"
    }
   },
   "outputs": [
    {
     "data": {
      "text/plain": [
       "0.7876836989700404"
      ]
     },
     "execution_count": 29,
     "metadata": {},
     "output_type": "execute_result"
    }
   ],
   "source": [
    "# P value is the area of the z curve, that is covered by our computed z score.\n",
    "# The side of coverage depends on the relationship we specify in the alternative hypothesis.\n",
    "# if we say that the proportion is less than 0.5, then we need to find the fraction of the area of the curve, on the left side of the z line.\n",
    "# if we say that the proportion is above 0.5, then we should find the area on the right side of the line.\n",
    "\n",
    "# left side area,\n",
    "\n",
    "norm.cdf(z_dummy)"
   ]
  },
  {
   "cell_type": "code",
   "execution_count": 30,
   "id": "232ffad5-c38f-4a62-b888-6f0903796f90",
   "metadata": {
    "execution": {
     "iopub.execute_input": "2023-06-28T23:38:55.746619Z",
     "iopub.status.busy": "2023-06-28T23:38:55.746619Z",
     "iopub.status.idle": "2023-06-28T23:38:55.761266Z",
     "shell.execute_reply": "2023-06-28T23:38:55.761266Z",
     "shell.execute_reply.started": "2023-06-28T23:38:55.746619Z"
    }
   },
   "outputs": [
    {
     "data": {
      "text/plain": [
       "0.21231630102995958"
      ]
     },
     "execution_count": 30,
     "metadata": {},
     "output_type": "execute_result"
    }
   ],
   "source": [
    "# right side,\n",
    "\n",
    "1 - norm.cdf(z_dummy)"
   ]
  },
  {
   "cell_type": "code",
   "execution_count": 4,
   "id": "b644bd5f-376e-4026-a103-ffc6cc76fb92",
   "metadata": {
    "execution": {
     "iopub.execute_input": "2023-06-28T23:24:59.078049Z",
     "iopub.status.busy": "2023-06-28T23:24:59.078049Z",
     "iopub.status.idle": "2023-06-28T23:24:59.095788Z",
     "shell.execute_reply": "2023-06-28T23:24:59.095788Z",
     "shell.execute_reply.started": "2023-06-28T23:24:59.078049Z"
    }
   },
   "outputs": [],
   "source": [
    "# This notebook is partially incomplete. :("
   ]
  },
  {
   "cell_type": "code",
   "execution_count": null,
   "id": "3e759571-505b-4481-82e0-44a1cf3769ff",
   "metadata": {},
   "outputs": [],
   "source": []
  },
  {
   "cell_type": "code",
   "execution_count": 48,
   "id": "04741a4b-183a-4941-97f4-b959c650cba0",
   "metadata": {
    "execution": {
     "iopub.execute_input": "2023-06-28T23:47:41.168805Z",
     "iopub.status.busy": "2023-06-28T23:47:41.168805Z",
     "iopub.status.idle": "2023-06-28T23:47:41.352647Z",
     "shell.execute_reply": "2023-06-28T23:47:41.352647Z",
     "shell.execute_reply.started": "2023-06-28T23:47:41.168805Z"
    }
   },
   "outputs": [],
   "source": [
    "# Let's try again with a simulated population.\n",
    "\n",
    "population = np.random.binomial(n = 1, p = 0.55, size = 10_000_000)"
   ]
  },
  {
   "cell_type": "code",
   "execution_count": 51,
   "id": "6716843b-2383-41ce-97a2-ebc7234311fb",
   "metadata": {
    "execution": {
     "iopub.execute_input": "2023-06-28T23:48:19.500880Z",
     "iopub.status.busy": "2023-06-28T23:48:19.500880Z",
     "iopub.status.idle": "2023-06-28T23:48:19.514386Z",
     "shell.execute_reply": "2023-06-28T23:48:19.514386Z",
     "shell.execute_reply.started": "2023-06-28T23:48:19.500880Z"
    }
   },
   "outputs": [
    {
     "data": {
      "text/plain": [
       "0.5500059"
      ]
     },
     "execution_count": 51,
     "metadata": {},
     "output_type": "execute_result"
    }
   ],
   "source": [
    "# Proportion of ones in the population.\n",
    "\n",
    "prop_pop = population.mean()\n",
    "prop_pop"
   ]
  },
  {
   "cell_type": "code",
   "execution_count": 52,
   "id": "aa2086ff-1103-4ffd-a686-cad6d2e9bf48",
   "metadata": {
    "execution": {
     "iopub.execute_input": "2023-06-28T23:49:20.737406Z",
     "iopub.status.busy": "2023-06-28T23:49:20.737406Z",
     "iopub.status.idle": "2023-06-28T23:49:20.751962Z",
     "shell.execute_reply": "2023-06-28T23:49:20.751962Z",
     "shell.execute_reply.started": "2023-06-28T23:49:20.737406Z"
    }
   },
   "outputs": [
    {
     "data": {
      "text/plain": [
       "0.5416"
      ]
     },
     "execution_count": 52,
     "metadata": {},
     "output_type": "execute_result"
    }
   ],
   "source": [
    "# Let's make a sample,\n",
    "\n",
    "sample = population[np.random.randint(low = 0, high = population.size, size = 5_000)]\n",
    "prop_sample = sample.mean()\n",
    "prop_sample"
   ]
  },
  {
   "cell_type": "code",
   "execution_count": 53,
   "id": "4b48508e-2530-4083-a225-eed7052971f2",
   "metadata": {
    "execution": {
     "iopub.execute_input": "2023-06-28T23:50:20.804386Z",
     "iopub.status.busy": "2023-06-28T23:50:20.804386Z",
     "iopub.status.idle": "2023-06-28T23:50:20.808528Z",
     "shell.execute_reply": "2023-06-28T23:50:20.808053Z",
     "shell.execute_reply.started": "2023-06-28T23:50:20.804386Z"
    }
   },
   "outputs": [],
   "source": [
    "# Null hypothesis: Population proportion of ones is 0.54\n",
    "# Alternative hypothesis: Population proportion of ones is greater than 0.54"
   ]
  },
  {
   "cell_type": "code",
   "execution_count": 55,
   "id": "a76d9cf3-0b1a-41b7-83e4-5a4d81f3f06f",
   "metadata": {
    "execution": {
     "iopub.execute_input": "2023-06-28T23:53:19.119452Z",
     "iopub.status.busy": "2023-06-28T23:53:19.119452Z",
     "iopub.status.idle": "2023-06-28T23:53:19.136357Z",
     "shell.execute_reply": "2023-06-28T23:53:19.136357Z",
     "shell.execute_reply.started": "2023-06-28T23:53:19.119452Z"
    }
   },
   "outputs": [
    {
     "data": {
      "text/plain": [
       "0.0070484040746824385"
      ]
     },
     "execution_count": 55,
     "metadata": {},
     "output_type": "execute_result"
    }
   ],
   "source": [
    "# standard error for the H0\n",
    "\n",
    "stderr_null = np.sqrt(0.54 * (1 - 0.54) / sample.size)\n",
    "stderr_null"
   ]
  },
  {
   "cell_type": "code",
   "execution_count": 56,
   "id": "474bf348-49b1-4a0e-be13-6bac0ffd0f3d",
   "metadata": {
    "execution": {
     "iopub.execute_input": "2023-06-28T23:53:35.327827Z",
     "iopub.status.busy": "2023-06-28T23:53:35.327827Z",
     "iopub.status.idle": "2023-06-28T23:53:35.344847Z",
     "shell.execute_reply": "2023-06-28T23:53:35.344847Z",
     "shell.execute_reply.started": "2023-06-28T23:53:35.327827Z"
    }
   },
   "outputs": [
    {
     "data": {
      "text/plain": [
       "0.22700174153565703"
      ]
     },
     "execution_count": 56,
     "metadata": {},
     "output_type": "execute_result"
    }
   ],
   "source": [
    "# Test statistic (Z score)\n",
    "\n",
    "z_null = (prop_sample - 0.54) / stderr_null\n",
    "z_null"
   ]
  },
  {
   "cell_type": "code",
   "execution_count": 80,
   "id": "0d621811-3253-45f5-9666-dd46ffe1b191",
   "metadata": {
    "execution": {
     "iopub.execute_input": "2023-06-29T00:05:54.702760Z",
     "iopub.status.busy": "2023-06-29T00:05:54.702760Z",
     "iopub.status.idle": "2023-06-29T00:05:54.717607Z",
     "shell.execute_reply": "2023-06-29T00:05:54.717451Z",
     "shell.execute_reply.started": "2023-06-29T00:05:54.702760Z"
    }
   },
   "outputs": [
    {
     "data": {
      "text/plain": [
       "0.41021119398400685"
      ]
     },
     "execution_count": 80,
     "metadata": {},
     "output_type": "execute_result"
    }
   ],
   "source": [
    "# p value,\n",
    "# \"greater than 0.54\"\n",
    "\n",
    "p = 1 - norm.cdf(z_null)\n",
    "p"
   ]
  },
  {
   "cell_type": "code",
   "execution_count": 83,
   "id": "0d794296-647c-4a27-ab5c-f14eef906371",
   "metadata": {
    "execution": {
     "iopub.execute_input": "2023-06-29T00:06:27.547705Z",
     "iopub.status.busy": "2023-06-29T00:06:27.547705Z",
     "iopub.status.idle": "2023-06-29T00:06:27.561921Z",
     "shell.execute_reply": "2023-06-29T00:06:27.561849Z",
     "shell.execute_reply.started": "2023-06-29T00:06:27.547705Z"
    }
   },
   "outputs": [
    {
     "data": {
      "text/plain": [
       "(-5.464381733141875, 5.508695579254069)"
      ]
     },
     "execution_count": 83,
     "metadata": {},
     "output_type": "execute_result"
    }
   ],
   "source": [
    "axes.get_xlim()"
   ]
  },
  {
   "cell_type": "code",
   "execution_count": 87,
   "id": "7b568b07-aa69-4272-80b5-0daa11df9715",
   "metadata": {
    "execution": {
     "iopub.execute_input": "2023-06-29T00:08:30.960697Z",
     "iopub.status.busy": "2023-06-29T00:08:30.960697Z",
     "iopub.status.idle": "2023-06-29T00:08:31.359529Z",
     "shell.execute_reply": "2023-06-29T00:08:31.359529Z",
     "shell.execute_reply.started": "2023-06-29T00:08:30.960697Z"
    }
   },
   "outputs": [
    {
     "data": {
      "image/png": "[encoded data removed]",
      "text/plain": [
       "<Figure size 640x480 with 1 Axes>"
      ]
     },
     "metadata": {},
     "output_type": "display_data"
    }
   ],
   "source": [
    "fig, axes = plt.subplots()\n",
    "axes.hist(np.random.standard_normal(1_000_000), bins = 500, color = \"blue\")\n",
    "axes.vlines(p, ymin = 0, ymax = 8500, color = \"red\")\n",
    "axes.fill_betweenx(y = axes.get_ylim(), x1 = p, x2 = max(axes.get_xlim()), color = \"yellow\", alpha = 0.5)\n",
    "axes.grid()\n",
    "plt.show()"
   ]
  },
  {
   "cell_type": "code",
   "execution_count": null,
   "id": "bec58c28-f8d0-40e5-aefb-4e6c87a94292",
   "metadata": {},
   "outputs": [],
   "source": [
    "# p value is way greater than the significance (alpha = 0.05)\n",
    "# So, we cannot reject the Null hypothesis.\n",
    "\n",
    "# Thus, we can conclude that the population proportion of ones is 0.54"
   ]
  }
 ],
 "metadata": {
  "kernelspec": {
   "display_name": "Python 3 (ipykernel)",
   "language": "python",
   "name": "python3"
  },
  "language_info": {
   "codemirror_mode": {
    "name": "ipython",
    "version": 3
   },
   "file_extension": ".py",
   "mimetype": "text/x-python",
   "name": "python",
   "nbconvert_exporter": "python",
   "pygments_lexer": "ipython3",
   "version": "3.11.4"
  }
 },
 "nbformat": 4,
 "nbformat_minor": 5
}
