{
 "cells": [
  {
   "cell_type": "code",
   "execution_count": 48,
   "id": "201bc857-c464-4ba2-b6b7-df5631648a0e",
   "metadata": {
    "execution": {
     "iopub.execute_input": "2023-06-12T13:04:22.568418Z",
     "iopub.status.busy": "2023-06-12T13:04:22.568418Z",
     "iopub.status.idle": "2023-06-12T13:04:22.576613Z",
     "shell.execute_reply": "2023-06-12T13:04:22.576613Z",
     "shell.execute_reply.started": "2023-06-12T13:04:22.568418Z"
    }
   },
   "outputs": [],
   "source": [
    "import numpy as np\n",
    "import pandas as pd\n",
    "import matplotlib.pyplot as plt\n",
    "from scipy.stats import t"
   ]
  },
  {
   "cell_type": "markdown",
   "id": "a4e4f4d6-e8d4-4717-8a7d-71053e3c261a",
   "metadata": {},
   "source": [
    "# ___Estimating Population Means with Confidence___\n",
    "------------------"
   ]
  },
  {
   "cell_type": "code",
   "execution_count": 7,
   "id": "532bc8cd-9709-430c-9d2c-0d368534514f",
   "metadata": {
    "execution": {
     "iopub.execute_input": "2023-06-10T05:30:11.493906Z",
     "iopub.status.busy": "2023-06-10T05:30:11.493906Z",
     "iopub.status.idle": "2023-06-10T05:30:11.533539Z",
     "shell.execute_reply": "2023-06-10T05:30:11.533376Z",
     "shell.execute_reply.started": "2023-06-10T05:30:11.493906Z"
    }
   },
   "outputs": [
    {
     "name": "stdout",
     "output_type": "stream",
     "text": [
      " Volume in drive D has no label.\n",
      " Volume Serial Number is 3A29-3F7E\n",
      "\n",
      " Directory of D:\\Inferential-Statistical-Analysis-with-Python\\data\n",
      "\n",
      "08/06/2023  07:47 pm    <DIR>          .\n",
      "01/06/2023  05:37 am    <DIR>          ..\n",
      "20/05/2023  04:03 pm               866 Cartwheeldata.csv\n",
      "07/06/2023  04:33 pm            17,906 CommonCLZvalues.png\n",
      "01/06/2023  06:34 am         2,581,551 EV_Population_Data.csv\n",
      "20/05/2023  04:03 pm             2,831 nap_no_nap.csv\n",
      "20/05/2023  04:03 pm           762,373 nhanes_2015_2016.csv\n",
      "06/06/2023  04:56 pm         7,224,973 USDA_plants_database.csv\n",
      "               6 File(s)     10,590,500 bytes\n",
      "               2 Dir(s)  148,181,811,200 bytes free\n"
     ]
    }
   ],
   "source": [
    "!dir ..\\data"
   ]
  },
  {
   "cell_type": "raw",
   "id": "81c7bc9c-1642-4f71-97ab-85908766d0a3",
   "metadata": {
    "execution": {
     "iopub.execute_input": "2023-06-12T12:45:33.151935Z",
     "iopub.status.busy": "2023-06-12T12:45:33.151935Z",
     "iopub.status.idle": "2023-06-12T12:45:39.358018Z",
     "shell.execute_reply": "2023-06-12T12:45:39.358018Z",
     "shell.execute_reply.started": "2023-06-12T12:45:33.151935Z"
    }
   },
   "source": [
    "metro = pd.read_csv(\"../data/MetroPT3(AirCompressor).csv\").drop([\"timestamp\", \"Unnamed: 0\", \"COMP\", \"DV_eletric\", \"Towers\", \"MPG\", \"LPS\",\n",
    "                \"Pressure_switch\", \"Oil_level\", \"Caudal_impulses\"], axis = 1)\n",
    "metro.to_csv(\"../data/MetroPT3(AirCompressor).csv\", index = False)"
   ]
  },
  {
   "cell_type": "code",
   "execution_count": 15,
   "id": "8f6c23ff-5fdf-403f-9206-974214a079e7",
   "metadata": {
    "execution": {
     "iopub.execute_input": "2023-06-12T12:48:16.030496Z",
     "iopub.status.busy": "2023-06-12T12:48:16.030496Z",
     "iopub.status.idle": "2023-06-12T12:48:16.400697Z",
     "shell.execute_reply": "2023-06-12T12:48:16.400567Z",
     "shell.execute_reply.started": "2023-06-12T12:48:16.030496Z"
    }
   },
   "outputs": [],
   "source": [
    "metro = pd.read_csv(\"../data/MetroPT3(AirCompressor).csv\")          # .drop([\"TP2\", \"TP3\", \"H1\"], axis = 1)\n",
    "# metro.to_csv(\"../data/MetroPT3(AirCompressor).csv\", index = False)"
   ]
  },
  {
   "cell_type": "code",
   "execution_count": 17,
   "id": "8051fb1a-3996-4918-88d7-a46b4f4d03f3",
   "metadata": {
    "execution": {
     "iopub.execute_input": "2023-06-12T12:48:29.856963Z",
     "iopub.status.busy": "2023-06-12T12:48:29.856963Z",
     "iopub.status.idle": "2023-06-12T12:48:29.881466Z",
     "shell.execute_reply": "2023-06-12T12:48:29.880868Z",
     "shell.execute_reply.started": "2023-06-12T12:48:29.856963Z"
    }
   },
   "outputs": [
    {
     "data": {
      "text/html": [
       "<div>\n",
       "<style scoped>\n",
       "    .dataframe tbody tr th:only-of-type {\n",
       "        vertical-align: middle;\n",
       "    }\n",
       "\n",
       "    .dataframe tbody tr th {\n",
       "        vertical-align: top;\n",
       "    }\n",
       "\n",
       "    .dataframe thead th {\n",
       "        text-align: right;\n",
       "    }\n",
       "</style>\n",
       "<table border=\"1\" class=\"dataframe\">\n",
       "  <thead>\n",
       "    <tr style=\"text-align: right;\">\n",
       "      <th></th>\n",
       "      <th>DV_pressure</th>\n",
       "      <th>Reservoirs</th>\n",
       "      <th>Oil_temperature</th>\n",
       "      <th>Motor_current</th>\n",
       "    </tr>\n",
       "  </thead>\n",
       "  <tbody>\n",
       "    <tr>\n",
       "      <th>0</th>\n",
       "      <td>-0.024</td>\n",
       "      <td>9.358</td>\n",
       "      <td>53.600</td>\n",
       "      <td>0.0400</td>\n",
       "    </tr>\n",
       "    <tr>\n",
       "      <th>1</th>\n",
       "      <td>-0.022</td>\n",
       "      <td>9.348</td>\n",
       "      <td>53.675</td>\n",
       "      <td>0.0400</td>\n",
       "    </tr>\n",
       "    <tr>\n",
       "      <th>2</th>\n",
       "      <td>-0.022</td>\n",
       "      <td>9.338</td>\n",
       "      <td>53.600</td>\n",
       "      <td>0.0425</td>\n",
       "    </tr>\n",
       "    <tr>\n",
       "      <th>3</th>\n",
       "      <td>-0.022</td>\n",
       "      <td>9.328</td>\n",
       "      <td>53.425</td>\n",
       "      <td>0.0400</td>\n",
       "    </tr>\n",
       "    <tr>\n",
       "      <th>4</th>\n",
       "      <td>-0.022</td>\n",
       "      <td>9.318</td>\n",
       "      <td>53.475</td>\n",
       "      <td>0.0400</td>\n",
       "    </tr>\n",
       "    <tr>\n",
       "      <th>...</th>\n",
       "      <td>...</td>\n",
       "      <td>...</td>\n",
       "      <td>...</td>\n",
       "      <td>...</td>\n",
       "    </tr>\n",
       "    <tr>\n",
       "      <th>999994</th>\n",
       "      <td>-0.022</td>\n",
       "      <td>9.044</td>\n",
       "      <td>66.325</td>\n",
       "      <td>0.0425</td>\n",
       "    </tr>\n",
       "    <tr>\n",
       "      <th>999995</th>\n",
       "      <td>-0.022</td>\n",
       "      <td>9.024</td>\n",
       "      <td>65.750</td>\n",
       "      <td>0.0400</td>\n",
       "    </tr>\n",
       "    <tr>\n",
       "      <th>999996</th>\n",
       "      <td>-0.022</td>\n",
       "      <td>9.008</td>\n",
       "      <td>65.450</td>\n",
       "      <td>0.0425</td>\n",
       "    </tr>\n",
       "    <tr>\n",
       "      <th>999997</th>\n",
       "      <td>-0.022</td>\n",
       "      <td>8.980</td>\n",
       "      <td>65.125</td>\n",
       "      <td>0.0425</td>\n",
       "    </tr>\n",
       "    <tr>\n",
       "      <th>999998</th>\n",
       "      <td>-0.022</td>\n",
       "      <td>8.962</td>\n",
       "      <td>64.950</td>\n",
       "      <td>0.0425</td>\n",
       "    </tr>\n",
       "  </tbody>\n",
       "</table>\n",
       "<p>999999 rows × 4 columns</p>\n",
       "</div>"
      ],
      "text/plain": [
       "        DV_pressure  Reservoirs  Oil_temperature  Motor_current\n",
       "0            -0.024       9.358           53.600         0.0400\n",
       "1            -0.022       9.348           53.675         0.0400\n",
       "2            -0.022       9.338           53.600         0.0425\n",
       "3            -0.022       9.328           53.425         0.0400\n",
       "4            -0.022       9.318           53.475         0.0400\n",
       "...             ...         ...              ...            ...\n",
       "999994       -0.022       9.044           66.325         0.0425\n",
       "999995       -0.022       9.024           65.750         0.0400\n",
       "999996       -0.022       9.008           65.450         0.0425\n",
       "999997       -0.022       8.980           65.125         0.0425\n",
       "999998       -0.022       8.962           64.950         0.0425\n",
       "\n",
       "[999999 rows x 4 columns]"
      ]
     },
     "execution_count": 17,
     "metadata": {},
     "output_type": "execute_result"
    }
   ],
   "source": [
    "metro"
   ]
  },
  {
   "cell_type": "code",
   "execution_count": 18,
   "id": "c1b11d70-c9e2-4535-9cb0-07e650f65382",
   "metadata": {
    "execution": {
     "iopub.execute_input": "2023-06-12T12:48:30.329269Z",
     "iopub.status.busy": "2023-06-12T12:48:30.329269Z",
     "iopub.status.idle": "2023-06-12T12:48:30.343281Z",
     "shell.execute_reply": "2023-06-12T12:48:30.343281Z",
     "shell.execute_reply.started": "2023-06-12T12:48:30.329269Z"
    }
   },
   "outputs": [
    {
     "data": {
      "text/plain": [
       "(999999, 4)"
      ]
     },
     "execution_count": 18,
     "metadata": {},
     "output_type": "execute_result"
    }
   ],
   "source": [
    "metro.shape"
   ]
  },
  {
   "cell_type": "code",
   "execution_count": 20,
   "id": "829c0525-0528-472b-9763-39f6b02c2dd9",
   "metadata": {
    "execution": {
     "iopub.execute_input": "2023-06-12T12:48:35.679193Z",
     "iopub.status.busy": "2023-06-12T12:48:35.679193Z",
     "iopub.status.idle": "2023-06-12T12:48:35.698250Z",
     "shell.execute_reply": "2023-06-12T12:48:35.698250Z",
     "shell.execute_reply.started": "2023-06-12T12:48:35.679193Z"
    }
   },
   "outputs": [
    {
     "data": {
      "text/plain": [
       "60.91453961453962"
      ]
     },
     "execution_count": 20,
     "metadata": {},
     "output_type": "execute_result"
    }
   ],
   "source": [
    "# Mean oil temperature (population)\n",
    "\n",
    "pop_mean = metro.Oil_temperature.mean()\n",
    "pop_mean"
   ]
  },
  {
   "cell_type": "code",
   "execution_count": 21,
   "id": "302a4eb1-96c6-483f-950a-1cf18cd9c60e",
   "metadata": {
    "execution": {
     "iopub.execute_input": "2023-06-12T12:48:36.357466Z",
     "iopub.status.busy": "2023-06-12T12:48:36.357466Z",
     "iopub.status.idle": "2023-06-12T12:48:36.574836Z",
     "shell.execute_reply": "2023-06-12T12:48:36.574836Z",
     "shell.execute_reply.started": "2023-06-12T12:48:36.357466Z"
    }
   },
   "outputs": [
    {
     "data": {
      "image/png": "[encoded data removed]",
      "text/plain": [
       "<Figure size 640x480 with 1 Axes>"
      ]
     },
     "metadata": {},
     "output_type": "display_data"
    }
   ],
   "source": [
    "fig, axes = plt.subplots()\n",
    "axes.hist(metro.Oil_temperature, bins = 100, rwidth = 0.9, color = \"red\")\n",
    "plt.show()"
   ]
  },
  {
   "cell_type": "code",
   "execution_count": 22,
   "id": "bde53323-e602-4b82-8578-a796b7829a39",
   "metadata": {
    "execution": {
     "iopub.execute_input": "2023-06-12T12:48:37.550828Z",
     "iopub.status.busy": "2023-06-12T12:48:37.550828Z",
     "iopub.status.idle": "2023-06-12T12:48:37.574775Z",
     "shell.execute_reply": "2023-06-12T12:48:37.574234Z",
     "shell.execute_reply.started": "2023-06-12T12:48:37.550828Z"
    }
   },
   "outputs": [
    {
     "data": {
      "text/plain": [
       "(15.400000000000006, 59.87499999999999, 83.125)"
      ]
     },
     "execution_count": 22,
     "metadata": {},
     "output_type": "execute_result"
    }
   ],
   "source": [
    "metro.Oil_temperature.min(), metro.Oil_temperature.median(), metro.Oil_temperature.max()"
   ]
  },
  {
   "cell_type": "code",
   "execution_count": 23,
   "id": "63876550-276b-4e6b-9a36-77a79751471b",
   "metadata": {
    "execution": {
     "iopub.execute_input": "2023-06-12T12:48:38.695981Z",
     "iopub.status.busy": "2023-06-12T12:48:38.695981Z",
     "iopub.status.idle": "2023-06-12T12:48:38.745372Z",
     "shell.execute_reply": "2023-06-12T12:48:38.745372Z",
     "shell.execute_reply.started": "2023-06-12T12:48:38.695981Z"
    }
   },
   "outputs": [],
   "source": [
    "quantiles = [0.1, 0.2, 0.25, 0.3, 0.4, 0.5, 0.6, 0.7, 0.75, 0.8, 0.9, 1]\n",
    "quant_vals = np.quantile(metro.Oil_temperature, q = quantiles)\n",
    "bins = [(metro.Oil_temperature <= qval).sum() for qval in quant_vals]"
   ]
  },
  {
   "cell_type": "code",
   "execution_count": 24,
   "id": "3510f858-bdd4-4d24-b471-b4754603b108",
   "metadata": {
    "execution": {
     "iopub.execute_input": "2023-06-12T12:48:39.480096Z",
     "iopub.status.busy": "2023-06-12T12:48:39.480096Z",
     "iopub.status.idle": "2023-06-12T12:48:39.604633Z",
     "shell.execute_reply": "2023-06-12T12:48:39.604633Z",
     "shell.execute_reply.started": "2023-06-12T12:48:39.480096Z"
    }
   },
   "outputs": [
    {
     "data": {
      "image/png": "[encoded data removed]",
      "text/plain": [
       "<Figure size 640x480 with 1 Axes>"
      ]
     },
     "metadata": {},
     "output_type": "display_data"
    }
   ],
   "source": [
    "fig, axes = plt.subplots()\n",
    "axes.scatter(quantiles, bins, color = \"red\")\n",
    "axes.set_xlabel(\"Quantile\")\n",
    "axes.set_ylabel(\"Count\")\n",
    "plt.show()"
   ]
  },
  {
   "cell_type": "code",
   "execution_count": 25,
   "id": "cd91fcf1-f378-4dcb-9ff6-658f8d579dcf",
   "metadata": {
    "execution": {
     "iopub.execute_input": "2023-06-12T12:48:40.282278Z",
     "iopub.status.busy": "2023-06-12T12:48:40.282278Z",
     "iopub.status.idle": "2023-06-12T12:48:40.324002Z",
     "shell.execute_reply": "2023-06-12T12:48:40.324002Z",
     "shell.execute_reply.started": "2023-06-12T12:48:40.282278Z"
    }
   },
   "outputs": [
    {
     "data": {
      "text/plain": [
       "count    999999.000000\n",
       "mean         60.914540\n",
       "std           6.738249\n",
       "min          15.400000\n",
       "25%          56.000000\n",
       "50%          59.875000\n",
       "75%          65.525000\n",
       "max          83.125000\n",
       "Name: Oil_temperature, dtype: float64"
      ]
     },
     "execution_count": 25,
     "metadata": {},
     "output_type": "execute_result"
    }
   ],
   "source": [
    "metro.Oil_temperature.describe()"
   ]
  },
  {
   "cell_type": "code",
   "execution_count": 26,
   "id": "6e3e2f91-542c-4a65-a25b-adcff3fa3de1",
   "metadata": {
    "execution": {
     "iopub.execute_input": "2023-06-12T12:48:41.034831Z",
     "iopub.status.busy": "2023-06-12T12:48:41.034831Z",
     "iopub.status.idle": "2023-06-12T12:48:41.043576Z",
     "shell.execute_reply": "2023-06-12T12:48:41.043576Z",
     "shell.execute_reply.started": "2023-06-12T12:48:41.034831Z"
    }
   },
   "outputs": [
    {
     "data": {
      "text/plain": [
       "60.68375"
      ]
     },
     "execution_count": 26,
     "metadata": {},
     "output_type": "execute_result"
    }
   ],
   "source": [
    "# Lets make a sample of size 10,000\n",
    "\n",
    "sample = metro.Oil_temperature[np.random.randint(0, metro.Oil_temperature.size, size = 1000)]\n",
    "sample.mean()"
   ]
  },
  {
   "cell_type": "code",
   "execution_count": 27,
   "id": "04746d51-8a4d-4095-9185-e679065f4125",
   "metadata": {
    "execution": {
     "iopub.execute_input": "2023-06-12T12:48:41.567240Z",
     "iopub.status.busy": "2023-06-12T12:48:41.567240Z",
     "iopub.status.idle": "2023-06-12T12:48:41.576705Z",
     "shell.execute_reply": "2023-06-12T12:48:41.576705Z",
     "shell.execute_reply.started": "2023-06-12T12:48:41.567240Z"
    }
   },
   "outputs": [
    {
     "data": {
      "text/plain": [
       "60.91453961453962"
      ]
     },
     "execution_count": 27,
     "metadata": {},
     "output_type": "execute_result"
    }
   ],
   "source": [
    "pop_mean"
   ]
  },
  {
   "cell_type": "code",
   "execution_count": 28,
   "id": "395828dd-044a-4394-82b0-79a82bb61f54",
   "metadata": {
    "execution": {
     "iopub.execute_input": "2023-06-12T12:48:42.634201Z",
     "iopub.status.busy": "2023-06-12T12:48:42.634201Z",
     "iopub.status.idle": "2023-06-12T12:48:42.649056Z",
     "shell.execute_reply": "2023-06-12T12:48:42.649056Z",
     "shell.execute_reply.started": "2023-06-12T12:48:42.634201Z"
    }
   },
   "outputs": [
    {
     "name": "stdout",
     "output_type": "stream",
     "text": [
      "Sample size as a fraction of population size: 0.001000001000001\n"
     ]
    }
   ],
   "source": [
    "print(f\"Sample size as a fraction of population size: {1000 / metro.Oil_temperature.size}\")"
   ]
  },
  {
   "cell_type": "code",
   "execution_count": null,
   "id": "33cacf6e-29ef-4e7a-a391-5bb26a470849",
   "metadata": {},
   "outputs": [],
   "source": []
  },
  {
   "cell_type": "code",
   "execution_count": 29,
   "id": "b0d61b64-f722-4aa9-b6ad-5cade24077f1",
   "metadata": {
    "execution": {
     "iopub.execute_input": "2023-06-12T12:48:44.123881Z",
     "iopub.status.busy": "2023-06-12T12:48:44.123881Z",
     "iopub.status.idle": "2023-06-12T12:48:47.796944Z",
     "shell.execute_reply": "2023-06-12T12:48:47.796944Z",
     "shell.execute_reply.started": "2023-06-12T12:48:44.123881Z"
    }
   },
   "outputs": [],
   "source": [
    "# Distribution of the sample means. => 10,000 samples of size 1,000\n",
    "\n",
    "smeans = []\n",
    "for _ in range(10000):\n",
    "    smeans.append(metro.Oil_temperature[np.random.randint(0, metro.Oil_temperature.size, size = 1000)].mean())"
   ]
  },
  {
   "cell_type": "code",
   "execution_count": 30,
   "id": "0a21ac3f-576e-43b1-8206-9d399f7bd3d5",
   "metadata": {
    "execution": {
     "iopub.execute_input": "2023-06-12T12:48:47.796944Z",
     "iopub.status.busy": "2023-06-12T12:48:47.796944Z",
     "iopub.status.idle": "2023-06-12T12:48:47.954074Z",
     "shell.execute_reply": "2023-06-12T12:48:47.954074Z",
     "shell.execute_reply.started": "2023-06-12T12:48:47.796944Z"
    }
   },
   "outputs": [
    {
     "data": {
      "image/png": "[encoded data removed]",
      "text/plain": [
       "<Figure size 640x480 with 1 Axes>"
      ]
     },
     "metadata": {},
     "output_type": "display_data"
    }
   ],
   "source": [
    "fig, axes = plt.subplots()\n",
    "axes.hist(smeans, bins = 100, rwidth = 0.9, color = \"red\")\n",
    "plt.show()"
   ]
  },
  {
   "cell_type": "code",
   "execution_count": 31,
   "id": "1dba89c8-89f3-494b-8580-b21f9ad5c6b6",
   "metadata": {
    "execution": {
     "iopub.execute_input": "2023-06-12T12:48:50.870582Z",
     "iopub.status.busy": "2023-06-12T12:48:50.870582Z",
     "iopub.status.idle": "2023-06-12T12:48:50.884104Z",
     "shell.execute_reply": "2023-06-12T12:48:50.884104Z",
     "shell.execute_reply.started": "2023-06-12T12:48:50.870582Z"
    }
   },
   "outputs": [],
   "source": [
    "# Even if the population is skewed (either right or left skewed, the distrbution of the sample metric (mean) needs to be normal)\n",
    "# To ensure this, we must make sure that our samples are large enough.\n",
    "\n",
    "# Sample sizes for skewed populations need to be larger compared to samples taken from normal populations."
   ]
  },
  {
   "cell_type": "code",
   "execution_count": 32,
   "id": "d2844e21-bb35-462e-bb0d-0a9016d89ac0",
   "metadata": {
    "execution": {
     "iopub.execute_input": "2023-06-12T12:48:51.371541Z",
     "iopub.status.busy": "2023-06-12T12:48:51.371541Z",
     "iopub.status.idle": "2023-06-12T12:48:51.383124Z",
     "shell.execute_reply": "2023-06-12T12:48:51.382107Z",
     "shell.execute_reply.started": "2023-06-12T12:48:51.371541Z"
    }
   },
   "outputs": [],
   "source": [
    "# Expect a right skewed distribution\n",
    "\n",
    "skewed_pop = np.random.randint(0, 100, size = 100)\n",
    "skewed_pop = np.append(skewed_pop, np.random.randint(0, 20, size = 100))"
   ]
  },
  {
   "cell_type": "code",
   "execution_count": 33,
   "id": "da06741c-4cc7-4d32-8fe8-cf1c036edf40",
   "metadata": {
    "execution": {
     "iopub.execute_input": "2023-06-12T12:48:52.063626Z",
     "iopub.status.busy": "2023-06-12T12:48:52.063626Z",
     "iopub.status.idle": "2023-06-12T12:48:52.219356Z",
     "shell.execute_reply": "2023-06-12T12:48:52.219356Z",
     "shell.execute_reply.started": "2023-06-12T12:48:52.063626Z"
    }
   },
   "outputs": [
    {
     "data": {
      "image/png": "[encoded data removed]",
      "text/plain": [
       "<Figure size 640x480 with 1 Axes>"
      ]
     },
     "metadata": {},
     "output_type": "display_data"
    }
   ],
   "source": [
    "fig, axes = plt.subplots()\n",
    "axes.hist(skewed_pop, bins = 100, rwidth = 0.9, color = \"red\")\n",
    "plt.show()"
   ]
  },
  {
   "cell_type": "code",
   "execution_count": 34,
   "id": "d41c934c-05ad-4ea1-86ad-52be2f34c854",
   "metadata": {
    "execution": {
     "iopub.execute_input": "2023-06-12T12:48:52.958235Z",
     "iopub.status.busy": "2023-06-12T12:48:52.958235Z",
     "iopub.status.idle": "2023-06-12T12:48:52.994586Z",
     "shell.execute_reply": "2023-06-12T12:48:52.994586Z",
     "shell.execute_reply.started": "2023-06-12T12:48:52.958235Z"
    }
   },
   "outputs": [],
   "source": [
    "skew_means = []\n",
    "\n",
    "for _ in range(1000):\n",
    "    skew_means.append(np.random.choice(skewed_pop, size = 20).mean())"
   ]
  },
  {
   "cell_type": "code",
   "execution_count": 35,
   "id": "81f4d4d9-9dc0-4bdb-9c61-9f91fa8190fe",
   "metadata": {
    "execution": {
     "iopub.execute_input": "2023-06-12T12:48:53.898433Z",
     "iopub.status.busy": "2023-06-12T12:48:53.898433Z",
     "iopub.status.idle": "2023-06-12T12:48:54.205147Z",
     "shell.execute_reply": "2023-06-12T12:48:54.205147Z",
     "shell.execute_reply.started": "2023-06-12T12:48:53.898433Z"
    }
   },
   "outputs": [
    {
     "data": {
      "image/png": "[encoded data removed]",
      "text/plain": [
       "<Figure size 640x480 with 1 Axes>"
      ]
     },
     "metadata": {},
     "output_type": "display_data"
    }
   ],
   "source": [
    "# We still get a bell shaped curve.\n",
    "\n",
    "fig, axes = plt.subplots()\n",
    "axes.hist(skew_means, bins = 100, rwidth = 0.9, color = \"red\")\n",
    "axes.vlines(x = skewed_pop.mean(), ymin = -5, ymax = 40, color = \"green\")\n",
    "plt.show()"
   ]
  },
  {
   "cell_type": "code",
   "execution_count": 36,
   "id": "4588f078-9c09-489f-b4b2-48fdb6ac6b15",
   "metadata": {
    "execution": {
     "iopub.execute_input": "2023-06-12T12:48:54.872012Z",
     "iopub.status.busy": "2023-06-12T12:48:54.872012Z",
     "iopub.status.idle": "2023-06-12T12:48:54.891036Z",
     "shell.execute_reply": "2023-06-12T12:48:54.891036Z",
     "shell.execute_reply.started": "2023-06-12T12:48:54.872012Z"
    }
   },
   "outputs": [
    {
     "data": {
      "text/plain": [
       "60.91453961453962"
      ]
     },
     "execution_count": 36,
     "metadata": {},
     "output_type": "execute_result"
    }
   ],
   "source": [
    "# Population mean \n",
    "\n",
    "pop_mean = metro.Oil_temperature.mean()\n",
    "pop_mean"
   ]
  },
  {
   "cell_type": "code",
   "execution_count": 37,
   "id": "44efdd89-85fe-4bc4-b888-e7ed3bdf14ff",
   "metadata": {
    "execution": {
     "iopub.execute_input": "2023-06-12T12:48:55.689554Z",
     "iopub.status.busy": "2023-06-12T12:48:55.689554Z",
     "iopub.status.idle": "2023-06-12T12:48:55.707197Z",
     "shell.execute_reply": "2023-06-12T12:48:55.707197Z",
     "shell.execute_reply.started": "2023-06-12T12:48:55.689554Z"
    }
   },
   "outputs": [
    {
     "data": {
      "text/plain": [
       "60.94741750000001"
      ]
     },
     "execution_count": 37,
     "metadata": {},
     "output_type": "execute_result"
    }
   ],
   "source": [
    "# Sample mean (a random sample of 10,000)\n",
    "\n",
    "sample = metro.Oil_temperature[np.random.randint(0, metro.Oil_temperature.size, size = 10000)]\n",
    "sample_mean = sample.mean()\n",
    "sample_mean"
   ]
  },
  {
   "cell_type": "code",
   "execution_count": 38,
   "id": "6f8f077a-f253-4d85-80d0-6459c8034ee1",
   "metadata": {
    "execution": {
     "iopub.execute_input": "2023-06-12T12:48:56.222677Z",
     "iopub.status.busy": "2023-06-12T12:48:56.222677Z",
     "iopub.status.idle": "2023-06-12T12:48:56.231389Z",
     "shell.execute_reply": "2023-06-12T12:48:56.230315Z",
     "shell.execute_reply.started": "2023-06-12T12:48:56.222677Z"
    }
   },
   "outputs": [],
   "source": [
    "# However, the sample mean will vary with each sample.\n",
    "# The value won't be consistent throughout all the sampling attempts."
   ]
  },
  {
   "cell_type": "markdown",
   "id": "9e5a564e-b99c-48d4-839f-e355da95b555",
   "metadata": {},
   "source": [
    "# ___$Standard~error~of~\\mu = \\frac{\\sigma}{\\sqrt{n}}$___"
   ]
  },
  {
   "cell_type": "code",
   "execution_count": 39,
   "id": "a943fd65-3461-4eb0-8826-654fb2293304",
   "metadata": {
    "execution": {
     "iopub.execute_input": "2023-06-12T12:48:57.384767Z",
     "iopub.status.busy": "2023-06-12T12:48:57.384767Z",
     "iopub.status.idle": "2023-06-12T12:48:57.397239Z",
     "shell.execute_reply": "2023-06-12T12:48:57.397239Z",
     "shell.execute_reply.started": "2023-06-12T12:48:57.384767Z"
    }
   },
   "outputs": [],
   "source": [
    "# sigma => standard deviation of population (POPULATION not sample)\n",
    "# n => sample size\n",
    "# mu => sample mean"
   ]
  },
  {
   "cell_type": "code",
   "execution_count": 40,
   "id": "b9c84401-fa6a-46f2-a3ca-f5bc9362b565",
   "metadata": {
    "execution": {
     "iopub.execute_input": "2023-06-12T12:48:57.933473Z",
     "iopub.status.busy": "2023-06-12T12:48:57.933473Z",
     "iopub.status.idle": "2023-06-12T12:48:57.940975Z",
     "shell.execute_reply": "2023-06-12T12:48:57.940902Z",
     "shell.execute_reply.started": "2023-06-12T12:48:57.933473Z"
    }
   },
   "outputs": [],
   "source": [
    "# The larger the sample size, the smaller the standard error will be.\n",
    "# The problem with this approach is that we could never calculate the population's standard deviation (at least in real world settings)\n",
    "# We need the mean of population to compute the population's standard deviation.\n",
    "# If we already have the population's mean, why bother measuring it again with samples, with less accuracy."
   ]
  },
  {
   "cell_type": "code",
   "execution_count": 41,
   "id": "2354bf7b-ec2a-4d98-95cd-2f8282c142bb",
   "metadata": {
    "execution": {
     "iopub.execute_input": "2023-06-12T12:48:58.310971Z",
     "iopub.status.busy": "2023-06-12T12:48:58.310971Z",
     "iopub.status.idle": "2023-06-12T12:48:58.316822Z",
     "shell.execute_reply": "2023-06-12T12:48:58.316822Z",
     "shell.execute_reply.started": "2023-06-12T12:48:58.310971Z"
    }
   },
   "outputs": [],
   "source": [
    "# However, we sure can measure the standard deviation of our sample => s"
   ]
  },
  {
   "cell_type": "markdown",
   "id": "ec8202e4-aa25-447a-9d17-961a4c91eeb5",
   "metadata": {},
   "source": [
    "# ___$Estimated~standard~error~of~\\mu = \\frac{S}{\\sqrt{n}}$___"
   ]
  },
  {
   "cell_type": "code",
   "execution_count": 42,
   "id": "d86bbd28-391e-44d4-bd1d-0e2905773b52",
   "metadata": {
    "execution": {
     "iopub.execute_input": "2023-06-12T12:48:59.300189Z",
     "iopub.status.busy": "2023-06-12T12:48:59.300189Z",
     "iopub.status.idle": "2023-06-12T12:48:59.308436Z",
     "shell.execute_reply": "2023-06-12T12:48:59.308340Z",
     "shell.execute_reply.started": "2023-06-12T12:48:59.300189Z"
    }
   },
   "outputs": [],
   "source": [
    "evaluate_stderr = lambda sample: sample.std() / np.sqrt(sample.size)"
   ]
  },
  {
   "cell_type": "code",
   "execution_count": 43,
   "id": "bb431bce-0341-462e-86d4-c89dbb390fe3",
   "metadata": {
    "execution": {
     "iopub.execute_input": "2023-06-12T12:48:59.943159Z",
     "iopub.status.busy": "2023-06-12T12:48:59.943159Z",
     "iopub.status.idle": "2023-06-12T12:48:59.953583Z",
     "shell.execute_reply": "2023-06-12T12:48:59.953583Z",
     "shell.execute_reply.started": "2023-06-12T12:48:59.943159Z"
    }
   },
   "outputs": [
    {
     "data": {
      "text/plain": [
       "0.0678106599686208"
      ]
     },
     "execution_count": 43,
     "metadata": {},
     "output_type": "execute_result"
    }
   ],
   "source": [
    "stderr_est = sample.std() / np.sqrt(10_000)\n",
    "stderr_est"
   ]
  },
  {
   "cell_type": "code",
   "execution_count": 44,
   "id": "b8873150-3c92-448c-b52d-b68a6cca5a9f",
   "metadata": {
    "execution": {
     "iopub.execute_input": "2023-06-12T12:49:00.633050Z",
     "iopub.status.busy": "2023-06-12T12:49:00.633050Z",
     "iopub.status.idle": "2023-06-12T12:49:00.639886Z",
     "shell.execute_reply": "2023-06-12T12:49:00.639886Z",
     "shell.execute_reply.started": "2023-06-12T12:49:00.633050Z"
    }
   },
   "outputs": [
    {
     "data": {
      "text/plain": [
       "0.0678106599686208"
      ]
     },
     "execution_count": 44,
     "metadata": {},
     "output_type": "execute_result"
    }
   ],
   "source": [
    "evaluate_stderr(sample)"
   ]
  },
  {
   "cell_type": "code",
   "execution_count": 45,
   "id": "2725b6ed-1ec5-41ab-8cb6-f76089ca66bb",
   "metadata": {
    "execution": {
     "iopub.execute_input": "2023-06-12T12:49:01.244411Z",
     "iopub.status.busy": "2023-06-12T12:49:01.244411Z",
     "iopub.status.idle": "2023-06-12T12:49:01.254149Z",
     "shell.execute_reply": "2023-06-12T12:49:01.253987Z",
     "shell.execute_reply.started": "2023-06-12T12:49:01.244411Z"
    }
   },
   "outputs": [],
   "source": [
    "# However, we cannot use the same multiplier in statistics related to means.\n",
    "# Z multipliers are reserved for sample proportions.\n",
    "# Multipliers used for sample means must be derived from t distribution, not from normal distribution.\n",
    "# This t value comes from a t distribution with n - 1 degrees of freedom. (where n is the sample size)\n",
    "\n",
    "# @ 95% confidence interval, 5% significance\n",
    "# t = 2.064 for n = 25\n",
    "# t = 1.962 for n = 1000"
   ]
  },
  {
   "cell_type": "code",
   "execution_count": null,
   "id": "ef9f33b9-55b2-47ee-b141-b3f04f67ecf3",
   "metadata": {},
   "outputs": [],
   "source": []
  },
  {
   "cell_type": "code",
   "execution_count": 46,
   "id": "ee2b6f39-5d34-48c1-9aed-55e9751d8319",
   "metadata": {
    "execution": {
     "iopub.execute_input": "2023-06-12T12:49:01.825033Z",
     "iopub.status.busy": "2023-06-12T12:49:01.825033Z",
     "iopub.status.idle": "2023-06-12T12:49:01.832161Z",
     "shell.execute_reply": "2023-06-12T12:49:01.832161Z",
     "shell.execute_reply.started": "2023-06-12T12:49:01.825033Z"
    }
   },
   "outputs": [
    {
     "data": {
      "text/plain": [
       "(60.81450860646151, 61.080326393538506)"
      ]
     },
     "execution_count": 46,
     "metadata": {},
     "output_type": "execute_result"
    }
   ],
   "source": [
    "# Confidence interval = best estimate +- margin of error @ 95% confidence or 5% significance.\n",
    "\n",
    "moerr = 1.96 * stderr_est\n",
    "sample_mean - moerr, sample_mean + moerr"
   ]
  },
  {
   "cell_type": "code",
   "execution_count": 65,
   "id": "37dd66c5-9f76-454f-a69f-5b7d37dc42b1",
   "metadata": {
    "execution": {
     "iopub.execute_input": "2023-06-12T13:27:47.819408Z",
     "iopub.status.busy": "2023-06-12T13:27:47.819408Z",
     "iopub.status.idle": "2023-06-12T13:27:47.835152Z",
     "shell.execute_reply": "2023-06-12T13:27:47.835152Z",
     "shell.execute_reply.started": "2023-06-12T13:27:47.819408Z"
    }
   },
   "outputs": [
    {
     "data": {
      "text/plain": [
       "72.11163127828071"
      ]
     },
     "execution_count": 65,
     "metadata": {},
     "output_type": "execute_result"
    }
   ],
   "source": [
    "t.ppf(0.95, loc = sample.mean(), scale = sample.std(), df = 999)"
   ]
  },
  {
   "cell_type": "code",
   "execution_count": 47,
   "id": "62c77e9f-f4b7-47c6-a0a0-8ae2144f9708",
   "metadata": {
    "execution": {
     "iopub.execute_input": "2023-06-12T12:49:02.984961Z",
     "iopub.status.busy": "2023-06-12T12:49:02.984961Z",
     "iopub.status.idle": "2023-06-12T12:49:02.999533Z",
     "shell.execute_reply": "2023-06-12T12:49:02.998921Z",
     "shell.execute_reply.started": "2023-06-12T12:49:02.984961Z"
    }
   },
   "outputs": [
    {
     "data": {
      "text/plain": [
       "60.91453961453962"
      ]
     },
     "execution_count": 47,
     "metadata": {},
     "output_type": "execute_result"
    }
   ],
   "source": [
    "# Does the confidence interval enclose the true population mean?\n",
    "\n",
    "pop_mean"
   ]
  },
  {
   "cell_type": "code",
   "execution_count": null,
   "id": "26070f44-e1a2-42d1-b906-a184fef301aa",
   "metadata": {},
   "outputs": [],
   "source": []
  }
 ],
 "metadata": {
  "kernelspec": {
   "display_name": "Python 3 (ipykernel)",
   "language": "python",
   "name": "python3"
  },
  "language_info": {
   "codemirror_mode": {
    "name": "ipython",
    "version": 3
   },
   "file_extension": ".py",
   "mimetype": "text/x-python",
   "name": "python",
   "nbconvert_exporter": "python",
   "pygments_lexer": "ipython3",
   "version": "3.11.3"
  }
 },
 "nbformat": 4,
 "nbformat_minor": 5
}
