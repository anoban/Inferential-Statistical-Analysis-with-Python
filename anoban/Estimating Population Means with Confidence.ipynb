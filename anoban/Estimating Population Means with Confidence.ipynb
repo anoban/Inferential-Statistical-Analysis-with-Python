{
 "cells": [
  {
   "cell_type": "code",
   "execution_count": 1,
   "id": "201bc857-c464-4ba2-b6b7-df5631648a0e",
   "metadata": {
    "execution": {
     "iopub.execute_input": "2023-06-11T08:16:33.193646Z",
     "iopub.status.busy": "2023-06-11T08:16:33.193646Z",
     "iopub.status.idle": "2023-06-11T08:16:34.936206Z",
     "shell.execute_reply": "2023-06-11T08:16:34.935195Z",
     "shell.execute_reply.started": "2023-06-11T08:16:33.193646Z"
    }
   },
   "outputs": [],
   "source": [
    "import numpy as np\n",
    "import pandas as pd\n",
    "import matplotlib.pyplot as plt"
   ]
  },
  {
   "cell_type": "markdown",
   "id": "a4e4f4d6-e8d4-4717-8a7d-71053e3c261a",
   "metadata": {},
   "source": [
    "# ___Estimating Population Means with Confidence___\n",
    "------------------"
   ]
  },
  {
   "cell_type": "code",
   "execution_count": 7,
   "id": "532bc8cd-9709-430c-9d2c-0d368534514f",
   "metadata": {
    "execution": {
     "iopub.execute_input": "2023-06-10T05:30:11.493906Z",
     "iopub.status.busy": "2023-06-10T05:30:11.493906Z",
     "iopub.status.idle": "2023-06-10T05:30:11.533539Z",
     "shell.execute_reply": "2023-06-10T05:30:11.533376Z",
     "shell.execute_reply.started": "2023-06-10T05:30:11.493906Z"
    }
   },
   "outputs": [
    {
     "name": "stdout",
     "output_type": "stream",
     "text": [
      " Volume in drive D has no label.\n",
      " Volume Serial Number is 3A29-3F7E\n",
      "\n",
      " Directory of D:\\Inferential-Statistical-Analysis-with-Python\\data\n",
      "\n",
      "08/06/2023  07:47 pm    <DIR>          .\n",
      "01/06/2023  05:37 am    <DIR>          ..\n",
      "20/05/2023  04:03 pm               866 Cartwheeldata.csv\n",
      "07/06/2023  04:33 pm            17,906 CommonCLZvalues.png\n",
      "01/06/2023  06:34 am         2,581,551 EV_Population_Data.csv\n",
      "20/05/2023  04:03 pm             2,831 nap_no_nap.csv\n",
      "20/05/2023  04:03 pm           762,373 nhanes_2015_2016.csv\n",
      "06/06/2023  04:56 pm         7,224,973 USDA_plants_database.csv\n",
      "               6 File(s)     10,590,500 bytes\n",
      "               2 Dir(s)  148,181,811,200 bytes free\n"
     ]
    }
   ],
   "source": [
    "!dir ..\\data"
   ]
  },
  {
   "cell_type": "raw",
   "id": "5a95b3d8-4203-4064-a8c2-223032388c7f",
   "metadata": {
    "execution": {
     "iopub.execute_input": "2023-06-10T05:39:31.358448Z",
     "iopub.status.busy": "2023-06-10T05:39:31.358448Z",
     "iopub.status.idle": "2023-06-10T05:39:41.935223Z",
     "shell.execute_reply": "2023-06-10T05:39:41.935223Z",
     "shell.execute_reply.started": "2023-06-10T05:39:31.358448Z"
    }
   },
   "source": [
    "metro = pd.read_csv(\"../data/MetroPT3(AirCompressor).csv\").drop([\"Unnamed: 0\", \"COMP\", \"DV_eletric\", \"Towers\", \"MPG\", \"LPS\", \"Pressure_switch\",\n",
    "                                                         \"Oil_level\", \"Caudal_impulses\"], axis = 1)\n",
    "metro.to_csv(\"../data/MetroPT3(AirCompressor).csv\")"
   ]
  },
  {
   "cell_type": "code",
   "execution_count": 2,
   "id": "8f6c23ff-5fdf-403f-9206-974214a079e7",
   "metadata": {
    "execution": {
     "iopub.execute_input": "2023-06-11T08:18:05.934307Z",
     "iopub.status.busy": "2023-06-11T08:18:05.934307Z",
     "iopub.status.idle": "2023-06-11T08:18:06.420441Z",
     "shell.execute_reply": "2023-06-11T08:18:06.419878Z",
     "shell.execute_reply.started": "2023-06-11T08:18:05.934307Z"
    }
   },
   "outputs": [],
   "source": [
    "metro = pd.read_csv(\"../data/MetroPT3(AirCompressor).csv\")"
   ]
  },
  {
   "cell_type": "code",
   "execution_count": 3,
   "id": "8051fb1a-3996-4918-88d7-a46b4f4d03f3",
   "metadata": {
    "execution": {
     "iopub.execute_input": "2023-06-11T08:18:07.239008Z",
     "iopub.status.busy": "2023-06-11T08:18:07.239008Z",
     "iopub.status.idle": "2023-06-11T08:18:07.298457Z",
     "shell.execute_reply": "2023-06-11T08:18:07.298457Z",
     "shell.execute_reply.started": "2023-06-11T08:18:07.239008Z"
    }
   },
   "outputs": [
    {
     "data": {
      "text/html": [
       "<div>\n",
       "<style scoped>\n",
       "    .dataframe tbody tr th:only-of-type {\n",
       "        vertical-align: middle;\n",
       "    }\n",
       "\n",
       "    .dataframe tbody tr th {\n",
       "        vertical-align: top;\n",
       "    }\n",
       "\n",
       "    .dataframe thead th {\n",
       "        text-align: right;\n",
       "    }\n",
       "</style>\n",
       "<table border=\"1\" class=\"dataframe\">\n",
       "  <thead>\n",
       "    <tr style=\"text-align: right;\">\n",
       "      <th></th>\n",
       "      <th>Reservoirs</th>\n",
       "      <th>Oil_temperature</th>\n",
       "      <th>Motor_current</th>\n",
       "    </tr>\n",
       "  </thead>\n",
       "  <tbody>\n",
       "    <tr>\n",
       "      <th>0</th>\n",
       "      <td>9.358</td>\n",
       "      <td>53.600</td>\n",
       "      <td>0.0400</td>\n",
       "    </tr>\n",
       "    <tr>\n",
       "      <th>1</th>\n",
       "      <td>9.348</td>\n",
       "      <td>53.675</td>\n",
       "      <td>0.0400</td>\n",
       "    </tr>\n",
       "    <tr>\n",
       "      <th>2</th>\n",
       "      <td>9.338</td>\n",
       "      <td>53.600</td>\n",
       "      <td>0.0425</td>\n",
       "    </tr>\n",
       "    <tr>\n",
       "      <th>3</th>\n",
       "      <td>9.328</td>\n",
       "      <td>53.425</td>\n",
       "      <td>0.0400</td>\n",
       "    </tr>\n",
       "    <tr>\n",
       "      <th>4</th>\n",
       "      <td>9.318</td>\n",
       "      <td>53.475</td>\n",
       "      <td>0.0400</td>\n",
       "    </tr>\n",
       "    <tr>\n",
       "      <th>...</th>\n",
       "      <td>...</td>\n",
       "      <td>...</td>\n",
       "      <td>...</td>\n",
       "    </tr>\n",
       "    <tr>\n",
       "      <th>1516943</th>\n",
       "      <td>8.918</td>\n",
       "      <td>59.675</td>\n",
       "      <td>0.0425</td>\n",
       "    </tr>\n",
       "    <tr>\n",
       "      <th>1516944</th>\n",
       "      <td>8.904</td>\n",
       "      <td>59.600</td>\n",
       "      <td>0.0450</td>\n",
       "    </tr>\n",
       "    <tr>\n",
       "      <th>1516945</th>\n",
       "      <td>8.892</td>\n",
       "      <td>59.600</td>\n",
       "      <td>0.0425</td>\n",
       "    </tr>\n",
       "    <tr>\n",
       "      <th>1516946</th>\n",
       "      <td>8.878</td>\n",
       "      <td>59.550</td>\n",
       "      <td>0.0450</td>\n",
       "    </tr>\n",
       "    <tr>\n",
       "      <th>1516947</th>\n",
       "      <td>8.864</td>\n",
       "      <td>59.475</td>\n",
       "      <td>0.0425</td>\n",
       "    </tr>\n",
       "  </tbody>\n",
       "</table>\n",
       "<p>1516948 rows × 3 columns</p>\n",
       "</div>"
      ],
      "text/plain": [
       "         Reservoirs  Oil_temperature  Motor_current\n",
       "0             9.358           53.600         0.0400\n",
       "1             9.348           53.675         0.0400\n",
       "2             9.338           53.600         0.0425\n",
       "3             9.328           53.425         0.0400\n",
       "4             9.318           53.475         0.0400\n",
       "...             ...              ...            ...\n",
       "1516943       8.918           59.675         0.0425\n",
       "1516944       8.904           59.600         0.0450\n",
       "1516945       8.892           59.600         0.0425\n",
       "1516946       8.878           59.550         0.0450\n",
       "1516947       8.864           59.475         0.0425\n",
       "\n",
       "[1516948 rows x 3 columns]"
      ]
     },
     "execution_count": 3,
     "metadata": {},
     "output_type": "execute_result"
    }
   ],
   "source": [
    "metro"
   ]
  },
  {
   "cell_type": "code",
   "execution_count": 4,
   "id": "c1b11d70-c9e2-4535-9cb0-07e650f65382",
   "metadata": {
    "execution": {
     "iopub.execute_input": "2023-06-11T08:18:11.544696Z",
     "iopub.status.busy": "2023-06-11T08:18:11.544696Z",
     "iopub.status.idle": "2023-06-11T08:18:11.564246Z",
     "shell.execute_reply": "2023-06-11T08:18:11.563679Z",
     "shell.execute_reply.started": "2023-06-11T08:18:11.544696Z"
    }
   },
   "outputs": [
    {
     "data": {
      "text/plain": [
       "(1516948, 3)"
      ]
     },
     "execution_count": 4,
     "metadata": {},
     "output_type": "execute_result"
    }
   ],
   "source": [
    "metro.shape"
   ]
  },
  {
   "cell_type": "code",
   "execution_count": 5,
   "id": "829c0525-0528-472b-9763-39f6b02c2dd9",
   "metadata": {
    "execution": {
     "iopub.execute_input": "2023-06-11T08:18:12.989223Z",
     "iopub.status.busy": "2023-06-11T08:18:12.989223Z",
     "iopub.status.idle": "2023-06-11T08:18:13.009912Z",
     "shell.execute_reply": "2023-06-11T08:18:13.009912Z",
     "shell.execute_reply.started": "2023-06-11T08:18:12.989223Z"
    }
   },
   "outputs": [
    {
     "data": {
      "text/plain": [
       "62.64418173859618"
      ]
     },
     "execution_count": 5,
     "metadata": {},
     "output_type": "execute_result"
    }
   ],
   "source": [
    "# Mean oil temperature (population)\n",
    "\n",
    "pop_mean = metro.Oil_temperature.mean()\n",
    "pop_mean"
   ]
  },
  {
   "cell_type": "code",
   "execution_count": 6,
   "id": "302a4eb1-96c6-483f-950a-1cf18cd9c60e",
   "metadata": {
    "execution": {
     "iopub.execute_input": "2023-06-11T08:18:14.150937Z",
     "iopub.status.busy": "2023-06-11T08:18:14.150937Z",
     "iopub.status.idle": "2023-06-11T08:18:14.438967Z",
     "shell.execute_reply": "2023-06-11T08:18:14.438967Z",
     "shell.execute_reply.started": "2023-06-11T08:18:14.150937Z"
    }
   },
   "outputs": [
    {
     "data": {
      "image/png": "[encoded data removed]",
      "text/plain": [
       "<Figure size 640x480 with 1 Axes>"
      ]
     },
     "metadata": {},
     "output_type": "display_data"
    }
   ],
   "source": [
    "fig, axes = plt.subplots()\n",
    "axes.hist(metro.Oil_temperature, bins = 100, rwidth = 0.9, color = \"red\")\n",
    "plt.show()"
   ]
  },
  {
   "cell_type": "code",
   "execution_count": 40,
   "id": "bde53323-e602-4b82-8578-a796b7829a39",
   "metadata": {
    "execution": {
     "iopub.execute_input": "2023-06-10T05:51:28.474029Z",
     "iopub.status.busy": "2023-06-10T05:51:28.474029Z",
     "iopub.status.idle": "2023-06-10T05:51:28.516941Z",
     "shell.execute_reply": "2023-06-10T05:51:28.516285Z",
     "shell.execute_reply.started": "2023-06-10T05:51:28.474029Z"
    }
   },
   "outputs": [
    {
     "data": {
      "text/plain": [
       "(15.400000000000006, 62.7, 89.05000000000001)"
      ]
     },
     "execution_count": 40,
     "metadata": {},
     "output_type": "execute_result"
    }
   ],
   "source": [
    "metro.Oil_temperature.min(), metro.Oil_temperature.median(), metro.Oil_temperature.max()"
   ]
  },
  {
   "cell_type": "code",
   "execution_count": 44,
   "id": "63876550-276b-4e6b-9a36-77a79751471b",
   "metadata": {
    "execution": {
     "iopub.execute_input": "2023-06-10T05:53:20.511547Z",
     "iopub.status.busy": "2023-06-10T05:53:20.511547Z",
     "iopub.status.idle": "2023-06-10T05:53:20.580715Z",
     "shell.execute_reply": "2023-06-10T05:53:20.580715Z",
     "shell.execute_reply.started": "2023-06-10T05:53:20.511547Z"
    }
   },
   "outputs": [],
   "source": [
    "quantiles = [0.1, 0.2, 0.25, 0.3, 0.4, 0.5, 0.6, 0.7, 0.75, 0.8, 0.9, 1]\n",
    "quant_vals = np.quantile(metro.Oil_temperature, q = quantiles)\n",
    "bins = [(metro.Oil_temperature <= qval).sum() for qval in quant_vals]"
   ]
  },
  {
   "cell_type": "code",
   "execution_count": 48,
   "id": "3510f858-bdd4-4d24-b471-b4754603b108",
   "metadata": {
    "execution": {
     "iopub.execute_input": "2023-06-10T05:55:39.747899Z",
     "iopub.status.busy": "2023-06-10T05:55:39.747899Z",
     "iopub.status.idle": "2023-06-10T05:55:39.867648Z",
     "shell.execute_reply": "2023-06-10T05:55:39.867648Z",
     "shell.execute_reply.started": "2023-06-10T05:55:39.747899Z"
    }
   },
   "outputs": [
    {
     "data": {
      "image/png": "[encoded data removed]",
      "text/plain": [
       "<Figure size 640x480 with 1 Axes>"
      ]
     },
     "metadata": {},
     "output_type": "display_data"
    }
   ],
   "source": [
    "fig, axes = plt.subplots()\n",
    "axes.scatter(quantiles, bins, color = \"red\")\n",
    "axes.set_xlabel(\"Quantile\")\n",
    "axes.set_ylabel(\"Count\")\n",
    "plt.show()"
   ]
  },
  {
   "cell_type": "code",
   "execution_count": 49,
   "id": "cd91fcf1-f378-4dcb-9ff6-658f8d579dcf",
   "metadata": {
    "execution": {
     "iopub.execute_input": "2023-06-10T05:56:17.726145Z",
     "iopub.status.busy": "2023-06-10T05:56:17.726145Z",
     "iopub.status.idle": "2023-06-10T05:56:17.787261Z",
     "shell.execute_reply": "2023-06-10T05:56:17.787261Z",
     "shell.execute_reply.started": "2023-06-10T05:56:17.726145Z"
    }
   },
   "outputs": [
    {
     "data": {
      "text/plain": [
       "count    1.516948e+06\n",
       "mean     6.264418e+01\n",
       "std      6.516261e+00\n",
       "min      1.540000e+01\n",
       "25%      5.777500e+01\n",
       "50%      6.270000e+01\n",
       "75%      6.725000e+01\n",
       "max      8.905000e+01\n",
       "Name: Oil_temperature, dtype: float64"
      ]
     },
     "execution_count": 49,
     "metadata": {},
     "output_type": "execute_result"
    }
   ],
   "source": [
    "metro.Oil_temperature.describe()"
   ]
  },
  {
   "cell_type": "code",
   "execution_count": 14,
   "id": "6e3e2f91-542c-4a65-a25b-adcff3fa3de1",
   "metadata": {
    "execution": {
     "iopub.execute_input": "2023-06-10T13:21:26.637377Z",
     "iopub.status.busy": "2023-06-10T13:21:26.637377Z",
     "iopub.status.idle": "2023-06-10T13:21:26.694203Z",
     "shell.execute_reply": "2023-06-10T13:21:26.694203Z",
     "shell.execute_reply.started": "2023-06-10T13:21:26.637377Z"
    }
   },
   "outputs": [
    {
     "data": {
      "text/plain": [
       "62.503825"
      ]
     },
     "execution_count": 14,
     "metadata": {},
     "output_type": "execute_result"
    }
   ],
   "source": [
    "# Lets make a sample of size 10,000\n",
    "\n",
    "sample = metro.Oil_temperature[np.random.randint(0, metro.Oil_temperature.size, size = 1000)]\n",
    "sample.mean()"
   ]
  },
  {
   "cell_type": "code",
   "execution_count": 15,
   "id": "04746d51-8a4d-4095-9185-e679065f4125",
   "metadata": {
    "execution": {
     "iopub.execute_input": "2023-06-10T13:21:27.498963Z",
     "iopub.status.busy": "2023-06-10T13:21:27.498963Z",
     "iopub.status.idle": "2023-06-10T13:21:27.515711Z",
     "shell.execute_reply": "2023-06-10T13:21:27.515026Z",
     "shell.execute_reply.started": "2023-06-10T13:21:27.498963Z"
    }
   },
   "outputs": [
    {
     "data": {
      "text/plain": [
       "62.64418173859618"
      ]
     },
     "execution_count": 15,
     "metadata": {},
     "output_type": "execute_result"
    }
   ],
   "source": [
    "pop_mean"
   ]
  },
  {
   "cell_type": "code",
   "execution_count": 16,
   "id": "395828dd-044a-4394-82b0-79a82bb61f54",
   "metadata": {
    "execution": {
     "iopub.execute_input": "2023-06-10T13:21:28.222225Z",
     "iopub.status.busy": "2023-06-10T13:21:28.222225Z",
     "iopub.status.idle": "2023-06-10T13:21:28.236859Z",
     "shell.execute_reply": "2023-06-10T13:21:28.236859Z",
     "shell.execute_reply.started": "2023-06-10T13:21:28.222225Z"
    }
   },
   "outputs": [
    {
     "name": "stdout",
     "output_type": "stream",
     "text": [
      "Sample size as a fraction of population size: 0.000659218377953628\n"
     ]
    }
   ],
   "source": [
    "print(f\"Sample size as a fraction of population size: {1000 / metro.Oil_temperature.size}\")"
   ]
  },
  {
   "cell_type": "code",
   "execution_count": null,
   "id": "33cacf6e-29ef-4e7a-a391-5bb26a470849",
   "metadata": {},
   "outputs": [],
   "source": []
  },
  {
   "cell_type": "code",
   "execution_count": 17,
   "id": "b0d61b64-f722-4aa9-b6ad-5cade24077f1",
   "metadata": {
    "execution": {
     "iopub.execute_input": "2023-06-10T13:21:32.129374Z",
     "iopub.status.busy": "2023-06-10T13:21:32.129374Z",
     "iopub.status.idle": "2023-06-10T13:21:35.786561Z",
     "shell.execute_reply": "2023-06-10T13:21:35.785962Z",
     "shell.execute_reply.started": "2023-06-10T13:21:32.129374Z"
    }
   },
   "outputs": [],
   "source": [
    "# Distribution of the sample means. => 10,000 samples of size 1,000\n",
    "\n",
    "smeans = []\n",
    "for _ in range(10000):\n",
    "    smeans.append(metro.Oil_temperature[np.random.randint(0, metro.Oil_temperature.size, size = 1000)].mean())"
   ]
  },
  {
   "cell_type": "code",
   "execution_count": 18,
   "id": "0a21ac3f-576e-43b1-8206-9d399f7bd3d5",
   "metadata": {
    "execution": {
     "iopub.execute_input": "2023-06-10T13:21:37.860611Z",
     "iopub.status.busy": "2023-06-10T13:21:37.860611Z",
     "iopub.status.idle": "2023-06-10T13:21:38.094271Z",
     "shell.execute_reply": "2023-06-10T13:21:38.094271Z",
     "shell.execute_reply.started": "2023-06-10T13:21:37.860611Z"
    }
   },
   "outputs": [
    {
     "data": {
      "image/png": "[encoded data removed]",
      "text/plain": [
       "<Figure size 640x480 with 1 Axes>"
      ]
     },
     "metadata": {},
     "output_type": "display_data"
    }
   ],
   "source": [
    "fig, axes = plt.subplots()\n",
    "axes.hist(smeans, bins = 100, rwidth = 0.9, color = \"red\")\n",
    "plt.show()"
   ]
  },
  {
   "cell_type": "code",
   "execution_count": 28,
   "id": "1dba89c8-89f3-494b-8580-b21f9ad5c6b6",
   "metadata": {
    "execution": {
     "iopub.execute_input": "2023-06-10T14:08:17.154778Z",
     "iopub.status.busy": "2023-06-10T14:08:17.154778Z",
     "iopub.status.idle": "2023-06-10T14:08:17.161630Z",
     "shell.execute_reply": "2023-06-10T14:08:17.161630Z",
     "shell.execute_reply.started": "2023-06-10T14:08:17.154778Z"
    }
   },
   "outputs": [],
   "source": [
    "# Even if the population is skewed (either right or left skewed, the distrbution of the sample metric (mean) needs to be normal)\n",
    "# To ensure this, we must make sure that our samples are large enough.\n",
    "\n",
    "# Sample sizes for skewed populations need to be larger compared to samples taken from normal populations."
   ]
  },
  {
   "cell_type": "code",
   "execution_count": 20,
   "id": "d2844e21-bb35-462e-bb0d-0a9016d89ac0",
   "metadata": {
    "execution": {
     "iopub.execute_input": "2023-06-10T13:21:41.922079Z",
     "iopub.status.busy": "2023-06-10T13:21:41.922079Z",
     "iopub.status.idle": "2023-06-10T13:21:41.937989Z",
     "shell.execute_reply": "2023-06-10T13:21:41.936980Z",
     "shell.execute_reply.started": "2023-06-10T13:21:41.922079Z"
    }
   },
   "outputs": [],
   "source": [
    "# Expect a right skewed distribution\n",
    "\n",
    "skewed_pop = np.random.randint(0, 100, size = 100)\n",
    "skewed_pop = np.append(skewed_pop, np.random.randint(0, 20, size = 100))"
   ]
  },
  {
   "cell_type": "code",
   "execution_count": 21,
   "id": "da06741c-4cc7-4d32-8fe8-cf1c036edf40",
   "metadata": {
    "execution": {
     "iopub.execute_input": "2023-06-10T13:21:43.174544Z",
     "iopub.status.busy": "2023-06-10T13:21:43.173504Z",
     "iopub.status.idle": "2023-06-10T13:21:43.316304Z",
     "shell.execute_reply": "2023-06-10T13:21:43.316304Z",
     "shell.execute_reply.started": "2023-06-10T13:21:43.174544Z"
    }
   },
   "outputs": [
    {
     "data": {
      "image/png": "[encoded data removed]",
      "text/plain": [
       "<Figure size 640x480 with 1 Axes>"
      ]
     },
     "metadata": {},
     "output_type": "display_data"
    }
   ],
   "source": [
    "fig, axes = plt.subplots()\n",
    "axes.hist(skewed_pop, bins = 100, rwidth = 0.9, color = \"red\")\n",
    "plt.show()"
   ]
  },
  {
   "cell_type": "code",
   "execution_count": 22,
   "id": "d41c934c-05ad-4ea1-86ad-52be2f34c854",
   "metadata": {
    "execution": {
     "iopub.execute_input": "2023-06-10T13:21:45.559536Z",
     "iopub.status.busy": "2023-06-10T13:21:45.559536Z",
     "iopub.status.idle": "2023-06-10T13:21:45.629570Z",
     "shell.execute_reply": "2023-06-10T13:21:45.629570Z",
     "shell.execute_reply.started": "2023-06-10T13:21:45.559536Z"
    }
   },
   "outputs": [],
   "source": [
    "skew_means = []\n",
    "\n",
    "for _ in range(1000):\n",
    "    skew_means.append(np.random.choice(skewed_pop, size = 20).mean())"
   ]
  },
  {
   "cell_type": "code",
   "execution_count": 23,
   "id": "81f4d4d9-9dc0-4bdb-9c61-9f91fa8190fe",
   "metadata": {
    "execution": {
     "iopub.execute_input": "2023-06-10T13:21:46.210391Z",
     "iopub.status.busy": "2023-06-10T13:21:46.210391Z",
     "iopub.status.idle": "2023-06-10T13:21:46.356522Z",
     "shell.execute_reply": "2023-06-10T13:21:46.356522Z",
     "shell.execute_reply.started": "2023-06-10T13:21:46.210391Z"
    }
   },
   "outputs": [
    {
     "data": {
      "image/png": "[encoded data removed]",
      "text/plain": [
       "<Figure size 640x480 with 1 Axes>"
      ]
     },
     "metadata": {},
     "output_type": "display_data"
    }
   ],
   "source": [
    "# We still get a bell shaped curve.\n",
    "\n",
    "fig, axes = plt.subplots()\n",
    "axes.hist(skew_means, bins = 100, rwidth = 0.9, color = \"red\")\n",
    "axes.vlines(x = skewed_pop.mean(), ymin = -5, ymax = 40, color = \"green\")\n",
    "plt.show()"
   ]
  },
  {
   "cell_type": "code",
   "execution_count": 24,
   "id": "4588f078-9c09-489f-b4b2-48fdb6ac6b15",
   "metadata": {
    "execution": {
     "iopub.execute_input": "2023-06-10T13:47:31.803975Z",
     "iopub.status.busy": "2023-06-10T13:47:31.803975Z",
     "iopub.status.idle": "2023-06-10T13:47:31.818928Z",
     "shell.execute_reply": "2023-06-10T13:47:31.818928Z",
     "shell.execute_reply.started": "2023-06-10T13:47:31.803975Z"
    }
   },
   "outputs": [
    {
     "data": {
      "text/plain": [
       "62.64418173859618"
      ]
     },
     "execution_count": 24,
     "metadata": {},
     "output_type": "execute_result"
    }
   ],
   "source": [
    "# Population mean \n",
    "\n",
    "metro.Oil_temperature.mean()"
   ]
  },
  {
   "cell_type": "code",
   "execution_count": 26,
   "id": "44efdd89-85fe-4bc4-b888-e7ed3bdf14ff",
   "metadata": {
    "execution": {
     "iopub.execute_input": "2023-06-10T13:52:00.927327Z",
     "iopub.status.busy": "2023-06-10T13:52:00.927327Z",
     "iopub.status.idle": "2023-06-10T13:52:00.935962Z",
     "shell.execute_reply": "2023-06-10T13:52:00.935431Z",
     "shell.execute_reply.started": "2023-06-10T13:52:00.927327Z"
    }
   },
   "outputs": [
    {
     "data": {
      "text/plain": [
       "62.57483249999999"
      ]
     },
     "execution_count": 26,
     "metadata": {},
     "output_type": "execute_result"
    }
   ],
   "source": [
    "# Sample mean (a random sample of 10,000)\n",
    "\n",
    "metro.Oil_temperature[np.random.randint(0, metro.Oil_temperature.size, size = 10000)].mean()"
   ]
  },
  {
   "cell_type": "code",
   "execution_count": 27,
   "id": "6f8f077a-f253-4d85-80d0-6459c8034ee1",
   "metadata": {
    "execution": {
     "iopub.execute_input": "2023-06-10T14:05:46.510521Z",
     "iopub.status.busy": "2023-06-10T14:05:46.510521Z",
     "iopub.status.idle": "2023-06-10T14:05:46.516962Z",
     "shell.execute_reply": "2023-06-10T14:05:46.516962Z",
     "shell.execute_reply.started": "2023-06-10T14:05:46.510521Z"
    }
   },
   "outputs": [],
   "source": [
    "# However, the sample mean will vary with each sample.\n",
    "# The value won't be consistent throughout all the sampling attempts."
   ]
  },
  {
   "cell_type": "markdown",
   "id": "9e5a564e-b99c-48d4-839f-e355da95b555",
   "metadata": {},
   "source": [
    "# ___$standard~error~of~\\mu = \\frac{\\sigma}{\\sqrt{n}}$___"
   ]
  },
  {
   "cell_type": "code",
   "execution_count": 29,
   "id": "a943fd65-3461-4eb0-8826-654fb2293304",
   "metadata": {
    "execution": {
     "iopub.execute_input": "2023-06-10T14:14:38.527701Z",
     "iopub.status.busy": "2023-06-10T14:14:38.527701Z",
     "iopub.status.idle": "2023-06-10T14:14:38.545704Z",
     "shell.execute_reply": "2023-06-10T14:14:38.545704Z",
     "shell.execute_reply.started": "2023-06-10T14:14:38.527701Z"
    }
   },
   "outputs": [],
   "source": [
    "# sigma => standard deviation of population (POPULATION not sample)\n",
    "# n => sample size\n",
    "# mu => sample mean"
   ]
  },
  {
   "cell_type": "code",
   "execution_count": null,
   "id": "b9c84401-fa6a-46f2-a3ca-f5bc9362b565",
   "metadata": {},
   "outputs": [],
   "source": [
    "# The larger the sample size, the smaller the standard error will be.\n",
    "# The problem with this approach is that we could never calculate the population's standard deviation (at least in real world settings)\n",
    "# If we can compute the population "
   ]
  }
 ],
 "metadata": {
  "kernelspec": {
   "display_name": "Python 3 (ipykernel)",
   "language": "python",
   "name": "python3"
  },
  "language_info": {
   "codemirror_mode": {
    "name": "ipython",
    "version": 3
   },
   "file_extension": ".py",
   "mimetype": "text/x-python",
   "name": "python",
   "nbconvert_exporter": "python",
   "pygments_lexer": "ipython3",
   "version": "3.11.3"
  }
 },
 "nbformat": 4,
 "nbformat_minor": 5
}
