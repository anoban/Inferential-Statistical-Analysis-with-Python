{
 "cells": [
  {
   "cell_type": "code",
   "execution_count": 4,
   "id": "737a7121-bc46-4589-afbb-e8b6a532a2cc",
   "metadata": {
    "execution": {
     "iopub.execute_input": "2023-06-13T12:03:53.581857Z",
     "iopub.status.busy": "2023-06-13T12:03:53.581857Z",
     "iopub.status.idle": "2023-06-13T12:03:53.588309Z",
     "shell.execute_reply": "2023-06-13T12:03:53.588309Z",
     "shell.execute_reply.started": "2023-06-13T12:03:53.581857Z"
    }
   },
   "outputs": [],
   "source": [
    "import numpy as np\n",
    "np.random.seed(2023 - 6 - 13)\n",
    "import pandas as pd\n",
    "import matplotlib.pyplot as plt"
   ]
  },
  {
   "cell_type": "markdown",
   "id": "e03fc818-46c7-4933-9521-19dbc6f053d9",
   "metadata": {},
   "source": [
    "# ___Estimating a Mean Difference for Paired Data___\n",
    "-----------------"
   ]
  },
  {
   "cell_type": "code",
   "execution_count": 5,
   "id": "a171df9b-ab71-4fe4-a506-582848f2985e",
   "metadata": {
    "execution": {
     "iopub.execute_input": "2023-06-13T12:41:07.142224Z",
     "iopub.status.busy": "2023-06-13T12:41:07.142224Z",
     "iopub.status.idle": "2023-06-13T12:41:07.148741Z",
     "shell.execute_reply": "2023-06-13T12:41:07.148741Z",
     "shell.execute_reply.started": "2023-06-13T12:41:07.142224Z"
    }
   },
   "outputs": [],
   "source": [
    "# Paired data =>\n",
    "# A type of data that records/measures the a characteristic of a pair of related entities.\n",
    "# These records won't make much sense when looked at alone.\n",
    "\n",
    "# e.g. education levels of twins\n",
    "# e.g. number of fingers in the left and right hands of an individual."
   ]
  },
  {
   "cell_type": "code",
   "execution_count": 6,
   "id": "560f2269-7bf9-4178-a34b-ff39edd3d2f2",
   "metadata": {
    "execution": {
     "iopub.execute_input": "2023-06-13T12:42:13.207018Z",
     "iopub.status.busy": "2023-06-13T12:42:13.207018Z",
     "iopub.status.idle": "2023-06-13T12:42:13.211427Z",
     "shell.execute_reply": "2023-06-13T12:42:13.211355Z",
     "shell.execute_reply.started": "2023-06-13T12:42:13.207018Z"
    }
   },
   "outputs": [],
   "source": [
    "# Consider a survey of educational levels of identical twins.\n",
    "# Education levels are ranked as a categorical ordinal values."
   ]
  },
  {
   "cell_type": "code",
   "execution_count": 27,
   "id": "beb6268e-bd32-4e67-8a55-8105a7fd7867",
   "metadata": {
    "execution": {
     "iopub.execute_input": "2023-06-13T12:56:43.300412Z",
     "iopub.status.busy": "2023-06-13T12:56:43.300412Z",
     "iopub.status.idle": "2023-06-13T12:56:43.308639Z",
     "shell.execute_reply": "2023-06-13T12:56:43.308639Z",
     "shell.execute_reply.started": "2023-06-13T12:56:43.300412Z"
    }
   },
   "outputs": [],
   "source": [
    "# Q: What is the average difference between the education levels of twins?\n",
    "\n",
    "twin_1 = np.random.randint(low = 0, high = 10, size = 100_000)\n",
    "twin_2 = np.random.randint(low = 4, high = 8, size = 100_000) + np.random.normal(loc = 0, scale = .75, size = 100_000)"
   ]
  },
  {
   "cell_type": "code",
   "execution_count": null,
   "id": "c015a4e4-0fd2-4d1f-bc5a-a326b3ad8f8f",
   "metadata": {},
   "outputs": [],
   "source": []
  },
  {
   "cell_type": "code",
   "execution_count": null,
   "id": "79b4189f-46fd-4e31-b755-a776e28d85f6",
   "metadata": {},
   "outputs": [],
   "source": [
    "# Population -> All identical twins.\n",
    "# Parameter of interest -> Mean of the population of differences between twin education levels."
   ]
  }
 ],
 "metadata": {
  "kernelspec": {
   "display_name": "Python 3 (ipykernel)",
   "language": "python",
   "name": "python3"
  },
  "language_info": {
   "codemirror_mode": {
    "name": "ipython",
    "version": 3
   },
   "file_extension": ".py",
   "mimetype": "text/x-python",
   "name": "python",
   "nbconvert_exporter": "python",
   "pygments_lexer": "ipython3",
   "version": "3.11.4"
  }
 },
 "nbformat": 4,
 "nbformat_minor": 5
}
