{
 "cells": [
  {
   "cell_type": "code",
   "execution_count": 1,
   "id": "737a7121-bc46-4589-afbb-e8b6a532a2cc",
   "metadata": {
    "execution": {
     "iopub.execute_input": "2023-06-14T12:10:50.651794Z",
     "iopub.status.busy": "2023-06-14T12:10:50.651794Z",
     "iopub.status.idle": "2023-06-14T12:10:51.334181Z",
     "shell.execute_reply": "2023-06-14T12:10:51.334181Z",
     "shell.execute_reply.started": "2023-06-14T12:10:50.651794Z"
    }
   },
   "outputs": [],
   "source": [
    "import numpy as np\n",
    "np.random.seed(2023 - 6 - 13)\n",
    "import pandas as pd\n",
    "import matplotlib.pyplot as plt"
   ]
  },
  {
   "cell_type": "markdown",
   "id": "e03fc818-46c7-4933-9521-19dbc6f053d9",
   "metadata": {},
   "source": [
    "# ___Estimating a Mean Difference for Paired Data___\n",
    "-----------------"
   ]
  },
  {
   "cell_type": "code",
   "execution_count": 5,
   "id": "a171df9b-ab71-4fe4-a506-582848f2985e",
   "metadata": {
    "execution": {
     "iopub.execute_input": "2023-06-13T12:41:07.142224Z",
     "iopub.status.busy": "2023-06-13T12:41:07.142224Z",
     "iopub.status.idle": "2023-06-13T12:41:07.148741Z",
     "shell.execute_reply": "2023-06-13T12:41:07.148741Z",
     "shell.execute_reply.started": "2023-06-13T12:41:07.142224Z"
    }
   },
   "outputs": [],
   "source": [
    "# Paired data =>\n",
    "# A type of data that records/measures the a characteristic of a pair of related entities.\n",
    "# These records won't make much sense when looked at alone.\n",
    "\n",
    "# e.g. education levels of twins\n",
    "# e.g. number of fingers in the left and right hands of an individual.\n",
    "# e.g. ages of couples."
   ]
  },
  {
   "cell_type": "code",
   "execution_count": 6,
   "id": "560f2269-7bf9-4178-a34b-ff39edd3d2f2",
   "metadata": {
    "execution": {
     "iopub.execute_input": "2023-06-13T12:42:13.207018Z",
     "iopub.status.busy": "2023-06-13T12:42:13.207018Z",
     "iopub.status.idle": "2023-06-13T12:42:13.211427Z",
     "shell.execute_reply": "2023-06-13T12:42:13.211355Z",
     "shell.execute_reply.started": "2023-06-13T12:42:13.207018Z"
    }
   },
   "outputs": [],
   "source": [
    "# Consider a survey of educational levels of identical twins.\n",
    "# Education levels are ranked as a categorical ordinal values."
   ]
  },
  {
   "cell_type": "code",
   "execution_count": 26,
   "id": "beb6268e-bd32-4e67-8a55-8105a7fd7867",
   "metadata": {
    "execution": {
     "iopub.execute_input": "2023-06-14T12:28:31.120711Z",
     "iopub.status.busy": "2023-06-14T12:28:31.120711Z",
     "iopub.status.idle": "2023-06-14T12:28:31.134972Z",
     "shell.execute_reply": "2023-06-14T12:28:31.134972Z",
     "shell.execute_reply.started": "2023-06-14T12:28:31.120711Z"
    }
   },
   "outputs": [],
   "source": [
    "# Q: What is the average difference between the education levels of twins?\n",
    "\n",
    "twin_1 = np.random.randint(low = 0, high = 10, size = 100_000)\n",
    "twin_2 = np.random.randint(low = 4, high = 8, size = 100_000) + np.random.normal(loc = 1, scale = 1.75, size = 100_000)\n",
    "twin_2 = np.asarray(twin_2, dtype = np.int64)"
   ]
  },
  {
   "cell_type": "code",
   "execution_count": null,
   "id": "c015a4e4-0fd2-4d1f-bc5a-a326b3ad8f8f",
   "metadata": {},
   "outputs": [],
   "source": []
  },
  {
   "cell_type": "code",
   "execution_count": 27,
   "id": "79b4189f-46fd-4e31-b755-a776e28d85f6",
   "metadata": {
    "execution": {
     "iopub.execute_input": "2023-06-14T12:28:32.438505Z",
     "iopub.status.busy": "2023-06-14T12:28:32.438505Z",
     "iopub.status.idle": "2023-06-14T12:28:32.444845Z",
     "shell.execute_reply": "2023-06-14T12:28:32.444326Z",
     "shell.execute_reply.started": "2023-06-14T12:28:32.438505Z"
    }
   },
   "outputs": [],
   "source": [
    "# Population -> All identical twins.\n",
    "# Parameter of interest -> Mean of the population of differences between twin education levels. \n",
    "# i.e how higher is the twin 1's education compared to twin 2's education.\n",
    "\n",
    "# difference metrics are notated with a subscript d"
   ]
  },
  {
   "cell_type": "markdown",
   "id": "def93824-0753-4c5f-9472-7ec50ad73cb4",
   "metadata": {},
   "source": [
    "# ___$\\mu_d = \\mu_{twin_1} - \\mu_{twin_2}$___"
   ]
  },
  {
   "cell_type": "code",
   "execution_count": 28,
   "id": "d7cce2c4-ace8-4105-962d-4c56fd6605d6",
   "metadata": {
    "execution": {
     "iopub.execute_input": "2023-06-14T12:28:33.284221Z",
     "iopub.status.busy": "2023-06-14T12:28:33.284221Z",
     "iopub.status.idle": "2023-06-14T12:28:33.304920Z",
     "shell.execute_reply": "2023-06-14T12:28:33.304920Z",
     "shell.execute_reply.started": "2023-06-14T12:28:33.284221Z"
    }
   },
   "outputs": [
    {
     "data": {
      "text/plain": [
       "-1.49199"
      ]
     },
     "execution_count": 28,
     "metadata": {},
     "output_type": "execute_result"
    }
   ],
   "source": [
    "# Population mean difference (true)\n",
    "\n",
    "pop_diff = twin_1 - twin_2\n",
    "pop_diff.mean()"
   ]
  },
  {
   "cell_type": "code",
   "execution_count": 29,
   "id": "977a2d22-b2a6-40dc-bebc-e0c8213b605b",
   "metadata": {
    "execution": {
     "iopub.execute_input": "2023-06-14T12:28:36.769091Z",
     "iopub.status.busy": "2023-06-14T12:28:36.769091Z",
     "iopub.status.idle": "2023-06-14T12:28:36.889760Z",
     "shell.execute_reply": "2023-06-14T12:28:36.889760Z",
     "shell.execute_reply.started": "2023-06-14T12:28:36.769091Z"
    }
   },
   "outputs": [
    {
     "data": {
      "image/png": "[encoded data removed]",
      "text/plain": [
       "<Figure size 600x600 with 1 Axes>"
      ]
     },
     "metadata": {},
     "output_type": "display_data"
    }
   ],
   "source": [
    "fig, axes = plt.subplots()\n",
    "fig.set_size_inches(6, 6)\n",
    "axes.hist(pop_diff, bins = 10, color = \"red\", rwidth = 0.9)\n",
    "plt.show()"
   ]
  },
  {
   "cell_type": "code",
   "execution_count": 33,
   "id": "f7c3adde-25dd-4343-84c9-7e95c7a9e0c0",
   "metadata": {
    "execution": {
     "iopub.execute_input": "2023-06-14T12:29:41.152049Z",
     "iopub.status.busy": "2023-06-14T12:29:41.152049Z",
     "iopub.status.idle": "2023-06-14T12:29:41.278977Z",
     "shell.execute_reply": "2023-06-14T12:29:41.278977Z",
     "shell.execute_reply.started": "2023-06-14T12:29:41.152049Z"
    }
   },
   "outputs": [
    {
     "data": {
      "image/png": "[encoded data removed]",
      "text/plain": [
       "<Figure size 600x600 with 1 Axes>"
      ]
     },
     "metadata": {},
     "output_type": "display_data"
    }
   ],
   "source": [
    "# Let's make a sample of size 1,000\n",
    "\n",
    "sample = pop_diff[np.random.randint(low = 0, high = pop_diff.size, size = 1000)]\n",
    "\n",
    "fig, axes = plt.subplots()\n",
    "fig.set_size_inches(6, 6)\n",
    "axes.hist(sample, bins = 10, color = \"red\", rwidth = 0.9)\n",
    "plt.show()"
   ]
  },
  {
   "cell_type": "code",
   "execution_count": 34,
   "id": "563d7e91-6a14-46af-8464-2e8fa79906d7",
   "metadata": {
    "execution": {
     "iopub.execute_input": "2023-06-14T12:30:17.218242Z",
     "iopub.status.busy": "2023-06-14T12:30:17.218242Z",
     "iopub.status.idle": "2023-06-14T12:30:17.239738Z",
     "shell.execute_reply": "2023-06-14T12:30:17.239738Z",
     "shell.execute_reply.started": "2023-06-14T12:30:17.218242Z"
    }
   },
   "outputs": [
    {
     "name": "stdout",
     "output_type": "stream",
     "text": [
      "Max @ 8.0000, Min @ -11.0000\n"
     ]
    }
   ],
   "source": [
    "# We have a sample of size 1,000\n",
    "# And the histogram shows a peak near 0.\n",
    "\n",
    "print(f\"Max @ {sample.max():.4f}, Min @ {sample.min():.4f}\")"
   ]
  },
  {
   "cell_type": "code",
   "execution_count": 35,
   "id": "4b8da944-6666-4eb9-8877-bb982ffa5bbf",
   "metadata": {
    "execution": {
     "iopub.execute_input": "2023-06-14T12:30:37.072305Z",
     "iopub.status.busy": "2023-06-14T12:30:37.072305Z",
     "iopub.status.idle": "2023-06-14T12:30:37.080842Z",
     "shell.execute_reply": "2023-06-14T12:30:37.080313Z",
     "shell.execute_reply.started": "2023-06-14T12:30:37.072305Z"
    }
   },
   "outputs": [
    {
     "data": {
      "text/plain": [
       "-1.337"
      ]
     },
     "execution_count": 35,
     "metadata": {},
     "output_type": "execute_result"
    }
   ],
   "source": [
    "sample.mean()"
   ]
  },
  {
   "cell_type": "code",
   "execution_count": 36,
   "id": "91404177-4c13-4d63-bd9a-501fb8e853e2",
   "metadata": {
    "execution": {
     "iopub.execute_input": "2023-06-14T12:30:41.689500Z",
     "iopub.status.busy": "2023-06-14T12:30:41.689500Z",
     "iopub.status.idle": "2023-06-14T12:30:41.698090Z",
     "shell.execute_reply": "2023-06-14T12:30:41.698090Z",
     "shell.execute_reply.started": "2023-06-14T12:30:41.689500Z"
    }
   },
   "outputs": [
    {
     "data": {
      "text/plain": [
       "3.4660396708635637"
      ]
     },
     "execution_count": 36,
     "metadata": {},
     "output_type": "execute_result"
    }
   ],
   "source": [
    "sample.std()"
   ]
  },
  {
   "cell_type": "code",
   "execution_count": 37,
   "id": "8708276e-ce7f-4421-afbb-ba354520f451",
   "metadata": {
    "execution": {
     "iopub.execute_input": "2023-06-14T12:42:41.155477Z",
     "iopub.status.busy": "2023-06-14T12:42:41.155477Z",
     "iopub.status.idle": "2023-06-14T12:42:41.161157Z",
     "shell.execute_reply": "2023-06-14T12:42:41.161157Z",
     "shell.execute_reply.started": "2023-06-14T12:42:41.155477Z"
    }
   },
   "outputs": [],
   "source": [
    "# Confidence intervals => best estimate +- margin of error\n",
    "# Since the parameter we are interested in is mean, we'd use the t statistic for the multiplier.\n",
    "# Could we use the same formula as for population mean's confidence interval?"
   ]
  },
  {
   "cell_type": "markdown",
   "id": "fcc99a43-94bf-40fe-9533-44a039a9a7ed",
   "metadata": {},
   "source": [
    "# ___$\\bar{X}_d \\pm t \\cdot (\\frac{S_d}{\\sqrt{n}})$___"
   ]
  },
  {
   "cell_type": "code",
   "execution_count": 38,
   "id": "868a84b3-9ee1-4d01-9fe7-abf80fc4dfe0",
   "metadata": {
    "execution": {
     "iopub.execute_input": "2023-06-14T12:47:57.715645Z",
     "iopub.status.busy": "2023-06-14T12:47:57.715645Z",
     "iopub.status.idle": "2023-06-14T12:47:57.722770Z",
     "shell.execute_reply": "2023-06-14T12:47:57.722625Z",
     "shell.execute_reply.started": "2023-06-14T12:47:57.715645Z"
    }
   },
   "outputs": [
    {
     "data": {
      "text/plain": [
       "0.2150465760768211"
      ]
     },
     "execution_count": 38,
     "metadata": {},
     "output_type": "execute_result"
    }
   ],
   "source": [
    "# @ 95% confidence interval, and sample size 1,000\n",
    "# t = 1.962\n",
    "\n",
    "moerr = 1.962 * (sample.std() / np.sqrt(sample.size))\n",
    "moerr"
   ]
  },
  {
   "cell_type": "code",
   "execution_count": 39,
   "id": "5ceb0e2f-605b-46eb-9cf9-4a8d0539a244",
   "metadata": {
    "execution": {
     "iopub.execute_input": "2023-06-14T12:48:18.531814Z",
     "iopub.status.busy": "2023-06-14T12:48:18.530817Z",
     "iopub.status.idle": "2023-06-14T12:48:18.537034Z",
     "shell.execute_reply": "2023-06-14T12:48:18.536982Z",
     "shell.execute_reply.started": "2023-06-14T12:48:18.531814Z"
    }
   },
   "outputs": [
    {
     "data": {
      "text/plain": [
       "(-1.5520465760768212, -1.1219534239231788)"
      ]
     },
     "execution_count": 39,
     "metadata": {},
     "output_type": "execute_result"
    }
   ],
   "source": [
    "sample.mean() - moerr, sample.mean() + moerr"
   ]
  },
  {
   "cell_type": "code",
   "execution_count": 41,
   "id": "d5aa4922-c3b6-4301-9d58-88f875709015",
   "metadata": {
    "execution": {
     "iopub.execute_input": "2023-06-14T12:48:31.213562Z",
     "iopub.status.busy": "2023-06-14T12:48:31.212565Z",
     "iopub.status.idle": "2023-06-14T12:48:31.217549Z",
     "shell.execute_reply": "2023-06-14T12:48:31.217549Z",
     "shell.execute_reply.started": "2023-06-14T12:48:31.213562Z"
    }
   },
   "outputs": [
    {
     "data": {
      "text/plain": [
       "-1.49199"
      ]
     },
     "execution_count": 41,
     "metadata": {},
     "output_type": "execute_result"
    }
   ],
   "source": [
    "pop_diff.mean()"
   ]
  },
  {
   "cell_type": "code",
   "execution_count": 42,
   "id": "f9a26bf0-93f3-4114-8446-f091378b3b8e",
   "metadata": {
    "execution": {
     "iopub.execute_input": "2023-06-14T12:51:46.219137Z",
     "iopub.status.busy": "2023-06-14T12:51:46.219137Z",
     "iopub.status.idle": "2023-06-14T12:51:46.224119Z",
     "shell.execute_reply": "2023-06-14T12:51:46.223597Z",
     "shell.execute_reply.started": "2023-06-14T12:51:46.219137Z"
    }
   },
   "outputs": [],
   "source": [
    "# With 95% confidence, the mean of differences between the education level of twin 1 and twin 2 is estimated to be\n",
    "# between -1.5520465760768212, -1.1219534239231788"
   ]
  },
  {
   "cell_type": "code",
   "execution_count": 43,
   "id": "d51b6c37-c4dc-4fa2-a6e4-07b34241d4b5",
   "metadata": {
    "execution": {
     "iopub.execute_input": "2023-06-14T12:54:52.079808Z",
     "iopub.status.busy": "2023-06-14T12:54:52.079808Z",
     "iopub.status.idle": "2023-06-14T12:54:52.096586Z",
     "shell.execute_reply": "2023-06-14T12:54:52.096392Z",
     "shell.execute_reply.started": "2023-06-14T12:54:52.079808Z"
    }
   },
   "outputs": [],
   "source": [
    "# However, one interesting observation here is that both limits of the confidence interval are on the negative side.\n",
    "# So, twin 1 almost always has lesser education than twin 2."
   ]
  },
  {
   "cell_type": "code",
   "execution_count": 44,
   "id": "0e74d10d-8880-4dcf-93a6-d38bcdee1fd2",
   "metadata": {
    "execution": {
     "iopub.execute_input": "2023-06-14T12:57:35.527935Z",
     "iopub.status.busy": "2023-06-14T12:57:35.527935Z",
     "iopub.status.idle": "2023-06-14T12:57:35.533920Z",
     "shell.execute_reply": "2023-06-14T12:57:35.533920Z",
     "shell.execute_reply.started": "2023-06-14T12:57:35.527935Z"
    }
   },
   "outputs": [],
   "source": [
    "# If the education level of twins are equal the mean of difference should be 0.\n",
    "# If they are not, mean of the differences won't be 0."
   ]
  },
  {
   "cell_type": "code",
   "execution_count": null,
   "id": "6ae6e9e8-1bd7-48dc-a18d-0beeca0623a5",
   "metadata": {},
   "outputs": [],
   "source": [
    "# So, look for 0 in the confidence interval if you are expecting no significant differences between the education levels of the\n",
    "# twins."
   ]
  }
 ],
 "metadata": {
  "kernelspec": {
   "display_name": "Python 3 (ipykernel)",
   "language": "python",
   "name": "python3"
  },
  "language_info": {
   "codemirror_mode": {
    "name": "ipython",
    "version": 3
   },
   "file_extension": ".py",
   "mimetype": "text/x-python",
   "name": "python",
   "nbconvert_exporter": "python",
   "pygments_lexer": "ipython3",
   "version": "3.11.4"
  }
 },
 "nbformat": 4,
 "nbformat_minor": 5
}
