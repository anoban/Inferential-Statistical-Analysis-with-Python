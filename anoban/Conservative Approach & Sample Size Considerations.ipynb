{
 "cells": [
  {
   "cell_type": "code",
   "execution_count": 21,
   "id": "2a044dfc-5c65-45d7-9a0a-1d2da235d514",
   "metadata": {
    "execution": {
     "iopub.execute_input": "2023-06-06T11:31:56.488074Z",
     "iopub.status.busy": "2023-06-06T11:31:56.488074Z",
     "iopub.status.idle": "2023-06-06T11:31:56.494252Z",
     "shell.execute_reply": "2023-06-06T11:31:56.494178Z",
     "shell.execute_reply.started": "2023-06-06T11:31:56.488074Z"
    }
   },
   "outputs": [],
   "source": [
    "import numpy as np\n",
    "np.random.seed(2023 - 6 - 6)\n",
    "import pandas as pd"
   ]
  },
  {
   "cell_type": "markdown",
   "id": "84452117-5008-48c9-b988-977a3efe09cc",
   "metadata": {},
   "source": [
    "# ___Conservative Approach & Sample Size Considerations___\n",
    "--------------"
   ]
  },
  {
   "cell_type": "code",
   "execution_count": 1,
   "id": "ec83947c-ec68-4158-aa95-193e4304e032",
   "metadata": {
    "execution": {
     "iopub.execute_input": "2023-06-06T11:16:05.815373Z",
     "iopub.status.busy": "2023-06-06T11:16:05.815373Z",
     "iopub.status.idle": "2023-06-06T11:16:05.821919Z",
     "shell.execute_reply": "2023-06-06T11:16:05.820982Z",
     "shell.execute_reply.started": "2023-06-06T11:16:05.815373Z"
    }
   },
   "outputs": [],
   "source": [
    "# Generally a confidence interval is defined as best estimate of a statistic += margin of error.\n",
    "# Margin of error is defined as multiplier x standard error"
   ]
  },
  {
   "cell_type": "code",
   "execution_count": 2,
   "id": "11514ded-f38f-447b-bf0e-c795b6195cf6",
   "metadata": {
    "execution": {
     "iopub.execute_input": "2023-06-06T11:18:25.461073Z",
     "iopub.status.busy": "2023-06-06T11:18:25.461073Z",
     "iopub.status.idle": "2023-06-06T11:18:25.468933Z",
     "shell.execute_reply": "2023-06-06T11:18:25.468416Z",
     "shell.execute_reply.started": "2023-06-06T11:18:25.461073Z"
    }
   },
   "outputs": [],
   "source": [
    "# In the conservative approach, we play a little bit safer and define a bigger margin of error.\n",
    "# We can evaluate how wide or narrow a confidence interval would be based of our sample size."
   ]
  },
  {
   "cell_type": "code",
   "execution_count": 3,
   "id": "e98a257e-3bda-4e2d-abf6-600076c5ecaa",
   "metadata": {
    "execution": {
     "iopub.execute_input": "2023-06-06T11:19:00.040308Z",
     "iopub.status.busy": "2023-06-06T11:19:00.040308Z",
     "iopub.status.idle": "2023-06-06T11:19:00.051110Z",
     "shell.execute_reply": "2023-06-06T11:19:00.051110Z",
     "shell.execute_reply.started": "2023-06-06T11:19:00.040308Z"
    }
   },
   "outputs": [],
   "source": [
    "# For 95% confidence interval "
   ]
  },
  {
   "cell_type": "markdown",
   "id": "01c94277-0090-4582-88cb-039974d18541",
   "metadata": {},
   "source": [
    "# ___$\\bar{x} \\pm (1.96 \\cdot \\sqrt{\\frac{\\bar{x}(1-\\bar{x})}{n}})$___"
   ]
  },
  {
   "cell_type": "code",
   "execution_count": null,
   "id": "5463d898-14bf-491d-8fd5-26b3b06c1fef",
   "metadata": {},
   "outputs": [],
   "source": []
  },
  {
   "cell_type": "code",
   "execution_count": 73,
   "id": "418d5dbe-3e29-4c17-82a9-dcf4b92b92f1",
   "metadata": {
    "execution": {
     "iopub.execute_input": "2023-06-06T12:14:58.786445Z",
     "iopub.status.busy": "2023-06-06T12:14:58.785445Z",
     "iopub.status.idle": "2023-06-06T12:14:58.904977Z",
     "shell.execute_reply": "2023-06-06T12:14:58.904250Z",
     "shell.execute_reply.started": "2023-06-06T12:14:58.786445Z"
    }
   },
   "outputs": [],
   "source": [
    "# Let's load in the USDA plants database of 2023\n",
    "\n",
    "plants = pd.read_csv(\"../data/USDA_plants_database.csv\")"
   ]
  },
  {
   "cell_type": "code",
   "execution_count": 74,
   "id": "2c760b67-6c82-45da-aaa4-5a61cf74cfbe",
   "metadata": {
    "execution": {
     "iopub.execute_input": "2023-06-06T12:14:59.505061Z",
     "iopub.status.busy": "2023-06-06T12:14:59.505061Z",
     "iopub.status.idle": "2023-06-06T12:14:59.510528Z",
     "shell.execute_reply": "2023-06-06T12:14:59.510528Z",
     "shell.execute_reply.started": "2023-06-06T12:14:59.505061Z"
    }
   },
   "outputs": [
    {
     "data": {
      "text/plain": [
       "Index(['Symbol', 'Synonym Symbol', 'Scientific Name with Author',\n",
       "       'Common Name', 'Family'],\n",
       "      dtype='object')"
      ]
     },
     "execution_count": 74,
     "metadata": {},
     "output_type": "execute_result"
    }
   ],
   "source": [
    "plants.columns"
   ]
  },
  {
   "cell_type": "code",
   "execution_count": 76,
   "id": "7e086c01-8e30-4852-95cf-9f684a3b99e7",
   "metadata": {
    "execution": {
     "iopub.execute_input": "2023-06-06T12:15:19.887943Z",
     "iopub.status.busy": "2023-06-06T12:15:19.887943Z",
     "iopub.status.idle": "2023-06-06T12:15:19.916186Z",
     "shell.execute_reply": "2023-06-06T12:15:19.916186Z",
     "shell.execute_reply.started": "2023-06-06T12:15:19.887943Z"
    }
   },
   "outputs": [
    {
     "data": {
      "text/plain": [
       "Symbol                             0\n",
       "Synonym Symbol                 48994\n",
       "Scientific Name with Author        0\n",
       "Common Name                    49381\n",
       "Family                         44163\n",
       "dtype: int64"
      ]
     },
     "execution_count": 76,
     "metadata": {},
     "output_type": "execute_result"
    }
   ],
   "source": [
    "plants.isna().sum(axis = 0)"
   ]
  },
  {
   "cell_type": "code",
   "execution_count": 27,
   "id": "0190a065-8c57-4b4a-99de-3cd6b369296a",
   "metadata": {
    "execution": {
     "iopub.execute_input": "2023-06-06T11:34:44.828978Z",
     "iopub.status.busy": "2023-06-06T11:34:44.828978Z",
     "iopub.status.idle": "2023-06-06T11:34:44.836500Z",
     "shell.execute_reply": "2023-06-06T11:34:44.836443Z",
     "shell.execute_reply.started": "2023-06-06T11:34:44.828978Z"
    }
   },
   "outputs": [
    {
     "data": {
      "text/plain": [
       "(93157, 5)"
      ]
     },
     "execution_count": 27,
     "metadata": {},
     "output_type": "execute_result"
    }
   ],
   "source": [
    "plants.shape"
   ]
  },
  {
   "cell_type": "code",
   "execution_count": 77,
   "id": "6c8c75f4-2875-4ea5-bb2d-667669df8e14",
   "metadata": {
    "execution": {
     "iopub.execute_input": "2023-06-06T12:16:24.719457Z",
     "iopub.status.busy": "2023-06-06T12:16:24.719457Z",
     "iopub.status.idle": "2023-06-06T12:16:24.747419Z",
     "shell.execute_reply": "2023-06-06T12:16:24.746903Z",
     "shell.execute_reply.started": "2023-06-06T12:16:24.719457Z"
    }
   },
   "outputs": [
    {
     "data": {
      "text/plain": [
       "(48994, 5)"
      ]
     },
     "execution_count": 77,
     "metadata": {},
     "output_type": "execute_result"
    }
   ],
   "source": [
    "plants.loc[~plants.Family.isna(), :].shape"
   ]
  },
  {
   "cell_type": "code",
   "execution_count": 78,
   "id": "670f6add-abf7-4b13-b730-aa71dfd178fa",
   "metadata": {
    "execution": {
     "iopub.execute_input": "2023-06-06T12:16:25.331577Z",
     "iopub.status.busy": "2023-06-06T12:16:25.331577Z",
     "iopub.status.idle": "2023-06-06T12:16:25.342628Z",
     "shell.execute_reply": "2023-06-06T12:16:25.342501Z",
     "shell.execute_reply.started": "2023-06-06T12:16:25.331577Z"
    }
   },
   "outputs": [
    {
     "data": {
      "text/plain": [
       "44163"
      ]
     },
     "execution_count": 78,
     "metadata": {},
     "output_type": "execute_result"
    }
   ],
   "source": [
    "# NaNs in Family :(\n",
    "\n",
    "93157 - 48994"
   ]
  },
  {
   "cell_type": "code",
   "execution_count": 79,
   "id": "8c9d34a4-f407-4030-9431-f0b31a05df91",
   "metadata": {
    "execution": {
     "iopub.execute_input": "2023-06-06T12:16:28.738031Z",
     "iopub.status.busy": "2023-06-06T12:16:28.738031Z",
     "iopub.status.idle": "2023-06-06T12:16:28.766064Z",
     "shell.execute_reply": "2023-06-06T12:16:28.765549Z",
     "shell.execute_reply.started": "2023-06-06T12:16:28.738031Z"
    }
   },
   "outputs": [],
   "source": [
    "plants = plants.loc[~plants.Family.isna(),:].reset_index(drop = True)"
   ]
  },
  {
   "cell_type": "code",
   "execution_count": 80,
   "id": "d7468d34-2293-454e-9326-205215d13482",
   "metadata": {
    "execution": {
     "iopub.execute_input": "2023-06-06T12:16:29.540225Z",
     "iopub.status.busy": "2023-06-06T12:16:29.540225Z",
     "iopub.status.idle": "2023-06-06T12:16:29.550070Z",
     "shell.execute_reply": "2023-06-06T12:16:29.550070Z",
     "shell.execute_reply.started": "2023-06-06T12:16:29.540225Z"
    }
   },
   "outputs": [
    {
     "data": {
      "text/html": [
       "<div>\n",
       "<style scoped>\n",
       "    .dataframe tbody tr th:only-of-type {\n",
       "        vertical-align: middle;\n",
       "    }\n",
       "\n",
       "    .dataframe tbody tr th {\n",
       "        vertical-align: top;\n",
       "    }\n",
       "\n",
       "    .dataframe thead th {\n",
       "        text-align: right;\n",
       "    }\n",
       "</style>\n",
       "<table border=\"1\" class=\"dataframe\">\n",
       "  <thead>\n",
       "    <tr style=\"text-align: right;\">\n",
       "      <th></th>\n",
       "      <th>Symbol</th>\n",
       "      <th>Synonym Symbol</th>\n",
       "      <th>Scientific Name with Author</th>\n",
       "      <th>Common Name</th>\n",
       "      <th>Family</th>\n",
       "    </tr>\n",
       "  </thead>\n",
       "  <tbody>\n",
       "    <tr>\n",
       "      <th>0</th>\n",
       "      <td>ABAB</td>\n",
       "      <td>NaN</td>\n",
       "      <td>Abutilon abutiloides (Jacq.) Garcke ex Hochr.</td>\n",
       "      <td>shrubby Indian mallow</td>\n",
       "      <td>Malvaceae</td>\n",
       "    </tr>\n",
       "    <tr>\n",
       "      <th>1</th>\n",
       "      <td>ABAB70</td>\n",
       "      <td>NaN</td>\n",
       "      <td>Abietinella abietina (Hedw.) Fleisch.</td>\n",
       "      <td>abietinella moss</td>\n",
       "      <td>Thuidiaceae</td>\n",
       "    </tr>\n",
       "    <tr>\n",
       "      <th>2</th>\n",
       "      <td>ABAL</td>\n",
       "      <td>NaN</td>\n",
       "      <td>Abronia alpina Brandegee</td>\n",
       "      <td>Ramshaw Meadows sand verbena</td>\n",
       "      <td>Nyctaginaceae</td>\n",
       "    </tr>\n",
       "    <tr>\n",
       "      <th>3</th>\n",
       "      <td>ABAL3</td>\n",
       "      <td>NaN</td>\n",
       "      <td>Abies alba Mill.</td>\n",
       "      <td>silver fir</td>\n",
       "      <td>Pinaceae</td>\n",
       "    </tr>\n",
       "    <tr>\n",
       "      <th>4</th>\n",
       "      <td>ABAM</td>\n",
       "      <td>NaN</td>\n",
       "      <td>Abies amabilis (Douglas ex Loudon) Douglas ex ...</td>\n",
       "      <td>Pacific silver fir</td>\n",
       "      <td>Pinaceae</td>\n",
       "    </tr>\n",
       "    <tr>\n",
       "      <th>...</th>\n",
       "      <td>...</td>\n",
       "      <td>...</td>\n",
       "      <td>...</td>\n",
       "      <td>...</td>\n",
       "      <td>...</td>\n",
       "    </tr>\n",
       "    <tr>\n",
       "      <th>48989</th>\n",
       "      <td>ZYRE</td>\n",
       "      <td>NaN</td>\n",
       "      <td>Zygodon reinwardtii (Hornsch.) A. Br.</td>\n",
       "      <td>Reinwardt's zygodon moss</td>\n",
       "      <td>Orthotrichaceae</td>\n",
       "    </tr>\n",
       "    <tr>\n",
       "      <th>48990</th>\n",
       "      <td>ZYSE</td>\n",
       "      <td>NaN</td>\n",
       "      <td>Zygophlebia sectifrons (Kunze ex Mett.) Bishop</td>\n",
       "      <td>octopus fern</td>\n",
       "      <td>Grammitidaceae</td>\n",
       "    </tr>\n",
       "    <tr>\n",
       "      <th>48991</th>\n",
       "      <td>ZYVI2</td>\n",
       "      <td>NaN</td>\n",
       "      <td>Zygodon viridissimus (Dicks.) Brid.</td>\n",
       "      <td>zygodon moss</td>\n",
       "      <td>Orthotrichaceae</td>\n",
       "    </tr>\n",
       "    <tr>\n",
       "      <th>48992</th>\n",
       "      <td>ZYVIR</td>\n",
       "      <td>NaN</td>\n",
       "      <td>Zygodon viridissimus (Dicks.) Brid. var. rupes...</td>\n",
       "      <td>zygodon moss</td>\n",
       "      <td>Orthotrichaceae</td>\n",
       "    </tr>\n",
       "    <tr>\n",
       "      <th>48993</th>\n",
       "      <td>ZYVIV</td>\n",
       "      <td>NaN</td>\n",
       "      <td>Zygodon viridissimus (Dicks.) Brid. var. virid...</td>\n",
       "      <td>zygodon moss</td>\n",
       "      <td>Orthotrichaceae</td>\n",
       "    </tr>\n",
       "  </tbody>\n",
       "</table>\n",
       "<p>48994 rows × 5 columns</p>\n",
       "</div>"
      ],
      "text/plain": [
       "       Symbol Synonym Symbol  \\\n",
       "0        ABAB            NaN   \n",
       "1      ABAB70            NaN   \n",
       "2        ABAL            NaN   \n",
       "3       ABAL3            NaN   \n",
       "4        ABAM            NaN   \n",
       "...       ...            ...   \n",
       "48989    ZYRE            NaN   \n",
       "48990    ZYSE            NaN   \n",
       "48991   ZYVI2            NaN   \n",
       "48992   ZYVIR            NaN   \n",
       "48993   ZYVIV            NaN   \n",
       "\n",
       "                             Scientific Name with Author  \\\n",
       "0          Abutilon abutiloides (Jacq.) Garcke ex Hochr.   \n",
       "1                  Abietinella abietina (Hedw.) Fleisch.   \n",
       "2                               Abronia alpina Brandegee   \n",
       "3                                       Abies alba Mill.   \n",
       "4      Abies amabilis (Douglas ex Loudon) Douglas ex ...   \n",
       "...                                                  ...   \n",
       "48989              Zygodon reinwardtii (Hornsch.) A. Br.   \n",
       "48990     Zygophlebia sectifrons (Kunze ex Mett.) Bishop   \n",
       "48991                Zygodon viridissimus (Dicks.) Brid.   \n",
       "48992  Zygodon viridissimus (Dicks.) Brid. var. rupes...   \n",
       "48993  Zygodon viridissimus (Dicks.) Brid. var. virid...   \n",
       "\n",
       "                        Common Name           Family  \n",
       "0             shrubby Indian mallow        Malvaceae  \n",
       "1                  abietinella moss      Thuidiaceae  \n",
       "2      Ramshaw Meadows sand verbena    Nyctaginaceae  \n",
       "3                        silver fir         Pinaceae  \n",
       "4                Pacific silver fir         Pinaceae  \n",
       "...                             ...              ...  \n",
       "48989      Reinwardt's zygodon moss  Orthotrichaceae  \n",
       "48990                  octopus fern   Grammitidaceae  \n",
       "48991                  zygodon moss  Orthotrichaceae  \n",
       "48992                  zygodon moss  Orthotrichaceae  \n",
       "48993                  zygodon moss  Orthotrichaceae  \n",
       "\n",
       "[48994 rows x 5 columns]"
      ]
     },
     "execution_count": 80,
     "metadata": {},
     "output_type": "execute_result"
    }
   ],
   "source": [
    "plants"
   ]
  },
  {
   "cell_type": "code",
   "execution_count": 81,
   "id": "4cc69b95-f72c-49e0-95e2-82b558954b36",
   "metadata": {
    "execution": {
     "iopub.execute_input": "2023-06-06T12:16:30.028449Z",
     "iopub.status.busy": "2023-06-06T12:16:30.028449Z",
     "iopub.status.idle": "2023-06-06T12:16:30.049435Z",
     "shell.execute_reply": "2023-06-06T12:16:30.049435Z",
     "shell.execute_reply.started": "2023-06-06T12:16:30.028449Z"
    }
   },
   "outputs": [
    {
     "data": {
      "text/plain": [
       "Family\n",
       "Asteraceae          4891\n",
       "Fabaceae            3809\n",
       "Poaceae             3072\n",
       "Rosaceae            1519\n",
       "Cyperaceae          1432\n",
       "                    ... \n",
       "Pleuroziaceae          2\n",
       "Trichocomaceae         2\n",
       "Halymeniaceae          2\n",
       "Rafflesiaceae          2\n",
       "Zannichelliaceae       2\n",
       "Name: count, Length: 548, dtype: int64"
      ]
     },
     "execution_count": 81,
     "metadata": {},
     "output_type": "execute_result"
    }
   ],
   "source": [
    "plants.Family.value_counts()"
   ]
  },
  {
   "cell_type": "code",
   "execution_count": 82,
   "id": "79a6d3f3-fff1-44a5-81be-168f2e5c6c08",
   "metadata": {
    "execution": {
     "iopub.execute_input": "2023-06-06T12:16:30.421489Z",
     "iopub.status.busy": "2023-06-06T12:16:30.421489Z",
     "iopub.status.idle": "2023-06-06T12:16:30.429264Z",
     "shell.execute_reply": "2023-06-06T12:16:30.428492Z",
     "shell.execute_reply.started": "2023-06-06T12:16:30.421489Z"
    }
   },
   "outputs": [],
   "source": [
    "# There are 548 Families"
   ]
  },
  {
   "cell_type": "code",
   "execution_count": 83,
   "id": "4e7ba613-11ea-43da-9c88-c31dcecf29d5",
   "metadata": {
    "execution": {
     "iopub.execute_input": "2023-06-06T12:16:30.923532Z",
     "iopub.status.busy": "2023-06-06T12:16:30.923532Z",
     "iopub.status.idle": "2023-06-06T12:16:31.413460Z",
     "shell.execute_reply": "2023-06-06T12:16:31.413460Z",
     "shell.execute_reply.started": "2023-06-06T12:16:30.923532Z"
    }
   },
   "outputs": [],
   "source": [
    "# Let's examine the proportion of Fabaceae in samples of size 1,000\n",
    "\n",
    "lim = plants.shape[0]\n",
    "sample_props = []\n",
    "\n",
    "for _ in range(1000):\n",
    "    sample_props.append((plants.Family[np.random.randint(0, lim, size = 1000)] == \"Fabaceae\").mean())\n",
    "\n",
    "sample_props = np.array(sample_props)"
   ]
  },
  {
   "cell_type": "code",
   "execution_count": 86,
   "id": "6d2daf4d-6690-4b12-a6db-f5237278cee4",
   "metadata": {
    "execution": {
     "iopub.execute_input": "2023-06-06T12:16:43.479031Z",
     "iopub.status.busy": "2023-06-06T12:16:43.479031Z",
     "iopub.status.idle": "2023-06-06T12:16:43.501595Z",
     "shell.execute_reply": "2023-06-06T12:16:43.501497Z",
     "shell.execute_reply.started": "2023-06-06T12:16:43.479031Z"
    }
   },
   "outputs": [
    {
     "data": {
      "text/plain": [
       "0.07774421357717272"
      ]
     },
     "execution_count": 86,
     "metadata": {},
     "output_type": "execute_result"
    }
   ],
   "source": [
    "# Population proportion\n",
    "\n",
    "pop_prop = (plants.Family == \"Fabaceae\").mean()\n",
    "pop_prop"
   ]
  },
  {
   "cell_type": "code",
   "execution_count": 87,
   "id": "d6a4ef34-f693-40f9-b622-2ce4bb1a0ed6",
   "metadata": {
    "execution": {
     "iopub.execute_input": "2023-06-06T12:16:44.982659Z",
     "iopub.status.busy": "2023-06-06T12:16:44.982659Z",
     "iopub.status.idle": "2023-06-06T12:16:44.989935Z",
     "shell.execute_reply": "2023-06-06T12:16:44.989935Z",
     "shell.execute_reply.started": "2023-06-06T12:16:44.982659Z"
    }
   },
   "outputs": [
    {
     "data": {
      "text/plain": [
       "0.07818199999999999"
      ]
     },
     "execution_count": 87,
     "metadata": {},
     "output_type": "execute_result"
    }
   ],
   "source": [
    "sample_props.mean()"
   ]
  },
  {
   "cell_type": "code",
   "execution_count": 43,
   "id": "875c6f0a-b818-4e33-89ca-280b7967b58d",
   "metadata": {
    "execution": {
     "iopub.execute_input": "2023-06-06T11:47:16.146025Z",
     "iopub.status.busy": "2023-06-06T11:47:16.146025Z",
     "iopub.status.idle": "2023-06-06T11:47:16.152020Z",
     "shell.execute_reply": "2023-06-06T11:47:16.151406Z",
     "shell.execute_reply.started": "2023-06-06T11:47:16.146025Z"
    }
   },
   "outputs": [],
   "source": [
    "def confidence_interval(ssize: int, best_estimate: float, confidence: float) -> tuple[float, float]:\n",
    "    \n",
    "    \"\"\"\n",
    "    Arguments:\n",
    "        ssize: int  (Sample size)\n",
    "        best_estimate: float \n",
    "        confidence: float (confidence as a floating point scalar, e.g 95% confidence => 0.95)\n",
    "\n",
    "    Returns: -> Confidence interval\n",
    "        (lower_bound, upper_bound): tuple[float, float]\n",
    "    \"\"\"\n",
    "    \n",
    "    cints = {.70: 1.04, .75: 1.15, .80: 1.28, .85: 1.44, .90: 1.645, .95: 1.96, .98: 2.33, .99: 2.58}\n",
    "    assert (confidence in cints), \"Z score for the given confidence is not available in this routine!\"\n",
    "    stderr = np.sqrt(best_estimate * (1 - best_estimate) / ssize)\n",
    "    z = cints.get(confidence)\n",
    "    return (best_estimate - (z * stderr), best_estimate + (z * stderr))"
   ]
  },
  {
   "cell_type": "code",
   "execution_count": 47,
   "id": "25928f1e-9abf-4655-aef4-0855cd44c4ff",
   "metadata": {
    "execution": {
     "iopub.execute_input": "2023-06-06T11:47:50.114778Z",
     "iopub.status.busy": "2023-06-06T11:47:50.114778Z",
     "iopub.status.idle": "2023-06-06T11:47:50.119474Z",
     "shell.execute_reply": "2023-06-06T11:47:50.119474Z",
     "shell.execute_reply.started": "2023-06-06T11:47:50.114778Z"
    }
   },
   "outputs": [
    {
     "data": {
      "text/plain": [
       "(0.09108999503531912, 0.1109100049646809)"
      ]
     },
     "execution_count": 47,
     "metadata": {},
     "output_type": "execute_result"
    }
   ],
   "source": [
    "confidence_interval(1000, sample_props[np.random.randint(0, sample_props.size)], 0.7)"
   ]
  },
  {
   "cell_type": "code",
   "execution_count": 48,
   "id": "e0a08d59-5fd8-40fd-82d1-350ff6e3731c",
   "metadata": {
    "execution": {
     "iopub.execute_input": "2023-06-06T11:48:39.707463Z",
     "iopub.status.busy": "2023-06-06T11:48:39.707463Z",
     "iopub.status.idle": "2023-06-06T11:48:39.726816Z",
     "shell.execute_reply": "2023-06-06T11:48:39.726096Z",
     "shell.execute_reply.started": "2023-06-06T11:48:39.707463Z"
    }
   },
   "outputs": [
    {
     "data": {
      "text/plain": [
       "(0.8227373256215749, 0.8772626743784251)"
      ]
     },
     "execution_count": 48,
     "metadata": {},
     "output_type": "execute_result"
    }
   ],
   "source": [
    "confidence_interval(659, 0.85, .95)"
   ]
  },
  {
   "cell_type": "code",
   "execution_count": null,
   "id": "9034b085-407f-403d-a375-cd515a6e4d8c",
   "metadata": {},
   "outputs": [],
   "source": []
  },
  {
   "cell_type": "code",
   "execution_count": 49,
   "id": "fcc2b7d7-8d8b-4485-ae2d-f6abb6ef849f",
   "metadata": {
    "execution": {
     "iopub.execute_input": "2023-06-06T11:49:35.213666Z",
     "iopub.status.busy": "2023-06-06T11:49:35.213666Z",
     "iopub.status.idle": "2023-06-06T11:49:35.220431Z",
     "shell.execute_reply": "2023-06-06T11:49:35.220431Z",
     "shell.execute_reply.started": "2023-06-06T11:49:35.213666Z"
    }
   },
   "outputs": [],
   "source": [
    "# All is fine, but what if our sample metric isn't accurate?"
   ]
  },
  {
   "cell_type": "code",
   "execution_count": 64,
   "id": "a9c3e3a2-a4c0-4702-9ccc-bc52854681bb",
   "metadata": {
    "execution": {
     "iopub.execute_input": "2023-06-06T11:50:47.121171Z",
     "iopub.status.busy": "2023-06-06T11:50:47.121171Z",
     "iopub.status.idle": "2023-06-06T11:50:47.132596Z",
     "shell.execute_reply": "2023-06-06T11:50:47.132596Z",
     "shell.execute_reply.started": "2023-06-06T11:50:47.121171Z"
    }
   },
   "outputs": [
    {
     "data": {
      "text/plain": [
       "(0.07774421357717272, 0.093)"
      ]
     },
     "execution_count": 64,
     "metadata": {},
     "output_type": "execute_result"
    }
   ],
   "source": [
    "# See the difference\n",
    "\n",
    "pop_prop, sample_props[np.random.randint(0, sample_props.size)]"
   ]
  },
  {
   "cell_type": "code",
   "execution_count": 65,
   "id": "c4679214-2a8e-412f-abde-a117be439f72",
   "metadata": {
    "execution": {
     "iopub.execute_input": "2023-06-06T11:59:33.113206Z",
     "iopub.status.busy": "2023-06-06T11:59:33.113206Z",
     "iopub.status.idle": "2023-06-06T11:59:33.117115Z",
     "shell.execute_reply": "2023-06-06T11:59:33.116840Z",
     "shell.execute_reply.started": "2023-06-06T11:59:33.113206Z"
    }
   },
   "outputs": [],
   "source": [
    "# If we did a bad job at making a random sample, our sample may not be representative of the population!\n",
    "# Then the estimate computed using that sample will be inaccurate."
   ]
  },
  {
   "cell_type": "code",
   "execution_count": 66,
   "id": "3a6eaddc-aa90-445e-985d-7630385d2c11",
   "metadata": {
    "execution": {
     "iopub.execute_input": "2023-06-06T12:02:19.785103Z",
     "iopub.status.busy": "2023-06-06T12:02:19.785103Z",
     "iopub.status.idle": "2023-06-06T12:02:19.790038Z",
     "shell.execute_reply": "2023-06-06T12:02:19.790038Z",
     "shell.execute_reply.started": "2023-06-06T12:02:19.785103Z"
    },
    "jupyter": {
     "source_hidden": true
    }
   },
   "outputs": [],
   "source": [
    "# Due to this reason, we may want to maximize the standard error to widen our confidence interval, so that our confidence interval\n",
    "# covers the population metric.\n",
    "\n",
    "# This is accomplished by plugging in 0.5 for x_bar"
   ]
  },
  {
   "cell_type": "code",
   "execution_count": 67,
   "id": "29dec1a0-2ec7-473b-b9b7-eef5b7a004b7",
   "metadata": {
    "execution": {
     "iopub.execute_input": "2023-06-06T12:03:07.118188Z",
     "iopub.status.busy": "2023-06-06T12:03:07.118188Z",
     "iopub.status.idle": "2023-06-06T12:03:07.125610Z",
     "shell.execute_reply": "2023-06-06T12:03:07.125555Z",
     "shell.execute_reply.started": "2023-06-06T12:03:07.118188Z"
    }
   },
   "outputs": [],
   "source": [
    "# @ x_bar = 0.5, standard error will be."
   ]
  },
  {
   "cell_type": "markdown",
   "id": "2fdf05f1-d9bf-45aa-b720-7e52990b8a4e",
   "metadata": {},
   "source": [
    "# ___$=\\sqrt{\\frac{0.5(1 - 0.5)}{n}}$___\n",
    "# ___$=\\frac{0.5}{\\sqrt{n}}$___"
   ]
  },
  {
   "cell_type": "code",
   "execution_count": 68,
   "id": "dc91b95f-d1ef-4882-bc07-02f5a5554db9",
   "metadata": {
    "execution": {
     "iopub.execute_input": "2023-06-06T12:07:22.597972Z",
     "iopub.status.busy": "2023-06-06T12:07:22.597972Z",
     "iopub.status.idle": "2023-06-06T12:07:22.605333Z",
     "shell.execute_reply": "2023-06-06T12:07:22.604448Z",
     "shell.execute_reply.started": "2023-06-06T12:07:22.597972Z"
    }
   },
   "outputs": [],
   "source": [
    "# Conservative standard error = 0.5 / sqrt(n)\n",
    "\n",
    "conservative_stderr = lambda ssize: 0.5 / np.sqrt(ssize)"
   ]
  },
  {
   "cell_type": "code",
   "execution_count": 69,
   "id": "b0e6e5a6-19c8-404a-8816-12794a4d7ca7",
   "metadata": {
    "execution": {
     "iopub.execute_input": "2023-06-06T12:09:58.764646Z",
     "iopub.status.busy": "2023-06-06T12:09:58.764646Z",
     "iopub.status.idle": "2023-06-06T12:09:58.779887Z",
     "shell.execute_reply": "2023-06-06T12:09:58.779887Z",
     "shell.execute_reply.started": "2023-06-06T12:09:58.764646Z"
    }
   },
   "outputs": [],
   "source": [
    "diff = 1.96 * conservative_stderr(1000)"
   ]
  },
  {
   "cell_type": "code",
   "execution_count": 71,
   "id": "fcd7e039-14aa-434a-9aba-1475c33af035",
   "metadata": {
    "execution": {
     "iopub.execute_input": "2023-06-06T12:10:32.381136Z",
     "iopub.status.busy": "2023-06-06T12:10:32.381136Z",
     "iopub.status.idle": "2023-06-06T12:10:32.393218Z",
     "shell.execute_reply": "2023-06-06T12:10:32.393218Z",
     "shell.execute_reply.started": "2023-06-06T12:10:32.381136Z"
    }
   },
   "outputs": [
    {
     "data": {
      "text/plain": [
       "(0.046009678930349886, 0.10799032106965012)"
      ]
     },
     "execution_count": 71,
     "metadata": {},
     "output_type": "execute_result"
    }
   ],
   "source": [
    "best = sample_props[np.random.randint(0, sample_props.size)]\n",
    "\n",
    "best - diff, best + diff"
   ]
  },
  {
   "cell_type": "code",
   "execution_count": 72,
   "id": "b5c82822-9c27-4331-af1f-df34d2ff5a43",
   "metadata": {
    "execution": {
     "iopub.execute_input": "2023-06-06T12:12:34.510316Z",
     "iopub.status.busy": "2023-06-06T12:12:34.510316Z",
     "iopub.status.idle": "2023-06-06T12:12:34.518205Z",
     "shell.execute_reply": "2023-06-06T12:12:34.517559Z",
     "shell.execute_reply.started": "2023-06-06T12:12:34.510316Z"
    }
   },
   "outputs": [],
   "source": [
    "# We end up with a wider confidence interval.\n",
    "# Here, our margin of error is only dependent on the sample size."
   ]
  },
  {
   "cell_type": "code",
   "execution_count": null,
   "id": "e4114529-6b33-4c49-b040-8ff27d6b5506",
   "metadata": {},
   "outputs": [],
   "source": []
  },
  {
   "cell_type": "code",
   "execution_count": 88,
   "id": "76c72966-d046-43d6-b4f4-df874acdbb21",
   "metadata": {
    "execution": {
     "iopub.execute_input": "2023-06-06T12:33:41.908550Z",
     "iopub.status.busy": "2023-06-06T12:33:41.908550Z",
     "iopub.status.idle": "2023-06-06T12:33:41.927298Z",
     "shell.execute_reply": "2023-06-06T12:33:41.926783Z",
     "shell.execute_reply.started": "2023-06-06T12:33:41.908550Z"
    }
   },
   "outputs": [],
   "source": [
    "# Margin of error (MoE) only depends on \n",
    "    # 1) Confidence interval\n",
    "    # 2) Sample size"
   ]
  },
  {
   "cell_type": "code",
   "execution_count": 90,
   "id": "1b7e5a17-0c6e-4e3f-adb5-2892fe30afca",
   "metadata": {
    "execution": {
     "iopub.execute_input": "2023-06-06T12:41:05.111431Z",
     "iopub.status.busy": "2023-06-06T12:41:05.111431Z",
     "iopub.status.idle": "2023-06-06T12:41:05.120207Z",
     "shell.execute_reply": "2023-06-06T12:41:05.120207Z",
     "shell.execute_reply.started": "2023-06-06T12:41:05.111431Z"
    }
   },
   "outputs": [
    {
     "data": {
      "text/plain": [
       "0.015306122448979591"
      ]
     },
     "execution_count": 90,
     "metadata": {},
     "output_type": "execute_result"
    }
   ],
   "source": [
    "# What sample size we'd need to have a 95% conservative confidence interval with a MoE 3%?\n",
    "\n",
    "# MoE = 0.03\n",
    "# multiplier * stderr = 0.03\n",
    "# since the confidence level is 95%, multiplier = 1.96\n",
    "\n",
    "stderr = 0.03 / 1.96\n",
    "stderr"
   ]
  },
  {
   "cell_type": "markdown",
   "id": "93a4c6c2-3dff-4bff-8402-4435add22e2c",
   "metadata": {},
   "source": [
    "# ___$Confidence~interval = \\bar{x} \\pm (\\hat{Z} \\cdot \\sqrt{\\frac{\\bar{x}(1 - \\bar{x})}{n}})$___\n",
    "# ___$MoE = \\hat{Z} \\cdot \\sqrt{\\frac{\\bar{x}(1 - \\bar{x})}{n}}$___\n",
    "# ___$MoE_{conservative} = \\hat{Z} \\cdot \\frac{0.5}{\\sqrt{n}}$___\n",
    "# ___$n = (\\frac{0.5 \\cdot \\hat{Z}}{MoE_{conservative}})^2$___"
   ]
  },
  {
   "cell_type": "code",
   "execution_count": 99,
   "id": "1d628ba9-db11-425b-9c07-e38705b9e890",
   "metadata": {
    "execution": {
     "iopub.execute_input": "2023-06-06T14:29:13.694319Z",
     "iopub.status.busy": "2023-06-06T14:29:13.694319Z",
     "iopub.status.idle": "2023-06-06T14:29:13.705860Z",
     "shell.execute_reply": "2023-06-06T14:29:13.704020Z",
     "shell.execute_reply.started": "2023-06-06T14:29:13.694319Z"
    }
   },
   "outputs": [
    {
     "data": {
      "text/plain": [
       "1067.1111111111109"
      ]
     },
     "execution_count": 99,
     "metadata": {},
     "output_type": "execute_result"
    }
   ],
   "source": [
    "# However, in conservative approach, moe = 1 / sqrt(n)\n",
    "# n = \n",
    "\n",
    "((0.5 * 1.96) / 0.03) ** 2"
   ]
  },
  {
   "cell_type": "code",
   "execution_count": 100,
   "id": "1d36188a-f2de-4624-b876-5f36024a338f",
   "metadata": {
    "execution": {
     "iopub.execute_input": "2023-06-06T14:29:33.153602Z",
     "iopub.status.busy": "2023-06-06T14:29:33.153602Z",
     "iopub.status.idle": "2023-06-06T14:29:33.165827Z",
     "shell.execute_reply": "2023-06-06T14:29:33.165827Z",
     "shell.execute_reply.started": "2023-06-06T14:29:33.153602Z"
    }
   },
   "outputs": [
    {
     "data": {
      "text/plain": [
       "1068.0"
      ]
     },
     "execution_count": 100,
     "metadata": {},
     "output_type": "execute_result"
    }
   ],
   "source": [
    "# Since we cannot have sample sizes in decimals, always round the value up.\n",
    "\n",
    "np.ceil(((0.5 * 1.96) / 0.03) ** 2)"
   ]
  },
  {
   "cell_type": "code",
   "execution_count": null,
   "id": "6d709de1-3aea-40b8-9fc0-35862d042959",
   "metadata": {},
   "outputs": [],
   "source": []
  },
  {
   "cell_type": "code",
   "execution_count": 96,
   "id": "a00d57ca-c04f-4803-873f-0af44d748e23",
   "metadata": {
    "execution": {
     "iopub.execute_input": "2023-06-06T13:18:40.895911Z",
     "iopub.status.busy": "2023-06-06T13:18:40.895911Z",
     "iopub.status.idle": "2023-06-06T13:18:40.907787Z",
     "shell.execute_reply": "2023-06-06T13:18:40.907787Z",
     "shell.execute_reply.started": "2023-06-06T13:18:40.895911Z"
    }
   },
   "outputs": [
    {
     "data": {
      "text/plain": [
       "0.011627906976744186"
      ]
     },
     "execution_count": 96,
     "metadata": {},
     "output_type": "execute_result"
    }
   ],
   "source": [
    "# What if we wanted a 99% confidence level with 3% MoE?\n",
    "\n",
    "# stderr * multiplier = 0.03\n",
    "# stderr * 2.58 = 0.03           @ 99% confidence level, Z_hat = 2.58\n",
    "\n",
    "stderr = 0.03 / 2.58\n",
    "stderr"
   ]
  },
  {
   "cell_type": "code",
   "execution_count": 101,
   "id": "52401929-1c75-4401-9012-edff52f584d8",
   "metadata": {
    "execution": {
     "iopub.execute_input": "2023-06-06T14:30:42.490550Z",
     "iopub.status.busy": "2023-06-06T14:30:42.490550Z",
     "iopub.status.idle": "2023-06-06T14:30:42.503866Z",
     "shell.execute_reply": "2023-06-06T14:30:42.503866Z",
     "shell.execute_reply.started": "2023-06-06T14:30:42.490550Z"
    }
   },
   "outputs": [
    {
     "data": {
      "text/plain": [
       "1849.0"
      ]
     },
     "execution_count": 101,
     "metadata": {},
     "output_type": "execute_result"
    }
   ],
   "source": [
    "# stderr = 0.5 / sqrt(n)\n",
    "# n = (0.5 / stderr) ^ 2\n",
    "\n",
    "(0.5 / stderr) ** 2"
   ]
  },
  {
   "cell_type": "code",
   "execution_count": null,
   "id": "2223dfad-2148-412e-947a-7b2e388379b3",
   "metadata": {},
   "outputs": [],
   "source": [
    "# With the same margin of error, if we want to improve the confidence level (95% -> 99%) we need to increase the sample size."
   ]
  }
 ],
 "metadata": {
  "kernelspec": {
   "display_name": "Python 3 (ipykernel)",
   "language": "python",
   "name": "python3"
  },
  "language_info": {
   "codemirror_mode": {
    "name": "ipython",
    "version": 3
   },
   "file_extension": ".py",
   "mimetype": "text/x-python",
   "name": "python",
   "nbconvert_exporter": "python",
   "pygments_lexer": "ipython3",
   "version": "3.11.4"
  }
 },
 "nbformat": 4,
 "nbformat_minor": 5
}
