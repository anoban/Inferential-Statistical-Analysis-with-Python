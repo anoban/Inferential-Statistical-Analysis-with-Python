{
 "cells": [
  {
   "cell_type": "code",
   "execution_count": 122,
   "id": "edcd6ddd-f197-41b4-84a0-9ab021a583ac",
   "metadata": {
    "execution": {
     "iopub.execute_input": "2023-07-02T11:00:03.067692Z",
     "iopub.status.busy": "2023-07-02T11:00:03.067692Z",
     "iopub.status.idle": "2023-07-02T11:00:03.078317Z",
     "shell.execute_reply": "2023-07-02T11:00:03.078217Z",
     "shell.execute_reply.started": "2023-07-02T11:00:03.067692Z"
    }
   },
   "outputs": [],
   "source": [
    "import numpy as np\n",
    "np.random.seed(2023 - 7 - 1)\n",
    "import pandas as pd\n",
    "from scipy.stats import t\n",
    "import matplotlib.pyplot as plt"
   ]
  },
  {
   "cell_type": "markdown",
   "id": "5840eec0-cfae-4d67-85bd-f02f8a4ebf0d",
   "metadata": {},
   "source": [
    "# ___Testing Population Means With Confidence___\n",
    "-----------------"
   ]
  },
  {
   "cell_type": "code",
   "execution_count": 2,
   "id": "886aa545-1fc2-4993-9bed-49529654a821",
   "metadata": {
    "execution": {
     "iopub.execute_input": "2023-07-02T10:01:34.323657Z",
     "iopub.status.busy": "2023-07-02T10:01:34.323657Z",
     "iopub.status.idle": "2023-07-02T10:01:34.658413Z",
     "shell.execute_reply": "2023-07-02T10:01:34.658413Z",
     "shell.execute_reply.started": "2023-07-02T10:01:34.323657Z"
    }
   },
   "outputs": [],
   "source": [
    "# let's use our iol temperature data.\n",
    "\n",
    "oil = pd.read_csv(\"./../data/MetroPT3(AirCompressor).csv\", usecols = [\"Oil_temperature\"])"
   ]
  },
  {
   "cell_type": "code",
   "execution_count": 3,
   "id": "20529273-d22a-46cc-8b6f-7cb5df26d5f4",
   "metadata": {
    "execution": {
     "iopub.execute_input": "2023-07-02T10:01:35.156830Z",
     "iopub.status.busy": "2023-07-02T10:01:35.156830Z",
     "iopub.status.idle": "2023-07-02T10:01:35.165924Z",
     "shell.execute_reply": "2023-07-02T10:01:35.165408Z",
     "shell.execute_reply.started": "2023-07-02T10:01:35.156830Z"
    }
   },
   "outputs": [
    {
     "data": {
      "text/plain": [
       "(999999, 1)"
      ]
     },
     "execution_count": 3,
     "metadata": {},
     "output_type": "execute_result"
    }
   ],
   "source": [
    "oil.shape"
   ]
  },
  {
   "cell_type": "code",
   "execution_count": 4,
   "id": "47542355-424a-40b0-8863-488545cb8d49",
   "metadata": {
    "execution": {
     "iopub.execute_input": "2023-07-02T10:01:35.645001Z",
     "iopub.status.busy": "2023-07-02T10:01:35.645001Z",
     "iopub.status.idle": "2023-07-02T10:01:35.657538Z",
     "shell.execute_reply": "2023-07-02T10:01:35.657029Z",
     "shell.execute_reply.started": "2023-07-02T10:01:35.645001Z"
    }
   },
   "outputs": [
    {
     "data": {
      "text/plain": [
       "Oil_temperature    60.91454\n",
       "dtype: float64"
      ]
     },
     "execution_count": 4,
     "metadata": {},
     "output_type": "execute_result"
    }
   ],
   "source": [
    "oil.mean()"
   ]
  },
  {
   "cell_type": "markdown",
   "id": "8c29041a-64f0-44a9-a5ec-e02359db6bd1",
   "metadata": {},
   "source": [
    "## ___Considering The Dataset as a Sample of a Larger Population___\n",
    "--------------------"
   ]
  },
  {
   "cell_type": "code",
   "execution_count": 5,
   "id": "b3b3bc56-f6d0-4ea2-b925-a046df495da4",
   "metadata": {
    "execution": {
     "iopub.execute_input": "2023-07-02T10:01:36.427754Z",
     "iopub.status.busy": "2023-07-02T10:01:36.426737Z",
     "iopub.status.idle": "2023-07-02T10:01:36.437026Z",
     "shell.execute_reply": "2023-07-02T10:01:36.437026Z",
     "shell.execute_reply.started": "2023-07-02T10:01:36.427754Z"
    }
   },
   "outputs": [
    {
     "data": {
      "text/plain": [
       "60.91453961453962"
      ]
     },
     "execution_count": 5,
     "metadata": {},
     "output_type": "execute_result"
    }
   ],
   "source": [
    "# best estimate will be the sample mean.\n",
    "\n",
    "best_est = oil.Oil_temperature.mean()\n",
    "best_est"
   ]
  },
  {
   "cell_type": "code",
   "execution_count": 6,
   "id": "f390111e-d0c8-459f-9ddb-64f4c7f544d7",
   "metadata": {
    "execution": {
     "iopub.execute_input": "2023-07-02T10:01:36.701280Z",
     "iopub.status.busy": "2023-07-02T10:01:36.700284Z",
     "iopub.status.idle": "2023-07-02T10:01:36.706634Z",
     "shell.execute_reply": "2023-07-02T10:01:36.705628Z",
     "shell.execute_reply.started": "2023-07-02T10:01:36.701280Z"
    }
   },
   "outputs": [
    {
     "data": {
      "text/plain": [
       "999999"
      ]
     },
     "execution_count": 6,
     "metadata": {},
     "output_type": "execute_result"
    }
   ],
   "source": [
    "# sample size \n",
    "\n",
    "ssize = oil.shape[0]\n",
    "ssize"
   ]
  },
  {
   "cell_type": "code",
   "execution_count": 7,
   "id": "b6cebf5e-6320-4033-a0c4-ebfc61444896",
   "metadata": {
    "execution": {
     "iopub.execute_input": "2023-07-02T10:01:37.195693Z",
     "iopub.status.busy": "2023-07-02T10:01:37.194778Z",
     "iopub.status.idle": "2023-07-02T10:01:37.198608Z",
     "shell.execute_reply": "2023-07-02T10:01:37.198608Z",
     "shell.execute_reply.started": "2023-07-02T10:01:37.195693Z"
    }
   },
   "outputs": [],
   "source": [
    "# Significance level 5%, alpha = 0.05.\n",
    "# i.e We accept that 5 out of 100 times, we may get the given test statistic (t) completely randomly, due to chance.\n",
    "# That is if the probability of randomly getting our t statistic is greater than 0.05, we refuse to accept the null hypothesis.\n",
    "\n",
    "# Null hypothesis: Population mean is 61 degrees celsius.\n",
    "# H0: mu = 61\n",
    "\n",
    "# Alternative hypothesis: Population mean is greater than 61 degrees celsius\n",
    "# H1: mu > 61"
   ]
  },
  {
   "cell_type": "code",
   "execution_count": 8,
   "id": "017ca5df-e955-4f3c-a417-c4495bb7d8cc",
   "metadata": {
    "execution": {
     "iopub.execute_input": "2023-07-02T10:01:37.514675Z",
     "iopub.status.busy": "2023-07-02T10:01:37.514675Z",
     "iopub.status.idle": "2023-07-02T10:01:37.532668Z",
     "shell.execute_reply": "2023-07-02T10:01:37.532084Z",
     "shell.execute_reply.started": "2023-07-02T10:01:37.514675Z"
    }
   },
   "outputs": [
    {
     "data": {
      "text/plain": [
       "0.006738252131068929"
      ]
     },
     "execution_count": 8,
     "metadata": {},
     "output_type": "execute_result"
    }
   ],
   "source": [
    "# test statistic = (best estimate - hypothesized estimate) / standard error of the estimate\n",
    "# We do not know the standard error of the population, so we'll use the standard error of the sample.\n",
    "# estimated standard error\n",
    "\n",
    "stderr = oil.Oil_temperature.std() / np.sqrt(ssize)\n",
    "stderr"
   ]
  },
  {
   "cell_type": "code",
   "execution_count": 9,
   "id": "756363f2-2228-41f0-80b4-1fcd8d6f9199",
   "metadata": {
    "execution": {
     "iopub.execute_input": "2023-07-02T10:01:37.788193Z",
     "iopub.status.busy": "2023-07-02T10:01:37.788193Z",
     "iopub.status.idle": "2023-07-02T10:01:37.794213Z",
     "shell.execute_reply": "2023-07-02T10:01:37.794213Z",
     "shell.execute_reply.started": "2023-07-02T10:01:37.788193Z"
    }
   },
   "outputs": [
    {
     "data": {
      "text/plain": [
       "-12.68287143283586"
      ]
     },
     "execution_count": 9,
     "metadata": {},
     "output_type": "execute_result"
    }
   ],
   "source": [
    "tscore = (best_est - 61) / stderr\n",
    "tscore"
   ]
  },
  {
   "cell_type": "code",
   "execution_count": 10,
   "id": "d556a0a9-e115-4537-8339-81079f8b7dff",
   "metadata": {
    "execution": {
     "iopub.execute_input": "2023-07-02T10:01:38.076105Z",
     "iopub.status.busy": "2023-07-02T10:01:38.075103Z",
     "iopub.status.idle": "2023-07-02T10:01:38.079126Z",
     "shell.execute_reply": "2023-07-02T10:01:38.079126Z",
     "shell.execute_reply.started": "2023-07-02T10:01:38.076105Z"
    }
   },
   "outputs": [],
   "source": [
    "# How do we interpret this t statistic?\n",
    "# Our actual population mean is 12.6828 times the standard errors less than our hypothesized mean."
   ]
  },
  {
   "cell_type": "code",
   "execution_count": null,
   "id": "dbb43209-17a2-4d62-9bb6-9f495de3d40e",
   "metadata": {},
   "outputs": [],
   "source": []
  },
  {
   "cell_type": "code",
   "execution_count": 11,
   "id": "e566ad07-08ac-4bfa-8c9e-0d6a351f0187",
   "metadata": {
    "execution": {
     "iopub.execute_input": "2023-07-02T10:01:38.611959Z",
     "iopub.status.busy": "2023-07-02T10:01:38.611959Z",
     "iopub.status.idle": "2023-07-02T10:01:38.616041Z",
     "shell.execute_reply": "2023-07-02T10:01:38.615978Z",
     "shell.execute_reply.started": "2023-07-02T10:01:38.611959Z"
    }
   },
   "outputs": [],
   "source": [
    "# Assumptions\n",
    "\n",
    "# 1) Our sample is a simple random sample.\n",
    "# 2) Our sample means come from a normal distribution."
   ]
  },
  {
   "cell_type": "code",
   "execution_count": 12,
   "id": "8459805c-fce3-4f98-af44-a411fd5c2d4f",
   "metadata": {
    "execution": {
     "iopub.execute_input": "2023-07-02T10:01:38.676645Z",
     "iopub.status.busy": "2023-07-02T10:01:38.676645Z",
     "iopub.status.idle": "2023-07-02T10:01:38.971493Z",
     "shell.execute_reply": "2023-07-02T10:01:38.970390Z",
     "shell.execute_reply.started": "2023-07-02T10:01:38.676645Z"
    }
   },
   "outputs": [
    {
     "data": {
      "image/png": "[encoded data removed]",
      "text/plain": [
       "<Figure size 640x480 with 1 Axes>"
      ]
     },
     "metadata": {},
     "output_type": "display_data"
    }
   ],
   "source": [
    "fig, axes = plt.subplots()\n",
    "axes.hist(oil.Oil_temperature, bins = 200, rwidth = 0.5)\n",
    "axes.set_xlabel(\"Temperature\")\n",
    "plt.show()"
   ]
  },
  {
   "cell_type": "code",
   "execution_count": 13,
   "id": "087d4c4b-4791-4275-9c2c-289eed71437f",
   "metadata": {
    "execution": {
     "iopub.execute_input": "2023-07-02T10:01:38.972399Z",
     "iopub.status.busy": "2023-07-02T10:01:38.971493Z",
     "iopub.status.idle": "2023-07-02T10:01:38.977315Z",
     "shell.execute_reply": "2023-07-02T10:01:38.977315Z",
     "shell.execute_reply.started": "2023-07-02T10:01:38.972399Z"
    }
   },
   "outputs": [
    {
     "data": {
      "text/plain": [
       "array([0.  , 0.05, 0.1 , 0.15, 0.2 , 0.25, 0.3 , 0.35, 0.4 , 0.45, 0.5 ,\n",
       "       0.55, 0.6 , 0.65, 0.7 , 0.75, 0.8 , 0.85, 0.9 , 0.95])"
      ]
     },
     "execution_count": 13,
     "metadata": {},
     "output_type": "execute_result"
    }
   ],
   "source": [
    "np.linspace(0, 1, num = 20, endpoint = False)"
   ]
  },
  {
   "cell_type": "code",
   "execution_count": 14,
   "id": "3163b2d4-7063-4798-8e13-10bbf4fcebaf",
   "metadata": {
    "execution": {
     "iopub.execute_input": "2023-07-02T10:01:40.044288Z",
     "iopub.status.busy": "2023-07-02T10:01:40.043306Z",
     "iopub.status.idle": "2023-07-02T10:01:40.267753Z",
     "shell.execute_reply": "2023-07-02T10:01:40.267753Z",
     "shell.execute_reply.started": "2023-07-02T10:01:40.044288Z"
    }
   },
   "outputs": [
    {
     "data": {
      "image/png": "[encoded data removed]",
      "text/plain": [
       "<Figure size 640x480 with 1 Axes>"
      ]
     },
     "metadata": {},
     "output_type": "display_data"
    }
   ],
   "source": [
    "# Our sample seems left skewed, oopsies.\n",
    "# Let's have a QQ plot.\n",
    "\n",
    "q = np.linspace(0, 1, num = 21)\n",
    "snorm = np.random.standard_normal(size = ssize)\n",
    "\n",
    "q_snorm = np.quantile(snorm, q)\n",
    "q_sample = np.quantile(oil.Oil_temperature, q)\n",
    "\n",
    "fig, axes = plt.subplots()\n",
    "axes.scatter(q_snorm, q_sample)\n",
    "axes.plot(axes.get_xbound(), axes.get_ybound(), color = \"red\")\n",
    "axes.set_xlabel(\"Standard Normal Quantiles\")\n",
    "axes.set_ylabel(\"Sample Quantiles\")\n",
    "plt.show()"
   ]
  },
  {
   "cell_type": "code",
   "execution_count": 39,
   "id": "19c14d9a-bbbf-4126-b861-69e572f96e3f",
   "metadata": {
    "execution": {
     "iopub.execute_input": "2023-07-01T14:14:16.754420Z",
     "iopub.status.busy": "2023-07-01T14:14:16.754420Z",
     "iopub.status.idle": "2023-07-01T14:14:16.769509Z",
     "shell.execute_reply": "2023-07-01T14:14:16.769509Z",
     "shell.execute_reply.started": "2023-07-01T14:14:16.754420Z"
    }
   },
   "outputs": [],
   "source": [
    "# There are deviations in the QQ plot!"
   ]
  },
  {
   "cell_type": "code",
   "execution_count": null,
   "id": "c83d3394-3361-40ca-9645-04eb7d7842d0",
   "metadata": {},
   "outputs": [],
   "source": []
  },
  {
   "cell_type": "code",
   "execution_count": 17,
   "id": "a6c6cd3e-70ec-4fce-a806-f8769792daf8",
   "metadata": {
    "execution": {
     "iopub.execute_input": "2023-07-02T10:04:49.631124Z",
     "iopub.status.busy": "2023-07-02T10:04:49.631124Z",
     "iopub.status.idle": "2023-07-02T10:04:49.637563Z",
     "shell.execute_reply": "2023-07-02T10:04:49.637563Z",
     "shell.execute_reply.started": "2023-07-02T10:04:49.631124Z"
    }
   },
   "outputs": [
    {
     "data": {
      "text/plain": [
       "1.0"
      ]
     },
     "execution_count": 17,
     "metadata": {},
     "output_type": "execute_result"
    }
   ],
   "source": [
    "# p value for null hypothesis,\n",
    "\n",
    "# Our alternative hypothesis claimed that the population mean is greater than 61.0,\n",
    "# so, our p should cover the area of the t distribution on the right of the line,\n",
    "\n",
    "p = 1 - t.cdf(tscore, df = ssize - 1)\n",
    "p"
   ]
  },
  {
   "cell_type": "code",
   "execution_count": 138,
   "id": "10ebbbfc-bda1-4925-abf9-ae1484099c96",
   "metadata": {
    "execution": {
     "iopub.execute_input": "2023-07-02T11:19:16.602674Z",
     "iopub.status.busy": "2023-07-02T11:19:16.598661Z",
     "iopub.status.idle": "2023-07-02T11:19:16.606966Z",
     "shell.execute_reply": "2023-07-02T11:19:16.606453Z",
     "shell.execute_reply.started": "2023-07-02T11:19:16.602674Z"
    }
   },
   "outputs": [],
   "source": [
    "# So, with this p value, we cannot reject the Null hypothesis,\n",
    "# because the p value is greater than the specified significance.\n",
    "\n",
    "# So, we claim that there's enough evidence to assert that the mean of population is indeed equal to 61.0"
   ]
  },
  {
   "cell_type": "code",
   "execution_count": 94,
   "id": "6ae6f4cb-e99d-4451-b788-0987536e0775",
   "metadata": {
    "execution": {
     "iopub.execute_input": "2023-07-02T10:45:47.520674Z",
     "iopub.status.busy": "2023-07-02T10:45:47.520674Z",
     "iopub.status.idle": "2023-07-02T10:45:47.527531Z",
     "shell.execute_reply": "2023-07-02T10:45:47.527531Z",
     "shell.execute_reply.started": "2023-07-02T10:45:47.520674Z"
    }
   },
   "outputs": [
    {
     "data": {
      "text/plain": [
       "3.703464581479672e-37"
      ]
     },
     "execution_count": 94,
     "metadata": {},
     "output_type": "execute_result"
    }
   ],
   "source": [
    "# The probability of a random normal value being greater than the given t score is 1, almost 1.0\n",
    "# The probability of a standard random normal value being less than the given t socre,\n",
    "\n",
    "p_ = t.cdf(tscore, df = ssize - 1)\n",
    "p_"
   ]
  },
  {
   "cell_type": "code",
   "execution_count": 61,
   "id": "b85899d0-c079-48e4-a32a-337cf4fa277a",
   "metadata": {
    "execution": {
     "iopub.execute_input": "2023-07-02T10:32:56.856415Z",
     "iopub.status.busy": "2023-07-02T10:32:56.856415Z",
     "iopub.status.idle": "2023-07-02T10:32:56.883380Z",
     "shell.execute_reply": "2023-07-02T10:32:56.883248Z",
     "shell.execute_reply.started": "2023-07-02T10:32:56.856415Z"
    }
   },
   "outputs": [],
   "source": [
    "tdist = t(df = ssize - 1)\n",
    "vals = np.linspace(-4, 4, num = 100_000, endpoint = True)\n",
    "tvals = tdist.pdf(vals)"
   ]
  },
  {
   "cell_type": "code",
   "execution_count": null,
   "id": "3b118be7-eb50-4516-bf0c-9f844e86da76",
   "metadata": {},
   "outputs": [],
   "source": []
  },
  {
   "cell_type": "code",
   "execution_count": 97,
   "id": "4a9d880e-9476-49b2-a9b2-0657f6938c1e",
   "metadata": {
    "execution": {
     "iopub.execute_input": "2023-07-02T10:47:23.060738Z",
     "iopub.status.busy": "2023-07-02T10:47:23.056738Z",
     "iopub.status.idle": "2023-07-02T10:47:23.227079Z",
     "shell.execute_reply": "2023-07-02T10:47:23.227079Z",
     "shell.execute_reply.started": "2023-07-02T10:47:23.060738Z"
    }
   },
   "outputs": [
    {
     "data": {
      "image/png": "[encoded data removed]",
      "text/plain": [
       "<Figure size 640x480 with 1 Axes>"
      ]
     },
     "metadata": {},
     "output_type": "display_data"
    }
   ],
   "source": [
    "fig, axes = plt.subplots()\n",
    "axes.plot(vals, tvals)\n",
    "axes.vlines(x = tscore, ymin = 0, ymax = axes.get_ybound()[1], color = \"red\")\n",
    "axes.fill_between(y1 = tvals, y2 = 0, x = vals, color = \"yellow\", where = vals >= tscore)\n",
    "axes.set_xlabel(\"t\")\n",
    "axes.set_ylabel(\"pdf\")\n",
    "plt.show()"
   ]
  },
  {
   "cell_type": "code",
   "execution_count": null,
   "id": "20ea077b-345d-4831-bfde-ef79455f2c85",
   "metadata": {},
   "outputs": [],
   "source": []
  },
  {
   "cell_type": "code",
   "execution_count": 103,
   "id": "efc477e9-10b4-4d40-9d1a-56ae44810ad2",
   "metadata": {
    "execution": {
     "iopub.execute_input": "2023-07-02T10:50:12.920495Z",
     "iopub.status.busy": "2023-07-02T10:50:12.920495Z",
     "iopub.status.idle": "2023-07-02T10:50:12.927891Z",
     "shell.execute_reply": "2023-07-02T10:50:12.927891Z",
     "shell.execute_reply.started": "2023-07-02T10:50:12.920495Z"
    }
   },
   "outputs": [
    {
     "data": {
      "text/plain": [
       "0.2101428819508041"
      ]
     },
     "execution_count": 103,
     "metadata": {},
     "output_type": "execute_result"
    }
   ],
   "source": [
    "# Yay!\n",
    "\n",
    "1 - t.cdf(0.82, df = 24)"
   ]
  },
  {
   "cell_type": "code",
   "execution_count": null,
   "id": "d3a99557-ddc0-432f-8b44-de329da37655",
   "metadata": {},
   "outputs": [],
   "source": []
  },
  {
   "cell_type": "markdown",
   "id": "f8e88260-3f46-4417-9a90-0b637730615f",
   "metadata": {},
   "source": [
    "## ___Using the Dataset as a Population.___\n",
    "--------------------"
   ]
  },
  {
   "cell_type": "code",
   "execution_count": 106,
   "id": "48e1f8e1-28e7-472f-a772-aacd4925cc09",
   "metadata": {
    "execution": {
     "iopub.execute_input": "2023-07-02T10:51:06.330185Z",
     "iopub.status.busy": "2023-07-02T10:51:06.330185Z",
     "iopub.status.idle": "2023-07-02T10:51:06.337548Z",
     "shell.execute_reply": "2023-07-02T10:51:06.337548Z",
     "shell.execute_reply.started": "2023-07-02T10:51:06.330185Z"
    }
   },
   "outputs": [
    {
     "data": {
      "text/plain": [
       "60.91453961453962"
      ]
     },
     "execution_count": 106,
     "metadata": {},
     "output_type": "execute_result"
    }
   ],
   "source": [
    "pop_mean = oil.Oil_temperature.mean()\n",
    "pop_mean"
   ]
  },
  {
   "cell_type": "code",
   "execution_count": 107,
   "id": "fe92fced-77c4-4e1c-b618-f360e706e7da",
   "metadata": {
    "execution": {
     "iopub.execute_input": "2023-07-02T10:51:21.304836Z",
     "iopub.status.busy": "2023-07-02T10:51:21.304836Z",
     "iopub.status.idle": "2023-07-02T10:51:21.310485Z",
     "shell.execute_reply": "2023-07-02T10:51:21.309971Z",
     "shell.execute_reply.started": "2023-07-02T10:51:21.304836Z"
    }
   },
   "outputs": [
    {
     "data": {
      "text/plain": [
       "999999"
      ]
     },
     "execution_count": 107,
     "metadata": {},
     "output_type": "execute_result"
    }
   ],
   "source": [
    "oil.size"
   ]
  },
  {
   "cell_type": "code",
   "execution_count": 108,
   "id": "1ba466fa-7dca-4f52-a33c-256c3b88ebde",
   "metadata": {
    "execution": {
     "iopub.execute_input": "2023-07-02T10:52:12.225289Z",
     "iopub.status.busy": "2023-07-02T10:52:12.224287Z",
     "iopub.status.idle": "2023-07-02T10:52:12.270283Z",
     "shell.execute_reply": "2023-07-02T10:52:12.270283Z",
     "shell.execute_reply.started": "2023-07-02T10:52:12.225289Z"
    }
   },
   "outputs": [
    {
     "data": {
      "text/plain": [
       "60.991279999999996"
      ]
     },
     "execution_count": 108,
     "metadata": {},
     "output_type": "execute_result"
    }
   ],
   "source": [
    "# Sample of 10,000\n",
    "\n",
    "sample = oil.Oil_temperature[np.random.randint(low = 0, high = oil.size, size = 10_000)]\n",
    "sample_mean = sample.mean()\n",
    "sample_mean"
   ]
  },
  {
   "cell_type": "code",
   "execution_count": 109,
   "id": "e7849348-d9fc-4384-a6cd-318bd1af3e9d",
   "metadata": {
    "execution": {
     "iopub.execute_input": "2023-07-02T10:53:58.720170Z",
     "iopub.status.busy": "2023-07-02T10:53:58.720170Z",
     "iopub.status.idle": "2023-07-02T10:53:58.725446Z",
     "shell.execute_reply": "2023-07-02T10:53:58.725395Z",
     "shell.execute_reply.started": "2023-07-02T10:53:58.720170Z"
    }
   },
   "outputs": [],
   "source": [
    "# Our best estimate for the population mean is the sample mean.\n",
    "# Significance alpha = 0.05\n",
    "\n",
    "# Null: Population mean is 61.0\n",
    "# Alternative: Population mean is not equal to 61.0 (two way t test.)"
   ]
  },
  {
   "cell_type": "code",
   "execution_count": 110,
   "id": "bd1daa83-2310-42f2-8e10-823b28d04896",
   "metadata": {
    "execution": {
     "iopub.execute_input": "2023-07-02T10:55:56.768937Z",
     "iopub.status.busy": "2023-07-02T10:55:56.768937Z",
     "iopub.status.idle": "2023-07-02T10:55:56.785380Z",
     "shell.execute_reply": "2023-07-02T10:55:56.785380Z",
     "shell.execute_reply.started": "2023-07-02T10:55:56.768937Z"
    }
   },
   "outputs": [
    {
     "data": {
      "text/plain": [
       "0.006738252131068929"
      ]
     },
     "execution_count": 110,
     "metadata": {},
     "output_type": "execute_result"
    }
   ],
   "source": [
    "# Test statistic,\n",
    "# Here, we do know the standard error of the population, but we'll use the standard error estimated from the sample.\n",
    "\n",
    "stderr_pop = oil.Oil_temperature.std() / np.sqrt(oil.size)\n",
    "stderr_pop"
   ]
  },
  {
   "cell_type": "code",
   "execution_count": 111,
   "id": "c8c30ef1-3b5f-4a82-8cb6-b3b45a6520bc",
   "metadata": {
    "execution": {
     "iopub.execute_input": "2023-07-02T10:56:19.369699Z",
     "iopub.status.busy": "2023-07-02T10:56:19.369699Z",
     "iopub.status.idle": "2023-07-02T10:56:19.374862Z",
     "shell.execute_reply": "2023-07-02T10:56:19.374862Z",
     "shell.execute_reply.started": "2023-07-02T10:56:19.369699Z"
    }
   },
   "outputs": [
    {
     "data": {
      "text/plain": [
       "0.06683150897008926"
      ]
     },
     "execution_count": 111,
     "metadata": {},
     "output_type": "execute_result"
    }
   ],
   "source": [
    "stderr_sample = sample.std() / np.sqrt(sample.size)\n",
    "stderr_sample"
   ]
  },
  {
   "cell_type": "code",
   "execution_count": 121,
   "id": "3303c472-361f-45b0-96f6-4b8a9947e6d3",
   "metadata": {
    "execution": {
     "iopub.execute_input": "2023-07-02T10:59:57.600519Z",
     "iopub.status.busy": "2023-07-02T10:59:57.600519Z",
     "iopub.status.idle": "2023-07-02T10:59:57.607789Z",
     "shell.execute_reply": "2023-07-02T10:59:57.607243Z",
     "shell.execute_reply.started": "2023-07-02T10:59:57.600519Z"
    }
   },
   "outputs": [
    {
     "data": {
      "text/plain": [
       "-0.1304773771291998"
      ]
     },
     "execution_count": 121,
     "metadata": {},
     "output_type": "execute_result"
    }
   ],
   "source": [
    "tscore = (sample_mean - 61) / stderr_sample\n",
    "tscore"
   ]
  },
  {
   "cell_type": "code",
   "execution_count": 120,
   "id": "99553312-8a3b-4e25-b3fd-e4e1d509d7fa",
   "metadata": {
    "execution": {
     "iopub.execute_input": "2023-07-02T10:59:15.665373Z",
     "iopub.status.busy": "2023-07-02T10:59:15.665373Z",
     "iopub.status.idle": "2023-07-02T10:59:15.671110Z",
     "shell.execute_reply": "2023-07-02T10:59:15.670548Z",
     "shell.execute_reply.started": "2023-07-02T10:59:15.665373Z"
    }
   },
   "outputs": [
    {
     "data": {
      "text/plain": [
       "60.991279999999996"
      ]
     },
     "execution_count": 120,
     "metadata": {},
     "output_type": "execute_result"
    }
   ],
   "source": [
    "# That mean our true population mean is t times standard errors less than the hypothesized mean!\n",
    "\n",
    "61 - (stderr_sample * abs(t))"
   ]
  },
  {
   "cell_type": "code",
   "execution_count": 134,
   "id": "e8288b96-4eed-408e-b77c-2fc705030fd6",
   "metadata": {
    "execution": {
     "iopub.execute_input": "2023-07-02T11:06:34.785355Z",
     "iopub.status.busy": "2023-07-02T11:06:34.785355Z",
     "iopub.status.idle": "2023-07-02T11:06:34.791604Z",
     "shell.execute_reply": "2023-07-02T11:06:34.791086Z",
     "shell.execute_reply.started": "2023-07-02T11:06:34.785355Z"
    }
   },
   "outputs": [
    {
     "data": {
      "text/plain": [
       "0.4480956881541758"
      ]
     },
     "execution_count": 134,
     "metadata": {},
     "output_type": "execute_result"
    }
   ],
   "source": [
    "t.cdf(tscore, df = sample.size - 1)"
   ]
  },
  {
   "cell_type": "code",
   "execution_count": 135,
   "id": "35cf1143-98b5-41e8-a55d-1febe8559a6c",
   "metadata": {
    "execution": {
     "iopub.execute_input": "2023-07-02T11:06:44.111407Z",
     "iopub.status.busy": "2023-07-02T11:06:44.111407Z",
     "iopub.status.idle": "2023-07-02T11:06:44.647381Z",
     "shell.execute_reply": "2023-07-02T11:06:44.646569Z",
     "shell.execute_reply.started": "2023-07-02T11:06:44.111407Z"
    }
   },
   "outputs": [
    {
     "data": {
      "image/png": "[encoded data removed]",
      "text/plain": [
       "<Figure size 640x480 with 1 Axes>"
      ]
     },
     "metadata": {},
     "output_type": "display_data"
    }
   ],
   "source": [
    "# Since our t test was two tailed, we should consider instances when the population mean was less than the hypothesized mean\n",
    "# and instances when the population mean was greater than the hypothesized mean.\n",
    "\n",
    "x = np.linspace(-5, 5, num = 1000, endpoint = True)\n",
    "tdist = t(df = sample.size - 1).pdf(x)\n",
    "\n",
    "fig, axes = plt.subplots()\n",
    "axes.plot(x, tdist, color = \"red\")\n",
    "axes.fill_between(y1 = tdist, y2 = 0, x = x, color = \"yellow\", where = (x <= tscore) | (x >= abs(tscore)))\n",
    "axes.set_xlabel(\"t\")\n",
    "axes.set_ylabel(\"pdf\")\n",
    "plt.show()"
   ]
  },
  {
   "cell_type": "code",
   "execution_count": 136,
   "id": "d828fce2-3c90-4443-9152-53565fa569d0",
   "metadata": {
    "execution": {
     "iopub.execute_input": "2023-07-02T11:07:09.929472Z",
     "iopub.status.busy": "2023-07-02T11:07:09.929472Z",
     "iopub.status.idle": "2023-07-02T11:07:09.934723Z",
     "shell.execute_reply": "2023-07-02T11:07:09.934192Z",
     "shell.execute_reply.started": "2023-07-02T11:07:09.929472Z"
    }
   },
   "outputs": [
    {
     "data": {
      "text/plain": [
       "0.4480956881541758"
      ]
     },
     "execution_count": 136,
     "metadata": {},
     "output_type": "execute_result"
    }
   ],
   "source": [
    "# One yellow area is equivalent to\n",
    "\n",
    "t.cdf(tscore, df = sample.size - 1)"
   ]
  },
  {
   "cell_type": "code",
   "execution_count": 137,
   "id": "d4225bdc-47cb-4dd2-9209-d2e781f5c976",
   "metadata": {
    "execution": {
     "iopub.execute_input": "2023-07-02T11:08:00.585896Z",
     "iopub.status.busy": "2023-07-02T11:08:00.585896Z",
     "iopub.status.idle": "2023-07-02T11:08:00.590257Z",
     "shell.execute_reply": "2023-07-02T11:08:00.589956Z",
     "shell.execute_reply.started": "2023-07-02T11:08:00.585896Z"
    }
   },
   "outputs": [
    {
     "data": {
      "text/plain": [
       "0.8961913763083516"
      ]
     },
     "execution_count": 137,
     "metadata": {},
     "output_type": "execute_result"
    }
   ],
   "source": [
    "# The area of the curve, since we need the two yellow regions (due to our test design being a two tailed test)\n",
    "\n",
    "p = 2 * t.cdf(tscore, df = sample.size - 1)\n",
    "p"
   ]
  },
  {
   "cell_type": "code",
   "execution_count": null,
   "id": "889831cc-7ff8-4a4b-85ce-b27ea46b6440",
   "metadata": {},
   "outputs": [],
   "source": [
    "# That's a large p value.\n",
    "# Much bigger than our significance level of 0.05\n",
    "\n",
    "# So, we cannot reject the Null hypothesis.\n",
    "# So, we'll propose that there is enough evidence that the population mean is indeed equal to 61.0"
   ]
  },
  {
   "cell_type": "code",
   "execution_count": null,
   "id": "eb7629dd-ae1f-4fee-ac48-d7045629c645",
   "metadata": {},
   "outputs": [],
   "source": []
  },
  {
   "cell_type": "markdown",
   "id": "2fe00531-0545-48f5-b8da-b43911f920be",
   "metadata": {},
   "source": [
    "## ___Confidence Intervals___\n",
    "-----------------"
   ]
  },
  {
   "cell_type": "code",
   "execution_count": 162,
   "id": "05da154e-bdff-435f-9650-383793f1f897",
   "metadata": {
    "execution": {
     "iopub.execute_input": "2023-07-02T11:32:20.738343Z",
     "iopub.status.busy": "2023-07-02T11:32:20.738343Z",
     "iopub.status.idle": "2023-07-02T11:32:20.742390Z",
     "shell.execute_reply": "2023-07-02T11:32:20.742390Z",
     "shell.execute_reply.started": "2023-07-02T11:32:20.738343Z"
    }
   },
   "outputs": [
    {
     "data": {
      "text/plain": [
       "60.991279999999996"
      ]
     },
     "execution_count": 162,
     "metadata": {},
     "output_type": "execute_result"
    }
   ],
   "source": [
    "# Considering the dataset as the population.\n",
    "# That's our best estimate,\n",
    "\n",
    "sample_mean"
   ]
  },
  {
   "cell_type": "code",
   "execution_count": 164,
   "id": "202eb91b-8118-4108-ab36-6fb13e137ddc",
   "metadata": {
    "execution": {
     "iopub.execute_input": "2023-07-02T11:33:10.043063Z",
     "iopub.status.busy": "2023-07-02T11:33:10.043063Z",
     "iopub.status.idle": "2023-07-02T11:33:10.048427Z",
     "shell.execute_reply": "2023-07-02T11:33:10.048427Z",
     "shell.execute_reply.started": "2023-07-02T11:33:10.043063Z"
    }
   },
   "outputs": [
    {
     "data": {
      "text/plain": [
       "1.6450060333112988"
      ]
     },
     "execution_count": 164,
     "metadata": {},
     "output_type": "execute_result"
    }
   ],
   "source": [
    "# We'll use a 95% confidence level,\n",
    "\n",
    "tstar = t.ppf(0.95, df = sample.size - 1)\n",
    "tstar"
   ]
  },
  {
   "cell_type": "code",
   "execution_count": 165,
   "id": "5937b3b4-5431-4786-a4ca-7c70716da074",
   "metadata": {
    "execution": {
     "iopub.execute_input": "2023-07-02T11:34:13.390760Z",
     "iopub.status.busy": "2023-07-02T11:34:13.390760Z",
     "iopub.status.idle": "2023-07-02T11:34:13.398703Z",
     "shell.execute_reply": "2023-07-02T11:34:13.398703Z",
     "shell.execute_reply.started": "2023-07-02T11:34:13.390760Z"
    }
   },
   "outputs": [
    {
     "data": {
      "text/plain": [
       "0.06683150897008926"
      ]
     },
     "execution_count": 165,
     "metadata": {},
     "output_type": "execute_result"
    }
   ],
   "source": [
    "# Standard error (estimated), even though we here have the chance to compute the true standard error of the population,\n",
    "\n",
    "stderr = sample.std() / np.sqrt(sample.size)\n",
    "stderr"
   ]
  },
  {
   "cell_type": "code",
   "execution_count": 166,
   "id": "f670400f-7055-4961-9678-50f52559dacc",
   "metadata": {
    "execution": {
     "iopub.execute_input": "2023-07-02T11:34:30.096437Z",
     "iopub.status.busy": "2023-07-02T11:34:30.096437Z",
     "iopub.status.idle": "2023-07-02T11:34:30.103534Z",
     "shell.execute_reply": "2023-07-02T11:34:30.103534Z",
     "shell.execute_reply.started": "2023-07-02T11:34:30.096437Z"
    }
   },
   "outputs": [
    {
     "data": {
      "text/plain": [
       "0.109938235471095"
      ]
     },
     "execution_count": 166,
     "metadata": {},
     "output_type": "execute_result"
    }
   ],
   "source": [
    "# Margin of error\n",
    "\n",
    "moerr = tstar * stderr\n",
    "moerr"
   ]
  },
  {
   "cell_type": "code",
   "execution_count": 167,
   "id": "b8672513-953e-48dd-9f92-4401d0fdc650",
   "metadata": {
    "execution": {
     "iopub.execute_input": "2023-07-02T11:34:49.375977Z",
     "iopub.status.busy": "2023-07-02T11:34:49.375977Z",
     "iopub.status.idle": "2023-07-02T11:34:49.384483Z",
     "shell.execute_reply": "2023-07-02T11:34:49.383960Z",
     "shell.execute_reply.started": "2023-07-02T11:34:49.375977Z"
    }
   },
   "outputs": [
    {
     "data": {
      "text/plain": [
       "(60.80460137906852, 61.02447785001072)"
      ]
     },
     "execution_count": 167,
     "metadata": {},
     "output_type": "execute_result"
    }
   ],
   "source": [
    "# Confidence interval,\n",
    "\n",
    "best_est - moerr, best_est + moerr"
   ]
  },
  {
   "cell_type": "code",
   "execution_count": null,
   "id": "9e9c6162-381c-4dae-94ab-d89aba36d7a7",
   "metadata": {},
   "outputs": [],
   "source": []
  },
  {
   "cell_type": "code",
   "execution_count": null,
   "id": "6a37acb0-b627-43cf-b702-5dd0c5e2ebac",
   "metadata": {},
   "outputs": [],
   "source": []
  },
  {
   "cell_type": "code",
   "execution_count": 139,
   "id": "e7898265-da08-41e6-8bb5-88b90f6f7389",
   "metadata": {
    "execution": {
     "iopub.execute_input": "2023-07-02T11:22:27.907876Z",
     "iopub.status.busy": "2023-07-02T11:22:27.907876Z",
     "iopub.status.idle": "2023-07-02T11:22:27.929720Z",
     "shell.execute_reply": "2023-07-02T11:22:27.929720Z",
     "shell.execute_reply.started": "2023-07-02T11:22:27.907876Z"
    }
   },
   "outputs": [
    {
     "data": {
      "text/plain": [
       "60.91453961453962"
      ]
     },
     "execution_count": 139,
     "metadata": {},
     "output_type": "execute_result"
    }
   ],
   "source": [
    "# Considering the dataset as a sample;\n",
    "\n",
    "best_est = oil.Oil_temperature.mean()\n",
    "best_est"
   ]
  },
  {
   "cell_type": "code",
   "execution_count": 152,
   "id": "9c575d28-39ff-4a17-9a19-6729eada7e95",
   "metadata": {
    "execution": {
     "iopub.execute_input": "2023-07-02T11:28:17.956298Z",
     "iopub.status.busy": "2023-07-02T11:28:17.954299Z",
     "iopub.status.idle": "2023-07-02T11:28:17.961062Z",
     "shell.execute_reply": "2023-07-02T11:28:17.961062Z",
     "shell.execute_reply.started": "2023-07-02T11:28:17.956298Z"
    }
   },
   "outputs": [
    {
     "data": {
      "text/plain": [
       "1.6448551507250875"
      ]
     },
     "execution_count": 152,
     "metadata": {},
     "output_type": "execute_result"
    }
   ],
   "source": [
    "# Margin of error = multiplier * standard error\n",
    "# We'll use the t multiplier since we are dealing with means.\n",
    "# With 95% confidence\n",
    "\n",
    "tstar = t.ppf(0.95, df = oil.size - 1)\n",
    "tstar"
   ]
  },
  {
   "cell_type": "code",
   "execution_count": 153,
   "id": "70395ecd-3dc9-41ec-be0f-0e695b628dba",
   "metadata": {
    "execution": {
     "iopub.execute_input": "2023-07-02T11:28:54.554280Z",
     "iopub.status.busy": "2023-07-02T11:28:54.554280Z",
     "iopub.status.idle": "2023-07-02T11:28:54.572805Z",
     "shell.execute_reply": "2023-07-02T11:28:54.572805Z",
     "shell.execute_reply.started": "2023-07-02T11:28:54.554280Z"
    }
   },
   "outputs": [
    {
     "data": {
      "text/plain": [
       "0.006738252131068929"
      ]
     },
     "execution_count": 153,
     "metadata": {},
     "output_type": "execute_result"
    }
   ],
   "source": [
    "stderr = oil.Oil_temperature.std() / np.sqrt(oil.size)\n",
    "stderr"
   ]
  },
  {
   "cell_type": "code",
   "execution_count": 154,
   "id": "3c158529-8f0e-4de9-9095-6bfec2f4541c",
   "metadata": {
    "execution": {
     "iopub.execute_input": "2023-07-02T11:29:16.610905Z",
     "iopub.status.busy": "2023-07-02T11:29:16.610905Z",
     "iopub.status.idle": "2023-07-02T11:29:16.614993Z",
     "shell.execute_reply": "2023-07-02T11:29:16.614993Z",
     "shell.execute_reply.started": "2023-07-02T11:29:16.610905Z"
    }
   },
   "outputs": [
    {
     "data": {
      "text/plain": [
       "0.011083448724673026"
      ]
     },
     "execution_count": 154,
     "metadata": {},
     "output_type": "execute_result"
    }
   ],
   "source": [
    "moerr = tstar * stderr\n",
    "moerr"
   ]
  },
  {
   "cell_type": "code",
   "execution_count": 155,
   "id": "087b348d-e662-4dac-8f08-5c1e5ed2bb67",
   "metadata": {
    "execution": {
     "iopub.execute_input": "2023-07-02T11:29:42.754155Z",
     "iopub.status.busy": "2023-07-02T11:29:42.754155Z",
     "iopub.status.idle": "2023-07-02T11:29:42.759058Z",
     "shell.execute_reply": "2023-07-02T11:29:42.759058Z",
     "shell.execute_reply.started": "2023-07-02T11:29:42.754155Z"
    }
   },
   "outputs": [
    {
     "data": {
      "text/plain": [
       "(60.903456165814944, 60.9256230632643)"
      ]
     },
     "execution_count": 155,
     "metadata": {},
     "output_type": "execute_result"
    }
   ],
   "source": [
    "# 95% confidence interval;\n",
    "\n",
    "best_est - moerr, best_est + moerr"
   ]
  },
  {
   "cell_type": "code",
   "execution_count": null,
   "id": "d14d1df8-f2e9-4da4-9314-804f3368c9cd",
   "metadata": {},
   "outputs": [],
   "source": []
  },
  {
   "cell_type": "code",
   "execution_count": 159,
   "id": "2b9f7dd9-01d5-4c68-9f27-0425a7612d19",
   "metadata": {
    "execution": {
     "iopub.execute_input": "2023-07-02T11:30:18.546517Z",
     "iopub.status.busy": "2023-07-02T11:30:18.546517Z",
     "iopub.status.idle": "2023-07-02T11:30:18.551583Z",
     "shell.execute_reply": "2023-07-02T11:30:18.551583Z",
     "shell.execute_reply.started": "2023-07-02T11:30:18.546517Z"
    }
   },
   "outputs": [
    {
     "data": {
      "text/plain": [
       "2.326351603128263"
      ]
     },
     "execution_count": 159,
     "metadata": {},
     "output_type": "execute_result"
    }
   ],
   "source": [
    "t.ppf(0.99, df = oil.size - 1)"
   ]
  },
  {
   "cell_type": "code",
   "execution_count": 151,
   "id": "2da9f575-931f-4efc-ad15-2055ce67dc0e",
   "metadata": {
    "execution": {
     "iopub.execute_input": "2023-07-02T11:27:54.946808Z",
     "iopub.status.busy": "2023-07-02T11:27:54.946808Z",
     "iopub.status.idle": "2023-07-02T11:27:54.951830Z",
     "shell.execute_reply": "2023-07-02T11:27:54.951830Z",
     "shell.execute_reply.started": "2023-07-02T11:27:54.946808Z"
    }
   },
   "outputs": [
    {
     "data": {
      "text/plain": [
       "1.7108820799094275"
      ]
     },
     "execution_count": 151,
     "metadata": {},
     "output_type": "execute_result"
    }
   ],
   "source": [
    "t.ppf(0.95, 24)"
   ]
  },
  {
   "cell_type": "code",
   "execution_count": null,
   "id": "be90ae93-f13d-4437-9b57-1ed349049380",
   "metadata": {},
   "outputs": [],
   "source": []
  },
  {
   "cell_type": "code",
   "execution_count": null,
   "id": "02bbb9a0-aa07-4004-87a1-dd2324958e70",
   "metadata": {},
   "outputs": [],
   "source": [
    "# IF WE ARE NOT CONVINCED ABOUT THE NORMALITY OF OUR SAMPLE, IN CASE THERE'S A SKEWEDNESS OR EXTREME OUTLIERS,\n",
    "# THERE ARE NON-PARAMETRIC TESTS THAT CAN HELP US OVERCOME SUCH HINDRANCES!.\n",
    "# E.G. WILCOXON-SIGNED-RANK TEST FOR EXAMPLE."
   ]
  }
 ],
 "metadata": {
  "kernelspec": {
   "display_name": "Python 3 (ipykernel)",
   "language": "python",
   "name": "python3"
  },
  "language_info": {
   "codemirror_mode": {
    "name": "ipython",
    "version": 3
   },
   "file_extension": ".py",
   "mimetype": "text/x-python",
   "name": "python",
   "nbconvert_exporter": "python",
   "pygments_lexer": "ipython3",
   "version": "3.11.4"
  }
 },
 "nbformat": 4,
 "nbformat_minor": 5
}
