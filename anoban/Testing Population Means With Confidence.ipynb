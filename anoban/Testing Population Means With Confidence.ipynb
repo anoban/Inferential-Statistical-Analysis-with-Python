{
 "cells": [
  {
   "cell_type": "code",
   "execution_count": 19,
   "id": "edcd6ddd-f197-41b4-84a0-9ab021a583ac",
   "metadata": {
    "execution": {
     "iopub.execute_input": "2023-07-01T14:03:26.078727Z",
     "iopub.status.busy": "2023-07-01T14:03:26.078727Z",
     "iopub.status.idle": "2023-07-01T14:03:26.816484Z",
     "shell.execute_reply": "2023-07-01T14:03:26.816484Z",
     "shell.execute_reply.started": "2023-07-01T14:03:26.078727Z"
    }
   },
   "outputs": [],
   "source": [
    "import numpy as np\n",
    "np.random.seed(2023 - 7 - 1)\n",
    "import pandas as pd\n",
    "from scipy.stats import t\n",
    "import matplotlib.pyplot as plt"
   ]
  },
  {
   "cell_type": "markdown",
   "id": "5840eec0-cfae-4d67-85bd-f02f8a4ebf0d",
   "metadata": {},
   "source": [
    "# ___Testing Population Means With Confidence___\n",
    "-----------------"
   ]
  },
  {
   "cell_type": "code",
   "execution_count": 3,
   "id": "886aa545-1fc2-4993-9bed-49529654a821",
   "metadata": {
    "execution": {
     "iopub.execute_input": "2023-07-01T13:49:17.314934Z",
     "iopub.status.busy": "2023-07-01T13:49:17.314934Z",
     "iopub.status.idle": "2023-07-01T13:49:17.613843Z",
     "shell.execute_reply": "2023-07-01T13:49:17.613843Z",
     "shell.execute_reply.started": "2023-07-01T13:49:17.314934Z"
    }
   },
   "outputs": [],
   "source": [
    "# let's use our iol temperature data.\n",
    "\n",
    "oil = pd.read_csv(\"./../data/MetroPT3(AirCompressor).csv\", usecols = [\"Oil_temperature\"])"
   ]
  },
  {
   "cell_type": "code",
   "execution_count": 5,
   "id": "20529273-d22a-46cc-8b6f-7cb5df26d5f4",
   "metadata": {
    "execution": {
     "iopub.execute_input": "2023-07-01T13:49:27.180943Z",
     "iopub.status.busy": "2023-07-01T13:49:27.180943Z",
     "iopub.status.idle": "2023-07-01T13:49:27.193385Z",
     "shell.execute_reply": "2023-07-01T13:49:27.193385Z",
     "shell.execute_reply.started": "2023-07-01T13:49:27.180943Z"
    }
   },
   "outputs": [
    {
     "data": {
      "text/plain": [
       "(999999, 1)"
      ]
     },
     "execution_count": 5,
     "metadata": {},
     "output_type": "execute_result"
    }
   ],
   "source": [
    "oil.shape"
   ]
  },
  {
   "cell_type": "code",
   "execution_count": 6,
   "id": "47542355-424a-40b0-8863-488545cb8d49",
   "metadata": {
    "execution": {
     "iopub.execute_input": "2023-07-01T13:49:34.324834Z",
     "iopub.status.busy": "2023-07-01T13:49:34.324834Z",
     "iopub.status.idle": "2023-07-01T13:49:34.342389Z",
     "shell.execute_reply": "2023-07-01T13:49:34.342325Z",
     "shell.execute_reply.started": "2023-07-01T13:49:34.324834Z"
    }
   },
   "outputs": [
    {
     "data": {
      "text/plain": [
       "Oil_temperature    60.91454\n",
       "dtype: float64"
      ]
     },
     "execution_count": 6,
     "metadata": {},
     "output_type": "execute_result"
    }
   ],
   "source": [
    "oil.mean()"
   ]
  },
  {
   "cell_type": "markdown",
   "id": "8c29041a-64f0-44a9-a5ec-e02359db6bd1",
   "metadata": {},
   "source": [
    "## ___Considering The Dataset as a Sample of a Larger Population___\n",
    "--------------------"
   ]
  },
  {
   "cell_type": "code",
   "execution_count": 7,
   "id": "b3b3bc56-f6d0-4ea2-b925-a046df495da4",
   "metadata": {
    "execution": {
     "iopub.execute_input": "2023-07-01T13:50:58.251970Z",
     "iopub.status.busy": "2023-07-01T13:50:58.251970Z",
     "iopub.status.idle": "2023-07-01T13:50:58.261553Z",
     "shell.execute_reply": "2023-07-01T13:50:58.261553Z",
     "shell.execute_reply.started": "2023-07-01T13:50:58.251970Z"
    }
   },
   "outputs": [
    {
     "data": {
      "text/plain": [
       "60.91453961453962"
      ]
     },
     "execution_count": 7,
     "metadata": {},
     "output_type": "execute_result"
    }
   ],
   "source": [
    "# best estimate will be the sample mean.\n",
    "\n",
    "best_est = oil.Oil_temperature.mean()\n",
    "best_est"
   ]
  },
  {
   "cell_type": "code",
   "execution_count": 8,
   "id": "f390111e-d0c8-459f-9ddb-64f4c7f544d7",
   "metadata": {
    "execution": {
     "iopub.execute_input": "2023-07-01T13:51:24.326252Z",
     "iopub.status.busy": "2023-07-01T13:51:24.326252Z",
     "iopub.status.idle": "2023-07-01T13:51:24.345121Z",
     "shell.execute_reply": "2023-07-01T13:51:24.345121Z",
     "shell.execute_reply.started": "2023-07-01T13:51:24.326252Z"
    }
   },
   "outputs": [
    {
     "data": {
      "text/plain": [
       "999999"
      ]
     },
     "execution_count": 8,
     "metadata": {},
     "output_type": "execute_result"
    }
   ],
   "source": [
    "# sample size \n",
    "\n",
    "ssize = oil.shape[0]\n",
    "ssize"
   ]
  },
  {
   "cell_type": "code",
   "execution_count": 16,
   "id": "b6cebf5e-6320-4033-a0c4-ebfc61444896",
   "metadata": {
    "execution": {
     "iopub.execute_input": "2023-07-01T14:01:56.419307Z",
     "iopub.status.busy": "2023-07-01T14:01:56.419307Z",
     "iopub.status.idle": "2023-07-01T14:01:56.431285Z",
     "shell.execute_reply": "2023-07-01T14:01:56.431285Z",
     "shell.execute_reply.started": "2023-07-01T14:01:56.419307Z"
    }
   },
   "outputs": [],
   "source": [
    "# Significance level 5%, alpha = 0.05.\n",
    "# i.e We accept that 5 out of 100 times, we may get the given test statistic (t) completely randomly, due to chance.\n",
    "# That is if the probability of randomly getting our t statistic is greater than 0.05, we refuse to accept the null hypothesis.\n",
    "\n",
    "# Null hypothesis: Population mean is 61 degrees celsius.\n",
    "# H0: mu = 61\n",
    "\n",
    "# Alternative hypothesis: Population mean is greater than 61 degrees celsius\n",
    "# H1: mu > 61"
   ]
  },
  {
   "cell_type": "code",
   "execution_count": 44,
   "id": "017ca5df-e955-4f3c-a417-c4495bb7d8cc",
   "metadata": {
    "execution": {
     "iopub.execute_input": "2023-07-01T14:16:16.295208Z",
     "iopub.status.busy": "2023-07-01T14:16:16.295208Z",
     "iopub.status.idle": "2023-07-01T14:16:16.329444Z",
     "shell.execute_reply": "2023-07-01T14:16:16.329444Z",
     "shell.execute_reply.started": "2023-07-01T14:16:16.295208Z"
    }
   },
   "outputs": [
    {
     "data": {
      "text/plain": [
       "0.006738252131068929"
      ]
     },
     "execution_count": 44,
     "metadata": {},
     "output_type": "execute_result"
    }
   ],
   "source": [
    "# test statistic = (best estimate - hypothesized estimate) / standard error of the estimate\n",
    "# We do not know the standard error of the population, so we'll use the standard error of the sample.\n",
    "# estimated standard error\n",
    "\n",
    "stderr = oil.Oil_temperature.std() / np.sqrt(ssize)\n",
    "stderr"
   ]
  },
  {
   "cell_type": "code",
   "execution_count": 18,
   "id": "756363f2-2228-41f0-80b4-1fcd8d6f9199",
   "metadata": {
    "execution": {
     "iopub.execute_input": "2023-07-01T14:01:58.990197Z",
     "iopub.status.busy": "2023-07-01T14:01:58.990197Z",
     "iopub.status.idle": "2023-07-01T14:01:58.999800Z",
     "shell.execute_reply": "2023-07-01T14:01:58.999182Z",
     "shell.execute_reply.started": "2023-07-01T14:01:58.990197Z"
    }
   },
   "outputs": [
    {
     "data": {
      "text/plain": [
       "-12.68287143283586"
      ]
     },
     "execution_count": 18,
     "metadata": {},
     "output_type": "execute_result"
    }
   ],
   "source": [
    "tscore = (best_est - 61) / stderr\n",
    "tscore"
   ]
  },
  {
   "cell_type": "code",
   "execution_count": null,
   "id": "d556a0a9-e115-4537-8339-81079f8b7dff",
   "metadata": {},
   "outputs": [],
   "source": [
    "# How do we interpret this t statistic?\n",
    "# Our actual population mean is 12.6828 times the standard errors less than our hypothesized mean."
   ]
  },
  {
   "cell_type": "code",
   "execution_count": null,
   "id": "dbb43209-17a2-4d62-9bb6-9f495de3d40e",
   "metadata": {},
   "outputs": [],
   "source": []
  },
  {
   "cell_type": "code",
   "execution_count": 20,
   "id": "e566ad07-08ac-4bfa-8c9e-0d6a351f0187",
   "metadata": {
    "execution": {
     "iopub.execute_input": "2023-07-01T14:03:30.241828Z",
     "iopub.status.busy": "2023-07-01T14:03:30.241828Z",
     "iopub.status.idle": "2023-07-01T14:03:30.256238Z",
     "shell.execute_reply": "2023-07-01T14:03:30.256238Z",
     "shell.execute_reply.started": "2023-07-01T14:03:30.241828Z"
    }
   },
   "outputs": [],
   "source": [
    "# Assumptions\n",
    "\n",
    "# 1) Our sample is a simple random sample.\n",
    "# 2) Our sample means come from a normal distribution."
   ]
  },
  {
   "cell_type": "code",
   "execution_count": 43,
   "id": "8459805c-fce3-4f98-af44-a411fd5c2d4f",
   "metadata": {
    "execution": {
     "iopub.execute_input": "2023-07-01T14:15:47.165478Z",
     "iopub.status.busy": "2023-07-01T14:15:47.165478Z",
     "iopub.status.idle": "2023-07-01T14:15:47.379139Z",
     "shell.execute_reply": "2023-07-01T14:15:47.379139Z",
     "shell.execute_reply.started": "2023-07-01T14:15:47.165478Z"
    }
   },
   "outputs": [
    {
     "data": {
      "image/png": "[encoded data removed]",
      "text/plain": [
       "<Figure size 640x480 with 1 Axes>"
      ]
     },
     "metadata": {},
     "output_type": "display_data"
    }
   ],
   "source": [
    "fig, axes = plt.subplots()\n",
    "axes.hist(oil.Oil_temperature, bins = 200, rwidth = 0.5)\n",
    "axes.set_xlabel(\"Temperature\")\n",
    "plt.show()"
   ]
  },
  {
   "cell_type": "code",
   "execution_count": 32,
   "id": "087d4c4b-4791-4275-9c2c-289eed71437f",
   "metadata": {
    "execution": {
     "iopub.execute_input": "2023-07-01T14:10:45.534207Z",
     "iopub.status.busy": "2023-07-01T14:10:45.534207Z",
     "iopub.status.idle": "2023-07-01T14:10:45.546083Z",
     "shell.execute_reply": "2023-07-01T14:10:45.546024Z",
     "shell.execute_reply.started": "2023-07-01T14:10:45.534207Z"
    }
   },
   "outputs": [
    {
     "data": {
      "text/plain": [
       "array([0.  , 0.05, 0.1 , 0.15, 0.2 , 0.25, 0.3 , 0.35, 0.4 , 0.45, 0.5 ,\n",
       "       0.55, 0.6 , 0.65, 0.7 , 0.75, 0.8 , 0.85, 0.9 , 0.95])"
      ]
     },
     "execution_count": 32,
     "metadata": {},
     "output_type": "execute_result"
    }
   ],
   "source": [
    "np.linspace(0, 1, num = 20, endpoint = False)"
   ]
  },
  {
   "cell_type": "code",
   "execution_count": 38,
   "id": "3163b2d4-7063-4798-8e13-10bbf4fcebaf",
   "metadata": {
    "execution": {
     "iopub.execute_input": "2023-07-01T14:13:51.487624Z",
     "iopub.status.busy": "2023-07-01T14:13:51.487624Z",
     "iopub.status.idle": "2023-07-01T14:13:51.662067Z",
     "shell.execute_reply": "2023-07-01T14:13:51.662067Z",
     "shell.execute_reply.started": "2023-07-01T14:13:51.487624Z"
    }
   },
   "outputs": [
    {
     "data": {
      "image/png": "[encoded data removed]",
      "text/plain": [
       "<Figure size 640x480 with 1 Axes>"
      ]
     },
     "metadata": {},
     "output_type": "display_data"
    }
   ],
   "source": [
    "# Our sample seems left skewed, oopsies.\n",
    "# Let's have a QQ plot.\n",
    "\n",
    "q = np.linspace(0, 1, num = 21)\n",
    "snorm = np.random.standard_normal(size = ssize)\n",
    "\n",
    "q_snorm = np.quantile(snorm, q)\n",
    "q_sample = np.quantile(oil.Oil_temperature, q)\n",
    "\n",
    "fig, axes = plt.subplots()\n",
    "axes.scatter(q_snorm, q_sample)\n",
    "axes.plot(axes.get_xbound(), axes.get_ybound(), color = \"red\")\n",
    "axes.set_xlabel(\"Standard Normal Quantiles\")\n",
    "axes.set_ylabel(\"Sample Quantiles\")\n",
    "plt.show()"
   ]
  },
  {
   "cell_type": "code",
   "execution_count": 39,
   "id": "19c14d9a-bbbf-4126-b861-69e572f96e3f",
   "metadata": {
    "execution": {
     "iopub.execute_input": "2023-07-01T14:14:16.754420Z",
     "iopub.status.busy": "2023-07-01T14:14:16.754420Z",
     "iopub.status.idle": "2023-07-01T14:14:16.769509Z",
     "shell.execute_reply": "2023-07-01T14:14:16.769509Z",
     "shell.execute_reply.started": "2023-07-01T14:14:16.754420Z"
    }
   },
   "outputs": [],
   "source": [
    "# There are deviations in the QQ plot!"
   ]
  },
  {
   "cell_type": "code",
   "execution_count": null,
   "id": "c83d3394-3361-40ca-9645-04eb7d7842d0",
   "metadata": {},
   "outputs": [],
   "source": []
  },
  {
   "cell_type": "code",
   "execution_count": 46,
   "id": "a6c6cd3e-70ec-4fce-a806-f8769792daf8",
   "metadata": {
    "execution": {
     "iopub.execute_input": "2023-07-01T14:19:48.504336Z",
     "iopub.status.busy": "2023-07-01T14:19:48.504336Z",
     "iopub.status.idle": "2023-07-01T14:19:48.523992Z",
     "shell.execute_reply": "2023-07-01T14:19:48.523460Z",
     "shell.execute_reply.started": "2023-07-01T14:19:48.504336Z"
    }
   },
   "outputs": [
    {
     "data": {
      "text/plain": [
       "3.703464581479672e-37"
      ]
     },
     "execution_count": 46,
     "metadata": {},
     "output_type": "execute_result"
    }
   ],
   "source": [
    "# p value\n",
    "\n",
    "p = t.cdf(tscore, df = ssize - 1)\n",
    "p"
   ]
  },
  {
   "cell_type": "code",
   "execution_count": null,
   "id": "6ae6f4cb-e99d-4451-b788-0987536e0775",
   "metadata": {},
   "outputs": [],
   "source": []
  }
 ],
 "metadata": {
  "kernelspec": {
   "display_name": "Python 3 (ipykernel)",
   "language": "python",
   "name": "python3"
  },
  "language_info": {
   "codemirror_mode": {
    "name": "ipython",
    "version": 3
   },
   "file_extension": ".py",
   "mimetype": "text/x-python",
   "name": "python",
   "nbconvert_exporter": "python",
   "pygments_lexer": "ipython3",
   "version": "3.11.4"
  }
 },
 "nbformat": 4,
 "nbformat_minor": 5
}
