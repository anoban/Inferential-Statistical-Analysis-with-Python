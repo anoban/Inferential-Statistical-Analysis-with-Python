{
 "cells": [
  {
   "cell_type": "code",
   "execution_count": 8,
   "id": "a918e424-4927-4023-a4be-75ab070f6ca5",
   "metadata": {
    "execution": {
     "iopub.execute_input": "2023-07-08T09:49:19.556101Z",
     "iopub.status.busy": "2023-07-08T09:49:19.556101Z",
     "iopub.status.idle": "2023-07-08T09:49:19.565217Z",
     "shell.execute_reply": "2023-07-08T09:49:19.563951Z",
     "shell.execute_reply.started": "2023-07-08T09:49:19.556101Z"
    }
   },
   "outputs": [],
   "source": [
    "import numpy as np\n",
    "import pandas as pd\n",
    "import matplotlib.pyplot as plt\n",
    "from scipy.stats import (t, f, norm, ttest_ind)"
   ]
  },
  {
   "cell_type": "code",
   "execution_count": 112,
   "id": "05c35166-e508-437b-a147-f0fdb9657cbf",
   "metadata": {
    "execution": {
     "iopub.execute_input": "2023-07-08T10:43:56.195017Z",
     "iopub.status.busy": "2023-07-08T10:43:56.195017Z",
     "iopub.status.idle": "2023-07-08T10:43:56.210536Z",
     "shell.execute_reply": "2023-07-08T10:43:56.210396Z",
     "shell.execute_reply.started": "2023-07-08T10:43:56.195017Z"
    }
   },
   "outputs": [],
   "source": [
    "data = pd.read_csv(\"../data/nhanes_2015_2016.csv\", usecols = [\"SMQ020\", \"RIAGENDR\", \"DMDCITZN\", \"RIDAGEYR\", \"BPXSY1\"]).dropna(axis = 0)"
   ]
  },
  {
   "cell_type": "code",
   "execution_count": 113,
   "id": "67da2a88-0bf6-4b40-a674-271fe3838dc0",
   "metadata": {
    "execution": {
     "iopub.execute_input": "2023-07-08T10:43:56.509157Z",
     "iopub.status.busy": "2023-07-08T10:43:56.509157Z",
     "iopub.status.idle": "2023-07-08T10:43:56.517744Z",
     "shell.execute_reply": "2023-07-08T10:43:56.516735Z",
     "shell.execute_reply.started": "2023-07-08T10:43:56.509157Z"
    }
   },
   "outputs": [
    {
     "data": {
      "text/plain": [
       "SMQ020      0\n",
       "RIAGENDR    0\n",
       "RIDAGEYR    0\n",
       "DMDCITZN    0\n",
       "BPXSY1      0\n",
       "dtype: int64"
      ]
     },
     "execution_count": 113,
     "metadata": {},
     "output_type": "execute_result"
    }
   ],
   "source": [
    "data.isna().sum(axis = 0)"
   ]
  },
  {
   "cell_type": "code",
   "execution_count": 114,
   "id": "4176806f-76f8-4506-a8c8-1a87bd8c6f3e",
   "metadata": {
    "execution": {
     "iopub.execute_input": "2023-07-08T10:43:57.294525Z",
     "iopub.status.busy": "2023-07-08T10:43:57.294525Z",
     "iopub.status.idle": "2023-07-08T10:43:57.306745Z",
     "shell.execute_reply": "2023-07-08T10:43:57.305715Z",
     "shell.execute_reply.started": "2023-07-08T10:43:57.294525Z"
    }
   },
   "outputs": [
    {
     "data": {
      "text/plain": [
       "5400"
      ]
     },
     "execution_count": 114,
     "metadata": {},
     "output_type": "execute_result"
    }
   ],
   "source": [
    "ssize = data.shape[0]\n",
    "ssize"
   ]
  },
  {
   "cell_type": "markdown",
   "id": "3f966607-7f7b-412c-98ff-6cef6740a610",
   "metadata": {},
   "source": [
    "# __Population proportion.__\n",
    "----------------------"
   ]
  },
  {
   "cell_type": "code",
   "execution_count": 141,
   "id": "01013d11-da61-4e6e-8cd9-f9d848f03550",
   "metadata": {
    "execution": {
     "iopub.execute_input": "2023-07-08T10:45:13.176413Z",
     "iopub.status.busy": "2023-07-08T10:45:13.176413Z",
     "iopub.status.idle": "2023-07-08T10:45:13.180396Z",
     "shell.execute_reply": "2023-07-08T10:45:13.180325Z",
     "shell.execute_reply.started": "2023-07-08T10:45:13.176413Z"
    }
   },
   "outputs": [],
   "source": [
    "# Null hypothesis: Population proportion of smokers in 0.4\n",
    "# Alternative hypothesis: Population proportion of smokers is not 0.4"
   ]
  },
  {
   "cell_type": "code",
   "execution_count": 142,
   "id": "7e175cd5-364d-43a4-9e5b-e1e4e538b2a1",
   "metadata": {
    "execution": {
     "iopub.execute_input": "2023-07-08T10:45:13.395880Z",
     "iopub.status.busy": "2023-07-08T10:45:13.395880Z",
     "iopub.status.idle": "2023-07-08T10:45:13.410236Z",
     "shell.execute_reply": "2023-07-08T10:45:13.410236Z",
     "shell.execute_reply.started": "2023-07-08T10:45:13.395880Z"
    }
   },
   "outputs": [
    {
     "data": {
      "text/plain": [
       "array([1, 2, 7, 9], dtype=int64)"
      ]
     },
     "execution_count": 142,
     "metadata": {},
     "output_type": "execute_result"
    }
   ],
   "source": [
    "data.SMQ020.unique()"
   ]
  },
  {
   "cell_type": "code",
   "execution_count": 143,
   "id": "4cbbf935-e5aa-4f56-a763-4c8c34a91c9d",
   "metadata": {
    "execution": {
     "iopub.execute_input": "2023-07-08T10:45:13.568930Z",
     "iopub.status.busy": "2023-07-08T10:45:13.568930Z",
     "iopub.status.idle": "2023-07-08T10:45:13.586401Z",
     "shell.execute_reply": "2023-07-08T10:45:13.586401Z",
     "shell.execute_reply.started": "2023-07-08T10:45:13.568930Z"
    }
   },
   "outputs": [
    {
     "data": {
      "text/plain": [
       "0.4083333333333333"
      ]
     },
     "execution_count": 143,
     "metadata": {},
     "output_type": "execute_result"
    }
   ],
   "source": [
    "# best estimate, sample proportion of smokers.\n",
    "\n",
    "best_est = (data.SMQ020 == 1).mean()\n",
    "best_est"
   ]
  },
  {
   "cell_type": "code",
   "execution_count": 144,
   "id": "40413381-1245-4213-bae8-84da1f1a9dc5",
   "metadata": {
    "execution": {
     "iopub.execute_input": "2023-07-08T10:45:14.087418Z",
     "iopub.status.busy": "2023-07-08T10:45:14.087418Z",
     "iopub.status.idle": "2023-07-08T10:45:14.105137Z",
     "shell.execute_reply": "2023-07-08T10:45:14.105137Z",
     "shell.execute_reply.started": "2023-07-08T10:45:14.087418Z"
    }
   },
   "outputs": [
    {
     "data": {
      "text/plain": [
       "0.006666666666666666"
      ]
     },
     "execution_count": 144,
     "metadata": {},
     "output_type": "execute_result"
    }
   ],
   "source": [
    "# estimated standard error\n",
    "\n",
    "stderr_null = np.sqrt((0.4 * (1 - 0.4)) / ssize)\n",
    "stderr_null"
   ]
  },
  {
   "cell_type": "code",
   "execution_count": 145,
   "id": "15f1e2f4-a33c-41ab-83a0-5f3ab996db5f",
   "metadata": {
    "execution": {
     "iopub.execute_input": "2023-07-08T10:45:14.557699Z",
     "iopub.status.busy": "2023-07-08T10:45:14.557699Z",
     "iopub.status.idle": "2023-07-08T10:45:14.579346Z",
     "shell.execute_reply": "2023-07-08T10:45:14.579346Z",
     "shell.execute_reply.started": "2023-07-08T10:45:14.557699Z"
    }
   },
   "outputs": [
    {
     "data": {
      "text/plain": [
       "1.2499999999999956"
      ]
     },
     "execution_count": 145,
     "metadata": {},
     "output_type": "execute_result"
    }
   ],
   "source": [
    "# test statistic\n",
    "\n",
    "zstat = (best_est - 0.4) / stderr_null\n",
    "zstat"
   ]
  },
  {
   "cell_type": "code",
   "execution_count": 146,
   "id": "9cb5ec24-9839-4499-9900-b1521e626191",
   "metadata": {
    "execution": {
     "iopub.execute_input": "2023-07-08T10:45:15.198979Z",
     "iopub.status.busy": "2023-07-08T10:45:15.198979Z",
     "iopub.status.idle": "2023-07-08T10:45:15.303763Z",
     "shell.execute_reply": "2023-07-08T10:45:15.303763Z",
     "shell.execute_reply.started": "2023-07-08T10:45:15.198979Z"
    }
   },
   "outputs": [
    {
     "data": {
      "image/png": "[encoded data removed]",
      "text/plain": [
       "<Figure size 640x480 with 1 Axes>"
      ]
     },
     "metadata": {},
     "output_type": "display_data"
    }
   ],
   "source": [
    "x = np.linspace(-5, 5, num = 1000)\n",
    "zpdfs = norm.pdf(x)\n",
    "\n",
    "fig, axes = plt.subplots()\n",
    "axes.plot(x, zpdfs, color = \"black\")\n",
    "ymin, ymax = axes.get_ybound()\n",
    "axes.vlines([-zstat, zstat], ymin = ymin, ymax = ymax, color = \"red\")\n",
    "axes.fill_between(x = x, y1 = 0, y2 = zpdfs, where = (x <= -zstat) | (x >= zstat), color = \"red\")\n",
    "plt.show()"
   ]
  },
  {
   "cell_type": "code",
   "execution_count": 147,
   "id": "cb2c4a36-8674-4787-930d-79dfe56a5639",
   "metadata": {
    "execution": {
     "iopub.execute_input": "2023-07-08T10:45:15.747554Z",
     "iopub.status.busy": "2023-07-08T10:45:15.747554Z",
     "iopub.status.idle": "2023-07-08T10:45:15.753813Z",
     "shell.execute_reply": "2023-07-08T10:45:15.753813Z",
     "shell.execute_reply.started": "2023-07-08T10:45:15.747554Z"
    }
   },
   "outputs": [
    {
     "data": {
      "text/plain": [
       "0.894350226333144"
      ]
     },
     "execution_count": 147,
     "metadata": {},
     "output_type": "execute_result"
    }
   ],
   "source": [
    "norm.cdf(zstat)"
   ]
  },
  {
   "cell_type": "code",
   "execution_count": 148,
   "id": "79f8e554-e5d8-4446-baaa-3eee43c280bd",
   "metadata": {
    "execution": {
     "iopub.execute_input": "2023-07-08T10:45:16.139993Z",
     "iopub.status.busy": "2023-07-08T10:45:16.139993Z",
     "iopub.status.idle": "2023-07-08T10:45:16.153514Z",
     "shell.execute_reply": "2023-07-08T10:45:16.153514Z",
     "shell.execute_reply.started": "2023-07-08T10:45:16.139993Z"
    }
   },
   "outputs": [
    {
     "data": {
      "text/plain": [
       "0.10564977366685607"
      ]
     },
     "execution_count": 148,
     "metadata": {},
     "output_type": "execute_result"
    }
   ],
   "source": [
    "norm.cdf(-zstat)"
   ]
  },
  {
   "cell_type": "code",
   "execution_count": 149,
   "id": "b1f1dcc7-c72e-4a33-bbf1-6894646b3177",
   "metadata": {
    "execution": {
     "iopub.execute_input": "2023-07-08T10:45:17.565933Z",
     "iopub.status.busy": "2023-07-08T10:45:17.565933Z",
     "iopub.status.idle": "2023-07-08T10:45:17.579105Z",
     "shell.execute_reply": "2023-07-08T10:45:17.578500Z",
     "shell.execute_reply.started": "2023-07-08T10:45:17.565933Z"
    }
   },
   "outputs": [
    {
     "data": {
      "text/plain": [
       "1.0"
      ]
     },
     "execution_count": 149,
     "metadata": {},
     "output_type": "execute_result"
    }
   ],
   "source": [
    "# WOW!\n",
    "\n",
    "norm.cdf(-zstat) + norm.cdf(zstat)"
   ]
  },
  {
   "cell_type": "code",
   "execution_count": 150,
   "id": "15596ae1-499a-4da3-b385-672a81bad3d8",
   "metadata": {
    "execution": {
     "iopub.execute_input": "2023-07-08T10:45:18.021043Z",
     "iopub.status.busy": "2023-07-08T10:45:18.021043Z",
     "iopub.status.idle": "2023-07-08T10:45:18.033798Z",
     "shell.execute_reply": "2023-07-08T10:45:18.033798Z",
     "shell.execute_reply.started": "2023-07-08T10:45:18.021043Z"
    }
   },
   "outputs": [
    {
     "data": {
      "text/plain": [
       "0.21129954733371203"
      ]
     },
     "execution_count": 150,
     "metadata": {},
     "output_type": "execute_result"
    }
   ],
   "source": [
    "p = 2 * (1 - norm.cdf(zstat))\n",
    "p"
   ]
  },
  {
   "cell_type": "code",
   "execution_count": null,
   "id": "dd578b5b-af57-4a93-9b2c-762a972c79d4",
   "metadata": {},
   "outputs": [],
   "source": []
  },
  {
   "cell_type": "code",
   "execution_count": 151,
   "id": "2c41fd0f-194f-4e15-8ba6-201420302e5c",
   "metadata": {
    "execution": {
     "iopub.execute_input": "2023-07-08T10:45:18.807763Z",
     "iopub.status.busy": "2023-07-08T10:45:18.807763Z",
     "iopub.status.idle": "2023-07-08T10:45:18.823057Z",
     "shell.execute_reply": "2023-07-08T10:45:18.823057Z",
     "shell.execute_reply.started": "2023-07-08T10:45:18.807763Z"
    }
   },
   "outputs": [],
   "source": [
    "# p value here is very larger compared to the significance level of 0.05\n",
    "# So, we cannot reject the Null hypothesis,\n",
    "# We have enough evidence to claim that the population proportion of smokers is indeed 0.40"
   ]
  },
  {
   "cell_type": "code",
   "execution_count": null,
   "id": "9eefbd8f-2e4b-4118-acb6-2966d5732c72",
   "metadata": {},
   "outputs": [],
   "source": []
  },
  {
   "cell_type": "markdown",
   "id": "46e81363-ce45-407a-90d5-43d66a6b4700",
   "metadata": {},
   "source": [
    "# __Difference in Population Proportions__\n",
    "---------------"
   ]
  },
  {
   "cell_type": "code",
   "execution_count": 152,
   "id": "cf2a3fbc-d068-40d6-b649-97fa37abb0e7",
   "metadata": {
    "execution": {
     "iopub.execute_input": "2023-07-08T10:45:21.836142Z",
     "iopub.status.busy": "2023-07-08T10:45:21.836142Z",
     "iopub.status.idle": "2023-07-08T10:45:21.848251Z",
     "shell.execute_reply": "2023-07-08T10:45:21.848251Z",
     "shell.execute_reply.started": "2023-07-08T10:45:21.836142Z"
    }
   },
   "outputs": [],
   "source": [
    "# Is the proportions of male and female smokers different, for people between 20 - 25 years old age?\n",
    "\n",
    "# Null hypothesis: The population proportion of male and female smokers are identical.\n",
    "# Alternative hypothesis: The population proportion of male and female smokers are different."
   ]
  },
  {
   "cell_type": "code",
   "execution_count": 153,
   "id": "346da278-013e-456a-9d49-f69ba1a60905",
   "metadata": {
    "execution": {
     "iopub.execute_input": "2023-07-08T10:45:22.008831Z",
     "iopub.status.busy": "2023-07-08T10:45:22.008831Z",
     "iopub.status.idle": "2023-07-08T10:45:22.025560Z",
     "shell.execute_reply": "2023-07-08T10:45:22.025560Z",
     "shell.execute_reply.started": "2023-07-08T10:45:22.008831Z"
    }
   },
   "outputs": [],
   "source": [
    "# our best estimate is the difference between the proportions of male and female smokers in the samples.\n",
    "\n",
    "males = data.SMQ020[(data.RIAGENDR == 1) & (data.RIDAGEYR <= 25) & (data.RIDAGEYR >= 20)]\n",
    "females = data.SMQ020[(data.RIAGENDR == 2) & (data.RIDAGEYR <= 25) & (data.RIDAGEYR >= 20)]"
   ]
  },
  {
   "cell_type": "code",
   "execution_count": 154,
   "id": "4c1523a7-261c-4c26-b9c3-0f82eb1d6c23",
   "metadata": {
    "execution": {
     "iopub.execute_input": "2023-07-08T10:45:22.167350Z",
     "iopub.status.busy": "2023-07-08T10:45:22.167350Z",
     "iopub.status.idle": "2023-07-08T10:45:22.186439Z",
     "shell.execute_reply": "2023-07-08T10:45:22.186439Z",
     "shell.execute_reply.started": "2023-07-08T10:45:22.167350Z"
    }
   },
   "outputs": [
    {
     "data": {
      "text/plain": [
       "(0.33613445378151263, 0.25098039215686274)"
      ]
     },
     "execution_count": 154,
     "metadata": {},
     "output_type": "execute_result"
    }
   ],
   "source": [
    "prop_m = (males == 1).mean()\n",
    "prop_f = (females == 1).mean()\n",
    "\n",
    "prop_m, prop_f"
   ]
  },
  {
   "cell_type": "code",
   "execution_count": 155,
   "id": "9ebcbddf-9123-4146-9870-5072e4af8179",
   "metadata": {
    "execution": {
     "iopub.execute_input": "2023-07-08T10:45:22.339115Z",
     "iopub.status.busy": "2023-07-08T10:45:22.339115Z",
     "iopub.status.idle": "2023-07-08T10:45:22.353029Z",
     "shell.execute_reply": "2023-07-08T10:45:22.353029Z",
     "shell.execute_reply.started": "2023-07-08T10:45:22.339115Z"
    }
   },
   "outputs": [
    {
     "data": {
      "text/plain": [
       "(238, 255)"
      ]
     },
     "execution_count": 155,
     "metadata": {},
     "output_type": "execute_result"
    }
   ],
   "source": [
    "males.size, females.size"
   ]
  },
  {
   "cell_type": "code",
   "execution_count": 156,
   "id": "d0c063b3-c99c-41ff-b90b-00c382be3543",
   "metadata": {
    "execution": {
     "iopub.execute_input": "2023-07-08T10:45:22.527058Z",
     "iopub.status.busy": "2023-07-08T10:45:22.527058Z",
     "iopub.status.idle": "2023-07-08T10:45:22.537597Z",
     "shell.execute_reply": "2023-07-08T10:45:22.537597Z",
     "shell.execute_reply.started": "2023-07-08T10:45:22.527058Z"
    }
   },
   "outputs": [
    {
     "data": {
      "text/plain": [
       "0.08515406162464989"
      ]
     },
     "execution_count": 156,
     "metadata": {},
     "output_type": "execute_result"
    }
   ],
   "source": [
    "# best estimate\n",
    "\n",
    "prop_diff = prop_m - prop_f\n",
    "prop_diff"
   ]
  },
  {
   "cell_type": "code",
   "execution_count": 157,
   "id": "f7e184fe-1935-44f6-b61b-8971b9b52cb4",
   "metadata": {
    "execution": {
     "iopub.execute_input": "2023-07-08T10:45:22.715846Z",
     "iopub.status.busy": "2023-07-08T10:45:22.715846Z",
     "iopub.status.idle": "2023-07-08T10:45:22.721527Z",
     "shell.execute_reply": "2023-07-08T10:45:22.721527Z",
     "shell.execute_reply.started": "2023-07-08T10:45:22.715846Z"
    }
   },
   "outputs": [
    {
     "data": {
      "text/plain": [
       "(0.22408963585434172, 0.3947197776748495)"
      ]
     },
     "execution_count": 157,
     "metadata": {},
     "output_type": "execute_result"
    }
   ],
   "source": [
    "# estimated standard error for the Null hypothesis,\n",
    "\n",
    "males.var(), females.var()"
   ]
  },
  {
   "cell_type": "code",
   "execution_count": 158,
   "id": "5b6bb91b-29fb-419b-ba33-88d216ac91b3",
   "metadata": {
    "execution": {
     "iopub.execute_input": "2023-07-08T10:45:22.888875Z",
     "iopub.status.busy": "2023-07-08T10:45:22.888875Z",
     "iopub.status.idle": "2023-07-08T10:45:22.897288Z",
     "shell.execute_reply": "2023-07-08T10:45:22.897288Z",
     "shell.execute_reply.started": "2023-07-08T10:45:22.888875Z"
    }
   },
   "outputs": [
    {
     "data": {
      "text/plain": [
       "(0.0306202055250635, 0.02715166083170966)"
      ]
     },
     "execution_count": 158,
     "metadata": {},
     "output_type": "execute_result"
    }
   ],
   "source": [
    "# We'll use the unpooled approach, since the variances vary largely.\n",
    "\n",
    "stderr_m = np.sqrt(prop_m * (1 - prop_m) / males.size)\n",
    "stderr_f = np.sqrt(prop_f * (1 - prop_f) / females.size)\n",
    "\n",
    "stderr_m, stderr_f"
   ]
  },
  {
   "cell_type": "code",
   "execution_count": 159,
   "id": "cad160b6-c921-48cc-88c0-2343f37e65af",
   "metadata": {
    "execution": {
     "iopub.execute_input": "2023-07-08T10:45:23.500517Z",
     "iopub.status.busy": "2023-07-08T10:45:23.500517Z",
     "iopub.status.idle": "2023-07-08T10:45:23.506319Z",
     "shell.execute_reply": "2023-07-08T10:45:23.506319Z",
     "shell.execute_reply.started": "2023-07-08T10:45:23.500517Z"
    }
   },
   "outputs": [
    {
     "data": {
      "text/plain": [
       "0.05777186635677316"
      ]
     },
     "execution_count": 159,
     "metadata": {},
     "output_type": "execute_result"
    }
   ],
   "source": [
    "stderr_comb = stderr_m + stderr_f\n",
    "stderr_comb"
   ]
  },
  {
   "cell_type": "code",
   "execution_count": 160,
   "id": "08ca351c-2977-45fc-ae5a-da183866276f",
   "metadata": {
    "execution": {
     "iopub.execute_input": "2023-07-08T10:45:24.067108Z",
     "iopub.status.busy": "2023-07-08T10:45:24.067108Z",
     "iopub.status.idle": "2023-07-08T10:45:24.081464Z",
     "shell.execute_reply": "2023-07-08T10:45:24.080846Z",
     "shell.execute_reply.started": "2023-07-08T10:45:24.067108Z"
    }
   },
   "outputs": [
    {
     "data": {
      "text/plain": [
       "1.4739711038375767"
      ]
     },
     "execution_count": 160,
     "metadata": {},
     "output_type": "execute_result"
    }
   ],
   "source": [
    "# test statistic\n",
    "\n",
    "zstat = (prop_diff - 0) / stderr_comb\n",
    "zstat"
   ]
  },
  {
   "cell_type": "code",
   "execution_count": 161,
   "id": "b88be490-cf0d-4d62-b0a8-0a582b0a2048",
   "metadata": {
    "execution": {
     "iopub.execute_input": "2023-07-08T10:45:24.802075Z",
     "iopub.status.busy": "2023-07-08T10:45:24.802075Z",
     "iopub.status.idle": "2023-07-08T10:45:24.892427Z",
     "shell.execute_reply": "2023-07-08T10:45:24.892427Z",
     "shell.execute_reply.started": "2023-07-08T10:45:24.802075Z"
    }
   },
   "outputs": [
    {
     "data": {
      "image/png": "[encoded data removed]",
      "text/plain": [
       "<Figure size 640x480 with 1 Axes>"
      ]
     },
     "metadata": {},
     "output_type": "display_data"
    }
   ],
   "source": [
    "x = np.linspace(-5, 5, num = 1000)\n",
    "zpdfs = norm.pdf(x)\n",
    "\n",
    "fig, axes = plt.subplots()\n",
    "axes.plot(x, zpdfs, color = \"black\")\n",
    "ymin, ymax = axes.get_ybound()\n",
    "axes.vlines([-zstat, zstat], ymin = ymin, ymax = ymax, color = \"red\")\n",
    "axes.fill_between(x = x, y1 = 0, y2 = zpdfs, where = (x <= -zstat) | (x >= zstat), color = \"red\")\n",
    "plt.show()"
   ]
  },
  {
   "cell_type": "code",
   "execution_count": 162,
   "id": "8c9255dc-08ad-43ea-911f-0c6e1e6ad3e0",
   "metadata": {
    "execution": {
     "iopub.execute_input": "2023-07-08T10:45:25.383635Z",
     "iopub.status.busy": "2023-07-08T10:45:25.383635Z",
     "iopub.status.idle": "2023-07-08T10:45:25.401958Z",
     "shell.execute_reply": "2023-07-08T10:45:25.401958Z",
     "shell.execute_reply.started": "2023-07-08T10:45:25.383635Z"
    }
   },
   "outputs": [
    {
     "data": {
      "text/plain": [
       "0.14048937151175878"
      ]
     },
     "execution_count": 162,
     "metadata": {},
     "output_type": "execute_result"
    }
   ],
   "source": [
    "# p values\n",
    "\n",
    "p = 2 * (1 - norm.cdf(zstat))\n",
    "p"
   ]
  },
  {
   "cell_type": "code",
   "execution_count": 163,
   "id": "49c9269e-1666-4d38-b1f4-dbe1389304f1",
   "metadata": {
    "execution": {
     "iopub.execute_input": "2023-07-08T10:45:26.171024Z",
     "iopub.status.busy": "2023-07-08T10:45:26.171024Z",
     "iopub.status.idle": "2023-07-08T10:45:26.177677Z",
     "shell.execute_reply": "2023-07-08T10:45:26.177600Z",
     "shell.execute_reply.started": "2023-07-08T10:45:26.171024Z"
    }
   },
   "outputs": [
    {
     "data": {
      "text/plain": [
       "0.14113019985812159"
      ]
     },
     "execution_count": 163,
     "metadata": {},
     "output_type": "execute_result"
    }
   ],
   "source": [
    "df_pooled = males.size + females.size - 2\n",
    "\n",
    "2 * (1 - t.cdf(zstat, df = df_pooled))"
   ]
  },
  {
   "cell_type": "code",
   "execution_count": 164,
   "id": "18a185e9-9329-4060-8c52-a22c6ce37778",
   "metadata": {
    "execution": {
     "iopub.execute_input": "2023-07-08T10:45:27.455807Z",
     "iopub.status.busy": "2023-07-08T10:45:27.455807Z",
     "iopub.status.idle": "2023-07-08T10:45:27.464222Z",
     "shell.execute_reply": "2023-07-08T10:45:27.462853Z",
     "shell.execute_reply.started": "2023-07-08T10:45:27.455807Z"
    }
   },
   "outputs": [],
   "source": [
    "# Our p value is greater than the significance level @ 0.05,\n",
    "# So, we cannot reject the Null hypothesis.\n",
    "\n",
    "# There's enough evidence to claim that the population proportion of male and female smokers between 20 - 25 years of age are identical."
   ]
  },
  {
   "cell_type": "code",
   "execution_count": null,
   "id": "021d440b-71f2-443d-895c-744f113cc13e",
   "metadata": {},
   "outputs": [],
   "source": []
  },
  {
   "cell_type": "markdown",
   "id": "df980796-f630-418f-9829-12b6c94f8086",
   "metadata": {},
   "source": [
    "# __Population Means__\n",
    "-----------------"
   ]
  },
  {
   "cell_type": "code",
   "execution_count": 165,
   "id": "a6b18c9d-f26c-48e9-92e7-61d0e86ca59a",
   "metadata": {
    "execution": {
     "iopub.execute_input": "2023-07-08T10:46:35.842099Z",
     "iopub.status.busy": "2023-07-08T10:46:35.842099Z",
     "iopub.status.idle": "2023-07-08T10:46:35.852708Z",
     "shell.execute_reply": "2023-07-08T10:46:35.852708Z",
     "shell.execute_reply.started": "2023-07-08T10:46:35.842099Z"
    }
   },
   "outputs": [
    {
     "data": {
      "text/plain": [
       "(126.99885539870279, 2621)"
      ]
     },
     "execution_count": 165,
     "metadata": {},
     "output_type": "execute_result"
    }
   ],
   "source": [
    "# Let's consider the population mean of blood pressure of males.\n",
    "\n",
    "males = data.BPXSY1[data.RIAGENDR == 1]\n",
    "\n",
    "ssize = males.size\n",
    "best_est = males.mean()\n",
    "\n",
    "best_est, ssize"
   ]
  },
  {
   "cell_type": "code",
   "execution_count": 169,
   "id": "607b98e3-28d9-44fc-b5d1-4a8f7ee6eb31",
   "metadata": {
    "execution": {
     "iopub.execute_input": "2023-07-08T10:49:26.327615Z",
     "iopub.status.busy": "2023-07-08T10:49:26.327615Z",
     "iopub.status.idle": "2023-07-08T10:49:26.338323Z",
     "shell.execute_reply": "2023-07-08T10:49:26.338323Z",
     "shell.execute_reply.started": "2023-07-08T10:49:26.327615Z"
    }
   },
   "outputs": [],
   "source": [
    "# Null hypothesis: The mean blood pressure for the male population is 126\n",
    "# Alternative hypothesis: Mean blood pressure for the male population is not 126"
   ]
  },
  {
   "cell_type": "code",
   "execution_count": 170,
   "id": "1bbc357a-8ef6-4686-b713-14b5af3973db",
   "metadata": {
    "execution": {
     "iopub.execute_input": "2023-07-08T10:49:27.504378Z",
     "iopub.status.busy": "2023-07-08T10:49:27.504378Z",
     "iopub.status.idle": "2023-07-08T10:49:27.515024Z",
     "shell.execute_reply": "2023-07-08T10:49:27.515024Z",
     "shell.execute_reply.started": "2023-07-08T10:49:27.504378Z"
    }
   },
   "outputs": [
    {
     "data": {
      "text/plain": [
       "0.344608481193278"
      ]
     },
     "execution_count": 170,
     "metadata": {},
     "output_type": "execute_result"
    }
   ],
   "source": [
    "# estimated standard error,\n",
    "\n",
    "stderr_null = males.std() / np.sqrt(ssize)\n",
    "stderr_null"
   ]
  },
  {
   "cell_type": "code",
   "execution_count": 171,
   "id": "6c95e54c-2930-466a-b65c-0e1a3803c866",
   "metadata": {
    "execution": {
     "iopub.execute_input": "2023-07-08T10:49:31.238010Z",
     "iopub.status.busy": "2023-07-08T10:49:31.238010Z",
     "iopub.status.idle": "2023-07-08T10:49:31.243153Z",
     "shell.execute_reply": "2023-07-08T10:49:31.242643Z",
     "shell.execute_reply.started": "2023-07-08T10:49:31.238010Z"
    }
   },
   "outputs": [
    {
     "data": {
      "text/plain": [
       "2.898522390522845"
      ]
     },
     "execution_count": 171,
     "metadata": {},
     "output_type": "execute_result"
    }
   ],
   "source": [
    "# test statistic,\n",
    "\n",
    "tstat = (best_est - 126) / stderr_null\n",
    "tstat"
   ]
  },
  {
   "cell_type": "code",
   "execution_count": 173,
   "id": "d2c7b20c-b446-4ed4-b446-b14115667070",
   "metadata": {
    "execution": {
     "iopub.execute_input": "2023-07-08T10:50:16.967144Z",
     "iopub.status.busy": "2023-07-08T10:50:16.967144Z",
     "iopub.status.idle": "2023-07-08T10:50:17.057644Z",
     "shell.execute_reply": "2023-07-08T10:50:17.057644Z",
     "shell.execute_reply.started": "2023-07-08T10:50:16.967144Z"
    }
   },
   "outputs": [
    {
     "data": {
      "image/png": "[encoded data removed]",
      "text/plain": [
       "<Figure size 640x480 with 1 Axes>"
      ]
     },
     "metadata": {},
     "output_type": "display_data"
    }
   ],
   "source": [
    "x = np.linspace(-5, 5, num = 1000)\n",
    "tpdfs = t.pdf(x, df = x.size - 1)\n",
    "\n",
    "fig, axes = plt.subplots()\n",
    "axes.plot(x, tpdfs, color = \"black\")\n",
    "ymin, ymax = axes.get_ybound()\n",
    "axes.vlines([-tstat, tstat], ymin = ymin, ymax = ymax, color = \"red\")\n",
    "axes.fill_between(x = x, y1 = 0, y2 = tpdfs, where = (x <= -tstat) | (x >= tstat), color = \"red\")\n",
    "plt.show()"
   ]
  },
  {
   "cell_type": "code",
   "execution_count": 175,
   "id": "0c34b5fd-a575-4d47-9e8a-e2a639a74e97",
   "metadata": {
    "execution": {
     "iopub.execute_input": "2023-07-08T10:50:41.324247Z",
     "iopub.status.busy": "2023-07-08T10:50:41.324247Z",
     "iopub.status.idle": "2023-07-08T10:50:41.332194Z",
     "shell.execute_reply": "2023-07-08T10:50:41.331619Z",
     "shell.execute_reply.started": "2023-07-08T10:50:41.324247Z"
    }
   },
   "outputs": [
    {
     "data": {
      "text/plain": [
       "0.003780409194792611"
      ]
     },
     "execution_count": 175,
     "metadata": {},
     "output_type": "execute_result"
    }
   ],
   "source": [
    "p = 2 * (1 - t.cdf(tstat, df = ssize - 1))\n",
    "p"
   ]
  },
  {
   "cell_type": "code",
   "execution_count": 176,
   "id": "b7b5a443-5d33-4cfb-addb-40ffe4aa20c5",
   "metadata": {
    "execution": {
     "iopub.execute_input": "2023-07-08T10:51:57.287572Z",
     "iopub.status.busy": "2023-07-08T10:51:57.287572Z",
     "iopub.status.idle": "2023-07-08T10:51:57.291545Z",
     "shell.execute_reply": "2023-07-08T10:51:57.291474Z",
     "shell.execute_reply.started": "2023-07-08T10:51:57.287572Z"
    }
   },
   "outputs": [],
   "source": [
    "# The p value here is smaller than our significance level of 0.05\n",
    "# So, we can reject the Null hypothesis.\n",
    "\n",
    "# There's enough evidence to assert that the mean blood pressure of the male population is not 126!"
   ]
  },
  {
   "cell_type": "code",
   "execution_count": null,
   "id": "1124b266-55cc-471e-8b33-f76f7e8afb42",
   "metadata": {},
   "outputs": [],
   "source": []
  },
  {
   "cell_type": "markdown",
   "id": "a350a7db-a695-4abe-9940-0852dc0da50e",
   "metadata": {},
   "source": [
    "# __Difference in Population Means__\n",
    "----------------"
   ]
  },
  {
   "cell_type": "code",
   "execution_count": 177,
   "id": "7a46894e-1442-4c6d-81bd-62dd4a492fb8",
   "metadata": {
    "execution": {
     "iopub.execute_input": "2023-07-08T10:53:56.239858Z",
     "iopub.status.busy": "2023-07-08T10:53:56.239858Z",
     "iopub.status.idle": "2023-07-08T10:53:56.252143Z",
     "shell.execute_reply": "2023-07-08T10:53:56.252143Z",
     "shell.execute_reply.started": "2023-07-08T10:53:56.239858Z"
    }
   },
   "outputs": [],
   "source": [
    "# Is there a significant diffeernce in the blood pressures of male and females?\n",
    "\n",
    "males = data.BPXSY1[data.RIAGENDR == 1]\n",
    "females = data.BPXSY1[data.RIAGENDR == 2]"
   ]
  },
  {
   "cell_type": "code",
   "execution_count": 178,
   "id": "49f62292-79ec-42d2-8336-872677a0cca4",
   "metadata": {
    "execution": {
     "iopub.execute_input": "2023-07-08T10:55:00.693310Z",
     "iopub.status.busy": "2023-07-08T10:55:00.693310Z",
     "iopub.status.idle": "2023-07-08T10:55:00.700337Z",
     "shell.execute_reply": "2023-07-08T10:55:00.700337Z",
     "shell.execute_reply.started": "2023-07-08T10:55:00.693310Z"
    }
   },
   "outputs": [
    {
     "data": {
      "text/plain": [
       "3.7156600046761525"
      ]
     },
     "execution_count": 178,
     "metadata": {},
     "output_type": "execute_result"
    }
   ],
   "source": [
    "# best estimate is the difference in the mean blood pressures of male and females in sample \n",
    "\n",
    "best_est = males.mean() - females.mean()\n",
    "best_est"
   ]
  },
  {
   "cell_type": "code",
   "execution_count": 179,
   "id": "2ab318ee-23c9-4e0a-832c-d01dd2227ef1",
   "metadata": {
    "execution": {
     "iopub.execute_input": "2023-07-08T10:56:12.622011Z",
     "iopub.status.busy": "2023-07-08T10:56:12.622011Z",
     "iopub.status.idle": "2023-07-08T10:56:12.626110Z",
     "shell.execute_reply": "2023-07-08T10:56:12.625373Z",
     "shell.execute_reply.started": "2023-07-08T10:56:12.622011Z"
    }
   },
   "outputs": [],
   "source": [
    "# Null hypothesis: No significant differences between the mean blood pressures of male and female populations.\n",
    "# Alternative hypothesis: There is a significant difference between the mean blood pressures of male and female populations."
   ]
  },
  {
   "cell_type": "code",
   "execution_count": 180,
   "id": "3b1114d9-06f3-4a48-9405-33850f732d13",
   "metadata": {
    "execution": {
     "iopub.execute_input": "2023-07-08T10:56:52.501750Z",
     "iopub.status.busy": "2023-07-08T10:56:52.501750Z",
     "iopub.status.idle": "2023-07-08T10:56:52.506967Z",
     "shell.execute_reply": "2023-07-08T10:56:52.506967Z",
     "shell.execute_reply.started": "2023-07-08T10:56:52.501750Z"
    }
   },
   "outputs": [
    {
     "data": {
      "text/plain": [
       "(311.2568689183955, 363.604076754824)"
      ]
     },
     "execution_count": 180,
     "metadata": {},
     "output_type": "execute_result"
    }
   ],
   "source": [
    "# estimated standard errors,\n",
    "\n",
    "males.var(), females.var()"
   ]
  },
  {
   "cell_type": "code",
   "execution_count": 181,
   "id": "3fcf56f3-cce3-4312-ab21-db3f23e5449d",
   "metadata": {
    "execution": {
     "iopub.execute_input": "2023-07-08T10:58:13.975757Z",
     "iopub.status.busy": "2023-07-08T10:58:13.975757Z",
     "iopub.status.idle": "2023-07-08T10:58:13.995401Z",
     "shell.execute_reply": "2023-07-08T10:58:13.995401Z",
     "shell.execute_reply.started": "2023-07-08T10:58:13.975757Z"
    }
   },
   "outputs": [
    {
     "data": {
      "text/plain": [
       "0.7063264626050167"
      ]
     },
     "execution_count": 181,
     "metadata": {},
     "output_type": "execute_result"
    }
   ],
   "source": [
    "# We definetely cannot use the pooled approach!\n",
    "# Switching back to the unpooled approach,\n",
    "\n",
    "stderr_m = males.std() / np.sqrt(males.size)\n",
    "stderr_f = females.std() / np.sqrt(females.size)\n",
    "\n",
    "stderr_unpooled = stderr_m + stderr_f\n",
    "stderr_unpooled"
   ]
  },
  {
   "cell_type": "code",
   "execution_count": 182,
   "id": "b05fcf9c-efc6-42b5-9efb-aa37ed69fc78",
   "metadata": {
    "execution": {
     "iopub.execute_input": "2023-07-08T10:58:41.061100Z",
     "iopub.status.busy": "2023-07-08T10:58:41.061100Z",
     "iopub.status.idle": "2023-07-08T10:58:41.066497Z",
     "shell.execute_reply": "2023-07-08T10:58:41.066497Z",
     "shell.execute_reply.started": "2023-07-08T10:58:41.061100Z"
    }
   },
   "outputs": [
    {
     "data": {
      "text/plain": [
       "5.260541975126279"
      ]
     },
     "execution_count": 182,
     "metadata": {},
     "output_type": "execute_result"
    }
   ],
   "source": [
    "# test statistic,\n",
    "\n",
    "tstat = (best_est - 0) / stderr_unpooled\n",
    "tstat"
   ]
  },
  {
   "cell_type": "code",
   "execution_count": 184,
   "id": "30861d0a-d98c-43a7-805f-22bc9cd4c013",
   "metadata": {
    "execution": {
     "iopub.execute_input": "2023-07-08T10:58:58.213234Z",
     "iopub.status.busy": "2023-07-08T10:58:58.213234Z",
     "iopub.status.idle": "2023-07-08T10:58:58.307579Z",
     "shell.execute_reply": "2023-07-08T10:58:58.307579Z",
     "shell.execute_reply.started": "2023-07-08T10:58:58.213234Z"
    }
   },
   "outputs": [
    {
     "data": {
      "image/png": "[encoded data removed]",
      "text/plain": [
       "<Figure size 640x480 with 1 Axes>"
      ]
     },
     "metadata": {},
     "output_type": "display_data"
    }
   ],
   "source": [
    "x = np.linspace(-5, 5, num = 1000)\n",
    "tpdfs = t.pdf(x, df = x.size - 1)\n",
    "\n",
    "fig, axes = plt.subplots()\n",
    "axes.plot(x, tpdfs, color = \"black\")\n",
    "ymin, ymax = axes.get_ybound()\n",
    "axes.vlines([-tstat, tstat], ymin = ymin, ymax = ymax, color = \"red\")\n",
    "axes.fill_between(x = x, y1 = 0, y2 = tpdfs, where = (x <= -tstat) | (x >= tstat), color = \"red\")\n",
    "plt.show()"
   ]
  },
  {
   "cell_type": "code",
   "execution_count": 187,
   "id": "408f0b83-baec-4eef-bd14-940d1ba4283d",
   "metadata": {
    "execution": {
     "iopub.execute_input": "2023-07-08T11:00:47.612059Z",
     "iopub.status.busy": "2023-07-08T11:00:47.612059Z",
     "iopub.status.idle": "2023-07-08T11:00:47.620609Z",
     "shell.execute_reply": "2023-07-08T11:00:47.620093Z",
     "shell.execute_reply.started": "2023-07-08T11:00:47.612059Z"
    }
   },
   "outputs": [
    {
     "data": {
      "text/plain": [
       "1.552432362661449e-07"
      ]
     },
     "execution_count": 187,
     "metadata": {},
     "output_type": "execute_result"
    }
   ],
   "source": [
    "df = min(males.size, females.size) - 1\n",
    "p = 2 * (1 - t.cdf(tstat, df = df))\n",
    "p"
   ]
  },
  {
   "cell_type": "code",
   "execution_count": 188,
   "id": "0b6bdbf2-2f2b-4bab-9257-f3925ce0c6e2",
   "metadata": {
    "execution": {
     "iopub.execute_input": "2023-07-08T11:00:49.462157Z",
     "iopub.status.busy": "2023-07-08T11:00:49.462157Z",
     "iopub.status.idle": "2023-07-08T11:00:49.475085Z",
     "shell.execute_reply": "2023-07-08T11:00:49.475085Z",
     "shell.execute_reply.started": "2023-07-08T11:00:49.462157Z"
    }
   },
   "outputs": [
    {
     "data": {
      "text/plain": [
       "1.491746723925047e-07"
      ]
     },
     "execution_count": 188,
     "metadata": {},
     "output_type": "execute_result"
    }
   ],
   "source": [
    "# somewhat ingenuine.\n",
    "\n",
    "df_pooled = males.size + females.size - 2\n",
    "\n",
    "p = 2 * (1 - t.cdf(tstat, df = df_pooled))\n",
    "p"
   ]
  },
  {
   "cell_type": "code",
   "execution_count": 189,
   "id": "05f7954e-2980-4d6c-9560-6be000d2d05c",
   "metadata": {
    "execution": {
     "iopub.execute_input": "2023-07-08T11:01:06.584213Z",
     "iopub.status.busy": "2023-07-08T11:01:06.584213Z",
     "iopub.status.idle": "2023-07-08T11:01:06.594754Z",
     "shell.execute_reply": "2023-07-08T11:01:06.594754Z",
     "shell.execute_reply.started": "2023-07-08T11:01:06.584213Z"
    }
   },
   "outputs": [],
   "source": [
    "# The difference is not that great, though!"
   ]
  },
  {
   "cell_type": "code",
   "execution_count": 190,
   "id": "34213943-08a6-46f9-adf7-90e8d62bc609",
   "metadata": {
    "execution": {
     "iopub.execute_input": "2023-07-08T11:02:44.109833Z",
     "iopub.status.busy": "2023-07-08T11:02:44.109833Z",
     "iopub.status.idle": "2023-07-08T11:02:44.114680Z",
     "shell.execute_reply": "2023-07-08T11:02:44.114626Z",
     "shell.execute_reply.started": "2023-07-08T11:02:44.109833Z"
    }
   },
   "outputs": [],
   "source": [
    "# p values are extremely small compared to the significance levels of 0.05,\n",
    "# So, we can reject the Null hypothesis.\n",
    "\n",
    "# There's enough evidence to claim that the mean blood pressures of male and female populations are not the same."
   ]
  },
  {
   "cell_type": "code",
   "execution_count": null,
   "id": "7b6cbcc3-e6c8-4f5f-888f-d967eeae1380",
   "metadata": {},
   "outputs": [],
   "source": []
  },
  {
   "cell_type": "markdown",
   "id": "e2e0b567-799b-4518-ad1a-802d97d5a018",
   "metadata": {},
   "source": [
    "## ___Heteroscedasticity___\n",
    "-------------"
   ]
  },
  {
   "cell_type": "code",
   "execution_count": 199,
   "id": "52cac452-1245-4f15-8248-37f719bc4c50",
   "metadata": {
    "execution": {
     "iopub.execute_input": "2023-07-08T11:09:12.849299Z",
     "iopub.status.busy": "2023-07-08T11:09:12.849299Z",
     "iopub.status.idle": "2023-07-08T11:09:12.855159Z",
     "shell.execute_reply": "2023-07-08T11:09:12.854647Z",
     "shell.execute_reply.started": "2023-07-08T11:09:12.849299Z"
    }
   },
   "outputs": [
    {
     "data": {
      "text/plain": [
       "array([18, 19, 20, 21, 22, 23, 24, 25, 26, 27, 28, 29, 30, 31, 32, 33, 34,\n",
       "       35, 36, 37, 38, 39, 40, 41, 42, 43, 44, 45, 46, 47, 48, 49, 50, 51,\n",
       "       52, 53, 54, 55, 56, 57, 58, 59, 60, 61, 62, 63, 64, 65, 66, 67, 68,\n",
       "       69, 70, 71, 72, 73, 74, 75, 76, 77, 78, 79, 80], dtype=int64)"
      ]
     },
     "execution_count": 199,
     "metadata": {},
     "output_type": "execute_result"
    }
   ],
   "source": [
    "# Heteroscedasticity is a phenomenon where the standard deviations of values within specific windows of a variable are inconsisitent.\n",
    "\n",
    "np.sort(data.RIDAGEYR.unique())"
   ]
  },
  {
   "cell_type": "code",
   "execution_count": 204,
   "id": "823e6985-8f62-45a6-941a-ce4d56c27aff",
   "metadata": {
    "execution": {
     "iopub.execute_input": "2023-07-08T11:10:20.872278Z",
     "iopub.status.busy": "2023-07-08T11:10:20.872278Z",
     "iopub.status.idle": "2023-07-08T11:10:20.885216Z",
     "shell.execute_reply": "2023-07-08T11:10:20.884685Z",
     "shell.execute_reply.started": "2023-07-08T11:10:20.872278Z"
    }
   },
   "outputs": [
    {
     "data": {
      "text/plain": [
       "array([18, 24, 30, 36, 42, 49, 55, 61, 67, 73, 80], dtype=int64)"
      ]
     },
     "execution_count": 204,
     "metadata": {},
     "output_type": "execute_result"
    }
   ],
   "source": [
    "lims = np.linspace(18, 80, num = 11, dtype = np.int64)\n",
    "lims"
   ]
  },
  {
   "cell_type": "code",
   "execution_count": 206,
   "id": "c42c57ce-ff97-44d7-b7d2-59cba54a3cc8",
   "metadata": {
    "execution": {
     "iopub.execute_input": "2023-07-08T11:11:21.879572Z",
     "iopub.status.busy": "2023-07-08T11:11:21.879572Z",
     "iopub.status.idle": "2023-07-08T11:11:21.886058Z",
     "shell.execute_reply": "2023-07-08T11:11:21.886058Z",
     "shell.execute_reply.started": "2023-07-08T11:11:21.879572Z"
    }
   },
   "outputs": [],
   "source": [
    "data.loc[:, \"range_index\"] = pd.cut(data.RIDAGEYR, lims)"
   ]
  },
  {
   "cell_type": "code",
   "execution_count": 214,
   "id": "e60bd949-caac-4191-a389-0bdb9d626fc9",
   "metadata": {
    "execution": {
     "iopub.execute_input": "2023-07-08T11:14:44.788098Z",
     "iopub.status.busy": "2023-07-08T11:14:44.788098Z",
     "iopub.status.idle": "2023-07-08T11:14:44.821400Z",
     "shell.execute_reply": "2023-07-08T11:14:44.820800Z",
     "shell.execute_reply.started": "2023-07-08T11:14:44.788098Z"
    }
   },
   "outputs": [
    {
     "data": {
      "text/html": [
       "<div>\n",
       "<style scoped>\n",
       "    .dataframe tbody tr th:only-of-type {\n",
       "        vertical-align: middle;\n",
       "    }\n",
       "\n",
       "    .dataframe tbody tr th {\n",
       "        vertical-align: top;\n",
       "    }\n",
       "\n",
       "    .dataframe thead th {\n",
       "        text-align: right;\n",
       "    }\n",
       "</style>\n",
       "<table border=\"1\" class=\"dataframe\">\n",
       "  <thead>\n",
       "    <tr style=\"text-align: right;\">\n",
       "      <th></th>\n",
       "      <th></th>\n",
       "      <th>BPXSY1</th>\n",
       "      <th>RIAGENDR</th>\n",
       "    </tr>\n",
       "    <tr>\n",
       "      <th>range_index</th>\n",
       "      <th>RIAGENDR</th>\n",
       "      <th></th>\n",
       "      <th></th>\n",
       "    </tr>\n",
       "  </thead>\n",
       "  <tbody>\n",
       "    <tr>\n",
       "      <th rowspan=\"2\" valign=\"top\">(18, 24]</th>\n",
       "      <th>1</th>\n",
       "      <td>10.204629</td>\n",
       "      <td>259</td>\n",
       "    </tr>\n",
       "    <tr>\n",
       "      <th>2</th>\n",
       "      <td>10.312487</td>\n",
       "      <td>257</td>\n",
       "    </tr>\n",
       "    <tr>\n",
       "      <th rowspan=\"2\" valign=\"top\">(24, 30]</th>\n",
       "      <th>1</th>\n",
       "      <td>10.635062</td>\n",
       "      <td>254</td>\n",
       "    </tr>\n",
       "    <tr>\n",
       "      <th>2</th>\n",
       "      <td>10.581168</td>\n",
       "      <td>317</td>\n",
       "    </tr>\n",
       "    <tr>\n",
       "      <th rowspan=\"2\" valign=\"top\">(30, 36]</th>\n",
       "      <th>1</th>\n",
       "      <td>12.975654</td>\n",
       "      <td>279</td>\n",
       "    </tr>\n",
       "    <tr>\n",
       "      <th>2</th>\n",
       "      <td>11.759301</td>\n",
       "      <td>270</td>\n",
       "    </tr>\n",
       "    <tr>\n",
       "      <th rowspan=\"2\" valign=\"top\">(36, 42]</th>\n",
       "      <th>1</th>\n",
       "      <td>13.350923</td>\n",
       "      <td>237</td>\n",
       "    </tr>\n",
       "    <tr>\n",
       "      <th>2</th>\n",
       "      <td>13.319370</td>\n",
       "      <td>258</td>\n",
       "    </tr>\n",
       "    <tr>\n",
       "      <th rowspan=\"2\" valign=\"top\">(42, 49]</th>\n",
       "      <th>1</th>\n",
       "      <td>16.896505</td>\n",
       "      <td>261</td>\n",
       "    </tr>\n",
       "    <tr>\n",
       "      <th>2</th>\n",
       "      <td>15.553396</td>\n",
       "      <td>334</td>\n",
       "    </tr>\n",
       "    <tr>\n",
       "      <th rowspan=\"2\" valign=\"top\">(49, 55]</th>\n",
       "      <th>1</th>\n",
       "      <td>18.209776</td>\n",
       "      <td>259</td>\n",
       "    </tr>\n",
       "    <tr>\n",
       "      <th>2</th>\n",
       "      <td>17.157678</td>\n",
       "      <td>273</td>\n",
       "    </tr>\n",
       "    <tr>\n",
       "      <th rowspan=\"2\" valign=\"top\">(55, 61]</th>\n",
       "      <th>1</th>\n",
       "      <td>18.819552</td>\n",
       "      <td>267</td>\n",
       "    </tr>\n",
       "    <tr>\n",
       "      <th>2</th>\n",
       "      <td>20.244446</td>\n",
       "      <td>259</td>\n",
       "    </tr>\n",
       "    <tr>\n",
       "      <th rowspan=\"2\" valign=\"top\">(61, 67]</th>\n",
       "      <th>1</th>\n",
       "      <td>19.034608</td>\n",
       "      <td>246</td>\n",
       "    </tr>\n",
       "    <tr>\n",
       "      <th>2</th>\n",
       "      <td>17.483564</td>\n",
       "      <td>247</td>\n",
       "    </tr>\n",
       "    <tr>\n",
       "      <th rowspan=\"2\" valign=\"top\">(67, 73]</th>\n",
       "      <th>1</th>\n",
       "      <td>20.298790</td>\n",
       "      <td>204</td>\n",
       "    </tr>\n",
       "    <tr>\n",
       "      <th>2</th>\n",
       "      <td>19.667638</td>\n",
       "      <td>191</td>\n",
       "    </tr>\n",
       "    <tr>\n",
       "      <th rowspan=\"2\" valign=\"top\">(73, 80]</th>\n",
       "      <th>1</th>\n",
       "      <td>20.225837</td>\n",
       "      <td>295</td>\n",
       "    </tr>\n",
       "    <tr>\n",
       "      <th>2</th>\n",
       "      <td>21.059872</td>\n",
       "      <td>306</td>\n",
       "    </tr>\n",
       "  </tbody>\n",
       "</table>\n",
       "</div>"
      ],
      "text/plain": [
       "                         BPXSY1  RIAGENDR\n",
       "range_index RIAGENDR                     \n",
       "(18, 24]    1         10.204629       259\n",
       "            2         10.312487       257\n",
       "(24, 30]    1         10.635062       254\n",
       "            2         10.581168       317\n",
       "(30, 36]    1         12.975654       279\n",
       "            2         11.759301       270\n",
       "(36, 42]    1         13.350923       237\n",
       "            2         13.319370       258\n",
       "(42, 49]    1         16.896505       261\n",
       "            2         15.553396       334\n",
       "(49, 55]    1         18.209776       259\n",
       "            2         17.157678       273\n",
       "(55, 61]    1         18.819552       267\n",
       "            2         20.244446       259\n",
       "(61, 67]    1         19.034608       246\n",
       "            2         17.483564       247\n",
       "(67, 73]    1         20.298790       204\n",
       "            2         19.667638       191\n",
       "(73, 80]    1         20.225837       295\n",
       "            2         21.059872       306"
      ]
     },
     "execution_count": 214,
     "metadata": {},
     "output_type": "execute_result"
    }
   ],
   "source": [
    "data.groupby([\"range_index\", \"RIAGENDR\"]).agg({\"BPXSY1\": np.std, \"RIAGENDR\": np.size})"
   ]
  },
  {
   "cell_type": "code",
   "execution_count": 215,
   "id": "fa3bc237-b6cf-481e-ba0e-6c1ee33c67ac",
   "metadata": {
    "execution": {
     "iopub.execute_input": "2023-07-08T11:14:51.641882Z",
     "iopub.status.busy": "2023-07-08T11:14:51.640979Z",
     "iopub.status.idle": "2023-07-08T11:14:51.656175Z",
     "shell.execute_reply": "2023-07-08T11:14:51.656104Z",
     "shell.execute_reply.started": "2023-07-08T11:14:51.641882Z"
    }
   },
   "outputs": [
    {
     "data": {
      "text/html": [
       "<div>\n",
       "<style scoped>\n",
       "    .dataframe tbody tr th:only-of-type {\n",
       "        vertical-align: middle;\n",
       "    }\n",
       "\n",
       "    .dataframe tbody tr th {\n",
       "        vertical-align: top;\n",
       "    }\n",
       "\n",
       "    .dataframe thead tr th {\n",
       "        text-align: left;\n",
       "    }\n",
       "\n",
       "    .dataframe thead tr:last-of-type th {\n",
       "        text-align: right;\n",
       "    }\n",
       "</style>\n",
       "<table border=\"1\" class=\"dataframe\">\n",
       "  <thead>\n",
       "    <tr>\n",
       "      <th></th>\n",
       "      <th colspan=\"2\" halign=\"left\">BPXSY1</th>\n",
       "      <th colspan=\"2\" halign=\"left\">RIAGENDR</th>\n",
       "    </tr>\n",
       "    <tr>\n",
       "      <th>RIAGENDR</th>\n",
       "      <th>1</th>\n",
       "      <th>2</th>\n",
       "      <th>1</th>\n",
       "      <th>2</th>\n",
       "    </tr>\n",
       "    <tr>\n",
       "      <th>range_index</th>\n",
       "      <th></th>\n",
       "      <th></th>\n",
       "      <th></th>\n",
       "      <th></th>\n",
       "    </tr>\n",
       "  </thead>\n",
       "  <tbody>\n",
       "    <tr>\n",
       "      <th>(18, 24]</th>\n",
       "      <td>10.204629</td>\n",
       "      <td>10.312487</td>\n",
       "      <td>259</td>\n",
       "      <td>257</td>\n",
       "    </tr>\n",
       "    <tr>\n",
       "      <th>(24, 30]</th>\n",
       "      <td>10.635062</td>\n",
       "      <td>10.581168</td>\n",
       "      <td>254</td>\n",
       "      <td>317</td>\n",
       "    </tr>\n",
       "    <tr>\n",
       "      <th>(30, 36]</th>\n",
       "      <td>12.975654</td>\n",
       "      <td>11.759301</td>\n",
       "      <td>279</td>\n",
       "      <td>270</td>\n",
       "    </tr>\n",
       "    <tr>\n",
       "      <th>(36, 42]</th>\n",
       "      <td>13.350923</td>\n",
       "      <td>13.319370</td>\n",
       "      <td>237</td>\n",
       "      <td>258</td>\n",
       "    </tr>\n",
       "    <tr>\n",
       "      <th>(42, 49]</th>\n",
       "      <td>16.896505</td>\n",
       "      <td>15.553396</td>\n",
       "      <td>261</td>\n",
       "      <td>334</td>\n",
       "    </tr>\n",
       "    <tr>\n",
       "      <th>(49, 55]</th>\n",
       "      <td>18.209776</td>\n",
       "      <td>17.157678</td>\n",
       "      <td>259</td>\n",
       "      <td>273</td>\n",
       "    </tr>\n",
       "    <tr>\n",
       "      <th>(55, 61]</th>\n",
       "      <td>18.819552</td>\n",
       "      <td>20.244446</td>\n",
       "      <td>267</td>\n",
       "      <td>259</td>\n",
       "    </tr>\n",
       "    <tr>\n",
       "      <th>(61, 67]</th>\n",
       "      <td>19.034608</td>\n",
       "      <td>17.483564</td>\n",
       "      <td>246</td>\n",
       "      <td>247</td>\n",
       "    </tr>\n",
       "    <tr>\n",
       "      <th>(67, 73]</th>\n",
       "      <td>20.298790</td>\n",
       "      <td>19.667638</td>\n",
       "      <td>204</td>\n",
       "      <td>191</td>\n",
       "    </tr>\n",
       "    <tr>\n",
       "      <th>(73, 80]</th>\n",
       "      <td>20.225837</td>\n",
       "      <td>21.059872</td>\n",
       "      <td>295</td>\n",
       "      <td>306</td>\n",
       "    </tr>\n",
       "  </tbody>\n",
       "</table>\n",
       "</div>"
      ],
      "text/plain": [
       "                BPXSY1            RIAGENDR     \n",
       "RIAGENDR             1          2        1    2\n",
       "range_index                                    \n",
       "(18, 24]     10.204629  10.312487      259  257\n",
       "(24, 30]     10.635062  10.581168      254  317\n",
       "(30, 36]     12.975654  11.759301      279  270\n",
       "(36, 42]     13.350923  13.319370      237  258\n",
       "(42, 49]     16.896505  15.553396      261  334\n",
       "(49, 55]     18.209776  17.157678      259  273\n",
       "(55, 61]     18.819552  20.244446      267  259\n",
       "(61, 67]     19.034608  17.483564      246  247\n",
       "(67, 73]     20.298790  19.667638      204  191\n",
       "(73, 80]     20.225837  21.059872      295  306"
      ]
     },
     "execution_count": 215,
     "metadata": {},
     "output_type": "execute_result"
    }
   ],
   "source": [
    "data.groupby([\"range_index\", \"RIAGENDR\"]).agg({\"BPXSY1\": np.std, \"RIAGENDR\": np.size}).unstack()"
   ]
  },
  {
   "cell_type": "code",
   "execution_count": null,
   "id": "47cd4987-76c8-422e-8397-d319ee36d57d",
   "metadata": {},
   "outputs": [],
   "source": []
  }
 ],
 "metadata": {
  "kernelspec": {
   "display_name": "Python 3 (ipykernel)",
   "language": "python",
   "name": "python3"
  },
  "language_info": {
   "codemirror_mode": {
    "name": "ipython",
    "version": 3
   },
   "file_extension": ".py",
   "mimetype": "text/x-python",
   "name": "python",
   "nbconvert_exporter": "python",
   "pygments_lexer": "ipython3",
   "version": "3.11.4"
  }
 },
 "nbformat": 4,
 "nbformat_minor": 5
}
