{
 "cells": [
  {
   "cell_type": "code",
   "execution_count": 1,
   "id": "a918e424-4927-4023-a4be-75ab070f6ca5",
   "metadata": {
    "execution": {
     "iopub.execute_input": "2023-07-08T04:43:52.049403Z",
     "iopub.status.busy": "2023-07-08T04:43:52.049403Z",
     "iopub.status.idle": "2023-07-08T04:43:54.994444Z",
     "shell.execute_reply": "2023-07-08T04:43:54.994444Z",
     "shell.execute_reply.started": "2023-07-08T04:43:52.049403Z"
    }
   },
   "outputs": [],
   "source": [
    "import numpy as np\n",
    "import pandas as pd\n",
    "import matplotlib.pyplot as plt\n",
    "from scipy.stats import (t, f, norm)"
   ]
  },
  {
   "cell_type": "code",
   "execution_count": 10,
   "id": "05c35166-e508-437b-a147-f0fdb9657cbf",
   "metadata": {
    "execution": {
     "iopub.execute_input": "2023-07-08T04:55:53.428007Z",
     "iopub.status.busy": "2023-07-08T04:55:53.428007Z",
     "iopub.status.idle": "2023-07-08T04:55:53.453736Z",
     "shell.execute_reply": "2023-07-08T04:55:53.453736Z",
     "shell.execute_reply.started": "2023-07-08T04:55:53.428007Z"
    }
   },
   "outputs": [],
   "source": [
    "data = pd.read_csv(\"../data/nhanes_2015_2016.csv\", usecols = [\"SMQ020\", \"RIAGENDR\", \"DMDCITZN\"]).dropna(axis = 0)"
   ]
  },
  {
   "cell_type": "code",
   "execution_count": 13,
   "id": "67da2a88-0bf6-4b40-a674-271fe3838dc0",
   "metadata": {
    "execution": {
     "iopub.execute_input": "2023-07-08T04:56:12.045093Z",
     "iopub.status.busy": "2023-07-08T04:56:12.045093Z",
     "iopub.status.idle": "2023-07-08T04:56:12.059401Z",
     "shell.execute_reply": "2023-07-08T04:56:12.059401Z",
     "shell.execute_reply.started": "2023-07-08T04:56:12.045093Z"
    }
   },
   "outputs": [
    {
     "data": {
      "text/plain": [
       "SMQ020      0\n",
       "RIAGENDR    0\n",
       "DMDCITZN    0\n",
       "dtype: int64"
      ]
     },
     "execution_count": 13,
     "metadata": {},
     "output_type": "execute_result"
    }
   ],
   "source": [
    "data.isna().sum(axis = 0)"
   ]
  },
  {
   "cell_type": "code",
   "execution_count": null,
   "id": "4176806f-76f8-4506-a8c8-1a87bd8c6f3e",
   "metadata": {},
   "outputs": [],
   "source": []
  },
  {
   "cell_type": "code",
   "execution_count": 14,
   "id": "01013d11-da61-4e6e-8cd9-f9d848f03550",
   "metadata": {
    "execution": {
     "iopub.execute_input": "2023-07-08T04:59:13.902396Z",
     "iopub.status.busy": "2023-07-08T04:59:13.902396Z",
     "iopub.status.idle": "2023-07-08T04:59:13.908461Z",
     "shell.execute_reply": "2023-07-08T04:59:13.908461Z",
     "shell.execute_reply.started": "2023-07-08T04:59:13.902396Z"
    }
   },
   "outputs": [],
   "source": [
    "# Population proportion.\n",
    "\n",
    "# Null hypothesis: Population proportion of smokers in 0.4\n",
    "# Alternative hypothesis: Population proportion of smokers is not 0.4"
   ]
  },
  {
   "cell_type": "code",
   "execution_count": 15,
   "id": "7e175cd5-364d-43a4-9e5b-e1e4e538b2a1",
   "metadata": {
    "execution": {
     "iopub.execute_input": "2023-07-08T04:59:58.831924Z",
     "iopub.status.busy": "2023-07-08T04:59:58.831924Z",
     "iopub.status.idle": "2023-07-08T04:59:58.843469Z",
     "shell.execute_reply": "2023-07-08T04:59:58.843414Z",
     "shell.execute_reply.started": "2023-07-08T04:59:58.831924Z"
    }
   },
   "outputs": [
    {
     "data": {
      "text/plain": [
       "array([1, 2, 7, 9], dtype=int64)"
      ]
     },
     "execution_count": 15,
     "metadata": {},
     "output_type": "execute_result"
    }
   ],
   "source": [
    "data.SMQ020.unique()"
   ]
  },
  {
   "cell_type": "code",
   "execution_count": 16,
   "id": "4cbbf935-e5aa-4f56-a763-4c8c34a91c9d",
   "metadata": {
    "execution": {
     "iopub.execute_input": "2023-07-08T05:00:07.220198Z",
     "iopub.status.busy": "2023-07-08T05:00:07.220198Z",
     "iopub.status.idle": "2023-07-08T05:00:07.228435Z",
     "shell.execute_reply": "2023-07-08T05:00:07.228435Z",
     "shell.execute_reply.started": "2023-07-08T05:00:07.220198Z"
    }
   },
   "outputs": [
    {
     "data": {
      "text/plain": [
       "0.40442971747471224"
      ]
     },
     "execution_count": 16,
     "metadata": {},
     "output_type": "execute_result"
    }
   ],
   "source": [
    "# best estimate, sample proportion of smokers.\n",
    "\n",
    "best_est = (data.SMQ020 == 1).mean()\n",
    "best_est"
   ]
  },
  {
   "cell_type": "code",
   "execution_count": 17,
   "id": "40413381-1245-4213-bae8-84da1f1a9dc5",
   "metadata": {
    "execution": {
     "iopub.execute_input": "2023-07-08T05:02:20.113492Z",
     "iopub.status.busy": "2023-07-08T05:02:20.113492Z",
     "iopub.status.idle": "2023-07-08T05:02:20.132696Z",
     "shell.execute_reply": "2023-07-08T05:02:20.132696Z",
     "shell.execute_reply.started": "2023-07-08T05:02:20.113492Z"
    }
   },
   "outputs": [
    {
     "data": {
      "text/plain": [
       "0.006469590264171095"
      ]
     },
     "execution_count": 17,
     "metadata": {},
     "output_type": "execute_result"
    }
   ],
   "source": [
    "# estimated standard error\n",
    "\n",
    "stderr_null = np.sqrt((0.4 * (1 - 0.4)) / data.shape[0])\n",
    "stderr_null"
   ]
  },
  {
   "cell_type": "code",
   "execution_count": 18,
   "id": "15f1e2f4-a33c-41ab-83a0-5f3ab996db5f",
   "metadata": {
    "execution": {
     "iopub.execute_input": "2023-07-08T05:08:20.268364Z",
     "iopub.status.busy": "2023-07-08T05:08:20.268364Z",
     "iopub.status.idle": "2023-07-08T05:08:20.276786Z",
     "shell.execute_reply": "2023-07-08T05:08:20.276272Z",
     "shell.execute_reply.started": "2023-07-08T05:08:20.268364Z"
    }
   },
   "outputs": [
    {
     "data": {
      "text/plain": [
       "7.72535311250822e-07"
      ]
     },
     "execution_count": 18,
     "metadata": {},
     "output_type": "execute_result"
    }
   ],
   "source": [
    "# test statistic\n",
    "\n",
    "zstat = (best_est - 0.4) / data.shape[0]\n",
    "zstat"
   ]
  },
  {
   "cell_type": "code",
   "execution_count": 21,
   "id": "15596ae1-499a-4da3-b385-672a81bad3d8",
   "metadata": {
    "execution": {
     "iopub.execute_input": "2023-07-08T05:08:58.832983Z",
     "iopub.status.busy": "2023-07-08T05:08:58.832983Z",
     "iopub.status.idle": "2023-07-08T05:08:58.851214Z",
     "shell.execute_reply": "2023-07-08T05:08:58.851214Z",
     "shell.execute_reply.started": "2023-07-08T05:08:58.832983Z"
    }
   },
   "outputs": [
    {
     "data": {
      "text/plain": [
       "0.9999993836060024"
      ]
     },
     "execution_count": 21,
     "metadata": {},
     "output_type": "execute_result"
    }
   ],
   "source": [
    "p = 2 * (1 - norm.cdf(zstat))\n",
    "p"
   ]
  },
  {
   "cell_type": "code",
   "execution_count": 23,
   "id": "2c41fd0f-194f-4e15-8ba6-201420302e5c",
   "metadata": {
    "execution": {
     "iopub.execute_input": "2023-07-08T05:13:07.936697Z",
     "iopub.status.busy": "2023-07-08T05:13:07.936697Z",
     "iopub.status.idle": "2023-07-08T05:13:07.955460Z",
     "shell.execute_reply": "2023-07-08T05:13:07.955402Z",
     "shell.execute_reply.started": "2023-07-08T05:13:07.936697Z"
    }
   },
   "outputs": [],
   "source": [
    "# p value here is very larger compared to the significance level of 0.05\n",
    "# So, we cannot reject the Null hypothesis,\n",
    "# We have enough evidence to claim that the population proportion of smokers is indeed 0.40"
   ]
  },
  {
   "cell_type": "code",
   "execution_count": null,
   "id": "9eefbd8f-2e4b-4118-acb6-2966d5732c72",
   "metadata": {},
   "outputs": [],
   "source": []
  }
 ],
 "metadata": {
  "kernelspec": {
   "display_name": "Python 3 (ipykernel)",
   "language": "python",
   "name": "python3"
  },
  "language_info": {
   "codemirror_mode": {
    "name": "ipython",
    "version": 3
   },
   "file_extension": ".py",
   "mimetype": "text/x-python",
   "name": "python",
   "nbconvert_exporter": "python",
   "pygments_lexer": "ipython3",
   "version": "3.11.4"
  }
 },
 "nbformat": 4,
 "nbformat_minor": 5
}
