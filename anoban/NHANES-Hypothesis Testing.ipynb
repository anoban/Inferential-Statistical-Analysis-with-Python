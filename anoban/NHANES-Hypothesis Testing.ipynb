{
 "cells": [
  {
   "cell_type": "code",
   "execution_count": 1,
   "id": "a918e424-4927-4023-a4be-75ab070f6ca5",
   "metadata": {
    "execution": {
     "iopub.execute_input": "2023-07-08T04:43:52.049403Z",
     "iopub.status.busy": "2023-07-08T04:43:52.049403Z",
     "iopub.status.idle": "2023-07-08T04:43:54.994444Z",
     "shell.execute_reply": "2023-07-08T04:43:54.994444Z",
     "shell.execute_reply.started": "2023-07-08T04:43:52.049403Z"
    }
   },
   "outputs": [],
   "source": [
    "import numpy as np\n",
    "import pandas as pd\n",
    "import matplotlib.pyplot as plt\n",
    "from scipy.stats import (t, f, norm)"
   ]
  },
  {
   "cell_type": "code",
   "execution_count": 6,
   "id": "05c35166-e508-437b-a147-f0fdb9657cbf",
   "metadata": {
    "execution": {
     "iopub.execute_input": "2023-07-08T04:47:56.429636Z",
     "iopub.status.busy": "2023-07-08T04:47:56.429636Z",
     "iopub.status.idle": "2023-07-08T04:47:56.447523Z",
     "shell.execute_reply": "2023-07-08T04:47:56.446461Z",
     "shell.execute_reply.started": "2023-07-08T04:47:56.429636Z"
    }
   },
   "outputs": [],
   "source": [
    "data = pd.read_csv(\"../data/nhanes_2015_2016.csv\", usecols = [\"SMQ020\", \"RIAGENDR\", \"DMDCITZN\"])"
   ]
  },
  {
   "cell_type": "code",
   "execution_count": 8,
   "id": "67da2a88-0bf6-4b40-a674-271fe3838dc0",
   "metadata": {
    "execution": {
     "iopub.execute_input": "2023-07-08T04:48:00.086070Z",
     "iopub.status.busy": "2023-07-08T04:48:00.086070Z",
     "iopub.status.idle": "2023-07-08T04:48:00.098108Z",
     "shell.execute_reply": "2023-07-08T04:48:00.098108Z",
     "shell.execute_reply.started": "2023-07-08T04:48:00.086070Z"
    }
   },
   "outputs": [
    {
     "data": {
      "text/html": [
       "<div>\n",
       "<style scoped>\n",
       "    .dataframe tbody tr th:only-of-type {\n",
       "        vertical-align: middle;\n",
       "    }\n",
       "\n",
       "    .dataframe tbody tr th {\n",
       "        vertical-align: top;\n",
       "    }\n",
       "\n",
       "    .dataframe thead th {\n",
       "        text-align: right;\n",
       "    }\n",
       "</style>\n",
       "<table border=\"1\" class=\"dataframe\">\n",
       "  <thead>\n",
       "    <tr style=\"text-align: right;\">\n",
       "      <th></th>\n",
       "      <th>SMQ020</th>\n",
       "      <th>RIAGENDR</th>\n",
       "      <th>DMDCITZN</th>\n",
       "    </tr>\n",
       "  </thead>\n",
       "  <tbody>\n",
       "    <tr>\n",
       "      <th>0</th>\n",
       "      <td>1</td>\n",
       "      <td>1</td>\n",
       "      <td>1.0</td>\n",
       "    </tr>\n",
       "    <tr>\n",
       "      <th>1</th>\n",
       "      <td>1</td>\n",
       "      <td>1</td>\n",
       "      <td>2.0</td>\n",
       "    </tr>\n",
       "    <tr>\n",
       "      <th>2</th>\n",
       "      <td>1</td>\n",
       "      <td>1</td>\n",
       "      <td>1.0</td>\n",
       "    </tr>\n",
       "    <tr>\n",
       "      <th>3</th>\n",
       "      <td>2</td>\n",
       "      <td>2</td>\n",
       "      <td>1.0</td>\n",
       "    </tr>\n",
       "    <tr>\n",
       "      <th>4</th>\n",
       "      <td>2</td>\n",
       "      <td>2</td>\n",
       "      <td>1.0</td>\n",
       "    </tr>\n",
       "    <tr>\n",
       "      <th>...</th>\n",
       "      <td>...</td>\n",
       "      <td>...</td>\n",
       "      <td>...</td>\n",
       "    </tr>\n",
       "    <tr>\n",
       "      <th>5730</th>\n",
       "      <td>1</td>\n",
       "      <td>2</td>\n",
       "      <td>1.0</td>\n",
       "    </tr>\n",
       "    <tr>\n",
       "      <th>5731</th>\n",
       "      <td>2</td>\n",
       "      <td>1</td>\n",
       "      <td>1.0</td>\n",
       "    </tr>\n",
       "    <tr>\n",
       "      <th>5732</th>\n",
       "      <td>1</td>\n",
       "      <td>2</td>\n",
       "      <td>1.0</td>\n",
       "    </tr>\n",
       "    <tr>\n",
       "      <th>5733</th>\n",
       "      <td>1</td>\n",
       "      <td>1</td>\n",
       "      <td>2.0</td>\n",
       "    </tr>\n",
       "    <tr>\n",
       "      <th>5734</th>\n",
       "      <td>2</td>\n",
       "      <td>2</td>\n",
       "      <td>1.0</td>\n",
       "    </tr>\n",
       "  </tbody>\n",
       "</table>\n",
       "<p>5735 rows × 3 columns</p>\n",
       "</div>"
      ],
      "text/plain": [
       "      SMQ020  RIAGENDR  DMDCITZN\n",
       "0          1         1       1.0\n",
       "1          1         1       2.0\n",
       "2          1         1       1.0\n",
       "3          2         2       1.0\n",
       "4          2         2       1.0\n",
       "...      ...       ...       ...\n",
       "5730       1         2       1.0\n",
       "5731       2         1       1.0\n",
       "5732       1         2       1.0\n",
       "5733       1         1       2.0\n",
       "5734       2         2       1.0\n",
       "\n",
       "[5735 rows x 3 columns]"
      ]
     },
     "execution_count": 8,
     "metadata": {},
     "output_type": "execute_result"
    }
   ],
   "source": [
    "data"
   ]
  },
  {
   "cell_type": "code",
   "execution_count": null,
   "id": "4176806f-76f8-4506-a8c8-1a87bd8c6f3e",
   "metadata": {},
   "outputs": [],
   "source": []
  }
 ],
 "metadata": {
  "kernelspec": {
   "display_name": "Python 3 (ipykernel)",
   "language": "python",
   "name": "python3"
  },
  "language_info": {
   "codemirror_mode": {
    "name": "ipython",
    "version": 3
   },
   "file_extension": ".py",
   "mimetype": "text/x-python",
   "name": "python",
   "nbconvert_exporter": "python",
   "pygments_lexer": "ipython3",
   "version": "3.11.4"
  }
 },
 "nbformat": 4,
 "nbformat_minor": 5
}
