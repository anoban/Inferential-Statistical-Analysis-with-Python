{
 "cells": [
  {
   "cell_type": "code",
   "execution_count": 74,
   "id": "0f11bb39-58ca-4593-855f-bd3a5aebd5c5",
   "metadata": {
    "execution": {
     "iopub.execute_input": "2023-07-03T09:07:25.491441Z",
     "iopub.status.busy": "2023-07-03T09:07:25.491441Z",
     "iopub.status.idle": "2023-07-03T09:07:25.501505Z",
     "shell.execute_reply": "2023-07-03T09:07:25.500889Z",
     "shell.execute_reply.started": "2023-07-03T09:07:25.491441Z"
    }
   },
   "outputs": [],
   "source": [
    "import numpy as np\n",
    "import pandas as pd\n",
    "import matplotlib.pyplot as plt\n",
    "from scipy.stats import (t, norm)"
   ]
  },
  {
   "cell_type": "markdown",
   "id": "f4c7b5ee-3c9e-42ab-8690-cb647ff00d12",
   "metadata": {},
   "source": [
    "# ___Testing a Population Mean Difference___\n",
    "---------------"
   ]
  },
  {
   "cell_type": "code",
   "execution_count": 7,
   "id": "fef586c7-9c62-48e1-9bd3-edf00ac773ea",
   "metadata": {
    "execution": {
     "iopub.execute_input": "2023-07-03T07:59:59.984176Z",
     "iopub.status.busy": "2023-07-03T07:59:59.984176Z",
     "iopub.status.idle": "2023-07-03T08:00:00.021913Z",
     "shell.execute_reply": "2023-07-03T08:00:00.021913Z",
     "shell.execute_reply.started": "2023-07-03T07:59:59.984176Z"
    }
   },
   "outputs": [
    {
     "data": {
      "text/html": [
       "<div>\n",
       "<style scoped>\n",
       "    .dataframe tbody tr th:only-of-type {\n",
       "        vertical-align: middle;\n",
       "    }\n",
       "\n",
       "    .dataframe tbody tr th {\n",
       "        vertical-align: top;\n",
       "    }\n",
       "\n",
       "    .dataframe thead th {\n",
       "        text-align: right;\n",
       "    }\n",
       "</style>\n",
       "<table border=\"1\" class=\"dataframe\">\n",
       "  <thead>\n",
       "    <tr style=\"text-align: right;\">\n",
       "      <th></th>\n",
       "      <th>country</th>\n",
       "      <th>1800</th>\n",
       "      <th>1801</th>\n",
       "      <th>1802</th>\n",
       "      <th>1803</th>\n",
       "      <th>1804</th>\n",
       "      <th>1805</th>\n",
       "      <th>1806</th>\n",
       "      <th>1807</th>\n",
       "      <th>1808</th>\n",
       "      <th>...</th>\n",
       "      <th>2091</th>\n",
       "      <th>2092</th>\n",
       "      <th>2093</th>\n",
       "      <th>2094</th>\n",
       "      <th>2095</th>\n",
       "      <th>2096</th>\n",
       "      <th>2097</th>\n",
       "      <th>2098</th>\n",
       "      <th>2099</th>\n",
       "      <th>2100</th>\n",
       "    </tr>\n",
       "  </thead>\n",
       "  <tbody>\n",
       "    <tr>\n",
       "      <th>0</th>\n",
       "      <td>Aruba</td>\n",
       "      <td>5.64</td>\n",
       "      <td>5.64</td>\n",
       "      <td>5.64</td>\n",
       "      <td>5.64</td>\n",
       "      <td>5.64</td>\n",
       "      <td>5.64</td>\n",
       "      <td>5.64</td>\n",
       "      <td>5.64</td>\n",
       "      <td>5.64</td>\n",
       "      <td>...</td>\n",
       "      <td>1.82</td>\n",
       "      <td>1.82</td>\n",
       "      <td>1.82</td>\n",
       "      <td>1.82</td>\n",
       "      <td>1.82</td>\n",
       "      <td>1.82</td>\n",
       "      <td>1.82</td>\n",
       "      <td>1.82</td>\n",
       "      <td>1.83</td>\n",
       "      <td>1.83</td>\n",
       "    </tr>\n",
       "    <tr>\n",
       "      <th>1</th>\n",
       "      <td>Afghanistan</td>\n",
       "      <td>7.00</td>\n",
       "      <td>7.00</td>\n",
       "      <td>7.00</td>\n",
       "      <td>7.00</td>\n",
       "      <td>7.00</td>\n",
       "      <td>7.00</td>\n",
       "      <td>7.00</td>\n",
       "      <td>7.00</td>\n",
       "      <td>7.00</td>\n",
       "      <td>...</td>\n",
       "      <td>1.74</td>\n",
       "      <td>1.74</td>\n",
       "      <td>1.74</td>\n",
       "      <td>1.74</td>\n",
       "      <td>1.74</td>\n",
       "      <td>1.74</td>\n",
       "      <td>1.74</td>\n",
       "      <td>1.74</td>\n",
       "      <td>1.74</td>\n",
       "      <td>1.74</td>\n",
       "    </tr>\n",
       "    <tr>\n",
       "      <th>2</th>\n",
       "      <td>Angola</td>\n",
       "      <td>6.93</td>\n",
       "      <td>6.93</td>\n",
       "      <td>6.93</td>\n",
       "      <td>6.93</td>\n",
       "      <td>6.93</td>\n",
       "      <td>6.93</td>\n",
       "      <td>6.93</td>\n",
       "      <td>6.94</td>\n",
       "      <td>6.94</td>\n",
       "      <td>...</td>\n",
       "      <td>2.54</td>\n",
       "      <td>2.52</td>\n",
       "      <td>2.50</td>\n",
       "      <td>2.48</td>\n",
       "      <td>2.47</td>\n",
       "      <td>2.45</td>\n",
       "      <td>2.43</td>\n",
       "      <td>2.42</td>\n",
       "      <td>2.40</td>\n",
       "      <td>2.40</td>\n",
       "    </tr>\n",
       "    <tr>\n",
       "      <th>3</th>\n",
       "      <td>Albania</td>\n",
       "      <td>4.60</td>\n",
       "      <td>4.60</td>\n",
       "      <td>4.60</td>\n",
       "      <td>4.60</td>\n",
       "      <td>4.60</td>\n",
       "      <td>4.60</td>\n",
       "      <td>4.60</td>\n",
       "      <td>4.60</td>\n",
       "      <td>4.60</td>\n",
       "      <td>...</td>\n",
       "      <td>1.78</td>\n",
       "      <td>1.78</td>\n",
       "      <td>1.78</td>\n",
       "      <td>1.79</td>\n",
       "      <td>1.79</td>\n",
       "      <td>1.79</td>\n",
       "      <td>1.79</td>\n",
       "      <td>1.79</td>\n",
       "      <td>1.79</td>\n",
       "      <td>1.79</td>\n",
       "    </tr>\n",
       "    <tr>\n",
       "      <th>4</th>\n",
       "      <td>Netherlands Antilles</td>\n",
       "      <td>5.80</td>\n",
       "      <td>5.80</td>\n",
       "      <td>5.80</td>\n",
       "      <td>5.80</td>\n",
       "      <td>5.80</td>\n",
       "      <td>5.80</td>\n",
       "      <td>5.80</td>\n",
       "      <td>5.80</td>\n",
       "      <td>5.80</td>\n",
       "      <td>...</td>\n",
       "      <td>2.00</td>\n",
       "      <td>2.00</td>\n",
       "      <td>2.01</td>\n",
       "      <td>2.01</td>\n",
       "      <td>2.01</td>\n",
       "      <td>2.01</td>\n",
       "      <td>2.01</td>\n",
       "      <td>2.02</td>\n",
       "      <td>2.02</td>\n",
       "      <td>2.02</td>\n",
       "    </tr>\n",
       "  </tbody>\n",
       "</table>\n",
       "<p>5 rows × 302 columns</p>\n",
       "</div>"
      ],
      "text/plain": [
       "                country  1800  1801  1802  1803  1804  1805  1806  1807  1808  \\\n",
       "0                 Aruba  5.64  5.64  5.64  5.64  5.64  5.64  5.64  5.64  5.64   \n",
       "1           Afghanistan  7.00  7.00  7.00  7.00  7.00  7.00  7.00  7.00  7.00   \n",
       "2                Angola  6.93  6.93  6.93  6.93  6.93  6.93  6.93  6.94  6.94   \n",
       "3               Albania  4.60  4.60  4.60  4.60  4.60  4.60  4.60  4.60  4.60   \n",
       "4  Netherlands Antilles  5.80  5.80  5.80  5.80  5.80  5.80  5.80  5.80  5.80   \n",
       "\n",
       "   ...  2091  2092  2093  2094  2095  2096  2097  2098  2099  2100  \n",
       "0  ...  1.82  1.82  1.82  1.82  1.82  1.82  1.82  1.82  1.83  1.83  \n",
       "1  ...  1.74  1.74  1.74  1.74  1.74  1.74  1.74  1.74  1.74  1.74  \n",
       "2  ...  2.54  2.52  2.50  2.48  2.47  2.45  2.43  2.42  2.40  2.40  \n",
       "3  ...  1.78  1.78  1.78  1.79  1.79  1.79  1.79  1.79  1.79  1.79  \n",
       "4  ...  2.00  2.00  2.01  2.01  2.01  2.01  2.01  2.02  2.02  2.02  \n",
       "\n",
       "[5 rows x 302 columns]"
      ]
     },
     "execution_count": 7,
     "metadata": {},
     "output_type": "execute_result"
    }
   ],
   "source": [
    "# We'll be looking at paired data, where we'll have a set of features and records for each feature for both the columns (or variables)\n",
    "\n",
    "cpw = pd.read_csv(\"./../data/children_per_woman_total_fertility.csv\")\n",
    "cpw.head()"
   ]
  },
  {
   "cell_type": "code",
   "execution_count": 14,
   "id": "682345f6-93de-451f-8d4b-12e9173a1f90",
   "metadata": {
    "execution": {
     "iopub.execute_input": "2023-07-03T08:01:17.863043Z",
     "iopub.status.busy": "2023-07-03T08:01:17.863043Z",
     "iopub.status.idle": "2023-07-03T08:01:17.869951Z",
     "shell.execute_reply": "2023-07-03T08:01:17.869441Z",
     "shell.execute_reply.started": "2023-07-03T08:01:17.863043Z"
    }
   },
   "outputs": [
    {
     "data": {
      "text/plain": [
       "(array([140], dtype=int64),)"
      ]
     },
     "execution_count": 14,
     "metadata": {},
     "output_type": "execute_result"
    }
   ],
   "source": [
    "np.where(cpw.country == \"Pakistan\")"
   ]
  },
  {
   "cell_type": "code",
   "execution_count": 19,
   "id": "9b18aa0d-0796-44fd-8a0e-7f2ff04f222f",
   "metadata": {
    "execution": {
     "iopub.execute_input": "2023-07-03T08:04:49.414955Z",
     "iopub.status.busy": "2023-07-03T08:04:49.414955Z",
     "iopub.status.idle": "2023-07-03T08:04:49.428084Z",
     "shell.execute_reply": "2023-07-03T08:04:49.428015Z",
     "shell.execute_reply.started": "2023-07-03T08:04:49.414955Z"
    }
   },
   "outputs": [],
   "source": [
    "afghanistan = cpw.iloc[1, 1:]\n",
    "pakistan = cpw.iloc[140, 1:]"
   ]
  },
  {
   "cell_type": "code",
   "execution_count": 22,
   "id": "6114b2e4-f06f-4125-b090-b624aaca5617",
   "metadata": {
    "execution": {
     "iopub.execute_input": "2023-07-03T08:05:01.815959Z",
     "iopub.status.busy": "2023-07-03T08:05:01.815959Z",
     "iopub.status.idle": "2023-07-03T08:05:01.829095Z",
     "shell.execute_reply": "2023-07-03T08:05:01.828575Z",
     "shell.execute_reply.started": "2023-07-03T08:05:01.815959Z"
    }
   },
   "outputs": [
    {
     "data": {
      "text/plain": [
       "(5.7414285714285755, 5.189036544850493)"
      ]
     },
     "execution_count": 22,
     "metadata": {},
     "output_type": "execute_result"
    }
   ],
   "source": [
    "# The data we are interested in is the average number of children per women in Pakistan and Afghanistan over the 300 years window of 1800 - 2100\n",
    "# Some of them may be predicted data :&(\n",
    "\n",
    "afghanistan.mean(), pakistan.mean()"
   ]
  },
  {
   "cell_type": "code",
   "execution_count": 23,
   "id": "b4791942-30a3-452d-bc24-cb7d5532f78c",
   "metadata": {
    "execution": {
     "iopub.execute_input": "2023-07-03T08:07:15.452840Z",
     "iopub.status.busy": "2023-07-03T08:07:15.452840Z",
     "iopub.status.idle": "2023-07-03T08:07:15.469964Z",
     "shell.execute_reply": "2023-07-03T08:07:15.469373Z",
     "shell.execute_reply.started": "2023-07-03T08:07:15.452840Z"
    }
   },
   "outputs": [
    {
     "data": {
      "text/plain": [
       "0.5523920265780822"
      ]
     },
     "execution_count": 23,
     "metadata": {},
     "output_type": "execute_result"
    }
   ],
   "source": [
    "afghanistan.mean() - pakistan.mean()"
   ]
  },
  {
   "cell_type": "code",
   "execution_count": 25,
   "id": "92a54d1b-3ee8-4ea1-9cd3-9a38590e570b",
   "metadata": {
    "execution": {
     "iopub.execute_input": "2023-07-03T08:07:36.896535Z",
     "iopub.status.busy": "2023-07-03T08:07:36.896535Z",
     "iopub.status.idle": "2023-07-03T08:07:36.910266Z",
     "shell.execute_reply": "2023-07-03T08:07:36.909753Z",
     "shell.execute_reply.started": "2023-07-03T08:07:36.896535Z"
    }
   },
   "outputs": [
    {
     "data": {
      "text/plain": [
       "0.5523920265780723"
      ]
     },
     "execution_count": 25,
     "metadata": {},
     "output_type": "execute_result"
    }
   ],
   "source": [
    "# We have the average number of children per women data for each year, starting from 1800 to 2100.\n",
    "\n",
    "(afghanistan - pakistan).mean()"
   ]
  },
  {
   "cell_type": "code",
   "execution_count": 35,
   "id": "143052bf-8f6b-4c68-b962-e013f6555cf7",
   "metadata": {
    "execution": {
     "iopub.execute_input": "2023-07-03T08:25:57.913036Z",
     "iopub.status.busy": "2023-07-03T08:25:57.913036Z",
     "iopub.status.idle": "2023-07-03T08:25:57.924370Z",
     "shell.execute_reply": "2023-07-03T08:25:57.924319Z",
     "shell.execute_reply.started": "2023-07-03T08:25:57.913036Z"
    }
   },
   "outputs": [],
   "source": [
    "# We have two samples of 300 size,\n",
    "# We'll define the difference as Afghanistan - Pakistan.\n",
    "\n",
    "# The question here is that is there a significant difference between the average number of children per women between the two countries?\n",
    "# In other words;\n",
    "\n",
    "# @ 5% significance level;\n",
    "\n",
    "# Null hypothesis: There's no significant difference between the average number of children per women between the two countries.\n",
    "# Alternative hypothesis: There's a significant difference between the average number of children per women between the two countries. (two tailed)"
   ]
  },
  {
   "cell_type": "markdown",
   "id": "ea3c6d8e-9ad1-4a84-8512-c3e3a7797fd6",
   "metadata": {},
   "source": [
    "## ___$H_0: \\bar{CPW_{Afg}} - \\bar{CPW_{Pak}} = 0$___\n",
    "## ___$H_1: \\bar{CPW_{Afg}} - \\bar{CPW_{Pak}} \\neq 0$___"
   ]
  },
  {
   "cell_type": "code",
   "execution_count": 32,
   "id": "0d03f952-be7a-4560-b268-733cf760a9f9",
   "metadata": {
    "execution": {
     "iopub.execute_input": "2023-07-03T08:23:29.670832Z",
     "iopub.status.busy": "2023-07-03T08:23:29.670832Z",
     "iopub.status.idle": "2023-07-03T08:23:29.677718Z",
     "shell.execute_reply": "2023-07-03T08:23:29.676691Z",
     "shell.execute_reply.started": "2023-07-03T08:23:29.670832Z"
    }
   },
   "outputs": [
    {
     "data": {
      "text/plain": [
       "0.5523920265780723"
      ]
     },
     "execution_count": 32,
     "metadata": {},
     "output_type": "execute_result"
    }
   ],
   "source": [
    "# We have records for only 300 years.\n",
    "# We have to use them to estimate the population mean difference!\n",
    "\n",
    "# Our best estimate is the difference between the sample means! (or the mean of year-wise differences in the sample)\n",
    "\n",
    "best_est = (afghanistan - pakistan).mean()\n",
    "best_est"
   ]
  },
  {
   "cell_type": "code",
   "execution_count": 64,
   "id": "0cae4439-7bd6-4600-ae7d-0de0613aba3c",
   "metadata": {
    "execution": {
     "iopub.execute_input": "2023-07-03T09:03:37.222441Z",
     "iopub.status.busy": "2023-07-03T09:03:37.222441Z",
     "iopub.status.idle": "2023-07-03T09:03:37.234594Z",
     "shell.execute_reply": "2023-07-03T09:03:37.234083Z",
     "shell.execute_reply.started": "2023-07-03T09:03:37.222441Z"
    }
   },
   "outputs": [
    {
     "data": {
      "text/plain": [
       "0.03683155481555702"
      ]
     },
     "execution_count": 64,
     "metadata": {},
     "output_type": "execute_result"
    }
   ],
   "source": [
    "# Test score = (best estimate - hypothesized estimate) / standard error\n",
    "# Since we do not know the population's standard error, we'll calculate the samples' difference's standard error,\n",
    "\n",
    "stderr = (afghanistan - pakistan).std() / np.sqrt(afghanistan.size)    # afghanistan.size = pakistan.size, so we could use either one of them.\n",
    "stderr"
   ]
  },
  {
   "cell_type": "code",
   "execution_count": null,
   "id": "6edf8880-1852-4a80-8d09-d87bfb6bfdf8",
   "metadata": {},
   "outputs": [],
   "source": []
  },
  {
   "cell_type": "code",
   "execution_count": 65,
   "id": "8ddfcf03-77c3-4f97-a194-06832c41c4a0",
   "metadata": {
    "execution": {
     "iopub.execute_input": "2023-07-03T09:03:58.480233Z",
     "iopub.status.busy": "2023-07-03T09:03:58.480233Z",
     "iopub.status.idle": "2023-07-03T09:03:58.601537Z",
     "shell.execute_reply": "2023-07-03T09:03:58.601537Z",
     "shell.execute_reply.started": "2023-07-03T09:03:58.480233Z"
    }
   },
   "outputs": [
    {
     "data": {
      "image/png": "[encoded data removed]",
      "text/plain": [
       "<Figure size 700x700 with 1 Axes>"
      ]
     },
     "metadata": {},
     "output_type": "display_data"
    }
   ],
   "source": [
    "# To see the differences in a scatter plot,\n",
    "\n",
    "fig, axes = plt.subplots()\n",
    "fig.set_size_inches(7, 7)\n",
    "axes.scatter(afghanistan, pakistan, color = \"yellow\", edgecolor = \"black\", alpha = 0.75)\n",
    "axes.plot(axes.get_xbound(), axes.get_ybound(), color = \"red\")\n",
    "axes.set_xlabel(\"$Afghanistan$\")\n",
    "axes.set_ylabel(\"$Pakistan$\")\n",
    "plt.show()"
   ]
  },
  {
   "cell_type": "code",
   "execution_count": 45,
   "id": "b8983827-9b1f-4290-b87f-024459e697a6",
   "metadata": {
    "execution": {
     "iopub.execute_input": "2023-07-03T08:42:05.153584Z",
     "iopub.status.busy": "2023-07-03T08:42:05.153584Z",
     "iopub.status.idle": "2023-07-03T08:42:05.166224Z",
     "shell.execute_reply": "2023-07-03T08:42:05.166224Z",
     "shell.execute_reply.started": "2023-07-03T08:42:05.153584Z"
    }
   },
   "outputs": [],
   "source": [
    "# Assumptions: \n",
    "\n",
    "# 1) Our samples are simple random samples.\n",
    "# 2) Samples are large enough."
   ]
  },
  {
   "cell_type": "code",
   "execution_count": 66,
   "id": "05ded2dc-a392-4ca0-bd59-a00d2e0fcf6e",
   "metadata": {
    "execution": {
     "iopub.execute_input": "2023-07-03T09:04:05.582002Z",
     "iopub.status.busy": "2023-07-03T09:04:05.582002Z",
     "iopub.status.idle": "2023-07-03T09:04:05.590671Z",
     "shell.execute_reply": "2023-07-03T09:04:05.590671Z",
     "shell.execute_reply.started": "2023-07-03T09:04:05.582002Z"
    }
   },
   "outputs": [],
   "source": [
    "# Is our sample of differences normally distributed?\n",
    "\n",
    "x = np.linspace(0, 1, num = 50, endpoint = True)\n",
    "qnorm = norm.ppf(x)\n",
    "qtest = np.quantile(a = afghanistan - pakistan, q = x)"
   ]
  },
  {
   "cell_type": "code",
   "execution_count": 67,
   "id": "cf9e9dc6-1f32-45bc-8461-ebe2677e51ed",
   "metadata": {
    "execution": {
     "iopub.execute_input": "2023-07-03T09:04:06.131603Z",
     "iopub.status.busy": "2023-07-03T09:04:06.131603Z",
     "iopub.status.idle": "2023-07-03T09:04:06.261067Z",
     "shell.execute_reply": "2023-07-03T09:04:06.261067Z",
     "shell.execute_reply.started": "2023-07-03T09:04:06.131603Z"
    }
   },
   "outputs": [
    {
     "data": {
      "image/png": "[encoded data removed]",
      "text/plain": [
       "<Figure size 600x600 with 1 Axes>"
      ]
     },
     "metadata": {},
     "output_type": "display_data"
    }
   ],
   "source": [
    "fig, axes = plt.subplots()\n",
    "fig.set_size_inches(6, 6)\n",
    "axes.scatter(qnorm, qtest, color = \"yellow\", edgecolor = \"black\", alpha = 0.75)\n",
    "axes.plot(axes.get_xbound(), axes.get_ybound(), color = \"red\")\n",
    "axes.set_xlabel(\"$Theoretical$\")\n",
    "axes.set_ylabel(\"$Sample$\")\n",
    "plt.show()"
   ]
  },
  {
   "cell_type": "code",
   "execution_count": 63,
   "id": "9cfc865e-f629-4c80-b6b9-043d3581f695",
   "metadata": {
    "execution": {
     "iopub.execute_input": "2023-07-03T09:01:50.951644Z",
     "iopub.status.busy": "2023-07-03T09:01:50.951644Z",
     "iopub.status.idle": "2023-07-03T09:01:51.093777Z",
     "shell.execute_reply": "2023-07-03T09:01:51.093777Z",
     "shell.execute_reply.started": "2023-07-03T09:01:50.951644Z"
    }
   },
   "outputs": [
    {
     "data": {
      "image/png": "[encoded data removed]",
      "text/plain": [
       "<Figure size 600x600 with 1 Axes>"
      ]
     },
     "metadata": {},
     "output_type": "display_data"
    }
   ],
   "source": [
    "# The distribution is NOT NORMAL AT ALL.\n",
    "\n",
    "fig, axes = plt.subplots()\n",
    "fig.set_size_inches(6, 6)\n",
    "axes.hist(afghanistan - pakistan, bins = 25, color = \"green\", rwidth = 0.9)\n",
    "axes.set_xlabel(\"$Difference$\")\n",
    "axes.set_ylabel(\"$Count$\")\n",
    "plt.show()"
   ]
  },
  {
   "cell_type": "code",
   "execution_count": null,
   "id": "d6b6c0ec-6e10-4cad-8c4a-b1766a5937c5",
   "metadata": {},
   "outputs": [],
   "source": []
  },
  {
   "cell_type": "code",
   "execution_count": 71,
   "id": "0057fbbe-b092-44bb-9b29-9a346b9d601b",
   "metadata": {
    "execution": {
     "iopub.execute_input": "2023-07-03T09:06:30.192540Z",
     "iopub.status.busy": "2023-07-03T09:06:30.192540Z",
     "iopub.status.idle": "2023-07-03T09:06:30.201114Z",
     "shell.execute_reply": "2023-07-03T09:06:30.201114Z",
     "shell.execute_reply.started": "2023-07-03T09:06:30.192540Z"
    }
   },
   "outputs": [
    {
     "data": {
      "text/plain": [
       "(-0.16000000000000014,\n",
       " 2.96,\n",
       " 0.41000000000000014,\n",
       " 0.5523920265780723,\n",
       " 0.6390035934715437)"
      ]
     },
     "execution_count": 71,
     "metadata": {},
     "output_type": "execute_result"
    }
   ],
   "source": [
    "diff = afghanistan - pakistan\n",
    "\n",
    "diff.min(), diff.max(), diff.median(), diff.mean(), diff.std()"
   ]
  },
  {
   "cell_type": "code",
   "execution_count": null,
   "id": "178464dc-191e-498d-8f42-0b7faa9bbd37",
   "metadata": {},
   "outputs": [],
   "source": []
  },
  {
   "cell_type": "code",
   "execution_count": 73,
   "id": "76ff61e7-231a-49c5-94f5-90a686e8eb5a",
   "metadata": {
    "execution": {
     "iopub.execute_input": "2023-07-03T09:07:14.154964Z",
     "iopub.status.busy": "2023-07-03T09:07:14.154964Z",
     "iopub.status.idle": "2023-07-03T09:07:14.160066Z",
     "shell.execute_reply": "2023-07-03T09:07:14.159558Z",
     "shell.execute_reply.started": "2023-07-03T09:07:14.154964Z"
    }
   },
   "outputs": [
    {
     "data": {
      "text/plain": [
       "14.997792771559872"
      ]
     },
     "execution_count": 73,
     "metadata": {},
     "output_type": "execute_result"
    }
   ],
   "source": [
    "# Test statistic\n",
    "\n",
    "tscore = (best_est - 0) / stderr\n",
    "tscore"
   ]
  },
  {
   "cell_type": "code",
   "execution_count": 97,
   "id": "092a4ae0-16c0-47cd-9db4-5c55895b0465",
   "metadata": {
    "execution": {
     "iopub.execute_input": "2023-07-03T09:14:46.935339Z",
     "iopub.status.busy": "2023-07-03T09:14:46.935339Z",
     "iopub.status.idle": "2023-07-03T09:14:46.952049Z",
     "shell.execute_reply": "2023-07-03T09:14:46.952049Z",
     "shell.execute_reply.started": "2023-07-03T09:14:46.935339Z"
    }
   },
   "outputs": [
    {
     "data": {
      "text/plain": [
       "1.0"
      ]
     },
     "execution_count": 97,
     "metadata": {},
     "output_type": "execute_result"
    }
   ],
   "source": [
    "# The probability of a random normal value being less than or equal to the given t score is;\n",
    "\n",
    "t.cdf(tscore, df = diff.size - 1)"
   ]
  },
  {
   "cell_type": "code",
   "execution_count": 99,
   "id": "9ff7001a-274f-4a76-ab8a-f946c2962694",
   "metadata": {
    "execution": {
     "iopub.execute_input": "2023-07-03T09:14:54.644107Z",
     "iopub.status.busy": "2023-07-03T09:14:54.644107Z",
     "iopub.status.idle": "2023-07-03T09:14:54.655701Z",
     "shell.execute_reply": "2023-07-03T09:14:54.655701Z",
     "shell.execute_reply.started": "2023-07-03T09:14:54.644107Z"
    }
   },
   "outputs": [
    {
     "data": {
      "text/plain": [
       "1.075388999903385e-37"
      ]
     },
     "execution_count": 99,
     "metadata": {},
     "output_type": "execute_result"
    }
   ],
   "source": [
    "t.pdf(tscore, df = diff.size - 1)"
   ]
  },
  {
   "cell_type": "code",
   "execution_count": null,
   "id": "29d5483d-faba-4a25-a794-e8ce0f667816",
   "metadata": {},
   "outputs": [],
   "source": []
  },
  {
   "cell_type": "code",
   "execution_count": 123,
   "id": "3c54f9da-13d6-487b-b5b2-9bfa66ef7903",
   "metadata": {
    "execution": {
     "iopub.execute_input": "2023-07-03T09:24:58.780663Z",
     "iopub.status.busy": "2023-07-03T09:24:58.780663Z",
     "iopub.status.idle": "2023-07-03T09:24:58.889666Z",
     "shell.execute_reply": "2023-07-03T09:24:58.889666Z",
     "shell.execute_reply.started": "2023-07-03T09:24:58.780663Z"
    }
   },
   "outputs": [
    {
     "data": {
      "image/png": "[encoded data removed]",
      "text/plain": [
       "<Figure size 1000x600 with 1 Axes>"
      ]
     },
     "metadata": {},
     "output_type": "display_data"
    }
   ],
   "source": [
    "x = np.linspace(start = -5, stop = 5, num = 1000, endpoint = True)\n",
    "tvals = t.pdf(x, df = x.size - 1)\n",
    "\n",
    "fig, axes = plt.subplots()\n",
    "fig.set_size_inches(10, 6)\n",
    "axes.plot(x, tvals, color = \"red\")\n",
    "axes.vlines(x = [-tscore, tscore], ymin = 0, ymax = max(axes.get_ybound()))\n",
    "axes.fill_between(x = x, y1 = 0, y2 = max(axes.get_ybound()), where = (x > tscore) & (x < -tscore),\n",
    "                   color = \"yellow\", alpha = 0.75, interpolate = True)\n",
    "plt.show()"
   ]
  }
 ],
 "metadata": {
  "kernelspec": {
   "display_name": "Python 3 (ipykernel)",
   "language": "python",
   "name": "python3"
  },
  "language_info": {
   "codemirror_mode": {
    "name": "ipython",
    "version": 3
   },
   "file_extension": ".py",
   "mimetype": "text/x-python",
   "name": "python",
   "nbconvert_exporter": "python",
   "pygments_lexer": "ipython3",
   "version": "3.11.4"
  }
 },
 "nbformat": 4,
 "nbformat_minor": 5
}
