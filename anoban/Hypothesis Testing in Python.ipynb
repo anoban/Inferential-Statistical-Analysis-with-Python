{
 "cells": [
  {
   "cell_type": "code",
   "execution_count": 1,
   "id": "456bd877-bd02-4240-82a8-079b63e7ebe7",
   "metadata": {
    "execution": {
     "iopub.execute_input": "2023-07-08T02:19:18.361690Z",
     "iopub.status.busy": "2023-07-08T02:19:18.361690Z",
     "iopub.status.idle": "2023-07-08T02:19:21.812827Z",
     "shell.execute_reply": "2023-07-08T02:19:21.812827Z",
     "shell.execute_reply.started": "2023-07-08T02:19:18.361690Z"
    }
   },
   "outputs": [],
   "source": [
    "import numpy as np\n",
    "import pandas as pd\n",
    "import matplotlib.pyplot as plt\n",
    "from scipy.stats import (t, norm, f)"
   ]
  },
  {
   "cell_type": "markdown",
   "id": "65f24449-6e4d-451a-9585-471b3b49100a",
   "metadata": {},
   "source": [
    "# ___Hypothesis Testing in Python___\n",
    "-----------------"
   ]
  },
  {
   "cell_type": "code",
   "execution_count": null,
   "id": "e0664844-7e95-4fe8-ba54-f42a67c06cbc",
   "metadata": {},
   "outputs": [],
   "source": []
  },
  {
   "cell_type": "markdown",
   "id": "4c71e643-312e-4616-90bd-547c46fc0dad",
   "metadata": {},
   "source": [
    "## ___Population Proportion___\n",
    "--------------------\n",
    "--------------------"
   ]
  },
  {
   "cell_type": "code",
   "execution_count": 2,
   "id": "9e181b08-9640-4661-8b45-5d0a8ac1de80",
   "metadata": {
    "execution": {
     "iopub.execute_input": "2023-07-08T02:22:43.166958Z",
     "iopub.status.busy": "2023-07-08T02:22:43.166958Z",
     "iopub.status.idle": "2023-07-08T02:22:43.178606Z",
     "shell.execute_reply": "2023-07-08T02:22:43.178606Z",
     "shell.execute_reply.started": "2023-07-08T02:22:43.166958Z"
    }
   },
   "outputs": [],
   "source": [
    "# Question:\n",
    "\n",
    "# In previous years, 52% of the parents believed electronic medfia was responsible for their teenagers' lack of sleep. Do more parents today believe \n",
    "# that their tenagers' lack of sleep is due to electronic devices?"
   ]
  },
  {
   "cell_type": "code",
   "execution_count": 3,
   "id": "375aef6a-fa3b-4546-9f26-f3667284b08d",
   "metadata": {
    "execution": {
     "iopub.execute_input": "2023-07-08T02:25:44.906406Z",
     "iopub.status.busy": "2023-07-08T02:25:44.906406Z",
     "iopub.status.idle": "2023-07-08T02:25:44.922566Z",
     "shell.execute_reply": "2023-07-08T02:25:44.922566Z",
     "shell.execute_reply.started": "2023-07-08T02:25:44.906406Z"
    }
   },
   "outputs": [],
   "source": [
    "# Data:\n",
    "\n",
    "# Population -> parents with teenaage children.\n",
    "# Parameter of interest -> proportion of parents with a teenager who believe that electronic devices are responsible for ctheir children's lack\n",
    "# of sleep.\n",
    "# Null hypotheis -> P_today = 0.52 or P_past - P_today = 0\n",
    "# Alternative hypothesis -> P_past - P_today != 0\n",
    "\n",
    "# Sample size = 1018 parents with teenage children.\n",
    "# A new study found that now 56% of parents believe the above to be the case."
   ]
  },
  {
   "cell_type": "code",
   "execution_count": 4,
   "id": "446225dd-a4c8-423e-b391-41120bf0e114",
   "metadata": {
    "execution": {
     "iopub.execute_input": "2023-07-08T02:27:47.168859Z",
     "iopub.status.busy": "2023-07-08T02:27:47.168859Z",
     "iopub.status.idle": "2023-07-08T02:27:47.186510Z",
     "shell.execute_reply": "2023-07-08T02:27:47.186033Z",
     "shell.execute_reply.started": "2023-07-08T02:27:47.168859Z"
    }
   },
   "outputs": [],
   "source": [
    "ssize = 1018\n",
    "prev_prop, current_prop = 0.52, 0.56"
   ]
  },
  {
   "cell_type": "code",
   "execution_count": 5,
   "id": "7d29d025-d62b-43fc-bbf2-6686e3072f2d",
   "metadata": {
    "execution": {
     "iopub.execute_input": "2023-07-08T02:29:02.930105Z",
     "iopub.status.busy": "2023-07-08T02:29:02.930105Z",
     "iopub.status.idle": "2023-07-08T02:29:02.949434Z",
     "shell.execute_reply": "2023-07-08T02:29:02.949434Z",
     "shell.execute_reply.started": "2023-07-08T02:29:02.930105Z"
    }
   },
   "outputs": [
    {
     "data": {
      "text/plain": [
       "0.040000000000000036"
      ]
     },
     "execution_count": 5,
     "metadata": {},
     "output_type": "execute_result"
    }
   ],
   "source": [
    "# test statistic = (best estimate - hypothesized estimate) / estimated standard error\n",
    "\n",
    "best_est = current_prop - prev_prop\n",
    "best_est"
   ]
  },
  {
   "cell_type": "code",
   "execution_count": 7,
   "id": "631a9309-56db-4ab8-9570-7c6a3fcb8365",
   "metadata": {
    "execution": {
     "iopub.execute_input": "2023-07-08T02:32:33.241483Z",
     "iopub.status.busy": "2023-07-08T02:32:33.241483Z",
     "iopub.status.idle": "2023-07-08T02:32:33.255292Z",
     "shell.execute_reply": "2023-07-08T02:32:33.254694Z",
     "shell.execute_reply.started": "2023-07-08T02:32:33.241483Z"
    }
   },
   "outputs": [
    {
     "data": {
      "text/plain": [
       "0.015658436718635507"
      ]
     },
     "execution_count": 7,
     "metadata": {},
     "output_type": "execute_result"
    }
   ],
   "source": [
    "# standard error of the null proportion\n",
    "# sqrt{P x (1 - P) / N}, P according to the Null hypothesis is 0.52 because it states delta P = 0.\n",
    "\n",
    "stderr_null = np.sqrt(prev_prop * (1 - prev_prop) / ssize)\n",
    "stderr_null"
   ]
  },
  {
   "cell_type": "code",
   "execution_count": 8,
   "id": "ce8a47ee-d696-4657-873a-c52937b26395",
   "metadata": {
    "execution": {
     "iopub.execute_input": "2023-07-08T02:33:04.982174Z",
     "iopub.status.busy": "2023-07-08T02:33:04.982174Z",
     "iopub.status.idle": "2023-07-08T02:33:04.995710Z",
     "shell.execute_reply": "2023-07-08T02:33:04.995710Z",
     "shell.execute_reply.started": "2023-07-08T02:33:04.982174Z"
    }
   },
   "outputs": [
    {
     "data": {
      "text/plain": [
       "2.5545334262132955"
      ]
     },
     "execution_count": 8,
     "metadata": {},
     "output_type": "execute_result"
    }
   ],
   "source": [
    "# t value\n",
    "\n",
    "tstat = (best_est - 0) / stderr_null\n",
    "tstat"
   ]
  },
  {
   "cell_type": "code",
   "execution_count": null,
   "id": "771c0cd1-431f-4792-b54a-5a7585375539",
   "metadata": {},
   "outputs": [],
   "source": [
    "# Since our test was two tailed, (directionless), the only thing that matters is the distance from t = 0 to be greater than the t score.\n",
    "# i.e we need to consider the area on either sides of the t = 0 line."
   ]
  },
  {
   "cell_type": "code",
   "execution_count": 14,
   "id": "12e33ec8-7690-41b4-b8cb-26bfd32807bc",
   "metadata": {
    "execution": {
     "iopub.execute_input": "2023-07-08T02:40:02.961088Z",
     "iopub.status.busy": "2023-07-08T02:40:02.961088Z",
     "iopub.status.idle": "2023-07-08T02:40:03.059185Z",
     "shell.execute_reply": "2023-07-08T02:40:03.059185Z",
     "shell.execute_reply.started": "2023-07-08T02:40:02.961088Z"
    }
   },
   "outputs": [
    {
     "data": {
      "image/png": "[encoded data removed]",
      "text/plain": [
       "<Figure size 640x480 with 1 Axes>"
      ]
     },
     "metadata": {},
     "output_type": "display_data"
    }
   ],
   "source": [
    "x = np.linspace(start = -5, stop = 5, num = 1000, endpoint = True)\n",
    "tpdfs = t.pdf(x, df = x.size - 1)\n",
    "\n",
    "fig, axes = plt.subplots()\n",
    "axes.plot(x, tpdfs, color = \"black\")\n",
    "ymin, ymax = axes.get_ybound()\n",
    "axes.vlines([-tstat, tstat], ymax = ymax, ymin = ymin, color = \"red\")\n",
    "axes.fill_between(x = x, y1 = 0, y2 = tpdfs, where = (x <= -tstat) | (x >= tstat), color = \"red\", alpha = 0.75)\n",
    "axes.set_ylabel(\"Density\")\n",
    "axes.set_xlabel(\"t\")\n",
    "plt.show()"
   ]
  },
  {
   "cell_type": "code",
   "execution_count": 19,
   "id": "529f1db4-1145-44cd-8c3f-00eb267187fb",
   "metadata": {
    "execution": {
     "iopub.execute_input": "2023-07-08T02:41:42.496064Z",
     "iopub.status.busy": "2023-07-08T02:41:42.496064Z",
     "iopub.status.idle": "2023-07-08T02:41:42.507932Z",
     "shell.execute_reply": "2023-07-08T02:41:42.507932Z",
     "shell.execute_reply.started": "2023-07-08T02:41:42.496064Z"
    }
   },
   "outputs": [
    {
     "data": {
      "text/plain": [
       "0.01077775492216837"
      ]
     },
     "execution_count": 19,
     "metadata": {},
     "output_type": "execute_result"
    }
   ],
   "source": [
    "# p value\n",
    "\n",
    "p = 2 * (1 - t.cdf(tstat, df = ssize - 1))\n",
    "p"
   ]
  },
  {
   "cell_type": "code",
   "execution_count": 21,
   "id": "0ba57cd1-2f98-4a77-b9e7-31b04487be86",
   "metadata": {
    "execution": {
     "iopub.execute_input": "2023-07-08T02:41:53.589686Z",
     "iopub.status.busy": "2023-07-08T02:41:53.589686Z",
     "iopub.status.idle": "2023-07-08T02:41:53.596111Z",
     "shell.execute_reply": "2023-07-08T02:41:53.595488Z",
     "shell.execute_reply.started": "2023-07-08T02:41:53.589686Z"
    }
   },
   "outputs": [
    {
     "data": {
      "text/plain": [
       "True"
      ]
     },
     "execution_count": 21,
     "metadata": {},
     "output_type": "execute_result"
    }
   ],
   "source": [
    "p < 0.05"
   ]
  },
  {
   "cell_type": "code",
   "execution_count": 22,
   "id": "0c3b0a2b-cd9c-40c2-96ca-22e505886e2e",
   "metadata": {
    "execution": {
     "iopub.execute_input": "2023-07-08T02:43:39.706942Z",
     "iopub.status.busy": "2023-07-08T02:43:39.706942Z",
     "iopub.status.idle": "2023-07-08T02:43:39.723713Z",
     "shell.execute_reply": "2023-07-08T02:43:39.723713Z",
     "shell.execute_reply.started": "2023-07-08T02:43:39.706942Z"
    }
   },
   "outputs": [],
   "source": [
    "# Since p value is less than the confidnece levele, we can reject the NUll hypothesis.\n",
    "# So, there's enough evidence to claim that the proportions parents with teenagers who believe the reason for their children not getting enough\n",
    "# sleep is electronic devices now is different from then."
   ]
  },
  {
   "cell_type": "code",
   "execution_count": null,
   "id": "b136f07d-032d-4a83-8345-13c5b0a29778",
   "metadata": {},
   "outputs": [],
   "source": []
  },
  {
   "cell_type": "markdown",
   "id": "ec1af2df-b96f-4b46-ad34-bf95800e8b74",
   "metadata": {},
   "source": [
    "## ___Differences in Population Proportion___\n",
    "--------------------\n",
    "--------------------"
   ]
  },
  {
   "cell_type": "code",
   "execution_count": 23,
   "id": "3d33bdc8-32e3-47db-bb4d-63aa6166b9c6",
   "metadata": {
    "execution": {
     "iopub.execute_input": "2023-07-08T03:06:37.173867Z",
     "iopub.status.busy": "2023-07-08T03:06:37.173867Z",
     "iopub.status.idle": "2023-07-08T03:06:37.185795Z",
     "shell.execute_reply": "2023-07-08T03:06:37.185795Z",
     "shell.execute_reply.started": "2023-07-08T03:06:37.173867Z"
    }
   },
   "outputs": [],
   "source": [
    "# Question: Is there a difference in the population proportions of the parents of white and hispanic children who reported \n",
    "# that their child had a swimming lesson?\n",
    "\n",
    "# Population -> Parents of white children (age 10 - 18) and parents of hispanic children (age 10 -18)\n",
    "# Parameter of interest -> proportion of parents who reported that their child had a swimming lesson."
   ]
  },
  {
   "cell_type": "code",
   "execution_count": 26,
   "id": "f08e0002-f924-47f4-a3b1-5ffc93a30b17",
   "metadata": {
    "execution": {
     "iopub.execute_input": "2023-07-08T03:34:26.504345Z",
     "iopub.status.busy": "2023-07-08T03:34:26.504345Z",
     "iopub.status.idle": "2023-07-08T03:34:26.522360Z",
     "shell.execute_reply": "2023-07-08T03:34:26.521344Z",
     "shell.execute_reply.started": "2023-07-08T03:34:26.504345Z"
    }
   },
   "outputs": [],
   "source": [
    "# Hypotheses:\n",
    "\n",
    "# Null hypothesis: There's no significant difference between the proportion of white and hispanic parents who reported that their child had swimming\n",
    "# lessons.\n",
    "\n",
    "# Alternative hypothesis: There's a significant difference between the proportion of white and hispanic parents who reported that their child had\n",
    "# swimming lessons.\n",
    "\n",
    "# Data\n",
    "\n",
    "ssize_w, ssize_h = 247, 308\n",
    "prop_w, prop_h = 0.368, 0.389"
   ]
  },
  {
   "cell_type": "code",
   "execution_count": 35,
   "id": "cfaa322a-e7d6-431f-88e3-4cb572a68479",
   "metadata": {
    "execution": {
     "iopub.execute_input": "2023-07-08T03:42:26.069661Z",
     "iopub.status.busy": "2023-07-08T03:42:26.069661Z",
     "iopub.status.idle": "2023-07-08T03:42:26.087136Z",
     "shell.execute_reply": "2023-07-08T03:42:26.087136Z",
     "shell.execute_reply.started": "2023-07-08T03:42:26.069661Z"
    }
   },
   "outputs": [
    {
     "data": {
      "text/plain": [
       "0.02100000000000002"
      ]
     },
     "execution_count": 35,
     "metadata": {},
     "output_type": "execute_result"
    }
   ],
   "source": [
    "# Best estimate, the difference in the sample proportions.\n",
    "\n",
    "best_est = prop_h - prop_w\n",
    "best_est"
   ]
  },
  {
   "cell_type": "code",
   "execution_count": 36,
   "id": "22883a68-056f-43a3-a269-43500fec7b17",
   "metadata": {
    "execution": {
     "iopub.execute_input": "2023-07-08T03:42:26.505657Z",
     "iopub.status.busy": "2023-07-08T03:42:26.505657Z",
     "iopub.status.idle": "2023-07-08T03:42:26.514054Z",
     "shell.execute_reply": "2023-07-08T03:42:26.513957Z",
     "shell.execute_reply.started": "2023-07-08T03:42:26.505657Z"
    }
   },
   "outputs": [
    {
     "data": {
      "text/plain": [
       "0.05846477425784153"
      ]
     },
     "execution_count": 36,
     "metadata": {},
     "output_type": "execute_result"
    }
   ],
   "source": [
    "# estimated standard error\n",
    "\n",
    "# Since we do not have the samples here, we need to use the combined proportion to calculate the combined standard error\n",
    "\n",
    "stderr_null_w = np.sqrt((prop_w * (1 - prop_w)) / ssize_w)\n",
    "stderr_null_h = np.sqrt((prop_h * (1 - prop_h)) / ssize_h)\n",
    "\n",
    "stderr_null_comb = stderr_null_h + stderr_null_w\n",
    "stderr_null_comb"
   ]
  },
  {
   "cell_type": "code",
   "execution_count": 37,
   "id": "3ed5b508-c2cb-4a36-a970-8398fa44b533",
   "metadata": {
    "execution": {
     "iopub.execute_input": "2023-07-08T03:42:27.461798Z",
     "iopub.status.busy": "2023-07-08T03:42:27.461798Z",
     "iopub.status.idle": "2023-07-08T03:42:27.473306Z",
     "shell.execute_reply": "2023-07-08T03:42:27.473306Z",
     "shell.execute_reply.started": "2023-07-08T03:42:27.461798Z"
    }
   },
   "outputs": [
    {
     "data": {
      "text/plain": [
       "0.3591906454198515"
      ]
     },
     "execution_count": 37,
     "metadata": {},
     "output_type": "execute_result"
    }
   ],
   "source": [
    "# test statictic\n",
    "\n",
    "tstat = (best_est - 0) / stderr_null_comb\n",
    "tstat"
   ]
  },
  {
   "cell_type": "code",
   "execution_count": 38,
   "id": "a76ed8d0-4a44-475f-a6b1-9078bd3f2939",
   "metadata": {
    "execution": {
     "iopub.execute_input": "2023-07-08T03:42:48.228008Z",
     "iopub.status.busy": "2023-07-08T03:42:48.212356Z",
     "iopub.status.idle": "2023-07-08T03:42:48.329561Z",
     "shell.execute_reply": "2023-07-08T03:42:48.329561Z",
     "shell.execute_reply.started": "2023-07-08T03:42:48.228008Z"
    }
   },
   "outputs": [
    {
     "data": {
      "image/png": "[encoded data removed]",
      "text/plain": [
       "<Figure size 640x480 with 1 Axes>"
      ]
     },
     "metadata": {},
     "output_type": "display_data"
    }
   ],
   "source": [
    "x = np.linspace(start = -5, stop = 5, num = 1000, endpoint = True)\n",
    "tpdfs = t.pdf(x, df = x.size - 1)\n",
    "\n",
    "fig, axes = plt.subplots()\n",
    "axes.plot(x, tpdfs, color = \"black\")\n",
    "ymin, ymax = axes.get_ybound()\n",
    "axes.vlines([-tstat, tstat], ymax = ymax, ymin = ymin, color = \"red\")\n",
    "axes.fill_between(x = x, y1 = 0, y2 = tpdfs, where = (x <= -tstat) | (x >= tstat), color = \"red\", alpha = 0.75)\n",
    "axes.set_ylabel(\"Density\")\n",
    "axes.set_xlabel(\"t\")\n",
    "plt.show()"
   ]
  },
  {
   "cell_type": "code",
   "execution_count": 39,
   "id": "b2d86ead-29fd-48cc-94c7-83ad7423da1f",
   "metadata": {
    "execution": {
     "iopub.execute_input": "2023-07-08T03:42:49.263569Z",
     "iopub.status.busy": "2023-07-08T03:42:49.263569Z",
     "iopub.status.idle": "2023-07-08T03:42:49.271877Z",
     "shell.execute_reply": "2023-07-08T03:42:49.271877Z",
     "shell.execute_reply.started": "2023-07-08T03:42:49.263569Z"
    }
   },
   "outputs": [
    {
     "data": {
      "text/plain": [
       "0.7197605866132433"
      ]
     },
     "execution_count": 39,
     "metadata": {},
     "output_type": "execute_result"
    }
   ],
   "source": [
    "# two tailed t test, so...\n",
    "\n",
    "p = 2 * (1 - t.cdf(tstat, df = min(ssize_w, ssize_h) - 1))\n",
    "p"
   ]
  },
  {
   "cell_type": "code",
   "execution_count": 40,
   "id": "0d769917-1966-43b6-bf24-04521b0f85d1",
   "metadata": {
    "execution": {
     "iopub.execute_input": "2023-07-08T03:51:21.552413Z",
     "iopub.status.busy": "2023-07-08T03:51:21.552413Z",
     "iopub.status.idle": "2023-07-08T03:51:21.562374Z",
     "shell.execute_reply": "2023-07-08T03:51:21.562374Z",
     "shell.execute_reply.started": "2023-07-08T03:51:21.552413Z"
    }
   },
   "outputs": [
    {
     "data": {
      "text/plain": [
       "False"
      ]
     },
     "execution_count": 40,
     "metadata": {},
     "output_type": "execute_result"
    }
   ],
   "source": [
    "p < 0.05"
   ]
  },
  {
   "cell_type": "code",
   "execution_count": null,
   "id": "e24efdea-bd7b-4b86-abe5-6509702d4c21",
   "metadata": {},
   "outputs": [],
   "source": [
    "# The p value is way larger than our significance level of 0.05, so we cannot reject the NULL hypothesis.\n",
    "# There's enough evidence to assert that the population proportions of white and hispanic parents who claimed that their \n",
    "# child has had swimming lessons are equal."
   ]
  },
  {
   "cell_type": "code",
   "execution_count": null,
   "id": "4fa855a4-28c8-4386-b22e-9578eead152b",
   "metadata": {},
   "outputs": [],
   "source": []
  },
  {
   "cell_type": "markdown",
   "id": "7bceede6-268c-4315-a4df-3f6e80b4cebb",
   "metadata": {},
   "source": [
    "## ___Population Mean___\n",
    "-----------------\n",
    "-----------------"
   ]
  },
  {
   "cell_type": "code",
   "execution_count": 41,
   "id": "d5a186aa-5b08-48c8-8c80-4b0160759e5f",
   "metadata": {
    "execution": {
     "iopub.execute_input": "2023-07-08T04:01:43.446217Z",
     "iopub.status.busy": "2023-07-08T04:01:43.446217Z",
     "iopub.status.idle": "2023-07-08T04:01:43.456928Z",
     "shell.execute_reply": "2023-07-08T04:01:43.456928Z",
     "shell.execute_reply.started": "2023-07-08T04:01:43.446217Z"
    }
   },
   "outputs": [],
   "source": [
    "# Question: \n",
    "\n",
    "# Is the average cartwheel distance is more than 80 inches for adults?\n",
    "\n",
    "# Hypotheses:\n",
    "\n",
    "# Null hypothesis: The average cartwheel distance for adults is 80 inches.\n",
    "# Alternative hypothesis: The average cartwheel distance for adults is not equal to 80 inches. (two tailed)"
   ]
  },
  {
   "cell_type": "code",
   "execution_count": 56,
   "id": "73a5e3bd-60a0-4bfe-9ccd-b5dfdb2a0ef4",
   "metadata": {
    "execution": {
     "iopub.execute_input": "2023-07-08T04:13:21.073028Z",
     "iopub.status.busy": "2023-07-08T04:13:21.073028Z",
     "iopub.status.idle": "2023-07-08T04:13:21.089189Z",
     "shell.execute_reply": "2023-07-08T04:13:21.089013Z",
     "shell.execute_reply.started": "2023-07-08T04:13:21.073028Z"
    }
   },
   "outputs": [
    {
     "data": {
      "text/plain": [
       "(82.48, 25)"
      ]
     },
     "execution_count": 56,
     "metadata": {},
     "output_type": "execute_result"
    }
   ],
   "source": [
    "cartwheel = pd.read_csv(\"../data/Cartwheeldata.csv\")\n",
    "cwdist = cartwheel.CWDistance\n",
    "\n",
    "smean = cwdist.mean()\n",
    "ssize = cwdist.size\n",
    "\n",
    "smean, ssize"
   ]
  },
  {
   "cell_type": "code",
   "execution_count": 57,
   "id": "e95ba4d0-9ff3-4caf-a80f-a8e7d6189d9c",
   "metadata": {
    "execution": {
     "iopub.execute_input": "2023-07-08T04:13:21.559722Z",
     "iopub.status.busy": "2023-07-08T04:13:21.559722Z",
     "iopub.status.idle": "2023-07-08T04:13:21.578791Z",
     "shell.execute_reply": "2023-07-08T04:13:21.578725Z",
     "shell.execute_reply.started": "2023-07-08T04:13:21.559722Z"
    }
   },
   "outputs": [
    {
     "data": {
      "text/html": [
       "<div>\n",
       "<style scoped>\n",
       "    .dataframe tbody tr th:only-of-type {\n",
       "        vertical-align: middle;\n",
       "    }\n",
       "\n",
       "    .dataframe tbody tr th {\n",
       "        vertical-align: top;\n",
       "    }\n",
       "\n",
       "    .dataframe thead th {\n",
       "        text-align: right;\n",
       "    }\n",
       "</style>\n",
       "<table border=\"1\" class=\"dataframe\">\n",
       "  <thead>\n",
       "    <tr style=\"text-align: right;\">\n",
       "      <th></th>\n",
       "      <th>ID</th>\n",
       "      <th>Age</th>\n",
       "      <th>GenderGroup</th>\n",
       "      <th>GlassesGroup</th>\n",
       "      <th>Height</th>\n",
       "      <th>Wingspan</th>\n",
       "      <th>CWDistance</th>\n",
       "      <th>CompleteGroup</th>\n",
       "      <th>Score</th>\n",
       "    </tr>\n",
       "  </thead>\n",
       "  <tbody>\n",
       "    <tr>\n",
       "      <th>count</th>\n",
       "      <td>25.000000</td>\n",
       "      <td>25.000000</td>\n",
       "      <td>25.000000</td>\n",
       "      <td>25.000000</td>\n",
       "      <td>25.000000</td>\n",
       "      <td>25.000000</td>\n",
       "      <td>25.000000</td>\n",
       "      <td>25.00000</td>\n",
       "      <td>25.000000</td>\n",
       "    </tr>\n",
       "    <tr>\n",
       "      <th>mean</th>\n",
       "      <td>13.000000</td>\n",
       "      <td>28.240000</td>\n",
       "      <td>1.520000</td>\n",
       "      <td>0.560000</td>\n",
       "      <td>67.650000</td>\n",
       "      <td>66.260000</td>\n",
       "      <td>82.480000</td>\n",
       "      <td>0.76000</td>\n",
       "      <td>6.400000</td>\n",
       "    </tr>\n",
       "    <tr>\n",
       "      <th>std</th>\n",
       "      <td>7.359801</td>\n",
       "      <td>6.989754</td>\n",
       "      <td>0.509902</td>\n",
       "      <td>0.506623</td>\n",
       "      <td>4.431187</td>\n",
       "      <td>5.492647</td>\n",
       "      <td>15.058552</td>\n",
       "      <td>0.43589</td>\n",
       "      <td>2.533114</td>\n",
       "    </tr>\n",
       "    <tr>\n",
       "      <th>min</th>\n",
       "      <td>1.000000</td>\n",
       "      <td>22.000000</td>\n",
       "      <td>1.000000</td>\n",
       "      <td>0.000000</td>\n",
       "      <td>61.500000</td>\n",
       "      <td>57.500000</td>\n",
       "      <td>63.000000</td>\n",
       "      <td>0.00000</td>\n",
       "      <td>2.000000</td>\n",
       "    </tr>\n",
       "    <tr>\n",
       "      <th>25%</th>\n",
       "      <td>7.000000</td>\n",
       "      <td>24.000000</td>\n",
       "      <td>1.000000</td>\n",
       "      <td>0.000000</td>\n",
       "      <td>64.000000</td>\n",
       "      <td>62.000000</td>\n",
       "      <td>70.000000</td>\n",
       "      <td>1.00000</td>\n",
       "      <td>4.000000</td>\n",
       "    </tr>\n",
       "    <tr>\n",
       "      <th>50%</th>\n",
       "      <td>13.000000</td>\n",
       "      <td>26.000000</td>\n",
       "      <td>2.000000</td>\n",
       "      <td>1.000000</td>\n",
       "      <td>68.000000</td>\n",
       "      <td>66.000000</td>\n",
       "      <td>81.000000</td>\n",
       "      <td>1.00000</td>\n",
       "      <td>6.000000</td>\n",
       "    </tr>\n",
       "    <tr>\n",
       "      <th>75%</th>\n",
       "      <td>19.000000</td>\n",
       "      <td>29.000000</td>\n",
       "      <td>2.000000</td>\n",
       "      <td>1.000000</td>\n",
       "      <td>71.000000</td>\n",
       "      <td>71.000000</td>\n",
       "      <td>92.000000</td>\n",
       "      <td>1.00000</td>\n",
       "      <td>8.000000</td>\n",
       "    </tr>\n",
       "    <tr>\n",
       "      <th>max</th>\n",
       "      <td>25.000000</td>\n",
       "      <td>56.000000</td>\n",
       "      <td>2.000000</td>\n",
       "      <td>1.000000</td>\n",
       "      <td>75.000000</td>\n",
       "      <td>76.000000</td>\n",
       "      <td>115.000000</td>\n",
       "      <td>1.00000</td>\n",
       "      <td>10.000000</td>\n",
       "    </tr>\n",
       "  </tbody>\n",
       "</table>\n",
       "</div>"
      ],
      "text/plain": [
       "              ID        Age  GenderGroup  GlassesGroup     Height   Wingspan  \\\n",
       "count  25.000000  25.000000    25.000000     25.000000  25.000000  25.000000   \n",
       "mean   13.000000  28.240000     1.520000      0.560000  67.650000  66.260000   \n",
       "std     7.359801   6.989754     0.509902      0.506623   4.431187   5.492647   \n",
       "min     1.000000  22.000000     1.000000      0.000000  61.500000  57.500000   \n",
       "25%     7.000000  24.000000     1.000000      0.000000  64.000000  62.000000   \n",
       "50%    13.000000  26.000000     2.000000      1.000000  68.000000  66.000000   \n",
       "75%    19.000000  29.000000     2.000000      1.000000  71.000000  71.000000   \n",
       "max    25.000000  56.000000     2.000000      1.000000  75.000000  76.000000   \n",
       "\n",
       "       CWDistance  CompleteGroup      Score  \n",
       "count   25.000000       25.00000  25.000000  \n",
       "mean    82.480000        0.76000   6.400000  \n",
       "std     15.058552        0.43589   2.533114  \n",
       "min     63.000000        0.00000   2.000000  \n",
       "25%     70.000000        1.00000   4.000000  \n",
       "50%     81.000000        1.00000   6.000000  \n",
       "75%     92.000000        1.00000   8.000000  \n",
       "max    115.000000        1.00000  10.000000  "
      ]
     },
     "execution_count": 57,
     "metadata": {},
     "output_type": "execute_result"
    }
   ],
   "source": [
    "cartwheel.describe()"
   ]
  },
  {
   "cell_type": "code",
   "execution_count": 58,
   "id": "103adffa-02d8-4abe-ab47-bfb18e835afc",
   "metadata": {
    "execution": {
     "iopub.execute_input": "2023-07-08T04:13:21.967890Z",
     "iopub.status.busy": "2023-07-08T04:13:21.967890Z",
     "iopub.status.idle": "2023-07-08T04:13:21.981732Z",
     "shell.execute_reply": "2023-07-08T04:13:21.981115Z",
     "shell.execute_reply.started": "2023-07-08T04:13:21.967890Z"
    }
   },
   "outputs": [
    {
     "data": {
      "text/plain": [
       "82.48"
      ]
     },
     "execution_count": 58,
     "metadata": {},
     "output_type": "execute_result"
    }
   ],
   "source": [
    "# best estimate is the sample mean\n",
    "# hypothesized estimate is 80 inches.\n",
    "\n",
    "smean"
   ]
  },
  {
   "cell_type": "code",
   "execution_count": 68,
   "id": "a0261a13-954a-477e-90d4-2faa1c95dce9",
   "metadata": {
    "execution": {
     "iopub.execute_input": "2023-07-08T04:18:34.455242Z",
     "iopub.status.busy": "2023-07-08T04:18:34.451736Z",
     "iopub.status.idle": "2023-07-08T04:18:34.459405Z",
     "shell.execute_reply": "2023-07-08T04:18:34.459405Z",
     "shell.execute_reply.started": "2023-07-08T04:18:34.455242Z"
    }
   },
   "outputs": [
    {
     "data": {
      "text/plain": [
       "3.0117104774529704"
      ]
     },
     "execution_count": 68,
     "metadata": {},
     "output_type": "execute_result"
    }
   ],
   "source": [
    "# estimated standard error,\n",
    "\n",
    "stderr_null = cwdist.std() / np.sqrt(ssize)\n",
    "stderr_null"
   ]
  },
  {
   "cell_type": "code",
   "execution_count": 69,
   "id": "a51c0bc0-44a9-44d7-bf51-798da42aad66",
   "metadata": {
    "execution": {
     "iopub.execute_input": "2023-07-08T04:18:34.890724Z",
     "iopub.status.busy": "2023-07-08T04:18:34.890724Z",
     "iopub.status.idle": "2023-07-08T04:18:34.897210Z",
     "shell.execute_reply": "2023-07-08T04:18:34.897210Z",
     "shell.execute_reply.started": "2023-07-08T04:18:34.890724Z"
    }
   },
   "outputs": [
    {
     "data": {
      "text/plain": [
       "0.8234523266982029"
      ]
     },
     "execution_count": 69,
     "metadata": {},
     "output_type": "execute_result"
    }
   ],
   "source": [
    "# test statistic, two tailed\n",
    "\n",
    "tstat = (smean - 80) / stderr_null\n",
    "tstat"
   ]
  },
  {
   "cell_type": "code",
   "execution_count": 70,
   "id": "805a1e0e-39eb-4154-8ed0-b3c007c1d9e0",
   "metadata": {
    "execution": {
     "iopub.execute_input": "2023-07-08T04:18:35.377823Z",
     "iopub.status.busy": "2023-07-08T04:18:35.377823Z",
     "iopub.status.idle": "2023-07-08T04:18:35.485455Z",
     "shell.execute_reply": "2023-07-08T04:18:35.485455Z",
     "shell.execute_reply.started": "2023-07-08T04:18:35.377823Z"
    }
   },
   "outputs": [
    {
     "data": {
      "image/png": "[encoded data removed]",
      "text/plain": [
       "<Figure size 640x480 with 1 Axes>"
      ]
     },
     "metadata": {},
     "output_type": "display_data"
    }
   ],
   "source": [
    "x = np.linspace(start = -5, stop = 5, num = 1000, endpoint = True)\n",
    "tpdfs = t.pdf(x, df = x.size - 1)\n",
    "\n",
    "fig, axes = plt.subplots()\n",
    "axes.plot(x, tpdfs, color = \"black\")\n",
    "ymin, ymax = axes.get_ybound()\n",
    "axes.vlines([-tstat, tstat], ymax = ymax, ymin = ymin, color = \"red\")\n",
    "axes.fill_between(x = x, y1 = 0, y2 = tpdfs, where = (x <= -abs(tstat)) | (x >= abs(tstat)), color = \"red\", alpha = 0.75)\n",
    "axes.set_ylabel(\"Density\")\n",
    "axes.set_xlabel(\"t\")\n",
    "plt.show()"
   ]
  },
  {
   "cell_type": "code",
   "execution_count": 72,
   "id": "374d0d71-78f3-4c9d-b0da-215e6b7fcd8c",
   "metadata": {
    "execution": {
     "iopub.execute_input": "2023-07-08T04:18:49.522625Z",
     "iopub.status.busy": "2023-07-08T04:18:49.522625Z",
     "iopub.status.idle": "2023-07-08T04:18:49.532435Z",
     "shell.execute_reply": "2023-07-08T04:18:49.531731Z",
     "shell.execute_reply.started": "2023-07-08T04:18:49.522625Z"
    }
   },
   "outputs": [
    {
     "data": {
      "text/plain": [
       "0.4183586657067706"
      ]
     },
     "execution_count": 72,
     "metadata": {},
     "output_type": "execute_result"
    }
   ],
   "source": [
    "# p value\n",
    "\n",
    "p = 2 * (1 - t.cdf(abs(tstat), df = ssize - 1))\n",
    "p"
   ]
  },
  {
   "cell_type": "code",
   "execution_count": 73,
   "id": "1864ebc4-8f7b-41cb-8ac0-f8fbfd2b98d7",
   "metadata": {
    "execution": {
     "iopub.execute_input": "2023-07-08T04:20:49.878494Z",
     "iopub.status.busy": "2023-07-08T04:20:49.878494Z",
     "iopub.status.idle": "2023-07-08T04:20:49.889039Z",
     "shell.execute_reply": "2023-07-08T04:20:49.888726Z",
     "shell.execute_reply.started": "2023-07-08T04:20:49.878494Z"
    }
   },
   "outputs": [],
   "source": [
    "# Our p value is larger than our significance level of 0.05, so\n",
    "# We cannot reject the Null hypothesis.\n",
    "# There's enough evidence to claim that the population mean of cartwheel distances is indeed 80 inches."
   ]
  },
  {
   "cell_type": "code",
   "execution_count": null,
   "id": "147c934f-980e-4033-a905-a67666a2f460",
   "metadata": {},
   "outputs": [],
   "source": []
  },
  {
   "cell_type": "markdown",
   "id": "90b87ddb-02ae-4669-bafe-8fd31b16394e",
   "metadata": {
    "execution": {
     "iopub.execute_input": "2023-07-08T04:21:12.661140Z",
     "iopub.status.busy": "2023-07-08T04:21:12.661140Z",
     "iopub.status.idle": "2023-07-08T04:21:12.669188Z",
     "shell.execute_reply": "2023-07-08T04:21:12.669188Z",
     "shell.execute_reply.started": "2023-07-08T04:21:12.661140Z"
    }
   },
   "source": [
    "## ___Difference in Population Means___\n",
    "-----------------\n",
    "-----------------"
   ]
  },
  {
   "cell_type": "code",
   "execution_count": 99,
   "id": "06ca38ef-d7c6-4ba8-9176-61041e02f104",
   "metadata": {
    "execution": {
     "iopub.execute_input": "2023-07-08T04:32:09.306225Z",
     "iopub.status.busy": "2023-07-08T04:32:09.306225Z",
     "iopub.status.idle": "2023-07-08T04:32:09.324292Z",
     "shell.execute_reply": "2023-07-08T04:32:09.324292Z",
     "shell.execute_reply.started": "2023-07-08T04:32:09.306225Z"
    }
   },
   "outputs": [],
   "source": [
    "# Question:\n",
    "\n",
    "# Considering Americans, is there a significant difference in the BMIs of men and women?\n",
    "# using NHANES data,\n",
    "\n",
    "# RIAGENDR: 1 - M, 2 - F\n",
    "nhanes = pd.read_csv(\"../data/nhanes_2015_2016.csv\", usecols = [\"RIAGENDR\", \"BMXBMI\"]).dropna(axis = 0)"
   ]
  },
  {
   "cell_type": "code",
   "execution_count": 100,
   "id": "4a6d0dbb-aaea-4e48-9de0-27f5ff3d0cc6",
   "metadata": {
    "execution": {
     "iopub.execute_input": "2023-07-08T04:32:09.874616Z",
     "iopub.status.busy": "2023-07-08T04:32:09.874616Z",
     "iopub.status.idle": "2023-07-08T04:32:09.883968Z",
     "shell.execute_reply": "2023-07-08T04:32:09.883968Z",
     "shell.execute_reply.started": "2023-07-08T04:32:09.874616Z"
    }
   },
   "outputs": [
    {
     "data": {
      "text/plain": [
       "RIAGENDR    0\n",
       "BMXBMI      0\n",
       "dtype: int64"
      ]
     },
     "execution_count": 100,
     "metadata": {},
     "output_type": "execute_result"
    }
   ],
   "source": [
    "nhanes.isna().sum(axis = 0)"
   ]
  },
  {
   "cell_type": "code",
   "execution_count": 101,
   "id": "234091b3-53ec-4ff3-8161-45423317b90e",
   "metadata": {
    "execution": {
     "iopub.execute_input": "2023-07-08T04:32:11.753472Z",
     "iopub.status.busy": "2023-07-08T04:32:11.753472Z",
     "iopub.status.idle": "2023-07-08T04:32:11.771171Z",
     "shell.execute_reply": "2023-07-08T04:32:11.770657Z",
     "shell.execute_reply.started": "2023-07-08T04:32:11.753472Z"
    }
   },
   "outputs": [
    {
     "data": {
      "text/plain": [
       "array([1, 2], dtype=int64)"
      ]
     },
     "execution_count": 101,
     "metadata": {},
     "output_type": "execute_result"
    }
   ],
   "source": [
    "nhanes.RIAGENDR.unique()"
   ]
  },
  {
   "cell_type": "code",
   "execution_count": 102,
   "id": "e6f89226-7a59-4ff4-94dd-8ed458f8b16f",
   "metadata": {
    "execution": {
     "iopub.execute_input": "2023-07-08T04:32:12.426831Z",
     "iopub.status.busy": "2023-07-08T04:32:12.426831Z",
     "iopub.status.idle": "2023-07-08T04:32:12.433764Z",
     "shell.execute_reply": "2023-07-08T04:32:12.433250Z",
     "shell.execute_reply.started": "2023-07-08T04:32:12.426831Z"
    }
   },
   "outputs": [],
   "source": [
    "males = nhanes.BMXBMI[nhanes.RIAGENDR == 1]\n",
    "females = nhanes.BMXBMI[nhanes.RIAGENDR == 2]"
   ]
  },
  {
   "cell_type": "code",
   "execution_count": 103,
   "id": "1ea2c95e-eade-4d9f-9486-e181c688ab0c",
   "metadata": {
    "execution": {
     "iopub.execute_input": "2023-07-08T04:32:13.179702Z",
     "iopub.status.busy": "2023-07-08T04:32:13.179702Z",
     "iopub.status.idle": "2023-07-08T04:32:13.186394Z",
     "shell.execute_reply": "2023-07-08T04:32:13.186394Z",
     "shell.execute_reply.started": "2023-07-08T04:32:13.179702Z"
    }
   },
   "outputs": [
    {
     "data": {
      "text/plain": [
       "(28.778072111846942, 29.93994565217391)"
      ]
     },
     "execution_count": 103,
     "metadata": {},
     "output_type": "execute_result"
    }
   ],
   "source": [
    "# sample means of BMI\n",
    "\n",
    "smean_m = males.mean()\n",
    "smean_f = females.mean()\n",
    "\n",
    "smean_m, smean_f"
   ]
  },
  {
   "cell_type": "code",
   "execution_count": 104,
   "id": "ae892a6e-6bfc-4d7b-a5b2-f4945d8eb2e2",
   "metadata": {
    "execution": {
     "iopub.execute_input": "2023-07-08T04:32:14.952665Z",
     "iopub.status.busy": "2023-07-08T04:32:14.952665Z",
     "iopub.status.idle": "2023-07-08T04:32:14.961566Z",
     "shell.execute_reply": "2023-07-08T04:32:14.960898Z",
     "shell.execute_reply.started": "2023-07-08T04:32:14.952665Z"
    }
   },
   "outputs": [],
   "source": [
    "# Null hypothesis: There's no significant difference between the BMIs of males and females.\n",
    "# i.e H0: BMI_f - BMI_m = 0\n",
    "\n",
    "# Alternative hypothesis: There's a significant difference between the BMIs of males and females.\n",
    "# i.e H1: BMI_f - BMI_m != 0"
   ]
  },
  {
   "cell_type": "code",
   "execution_count": 105,
   "id": "fba74156-8598-4e42-b4f5-3ea065b8486b",
   "metadata": {
    "execution": {
     "iopub.execute_input": "2023-07-08T04:32:15.267013Z",
     "iopub.status.busy": "2023-07-08T04:32:15.267013Z",
     "iopub.status.idle": "2023-07-08T04:32:15.282717Z",
     "shell.execute_reply": "2023-07-08T04:32:15.282086Z",
     "shell.execute_reply.started": "2023-07-08T04:32:15.267013Z"
    }
   },
   "outputs": [
    {
     "data": {
      "text/plain": [
       "1.1618735403269689"
      ]
     },
     "execution_count": 105,
     "metadata": {},
     "output_type": "execute_result"
    }
   ],
   "source": [
    "# best estimate, is the difference between sample means,\n",
    "\n",
    "best_est = smean_f - smean_m\n",
    "best_est"
   ]
  },
  {
   "cell_type": "code",
   "execution_count": 106,
   "id": "88d4a62c-d55a-46c3-8243-4eb8b2b2fc36",
   "metadata": {
    "execution": {
     "iopub.execute_input": "2023-07-08T04:32:17.011894Z",
     "iopub.status.busy": "2023-07-08T04:32:17.011894Z",
     "iopub.status.idle": "2023-07-08T04:32:17.027760Z",
     "shell.execute_reply": "2023-07-08T04:32:17.027760Z",
     "shell.execute_reply.started": "2023-07-08T04:32:17.011894Z"
    }
   },
   "outputs": [
    {
     "data": {
      "text/plain": [
       "0.26282717342129075"
      ]
     },
     "execution_count": 106,
     "metadata": {},
     "output_type": "execute_result"
    }
   ],
   "source": [
    "# estimated standard errors\n",
    "\n",
    "stderr_m = males.std() / np.sqrt(males.size)\n",
    "stderr_f = females.std() / np.sqrt(females.size)\n",
    "\n",
    "stderr_comb = stderr_f + stderr_m\n",
    "stderr_comb"
   ]
  },
  {
   "cell_type": "code",
   "execution_count": 108,
   "id": "f338a0ec-b4e8-4069-baa6-97c4111b3cec",
   "metadata": {
    "execution": {
     "iopub.execute_input": "2023-07-08T04:33:15.598160Z",
     "iopub.status.busy": "2023-07-08T04:33:15.598160Z",
     "iopub.status.idle": "2023-07-08T04:33:15.612259Z",
     "shell.execute_reply": "2023-07-08T04:33:15.611721Z",
     "shell.execute_reply.started": "2023-07-08T04:33:15.598160Z"
    }
   },
   "outputs": [
    {
     "data": {
      "text/plain": [
       "4.4206750968804105"
      ]
     },
     "execution_count": 108,
     "metadata": {},
     "output_type": "execute_result"
    }
   ],
   "source": [
    "# test statistic, two tailed\n",
    "\n",
    "tstat = (best_est - 0) / stderr_comb\n",
    "tstat"
   ]
  },
  {
   "cell_type": "code",
   "execution_count": 110,
   "id": "589806df-27c6-4058-8dac-218d28ae9caa",
   "metadata": {
    "execution": {
     "iopub.execute_input": "2023-07-08T04:33:32.458148Z",
     "iopub.status.busy": "2023-07-08T04:33:32.458148Z",
     "iopub.status.idle": "2023-07-08T04:33:32.565316Z",
     "shell.execute_reply": "2023-07-08T04:33:32.565316Z",
     "shell.execute_reply.started": "2023-07-08T04:33:32.458148Z"
    }
   },
   "outputs": [
    {
     "data": {
      "image/png": "[encoded data removed]",
      "text/plain": [
       "<Figure size 640x480 with 1 Axes>"
      ]
     },
     "metadata": {},
     "output_type": "display_data"
    }
   ],
   "source": [
    "x = np.linspace(start = -5, stop = 5, num = 1000, endpoint = True)\n",
    "tpdfs = t.pdf(x, df = x.size - 1)\n",
    "\n",
    "fig, axes = plt.subplots()\n",
    "axes.plot(x, tpdfs, color = \"black\")\n",
    "ymin, ymax = axes.get_ybound()\n",
    "axes.vlines([-tstat, tstat], ymax = ymax, ymin = ymin, color = \"red\")\n",
    "axes.fill_between(x = x, y1 = 0, y2 = tpdfs, where = (x <= -abs(tstat)) | (x >= abs(tstat)), color = \"red\", alpha = 0.75)\n",
    "axes.set_ylabel(\"Density\")\n",
    "axes.set_xlabel(\"t\")\n",
    "plt.show()"
   ]
  },
  {
   "cell_type": "code",
   "execution_count": 111,
   "id": "031968ea-2731-4e5a-92b4-4e36682d8933",
   "metadata": {
    "execution": {
     "iopub.execute_input": "2023-07-08T04:34:04.415198Z",
     "iopub.status.busy": "2023-07-08T04:34:04.415198Z",
     "iopub.status.idle": "2023-07-08T04:34:04.426753Z",
     "shell.execute_reply": "2023-07-08T04:34:04.426753Z",
     "shell.execute_reply.started": "2023-07-08T04:34:04.415198Z"
    }
   },
   "outputs": [
    {
     "data": {
      "text/plain": [
       "(2718, 2944)"
      ]
     },
     "execution_count": 111,
     "metadata": {},
     "output_type": "execute_result"
    }
   ],
   "source": [
    "males.size, females.size"
   ]
  },
  {
   "cell_type": "code",
   "execution_count": 114,
   "id": "2199899a-5847-4ccf-8541-156a81eda7d6",
   "metadata": {
    "execution": {
     "iopub.execute_input": "2023-07-08T04:34:21.917650Z",
     "iopub.status.busy": "2023-07-08T04:34:21.917650Z",
     "iopub.status.idle": "2023-07-08T04:34:21.924776Z",
     "shell.execute_reply": "2023-07-08T04:34:21.924776Z",
     "shell.execute_reply.started": "2023-07-08T04:34:21.917650Z"
    }
   },
   "outputs": [
    {
     "data": {
      "text/plain": [
       "1.022541256179288e-05"
      ]
     },
     "execution_count": 114,
     "metadata": {},
     "output_type": "execute_result"
    }
   ],
   "source": [
    "p = 2 * (1 - t.cdf(tstat, df = 2718 - 1))\n",
    "p"
   ]
  },
  {
   "cell_type": "code",
   "execution_count": 115,
   "id": "cdd6c7c6-9de5-4846-a7bb-a29a4165f58a",
   "metadata": {
    "execution": {
     "iopub.execute_input": "2023-07-08T04:35:53.599156Z",
     "iopub.status.busy": "2023-07-08T04:35:53.599156Z",
     "iopub.status.idle": "2023-07-08T04:35:53.609551Z",
     "shell.execute_reply": "2023-07-08T04:35:53.609458Z",
     "shell.execute_reply.started": "2023-07-08T04:35:53.599156Z"
    }
   },
   "outputs": [],
   "source": [
    "# p value is way smaller than the alpha (significance level) value of 0.05\n",
    "# So, we can reject the Null hypothesis.\n",
    "\n",
    "# There's enough evidence to assert that the population means of BMIs for mnales and females are not equal."
   ]
  },
  {
   "cell_type": "code",
   "execution_count": null,
   "id": "b0c518a6-384d-48c2-a619-0ddcf1a7bfdc",
   "metadata": {},
   "outputs": [],
   "source": []
  }
 ],
 "metadata": {
  "kernelspec": {
   "display_name": "Python 3 (ipykernel)",
   "language": "python",
   "name": "python3"
  },
  "language_info": {
   "codemirror_mode": {
    "name": "ipython",
    "version": 3
   },
   "file_extension": ".py",
   "mimetype": "text/x-python",
   "name": "python",
   "nbconvert_exporter": "python",
   "pygments_lexer": "ipython3",
   "version": "3.11.4"
  }
 },
 "nbformat": 4,
 "nbformat_minor": 5
}
