{
 "cells": [
  {
   "cell_type": "code",
   "execution_count": 1,
   "id": "5be4cfc6-d7e7-4f1f-9d20-ebb411fb11c6",
   "metadata": {
    "execution": {
     "iopub.execute_input": "2023-06-24T00:24:47.416867Z",
     "iopub.status.busy": "2023-06-24T00:24:47.416867Z",
     "iopub.status.idle": "2023-06-24T00:24:49.964744Z",
     "shell.execute_reply": "2023-06-24T00:24:49.964744Z",
     "shell.execute_reply.started": "2023-06-24T00:24:47.416867Z"
    }
   },
   "outputs": [],
   "source": [
    "import pandas as pd\n",
    "import numpy as np\n",
    "np.random.seed(2023 - 6 - 23)\n",
    "import matplotlib.pyplot as plt\n",
    "from scipy.stats import t\n",
    "import os"
   ]
  },
  {
   "cell_type": "code",
   "execution_count": null,
   "id": "5aa48bbe-ffab-4576-bcce-23ccf11fab07",
   "metadata": {},
   "outputs": [],
   "source": []
  },
  {
   "cell_type": "code",
   "execution_count": 5,
   "id": "bb311472-e54b-4bd3-9dcc-add7ef963ad8",
   "metadata": {
    "execution": {
     "iopub.execute_input": "2023-06-23T13:58:43.838107Z",
     "iopub.status.busy": "2023-06-23T13:58:43.838107Z",
     "iopub.status.idle": "2023-06-23T13:58:43.888383Z",
     "shell.execute_reply": "2023-06-23T13:58:43.888383Z",
     "shell.execute_reply.started": "2023-06-23T13:58:43.838107Z"
    }
   },
   "outputs": [
    {
     "data": {
      "text/plain": [
       "['Cartwheeldata.csv',\n",
       " 'CommonCLZvalues.png',\n",
       " 'Data Description_Metro.pdf',\n",
       " 'EV_Population_Data.csv',\n",
       " 'MetroPT3(AirCompressor).csv',\n",
       " 'nap_no_nap.csv',\n",
       " 'nhanes_2015_2016.csv',\n",
       " 'USDA_plants_database.csv']"
      ]
     },
     "execution_count": 5,
     "metadata": {},
     "output_type": "execute_result"
    }
   ],
   "source": [
    "os.listdir(\"./../data\")"
   ]
  },
  {
   "cell_type": "code",
   "execution_count": null,
   "id": "825ecb8f-5451-4b0d-8234-37832b4c615d",
   "metadata": {},
   "outputs": [],
   "source": []
  },
  {
   "cell_type": "markdown",
   "id": "f3dfb4f9-c4fb-4104-9e3a-fe883d9bf205",
   "metadata": {},
   "source": [
    "## ___Estimating a Confidence Interval for Population Mean, Using a Sample From The Dataset.___\n",
    "----------------------"
   ]
  },
  {
   "cell_type": "code",
   "execution_count": 2,
   "id": "d009375c-4ee4-4704-bee0-4db1cd0ce957",
   "metadata": {
    "execution": {
     "iopub.execute_input": "2023-06-24T00:27:28.513314Z",
     "iopub.status.busy": "2023-06-24T00:27:28.513314Z",
     "iopub.status.idle": "2023-06-24T00:27:28.952250Z",
     "shell.execute_reply": "2023-06-24T00:27:28.951207Z",
     "shell.execute_reply.started": "2023-06-24T00:27:28.513314Z"
    }
   },
   "outputs": [],
   "source": [
    "metro = pd.read_csv(\"./../data/MetroPT3(AirCompressor).csv\")"
   ]
  },
  {
   "cell_type": "code",
   "execution_count": 9,
   "id": "f1237a4b-1403-479b-90f6-77ce614ce1fb",
   "metadata": {
    "execution": {
     "iopub.execute_input": "2023-06-23T14:01:02.204463Z",
     "iopub.status.busy": "2023-06-23T14:01:02.204463Z",
     "iopub.status.idle": "2023-06-23T14:01:02.220170Z",
     "shell.execute_reply": "2023-06-23T14:01:02.219624Z",
     "shell.execute_reply.started": "2023-06-23T14:01:02.204463Z"
    }
   },
   "outputs": [
    {
     "data": {
      "text/plain": [
       "60.91453961453962"
      ]
     },
     "execution_count": 9,
     "metadata": {},
     "output_type": "execute_result"
    }
   ],
   "source": [
    "# Let's consider this dataset as our population.\n",
    "# We are interested in figuring out the mean oil temperature.\n",
    "# The true population parameter (mean oil temp) is\n",
    "\n",
    "metro.Oil_temperature.mean()"
   ]
  },
  {
   "cell_type": "code",
   "execution_count": 12,
   "id": "bf631a00-8741-487e-a327-66ec9883f8f9",
   "metadata": {
    "execution": {
     "iopub.execute_input": "2023-06-23T14:02:22.848968Z",
     "iopub.status.busy": "2023-06-23T14:02:22.848968Z",
     "iopub.status.idle": "2023-06-23T14:02:22.862161Z",
     "shell.execute_reply": "2023-06-23T14:02:22.861011Z",
     "shell.execute_reply.started": "2023-06-23T14:02:22.848968Z"
    }
   },
   "outputs": [
    {
     "data": {
      "text/plain": [
       "999999"
      ]
     },
     "execution_count": 12,
     "metadata": {},
     "output_type": "execute_result"
    }
   ],
   "source": [
    "# However, in real world scenarios, we cannot measure this true population parameter of interest.\n",
    "# The size of our population is,\n",
    "\n",
    "metro.shape[0]"
   ]
  },
  {
   "cell_type": "code",
   "execution_count": 21,
   "id": "3c52af28-386c-4e6a-ad77-22d3bacda1d6",
   "metadata": {
    "execution": {
     "iopub.execute_input": "2023-06-23T14:04:26.611113Z",
     "iopub.status.busy": "2023-06-23T14:04:26.611113Z",
     "iopub.status.idle": "2023-06-23T14:04:26.618638Z",
     "shell.execute_reply": "2023-06-23T14:04:26.618638Z",
     "shell.execute_reply.started": "2023-06-23T14:04:26.611113Z"
    }
   },
   "outputs": [],
   "source": [
    "# We'll make a sample of size 10,000\n",
    "\n",
    "sample = metro.Oil_temperature[np.random.randint(low = 0, high = metro.shape[0], size = 10_000)].to_numpy()"
   ]
  },
  {
   "cell_type": "code",
   "execution_count": 23,
   "id": "0f9ab1c5-128a-4fdf-8545-c93e8b9b1ea1",
   "metadata": {
    "execution": {
     "iopub.execute_input": "2023-06-23T14:05:10.847429Z",
     "iopub.status.busy": "2023-06-23T14:05:10.847429Z",
     "iopub.status.idle": "2023-06-23T14:05:10.862239Z",
     "shell.execute_reply": "2023-06-23T14:05:10.861154Z",
     "shell.execute_reply.started": "2023-06-23T14:05:10.847429Z"
    }
   },
   "outputs": [
    {
     "data": {
      "text/plain": [
       "60.88413500000001"
      ]
     },
     "execution_count": 23,
     "metadata": {},
     "output_type": "execute_result"
    }
   ],
   "source": [
    "# Now we have a sample os size 10,000\n",
    "# Our best estimate is the sample mean,\n",
    "\n",
    "best_estimate = sample.mean()\n",
    "best_estimate"
   ]
  },
  {
   "cell_type": "code",
   "execution_count": 25,
   "id": "1eb518d6-15c7-4f13-8e44-a09ded4000e2",
   "metadata": {
    "execution": {
     "iopub.execute_input": "2023-06-23T14:22:13.415742Z",
     "iopub.status.busy": "2023-06-23T14:22:13.415742Z",
     "iopub.status.idle": "2023-06-23T14:22:13.433177Z",
     "shell.execute_reply": "2023-06-23T14:22:13.432554Z",
     "shell.execute_reply.started": "2023-06-23T14:22:13.415742Z"
    }
   },
   "outputs": [
    {
     "data": {
      "text/plain": [
       "0.975"
      ]
     },
     "execution_count": 25,
     "metadata": {},
     "output_type": "execute_result"
    }
   ],
   "source": [
    "# Now we need a confidence interval,\n",
    "# Since we are interested in the population mean, we need to use a t instead of a Z multiplier.\n",
    "\n",
    "# Let's say that we'd like a 95% confidence interval,\n",
    "# that implies, if we sampled the population a 100 times, truly randomly, creating simple random samples,\n",
    "# the confidence intervals computed using the sample parameter (sample mean) will cover the true population parameter (population mean) 95 out of 100 \n",
    "# times.\n",
    "\n",
    "# confidence interval = best estimate +- margin of error\n",
    "# margin of error = multiplier x standard error\n",
    "\n",
    "# t multiplier, at 95% confidence level, for a sample of size 10,000 is,\n",
    "# given our sample is succinctly large, which is true because we samples 1/100 th of the whole population, CLT becomes valid,\n",
    "# which assures that the Z scores will follow a student's t distribution.\n",
    "\n",
    "# The probability of the needed quantile covering 95% of the density of the t distribution (assumed normal) needs to be computed.\n",
    "# P(-t < quantile < +t) = 0.95\n",
    "# This P equals to 1 - ((1 - alpha) / 2), where alpha is the confidence.\n",
    "# @ 95% confidence alpha = 0.95\n",
    "\n",
    "P = 1 - ((1 - 0.95) / 2)\n",
    "P"
   ]
  },
  {
   "cell_type": "code",
   "execution_count": 27,
   "id": "30080c3b-671a-4f52-b958-e6aaad4b486a",
   "metadata": {
    "execution": {
     "iopub.execute_input": "2023-06-23T14:23:05.506936Z",
     "iopub.status.busy": "2023-06-23T14:23:05.506936Z",
     "iopub.status.idle": "2023-06-23T14:23:05.520151Z",
     "shell.execute_reply": "2023-06-23T14:23:05.520151Z",
     "shell.execute_reply.started": "2023-06-23T14:23:05.506936Z"
    }
   },
   "outputs": [
    {
     "data": {
      "text/plain": [
       "1.9602012636213575"
      ]
     },
     "execution_count": 27,
     "metadata": {},
     "output_type": "execute_result"
    }
   ],
   "source": [
    "t_multiplier = t.ppf(P, df = sample.size - 1)\n",
    "t_multiplier"
   ]
  },
  {
   "cell_type": "code",
   "execution_count": 28,
   "id": "2fa0f1ca-6343-43bf-a51a-c924fecd4263",
   "metadata": {
    "execution": {
     "iopub.execute_input": "2023-06-23T14:24:25.250388Z",
     "iopub.status.busy": "2023-06-23T14:24:25.250388Z",
     "iopub.status.idle": "2023-06-23T14:24:25.264923Z",
     "shell.execute_reply": "2023-06-23T14:24:25.264398Z",
     "shell.execute_reply.started": "2023-06-23T14:24:25.250388Z"
    }
   },
   "outputs": [
    {
     "data": {
      "text/plain": [
       "0.06685538940637097"
      ]
     },
     "execution_count": 28,
     "metadata": {},
     "output_type": "execute_result"
    }
   ],
   "source": [
    "# For means standard error = sample standard deviation / square root of sample size\n",
    "\n",
    "stderr = sample.std() / np.sqrt(sample.size)\n",
    "stderr"
   ]
  },
  {
   "cell_type": "code",
   "execution_count": 29,
   "id": "887a5e8d-088d-48af-8334-42f44a8bb96a",
   "metadata": {
    "execution": {
     "iopub.execute_input": "2023-06-23T14:24:55.682347Z",
     "iopub.status.busy": "2023-06-23T14:24:55.682347Z",
     "iopub.status.idle": "2023-06-23T14:24:55.702866Z",
     "shell.execute_reply": "2023-06-23T14:24:55.701769Z",
     "shell.execute_reply.started": "2023-06-23T14:24:55.682347Z"
    }
   },
   "outputs": [
    {
     "data": {
      "text/plain": [
       "0.13105001879426628"
      ]
     },
     "execution_count": 29,
     "metadata": {},
     "output_type": "execute_result"
    }
   ],
   "source": [
    "margin_of_err = t_multiplier * stderr\n",
    "margin_of_err"
   ]
  },
  {
   "cell_type": "code",
   "execution_count": 31,
   "id": "d4df9413-1df8-45c5-ad63-2c8236582fdd",
   "metadata": {
    "execution": {
     "iopub.execute_input": "2023-06-23T14:25:57.926775Z",
     "iopub.status.busy": "2023-06-23T14:25:57.926775Z",
     "iopub.status.idle": "2023-06-23T14:25:57.944885Z",
     "shell.execute_reply": "2023-06-23T14:25:57.943860Z",
     "shell.execute_reply.started": "2023-06-23T14:25:57.926775Z"
    }
   },
   "outputs": [
    {
     "data": {
      "text/plain": [
       "(60.75308498120574, 61.01518501879428)"
      ]
     },
     "execution_count": 31,
     "metadata": {},
     "output_type": "execute_result"
    }
   ],
   "source": [
    "# And here's the 95% confidence interval, for population mean.\n",
    "\n",
    "best_estimate - margin_of_err, best_estimate + margin_of_err"
   ]
  },
  {
   "cell_type": "code",
   "execution_count": null,
   "id": "25743683-8d62-46ac-be3f-76eecd51887a",
   "metadata": {},
   "outputs": [],
   "source": []
  },
  {
   "cell_type": "markdown",
   "id": "6fcb3fbe-bb50-41ca-a5eb-dde0941aebaf",
   "metadata": {},
   "source": [
    "## ___Estimating a Confidence Interval for Population Mean, Considering The Dataset as a Sample.___\n",
    "----------------------"
   ]
  },
  {
   "cell_type": "code",
   "execution_count": 6,
   "id": "09bad2e7-61a5-49ab-a44d-c4d493deb558",
   "metadata": {
    "execution": {
     "iopub.execute_input": "2023-06-24T00:28:22.538620Z",
     "iopub.status.busy": "2023-06-24T00:28:22.538620Z",
     "iopub.status.idle": "2023-06-24T00:28:22.549546Z",
     "shell.execute_reply": "2023-06-24T00:28:22.549546Z",
     "shell.execute_reply.started": "2023-06-24T00:28:22.538620Z"
    }
   },
   "outputs": [
    {
     "data": {
      "text/plain": [
       "999999"
      ]
     },
     "execution_count": 6,
     "metadata": {},
     "output_type": "execute_result"
    }
   ],
   "source": [
    "# That's our sample size, we do not know the population size.\n",
    "\n",
    "metro.Oil_temperature.size"
   ]
  },
  {
   "cell_type": "code",
   "execution_count": 7,
   "id": "79a5e85b-096d-4a3f-bdd3-adf6fdba11eb",
   "metadata": {
    "execution": {
     "iopub.execute_input": "2023-06-24T00:28:53.748604Z",
     "iopub.status.busy": "2023-06-24T00:28:53.748604Z",
     "iopub.status.idle": "2023-06-24T00:28:53.799203Z",
     "shell.execute_reply": "2023-06-24T00:28:53.799203Z",
     "shell.execute_reply.started": "2023-06-24T00:28:53.748604Z"
    }
   },
   "outputs": [
    {
     "data": {
      "text/plain": [
       "60.91453961453962"
      ]
     },
     "execution_count": 7,
     "metadata": {},
     "output_type": "execute_result"
    }
   ],
   "source": [
    "# Our best estimate for population mean will be our sample mean.\n",
    "\n",
    "best_est = metro.Oil_temperature.mean()\n",
    "best_est"
   ]
  },
  {
   "cell_type": "code",
   "execution_count": 8,
   "id": "83bcef50-a4c6-498a-8803-b80fb299e0ac",
   "metadata": {
    "execution": {
     "iopub.execute_input": "2023-06-24T00:33:31.256800Z",
     "iopub.status.busy": "2023-06-24T00:33:31.256800Z",
     "iopub.status.idle": "2023-06-24T00:33:31.277251Z",
     "shell.execute_reply": "2023-06-24T00:33:31.276239Z",
     "shell.execute_reply.started": "2023-06-24T00:33:31.256800Z"
    }
   },
   "outputs": [
    {
     "data": {
      "text/plain": [
       "0.95"
      ]
     },
     "execution_count": 8,
     "metadata": {},
     "output_type": "execute_result"
    }
   ],
   "source": [
    "# To construct a 90% confidence interval, we need the margin of error.\n",
    "# Since the parameter of interest here is mean, we'd refer t distribution for our multiplier.\n",
    "# because our sample is fairly large with 999,999 elements.\n",
    "\n",
    "# Since we have a large sample, we can assume that CLT applies to our sample parameters.\n",
    "# To compute the quantile that covers 90% of the density of the t distribution (assumed normal),\n",
    "# P = 1 - ((1 - alpha) / 2)\n",
    "\n",
    "P = 1 - ((1 - 0.90) / 2)\n",
    "P"
   ]
  },
  {
   "cell_type": "code",
   "execution_count": 9,
   "id": "3611f59a-1bac-4199-9a49-3812bce518fe",
   "metadata": {
    "execution": {
     "iopub.execute_input": "2023-06-24T00:34:13.024975Z",
     "iopub.status.busy": "2023-06-24T00:34:13.024975Z",
     "iopub.status.idle": "2023-06-24T00:34:13.083815Z",
     "shell.execute_reply": "2023-06-24T00:34:13.083815Z",
     "shell.execute_reply.started": "2023-06-24T00:34:13.024975Z"
    }
   },
   "outputs": [
    {
     "data": {
      "text/plain": [
       "1.6448551507250875"
      ]
     },
     "execution_count": 9,
     "metadata": {},
     "output_type": "execute_result"
    }
   ],
   "source": [
    "# t multiplier,\n",
    "\n",
    "t_star = t.ppf(P, df = metro.Oil_temperature.size - 1)\n",
    "t_star"
   ]
  },
  {
   "cell_type": "code",
   "execution_count": 10,
   "id": "961e4c19-907b-4b58-85cb-43b80a67f147",
   "metadata": {
    "execution": {
     "iopub.execute_input": "2023-06-24T00:35:15.064114Z",
     "iopub.status.busy": "2023-06-24T00:35:15.064114Z",
     "iopub.status.idle": "2023-06-24T00:35:15.091248Z",
     "shell.execute_reply": "2023-06-24T00:35:15.091248Z",
     "shell.execute_reply.started": "2023-06-24T00:35:15.064114Z"
    }
   },
   "outputs": [
    {
     "data": {
      "text/plain": [
       "0.006738252131068929"
      ]
     },
     "execution_count": 10,
     "metadata": {},
     "output_type": "execute_result"
    }
   ],
   "source": [
    "# Standard error = sample standard deviation / square root of sample size\n",
    "\n",
    "stderr = metro.Oil_temperature.std() / np.sqrt(metro.Oil_temperature.size)\n",
    "stderr"
   ]
  },
  {
   "cell_type": "code",
   "execution_count": 11,
   "id": "ff022419-61cb-4b4d-b60b-ca25e64fb3cb",
   "metadata": {
    "execution": {
     "iopub.execute_input": "2023-06-24T00:35:39.907032Z",
     "iopub.status.busy": "2023-06-24T00:35:39.907032Z",
     "iopub.status.idle": "2023-06-24T00:35:39.922270Z",
     "shell.execute_reply": "2023-06-24T00:35:39.921660Z",
     "shell.execute_reply.started": "2023-06-24T00:35:39.907032Z"
    }
   },
   "outputs": [
    {
     "data": {
      "text/plain": [
       "0.011083448724673026"
      ]
     },
     "execution_count": 11,
     "metadata": {},
     "output_type": "execute_result"
    }
   ],
   "source": [
    "# Margin of error\n",
    "\n",
    "moerror = t_star * stderr\n",
    "moerror"
   ]
  },
  {
   "cell_type": "code",
   "execution_count": 12,
   "id": "b74a689b-4468-4012-a643-77bca12fdfd1",
   "metadata": {
    "execution": {
     "iopub.execute_input": "2023-06-24T00:36:04.421280Z",
     "iopub.status.busy": "2023-06-24T00:36:04.421280Z",
     "iopub.status.idle": "2023-06-24T00:36:04.435045Z",
     "shell.execute_reply": "2023-06-24T00:36:04.435045Z",
     "shell.execute_reply.started": "2023-06-24T00:36:04.421280Z"
    }
   },
   "outputs": [
    {
     "data": {
      "text/plain": [
       "(60.903456165814944, 60.9256230632643)"
      ]
     },
     "execution_count": 12,
     "metadata": {},
     "output_type": "execute_result"
    }
   ],
   "source": [
    "# 90% confidence interval\n",
    "\n",
    "best_est - moerror, best_est + moerror"
   ]
  },
  {
   "cell_type": "code",
   "execution_count": null,
   "id": "008ce0c1-cba7-4409-afca-b8c70263e18b",
   "metadata": {},
   "outputs": [],
   "source": []
  },
  {
   "cell_type": "markdown",
   "id": "3c4e99f6-ec38-4d99-8b32-67e489d771ef",
   "metadata": {},
   "source": [
    "## ___A Case Study Using NHANES.___\n",
    "-----------------"
   ]
  },
  {
   "cell_type": "code",
   "execution_count": 14,
   "id": "20e85dd7-93fc-4bd3-951c-051fbd49e130",
   "metadata": {
    "execution": {
     "iopub.execute_input": "2023-06-24T00:39:33.478277Z",
     "iopub.status.busy": "2023-06-24T00:39:33.478277Z",
     "iopub.status.idle": "2023-06-24T00:39:33.549660Z",
     "shell.execute_reply": "2023-06-24T00:39:33.549660Z",
     "shell.execute_reply.started": "2023-06-24T00:39:33.478277Z"
    }
   },
   "outputs": [],
   "source": [
    "nhanes = pd.read_csv(\"./../data/nhanes_2015_2016.csv\", usecols = [\"SMQ020\", \"BMXBMI\", \"RIAGENDR\"])"
   ]
  },
  {
   "cell_type": "code",
   "execution_count": 15,
   "id": "012464fc-851a-4fde-a6db-f7a9edd9eb19",
   "metadata": {
    "execution": {
     "iopub.execute_input": "2023-06-24T00:39:34.152565Z",
     "iopub.status.busy": "2023-06-24T00:39:34.152565Z",
     "iopub.status.idle": "2023-06-24T00:39:34.204723Z",
     "shell.execute_reply": "2023-06-24T00:39:34.204723Z",
     "shell.execute_reply.started": "2023-06-24T00:39:34.152565Z"
    }
   },
   "outputs": [
    {
     "data": {
      "text/html": [
       "<div>\n",
       "<style scoped>\n",
       "    .dataframe tbody tr th:only-of-type {\n",
       "        vertical-align: middle;\n",
       "    }\n",
       "\n",
       "    .dataframe tbody tr th {\n",
       "        vertical-align: top;\n",
       "    }\n",
       "\n",
       "    .dataframe thead th {\n",
       "        text-align: right;\n",
       "    }\n",
       "</style>\n",
       "<table border=\"1\" class=\"dataframe\">\n",
       "  <thead>\n",
       "    <tr style=\"text-align: right;\">\n",
       "      <th></th>\n",
       "      <th>smoker</th>\n",
       "      <th>gender</th>\n",
       "      <th>bmi</th>\n",
       "    </tr>\n",
       "  </thead>\n",
       "  <tbody>\n",
       "    <tr>\n",
       "      <th>0</th>\n",
       "      <td>1</td>\n",
       "      <td>1</td>\n",
       "      <td>27.8</td>\n",
       "    </tr>\n",
       "    <tr>\n",
       "      <th>1</th>\n",
       "      <td>1</td>\n",
       "      <td>1</td>\n",
       "      <td>30.8</td>\n",
       "    </tr>\n",
       "    <tr>\n",
       "      <th>2</th>\n",
       "      <td>1</td>\n",
       "      <td>1</td>\n",
       "      <td>28.8</td>\n",
       "    </tr>\n",
       "    <tr>\n",
       "      <th>3</th>\n",
       "      <td>2</td>\n",
       "      <td>2</td>\n",
       "      <td>42.4</td>\n",
       "    </tr>\n",
       "    <tr>\n",
       "      <th>4</th>\n",
       "      <td>2</td>\n",
       "      <td>2</td>\n",
       "      <td>20.3</td>\n",
       "    </tr>\n",
       "    <tr>\n",
       "      <th>...</th>\n",
       "      <td>...</td>\n",
       "      <td>...</td>\n",
       "      <td>...</td>\n",
       "    </tr>\n",
       "    <tr>\n",
       "      <th>5730</th>\n",
       "      <td>1</td>\n",
       "      <td>2</td>\n",
       "      <td>21.5</td>\n",
       "    </tr>\n",
       "    <tr>\n",
       "      <th>5731</th>\n",
       "      <td>2</td>\n",
       "      <td>1</td>\n",
       "      <td>33.8</td>\n",
       "    </tr>\n",
       "    <tr>\n",
       "      <th>5732</th>\n",
       "      <td>1</td>\n",
       "      <td>2</td>\n",
       "      <td>31.0</td>\n",
       "    </tr>\n",
       "    <tr>\n",
       "      <th>5733</th>\n",
       "      <td>1</td>\n",
       "      <td>1</td>\n",
       "      <td>26.0</td>\n",
       "    </tr>\n",
       "    <tr>\n",
       "      <th>5734</th>\n",
       "      <td>2</td>\n",
       "      <td>2</td>\n",
       "      <td>21.4</td>\n",
       "    </tr>\n",
       "  </tbody>\n",
       "</table>\n",
       "<p>5735 rows × 3 columns</p>\n",
       "</div>"
      ],
      "text/plain": [
       "      smoker  gender   bmi\n",
       "0          1       1  27.8\n",
       "1          1       1  30.8\n",
       "2          1       1  28.8\n",
       "3          2       2  42.4\n",
       "4          2       2  20.3\n",
       "...      ...     ...   ...\n",
       "5730       1       2  21.5\n",
       "5731       2       1  33.8\n",
       "5732       1       2  31.0\n",
       "5733       1       1  26.0\n",
       "5734       2       2  21.4\n",
       "\n",
       "[5735 rows x 3 columns]"
      ]
     },
     "execution_count": 15,
     "metadata": {},
     "output_type": "execute_result"
    }
   ],
   "source": [
    "nhanes = nhanes.rename({\"SMQ020\": \"smoker\", \"BMXBMI\": \"bmi\", \"RIAGENDR\": \"gender\"}, axis = 1)\n",
    "nhanes"
   ]
  },
  {
   "cell_type": "code",
   "execution_count": 16,
   "id": "f4a1cf8f-bf40-4c7d-b954-064a9efdc273",
   "metadata": {
    "execution": {
     "iopub.execute_input": "2023-06-24T00:39:34.703001Z",
     "iopub.status.busy": "2023-06-24T00:39:34.703001Z",
     "iopub.status.idle": "2023-06-24T00:39:34.753005Z",
     "shell.execute_reply": "2023-06-24T00:39:34.753005Z",
     "shell.execute_reply.started": "2023-06-24T00:39:34.703001Z"
    }
   },
   "outputs": [
    {
     "data": {
      "text/plain": [
       "array([1, 2], dtype=int64)"
      ]
     },
     "execution_count": 16,
     "metadata": {},
     "output_type": "execute_result"
    }
   ],
   "source": [
    "nhanes.gender.unique()"
   ]
  },
  {
   "cell_type": "code",
   "execution_count": 17,
   "id": "8d69916c-a62e-475a-a624-2b569c758150",
   "metadata": {
    "execution": {
     "iopub.execute_input": "2023-06-24T00:39:35.067407Z",
     "iopub.status.busy": "2023-06-24T00:39:35.067407Z",
     "iopub.status.idle": "2023-06-24T00:39:35.086278Z",
     "shell.execute_reply": "2023-06-24T00:39:35.085272Z",
     "shell.execute_reply.started": "2023-06-24T00:39:35.067407Z"
    }
   },
   "outputs": [
    {
     "data": {
      "text/plain": [
       "array([1, 2, 7, 9], dtype=int64)"
      ]
     },
     "execution_count": 17,
     "metadata": {},
     "output_type": "execute_result"
    }
   ],
   "source": [
    "nhanes.smoker.unique()"
   ]
  },
  {
   "cell_type": "code",
   "execution_count": 18,
   "id": "755798f3-c116-4d97-b5bd-5b78c5bc7f3a",
   "metadata": {
    "execution": {
     "iopub.execute_input": "2023-06-24T00:39:35.424798Z",
     "iopub.status.busy": "2023-06-24T00:39:35.424798Z",
     "iopub.status.idle": "2023-06-24T00:39:35.441802Z",
     "shell.execute_reply": "2023-06-24T00:39:35.440485Z",
     "shell.execute_reply.started": "2023-06-24T00:39:35.424798Z"
    }
   },
   "outputs": [],
   "source": [
    "nhanes.gender = nhanes.gender.apply(lambda g: 'M' if g == 1 else 'F')\n",
    "nhanes.smoker = nhanes.smoker.apply(lambda s: False if s == 2 else True if s == 1 else np.nan)"
   ]
  },
  {
   "cell_type": "code",
   "execution_count": 19,
   "id": "657f8a90-8a50-45d3-a2e0-0f8aa3d0c309",
   "metadata": {
    "execution": {
     "iopub.execute_input": "2023-06-24T00:39:35.785309Z",
     "iopub.status.busy": "2023-06-24T00:39:35.785309Z",
     "iopub.status.idle": "2023-06-24T00:39:35.807890Z",
     "shell.execute_reply": "2023-06-24T00:39:35.807277Z",
     "shell.execute_reply.started": "2023-06-24T00:39:35.785309Z"
    }
   },
   "outputs": [
    {
     "data": {
      "text/plain": [
       "smoker    10\n",
       "gender     0\n",
       "bmi       73\n",
       "dtype: int64"
      ]
     },
     "execution_count": 19,
     "metadata": {},
     "output_type": "execute_result"
    }
   ],
   "source": [
    "nhanes.isna().sum(axis = 0)"
   ]
  },
  {
   "cell_type": "code",
   "execution_count": 20,
   "id": "7ea7db8a-0f33-4d2b-a2a7-4c07a76ecc5c",
   "metadata": {
    "execution": {
     "iopub.execute_input": "2023-06-24T00:39:36.145826Z",
     "iopub.status.busy": "2023-06-24T00:39:36.145826Z",
     "iopub.status.idle": "2023-06-24T00:39:36.197066Z",
     "shell.execute_reply": "2023-06-24T00:39:36.197066Z",
     "shell.execute_reply.started": "2023-06-24T00:39:36.145826Z"
    }
   },
   "outputs": [],
   "source": [
    "nhanes.dropna(axis = 0, inplace = True)"
   ]
  },
  {
   "cell_type": "code",
   "execution_count": 21,
   "id": "594617aa-22da-469a-976e-2218d883a0dd",
   "metadata": {
    "execution": {
     "iopub.execute_input": "2023-06-24T00:39:36.506378Z",
     "iopub.status.busy": "2023-06-24T00:39:36.506378Z",
     "iopub.status.idle": "2023-06-24T00:39:36.520162Z",
     "shell.execute_reply": "2023-06-24T00:39:36.519484Z",
     "shell.execute_reply.started": "2023-06-24T00:39:36.506378Z"
    }
   },
   "outputs": [
    {
     "data": {
      "text/html": [
       "<div>\n",
       "<style scoped>\n",
       "    .dataframe tbody tr th:only-of-type {\n",
       "        vertical-align: middle;\n",
       "    }\n",
       "\n",
       "    .dataframe tbody tr th {\n",
       "        vertical-align: top;\n",
       "    }\n",
       "\n",
       "    .dataframe thead th {\n",
       "        text-align: right;\n",
       "    }\n",
       "</style>\n",
       "<table border=\"1\" class=\"dataframe\">\n",
       "  <thead>\n",
       "    <tr style=\"text-align: right;\">\n",
       "      <th></th>\n",
       "      <th>smoker</th>\n",
       "      <th>gender</th>\n",
       "      <th>bmi</th>\n",
       "    </tr>\n",
       "  </thead>\n",
       "  <tbody>\n",
       "    <tr>\n",
       "      <th>0</th>\n",
       "      <td>True</td>\n",
       "      <td>M</td>\n",
       "      <td>27.8</td>\n",
       "    </tr>\n",
       "    <tr>\n",
       "      <th>1</th>\n",
       "      <td>True</td>\n",
       "      <td>M</td>\n",
       "      <td>30.8</td>\n",
       "    </tr>\n",
       "    <tr>\n",
       "      <th>2</th>\n",
       "      <td>True</td>\n",
       "      <td>M</td>\n",
       "      <td>28.8</td>\n",
       "    </tr>\n",
       "    <tr>\n",
       "      <th>3</th>\n",
       "      <td>False</td>\n",
       "      <td>F</td>\n",
       "      <td>42.4</td>\n",
       "    </tr>\n",
       "    <tr>\n",
       "      <th>4</th>\n",
       "      <td>False</td>\n",
       "      <td>F</td>\n",
       "      <td>20.3</td>\n",
       "    </tr>\n",
       "    <tr>\n",
       "      <th>...</th>\n",
       "      <td>...</td>\n",
       "      <td>...</td>\n",
       "      <td>...</td>\n",
       "    </tr>\n",
       "    <tr>\n",
       "      <th>5730</th>\n",
       "      <td>True</td>\n",
       "      <td>F</td>\n",
       "      <td>21.5</td>\n",
       "    </tr>\n",
       "    <tr>\n",
       "      <th>5731</th>\n",
       "      <td>False</td>\n",
       "      <td>M</td>\n",
       "      <td>33.8</td>\n",
       "    </tr>\n",
       "    <tr>\n",
       "      <th>5732</th>\n",
       "      <td>True</td>\n",
       "      <td>F</td>\n",
       "      <td>31.0</td>\n",
       "    </tr>\n",
       "    <tr>\n",
       "      <th>5733</th>\n",
       "      <td>True</td>\n",
       "      <td>M</td>\n",
       "      <td>26.0</td>\n",
       "    </tr>\n",
       "    <tr>\n",
       "      <th>5734</th>\n",
       "      <td>False</td>\n",
       "      <td>F</td>\n",
       "      <td>21.4</td>\n",
       "    </tr>\n",
       "  </tbody>\n",
       "</table>\n",
       "<p>5652 rows × 3 columns</p>\n",
       "</div>"
      ],
      "text/plain": [
       "     smoker gender   bmi\n",
       "0      True      M  27.8\n",
       "1      True      M  30.8\n",
       "2      True      M  28.8\n",
       "3     False      F  42.4\n",
       "4     False      F  20.3\n",
       "...     ...    ...   ...\n",
       "5730   True      F  21.5\n",
       "5731  False      M  33.8\n",
       "5732   True      F  31.0\n",
       "5733   True      M  26.0\n",
       "5734  False      F  21.4\n",
       "\n",
       "[5652 rows x 3 columns]"
      ]
     },
     "execution_count": 21,
     "metadata": {},
     "output_type": "execute_result"
    }
   ],
   "source": [
    "nhanes"
   ]
  },
  {
   "cell_type": "code",
   "execution_count": 22,
   "id": "f5b674ea-d8de-44e3-b91e-71ece1a9a270",
   "metadata": {
    "execution": {
     "iopub.execute_input": "2023-06-24T00:39:37.009443Z",
     "iopub.status.busy": "2023-06-24T00:39:37.009443Z",
     "iopub.status.idle": "2023-06-24T00:39:37.087655Z",
     "shell.execute_reply": "2023-06-24T00:39:37.087655Z",
     "shell.execute_reply.started": "2023-06-24T00:39:37.009443Z"
    }
   },
   "outputs": [
    {
     "data": {
      "text/html": [
       "<div>\n",
       "<style scoped>\n",
       "    .dataframe tbody tr th:only-of-type {\n",
       "        vertical-align: middle;\n",
       "    }\n",
       "\n",
       "    .dataframe tbody tr th {\n",
       "        vertical-align: top;\n",
       "    }\n",
       "\n",
       "    .dataframe thead th {\n",
       "        text-align: right;\n",
       "    }\n",
       "</style>\n",
       "<table border=\"1\" class=\"dataframe\">\n",
       "  <thead>\n",
       "    <tr style=\"text-align: right;\">\n",
       "      <th>smoker</th>\n",
       "      <th>False</th>\n",
       "      <th>True</th>\n",
       "    </tr>\n",
       "    <tr>\n",
       "      <th>gender</th>\n",
       "      <th></th>\n",
       "      <th></th>\n",
       "    </tr>\n",
       "  </thead>\n",
       "  <tbody>\n",
       "    <tr>\n",
       "      <th>F</th>\n",
       "      <td>2044</td>\n",
       "      <td>896</td>\n",
       "    </tr>\n",
       "    <tr>\n",
       "      <th>M</th>\n",
       "      <td>1322</td>\n",
       "      <td>1390</td>\n",
       "    </tr>\n",
       "  </tbody>\n",
       "</table>\n",
       "</div>"
      ],
      "text/plain": [
       "smoker  False  True \n",
       "gender              \n",
       "F        2044    896\n",
       "M        1322   1390"
      ]
     },
     "execution_count": 22,
     "metadata": {},
     "output_type": "execute_result"
    }
   ],
   "source": [
    "pd.crosstab(nhanes.gender, nhanes.smoker)"
   ]
  },
  {
   "cell_type": "code",
   "execution_count": 23,
   "id": "2abad345-f4e4-4968-b290-0daca87d4ce1",
   "metadata": {
    "execution": {
     "iopub.execute_input": "2023-06-24T00:39:37.966081Z",
     "iopub.status.busy": "2023-06-24T00:39:37.966081Z",
     "iopub.status.idle": "2023-06-24T00:39:37.978044Z",
     "shell.execute_reply": "2023-06-24T00:39:37.978044Z",
     "shell.execute_reply.started": "2023-06-24T00:39:37.966081Z"
    }
   },
   "outputs": [
    {
     "data": {
      "text/html": [
       "<div>\n",
       "<style scoped>\n",
       "    .dataframe tbody tr th:only-of-type {\n",
       "        vertical-align: middle;\n",
       "    }\n",
       "\n",
       "    .dataframe tbody tr th {\n",
       "        vertical-align: top;\n",
       "    }\n",
       "\n",
       "    .dataframe thead th {\n",
       "        text-align: right;\n",
       "    }\n",
       "</style>\n",
       "<table border=\"1\" class=\"dataframe\">\n",
       "  <thead>\n",
       "    <tr style=\"text-align: right;\">\n",
       "      <th></th>\n",
       "      <th>smoker</th>\n",
       "      <th>bmi</th>\n",
       "    </tr>\n",
       "    <tr>\n",
       "      <th>gender</th>\n",
       "      <th></th>\n",
       "      <th></th>\n",
       "    </tr>\n",
       "  </thead>\n",
       "  <tbody>\n",
       "    <tr>\n",
       "      <th>F</th>\n",
       "      <td>0.304762</td>\n",
       "      <td>29.943571</td>\n",
       "    </tr>\n",
       "    <tr>\n",
       "      <th>M</th>\n",
       "      <td>0.512537</td>\n",
       "      <td>28.774668</td>\n",
       "    </tr>\n",
       "  </tbody>\n",
       "</table>\n",
       "</div>"
      ],
      "text/plain": [
       "          smoker        bmi\n",
       "gender                     \n",
       "F       0.304762  29.943571\n",
       "M       0.512537  28.774668"
      ]
     },
     "execution_count": 23,
     "metadata": {},
     "output_type": "execute_result"
    }
   ],
   "source": [
    "# It looks like a larger proportion of men are smokers compared to women.\n",
    "# And women generally have a higher BMI compared to men.\n",
    "\n",
    "nhanes.groupby(\"gender\").mean()"
   ]
  },
  {
   "cell_type": "code",
   "execution_count": 24,
   "id": "82b9cf4b-1479-4c84-9ce5-069f29b4a89f",
   "metadata": {
    "execution": {
     "iopub.execute_input": "2023-06-24T00:40:59.629628Z",
     "iopub.status.busy": "2023-06-24T00:40:59.629628Z",
     "iopub.status.idle": "2023-06-24T00:40:59.651477Z",
     "shell.execute_reply": "2023-06-24T00:40:59.650386Z",
     "shell.execute_reply.started": "2023-06-24T00:40:59.629628Z"
    }
   },
   "outputs": [
    {
     "data": {
      "text/html": [
       "<div>\n",
       "<style scoped>\n",
       "    .dataframe tbody tr th:only-of-type {\n",
       "        vertical-align: middle;\n",
       "    }\n",
       "\n",
       "    .dataframe tbody tr th {\n",
       "        vertical-align: top;\n",
       "    }\n",
       "\n",
       "    .dataframe thead th {\n",
       "        text-align: right;\n",
       "    }\n",
       "</style>\n",
       "<table border=\"1\" class=\"dataframe\">\n",
       "  <thead>\n",
       "    <tr style=\"text-align: right;\">\n",
       "      <th></th>\n",
       "      <th></th>\n",
       "      <th>bmi</th>\n",
       "    </tr>\n",
       "    <tr>\n",
       "      <th>gender</th>\n",
       "      <th>smoker</th>\n",
       "      <th></th>\n",
       "    </tr>\n",
       "  </thead>\n",
       "  <tbody>\n",
       "    <tr>\n",
       "      <th rowspan=\"2\" valign=\"top\">F</th>\n",
       "      <th>False</th>\n",
       "      <td>29.661057</td>\n",
       "    </tr>\n",
       "    <tr>\n",
       "      <th>True</th>\n",
       "      <td>30.588058</td>\n",
       "    </tr>\n",
       "    <tr>\n",
       "      <th rowspan=\"2\" valign=\"top\">M</th>\n",
       "      <th>False</th>\n",
       "      <td>28.592511</td>\n",
       "    </tr>\n",
       "    <tr>\n",
       "      <th>True</th>\n",
       "      <td>28.947914</td>\n",
       "    </tr>\n",
       "  </tbody>\n",
       "</table>\n",
       "</div>"
      ],
      "text/plain": [
       "                     bmi\n",
       "gender smoker           \n",
       "F      False   29.661057\n",
       "       True    30.588058\n",
       "M      False   28.592511\n",
       "       True    28.947914"
      ]
     },
     "execution_count": 24,
     "metadata": {},
     "output_type": "execute_result"
    }
   ],
   "source": [
    "# Additionally, smokers in bothe genders tend to have a higher BMI compared to their non-smoking counterparts.\n",
    "\n",
    "nhanes.groupby([\"gender\", \"smoker\"]).mean()"
   ]
  },
  {
   "cell_type": "code",
   "execution_count": null,
   "id": "c9b9e613-a480-4ad4-86d7-7cc1f304a87e",
   "metadata": {},
   "outputs": [],
   "source": []
  },
  {
   "cell_type": "markdown",
   "id": "aec65f00-cd12-4939-9a51-694dfa1dd284",
   "metadata": {},
   "source": [
    "## ___Confidence Intervals: The Difference Between Population Proportions.___\n",
    "---------------------------"
   ]
  },
  {
   "cell_type": "code",
   "execution_count": 27,
   "id": "1677df20-1dc6-4e16-879a-21758b5026b1",
   "metadata": {
    "execution": {
     "iopub.execute_input": "2023-06-24T00:44:43.354906Z",
     "iopub.status.busy": "2023-06-24T00:44:43.354906Z",
     "iopub.status.idle": "2023-06-24T00:44:43.382545Z",
     "shell.execute_reply": "2023-06-24T00:44:43.381538Z",
     "shell.execute_reply.started": "2023-06-24T00:44:43.354906Z"
    }
   },
   "outputs": [
    {
     "data": {
      "text/html": [
       "<div>\n",
       "<style scoped>\n",
       "    .dataframe tbody tr th:only-of-type {\n",
       "        vertical-align: middle;\n",
       "    }\n",
       "\n",
       "    .dataframe tbody tr th {\n",
       "        vertical-align: top;\n",
       "    }\n",
       "\n",
       "    .dataframe thead th {\n",
       "        text-align: right;\n",
       "    }\n",
       "</style>\n",
       "<table border=\"1\" class=\"dataframe\">\n",
       "  <thead>\n",
       "    <tr style=\"text-align: right;\">\n",
       "      <th></th>\n",
       "      <th>SMQ020</th>\n",
       "      <th>RIAGENDR</th>\n",
       "      <th>BMXBMI</th>\n",
       "    </tr>\n",
       "  </thead>\n",
       "  <tbody>\n",
       "    <tr>\n",
       "      <th>0</th>\n",
       "      <td>1</td>\n",
       "      <td>1</td>\n",
       "      <td>27.8</td>\n",
       "    </tr>\n",
       "    <tr>\n",
       "      <th>1</th>\n",
       "      <td>1</td>\n",
       "      <td>1</td>\n",
       "      <td>30.8</td>\n",
       "    </tr>\n",
       "    <tr>\n",
       "      <th>2</th>\n",
       "      <td>1</td>\n",
       "      <td>1</td>\n",
       "      <td>28.8</td>\n",
       "    </tr>\n",
       "    <tr>\n",
       "      <th>3</th>\n",
       "      <td>2</td>\n",
       "      <td>2</td>\n",
       "      <td>42.4</td>\n",
       "    </tr>\n",
       "    <tr>\n",
       "      <th>4</th>\n",
       "      <td>2</td>\n",
       "      <td>2</td>\n",
       "      <td>20.3</td>\n",
       "    </tr>\n",
       "    <tr>\n",
       "      <th>...</th>\n",
       "      <td>...</td>\n",
       "      <td>...</td>\n",
       "      <td>...</td>\n",
       "    </tr>\n",
       "    <tr>\n",
       "      <th>5730</th>\n",
       "      <td>1</td>\n",
       "      <td>2</td>\n",
       "      <td>21.5</td>\n",
       "    </tr>\n",
       "    <tr>\n",
       "      <th>5731</th>\n",
       "      <td>2</td>\n",
       "      <td>1</td>\n",
       "      <td>33.8</td>\n",
       "    </tr>\n",
       "    <tr>\n",
       "      <th>5732</th>\n",
       "      <td>1</td>\n",
       "      <td>2</td>\n",
       "      <td>31.0</td>\n",
       "    </tr>\n",
       "    <tr>\n",
       "      <th>5733</th>\n",
       "      <td>1</td>\n",
       "      <td>1</td>\n",
       "      <td>26.0</td>\n",
       "    </tr>\n",
       "    <tr>\n",
       "      <th>5734</th>\n",
       "      <td>2</td>\n",
       "      <td>2</td>\n",
       "      <td>21.4</td>\n",
       "    </tr>\n",
       "  </tbody>\n",
       "</table>\n",
       "<p>5735 rows × 3 columns</p>\n",
       "</div>"
      ],
      "text/plain": [
       "      SMQ020  RIAGENDR  BMXBMI\n",
       "0          1         1    27.8\n",
       "1          1         1    30.8\n",
       "2          1         1    28.8\n",
       "3          2         2    42.4\n",
       "4          2         2    20.3\n",
       "...      ...       ...     ...\n",
       "5730       1         2    21.5\n",
       "5731       2         1    33.8\n",
       "5732       1         2    31.0\n",
       "5733       1         1    26.0\n",
       "5734       2         2    21.4\n",
       "\n",
       "[5735 rows x 3 columns]"
      ]
     },
     "execution_count": 27,
     "metadata": {},
     "output_type": "execute_result"
    }
   ],
   "source": [
    "# Consider our dataset to be a simple random sample\n",
    "\n",
    "nhanes = pd.read_csv(\"./../data/nhanes_2015_2016.csv\", usecols = [\"SMQ020\", \"BMXBMI\", \"RIAGENDR\"])\n",
    "nhanes"
   ]
  },
  {
   "cell_type": "code",
   "execution_count": 30,
   "id": "d0f78730-1982-401b-af29-f25cfca84185",
   "metadata": {
    "execution": {
     "iopub.execute_input": "2023-06-24T00:46:58.710594Z",
     "iopub.status.busy": "2023-06-24T00:46:58.710594Z",
     "iopub.status.idle": "2023-06-24T00:46:58.718432Z",
     "shell.execute_reply": "2023-06-24T00:46:58.717842Z",
     "shell.execute_reply.started": "2023-06-24T00:46:58.710594Z"
    }
   },
   "outputs": [
    {
     "data": {
      "text/plain": [
       "(0.4810810810810811, 0.518918918918919)"
      ]
     },
     "execution_count": 30,
     "metadata": {},
     "output_type": "execute_result"
    }
   ],
   "source": [
    "# Proportion of males and females in our sample are,\n",
    "# These are our best estimates for the population proportions.\n",
    "\n",
    "prop_m = (nhanes.RIAGENDR == 1).mean()\n",
    "prop_f = (nhanes.RIAGENDR == 2).mean()\n",
    "\n",
    "prop_m, prop_f"
   ]
  },
  {
   "cell_type": "code",
   "execution_count": 32,
   "id": "fefdf6fe-abed-4baa-a146-8db0f1f776b5",
   "metadata": {
    "execution": {
     "iopub.execute_input": "2023-06-24T00:48:15.966889Z",
     "iopub.status.busy": "2023-06-24T00:48:15.966889Z",
     "iopub.status.idle": "2023-06-24T00:48:15.982233Z",
     "shell.execute_reply": "2023-06-24T00:48:15.981153Z",
     "shell.execute_reply.started": "2023-06-24T00:48:15.966889Z"
    }
   },
   "outputs": [
    {
     "data": {
      "text/plain": [
       "0.03783783783783784"
      ]
     },
     "execution_count": 32,
     "metadata": {},
     "output_type": "execute_result"
    }
   ],
   "source": [
    "# The difference between the proportions,\n",
    "# That's our best estimate for the difference between the population proportions.\n",
    "\n",
    "best_est_prop_diff = prop_f - prop_m\n",
    "best_est_prop_diff"
   ]
  },
  {
   "cell_type": "code",
   "execution_count": 33,
   "id": "d9aeb26c-e349-4ccd-a647-4c476923125c",
   "metadata": {
    "execution": {
     "iopub.execute_input": "2023-06-24T00:51:38.432882Z",
     "iopub.status.busy": "2023-06-24T00:51:38.432882Z",
     "iopub.status.idle": "2023-06-24T00:51:38.444380Z",
     "shell.execute_reply": "2023-06-24T00:51:38.443853Z",
     "shell.execute_reply.started": "2023-06-24T00:51:38.432882Z"
    }
   },
   "outputs": [
    {
     "data": {
      "text/plain": [
       "(2759, 2976)"
      ]
     },
     "execution_count": 33,
     "metadata": {},
     "output_type": "execute_result"
    }
   ],
   "source": [
    "# now, we need a 95% confidence interval for the difference between population proportions of males and females.\n",
    "\n",
    "# confidence interval = best estimate +- margin of error\n",
    "# margin of error = multiplier x standard error\n",
    "\n",
    "# Since we are comparing two samples here, (the difference between the proportion of males andf females)\n",
    "# We'd use a Z score of 1.96 as the multiplier, for a 95% confidence interval.\n",
    "\n",
    "msize = (nhanes.RIAGENDR == 1).sum()\n",
    "fsize = (nhanes.RIAGENDR == 2).sum()\n",
    "\n",
    "msize, fsize"
   ]
  },
  {
   "cell_type": "code",
   "execution_count": 34,
   "id": "c1237c56-2097-4b17-b10d-2c22527a7c72",
   "metadata": {
    "execution": {
     "iopub.execute_input": "2023-06-24T00:52:48.883663Z",
     "iopub.status.busy": "2023-06-24T00:52:48.883663Z",
     "iopub.status.idle": "2023-06-24T00:52:48.891279Z",
     "shell.execute_reply": "2023-06-24T00:52:48.890037Z",
     "shell.execute_reply.started": "2023-06-24T00:52:48.883663Z"
    }
   },
   "outputs": [],
   "source": [
    "# Standard error for population proportion differences is given as"
   ]
  },
  {
   "cell_type": "markdown",
   "id": "0af4ba0b-ad56-44c9-8ec2-4f81cbed2a3b",
   "metadata": {},
   "source": [
    "# ___$SE_{prop} = \\sqrt{\\frac{prop (1 - prop)}{n}}$___\n",
    "# ___$SE_{diff} = SE_{pop_1} + SE_{pop_2}$___"
   ]
  },
  {
   "cell_type": "code",
   "execution_count": 37,
   "id": "fddf914d-8a85-4d2d-a1f5-20427513c30f",
   "metadata": {
    "execution": {
     "iopub.execute_input": "2023-06-24T01:02:52.668235Z",
     "iopub.status.busy": "2023-06-24T01:02:52.668235Z",
     "iopub.status.idle": "2023-06-24T01:02:52.677860Z",
     "shell.execute_reply": "2023-06-24T01:02:52.677253Z",
     "shell.execute_reply.started": "2023-06-24T01:02:52.668235Z"
    }
   },
   "outputs": [
    {
     "data": {
      "text/plain": [
       "(0.009512245298682376, 0.00915888124615093)"
      ]
     },
     "execution_count": 37,
     "metadata": {},
     "output_type": "execute_result"
    }
   ],
   "source": [
    "# Note: we are computing standard errors for population proportions.\n",
    "\n",
    "stderr_m = np.sqrt(prop_m * (1 - prop_m) / msize)\n",
    "stderr_f = np.sqrt(prop_f * (1 - prop_f) / fsize)\n",
    "\n",
    "stderr_m, stderr_f"
   ]
  },
  {
   "cell_type": "code",
   "execution_count": 42,
   "id": "9a33b317-4d1b-43b6-abc0-61b63b3b584e",
   "metadata": {
    "execution": {
     "iopub.execute_input": "2023-06-24T01:16:00.742032Z",
     "iopub.status.busy": "2023-06-24T01:16:00.726532Z",
     "iopub.status.idle": "2023-06-24T01:16:00.748079Z",
     "shell.execute_reply": "2023-06-24T01:16:00.747067Z",
     "shell.execute_reply.started": "2023-06-24T01:16:00.742032Z"
    }
   },
   "outputs": [
    {
     "data": {
      "text/plain": [
       "0.018671126544833307"
      ]
     },
     "execution_count": 42,
     "metadata": {},
     "output_type": "execute_result"
    }
   ],
   "source": [
    "stderr_diff = stderr_m + stderr_f\n",
    "stderr_diff"
   ]
  },
  {
   "cell_type": "code",
   "execution_count": 43,
   "id": "d303f915-a3d3-4ee4-a785-a6d2b18407fb",
   "metadata": {
    "execution": {
     "iopub.execute_input": "2023-06-24T01:16:01.213799Z",
     "iopub.status.busy": "2023-06-24T01:16:01.213799Z",
     "iopub.status.idle": "2023-06-24T01:16:01.231555Z",
     "shell.execute_reply": "2023-06-24T01:16:01.230952Z",
     "shell.execute_reply.started": "2023-06-24T01:16:01.213799Z"
    }
   },
   "outputs": [
    {
     "data": {
      "text/plain": [
       "0.03659540802787328"
      ]
     },
     "execution_count": 43,
     "metadata": {},
     "output_type": "execute_result"
    }
   ],
   "source": [
    "# Margin of erorr for the difference in population proportions,\n",
    "\n",
    "moerr_diff = 1.96 * stderr_diff\n",
    "moerr_diff"
   ]
  },
  {
   "cell_type": "code",
   "execution_count": 44,
   "id": "161a37ad-f8fc-4166-9677-d12745bac7e5",
   "metadata": {
    "execution": {
     "iopub.execute_input": "2023-06-24T01:16:02.137816Z",
     "iopub.status.busy": "2023-06-24T01:16:02.137816Z",
     "iopub.status.idle": "2023-06-24T01:16:02.150075Z",
     "shell.execute_reply": "2023-06-24T01:16:02.149552Z",
     "shell.execute_reply.started": "2023-06-24T01:16:02.137816Z"
    }
   },
   "outputs": [
    {
     "data": {
      "text/plain": [
       "(0.001242429809964557, 0.07443324586571112)"
      ]
     },
     "execution_count": 44,
     "metadata": {},
     "output_type": "execute_result"
    }
   ],
   "source": [
    "# Confidence interval,\n",
    "\n",
    "best_est_prop_diff - moerr_diff, best_est_prop_diff + moerr_diff"
   ]
  },
  {
   "cell_type": "code",
   "execution_count": null,
   "id": "730fdcb0-46cc-4d92-8044-18597f19331d",
   "metadata": {},
   "outputs": [],
   "source": []
  },
  {
   "cell_type": "markdown",
   "id": "c7a8861f-0ce2-4775-99fc-ef84788b57b8",
   "metadata": {},
   "source": [
    "## ___Confidence Intervals: The Difference Between Population Means.___\n",
    "---------------------------"
   ]
  },
  {
   "cell_type": "code",
   "execution_count": 46,
   "id": "9754b953-d9cd-4a01-b925-fd13fe9d5577",
   "metadata": {
    "execution": {
     "iopub.execute_input": "2023-06-24T01:28:07.406819Z",
     "iopub.status.busy": "2023-06-24T01:28:07.406819Z",
     "iopub.status.idle": "2023-06-24T01:28:07.429388Z",
     "shell.execute_reply": "2023-06-24T01:28:07.429388Z",
     "shell.execute_reply.started": "2023-06-24T01:28:07.406819Z"
    }
   },
   "outputs": [
    {
     "data": {
      "text/plain": [
       "(28.778072111846942, 29.93994565217392)"
      ]
     },
     "execution_count": 46,
     "metadata": {},
     "output_type": "execute_result"
    }
   ],
   "source": [
    "# Best estimate => difference between sample means\n",
    "\n",
    "mean_m = nhanes.loc[nhanes.RIAGENDR == 1, \"BMXBMI\"].mean()\n",
    "mean_f = nhanes.loc[nhanes.RIAGENDR == 2, \"BMXBMI\"].mean()\n",
    "\n",
    "mean_m, mean_f"
   ]
  },
  {
   "cell_type": "code",
   "execution_count": 50,
   "id": "2b5d068b-98f9-4fd4-ad82-d51a83784a3d",
   "metadata": {
    "execution": {
     "iopub.execute_input": "2023-06-24T01:36:11.570981Z",
     "iopub.status.busy": "2023-06-24T01:36:11.570981Z",
     "iopub.status.idle": "2023-06-24T01:36:11.579168Z",
     "shell.execute_reply": "2023-06-24T01:36:11.579168Z",
     "shell.execute_reply.started": "2023-06-24T01:36:11.570981Z"
    }
   },
   "outputs": [
    {
     "data": {
      "text/plain": [
       "1.161873540326976"
      ]
     },
     "execution_count": 50,
     "metadata": {},
     "output_type": "execute_result"
    }
   ],
   "source": [
    "best_est = mean_f - mean_m\n",
    "best_est"
   ]
  },
  {
   "cell_type": "code",
   "execution_count": 47,
   "id": "751b2035-163a-47bf-91f5-1aa6bab07573",
   "metadata": {
    "execution": {
     "iopub.execute_input": "2023-06-24T01:28:34.939635Z",
     "iopub.status.busy": "2023-06-24T01:28:34.939635Z",
     "iopub.status.idle": "2023-06-24T01:28:34.951269Z",
     "shell.execute_reply": "2023-06-24T01:28:34.950221Z",
     "shell.execute_reply.started": "2023-06-24T01:28:34.939635Z"
    }
   },
   "outputs": [
    {
     "data": {
      "text/plain": [
       "(2759, 2976)"
      ]
     },
     "execution_count": 47,
     "metadata": {},
     "output_type": "execute_result"
    }
   ],
   "source": [
    "# Sample sizes\n",
    "\n",
    "msize = (nhanes.RIAGENDR == 1).sum()\n",
    "fsize = (nhanes.RIAGENDR == 2).sum()\n",
    "\n",
    "msize, fsize"
   ]
  },
  {
   "cell_type": "code",
   "execution_count": 48,
   "id": "62911259-9e96-4a38-8daa-4a08d16cd275",
   "metadata": {
    "execution": {
     "iopub.execute_input": "2023-06-24T01:31:36.707804Z",
     "iopub.status.busy": "2023-06-24T01:31:36.707804Z",
     "iopub.status.idle": "2023-06-24T01:31:36.719316Z",
     "shell.execute_reply": "2023-06-24T01:31:36.719316Z",
     "shell.execute_reply.started": "2023-06-24T01:31:36.707804Z"
    }
   },
   "outputs": [
    {
     "data": {
      "text/plain": [
       "(0.11903715722332024, 0.14212522940758332)"
      ]
     },
     "execution_count": 48,
     "metadata": {},
     "output_type": "execute_result"
    }
   ],
   "source": [
    "# Standard error for difference in population means,\n",
    "\n",
    "stderr_m = nhanes.loc[nhanes.RIAGENDR == 1, \"BMXBMI\"].std() / np.sqrt(msize)\n",
    "stderr_f = nhanes.loc[nhanes.RIAGENDR == 2, \"BMXBMI\"].std() / np.sqrt(fsize)\n",
    "\n",
    "stderr_m, stderr_f"
   ]
  },
  {
   "cell_type": "code",
   "execution_count": 49,
   "id": "8706b6db-3964-4115-aef9-88d2ae4086b9",
   "metadata": {
    "execution": {
     "iopub.execute_input": "2023-06-24T01:34:20.927709Z",
     "iopub.status.busy": "2023-06-24T01:34:20.927709Z",
     "iopub.status.idle": "2023-06-24T01:34:20.939489Z",
     "shell.execute_reply": "2023-06-24T01:34:20.938478Z",
     "shell.execute_reply.started": "2023-06-24T01:34:20.927709Z"
    }
   },
   "outputs": [
    {
     "data": {
      "text/plain": [
       "0.2611623866309036"
      ]
     },
     "execution_count": 49,
     "metadata": {},
     "output_type": "execute_result"
    }
   ],
   "source": [
    "# Unpooled approach,\n",
    "\n",
    "stderr_diff = stderr_m + stderr_f\n",
    "stderr_diff"
   ]
  },
  {
   "cell_type": "code",
   "execution_count": 51,
   "id": "890f0723-8d62-4b5e-a4af-92b2de6600c1",
   "metadata": {
    "execution": {
     "iopub.execute_input": "2023-06-24T01:41:31.297269Z",
     "iopub.status.busy": "2023-06-24T01:41:31.297269Z",
     "iopub.status.idle": "2023-06-24T01:41:31.309987Z",
     "shell.execute_reply": "2023-06-24T01:41:31.308961Z",
     "shell.execute_reply.started": "2023-06-24T01:41:31.297269Z"
    }
   },
   "outputs": [
    {
     "data": {
      "text/plain": [
       "0.975"
      ]
     },
     "execution_count": 51,
     "metadata": {},
     "output_type": "execute_result"
    }
   ],
   "source": [
    "# Margin of error = t x standard error of difference\n",
    "\n",
    "# For a 95% confidence interval,\n",
    "# having a large sample, we'll reference CLT, assuming the t distribution of our sample means is normal,\n",
    "\n",
    "P = 1 - ((1 - 0.95) / 2)\n",
    "P"
   ]
  },
  {
   "cell_type": "code",
   "execution_count": 54,
   "id": "9b242db7-1e13-4439-86e4-e84c9c688dd8",
   "metadata": {
    "execution": {
     "iopub.execute_input": "2023-06-24T01:42:06.514964Z",
     "iopub.status.busy": "2023-06-24T01:42:06.514964Z",
     "iopub.status.idle": "2023-06-24T01:42:06.532988Z",
     "shell.execute_reply": "2023-06-24T01:42:06.531852Z",
     "shell.execute_reply.started": "2023-06-24T01:42:06.514964Z"
    }
   },
   "outputs": [
    {
     "data": {
      "text/plain": [
       "True"
      ]
     },
     "execution_count": 54,
     "metadata": {},
     "output_type": "execute_result"
    }
   ],
   "source": [
    "msize < fsize"
   ]
  },
  {
   "cell_type": "code",
   "execution_count": 55,
   "id": "8eecbcab-ddd1-4d64-9911-e467e418a855",
   "metadata": {
    "execution": {
     "iopub.execute_input": "2023-06-24T01:42:19.081589Z",
     "iopub.status.busy": "2023-06-24T01:42:19.081589Z",
     "iopub.status.idle": "2023-06-24T01:42:19.091942Z",
     "shell.execute_reply": "2023-06-24T01:42:19.091942Z",
     "shell.execute_reply.started": "2023-06-24T01:42:19.081589Z"
    }
   },
   "outputs": [
    {
     "data": {
      "text/plain": [
       "1.9608244975757283"
      ]
     },
     "execution_count": 55,
     "metadata": {},
     "output_type": "execute_result"
    }
   ],
   "source": [
    "tstar = t.ppf(P, df = msize - 1)\n",
    "tstar"
   ]
  },
  {
   "cell_type": "code",
   "execution_count": 56,
   "id": "2d518ad7-a988-424d-8d02-51c5b37c2d24",
   "metadata": {
    "execution": {
     "iopub.execute_input": "2023-06-24T01:42:58.825425Z",
     "iopub.status.busy": "2023-06-24T01:42:58.825425Z",
     "iopub.status.idle": "2023-06-24T01:42:58.835997Z",
     "shell.execute_reply": "2023-06-24T01:42:58.834959Z",
     "shell.execute_reply.started": "2023-06-24T01:42:58.825425Z"
    }
   },
   "outputs": [
    {
     "data": {
      "text/plain": [
       "0.5120936055512196"
      ]
     },
     "execution_count": 56,
     "metadata": {},
     "output_type": "execute_result"
    }
   ],
   "source": [
    "moerr_diff = tstar * stderr_diff\n",
    "moerr_diff"
   ]
  },
  {
   "cell_type": "code",
   "execution_count": 57,
   "id": "ad0df205-b42a-4279-a00b-8e9455eb4208",
   "metadata": {
    "execution": {
     "iopub.execute_input": "2023-06-24T01:43:26.380690Z",
     "iopub.status.busy": "2023-06-24T01:43:26.380690Z",
     "iopub.status.idle": "2023-06-24T01:43:26.389652Z",
     "shell.execute_reply": "2023-06-24T01:43:26.388976Z",
     "shell.execute_reply.started": "2023-06-24T01:43:26.380690Z"
    }
   },
   "outputs": [
    {
     "data": {
      "text/plain": [
       "(0.6497799347757564, 1.6739671458781955)"
      ]
     },
     "execution_count": 57,
     "metadata": {},
     "output_type": "execute_result"
    }
   ],
   "source": [
    "# Confidence interval,\n",
    "\n",
    "best_est - moerr_diff, best_est + moerr_diff"
   ]
  },
  {
   "cell_type": "code",
   "execution_count": null,
   "id": "90c834d8-c9ae-469e-ba60-79256e5eedf9",
   "metadata": {},
   "outputs": [],
   "source": []
  }
 ],
 "metadata": {
  "kernelspec": {
   "display_name": "Python 3 (ipykernel)",
   "language": "python",
   "name": "python3"
  },
  "language_info": {
   "codemirror_mode": {
    "name": "ipython",
    "version": 3
   },
   "file_extension": ".py",
   "mimetype": "text/x-python",
   "name": "python",
   "nbconvert_exporter": "python",
   "pygments_lexer": "ipython3",
   "version": "3.11.4"
  }
 },
 "nbformat": 4,
 "nbformat_minor": 5
}
