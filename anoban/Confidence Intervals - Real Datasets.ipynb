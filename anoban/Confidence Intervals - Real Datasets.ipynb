{
 "cells": [
  {
   "cell_type": "code",
   "execution_count": 24,
   "id": "5be4cfc6-d7e7-4f1f-9d20-ebb411fb11c6",
   "metadata": {
    "execution": {
     "iopub.execute_input": "2023-06-23T14:05:29.839940Z",
     "iopub.status.busy": "2023-06-23T14:05:29.839940Z",
     "iopub.status.idle": "2023-06-23T14:05:29.844692Z",
     "shell.execute_reply": "2023-06-23T14:05:29.844692Z",
     "shell.execute_reply.started": "2023-06-23T14:05:29.839940Z"
    }
   },
   "outputs": [],
   "source": [
    "import pandas as pd\n",
    "import numpy as np\n",
    "np.random.seed(2023 - 6 - 23)\n",
    "import matplotlib.pyplot as plt\n",
    "from scipy.stats import t\n",
    "import os"
   ]
  },
  {
   "cell_type": "code",
   "execution_count": null,
   "id": "5aa48bbe-ffab-4576-bcce-23ccf11fab07",
   "metadata": {},
   "outputs": [],
   "source": []
  },
  {
   "cell_type": "code",
   "execution_count": 5,
   "id": "bb311472-e54b-4bd3-9dcc-add7ef963ad8",
   "metadata": {
    "execution": {
     "iopub.execute_input": "2023-06-23T13:58:43.838107Z",
     "iopub.status.busy": "2023-06-23T13:58:43.838107Z",
     "iopub.status.idle": "2023-06-23T13:58:43.888383Z",
     "shell.execute_reply": "2023-06-23T13:58:43.888383Z",
     "shell.execute_reply.started": "2023-06-23T13:58:43.838107Z"
    }
   },
   "outputs": [
    {
     "data": {
      "text/plain": [
       "['Cartwheeldata.csv',\n",
       " 'CommonCLZvalues.png',\n",
       " 'Data Description_Metro.pdf',\n",
       " 'EV_Population_Data.csv',\n",
       " 'MetroPT3(AirCompressor).csv',\n",
       " 'nap_no_nap.csv',\n",
       " 'nhanes_2015_2016.csv',\n",
       " 'USDA_plants_database.csv']"
      ]
     },
     "execution_count": 5,
     "metadata": {},
     "output_type": "execute_result"
    }
   ],
   "source": [
    "os.listdir(\"./../data\")"
   ]
  },
  {
   "cell_type": "code",
   "execution_count": null,
   "id": "825ecb8f-5451-4b0d-8234-37832b4c615d",
   "metadata": {},
   "outputs": [],
   "source": []
  },
  {
   "cell_type": "code",
   "execution_count": 6,
   "id": "d009375c-4ee4-4704-bee0-4db1cd0ce957",
   "metadata": {
    "execution": {
     "iopub.execute_input": "2023-06-23T13:59:26.165415Z",
     "iopub.status.busy": "2023-06-23T13:59:26.165415Z",
     "iopub.status.idle": "2023-06-23T13:59:26.619576Z",
     "shell.execute_reply": "2023-06-23T13:59:26.619576Z",
     "shell.execute_reply.started": "2023-06-23T13:59:26.165415Z"
    }
   },
   "outputs": [],
   "source": [
    "metro = pd.read_csv(\"./../data/MetroPT3(AirCompressor).csv\")"
   ]
  },
  {
   "cell_type": "code",
   "execution_count": 9,
   "id": "f1237a4b-1403-479b-90f6-77ce614ce1fb",
   "metadata": {
    "execution": {
     "iopub.execute_input": "2023-06-23T14:01:02.204463Z",
     "iopub.status.busy": "2023-06-23T14:01:02.204463Z",
     "iopub.status.idle": "2023-06-23T14:01:02.220170Z",
     "shell.execute_reply": "2023-06-23T14:01:02.219624Z",
     "shell.execute_reply.started": "2023-06-23T14:01:02.204463Z"
    }
   },
   "outputs": [
    {
     "data": {
      "text/plain": [
       "60.91453961453962"
      ]
     },
     "execution_count": 9,
     "metadata": {},
     "output_type": "execute_result"
    }
   ],
   "source": [
    "# Let's consider this dataset as our population.\n",
    "# We are interested in figuring out the mean oil temperature.\n",
    "# The true population parameter (mean oil temp) is\n",
    "\n",
    "metro.Oil_temperature.mean()"
   ]
  },
  {
   "cell_type": "code",
   "execution_count": 12,
   "id": "bf631a00-8741-487e-a327-66ec9883f8f9",
   "metadata": {
    "execution": {
     "iopub.execute_input": "2023-06-23T14:02:22.848968Z",
     "iopub.status.busy": "2023-06-23T14:02:22.848968Z",
     "iopub.status.idle": "2023-06-23T14:02:22.862161Z",
     "shell.execute_reply": "2023-06-23T14:02:22.861011Z",
     "shell.execute_reply.started": "2023-06-23T14:02:22.848968Z"
    }
   },
   "outputs": [
    {
     "data": {
      "text/plain": [
       "999999"
      ]
     },
     "execution_count": 12,
     "metadata": {},
     "output_type": "execute_result"
    }
   ],
   "source": [
    "# However, in real world scenarios, we cannot measure this true population parameter of interest.\n",
    "# The size of our population is,\n",
    "\n",
    "metro.shape[0]"
   ]
  },
  {
   "cell_type": "code",
   "execution_count": 21,
   "id": "3c52af28-386c-4e6a-ad77-22d3bacda1d6",
   "metadata": {
    "execution": {
     "iopub.execute_input": "2023-06-23T14:04:26.611113Z",
     "iopub.status.busy": "2023-06-23T14:04:26.611113Z",
     "iopub.status.idle": "2023-06-23T14:04:26.618638Z",
     "shell.execute_reply": "2023-06-23T14:04:26.618638Z",
     "shell.execute_reply.started": "2023-06-23T14:04:26.611113Z"
    }
   },
   "outputs": [],
   "source": [
    "# We'll make a sample of size 10,000\n",
    "\n",
    "sample = metro.Oil_temperature[np.random.randint(low = 0, high = metro.shape[0], size = 10_000)].to_numpy()"
   ]
  },
  {
   "cell_type": "code",
   "execution_count": 23,
   "id": "0f9ab1c5-128a-4fdf-8545-c93e8b9b1ea1",
   "metadata": {
    "execution": {
     "iopub.execute_input": "2023-06-23T14:05:10.847429Z",
     "iopub.status.busy": "2023-06-23T14:05:10.847429Z",
     "iopub.status.idle": "2023-06-23T14:05:10.862239Z",
     "shell.execute_reply": "2023-06-23T14:05:10.861154Z",
     "shell.execute_reply.started": "2023-06-23T14:05:10.847429Z"
    }
   },
   "outputs": [
    {
     "data": {
      "text/plain": [
       "60.88413500000001"
      ]
     },
     "execution_count": 23,
     "metadata": {},
     "output_type": "execute_result"
    }
   ],
   "source": [
    "# Now we have a sample os size 10,000\n",
    "# Our best estimate is the sample mean,\n",
    "\n",
    "best_estimate = sample.mean()\n",
    "best_estimate"
   ]
  },
  {
   "cell_type": "code",
   "execution_count": 25,
   "id": "1eb518d6-15c7-4f13-8e44-a09ded4000e2",
   "metadata": {
    "execution": {
     "iopub.execute_input": "2023-06-23T14:22:13.415742Z",
     "iopub.status.busy": "2023-06-23T14:22:13.415742Z",
     "iopub.status.idle": "2023-06-23T14:22:13.433177Z",
     "shell.execute_reply": "2023-06-23T14:22:13.432554Z",
     "shell.execute_reply.started": "2023-06-23T14:22:13.415742Z"
    }
   },
   "outputs": [
    {
     "data": {
      "text/plain": [
       "0.975"
      ]
     },
     "execution_count": 25,
     "metadata": {},
     "output_type": "execute_result"
    }
   ],
   "source": [
    "# Now we need a confidence interval,\n",
    "# Since we are interested in the population mean, we need to use a t instead of a Z multiplier.\n",
    "\n",
    "# Let's say that we'd like a 95% confidence interval,\n",
    "# that implies, if we sampled the population a 100 times, truly randomly, creating simple random samples,\n",
    "# the confidence intervals computed using the sample parameter (sample mean) will cover the true population parameter (population mean) 95 out of 100 \n",
    "# times.\n",
    "\n",
    "# confidence interval = best estimate +- margin of error\n",
    "# margin of error = multiplier x standard error\n",
    "\n",
    "# t multiplier, at 95% confidence level, for a sample of size 10,000 is,\n",
    "# given our sample is succinctly large, which is true because we samples 1/100 th of the whole population, CLT becomes valid,\n",
    "# which assures that the Z scores will follow a student's t distribution.\n",
    "\n",
    "# The probability of the needed quantile covering 95% of the density of the t distribution (assumed normal) needs to be computed.\n",
    "# P(-t < quantile < +t) = 0.95\n",
    "# This P equals to 1 - ((1 - alpha) / 2), where alpha is the confidence.\n",
    "# @ 95% confidence alpha = 0.95\n",
    "\n",
    "P = 1 - ((1 - 0.95) / 2)\n",
    "P"
   ]
  },
  {
   "cell_type": "code",
   "execution_count": 27,
   "id": "30080c3b-671a-4f52-b958-e6aaad4b486a",
   "metadata": {
    "execution": {
     "iopub.execute_input": "2023-06-23T14:23:05.506936Z",
     "iopub.status.busy": "2023-06-23T14:23:05.506936Z",
     "iopub.status.idle": "2023-06-23T14:23:05.520151Z",
     "shell.execute_reply": "2023-06-23T14:23:05.520151Z",
     "shell.execute_reply.started": "2023-06-23T14:23:05.506936Z"
    }
   },
   "outputs": [
    {
     "data": {
      "text/plain": [
       "1.9602012636213575"
      ]
     },
     "execution_count": 27,
     "metadata": {},
     "output_type": "execute_result"
    }
   ],
   "source": [
    "t_multiplier = t.ppf(P, df = sample.size - 1)\n",
    "t_multiplier"
   ]
  },
  {
   "cell_type": "code",
   "execution_count": 28,
   "id": "2fa0f1ca-6343-43bf-a51a-c924fecd4263",
   "metadata": {
    "execution": {
     "iopub.execute_input": "2023-06-23T14:24:25.250388Z",
     "iopub.status.busy": "2023-06-23T14:24:25.250388Z",
     "iopub.status.idle": "2023-06-23T14:24:25.264923Z",
     "shell.execute_reply": "2023-06-23T14:24:25.264398Z",
     "shell.execute_reply.started": "2023-06-23T14:24:25.250388Z"
    }
   },
   "outputs": [
    {
     "data": {
      "text/plain": [
       "0.06685538940637097"
      ]
     },
     "execution_count": 28,
     "metadata": {},
     "output_type": "execute_result"
    }
   ],
   "source": [
    "# For means standard error = sample standard deviation / square root of sample size\n",
    "\n",
    "stderr = sample.std() / np.sqrt(sample.size)\n",
    "stderr"
   ]
  },
  {
   "cell_type": "code",
   "execution_count": 29,
   "id": "887a5e8d-088d-48af-8334-42f44a8bb96a",
   "metadata": {
    "execution": {
     "iopub.execute_input": "2023-06-23T14:24:55.682347Z",
     "iopub.status.busy": "2023-06-23T14:24:55.682347Z",
     "iopub.status.idle": "2023-06-23T14:24:55.702866Z",
     "shell.execute_reply": "2023-06-23T14:24:55.701769Z",
     "shell.execute_reply.started": "2023-06-23T14:24:55.682347Z"
    }
   },
   "outputs": [
    {
     "data": {
      "text/plain": [
       "0.13105001879426628"
      ]
     },
     "execution_count": 29,
     "metadata": {},
     "output_type": "execute_result"
    }
   ],
   "source": [
    "margin_of_err = t_multiplier * stderr\n",
    "margin_of_err"
   ]
  },
  {
   "cell_type": "code",
   "execution_count": 31,
   "id": "d4df9413-1df8-45c5-ad63-2c8236582fdd",
   "metadata": {
    "execution": {
     "iopub.execute_input": "2023-06-23T14:25:57.926775Z",
     "iopub.status.busy": "2023-06-23T14:25:57.926775Z",
     "iopub.status.idle": "2023-06-23T14:25:57.944885Z",
     "shell.execute_reply": "2023-06-23T14:25:57.943860Z",
     "shell.execute_reply.started": "2023-06-23T14:25:57.926775Z"
    }
   },
   "outputs": [
    {
     "data": {
      "text/plain": [
       "(60.75308498120574, 61.01518501879428)"
      ]
     },
     "execution_count": 31,
     "metadata": {},
     "output_type": "execute_result"
    }
   ],
   "source": [
    "# And here's the 95% confidence interval, for population mean.\n",
    "\n",
    "best_estimate - margin_of_err, best_estimate + margin_of_err"
   ]
  },
  {
   "cell_type": "code",
   "execution_count": null,
   "id": "008ce0c1-cba7-4409-afca-b8c70263e18b",
   "metadata": {},
   "outputs": [],
   "source": []
  },
  {
   "cell_type": "code",
   "execution_count": 56,
   "id": "20e85dd7-93fc-4bd3-951c-051fbd49e130",
   "metadata": {
    "execution": {
     "iopub.execute_input": "2023-06-23T14:40:48.859387Z",
     "iopub.status.busy": "2023-06-23T14:40:48.859387Z",
     "iopub.status.idle": "2023-06-23T14:40:48.883862Z",
     "shell.execute_reply": "2023-06-23T14:40:48.882686Z",
     "shell.execute_reply.started": "2023-06-23T14:40:48.859387Z"
    }
   },
   "outputs": [],
   "source": [
    "nhanes = pd.read_csv(\"./../data/nhanes_2015_2016.csv\", usecols = [\"SMQ020\", \"BMXBMI\", \"RIAGENDR\"])"
   ]
  },
  {
   "cell_type": "code",
   "execution_count": 57,
   "id": "012464fc-851a-4fde-a6db-f7a9edd9eb19",
   "metadata": {
    "execution": {
     "iopub.execute_input": "2023-06-23T14:40:49.392329Z",
     "iopub.status.busy": "2023-06-23T14:40:49.392329Z",
     "iopub.status.idle": "2023-06-23T14:40:49.411375Z",
     "shell.execute_reply": "2023-06-23T14:40:49.410280Z",
     "shell.execute_reply.started": "2023-06-23T14:40:49.392329Z"
    }
   },
   "outputs": [
    {
     "data": {
      "text/html": [
       "<div>\n",
       "<style scoped>\n",
       "    .dataframe tbody tr th:only-of-type {\n",
       "        vertical-align: middle;\n",
       "    }\n",
       "\n",
       "    .dataframe tbody tr th {\n",
       "        vertical-align: top;\n",
       "    }\n",
       "\n",
       "    .dataframe thead th {\n",
       "        text-align: right;\n",
       "    }\n",
       "</style>\n",
       "<table border=\"1\" class=\"dataframe\">\n",
       "  <thead>\n",
       "    <tr style=\"text-align: right;\">\n",
       "      <th></th>\n",
       "      <th>smoker</th>\n",
       "      <th>gender</th>\n",
       "      <th>bmi</th>\n",
       "    </tr>\n",
       "  </thead>\n",
       "  <tbody>\n",
       "    <tr>\n",
       "      <th>0</th>\n",
       "      <td>1</td>\n",
       "      <td>1</td>\n",
       "      <td>27.8</td>\n",
       "    </tr>\n",
       "    <tr>\n",
       "      <th>1</th>\n",
       "      <td>1</td>\n",
       "      <td>1</td>\n",
       "      <td>30.8</td>\n",
       "    </tr>\n",
       "    <tr>\n",
       "      <th>2</th>\n",
       "      <td>1</td>\n",
       "      <td>1</td>\n",
       "      <td>28.8</td>\n",
       "    </tr>\n",
       "    <tr>\n",
       "      <th>3</th>\n",
       "      <td>2</td>\n",
       "      <td>2</td>\n",
       "      <td>42.4</td>\n",
       "    </tr>\n",
       "    <tr>\n",
       "      <th>4</th>\n",
       "      <td>2</td>\n",
       "      <td>2</td>\n",
       "      <td>20.3</td>\n",
       "    </tr>\n",
       "    <tr>\n",
       "      <th>...</th>\n",
       "      <td>...</td>\n",
       "      <td>...</td>\n",
       "      <td>...</td>\n",
       "    </tr>\n",
       "    <tr>\n",
       "      <th>5730</th>\n",
       "      <td>1</td>\n",
       "      <td>2</td>\n",
       "      <td>21.5</td>\n",
       "    </tr>\n",
       "    <tr>\n",
       "      <th>5731</th>\n",
       "      <td>2</td>\n",
       "      <td>1</td>\n",
       "      <td>33.8</td>\n",
       "    </tr>\n",
       "    <tr>\n",
       "      <th>5732</th>\n",
       "      <td>1</td>\n",
       "      <td>2</td>\n",
       "      <td>31.0</td>\n",
       "    </tr>\n",
       "    <tr>\n",
       "      <th>5733</th>\n",
       "      <td>1</td>\n",
       "      <td>1</td>\n",
       "      <td>26.0</td>\n",
       "    </tr>\n",
       "    <tr>\n",
       "      <th>5734</th>\n",
       "      <td>2</td>\n",
       "      <td>2</td>\n",
       "      <td>21.4</td>\n",
       "    </tr>\n",
       "  </tbody>\n",
       "</table>\n",
       "<p>5735 rows × 3 columns</p>\n",
       "</div>"
      ],
      "text/plain": [
       "      smoker  gender   bmi\n",
       "0          1       1  27.8\n",
       "1          1       1  30.8\n",
       "2          1       1  28.8\n",
       "3          2       2  42.4\n",
       "4          2       2  20.3\n",
       "...      ...     ...   ...\n",
       "5730       1       2  21.5\n",
       "5731       2       1  33.8\n",
       "5732       1       2  31.0\n",
       "5733       1       1  26.0\n",
       "5734       2       2  21.4\n",
       "\n",
       "[5735 rows x 3 columns]"
      ]
     },
     "execution_count": 57,
     "metadata": {},
     "output_type": "execute_result"
    }
   ],
   "source": [
    "nhanes = nhanes.rename({\"SMQ020\": \"smoker\", \"BMXBMI\": \"bmi\", \"RIAGENDR\": \"gender\"}, axis = 1)\n",
    "nhanes"
   ]
  },
  {
   "cell_type": "code",
   "execution_count": 58,
   "id": "f4a1cf8f-bf40-4c7d-b954-064a9efdc273",
   "metadata": {
    "execution": {
     "iopub.execute_input": "2023-06-23T14:41:04.018881Z",
     "iopub.status.busy": "2023-06-23T14:41:04.018881Z",
     "iopub.status.idle": "2023-06-23T14:41:04.029298Z",
     "shell.execute_reply": "2023-06-23T14:41:04.028537Z",
     "shell.execute_reply.started": "2023-06-23T14:41:04.018881Z"
    }
   },
   "outputs": [
    {
     "data": {
      "text/plain": [
       "array([1, 2], dtype=int64)"
      ]
     },
     "execution_count": 58,
     "metadata": {},
     "output_type": "execute_result"
    }
   ],
   "source": [
    "nhanes.gender.unique()"
   ]
  },
  {
   "cell_type": "code",
   "execution_count": 59,
   "id": "8d69916c-a62e-475a-a624-2b569c758150",
   "metadata": {
    "execution": {
     "iopub.execute_input": "2023-06-23T14:41:04.537190Z",
     "iopub.status.busy": "2023-06-23T14:41:04.537190Z",
     "iopub.status.idle": "2023-06-23T14:41:04.546510Z",
     "shell.execute_reply": "2023-06-23T14:41:04.545348Z",
     "shell.execute_reply.started": "2023-06-23T14:41:04.537190Z"
    }
   },
   "outputs": [
    {
     "data": {
      "text/plain": [
       "array([1, 2, 7, 9], dtype=int64)"
      ]
     },
     "execution_count": 59,
     "metadata": {},
     "output_type": "execute_result"
    }
   ],
   "source": [
    "nhanes.smoker.unique()"
   ]
  },
  {
   "cell_type": "code",
   "execution_count": 60,
   "id": "755798f3-c116-4d97-b5bd-5b78c5bc7f3a",
   "metadata": {
    "execution": {
     "iopub.execute_input": "2023-06-23T14:41:05.477707Z",
     "iopub.status.busy": "2023-06-23T14:41:05.477707Z",
     "iopub.status.idle": "2023-06-23T14:41:05.500727Z",
     "shell.execute_reply": "2023-06-23T14:41:05.498747Z",
     "shell.execute_reply.started": "2023-06-23T14:41:05.477707Z"
    }
   },
   "outputs": [],
   "source": [
    "nhanes.gender = nhanes.gender.apply(lambda g: 'M' if g == 1 else 'F')\n",
    "nhanes.smoker = nhanes.smoker.apply(lambda s: False if s == 2 else True if s == 1 else np.nan)"
   ]
  },
  {
   "cell_type": "code",
   "execution_count": 61,
   "id": "657f8a90-8a50-45d3-a2e0-0f8aa3d0c309",
   "metadata": {
    "execution": {
     "iopub.execute_input": "2023-06-23T14:41:06.889316Z",
     "iopub.status.busy": "2023-06-23T14:41:06.889316Z",
     "iopub.status.idle": "2023-06-23T14:41:06.899808Z",
     "shell.execute_reply": "2023-06-23T14:41:06.899271Z",
     "shell.execute_reply.started": "2023-06-23T14:41:06.889316Z"
    }
   },
   "outputs": [
    {
     "data": {
      "text/plain": [
       "smoker    10\n",
       "gender     0\n",
       "bmi       73\n",
       "dtype: int64"
      ]
     },
     "execution_count": 61,
     "metadata": {},
     "output_type": "execute_result"
    }
   ],
   "source": [
    "nhanes.isna().sum(axis = 0)"
   ]
  },
  {
   "cell_type": "code",
   "execution_count": 63,
   "id": "7ea7db8a-0f33-4d2b-a2a7-4c07a76ecc5c",
   "metadata": {
    "execution": {
     "iopub.execute_input": "2023-06-23T14:41:23.097247Z",
     "iopub.status.busy": "2023-06-23T14:41:23.097247Z",
     "iopub.status.idle": "2023-06-23T14:41:23.105249Z",
     "shell.execute_reply": "2023-06-23T14:41:23.104716Z",
     "shell.execute_reply.started": "2023-06-23T14:41:23.097247Z"
    }
   },
   "outputs": [],
   "source": [
    "nhanes.dropna(axis = 0, inplace = True)"
   ]
  },
  {
   "cell_type": "code",
   "execution_count": 64,
   "id": "594617aa-22da-469a-976e-2218d883a0dd",
   "metadata": {
    "execution": {
     "iopub.execute_input": "2023-06-23T14:41:23.701342Z",
     "iopub.status.busy": "2023-06-23T14:41:23.701342Z",
     "iopub.status.idle": "2023-06-23T14:41:23.724817Z",
     "shell.execute_reply": "2023-06-23T14:41:23.723689Z",
     "shell.execute_reply.started": "2023-06-23T14:41:23.701342Z"
    }
   },
   "outputs": [
    {
     "data": {
      "text/html": [
       "<div>\n",
       "<style scoped>\n",
       "    .dataframe tbody tr th:only-of-type {\n",
       "        vertical-align: middle;\n",
       "    }\n",
       "\n",
       "    .dataframe tbody tr th {\n",
       "        vertical-align: top;\n",
       "    }\n",
       "\n",
       "    .dataframe thead th {\n",
       "        text-align: right;\n",
       "    }\n",
       "</style>\n",
       "<table border=\"1\" class=\"dataframe\">\n",
       "  <thead>\n",
       "    <tr style=\"text-align: right;\">\n",
       "      <th></th>\n",
       "      <th>smoker</th>\n",
       "      <th>gender</th>\n",
       "      <th>bmi</th>\n",
       "    </tr>\n",
       "  </thead>\n",
       "  <tbody>\n",
       "    <tr>\n",
       "      <th>0</th>\n",
       "      <td>True</td>\n",
       "      <td>M</td>\n",
       "      <td>27.8</td>\n",
       "    </tr>\n",
       "    <tr>\n",
       "      <th>1</th>\n",
       "      <td>True</td>\n",
       "      <td>M</td>\n",
       "      <td>30.8</td>\n",
       "    </tr>\n",
       "    <tr>\n",
       "      <th>2</th>\n",
       "      <td>True</td>\n",
       "      <td>M</td>\n",
       "      <td>28.8</td>\n",
       "    </tr>\n",
       "    <tr>\n",
       "      <th>3</th>\n",
       "      <td>False</td>\n",
       "      <td>F</td>\n",
       "      <td>42.4</td>\n",
       "    </tr>\n",
       "    <tr>\n",
       "      <th>4</th>\n",
       "      <td>False</td>\n",
       "      <td>F</td>\n",
       "      <td>20.3</td>\n",
       "    </tr>\n",
       "    <tr>\n",
       "      <th>...</th>\n",
       "      <td>...</td>\n",
       "      <td>...</td>\n",
       "      <td>...</td>\n",
       "    </tr>\n",
       "    <tr>\n",
       "      <th>5730</th>\n",
       "      <td>True</td>\n",
       "      <td>F</td>\n",
       "      <td>21.5</td>\n",
       "    </tr>\n",
       "    <tr>\n",
       "      <th>5731</th>\n",
       "      <td>False</td>\n",
       "      <td>M</td>\n",
       "      <td>33.8</td>\n",
       "    </tr>\n",
       "    <tr>\n",
       "      <th>5732</th>\n",
       "      <td>True</td>\n",
       "      <td>F</td>\n",
       "      <td>31.0</td>\n",
       "    </tr>\n",
       "    <tr>\n",
       "      <th>5733</th>\n",
       "      <td>True</td>\n",
       "      <td>M</td>\n",
       "      <td>26.0</td>\n",
       "    </tr>\n",
       "    <tr>\n",
       "      <th>5734</th>\n",
       "      <td>False</td>\n",
       "      <td>F</td>\n",
       "      <td>21.4</td>\n",
       "    </tr>\n",
       "  </tbody>\n",
       "</table>\n",
       "<p>5652 rows × 3 columns</p>\n",
       "</div>"
      ],
      "text/plain": [
       "     smoker gender   bmi\n",
       "0      True      M  27.8\n",
       "1      True      M  30.8\n",
       "2      True      M  28.8\n",
       "3     False      F  42.4\n",
       "4     False      F  20.3\n",
       "...     ...    ...   ...\n",
       "5730   True      F  21.5\n",
       "5731  False      M  33.8\n",
       "5732   True      F  31.0\n",
       "5733   True      M  26.0\n",
       "5734  False      F  21.4\n",
       "\n",
       "[5652 rows x 3 columns]"
      ]
     },
     "execution_count": 64,
     "metadata": {},
     "output_type": "execute_result"
    }
   ],
   "source": [
    "nhanes"
   ]
  },
  {
   "cell_type": "code",
   "execution_count": 65,
   "id": "f5b674ea-d8de-44e3-b91e-71ece1a9a270",
   "metadata": {
    "execution": {
     "iopub.execute_input": "2023-06-23T14:41:26.682147Z",
     "iopub.status.busy": "2023-06-23T14:41:26.682147Z",
     "iopub.status.idle": "2023-06-23T14:41:26.713074Z",
     "shell.execute_reply": "2023-06-23T14:41:26.713074Z",
     "shell.execute_reply.started": "2023-06-23T14:41:26.682147Z"
    }
   },
   "outputs": [
    {
     "data": {
      "text/html": [
       "<div>\n",
       "<style scoped>\n",
       "    .dataframe tbody tr th:only-of-type {\n",
       "        vertical-align: middle;\n",
       "    }\n",
       "\n",
       "    .dataframe tbody tr th {\n",
       "        vertical-align: top;\n",
       "    }\n",
       "\n",
       "    .dataframe thead th {\n",
       "        text-align: right;\n",
       "    }\n",
       "</style>\n",
       "<table border=\"1\" class=\"dataframe\">\n",
       "  <thead>\n",
       "    <tr style=\"text-align: right;\">\n",
       "      <th>smoker</th>\n",
       "      <th>False</th>\n",
       "      <th>True</th>\n",
       "    </tr>\n",
       "    <tr>\n",
       "      <th>gender</th>\n",
       "      <th></th>\n",
       "      <th></th>\n",
       "    </tr>\n",
       "  </thead>\n",
       "  <tbody>\n",
       "    <tr>\n",
       "      <th>F</th>\n",
       "      <td>2044</td>\n",
       "      <td>896</td>\n",
       "    </tr>\n",
       "    <tr>\n",
       "      <th>M</th>\n",
       "      <td>1322</td>\n",
       "      <td>1390</td>\n",
       "    </tr>\n",
       "  </tbody>\n",
       "</table>\n",
       "</div>"
      ],
      "text/plain": [
       "smoker  False  True \n",
       "gender              \n",
       "F        2044    896\n",
       "M        1322   1390"
      ]
     },
     "execution_count": 65,
     "metadata": {},
     "output_type": "execute_result"
    }
   ],
   "source": [
    "pd.crosstab(nhanes.gender, nhanes.smoker)"
   ]
  },
  {
   "cell_type": "code",
   "execution_count": 66,
   "id": "2abad345-f4e4-4968-b290-0daca87d4ce1",
   "metadata": {
    "execution": {
     "iopub.execute_input": "2023-06-23T14:45:10.177910Z",
     "iopub.status.busy": "2023-06-23T14:45:10.177910Z",
     "iopub.status.idle": "2023-06-23T14:45:10.205595Z",
     "shell.execute_reply": "2023-06-23T14:45:10.205595Z",
     "shell.execute_reply.started": "2023-06-23T14:45:10.177910Z"
    }
   },
   "outputs": [
    {
     "data": {
      "text/html": [
       "<div>\n",
       "<style scoped>\n",
       "    .dataframe tbody tr th:only-of-type {\n",
       "        vertical-align: middle;\n",
       "    }\n",
       "\n",
       "    .dataframe tbody tr th {\n",
       "        vertical-align: top;\n",
       "    }\n",
       "\n",
       "    .dataframe thead th {\n",
       "        text-align: right;\n",
       "    }\n",
       "</style>\n",
       "<table border=\"1\" class=\"dataframe\">\n",
       "  <thead>\n",
       "    <tr style=\"text-align: right;\">\n",
       "      <th></th>\n",
       "      <th>smoker</th>\n",
       "      <th>bmi</th>\n",
       "    </tr>\n",
       "    <tr>\n",
       "      <th>gender</th>\n",
       "      <th></th>\n",
       "      <th></th>\n",
       "    </tr>\n",
       "  </thead>\n",
       "  <tbody>\n",
       "    <tr>\n",
       "      <th>F</th>\n",
       "      <td>0.304762</td>\n",
       "      <td>29.943571</td>\n",
       "    </tr>\n",
       "    <tr>\n",
       "      <th>M</th>\n",
       "      <td>0.512537</td>\n",
       "      <td>28.774668</td>\n",
       "    </tr>\n",
       "  </tbody>\n",
       "</table>\n",
       "</div>"
      ],
      "text/plain": [
       "          smoker        bmi\n",
       "gender                     \n",
       "F       0.304762  29.943571\n",
       "M       0.512537  28.774668"
      ]
     },
     "execution_count": 66,
     "metadata": {},
     "output_type": "execute_result"
    }
   ],
   "source": [
    "nhanes.groupby(\"gender\").mean()"
   ]
  },
  {
   "cell_type": "code",
   "execution_count": 67,
   "id": "82b9cf4b-1479-4c84-9ce5-069f29b4a89f",
   "metadata": {
    "execution": {
     "iopub.execute_input": "2023-06-23T14:45:59.577801Z",
     "iopub.status.busy": "2023-06-23T14:45:59.577801Z",
     "iopub.status.idle": "2023-06-23T14:45:59.606550Z",
     "shell.execute_reply": "2023-06-23T14:45:59.605504Z",
     "shell.execute_reply.started": "2023-06-23T14:45:59.577801Z"
    }
   },
   "outputs": [
    {
     "data": {
      "text/html": [
       "<div>\n",
       "<style scoped>\n",
       "    .dataframe tbody tr th:only-of-type {\n",
       "        vertical-align: middle;\n",
       "    }\n",
       "\n",
       "    .dataframe tbody tr th {\n",
       "        vertical-align: top;\n",
       "    }\n",
       "\n",
       "    .dataframe thead th {\n",
       "        text-align: right;\n",
       "    }\n",
       "</style>\n",
       "<table border=\"1\" class=\"dataframe\">\n",
       "  <thead>\n",
       "    <tr style=\"text-align: right;\">\n",
       "      <th></th>\n",
       "      <th></th>\n",
       "      <th>bmi</th>\n",
       "    </tr>\n",
       "    <tr>\n",
       "      <th>gender</th>\n",
       "      <th>smoker</th>\n",
       "      <th></th>\n",
       "    </tr>\n",
       "  </thead>\n",
       "  <tbody>\n",
       "    <tr>\n",
       "      <th rowspan=\"2\" valign=\"top\">F</th>\n",
       "      <th>False</th>\n",
       "      <td>29.661057</td>\n",
       "    </tr>\n",
       "    <tr>\n",
       "      <th>True</th>\n",
       "      <td>30.588058</td>\n",
       "    </tr>\n",
       "    <tr>\n",
       "      <th rowspan=\"2\" valign=\"top\">M</th>\n",
       "      <th>False</th>\n",
       "      <td>28.592511</td>\n",
       "    </tr>\n",
       "    <tr>\n",
       "      <th>True</th>\n",
       "      <td>28.947914</td>\n",
       "    </tr>\n",
       "  </tbody>\n",
       "</table>\n",
       "</div>"
      ],
      "text/plain": [
       "                     bmi\n",
       "gender smoker           \n",
       "F      False   29.661057\n",
       "       True    30.588058\n",
       "M      False   28.592511\n",
       "       True    28.947914"
      ]
     },
     "execution_count": 67,
     "metadata": {},
     "output_type": "execute_result"
    }
   ],
   "source": [
    "nhanes.groupby([\"gender\", \"smoker\"]).mean()"
   ]
  },
  {
   "cell_type": "code",
   "execution_count": null,
   "id": "c9b9e613-a480-4ad4-86d7-7cc1f304a87e",
   "metadata": {},
   "outputs": [],
   "source": []
  }
 ],
 "metadata": {
  "kernelspec": {
   "display_name": "Python 3 (ipykernel)",
   "language": "python",
   "name": "python3"
  },
  "language_info": {
   "codemirror_mode": {
    "name": "ipython",
    "version": 3
   },
   "file_extension": ".py",
   "mimetype": "text/x-python",
   "name": "python",
   "nbconvert_exporter": "python",
   "pygments_lexer": "ipython3",
   "version": "3.11.4"
  }
 },
 "nbformat": 4,
 "nbformat_minor": 5
}
