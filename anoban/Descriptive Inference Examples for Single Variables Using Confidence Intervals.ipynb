{
 "cells": [
  {
   "cell_type": "code",
   "execution_count": 1,
   "id": "60cda7ac-1f54-4772-8113-5801cd4f11ca",
   "metadata": {
    "execution": {
     "iopub.execute_input": "2023-07-09T01:54:32.312866Z",
     "iopub.status.busy": "2023-07-09T01:54:32.312866Z",
     "iopub.status.idle": "2023-07-09T01:54:34.020292Z",
     "shell.execute_reply": "2023-07-09T01:54:34.020292Z",
     "shell.execute_reply.started": "2023-07-09T01:54:32.312866Z"
    }
   },
   "outputs": [],
   "source": [
    "import pandas as pd\n",
    "import numpy as np\n",
    "import matplotlib.pyplot as plt\n",
    "from scipy.stats import (t, norm, ttest_ind)"
   ]
  },
  {
   "cell_type": "markdown",
   "id": "c2266daa-30b7-4e06-8ce0-e389cd6b53de",
   "metadata": {},
   "source": [
    "# ___Descriptive Inference Examples for Single Variables Using Confidence Intervals___\n",
    "----------------"
   ]
  },
  {
   "cell_type": "code",
   "execution_count": 17,
   "id": "493b53ee-cc9d-4b39-9254-1b5e0200f9d3",
   "metadata": {
    "execution": {
     "iopub.execute_input": "2023-07-09T01:59:41.401149Z",
     "iopub.status.busy": "2023-07-09T01:59:41.401149Z",
     "iopub.status.idle": "2023-07-09T01:59:41.410494Z",
     "shell.execute_reply": "2023-07-09T01:59:41.409614Z",
     "shell.execute_reply.started": "2023-07-09T01:59:41.401149Z"
    }
   },
   "outputs": [],
   "source": [
    "# !type \"..\\data\\nhanes_2015_2016.csv\" -L 5"
   ]
  },
  {
   "cell_type": "code",
   "execution_count": 18,
   "id": "f695fddf-2c6e-488b-a420-42cc2f1e9a22",
   "metadata": {
    "execution": {
     "iopub.execute_input": "2023-07-09T01:59:49.688886Z",
     "iopub.status.busy": "2023-07-09T01:59:49.688886Z",
     "iopub.status.idle": "2023-07-09T01:59:49.714219Z",
     "shell.execute_reply": "2023-07-09T01:59:49.714219Z",
     "shell.execute_reply.started": "2023-07-09T01:59:49.688886Z"
    }
   },
   "outputs": [],
   "source": [
    "nhanes = pd.read_csv(\"../data/nhanes_2015_2016.csv\", usecols = [\"RIDRETH1\", \"RIAGENDR\", \"RIDAGEYR\", \"BMXBMI\", \"BPXSY2\"]).dropna(axis = 0)"
   ]
  },
  {
   "cell_type": "code",
   "execution_count": 19,
   "id": "49102133-c0b7-4e2a-8025-1fe6f8f718db",
   "metadata": {
    "execution": {
     "iopub.execute_input": "2023-07-09T01:59:50.317842Z",
     "iopub.status.busy": "2023-07-09T01:59:50.317842Z",
     "iopub.status.idle": "2023-07-09T01:59:50.328799Z",
     "shell.execute_reply": "2023-07-09T01:59:50.328137Z",
     "shell.execute_reply.started": "2023-07-09T01:59:50.317842Z"
    }
   },
   "outputs": [
    {
     "data": {
      "text/plain": [
       "Index(['RIAGENDR', 'RIDAGEYR', 'RIDRETH1', 'BPXSY2', 'BMXBMI'], dtype='object')"
      ]
     },
     "execution_count": 19,
     "metadata": {},
     "output_type": "execute_result"
    }
   ],
   "source": [
    "nhanes.columns"
   ]
  },
  {
   "cell_type": "markdown",
   "id": "0592ad32-ea28-424e-a6de-ee5c660e5283",
   "metadata": {},
   "source": [
    "#### __RIDRETH1__\n",
    "-------------\n",
    "\n",
    "1. Mexican American         \n",
    "2. Other Hispanic          \n",
    "3. Non-Hispanic White          \n",
    "4. Non-Hispanic Black       \n",
    "5. Other Race - Including Multi-Racial           "
   ]
  },
  {
   "cell_type": "code",
   "execution_count": 20,
   "id": "08699a54-5d87-4efe-a28a-b608ba3b5e09",
   "metadata": {
    "execution": {
     "iopub.execute_input": "2023-07-09T01:59:50.882596Z",
     "iopub.status.busy": "2023-07-09T01:59:50.882596Z",
     "iopub.status.idle": "2023-07-09T01:59:50.902802Z",
     "shell.execute_reply": "2023-07-09T01:59:50.902700Z",
     "shell.execute_reply.started": "2023-07-09T01:59:50.882596Z"
    }
   },
   "outputs": [
    {
     "data": {
      "text/html": [
       "<div>\n",
       "<style scoped>\n",
       "    .dataframe tbody tr th:only-of-type {\n",
       "        vertical-align: middle;\n",
       "    }\n",
       "\n",
       "    .dataframe tbody tr th {\n",
       "        vertical-align: top;\n",
       "    }\n",
       "\n",
       "    .dataframe thead th {\n",
       "        text-align: right;\n",
       "    }\n",
       "</style>\n",
       "<table border=\"1\" class=\"dataframe\">\n",
       "  <thead>\n",
       "    <tr style=\"text-align: right;\">\n",
       "      <th></th>\n",
       "      <th>RIAGENDR</th>\n",
       "      <th>RIDAGEYR</th>\n",
       "      <th>RIDRETH1</th>\n",
       "      <th>BPXSY2</th>\n",
       "      <th>BMXBMI</th>\n",
       "    </tr>\n",
       "  </thead>\n",
       "  <tbody>\n",
       "    <tr>\n",
       "      <th>0</th>\n",
       "      <td>1</td>\n",
       "      <td>62</td>\n",
       "      <td>3</td>\n",
       "      <td>124.0</td>\n",
       "      <td>27.8</td>\n",
       "    </tr>\n",
       "    <tr>\n",
       "      <th>1</th>\n",
       "      <td>1</td>\n",
       "      <td>53</td>\n",
       "      <td>3</td>\n",
       "      <td>140.0</td>\n",
       "      <td>30.8</td>\n",
       "    </tr>\n",
       "    <tr>\n",
       "      <th>2</th>\n",
       "      <td>1</td>\n",
       "      <td>78</td>\n",
       "      <td>3</td>\n",
       "      <td>132.0</td>\n",
       "      <td>28.8</td>\n",
       "    </tr>\n",
       "    <tr>\n",
       "      <th>3</th>\n",
       "      <td>2</td>\n",
       "      <td>56</td>\n",
       "      <td>3</td>\n",
       "      <td>134.0</td>\n",
       "      <td>42.4</td>\n",
       "    </tr>\n",
       "    <tr>\n",
       "      <th>4</th>\n",
       "      <td>2</td>\n",
       "      <td>42</td>\n",
       "      <td>4</td>\n",
       "      <td>114.0</td>\n",
       "      <td>20.3</td>\n",
       "    </tr>\n",
       "  </tbody>\n",
       "</table>\n",
       "</div>"
      ],
      "text/plain": [
       "   RIAGENDR  RIDAGEYR  RIDRETH1  BPXSY2  BMXBMI\n",
       "0         1        62         3   124.0    27.8\n",
       "1         1        53         3   140.0    30.8\n",
       "2         1        78         3   132.0    28.8\n",
       "3         2        56         3   134.0    42.4\n",
       "4         2        42         4   114.0    20.3"
      ]
     },
     "execution_count": 20,
     "metadata": {},
     "output_type": "execute_result"
    }
   ],
   "source": [
    "nhanes.head()"
   ]
  },
  {
   "cell_type": "code",
   "execution_count": 21,
   "id": "5713e93c-8ce7-427e-9c9d-08261c2e8548",
   "metadata": {
    "execution": {
     "iopub.execute_input": "2023-07-09T01:59:56.528771Z",
     "iopub.status.busy": "2023-07-09T01:59:56.528771Z",
     "iopub.status.idle": "2023-07-09T01:59:56.539636Z",
     "shell.execute_reply": "2023-07-09T01:59:56.539636Z",
     "shell.execute_reply.started": "2023-07-09T01:59:56.528771Z"
    }
   },
   "outputs": [
    {
     "data": {
      "text/plain": [
       "RIAGENDR    0\n",
       "RIDAGEYR    0\n",
       "RIDRETH1    0\n",
       "BPXSY2      0\n",
       "BMXBMI      0\n",
       "dtype: int64"
      ]
     },
     "execution_count": 21,
     "metadata": {},
     "output_type": "execute_result"
    }
   ],
   "source": [
    "nhanes.isna().sum(axis = 0)"
   ]
  },
  {
   "cell_type": "code",
   "execution_count": 22,
   "id": "99be2b70-4b42-47ee-9b27-eeba433e023a",
   "metadata": {
    "execution": {
     "iopub.execute_input": "2023-07-09T02:00:02.134086Z",
     "iopub.status.busy": "2023-07-09T02:00:02.133079Z",
     "iopub.status.idle": "2023-07-09T02:00:02.138218Z",
     "shell.execute_reply": "2023-07-09T02:00:02.138218Z",
     "shell.execute_reply.started": "2023-07-09T02:00:02.134086Z"
    }
   },
   "outputs": [
    {
     "data": {
      "text/plain": [
       "(5478, 5)"
      ]
     },
     "execution_count": 22,
     "metadata": {},
     "output_type": "execute_result"
    }
   ],
   "source": [
    "nhanes.shape"
   ]
  },
  {
   "cell_type": "code",
   "execution_count": null,
   "id": "622db072-082c-48ac-aac1-ae4f9a956674",
   "metadata": {},
   "outputs": [],
   "source": []
  },
  {
   "cell_type": "markdown",
   "id": "9c079ec8-94c8-4d0f-9788-47b14c7e8429",
   "metadata": {},
   "source": [
    "## ___Q: What proportion of Non-Hispanic African Americans age 18+ in the US in 2015 - 2016 had a systolic blood pressure greater than 130 mmHg?___"
   ]
  },
  {
   "cell_type": "code",
   "execution_count": 84,
   "id": "44e64660-3330-4647-9662-f4dc593d64b9",
   "metadata": {
    "execution": {
     "iopub.execute_input": "2023-07-09T03:03:06.666517Z",
     "iopub.status.busy": "2023-07-09T03:03:06.666517Z",
     "iopub.status.idle": "2023-07-09T03:03:06.683767Z",
     "shell.execute_reply": "2023-07-09T03:03:06.683767Z",
     "shell.execute_reply.started": "2023-07-09T03:03:06.666517Z"
    }
   },
   "outputs": [],
   "source": [
    "bpress = nhanes.BPXSY2[(nhanes.RIDAGEYR >= 18) & (nhanes.RIDRETH1 == 4)]"
   ]
  },
  {
   "cell_type": "code",
   "execution_count": 85,
   "id": "f631079d-afd0-4f15-8b3c-1320a4474522",
   "metadata": {
    "execution": {
     "iopub.execute_input": "2023-07-09T03:03:07.052498Z",
     "iopub.status.busy": "2023-07-09T03:03:07.052498Z",
     "iopub.status.idle": "2023-07-09T03:03:07.058815Z",
     "shell.execute_reply": "2023-07-09T03:03:07.058815Z",
     "shell.execute_reply.started": "2023-07-09T03:03:07.052498Z"
    }
   },
   "outputs": [
    {
     "data": {
      "text/plain": [
       "1163"
      ]
     },
     "execution_count": 85,
     "metadata": {},
     "output_type": "execute_result"
    }
   ],
   "source": [
    "# Sample size\n",
    "\n",
    "ssize = bpress.size\n",
    "ssize"
   ]
  },
  {
   "cell_type": "code",
   "execution_count": 86,
   "id": "3eabb2f6-f6d2-410d-8766-2975b4629e13",
   "metadata": {
    "execution": {
     "iopub.execute_input": "2023-07-09T03:03:07.388138Z",
     "iopub.status.busy": "2023-07-09T03:03:07.388138Z",
     "iopub.status.idle": "2023-07-09T03:03:07.403039Z",
     "shell.execute_reply": "2023-07-09T03:03:07.403039Z",
     "shell.execute_reply.started": "2023-07-09T03:03:07.388138Z"
    }
   },
   "outputs": [
    {
     "data": {
      "text/plain": [
       "0.3757523645743766"
      ]
     },
     "execution_count": 86,
     "metadata": {},
     "output_type": "execute_result"
    }
   ],
   "source": [
    "# Confidence interval = best estimate +- margin of error\n",
    "\n",
    "# Best estimate is the proportion of Non-Hispanic Afrcian Americans aged 18+ in 2015 - 2016 in our sample, who has a systolic blood pressure above\n",
    "# 130 mmHg.\n",
    "\n",
    "best_est = (bpress > 130).mean()\n",
    "best_est"
   ]
  },
  {
   "cell_type": "code",
   "execution_count": 87,
   "id": "a82f26ae-3c36-44a9-96fc-bbd456fc740a",
   "metadata": {
    "execution": {
     "iopub.execute_input": "2023-07-09T03:03:07.639320Z",
     "iopub.status.busy": "2023-07-09T03:03:07.639320Z",
     "iopub.status.idle": "2023-07-09T03:03:07.658542Z",
     "shell.execute_reply": "2023-07-09T03:03:07.658542Z",
     "shell.execute_reply.started": "2023-07-09T03:03:07.639320Z"
    }
   },
   "outputs": [
    {
     "data": {
      "text/plain": [
       "0.01420167130425752"
      ]
     },
     "execution_count": 87,
     "metadata": {},
     "output_type": "execute_result"
    }
   ],
   "source": [
    "# margin of error = multiplier * standard error\n",
    "\n",
    "# Standard error of the population cannot be computed, so we'll use the sample's standard error.\n",
    "\n",
    "stderr = np.sqrt(best_est * (1 - best_est) / ssize)\n",
    "stderr"
   ]
  },
  {
   "cell_type": "code",
   "execution_count": 88,
   "id": "bcdf30fe-8acf-449a-9886-a209cfd2e03f",
   "metadata": {
    "execution": {
     "iopub.execute_input": "2023-07-09T03:03:07.827685Z",
     "iopub.status.busy": "2023-07-09T03:03:07.827685Z",
     "iopub.status.idle": "2023-07-09T03:03:07.914042Z",
     "shell.execute_reply": "2023-07-09T03:03:07.914042Z",
     "shell.execute_reply.started": "2023-07-09T03:03:07.827685Z"
    }
   },
   "outputs": [
    {
     "data": {
      "image/png": "[encoded data removed]",
      "text/plain": [
       "<Figure size 640x480 with 1 Axes>"
      ]
     },
     "metadata": {},
     "output_type": "display_data"
    }
   ],
   "source": [
    "# Since we are dealing with a proportion, our multiplier will be a z score.\n",
    "\n",
    "# At 95% confidence level,\n",
    "# We want a z score that will cover 95% of random normal values in a z (standard normal) distribution.\n",
    "# In other words, a z score that covers 95% of the area of the standard normal curve, cumulatively from both sides of z = 0 line.\n",
    "\n",
    "z = np.linspace(-5, 5, num = 1000)\n",
    "zpdfs = norm.pdf(z)\n",
    "\n",
    "fig, axes = plt.subplots()\n",
    "axes.plot(z, zpdfs, color = \"black\")\n",
    "ymin, ymax = axes.get_ybound()\n",
    "axes.vlines([-0.125, 0.125], ymin, ymax, color = \"red\")\n",
    "axes.fill_between(x = z, y1 = 0, y2 = zpdfs, where = (z <= -0.125) | (z >= 0.125), color = \"yellow\")\n",
    "plt.show()"
   ]
  },
  {
   "cell_type": "code",
   "execution_count": 89,
   "id": "7835a311-3233-4c70-8b7a-1711d49ec33f",
   "metadata": {
    "execution": {
     "iopub.execute_input": "2023-07-09T03:03:07.969603Z",
     "iopub.status.busy": "2023-07-09T03:03:07.969603Z",
     "iopub.status.idle": "2023-07-09T03:03:07.975408Z",
     "shell.execute_reply": "2023-07-09T03:03:07.975408Z",
     "shell.execute_reply.started": "2023-07-09T03:03:07.969603Z"
    }
   },
   "outputs": [],
   "source": [
    "# We need the z score corresponding to the red lines, when the area painted in yellow is 0.95 (95%) of the AUC!.\n",
    "\n",
    "# What is the fraction of the area, flanked on left by the left red line?\n",
    "# The curve is symmetric, and the two yellow regions have the same area.\n",
    "\n",
    "# p = 2 * (1 - cdf(abs(zstat)))\n",
    "# For Null hypothesis to be ture, p at least needs to be 0.05\n",
    "\n",
    "# 0.05 = 2 * (1 - cdf(abs(zstat)))"
   ]
  },
  {
   "cell_type": "code",
   "execution_count": 90,
   "id": "3755f03e-73cc-48d5-9ca2-b16cef432fd2",
   "metadata": {
    "execution": {
     "iopub.execute_input": "2023-07-09T03:03:08.110929Z",
     "iopub.status.busy": "2023-07-09T03:03:08.110929Z",
     "iopub.status.idle": "2023-07-09T03:03:08.120480Z",
     "shell.execute_reply": "2023-07-09T03:03:08.120480Z",
     "shell.execute_reply.started": "2023-07-09T03:03:08.110929Z"
    }
   },
   "outputs": [
    {
     "data": {
      "text/plain": [
       "0.975"
      ]
     },
     "execution_count": 90,
     "metadata": {},
     "output_type": "execute_result"
    }
   ],
   "source": [
    "dens = 1 - (0.05 / 2)\n",
    "dens"
   ]
  },
  {
   "cell_type": "code",
   "execution_count": 91,
   "id": "67cd72f9-4d72-4b89-9694-285ff7608d49",
   "metadata": {
    "execution": {
     "iopub.execute_input": "2023-07-09T03:03:08.284280Z",
     "iopub.status.busy": "2023-07-09T03:03:08.284280Z",
     "iopub.status.idle": "2023-07-09T03:03:08.299966Z",
     "shell.execute_reply": "2023-07-09T03:03:08.298943Z",
     "shell.execute_reply.started": "2023-07-09T03:03:08.284280Z"
    }
   },
   "outputs": [
    {
     "data": {
      "text/plain": [
       "1.959963984540054"
      ]
     },
     "execution_count": 91,
     "metadata": {},
     "output_type": "execute_result"
    }
   ],
   "source": [
    "zstat = norm.ppf(dens)\n",
    "zstat"
   ]
  },
  {
   "cell_type": "code",
   "execution_count": 92,
   "id": "b92b9545-d091-4f24-900f-6c78e3d6acc6",
   "metadata": {
    "execution": {
     "iopub.execute_input": "2023-07-09T03:03:08.620189Z",
     "iopub.status.busy": "2023-07-09T03:03:08.620189Z",
     "iopub.status.idle": "2023-07-09T03:03:08.627050Z",
     "shell.execute_reply": "2023-07-09T03:03:08.626036Z",
     "shell.execute_reply.started": "2023-07-09T03:03:08.620189Z"
    }
   },
   "outputs": [
    {
     "data": {
      "text/plain": [
       "0.027834764276620714"
      ]
     },
     "execution_count": 92,
     "metadata": {},
     "output_type": "execute_result"
    }
   ],
   "source": [
    "moerr = zstat * stderr\n",
    "moerr"
   ]
  },
  {
   "cell_type": "code",
   "execution_count": 93,
   "id": "dbe2dd8d-bb7f-4d8b-9f7e-e5c28f667906",
   "metadata": {
    "execution": {
     "iopub.execute_input": "2023-07-09T03:03:08.897783Z",
     "iopub.status.busy": "2023-07-09T03:03:08.897783Z",
     "iopub.status.idle": "2023-07-09T03:03:08.907639Z",
     "shell.execute_reply": "2023-07-09T03:03:08.907639Z",
     "shell.execute_reply.started": "2023-07-09T03:03:08.897783Z"
    }
   },
   "outputs": [
    {
     "data": {
      "text/plain": [
       "(0.34791760029775587, 0.40358712885099735)"
      ]
     },
     "execution_count": 93,
     "metadata": {},
     "output_type": "execute_result"
    }
   ],
   "source": [
    "# 95% confidence interval\n",
    "\n",
    "lcb, ucb = best_est - moerr, best_est + moerr\n",
    "lcb, ucb"
   ]
  },
  {
   "cell_type": "code",
   "execution_count": 94,
   "id": "5b122e2e-ae52-42f0-9eb9-7cf6342d3fb3",
   "metadata": {
    "execution": {
     "iopub.execute_input": "2023-07-09T03:03:09.117041Z",
     "iopub.status.busy": "2023-07-09T03:03:09.117041Z",
     "iopub.status.idle": "2023-07-09T03:03:09.122239Z",
     "shell.execute_reply": "2023-07-09T03:03:09.122239Z",
     "shell.execute_reply.started": "2023-07-09T03:03:09.117041Z"
    }
   },
   "outputs": [
    {
     "name": "stdout",
     "output_type": "stream",
     "text": [
      "We state that the population proportion of non-Hispanic 18+ aged African Americans, living in USA between 2015 - 2016 with a systolic blood pressure above 130 mmHg falls between 34.7918 % and 40.3587 % with 95% confidence\n"
     ]
    }
   ],
   "source": [
    "print(f\"We state that the population proportion of non-Hispanic 18+ aged African Americans, living in USA between 2015 - 2016 with a systolic blood \\\n",
    "pressure above 130 mmHg falls between {lcb * 100:.4f} % and {ucb * 100:.4f} % with 95% confidence\")"
   ]
  },
  {
   "cell_type": "code",
   "execution_count": 95,
   "id": "cbd21e6b-290f-447d-bbe7-c01dad6812ef",
   "metadata": {
    "execution": {
     "iopub.execute_input": "2023-07-09T03:03:09.446610Z",
     "iopub.status.busy": "2023-07-09T03:03:09.446610Z",
     "iopub.status.idle": "2023-07-09T03:03:09.455487Z",
     "shell.execute_reply": "2023-07-09T03:03:09.455381Z",
     "shell.execute_reply.started": "2023-07-09T03:03:09.446610Z"
    }
   },
   "outputs": [],
   "source": [
    "# What does this 95% con fidence interval mean?\n",
    "\n",
    "# Out of 100 confidence intervals formulated using 100 different same sized samples as this, 95 of them will cover the true population proportion."
   ]
  },
  {
   "cell_type": "code",
   "execution_count": null,
   "id": "6b3566a6-80c1-4eee-8083-58cdc004ccdd",
   "metadata": {},
   "outputs": [],
   "source": []
  },
  {
   "cell_type": "markdown",
   "id": "9a55c974-f5de-4e67-aedc-d5776bc1f0b6",
   "metadata": {},
   "source": [
    "## ___Q. What is the Mean Systolic Blood Pressure for Non-Hispanic African American adults (18+), living in US, between 2015 - 2016?___"
   ]
  },
  {
   "cell_type": "code",
   "execution_count": 96,
   "id": "f3b8e63f-23c3-429d-8254-b92a3f2f055a",
   "metadata": {
    "execution": {
     "iopub.execute_input": "2023-07-09T03:03:20.350113Z",
     "iopub.status.busy": "2023-07-09T03:03:20.350113Z",
     "iopub.status.idle": "2023-07-09T03:03:20.356216Z",
     "shell.execute_reply": "2023-07-09T03:03:20.356103Z",
     "shell.execute_reply.started": "2023-07-09T03:03:20.350113Z"
    }
   },
   "outputs": [
    {
     "data": {
      "text/plain": [
       "128.1324161650903"
      ]
     },
     "execution_count": 96,
     "metadata": {},
     "output_type": "execute_result"
    }
   ],
   "source": [
    "# Our best estimate is the sample mean.\n",
    "\n",
    "best_est = bpress.mean()\n",
    "best_est"
   ]
  },
  {
   "cell_type": "code",
   "execution_count": 97,
   "id": "f50ded09-3b16-4a25-9bb6-6f0fb2ce92ac",
   "metadata": {
    "execution": {
     "iopub.execute_input": "2023-07-09T03:03:24.395889Z",
     "iopub.status.busy": "2023-07-09T03:03:24.395889Z",
     "iopub.status.idle": "2023-07-09T03:03:24.411105Z",
     "shell.execute_reply": "2023-07-09T03:03:24.411105Z",
     "shell.execute_reply.started": "2023-07-09T03:03:24.395889Z"
    }
   },
   "outputs": [
    {
     "data": {
      "text/plain": [
       "0.975"
      ]
     },
     "execution_count": 97,
     "metadata": {},
     "output_type": "execute_result"
    }
   ],
   "source": [
    "# Confidence interval = best estimate +- margin of error\n",
    "# Margin of error = multiplier * standard error\n",
    "\n",
    "# Since we are dealing with means, we'll use the t multiplier.\n",
    "# At 95% confidence level, significance is 0.05 (5%)\n",
    "\n",
    "# For the Null hypothesis to remain valid, the minimum value p can take is 0.05\n",
    "# p = 2 * (1 - cdf(abs(tstat)))\n",
    "\n",
    "tstat = 1 - (0.05 / 2)\n",
    "tstat"
   ]
  },
  {
   "cell_type": "code",
   "execution_count": 98,
   "id": "7bc53cd8-de48-455d-8d6d-b689cc0a536a",
   "metadata": {
    "execution": {
     "iopub.execute_input": "2023-07-09T03:03:24.740536Z",
     "iopub.status.busy": "2023-07-09T03:03:24.740536Z",
     "iopub.status.idle": "2023-07-09T03:03:24.755915Z",
     "shell.execute_reply": "2023-07-09T03:03:24.755915Z",
     "shell.execute_reply.started": "2023-07-09T03:03:24.740536Z"
    }
   },
   "outputs": [
    {
     "data": {
      "text/plain": [
       "1.962007618038093"
      ]
     },
     "execution_count": 98,
     "metadata": {},
     "output_type": "execute_result"
    }
   ],
   "source": [
    "tscore = t.ppf(tstat, df = ssize - 1)\n",
    "tscore"
   ]
  },
  {
   "cell_type": "code",
   "execution_count": 99,
   "id": "58e57a1a-c873-4f4e-bc2e-077a9251af7c",
   "metadata": {
    "execution": {
     "iopub.execute_input": "2023-07-09T03:03:25.288985Z",
     "iopub.status.busy": "2023-07-09T03:03:25.288985Z",
     "iopub.status.idle": "2023-07-09T03:03:25.306773Z",
     "shell.execute_reply": "2023-07-09T03:03:25.306708Z",
     "shell.execute_reply.started": "2023-07-09T03:03:25.288985Z"
    }
   },
   "outputs": [
    {
     "data": {
      "text/plain": [
       "0.5791999165609172"
      ]
     },
     "execution_count": 99,
     "metadata": {},
     "output_type": "execute_result"
    }
   ],
   "source": [
    "stderr = bpress.std() / np.sqrt(ssize)\n",
    "stderr"
   ]
  },
  {
   "cell_type": "code",
   "execution_count": 100,
   "id": "60209bad-420d-4a17-bf83-6b4796ab1338",
   "metadata": {
    "execution": {
     "iopub.execute_input": "2023-07-09T03:03:25.712868Z",
     "iopub.status.busy": "2023-07-09T03:03:25.712868Z",
     "iopub.status.idle": "2023-07-09T03:03:25.722590Z",
     "shell.execute_reply": "2023-07-09T03:03:25.722590Z",
     "shell.execute_reply.started": "2023-07-09T03:03:25.712868Z"
    }
   },
   "outputs": [
    {
     "data": {
      "text/plain": [
       "1.1363946486595473"
      ]
     },
     "execution_count": 100,
     "metadata": {},
     "output_type": "execute_result"
    }
   ],
   "source": [
    "moerr = tscore * stderr\n",
    "moerr"
   ]
  },
  {
   "cell_type": "code",
   "execution_count": 101,
   "id": "2e9f4594-6562-419f-b373-1aa57fbf6188",
   "metadata": {
    "execution": {
     "iopub.execute_input": "2023-07-09T03:03:30.545827Z",
     "iopub.status.busy": "2023-07-09T03:03:30.545827Z",
     "iopub.status.idle": "2023-07-09T03:03:30.555143Z",
     "shell.execute_reply": "2023-07-09T03:03:30.555143Z",
     "shell.execute_reply.started": "2023-07-09T03:03:30.545827Z"
    }
   },
   "outputs": [
    {
     "data": {
      "text/plain": [
       "(126.99602151643074, 129.26881081374984)"
      ]
     },
     "execution_count": 101,
     "metadata": {},
     "output_type": "execute_result"
    }
   ],
   "source": [
    "# 95% confidence interval,\n",
    "\n",
    "lcb, ucb = best_est - moerr, best_est + moerr\n",
    "lcb, ucb"
   ]
  },
  {
   "cell_type": "code",
   "execution_count": 106,
   "id": "b2bde20c-be39-4e26-886b-2dc9cb233c65",
   "metadata": {
    "execution": {
     "iopub.execute_input": "2023-07-09T03:05:07.903449Z",
     "iopub.status.busy": "2023-07-09T03:05:07.903449Z",
     "iopub.status.idle": "2023-07-09T03:05:07.910159Z",
     "shell.execute_reply": "2023-07-09T03:05:07.909641Z",
     "shell.execute_reply.started": "2023-07-09T03:05:07.903449Z"
    }
   },
   "outputs": [
    {
     "name": "stdout",
     "output_type": "stream",
     "text": [
      "We state that the population mean blood pressure of non-Hispanic 18+ aged African Americans, living in USA between 2015 - 2016 falls between 126.9960 mmHg and 129.2688 mmHg with 95% confidence.\n"
     ]
    }
   ],
   "source": [
    "print(f\"We state that the population mean blood pressure of non-Hispanic 18+ aged African Americans, living in USA between 2015 - 2016 \\\n",
    "falls between {lcb:.4f} mmHg and {ucb:.4f} mmHg with 95% confidence.\")"
   ]
  },
  {
   "cell_type": "code",
   "execution_count": null,
   "id": "417008ef-e934-4e48-b2bf-dbab6e7473d4",
   "metadata": {},
   "outputs": [],
   "source": []
  }
 ],
 "metadata": {
  "kernelspec": {
   "display_name": "Python 3 (ipykernel)",
   "language": "python",
   "name": "python3"
  },
  "language_info": {
   "codemirror_mode": {
    "name": "ipython",
    "version": 3
   },
   "file_extension": ".py",
   "mimetype": "text/x-python",
   "name": "python",
   "nbconvert_exporter": "python",
   "pygments_lexer": "ipython3",
   "version": "3.11.4"
  }
 },
 "nbformat": 4,
 "nbformat_minor": 5
}
