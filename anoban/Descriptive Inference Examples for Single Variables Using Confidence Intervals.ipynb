{
 "cells": [
  {
   "cell_type": "code",
   "execution_count": 2,
   "id": "60cda7ac-1f54-4772-8113-5801cd4f11ca",
   "metadata": {
    "execution": {
     "iopub.execute_input": "2023-07-09T08:17:29.880166Z",
     "iopub.status.busy": "2023-07-09T08:17:29.880166Z",
     "iopub.status.idle": "2023-07-09T08:17:31.150403Z",
     "shell.execute_reply": "2023-07-09T08:17:31.149889Z",
     "shell.execute_reply.started": "2023-07-09T08:17:29.880166Z"
    }
   },
   "outputs": [],
   "source": [
    "import pandas as pd\n",
    "import numpy as np\n",
    "import matplotlib.pyplot as plt\n",
    "from scipy.stats import (t, norm, ttest_ind)"
   ]
  },
  {
   "cell_type": "markdown",
   "id": "c2266daa-30b7-4e06-8ce0-e389cd6b53de",
   "metadata": {},
   "source": [
    "# ___Descriptive Inference Examples for Single Variables Using Confidence Intervals___\n",
    "----------------"
   ]
  },
  {
   "cell_type": "code",
   "execution_count": 3,
   "id": "493b53ee-cc9d-4b39-9254-1b5e0200f9d3",
   "metadata": {
    "execution": {
     "iopub.execute_input": "2023-07-09T08:17:31.961744Z",
     "iopub.status.busy": "2023-07-09T08:17:31.961744Z",
     "iopub.status.idle": "2023-07-09T08:17:31.972295Z",
     "shell.execute_reply": "2023-07-09T08:17:31.971762Z",
     "shell.execute_reply.started": "2023-07-09T08:17:31.961744Z"
    }
   },
   "outputs": [],
   "source": [
    "# !type \"..\\data\\nhanes_2015_2016.csv\" -L 5"
   ]
  },
  {
   "cell_type": "code",
   "execution_count": 4,
   "id": "f695fddf-2c6e-488b-a420-42cc2f1e9a22",
   "metadata": {
    "execution": {
     "iopub.execute_input": "2023-07-09T08:17:32.350677Z",
     "iopub.status.busy": "2023-07-09T08:17:32.350677Z",
     "iopub.status.idle": "2023-07-09T08:17:32.369175Z",
     "shell.execute_reply": "2023-07-09T08:17:32.368620Z",
     "shell.execute_reply.started": "2023-07-09T08:17:32.350677Z"
    }
   },
   "outputs": [],
   "source": [
    "nhanes = pd.read_csv(\"../data/nhanes_2015_2016.csv\", usecols = [\"RIDRETH1\", \"RIAGENDR\", \"RIDAGEYR\", \"BMXBMI\", \"BPXSY2\"]).dropna(axis = 0)"
   ]
  },
  {
   "cell_type": "code",
   "execution_count": 5,
   "id": "49102133-c0b7-4e2a-8025-1fe6f8f718db",
   "metadata": {
    "execution": {
     "iopub.execute_input": "2023-07-09T08:17:33.109437Z",
     "iopub.status.busy": "2023-07-09T08:17:33.109437Z",
     "iopub.status.idle": "2023-07-09T08:17:33.119055Z",
     "shell.execute_reply": "2023-07-09T08:17:33.118955Z",
     "shell.execute_reply.started": "2023-07-09T08:17:33.109437Z"
    }
   },
   "outputs": [
    {
     "data": {
      "text/plain": [
       "Index(['RIAGENDR', 'RIDAGEYR', 'RIDRETH1', 'BPXSY2', 'BMXBMI'], dtype='object')"
      ]
     },
     "execution_count": 5,
     "metadata": {},
     "output_type": "execute_result"
    }
   ],
   "source": [
    "nhanes.columns"
   ]
  },
  {
   "cell_type": "markdown",
   "id": "0592ad32-ea28-424e-a6de-ee5c660e5283",
   "metadata": {},
   "source": [
    "#### __RIDRETH1__\n",
    "-------------\n",
    "\n",
    "1. Mexican American         \n",
    "2. Other Hispanic          \n",
    "3. Non-Hispanic White          \n",
    "4. Non-Hispanic Black       \n",
    "5. Other Race - Including Multi-Racial           "
   ]
  },
  {
   "cell_type": "code",
   "execution_count": 6,
   "id": "08699a54-5d87-4efe-a28a-b608ba3b5e09",
   "metadata": {
    "execution": {
     "iopub.execute_input": "2023-07-09T08:17:35.850501Z",
     "iopub.status.busy": "2023-07-09T08:17:35.850501Z",
     "iopub.status.idle": "2023-07-09T08:17:35.870833Z",
     "shell.execute_reply": "2023-07-09T08:17:35.870833Z",
     "shell.execute_reply.started": "2023-07-09T08:17:35.850501Z"
    }
   },
   "outputs": [
    {
     "data": {
      "text/html": [
       "<div>\n",
       "<style scoped>\n",
       "    .dataframe tbody tr th:only-of-type {\n",
       "        vertical-align: middle;\n",
       "    }\n",
       "\n",
       "    .dataframe tbody tr th {\n",
       "        vertical-align: top;\n",
       "    }\n",
       "\n",
       "    .dataframe thead th {\n",
       "        text-align: right;\n",
       "    }\n",
       "</style>\n",
       "<table border=\"1\" class=\"dataframe\">\n",
       "  <thead>\n",
       "    <tr style=\"text-align: right;\">\n",
       "      <th></th>\n",
       "      <th>RIAGENDR</th>\n",
       "      <th>RIDAGEYR</th>\n",
       "      <th>RIDRETH1</th>\n",
       "      <th>BPXSY2</th>\n",
       "      <th>BMXBMI</th>\n",
       "    </tr>\n",
       "  </thead>\n",
       "  <tbody>\n",
       "    <tr>\n",
       "      <th>0</th>\n",
       "      <td>1</td>\n",
       "      <td>62</td>\n",
       "      <td>3</td>\n",
       "      <td>124.0</td>\n",
       "      <td>27.8</td>\n",
       "    </tr>\n",
       "    <tr>\n",
       "      <th>1</th>\n",
       "      <td>1</td>\n",
       "      <td>53</td>\n",
       "      <td>3</td>\n",
       "      <td>140.0</td>\n",
       "      <td>30.8</td>\n",
       "    </tr>\n",
       "    <tr>\n",
       "      <th>2</th>\n",
       "      <td>1</td>\n",
       "      <td>78</td>\n",
       "      <td>3</td>\n",
       "      <td>132.0</td>\n",
       "      <td>28.8</td>\n",
       "    </tr>\n",
       "    <tr>\n",
       "      <th>3</th>\n",
       "      <td>2</td>\n",
       "      <td>56</td>\n",
       "      <td>3</td>\n",
       "      <td>134.0</td>\n",
       "      <td>42.4</td>\n",
       "    </tr>\n",
       "    <tr>\n",
       "      <th>4</th>\n",
       "      <td>2</td>\n",
       "      <td>42</td>\n",
       "      <td>4</td>\n",
       "      <td>114.0</td>\n",
       "      <td>20.3</td>\n",
       "    </tr>\n",
       "  </tbody>\n",
       "</table>\n",
       "</div>"
      ],
      "text/plain": [
       "   RIAGENDR  RIDAGEYR  RIDRETH1  BPXSY2  BMXBMI\n",
       "0         1        62         3   124.0    27.8\n",
       "1         1        53         3   140.0    30.8\n",
       "2         1        78         3   132.0    28.8\n",
       "3         2        56         3   134.0    42.4\n",
       "4         2        42         4   114.0    20.3"
      ]
     },
     "execution_count": 6,
     "metadata": {},
     "output_type": "execute_result"
    }
   ],
   "source": [
    "nhanes.head()"
   ]
  },
  {
   "cell_type": "code",
   "execution_count": 7,
   "id": "5713e93c-8ce7-427e-9c9d-08261c2e8548",
   "metadata": {
    "execution": {
     "iopub.execute_input": "2023-07-09T08:17:36.431997Z",
     "iopub.status.busy": "2023-07-09T08:17:36.431997Z",
     "iopub.status.idle": "2023-07-09T08:17:36.439853Z",
     "shell.execute_reply": "2023-07-09T08:17:36.439343Z",
     "shell.execute_reply.started": "2023-07-09T08:17:36.431997Z"
    }
   },
   "outputs": [
    {
     "data": {
      "text/plain": [
       "RIAGENDR    0\n",
       "RIDAGEYR    0\n",
       "RIDRETH1    0\n",
       "BPXSY2      0\n",
       "BMXBMI      0\n",
       "dtype: int64"
      ]
     },
     "execution_count": 7,
     "metadata": {},
     "output_type": "execute_result"
    }
   ],
   "source": [
    "nhanes.isna().sum(axis = 0)"
   ]
  },
  {
   "cell_type": "code",
   "execution_count": 8,
   "id": "99be2b70-4b42-47ee-9b27-eeba433e023a",
   "metadata": {
    "execution": {
     "iopub.execute_input": "2023-07-09T08:17:36.856583Z",
     "iopub.status.busy": "2023-07-09T08:17:36.841098Z",
     "iopub.status.idle": "2023-07-09T08:17:36.862533Z",
     "shell.execute_reply": "2023-07-09T08:17:36.862533Z",
     "shell.execute_reply.started": "2023-07-09T08:17:36.856583Z"
    }
   },
   "outputs": [
    {
     "data": {
      "text/plain": [
       "(5478, 5)"
      ]
     },
     "execution_count": 8,
     "metadata": {},
     "output_type": "execute_result"
    }
   ],
   "source": [
    "nhanes.shape"
   ]
  },
  {
   "cell_type": "code",
   "execution_count": null,
   "id": "622db072-082c-48ac-aac1-ae4f9a956674",
   "metadata": {},
   "outputs": [],
   "source": []
  },
  {
   "cell_type": "markdown",
   "id": "9c079ec8-94c8-4d0f-9788-47b14c7e8429",
   "metadata": {},
   "source": [
    "## ___Q: What proportion of Non-Hispanic African Americans age 18+ in the US in 2015 - 2016 had a systolic blood pressure greater than 130 mmHg?___"
   ]
  },
  {
   "cell_type": "code",
   "execution_count": 9,
   "id": "44e64660-3330-4647-9662-f4dc593d64b9",
   "metadata": {
    "execution": {
     "iopub.execute_input": "2023-07-09T08:17:38.538152Z",
     "iopub.status.busy": "2023-07-09T08:17:38.538152Z",
     "iopub.status.idle": "2023-07-09T08:17:38.549009Z",
     "shell.execute_reply": "2023-07-09T08:17:38.549009Z",
     "shell.execute_reply.started": "2023-07-09T08:17:38.538152Z"
    }
   },
   "outputs": [],
   "source": [
    "bpress = nhanes.BPXSY2[(nhanes.RIDAGEYR > 18) & (nhanes.RIDRETH1 == 4)]"
   ]
  },
  {
   "cell_type": "code",
   "execution_count": 10,
   "id": "f631079d-afd0-4f15-8b3c-1320a4474522",
   "metadata": {
    "execution": {
     "iopub.execute_input": "2023-07-09T08:17:39.510647Z",
     "iopub.status.busy": "2023-07-09T08:17:39.510647Z",
     "iopub.status.idle": "2023-07-09T08:17:39.518574Z",
     "shell.execute_reply": "2023-07-09T08:17:39.518574Z",
     "shell.execute_reply.started": "2023-07-09T08:17:39.510647Z"
    }
   },
   "outputs": [
    {
     "data": {
      "text/plain": [
       "1126"
      ]
     },
     "execution_count": 10,
     "metadata": {},
     "output_type": "execute_result"
    }
   ],
   "source": [
    "# Sample size\n",
    "\n",
    "ssize = bpress.size\n",
    "ssize"
   ]
  },
  {
   "cell_type": "code",
   "execution_count": 11,
   "id": "3eabb2f6-f6d2-410d-8766-2975b4629e13",
   "metadata": {
    "execution": {
     "iopub.execute_input": "2023-07-09T08:17:43.631906Z",
     "iopub.status.busy": "2023-07-09T08:17:43.631906Z",
     "iopub.status.idle": "2023-07-09T08:17:43.639111Z",
     "shell.execute_reply": "2023-07-09T08:17:43.639111Z",
     "shell.execute_reply.started": "2023-07-09T08:17:43.631906Z"
    }
   },
   "outputs": [
    {
     "data": {
      "text/plain": [
       "0.38543516873889877"
      ]
     },
     "execution_count": 11,
     "metadata": {},
     "output_type": "execute_result"
    }
   ],
   "source": [
    "# Confidence interval = best estimate +- margin of error\n",
    "\n",
    "# Best estimate is the proportion of Non-Hispanic Afrcian Americans aged 18+ in 2015 - 2016 in our sample, who has a systolic blood pressure above\n",
    "# 130 mmHg.\n",
    "\n",
    "best_est = (bpress > 130).mean()\n",
    "best_est"
   ]
  },
  {
   "cell_type": "code",
   "execution_count": 12,
   "id": "a82f26ae-3c36-44a9-96fc-bbd456fc740a",
   "metadata": {
    "execution": {
     "iopub.execute_input": "2023-07-09T08:17:44.949322Z",
     "iopub.status.busy": "2023-07-09T08:17:44.949322Z",
     "iopub.status.idle": "2023-07-09T08:17:44.958445Z",
     "shell.execute_reply": "2023-07-09T08:17:44.958339Z",
     "shell.execute_reply.started": "2023-07-09T08:17:44.949322Z"
    }
   },
   "outputs": [
    {
     "data": {
      "text/plain": [
       "0.014504084665014442"
      ]
     },
     "execution_count": 12,
     "metadata": {},
     "output_type": "execute_result"
    }
   ],
   "source": [
    "# margin of error = multiplier * standard error\n",
    "\n",
    "# Standard error of the population cannot be computed, so we'll use the sample's standard error.\n",
    "\n",
    "stderr = np.sqrt(best_est * (1 - best_est) / ssize)\n",
    "stderr"
   ]
  },
  {
   "cell_type": "code",
   "execution_count": 13,
   "id": "bcdf30fe-8acf-449a-9886-a209cfd2e03f",
   "metadata": {
    "execution": {
     "iopub.execute_input": "2023-07-09T08:17:45.702213Z",
     "iopub.status.busy": "2023-07-09T08:17:45.702213Z",
     "iopub.status.idle": "2023-07-09T08:17:45.852290Z",
     "shell.execute_reply": "2023-07-09T08:17:45.852290Z",
     "shell.execute_reply.started": "2023-07-09T08:17:45.702213Z"
    }
   },
   "outputs": [
    {
     "data": {
      "image/png": "[encoded data removed]",
      "text/plain": [
       "<Figure size 640x480 with 1 Axes>"
      ]
     },
     "metadata": {},
     "output_type": "display_data"
    }
   ],
   "source": [
    "# Since we are dealing with a proportion, our multiplier will be a z score.\n",
    "\n",
    "# At 95% confidence level,\n",
    "# We want a z score that will cover 95% of random normal values in a z (standard normal) distribution.\n",
    "# In other words, a z score that covers 95% of the area of the standard normal curve, cumulatively from both sides of z = 0 line.\n",
    "\n",
    "z = np.linspace(-5, 5, num = 1000)\n",
    "zpdfs = norm.pdf(z)\n",
    "\n",
    "fig, axes = plt.subplots()\n",
    "axes.plot(z, zpdfs, color = \"black\")\n",
    "ymin, ymax = axes.get_ybound()\n",
    "axes.vlines([-0.125, 0.125], ymin, ymax, color = \"red\")\n",
    "axes.fill_between(x = z, y1 = 0, y2 = zpdfs, where = (z <= -0.125) | (z >= 0.125), color = \"yellow\")\n",
    "plt.show()"
   ]
  },
  {
   "cell_type": "code",
   "execution_count": 14,
   "id": "7835a311-3233-4c70-8b7a-1711d49ec33f",
   "metadata": {
    "execution": {
     "iopub.execute_input": "2023-07-09T08:17:48.087841Z",
     "iopub.status.busy": "2023-07-09T08:17:48.087841Z",
     "iopub.status.idle": "2023-07-09T08:17:48.095260Z",
     "shell.execute_reply": "2023-07-09T08:17:48.095189Z",
     "shell.execute_reply.started": "2023-07-09T08:17:48.087841Z"
    }
   },
   "outputs": [],
   "source": [
    "# We need the z score corresponding to the red lines, when the area painted in yellow is 0.95 (95%) of the AUC!.\n",
    "\n",
    "# What is the fraction of the area, flanked on left by the left red line?\n",
    "# The curve is symmetric, and the two yellow regions have the same area.\n",
    "\n",
    "# p = 2 * (1 - cdf(abs(zstat)))\n",
    "# For Null hypothesis to be ture, p at least needs to be 0.05\n",
    "\n",
    "# 0.05 = 2 * (1 - cdf(abs(zstat)))"
   ]
  },
  {
   "cell_type": "code",
   "execution_count": 15,
   "id": "3755f03e-73cc-48d5-9ca2-b16cef432fd2",
   "metadata": {
    "execution": {
     "iopub.execute_input": "2023-07-09T08:17:48.669798Z",
     "iopub.status.busy": "2023-07-09T08:17:48.669798Z",
     "iopub.status.idle": "2023-07-09T08:17:48.686324Z",
     "shell.execute_reply": "2023-07-09T08:17:48.686324Z",
     "shell.execute_reply.started": "2023-07-09T08:17:48.669798Z"
    }
   },
   "outputs": [
    {
     "data": {
      "text/plain": [
       "0.975"
      ]
     },
     "execution_count": 15,
     "metadata": {},
     "output_type": "execute_result"
    }
   ],
   "source": [
    "dens = 1 - (0.05 / 2)\n",
    "dens"
   ]
  },
  {
   "cell_type": "code",
   "execution_count": 16,
   "id": "67cd72f9-4d72-4b89-9694-285ff7608d49",
   "metadata": {
    "execution": {
     "iopub.execute_input": "2023-07-09T08:17:50.316382Z",
     "iopub.status.busy": "2023-07-09T08:17:50.316382Z",
     "iopub.status.idle": "2023-07-09T08:17:50.334037Z",
     "shell.execute_reply": "2023-07-09T08:17:50.333960Z",
     "shell.execute_reply.started": "2023-07-09T08:17:50.316382Z"
    }
   },
   "outputs": [
    {
     "data": {
      "text/plain": [
       "1.959963984540054"
      ]
     },
     "execution_count": 16,
     "metadata": {},
     "output_type": "execute_result"
    }
   ],
   "source": [
    "zstat = norm.ppf(dens)\n",
    "zstat"
   ]
  },
  {
   "cell_type": "code",
   "execution_count": 17,
   "id": "b92b9545-d091-4f24-900f-6c78e3d6acc6",
   "metadata": {
    "execution": {
     "iopub.execute_input": "2023-07-09T08:17:51.008355Z",
     "iopub.status.busy": "2023-07-09T08:17:50.992834Z",
     "iopub.status.idle": "2023-07-09T08:17:51.013176Z",
     "shell.execute_reply": "2023-07-09T08:17:51.013176Z",
     "shell.execute_reply.started": "2023-07-09T08:17:51.008355Z"
    }
   },
   "outputs": [
    {
     "data": {
      "text/plain": [
       "0.028427483572148"
      ]
     },
     "execution_count": 17,
     "metadata": {},
     "output_type": "execute_result"
    }
   ],
   "source": [
    "moerr = zstat * stderr\n",
    "moerr"
   ]
  },
  {
   "cell_type": "code",
   "execution_count": 18,
   "id": "dbe2dd8d-bb7f-4d8b-9f7e-e5c28f667906",
   "metadata": {
    "execution": {
     "iopub.execute_input": "2023-07-09T08:17:52.000336Z",
     "iopub.status.busy": "2023-07-09T08:17:52.000336Z",
     "iopub.status.idle": "2023-07-09T08:17:52.004430Z",
     "shell.execute_reply": "2023-07-09T08:17:52.004430Z",
     "shell.execute_reply.started": "2023-07-09T08:17:52.000336Z"
    }
   },
   "outputs": [
    {
     "data": {
      "text/plain": [
       "(0.35700768516675074, 0.4138626523110468)"
      ]
     },
     "execution_count": 18,
     "metadata": {},
     "output_type": "execute_result"
    }
   ],
   "source": [
    "# 95% confidence interval\n",
    "\n",
    "lcb, ucb = best_est - moerr, best_est + moerr\n",
    "lcb, ucb"
   ]
  },
  {
   "cell_type": "code",
   "execution_count": 19,
   "id": "5b122e2e-ae52-42f0-9eb9-7cf6342d3fb3",
   "metadata": {
    "execution": {
     "iopub.execute_input": "2023-07-09T08:17:53.269046Z",
     "iopub.status.busy": "2023-07-09T08:17:53.269046Z",
     "iopub.status.idle": "2023-07-09T08:17:53.288578Z",
     "shell.execute_reply": "2023-07-09T08:17:53.288578Z",
     "shell.execute_reply.started": "2023-07-09T08:17:53.269046Z"
    }
   },
   "outputs": [
    {
     "name": "stdout",
     "output_type": "stream",
     "text": [
      "We state that the population proportion of non-Hispanic 18+ aged African Americans, living in USA between 2015 - 2016 with a systolic blood pressure above 130 mmHg falls between 35.7008 % and 41.3863 % with 95% confidence\n"
     ]
    }
   ],
   "source": [
    "print(f\"We state that the population proportion of non-Hispanic 18+ aged African Americans, living in USA between 2015 - 2016 with a systolic blood \\\n",
    "pressure above 130 mmHg falls between {lcb * 100:.4f} % and {ucb * 100:.4f} % with 95% confidence\")"
   ]
  },
  {
   "cell_type": "code",
   "execution_count": 20,
   "id": "cbd21e6b-290f-447d-bbe7-c01dad6812ef",
   "metadata": {
    "execution": {
     "iopub.execute_input": "2023-07-09T08:17:53.881774Z",
     "iopub.status.busy": "2023-07-09T08:17:53.881774Z",
     "iopub.status.idle": "2023-07-09T08:17:53.892242Z",
     "shell.execute_reply": "2023-07-09T08:17:53.890880Z",
     "shell.execute_reply.started": "2023-07-09T08:17:53.881774Z"
    }
   },
   "outputs": [],
   "source": [
    "# What does this 95% con fidence interval mean?\n",
    "\n",
    "# Out of 100 confidence intervals formulated using 100 different same sized samples as this, 95 of them will cover the true population proportion."
   ]
  },
  {
   "cell_type": "code",
   "execution_count": null,
   "id": "6b3566a6-80c1-4eee-8083-58cdc004ccdd",
   "metadata": {},
   "outputs": [],
   "source": []
  },
  {
   "cell_type": "markdown",
   "id": "9a55c974-f5de-4e67-aedc-d5776bc1f0b6",
   "metadata": {},
   "source": [
    "## ___Q. What is the Mean Systolic Blood Pressure for Non-Hispanic African American adults (18+), living in US, between 2015 - 2016?___"
   ]
  },
  {
   "cell_type": "code",
   "execution_count": 21,
   "id": "f3b8e63f-23c3-429d-8254-b92a3f2f055a",
   "metadata": {
    "execution": {
     "iopub.execute_input": "2023-07-09T08:17:55.265812Z",
     "iopub.status.busy": "2023-07-09T08:17:55.265812Z",
     "iopub.status.idle": "2023-07-09T08:17:55.287996Z",
     "shell.execute_reply": "2023-07-09T08:17:55.287482Z",
     "shell.execute_reply.started": "2023-07-09T08:17:55.265812Z"
    }
   },
   "outputs": [
    {
     "data": {
      "text/plain": [
       "128.61989342806393"
      ]
     },
     "execution_count": 21,
     "metadata": {},
     "output_type": "execute_result"
    }
   ],
   "source": [
    "# Our best estimate is the sample mean.\n",
    "\n",
    "best_est = bpress.mean()\n",
    "best_est"
   ]
  },
  {
   "cell_type": "code",
   "execution_count": 22,
   "id": "f50ded09-3b16-4a25-9bb6-6f0fb2ce92ac",
   "metadata": {
    "execution": {
     "iopub.execute_input": "2023-07-09T08:17:57.359634Z",
     "iopub.status.busy": "2023-07-09T08:17:57.359634Z",
     "iopub.status.idle": "2023-07-09T08:17:57.367319Z",
     "shell.execute_reply": "2023-07-09T08:17:57.367319Z",
     "shell.execute_reply.started": "2023-07-09T08:17:57.359634Z"
    }
   },
   "outputs": [
    {
     "data": {
      "text/plain": [
       "0.975"
      ]
     },
     "execution_count": 22,
     "metadata": {},
     "output_type": "execute_result"
    }
   ],
   "source": [
    "# Confidence interval = best estimate +- margin of error\n",
    "# Margin of error = multiplier * standard error\n",
    "\n",
    "# Since we are dealing with means, we'll use the t multiplier.\n",
    "# At 95% confidence level, significance is 0.05 (5%)\n",
    "\n",
    "# For the Null hypothesis to remain valid, the minimum value p can take is 0.05\n",
    "# p = 2 * (1 - cdf(abs(tstat)))\n",
    "\n",
    "tstat = 1 - (0.05 / 2)\n",
    "tstat"
   ]
  },
  {
   "cell_type": "code",
   "execution_count": 23,
   "id": "7bc53cd8-de48-455d-8d6d-b689cc0a536a",
   "metadata": {
    "execution": {
     "iopub.execute_input": "2023-07-09T08:17:58.340531Z",
     "iopub.status.busy": "2023-07-09T08:17:58.340531Z",
     "iopub.status.idle": "2023-07-09T08:17:58.351177Z",
     "shell.execute_reply": "2023-07-09T08:17:58.350662Z",
     "shell.execute_reply.started": "2023-07-09T08:17:58.340531Z"
    }
   },
   "outputs": [
    {
     "data": {
      "text/plain": [
       "1.9620749019965074"
      ]
     },
     "execution_count": 23,
     "metadata": {},
     "output_type": "execute_result"
    }
   ],
   "source": [
    "tscore = t.ppf(tstat, df = ssize - 1)\n",
    "tscore"
   ]
  },
  {
   "cell_type": "code",
   "execution_count": 24,
   "id": "58e57a1a-c873-4f4e-bc2e-077a9251af7c",
   "metadata": {
    "execution": {
     "iopub.execute_input": "2023-07-09T08:17:58.890353Z",
     "iopub.status.busy": "2023-07-09T08:17:58.890353Z",
     "iopub.status.idle": "2023-07-09T08:17:58.911629Z",
     "shell.execute_reply": "2023-07-09T08:17:58.911629Z",
     "shell.execute_reply.started": "2023-07-09T08:17:58.890353Z"
    }
   },
   "outputs": [
    {
     "data": {
      "text/plain": [
       "0.5883490291790643"
      ]
     },
     "execution_count": 24,
     "metadata": {},
     "output_type": "execute_result"
    }
   ],
   "source": [
    "stderr = bpress.std() / np.sqrt(ssize)\n",
    "stderr"
   ]
  },
  {
   "cell_type": "code",
   "execution_count": 25,
   "id": "60209bad-420d-4a17-bf83-6b4796ab1338",
   "metadata": {
    "execution": {
     "iopub.execute_input": "2023-07-09T08:17:59.926592Z",
     "iopub.status.busy": "2023-07-09T08:17:59.926592Z",
     "iopub.status.idle": "2023-07-09T08:17:59.932932Z",
     "shell.execute_reply": "2023-07-09T08:17:59.932654Z",
     "shell.execute_reply.started": "2023-07-09T08:17:59.926592Z"
    }
   },
   "outputs": [
    {
     "data": {
      "text/plain": [
       "1.1543848637662528"
      ]
     },
     "execution_count": 25,
     "metadata": {},
     "output_type": "execute_result"
    }
   ],
   "source": [
    "moerr = tscore * stderr\n",
    "moerr"
   ]
  },
  {
   "cell_type": "code",
   "execution_count": 26,
   "id": "2e9f4594-6562-419f-b373-1aa57fbf6188",
   "metadata": {
    "execution": {
     "iopub.execute_input": "2023-07-09T08:18:00.665250Z",
     "iopub.status.busy": "2023-07-09T08:18:00.650235Z",
     "iopub.status.idle": "2023-07-09T08:18:00.669327Z",
     "shell.execute_reply": "2023-07-09T08:18:00.669126Z",
     "shell.execute_reply.started": "2023-07-09T08:18:00.665250Z"
    }
   },
   "outputs": [
    {
     "data": {
      "text/plain": [
       "(127.46550856429768, 129.77427829183017)"
      ]
     },
     "execution_count": 26,
     "metadata": {},
     "output_type": "execute_result"
    }
   ],
   "source": [
    "# 95% confidence interval,\n",
    "\n",
    "lcb, ucb = best_est - moerr, best_est + moerr\n",
    "lcb, ucb"
   ]
  },
  {
   "cell_type": "code",
   "execution_count": 27,
   "id": "b2bde20c-be39-4e26-886b-2dc9cb233c65",
   "metadata": {
    "execution": {
     "iopub.execute_input": "2023-07-09T08:18:01.325183Z",
     "iopub.status.busy": "2023-07-09T08:18:01.325183Z",
     "iopub.status.idle": "2023-07-09T08:18:01.339890Z",
     "shell.execute_reply": "2023-07-09T08:18:01.339890Z",
     "shell.execute_reply.started": "2023-07-09T08:18:01.325183Z"
    }
   },
   "outputs": [
    {
     "name": "stdout",
     "output_type": "stream",
     "text": [
      "We state that the population mean blood pressure of non-Hispanic 18+ aged African Americans, living in USA between 2015 - 2016 falls between 127.4655 mmHg and 129.7743 mmHg with 95% confidence.\n"
     ]
    }
   ],
   "source": [
    "print(f\"We state that the population mean blood pressure of non-Hispanic 18+ aged African Americans, living in USA between 2015 - 2016 \\\n",
    "falls between {lcb:.4f} mmHg and {ucb:.4f} mmHg with 95% confidence.\")"
   ]
  },
  {
   "cell_type": "code",
   "execution_count": null,
   "id": "417008ef-e934-4e48-b2bf-dbab6e7473d4",
   "metadata": {},
   "outputs": [],
   "source": []
  },
  {
   "cell_type": "markdown",
   "id": "e504eb98-98e5-416a-9c8a-9a51d1d002a9",
   "metadata": {},
   "source": [
    "## ___Q. Did 33.333% (1/3) of non-Hispanic African Americans aged 18+, living in US in 2015 - 2016 have a systolic blood pressure above 130 mmHg?___"
   ]
  },
  {
   "cell_type": "code",
   "execution_count": 28,
   "id": "859b559b-56ca-4b98-a4c8-82e556726e57",
   "metadata": {
    "execution": {
     "iopub.execute_input": "2023-07-09T08:18:02.802875Z",
     "iopub.status.busy": "2023-07-09T08:18:02.802875Z",
     "iopub.status.idle": "2023-07-09T08:18:02.811641Z",
     "shell.execute_reply": "2023-07-09T08:18:02.810940Z",
     "shell.execute_reply.started": "2023-07-09T08:18:02.802875Z"
    }
   },
   "outputs": [],
   "source": [
    "# Hypothesis testing:\n",
    "\n",
    "# Significance level 5% (alpha = 0.05)\n",
    "\n",
    "# Null hypothesis: The population proportion of non-hispanic African americans living in the US between 2015 and 2016 with a systolic blood\n",
    "# pressure above 130 mmHg is 0.33333.\n",
    "\n",
    "# Alternative hypothesis: The population proportion of non-hispanic African americans living in the US between 2015 and 2016 with a systolic blood\n",
    "# pressure above 130 mmHg is not 0.33333. (two tailed)"
   ]
  },
  {
   "cell_type": "code",
   "execution_count": 29,
   "id": "3ef7d52f-76dc-4663-a288-9ff2c13046c4",
   "metadata": {
    "execution": {
     "iopub.execute_input": "2023-07-09T08:18:03.196831Z",
     "iopub.status.busy": "2023-07-09T08:18:03.196831Z",
     "iopub.status.idle": "2023-07-09T08:18:03.214562Z",
     "shell.execute_reply": "2023-07-09T08:18:03.214562Z",
     "shell.execute_reply.started": "2023-07-09T08:18:03.196831Z"
    }
   },
   "outputs": [
    {
     "data": {
      "text/plain": [
       "0.38543516873889877"
      ]
     },
     "execution_count": 29,
     "metadata": {},
     "output_type": "execute_result"
    }
   ],
   "source": [
    "# Our best estimate will be the sample proportion.\n",
    "\n",
    "best_est = (bpress > 130).mean()\n",
    "best_est"
   ]
  },
  {
   "cell_type": "code",
   "execution_count": 30,
   "id": "90e89093-6ddf-456e-9914-0439a0902cf5",
   "metadata": {
    "execution": {
     "iopub.execute_input": "2023-07-09T08:18:03.635549Z",
     "iopub.status.busy": "2023-07-09T08:18:03.635549Z",
     "iopub.status.idle": "2023-07-09T08:18:03.646386Z",
     "shell.execute_reply": "2023-07-09T08:18:03.645806Z",
     "shell.execute_reply.started": "2023-07-09T08:18:03.635549Z"
    }
   },
   "outputs": [
    {
     "data": {
      "text/plain": [
       "0.014504084665014442"
      ]
     },
     "execution_count": 30,
     "metadata": {},
     "output_type": "execute_result"
    }
   ],
   "source": [
    "# test statistic = (best estimate - hypothesized estimate) / standard error\n",
    "# the standard error of the sample proportion\n",
    "\n",
    "stderr = np.sqrt(best_est * (1 - best_est) / bpress.size) \n",
    "stderr"
   ]
  },
  {
   "cell_type": "code",
   "execution_count": 31,
   "id": "24ca5a47-aa19-4d8f-a225-ffd2cc56fd79",
   "metadata": {
    "execution": {
     "iopub.execute_input": "2023-07-09T08:18:03.997087Z",
     "iopub.status.busy": "2023-07-09T08:18:03.997087Z",
     "iopub.status.idle": "2023-07-09T08:18:04.005067Z",
     "shell.execute_reply": "2023-07-09T08:18:04.005067Z",
     "shell.execute_reply.started": "2023-07-09T08:18:03.997087Z"
    }
   },
   "outputs": [
    {
     "data": {
      "text/plain": [
       "3.5922180964126067"
      ]
     },
     "execution_count": 31,
     "metadata": {},
     "output_type": "execute_result"
    }
   ],
   "source": [
    "# test statistic (z score, since this is a proportion)\n",
    "\n",
    "zstat = (best_est - (1 / 3)) / stderr\n",
    "zstat"
   ]
  },
  {
   "cell_type": "code",
   "execution_count": 32,
   "id": "0499db4e-4627-4c0a-afb5-acf3c2f7020f",
   "metadata": {
    "execution": {
     "iopub.execute_input": "2023-07-09T08:18:04.672669Z",
     "iopub.status.busy": "2023-07-09T08:18:04.657188Z",
     "iopub.status.idle": "2023-07-09T08:18:04.771198Z",
     "shell.execute_reply": "2023-07-09T08:18:04.771198Z",
     "shell.execute_reply.started": "2023-07-09T08:18:04.672669Z"
    }
   },
   "outputs": [
    {
     "data": {
      "image/png": "[encoded data removed]",
      "text/plain": [
       "<Figure size 640x480 with 1 Axes>"
      ]
     },
     "metadata": {},
     "output_type": "display_data"
    }
   ],
   "source": [
    "z = np.linspace(-5, 5, num = 1000)\n",
    "zpdfs = norm.pdf(z)\n",
    "\n",
    "fig, axes = plt.subplots()\n",
    "axes.plot(z, zpdfs, color = \"black\")\n",
    "ymin, ymax = axes.get_ybound()\n",
    "axes.vlines([-zstat, zstat], ymin, ymax, color = \"red\")\n",
    "axes.fill_between(x = z, y1 = 0, y2 = zpdfs, where = (z <= -zstat) | (z >= zstat), color = \"red\")\n",
    "plt.show()"
   ]
  },
  {
   "cell_type": "code",
   "execution_count": 33,
   "id": "779e8d78-16ab-4312-9bc5-2bd2c1b1ce5c",
   "metadata": {
    "execution": {
     "iopub.execute_input": "2023-07-09T08:18:06.524636Z",
     "iopub.status.busy": "2023-07-09T08:18:06.524636Z",
     "iopub.status.idle": "2023-07-09T08:18:06.534428Z",
     "shell.execute_reply": "2023-07-09T08:18:06.534428Z",
     "shell.execute_reply.started": "2023-07-09T08:18:06.524636Z"
    }
   },
   "outputs": [
    {
     "data": {
      "text/plain": [
       "0.0003278752603614876"
      ]
     },
     "execution_count": 33,
     "metadata": {},
     "output_type": "execute_result"
    }
   ],
   "source": [
    "p = 2 * (1 - norm.cdf(zstat))\n",
    "p"
   ]
  },
  {
   "cell_type": "code",
   "execution_count": 34,
   "id": "95dc9d58-2bf2-4ec3-a9e2-4de5c521f9bd",
   "metadata": {
    "execution": {
     "iopub.execute_input": "2023-07-09T08:18:09.107280Z",
     "iopub.status.busy": "2023-07-09T08:18:09.107280Z",
     "iopub.status.idle": "2023-07-09T08:18:09.114694Z",
     "shell.execute_reply": "2023-07-09T08:18:09.114694Z",
     "shell.execute_reply.started": "2023-07-09T08:18:09.107280Z"
    }
   },
   "outputs": [],
   "source": [
    "# Our p value is less than the significance level.\n",
    "# So we can reject the Null hypothesis.\n",
    "# There's enough evidence to claim that the population proportion of non-hispanic african americans living in the US between 2015 - 2016\n",
    "# with a systoloic blood pressure above 130 mmHg was not 0.3333333"
   ]
  },
  {
   "cell_type": "code",
   "execution_count": null,
   "id": "f51919d4-1e33-45dc-b4af-734942a2d56e",
   "metadata": {},
   "outputs": [],
   "source": []
  },
  {
   "cell_type": "markdown",
   "id": "c39a169a-cf56-429f-8f84-b9a5b4b700b5",
   "metadata": {},
   "source": [
    "## ___Q. Was the mean systolic blood pressure for non-Hispanic African Americans aged 18+, living in US in 2015 - 2016 128 mmHg?___"
   ]
  },
  {
   "cell_type": "code",
   "execution_count": 35,
   "id": "ee3f8588-0109-4834-9a22-1de63498a4e6",
   "metadata": {
    "execution": {
     "iopub.execute_input": "2023-07-09T08:18:10.410463Z",
     "iopub.status.busy": "2023-07-09T08:18:10.410463Z",
     "iopub.status.idle": "2023-07-09T08:18:10.430512Z",
     "shell.execute_reply": "2023-07-09T08:18:10.430512Z",
     "shell.execute_reply.started": "2023-07-09T08:18:10.410463Z"
    }
   },
   "outputs": [
    {
     "data": {
      "text/plain": [
       "128.61989342806393"
      ]
     },
     "execution_count": 35,
     "metadata": {},
     "output_type": "execute_result"
    }
   ],
   "source": [
    "# Significance level 0.05 (5%)\n",
    "\n",
    "# Null hypothesis: The mean systolic blood pressure for non-Hispanic African americans aged 18+ living in the US, between 2015 - 2016 is 128 mmHg.\n",
    "\n",
    "# Alternative hypothesis: The mean systolic blood pressure for non-Hispanic African americans aged 18+ living in the US, between 2015 - 2016 is \n",
    "# not 128 mmHg. (two tailed)\n",
    "\n",
    "# Our best estimate is the sample mean,\n",
    "\n",
    "best_est = bpress.mean()\n",
    "best_est"
   ]
  },
  {
   "cell_type": "code",
   "execution_count": 36,
   "id": "1ce20bbd-8f5a-4838-8c87-9c5b3cc3a43d",
   "metadata": {
    "execution": {
     "iopub.execute_input": "2023-07-09T08:18:11.634845Z",
     "iopub.status.busy": "2023-07-09T08:18:11.634845Z",
     "iopub.status.idle": "2023-07-09T08:18:11.655096Z",
     "shell.execute_reply": "2023-07-09T08:18:11.654931Z",
     "shell.execute_reply.started": "2023-07-09T08:18:11.634845Z"
    }
   },
   "outputs": [
    {
     "data": {
      "text/plain": [
       "0.5883490291790643"
      ]
     },
     "execution_count": 36,
     "metadata": {},
     "output_type": "execute_result"
    }
   ],
   "source": [
    "# standard error\n",
    "\n",
    "stderr = bpress.std() / np.sqrt(bpress.size)\n",
    "stderr"
   ]
  },
  {
   "cell_type": "code",
   "execution_count": 37,
   "id": "62799079-6729-4389-b57c-beaaff6d4397",
   "metadata": {
    "execution": {
     "iopub.execute_input": "2023-07-09T08:18:12.448257Z",
     "iopub.status.busy": "2023-07-09T08:18:12.447146Z",
     "iopub.status.idle": "2023-07-09T08:18:12.452471Z",
     "shell.execute_reply": "2023-07-09T08:18:12.451957Z",
     "shell.execute_reply.started": "2023-07-09T08:18:12.448169Z"
    }
   },
   "outputs": [
    {
     "data": {
      "text/plain": [
       "1.0536151116436487"
      ]
     },
     "execution_count": 37,
     "metadata": {},
     "output_type": "execute_result"
    }
   ],
   "source": [
    "# test statistic\n",
    "\n",
    "tstat = (best_est - 128) / stderr\n",
    "tstat"
   ]
  },
  {
   "cell_type": "code",
   "execution_count": 38,
   "id": "5c59208e-4f00-4740-93ea-fb417386a45e",
   "metadata": {
    "execution": {
     "iopub.execute_input": "2023-07-09T08:18:13.080690Z",
     "iopub.status.busy": "2023-07-09T08:18:13.079647Z",
     "iopub.status.idle": "2023-07-09T08:18:13.184341Z",
     "shell.execute_reply": "2023-07-09T08:18:13.184341Z",
     "shell.execute_reply.started": "2023-07-09T08:18:13.080690Z"
    }
   },
   "outputs": [
    {
     "data": {
      "image/png": "[encoded data removed]",
      "text/plain": [
       "<Figure size 640x480 with 1 Axes>"
      ]
     },
     "metadata": {},
     "output_type": "display_data"
    }
   ],
   "source": [
    "x = np.linspace(-5, 5, num = 1000)\n",
    "tpdfs = t.pdf(x, df = x.size - 1)\n",
    "\n",
    "fig, axes = plt.subplots()\n",
    "axes.plot(x, tpdfs, color = \"black\")\n",
    "ymin, ymax = axes.get_ybound()\n",
    "axes.vlines([-tstat, tstat], ymin, ymax, color = \"red\")\n",
    "axes.fill_between(x = z, y1 = 0, y2 = tpdfs, where = (z <= -tstat) | (z >= tstat), color = \"red\")\n",
    "plt.show()"
   ]
  },
  {
   "cell_type": "code",
   "execution_count": 39,
   "id": "06734b8c-1b40-49c9-8d4f-cad24d7b5756",
   "metadata": {
    "execution": {
     "iopub.execute_input": "2023-07-09T08:18:14.363533Z",
     "iopub.status.busy": "2023-07-09T08:18:14.363533Z",
     "iopub.status.idle": "2023-07-09T08:18:14.382045Z",
     "shell.execute_reply": "2023-07-09T08:18:14.382045Z",
     "shell.execute_reply.started": "2023-07-09T08:18:14.363533Z"
    }
   },
   "outputs": [
    {
     "data": {
      "text/plain": [
       "0.29228540162775074"
      ]
     },
     "execution_count": 39,
     "metadata": {},
     "output_type": "execute_result"
    }
   ],
   "source": [
    "p = 2 * (1 - t.cdf(tstat, df = bpress.size - 1))\n",
    "p"
   ]
  },
  {
   "cell_type": "code",
   "execution_count": 40,
   "id": "f978bb92-edac-455b-9c7b-186533ddc954",
   "metadata": {
    "execution": {
     "iopub.execute_input": "2023-07-09T08:18:21.459593Z",
     "iopub.status.busy": "2023-07-09T08:18:21.459593Z",
     "iopub.status.idle": "2023-07-09T08:18:21.466987Z",
     "shell.execute_reply": "2023-07-09T08:18:21.466987Z",
     "shell.execute_reply.started": "2023-07-09T08:18:21.459593Z"
    }
   },
   "outputs": [],
   "source": [
    "# p value is quite larger than the bsignificance of 0.05\n",
    "# So, we cannot reject the Null hypothesis.\n",
    "# There's enough evidence to assert that the mean systolic blood pressure of non-hispanic 18+ african americans living in the US between 2015 - 2016\n",
    "# is indeed 128 mmHg"
   ]
  },
  {
   "cell_type": "code",
   "execution_count": 41,
   "id": "d3c113c9-d604-4a48-bdb0-7e9018c07bb9",
   "metadata": {
    "execution": {
     "iopub.execute_input": "2023-07-09T08:18:21.900477Z",
     "iopub.status.busy": "2023-07-09T08:18:21.900477Z",
     "iopub.status.idle": "2023-07-09T08:18:21.907190Z",
     "shell.execute_reply": "2023-07-09T08:18:21.907190Z",
     "shell.execute_reply.started": "2023-07-09T08:18:21.900477Z"
    }
   },
   "outputs": [],
   "source": [
    "# AGAIN, FAILING TO REJECT THE NULL HYPOTHESIS DOES NOT IMPLY ACCEPTING THE ALTERNATIVE HYPOTHESIS.\n",
    "# THAT MEANS WE SIMPLY DO NOT HAVE ENOUGH EVIDENCE TO REJECT THE NULL HYPOTHESIS."
   ]
  },
  {
   "cell_type": "code",
   "execution_count": null,
   "id": "2ecf976f-b9ff-455f-8f72-4c2575bc32ae",
   "metadata": {},
   "outputs": [],
   "source": []
  }
 ],
 "metadata": {
  "kernelspec": {
   "display_name": "Python 3 (ipykernel)",
   "language": "python",
   "name": "python3"
  },
  "language_info": {
   "codemirror_mode": {
    "name": "ipython",
    "version": 3
   },
   "file_extension": ".py",
   "mimetype": "text/x-python",
   "name": "python",
   "nbconvert_exporter": "python",
   "pygments_lexer": "ipython3",
   "version": "3.11.4"
  }
 },
 "nbformat": 4,
 "nbformat_minor": 5
}
