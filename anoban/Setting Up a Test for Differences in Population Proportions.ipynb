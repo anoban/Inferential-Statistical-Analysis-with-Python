{
 "cells": [
  {
   "cell_type": "code",
   "execution_count": 2,
   "id": "3750fe93-c6d2-4d13-9b0f-b99068ee2883",
   "metadata": {
    "execution": {
     "iopub.execute_input": "2023-06-29T01:21:57.264280Z",
     "iopub.status.busy": "2023-06-29T01:21:57.264280Z",
     "iopub.status.idle": "2023-06-29T01:21:57.279388Z",
     "shell.execute_reply": "2023-06-29T01:21:57.278865Z",
     "shell.execute_reply.started": "2023-06-29T01:21:57.264280Z"
    }
   },
   "outputs": [],
   "source": [
    "import numpy as np\n",
    "np.random.seed(2023 - 6 - 29)\n",
    "import pandas as pd"
   ]
  },
  {
   "cell_type": "markdown",
   "id": "303bd176-c4fc-43ce-8871-6a9f3a5211f0",
   "metadata": {},
   "source": [
    "# ___Setting Up a Test for Differences Between Population Proportions.___\n",
    "--------------"
   ]
  },
  {
   "cell_type": "code",
   "execution_count": 10,
   "id": "193bd7c8-b187-409d-8028-d8ba01c8823b",
   "metadata": {
    "execution": {
     "iopub.execute_input": "2023-06-29T01:24:10.641644Z",
     "iopub.status.busy": "2023-06-29T01:24:10.641644Z",
     "iopub.status.idle": "2023-06-29T01:24:10.956500Z",
     "shell.execute_reply": "2023-06-29T01:24:10.956500Z",
     "shell.execute_reply.started": "2023-06-29T01:24:10.641644Z"
    }
   },
   "outputs": [],
   "source": [
    "data = pd.read_csv(\"../data/MetroPT3(AirCompressor).csv\", usecols = [\"Reservoirs\", \"Oil_temperature\"])"
   ]
  },
  {
   "cell_type": "code",
   "execution_count": 14,
   "id": "505df4bb-9469-461d-ab93-4a4c5fec7e37",
   "metadata": {
    "execution": {
     "iopub.execute_input": "2023-06-29T01:24:28.249161Z",
     "iopub.status.busy": "2023-06-29T01:24:28.249161Z",
     "iopub.status.idle": "2023-06-29T01:24:28.259240Z",
     "shell.execute_reply": "2023-06-29T01:24:28.259240Z",
     "shell.execute_reply.started": "2023-06-29T01:24:28.249161Z"
    }
   },
   "outputs": [
    {
     "data": {
      "text/plain": [
       "(0.7119999999999997, 10.3)"
      ]
     },
     "execution_count": 14,
     "metadata": {},
     "output_type": "execute_result"
    }
   ],
   "source": [
    "data.Reservoirs.min(), data.Reservoirs.max()"
   ]
  },
  {
   "cell_type": "code",
   "execution_count": 27,
   "id": "14837b7f-5b3b-40d1-8078-0e4ff7625bbe",
   "metadata": {
    "execution": {
     "iopub.execute_input": "2023-06-29T01:32:28.046765Z",
     "iopub.status.busy": "2023-06-29T01:32:28.046765Z",
     "iopub.status.idle": "2023-06-29T01:32:28.068876Z",
     "shell.execute_reply": "2023-06-29T01:32:28.068876Z",
     "shell.execute_reply.started": "2023-06-29T01:32:28.046765Z"
    }
   },
   "outputs": [],
   "source": [
    "# Let's divide this dataset into two. \n",
    "# We'll consider the two resulting datasets as two samples from two different populations.\n",
    "\n",
    "mask_high = data.Reservoirs > 9\n",
    "\n",
    "high_res = data.Oil_temperature.loc[mask_high]\n",
    "low_res = data.Oil_temperature.loc[~mask_high]"
   ]
  },
  {
   "cell_type": "code",
   "execution_count": 29,
   "id": "9aacc7a1-f129-4cdf-b723-c63b9f217f15",
   "metadata": {
    "execution": {
     "iopub.execute_input": "2023-06-29T01:34:53.001984Z",
     "iopub.status.busy": "2023-06-29T01:34:53.001984Z",
     "iopub.status.idle": "2023-06-29T01:34:53.010609Z",
     "shell.execute_reply": "2023-06-29T01:34:53.010609Z",
     "shell.execute_reply.started": "2023-06-29T01:34:53.001984Z"
    }
   },
   "outputs": [
    {
     "data": {
      "text/plain": [
       "(526274, 473725)"
      ]
     },
     "execution_count": 29,
     "metadata": {},
     "output_type": "execute_result"
    }
   ],
   "source": [
    "# Low_res - oil temperatures when the pressure in the reserviour was less than or equal to 9\n",
    "# high_res - oil temperatures when the pressure in the reserviour was greater than 9\n",
    "\n",
    "low_res.size, high_res.size"
   ]
  },
  {
   "cell_type": "code",
   "execution_count": 36,
   "id": "41ef7245-07d0-4c26-a350-f83b29e24d1a",
   "metadata": {
    "execution": {
     "iopub.execute_input": "2023-06-29T01:58:40.666820Z",
     "iopub.status.busy": "2023-06-29T01:58:40.666820Z",
     "iopub.status.idle": "2023-06-29T01:58:40.670065Z",
     "shell.execute_reply": "2023-06-29T01:58:40.670065Z",
     "shell.execute_reply.started": "2023-06-29T01:58:40.666820Z"
    }
   },
   "outputs": [],
   "source": [
    "# Significance levels must be set even before postulating the null and alternative hypotheses.\n",
    "\n",
    "alpha = 0.1 # 10%"
   ]
  },
  {
   "cell_type": "code",
   "execution_count": 31,
   "id": "0c80238f-9a99-431c-b0aa-6ce99b095862",
   "metadata": {
    "execution": {
     "iopub.execute_input": "2023-06-29T01:55:45.487312Z",
     "iopub.status.busy": "2023-06-29T01:55:45.487312Z",
     "iopub.status.idle": "2023-06-29T01:55:45.498146Z",
     "shell.execute_reply": "2023-06-29T01:55:45.497528Z",
     "shell.execute_reply.started": "2023-06-29T01:55:45.487312Z"
    }
   },
   "outputs": [
    {
     "data": {
      "text/plain": [
       "0.33425744004073926"
      ]
     },
     "execution_count": 31,
     "metadata": {},
     "output_type": "execute_result"
    }
   ],
   "source": [
    "# Q: Is there a significant difference between the proportion of temperatures above 60 degrees between the low pressure reservoir\n",
    "# and high pressure reservoir populations.\n",
    "\n",
    "# Null: There isn't any significant difference between the proportion of oil temperatures above 60 degrees between the low pressure and high pressure\n",
    "# populations.\n",
    "# prop_hres - prop_lres = 0\n",
    "\n",
    "# Alternative: There is a significant difference between the proportion of oil temperatures above 60 degrees between the low pressure and high pressure\n",
    "# populations. \n",
    "# prop_hres - prop_lres != 0   (Here, we do not care about the direction, it doesn't matter whether the relationship is < or >) !\n",
    "\n",
    "lr_prop = (low_res > 60).mean()\n",
    "lr_prop"
   ]
  },
  {
   "cell_type": "code",
   "execution_count": 34,
   "id": "ea177f44-181c-4a52-8b81-bf0023be7379",
   "metadata": {
    "execution": {
     "iopub.execute_input": "2023-06-29T01:57:33.404101Z",
     "iopub.status.busy": "2023-06-29T01:57:33.400100Z",
     "iopub.status.idle": "2023-06-29T01:57:33.411082Z",
     "shell.execute_reply": "2023-06-29T01:57:33.411082Z",
     "shell.execute_reply.started": "2023-06-29T01:57:33.404101Z"
    }
   },
   "outputs": [
    {
     "data": {
      "text/plain": [
       "0.670659137685366"
      ]
     },
     "execution_count": 34,
     "metadata": {},
     "output_type": "execute_result"
    }
   ],
   "source": [
    "# It appears that when the pressure inside the pressure chamber was high, the oils in the pressure chambers were hotter.\n",
    "# There IS INDEED A SIGNIFICANT difference.\n",
    "\n",
    "hr_prop = (high_res > 60).mean()\n",
    "hr_prop"
   ]
  },
  {
   "cell_type": "code",
   "execution_count": 43,
   "id": "12bf17db-6120-498a-84e9-0d91a9c3209e",
   "metadata": {
    "execution": {
     "iopub.execute_input": "2023-06-29T02:16:51.859180Z",
     "iopub.status.busy": "2023-06-29T02:16:51.859180Z",
     "iopub.status.idle": "2023-06-29T02:16:51.904055Z",
     "shell.execute_reply": "2023-06-29T02:16:51.904055Z",
     "shell.execute_reply.started": "2023-06-29T02:16:51.859180Z"
    }
   },
   "outputs": [
    {
     "data": {
      "text/plain": [
       "(156017, 317708)"
      ]
     },
     "execution_count": 43,
     "metadata": {},
     "output_type": "execute_result"
    }
   ],
   "source": [
    "# Assumptions: The two samples are random and independent.\n",
    "# The samples are large enough, that the estimates will represent a normal distribution.\n",
    "\n",
    "# WE'LL CONSIDER THE SPLIT DATASETS AS SAMPLES FROM TWO LARGER POPULATIONS.\n",
    "# Each sample should have at least 10 values representing each of the two classes.\n",
    "\n",
    "# Sample made from the high reservoir population has the following number of lower and higher temperatures.\n",
    "\n",
    "sum(high_res < 60), sum(high_res >= 60)"
   ]
  },
  {
   "cell_type": "code",
   "execution_count": 44,
   "id": "00b38703-f749-4ab4-895f-9c71a50b7231",
   "metadata": {
    "execution": {
     "iopub.execute_input": "2023-06-29T02:17:02.152826Z",
     "iopub.status.busy": "2023-06-29T02:17:02.152826Z",
     "iopub.status.idle": "2023-06-29T02:17:02.221891Z",
     "shell.execute_reply": "2023-06-29T02:17:02.221891Z",
     "shell.execute_reply.started": "2023-06-29T02:17:02.152826Z"
    }
   },
   "outputs": [
    {
     "data": {
      "text/plain": [
       "(350363, 175911)"
      ]
     },
     "execution_count": 44,
     "metadata": {},
     "output_type": "execute_result"
    }
   ],
   "source": [
    "# Sample made from the low reservoir population has the following number of lower and higher temperatures.\n",
    "\n",
    "sum(low_res < 60), sum(low_res >= 60)"
   ]
  },
  {
   "cell_type": "code",
   "execution_count": 46,
   "id": "2d4e5000-8167-4af2-8db3-984bcf239cd3",
   "metadata": {
    "execution": {
     "iopub.execute_input": "2023-06-29T02:22:40.736571Z",
     "iopub.status.busy": "2023-06-29T02:22:40.736571Z",
     "iopub.status.idle": "2023-06-29T02:22:40.741176Z",
     "shell.execute_reply": "2023-06-29T02:22:40.741176Z",
     "shell.execute_reply.started": "2023-06-29T02:22:40.736571Z"
    }
   },
   "outputs": [],
   "source": [
    "# That looks good."
   ]
  },
  {
   "cell_type": "markdown",
   "id": "1c310d90-e1a6-4ada-85f0-8cc77d40b725",
   "metadata": {},
   "source": [
    "## ___What to do When The Data is Not Available?___\n",
    "--------"
   ]
  },
  {
   "cell_type": "code",
   "execution_count": 47,
   "id": "bee39121-d599-49bb-ae07-425718e613d3",
   "metadata": {
    "execution": {
     "iopub.execute_input": "2023-06-29T02:30:20.273752Z",
     "iopub.status.busy": "2023-06-29T02:30:20.272037Z",
     "iopub.status.idle": "2023-06-29T02:30:20.278079Z",
     "shell.execute_reply": "2023-06-29T02:30:20.278079Z",
     "shell.execute_reply.started": "2023-06-29T02:30:20.273752Z"
    }
   },
   "outputs": [],
   "source": [
    "# Above, we have the data. Suppose we do not and the only metrics available at hand are the proportions.\n",
    "# let's say that we have two samples.\n",
    "# One sample comes from men and the next from women.\n",
    "# These samples contain responses to a yes/no question. The only options are yes/no.\n",
    "\n",
    "# Say, that the proportion of yesses in the men's sample is 0.76 and that in women's sample is 0.619\n",
    "# Sample sizes are 1204 and 871 for men and women respectively.\n",
    "\n",
    "# We need to compute a common proportion p_hat, and make sure that \n",
    "\n",
    "# p_hat x size(men) >= 10\n",
    "# (1 - p_hat) x size(men) >= 10\n",
    "# p_hat x size(women) >= 10\n",
    "# (1 - p_hat) x size(women) >= 10"
   ]
  },
  {
   "cell_type": "code",
   "execution_count": null,
   "id": "ca460533-6151-4bc9-896a-de851e9e81ce",
   "metadata": {},
   "outputs": [],
   "source": [
    "# Note that we are not using the proportions for men and women to compute separate counts."
   ]
  }
 ],
 "metadata": {
  "kernelspec": {
   "display_name": "Python 3 (ipykernel)",
   "language": "python",
   "name": "python3"
  },
  "language_info": {
   "codemirror_mode": {
    "name": "ipython",
    "version": 3
   },
   "file_extension": ".py",
   "mimetype": "text/x-python",
   "name": "python",
   "nbconvert_exporter": "python",
   "pygments_lexer": "ipython3",
   "version": "3.11.4"
  }
 },
 "nbformat": 4,
 "nbformat_minor": 5
}
