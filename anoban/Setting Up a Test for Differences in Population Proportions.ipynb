{
 "cells": [
  {
   "cell_type": "code",
   "execution_count": 71,
   "id": "3750fe93-c6d2-4d13-9b0f-b99068ee2883",
   "metadata": {
    "execution": {
     "iopub.execute_input": "2023-06-29T12:11:22.548019Z",
     "iopub.status.busy": "2023-06-29T12:11:22.548019Z",
     "iopub.status.idle": "2023-06-29T12:11:22.551573Z",
     "shell.execute_reply": "2023-06-29T12:11:22.551129Z",
     "shell.execute_reply.started": "2023-06-29T12:11:22.548019Z"
    }
   },
   "outputs": [],
   "source": [
    "import numpy as np\n",
    "np.random.seed(2023 - 6 - 29)\n",
    "import pandas as pd\n",
    "from scipy.stats import norm"
   ]
  },
  {
   "cell_type": "markdown",
   "id": "303bd176-c4fc-43ce-8871-6a9f3a5211f0",
   "metadata": {},
   "source": [
    "# ___Setting Up a Test for Differences Between Population Proportions.___\n",
    "--------------"
   ]
  },
  {
   "cell_type": "code",
   "execution_count": 2,
   "id": "193bd7c8-b187-409d-8028-d8ba01c8823b",
   "metadata": {
    "execution": {
     "iopub.execute_input": "2023-06-29T11:31:33.626093Z",
     "iopub.status.busy": "2023-06-29T11:31:33.626093Z",
     "iopub.status.idle": "2023-06-29T11:31:33.975381Z",
     "shell.execute_reply": "2023-06-29T11:31:33.975381Z",
     "shell.execute_reply.started": "2023-06-29T11:31:33.626093Z"
    }
   },
   "outputs": [],
   "source": [
    "data = pd.read_csv(\"../data/MetroPT3(AirCompressor).csv\", usecols = [\"Reservoirs\", \"Oil_temperature\"])"
   ]
  },
  {
   "cell_type": "code",
   "execution_count": 3,
   "id": "505df4bb-9469-461d-ab93-4a4c5fec7e37",
   "metadata": {
    "execution": {
     "iopub.execute_input": "2023-06-29T11:31:34.397676Z",
     "iopub.status.busy": "2023-06-29T11:31:34.397676Z",
     "iopub.status.idle": "2023-06-29T11:31:34.412651Z",
     "shell.execute_reply": "2023-06-29T11:31:34.412651Z",
     "shell.execute_reply.started": "2023-06-29T11:31:34.397676Z"
    }
   },
   "outputs": [
    {
     "data": {
      "text/plain": [
       "(0.7119999999999997, 10.3)"
      ]
     },
     "execution_count": 3,
     "metadata": {},
     "output_type": "execute_result"
    }
   ],
   "source": [
    "data.Reservoirs.min(), data.Reservoirs.max()"
   ]
  },
  {
   "cell_type": "code",
   "execution_count": 4,
   "id": "14837b7f-5b3b-40d1-8078-0e4ff7625bbe",
   "metadata": {
    "execution": {
     "iopub.execute_input": "2023-06-29T11:31:35.071126Z",
     "iopub.status.busy": "2023-06-29T11:31:35.071126Z",
     "iopub.status.idle": "2023-06-29T11:31:35.090720Z",
     "shell.execute_reply": "2023-06-29T11:31:35.090720Z",
     "shell.execute_reply.started": "2023-06-29T11:31:35.071126Z"
    }
   },
   "outputs": [],
   "source": [
    "# Let's divide this dataset into two. \n",
    "# We'll consider the two resulting datasets as two samples from two different populations.\n",
    "\n",
    "mask_high = data.Reservoirs > 9\n",
    "\n",
    "high_res = data.Oil_temperature.loc[mask_high]\n",
    "low_res = data.Oil_temperature.loc[~mask_high]"
   ]
  },
  {
   "cell_type": "code",
   "execution_count": 5,
   "id": "9aacc7a1-f129-4cdf-b723-c63b9f217f15",
   "metadata": {
    "execution": {
     "iopub.execute_input": "2023-06-29T11:31:37.589828Z",
     "iopub.status.busy": "2023-06-29T11:31:37.589828Z",
     "iopub.status.idle": "2023-06-29T11:31:37.599081Z",
     "shell.execute_reply": "2023-06-29T11:31:37.598930Z",
     "shell.execute_reply.started": "2023-06-29T11:31:37.589828Z"
    }
   },
   "outputs": [
    {
     "data": {
      "text/plain": [
       "(526274, 473725)"
      ]
     },
     "execution_count": 5,
     "metadata": {},
     "output_type": "execute_result"
    }
   ],
   "source": [
    "# Low_res - oil temperatures when the pressure in the reserviour was less than or equal to 9\n",
    "# high_res - oil temperatures when the pressure in the reserviour was greater than 9\n",
    "\n",
    "low_res.size, high_res.size"
   ]
  },
  {
   "cell_type": "code",
   "execution_count": 6,
   "id": "41ef7245-07d0-4c26-a350-f83b29e24d1a",
   "metadata": {
    "execution": {
     "iopub.execute_input": "2023-06-29T11:31:38.215255Z",
     "iopub.status.busy": "2023-06-29T11:31:38.215255Z",
     "iopub.status.idle": "2023-06-29T11:31:38.219832Z",
     "shell.execute_reply": "2023-06-29T11:31:38.219832Z",
     "shell.execute_reply.started": "2023-06-29T11:31:38.215255Z"
    }
   },
   "outputs": [],
   "source": [
    "# Significance levels must be set even before postulating the null and alternative hypotheses.\n",
    "\n",
    "alpha = 0.1 # 10%"
   ]
  },
  {
   "cell_type": "code",
   "execution_count": 7,
   "id": "0c80238f-9a99-431c-b0aa-6ce99b095862",
   "metadata": {
    "execution": {
     "iopub.execute_input": "2023-06-29T11:31:38.687315Z",
     "iopub.status.busy": "2023-06-29T11:31:38.687315Z",
     "iopub.status.idle": "2023-06-29T11:31:38.697119Z",
     "shell.execute_reply": "2023-06-29T11:31:38.696857Z",
     "shell.execute_reply.started": "2023-06-29T11:31:38.687315Z"
    }
   },
   "outputs": [
    {
     "data": {
      "text/plain": [
       "0.33425744004073926"
      ]
     },
     "execution_count": 7,
     "metadata": {},
     "output_type": "execute_result"
    }
   ],
   "source": [
    "# Q: Is there a significant difference between the proportion of temperatures above 60 degrees between the low pressure reservoir\n",
    "# and high pressure reservoir populations.\n",
    "\n",
    "# Null: There isn't any significant difference between the proportion of oil temperatures above 60 degrees between the low pressure and high pressure\n",
    "# populations.\n",
    "# prop_hres - prop_lres = 0\n",
    "\n",
    "# Alternative: There is a significant difference between the proportion of oil temperatures above 60 degrees between the low pressure and high pressure\n",
    "# populations. \n",
    "# prop_hres - prop_lres != 0   (Here, we do not care about the direction, it doesn't matter whether the relationship is < or >) !\n",
    "\n",
    "lr_prop = (low_res > 60).mean()\n",
    "lr_prop"
   ]
  },
  {
   "cell_type": "code",
   "execution_count": 8,
   "id": "ea177f44-181c-4a52-8b81-bf0023be7379",
   "metadata": {
    "execution": {
     "iopub.execute_input": "2023-06-29T11:31:39.341203Z",
     "iopub.status.busy": "2023-06-29T11:31:39.341203Z",
     "iopub.status.idle": "2023-06-29T11:31:39.347876Z",
     "shell.execute_reply": "2023-06-29T11:31:39.347876Z",
     "shell.execute_reply.started": "2023-06-29T11:31:39.341203Z"
    }
   },
   "outputs": [
    {
     "data": {
      "text/plain": [
       "0.670659137685366"
      ]
     },
     "execution_count": 8,
     "metadata": {},
     "output_type": "execute_result"
    }
   ],
   "source": [
    "# It appears that when the pressure inside the pressure chamber was high, the oils in the pressure chambers were hotter.\n",
    "# There IS INDEED A SIGNIFICANT difference.\n",
    "\n",
    "hr_prop = (high_res > 60).mean()\n",
    "hr_prop"
   ]
  },
  {
   "cell_type": "code",
   "execution_count": 9,
   "id": "12bf17db-6120-498a-84e9-0d91a9c3209e",
   "metadata": {
    "execution": {
     "iopub.execute_input": "2023-06-29T11:31:40.273395Z",
     "iopub.status.busy": "2023-06-29T11:31:40.273395Z",
     "iopub.status.idle": "2023-06-29T11:31:40.319358Z",
     "shell.execute_reply": "2023-06-29T11:31:40.319358Z",
     "shell.execute_reply.started": "2023-06-29T11:31:40.273395Z"
    }
   },
   "outputs": [
    {
     "data": {
      "text/plain": [
       "(156017, 317708)"
      ]
     },
     "execution_count": 9,
     "metadata": {},
     "output_type": "execute_result"
    }
   ],
   "source": [
    "# Assumptions: The two samples are random and independent.\n",
    "# The samples are large enough, that the estimates will represent a normal distribution.\n",
    "\n",
    "# WE'LL CONSIDER THE SPLIT DATASETS AS SAMPLES FROM TWO LARGER POPULATIONS.\n",
    "# Each sample should have at least 10 values representing each of the two classes.\n",
    "\n",
    "# Sample made from the high reservoir population has the following number of lower and higher temperatures.\n",
    "\n",
    "sum(high_res < 60), sum(high_res >= 60)"
   ]
  },
  {
   "cell_type": "code",
   "execution_count": 10,
   "id": "00b38703-f749-4ab4-895f-9c71a50b7231",
   "metadata": {
    "execution": {
     "iopub.execute_input": "2023-06-29T11:31:41.591225Z",
     "iopub.status.busy": "2023-06-29T11:31:41.591225Z",
     "iopub.status.idle": "2023-06-29T11:31:41.645781Z",
     "shell.execute_reply": "2023-06-29T11:31:41.645781Z",
     "shell.execute_reply.started": "2023-06-29T11:31:41.591225Z"
    }
   },
   "outputs": [
    {
     "data": {
      "text/plain": [
       "(350363, 175911)"
      ]
     },
     "execution_count": 10,
     "metadata": {},
     "output_type": "execute_result"
    }
   ],
   "source": [
    "# Sample made from the low reservoir population has the following number of lower and higher temperatures.\n",
    "\n",
    "sum(low_res < 60), sum(low_res >= 60)"
   ]
  },
  {
   "cell_type": "code",
   "execution_count": 11,
   "id": "2d4e5000-8167-4af2-8db3-984bcf239cd3",
   "metadata": {
    "execution": {
     "iopub.execute_input": "2023-06-29T11:31:42.262435Z",
     "iopub.status.busy": "2023-06-29T11:31:42.262435Z",
     "iopub.status.idle": "2023-06-29T11:31:42.268553Z",
     "shell.execute_reply": "2023-06-29T11:31:42.268553Z",
     "shell.execute_reply.started": "2023-06-29T11:31:42.262435Z"
    }
   },
   "outputs": [],
   "source": [
    "# That looks good."
   ]
  },
  {
   "cell_type": "code",
   "execution_count": null,
   "id": "4b48a282-8214-44e0-bb41-b95d8431dc5e",
   "metadata": {},
   "outputs": [],
   "source": []
  },
  {
   "cell_type": "code",
   "execution_count": 38,
   "id": "b7886ccc-6050-4bac-96a5-54cab254442f",
   "metadata": {
    "execution": {
     "iopub.execute_input": "2023-06-29T11:48:50.952983Z",
     "iopub.status.busy": "2023-06-29T11:48:50.952983Z",
     "iopub.status.idle": "2023-06-29T11:48:50.959844Z",
     "shell.execute_reply": "2023-06-29T11:48:50.959844Z",
     "shell.execute_reply.started": "2023-06-29T11:48:50.952983Z"
    }
   },
   "outputs": [
    {
     "data": {
      "text/plain": [
       "0.33640169764462674"
      ]
     },
     "execution_count": 38,
     "metadata": {},
     "output_type": "execute_result"
    }
   ],
   "source": [
    "# Best estimate is the difference between the sample proportions\n",
    "\n",
    "best_est = hr_prop - lr_prop\n",
    "best_est"
   ]
  },
  {
   "cell_type": "code",
   "execution_count": 43,
   "id": "db8102d8-0da9-40f5-84c1-bf8a77db4d9e",
   "metadata": {
    "execution": {
     "iopub.execute_input": "2023-06-29T12:00:49.355920Z",
     "iopub.status.busy": "2023-06-29T12:00:49.354941Z",
     "iopub.status.idle": "2023-06-29T12:00:49.361423Z",
     "shell.execute_reply": "2023-06-29T12:00:49.361423Z",
     "shell.execute_reply.started": "2023-06-29T12:00:49.355920Z"
    }
   },
   "outputs": [
    {
     "data": {
      "text/plain": [
       "0.0009429167122665274"
      ]
     },
     "execution_count": 43,
     "metadata": {},
     "output_type": "execute_result"
    }
   ],
   "source": [
    "# test statistic = (best estimate - hypothesized estimate) / standard error of the estimate\n",
    "\n",
    "# One way to calculate the combined standard error is;\n",
    "# simply the sum of the two standard errors.\n",
    "\n",
    "stderr_m1 = np.sqrt((hr_prop * (1 - hr_prop) / high_res.size) + (lr_prop * (1 - lr_prop) / low_res.size))\n",
    "stderr_m1"
   ]
  },
  {
   "cell_type": "code",
   "execution_count": 41,
   "id": "7460d86a-d4ab-495b-8722-10d65c9e0a78",
   "metadata": {
    "execution": {
     "iopub.execute_input": "2023-06-29T11:58:35.757594Z",
     "iopub.status.busy": "2023-06-29T11:58:35.757594Z",
     "iopub.status.idle": "2023-06-29T11:58:35.767363Z",
     "shell.execute_reply": "2023-06-29T11:58:35.767363Z",
     "shell.execute_reply.started": "2023-06-29T11:58:35.757594Z"
    }
   },
   "outputs": [
    {
     "data": {
      "text/plain": [
       "0.49361949361949364"
      ]
     },
     "execution_count": 41,
     "metadata": {},
     "output_type": "execute_result"
    }
   ],
   "source": [
    "# another way using the common population proportion is; (See What to do When The Data is Not Available? for more details)\n",
    "\n",
    "p_hat_oil = p_hat_oil = ((hr_prop * high_res.size) + (lr_prop * low_res.size)) / (high_res.size + low_res.size)\n",
    "p_hat_oil"
   ]
  },
  {
   "cell_type": "code",
   "execution_count": 44,
   "id": "5feb4a45-d325-4149-9528-72456b190e49",
   "metadata": {
    "execution": {
     "iopub.execute_input": "2023-06-29T12:00:57.897537Z",
     "iopub.status.busy": "2023-06-29T12:00:57.897537Z",
     "iopub.status.idle": "2023-06-29T12:00:57.902333Z",
     "shell.execute_reply": "2023-06-29T12:00:57.902333Z",
     "shell.execute_reply.started": "2023-06-29T12:00:57.897537Z"
    }
   },
   "outputs": [
    {
     "data": {
      "text/plain": [
       "0.0010013025305188217"
      ]
     },
     "execution_count": 44,
     "metadata": {},
     "output_type": "execute_result"
    }
   ],
   "source": [
    "stderr_m2 = np.sqrt(p_hat_oil * (1 - p_hat_oil) * ((1 / high_res.size) + (1 / low_res.size)))\n",
    "stderr_m2"
   ]
  },
  {
   "cell_type": "code",
   "execution_count": 49,
   "id": "9cde95a9-78eb-45ca-b450-b1be7d45dd28",
   "metadata": {
    "execution": {
     "iopub.execute_input": "2023-06-29T12:01:50.391816Z",
     "iopub.status.busy": "2023-06-29T12:01:50.391816Z",
     "iopub.status.idle": "2023-06-29T12:01:50.401656Z",
     "shell.execute_reply": "2023-06-29T12:01:50.401656Z",
     "shell.execute_reply.started": "2023-06-29T12:01:50.391816Z"
    }
   },
   "outputs": [
    {
     "name": "stdout",
     "output_type": "stream",
     "text": [
      "0.0000583858\n"
     ]
    }
   ],
   "source": [
    "# There is a very minor difference between them, but that's okay!\n",
    "\n",
    "print(f\"{stderr_m2 - stderr_m1:.10f}\")"
   ]
  },
  {
   "cell_type": "code",
   "execution_count": 50,
   "id": "37eaaf10-9883-45a2-a8b4-4ba7e272a95a",
   "metadata": {
    "execution": {
     "iopub.execute_input": "2023-06-29T12:03:46.944657Z",
     "iopub.status.busy": "2023-06-29T12:03:46.944657Z",
     "iopub.status.idle": "2023-06-29T12:03:46.952871Z",
     "shell.execute_reply": "2023-06-29T12:03:46.952871Z",
     "shell.execute_reply.started": "2023-06-29T12:03:46.944657Z"
    }
   },
   "outputs": [
    {
     "data": {
      "text/plain": [
       "356.76713888759514"
      ]
     },
     "execution_count": 50,
     "metadata": {},
     "output_type": "execute_result"
    }
   ],
   "source": [
    "# We'll use the actual, more accurate stdndard error, computed using the two standard errors.\n",
    "\n",
    "z = (best_est - 0.0) / stderr_m1\n",
    "z"
   ]
  },
  {
   "cell_type": "code",
   "execution_count": 51,
   "id": "240572bb-0efc-4b6d-84ad-72650cdc4036",
   "metadata": {
    "execution": {
     "iopub.execute_input": "2023-06-29T12:04:46.833267Z",
     "iopub.status.busy": "2023-06-29T12:04:46.833267Z",
     "iopub.status.idle": "2023-06-29T12:04:46.839743Z",
     "shell.execute_reply": "2023-06-29T12:04:46.839743Z",
     "shell.execute_reply.started": "2023-06-29T12:04:46.833267Z"
    }
   },
   "outputs": [
    {
     "data": {
      "text/plain": [
       "(0.670659137685366, 0.33425744004073926)"
      ]
     },
     "execution_count": 51,
     "metadata": {},
     "output_type": "execute_result"
    }
   ],
   "source": [
    "# Now, that's a bloody big number.\n",
    "# Because our proportions were apparently very different!\n",
    "\n",
    "hr_prop, lr_prop"
   ]
  },
  {
   "cell_type": "code",
   "execution_count": null,
   "id": "d2cdd2d1-df91-48cb-82e6-66a5eca17233",
   "metadata": {},
   "outputs": [],
   "source": []
  },
  {
   "cell_type": "markdown",
   "id": "1c310d90-e1a6-4ada-85f0-8cc77d40b725",
   "metadata": {},
   "source": [
    "## ___What to do When The Data is Not Available?___\n",
    "--------"
   ]
  },
  {
   "cell_type": "code",
   "execution_count": 12,
   "id": "bee39121-d599-49bb-ae07-425718e613d3",
   "metadata": {
    "execution": {
     "iopub.execute_input": "2023-06-29T11:31:43.383124Z",
     "iopub.status.busy": "2023-06-29T11:31:43.383124Z",
     "iopub.status.idle": "2023-06-29T11:31:43.388257Z",
     "shell.execute_reply": "2023-06-29T11:31:43.388257Z",
     "shell.execute_reply.started": "2023-06-29T11:31:43.383124Z"
    }
   },
   "outputs": [],
   "source": [
    "# Above, we have the data. Suppose we do not and the only metrics available at hand are the proportions.\n",
    "# let's say that we have two samples.\n",
    "# One sample comes from men and the next from women.\n",
    "# These samples contain responses to a yes/no question. The only options are yes/no.\n",
    "\n",
    "# Say, that the proportion of yesses in the men's sample is 0.716 and that in women's sample is 0.699\n",
    "# Sample sizes are 1204 and 1171 for men and women respectively.\n",
    "\n",
    "# We need to compute a common proportion p_hat, and make sure that \n",
    "\n",
    "# p_hat x size(men) >= 10\n",
    "# (1 - p_hat) x size(men) >= 10\n",
    "# p_hat x size(women) >= 10\n",
    "# (1 - p_hat) x size(women) >= 10"
   ]
  },
  {
   "cell_type": "code",
   "execution_count": 13,
   "id": "ca460533-6151-4bc9-896a-de851e9e81ce",
   "metadata": {
    "execution": {
     "iopub.execute_input": "2023-06-29T11:31:43.846637Z",
     "iopub.status.busy": "2023-06-29T11:31:43.846637Z",
     "iopub.status.idle": "2023-06-29T11:31:43.852370Z",
     "shell.execute_reply": "2023-06-29T11:31:43.851693Z",
     "shell.execute_reply.started": "2023-06-29T11:31:43.846637Z"
    }
   },
   "outputs": [],
   "source": [
    "# Note that we are not using the proportions for men and women to compute separate counts."
   ]
  },
  {
   "cell_type": "code",
   "execution_count": 60,
   "id": "d1a0a1cf-d31e-42c1-b5a5-6aa56374dc81",
   "metadata": {
    "execution": {
     "iopub.execute_input": "2023-06-29T12:07:24.471967Z",
     "iopub.status.busy": "2023-06-29T12:07:24.471967Z",
     "iopub.status.idle": "2023-06-29T12:07:24.478424Z",
     "shell.execute_reply": "2023-06-29T12:07:24.477905Z",
     "shell.execute_reply.started": "2023-06-29T12:07:24.471967Z"
    }
   },
   "outputs": [],
   "source": [
    "prop_yes_men, prop_yes_women = 0.716, 0.699\n",
    "smen, swomen = 1204, 1171"
   ]
  },
  {
   "cell_type": "code",
   "execution_count": 61,
   "id": "c2dcecdb-0469-4ee4-a50f-47d152abc614",
   "metadata": {
    "execution": {
     "iopub.execute_input": "2023-06-29T12:07:24.806538Z",
     "iopub.status.busy": "2023-06-29T12:07:24.806538Z",
     "iopub.status.idle": "2023-06-29T12:07:24.813914Z",
     "shell.execute_reply": "2023-06-29T12:07:24.812898Z",
     "shell.execute_reply.started": "2023-06-29T12:07:24.806538Z"
    }
   },
   "outputs": [],
   "source": [
    "# Null => No significant difference between the proportion of mena nd women who answered yes to the given question.\n",
    "# Alternative => The proportion of men who answered yes to the given question is not equal to the women who said yes.\n",
    "\n",
    "# H0: P_m = P_w\n",
    "# H1: P_m != P_w"
   ]
  },
  {
   "cell_type": "code",
   "execution_count": 62,
   "id": "d3c3aca2-d3ed-4e44-b853-07685d7c9963",
   "metadata": {
    "execution": {
     "iopub.execute_input": "2023-06-29T12:07:25.156513Z",
     "iopub.status.busy": "2023-06-29T12:07:25.156513Z",
     "iopub.status.idle": "2023-06-29T12:07:25.163413Z",
     "shell.execute_reply": "2023-06-29T12:07:25.163413Z",
     "shell.execute_reply.started": "2023-06-29T12:07:25.156513Z"
    }
   },
   "outputs": [],
   "source": [
    "# significance 10%\n",
    "\n",
    "alpha = 0.1"
   ]
  },
  {
   "cell_type": "code",
   "execution_count": 63,
   "id": "923d35e2-8703-4c96-a9f8-a9d4072a5674",
   "metadata": {
    "execution": {
     "iopub.execute_input": "2023-06-29T12:07:25.782826Z",
     "iopub.status.busy": "2023-06-29T12:07:25.782826Z",
     "iopub.status.idle": "2023-06-29T12:07:25.789334Z",
     "shell.execute_reply": "2023-06-29T12:07:25.789334Z",
     "shell.execute_reply.started": "2023-06-29T12:07:25.782826Z"
    }
   },
   "outputs": [
    {
     "data": {
      "text/plain": [
       "0.7076181052631578"
      ]
     },
     "execution_count": 63,
     "metadata": {},
     "output_type": "execute_result"
    }
   ],
   "source": [
    "# Assumptions:\n",
    "# Two independent random samples - check.\n",
    "# Large enough samples - ?\n",
    "\n",
    "# How do we find the p_hat? the common sample proportion?\n",
    "# This is computed as the = total number of yesses / total number of people \n",
    "\n",
    "p_hat = ((smen * prop_yes_men) + (swomen * prop_yes_women)) / (smen + swomen)\n",
    "p_hat"
   ]
  },
  {
   "cell_type": "code",
   "execution_count": 64,
   "id": "20b0f5a2-41a0-49fb-ab46-7d472de9bb28",
   "metadata": {
    "execution": {
     "iopub.execute_input": "2023-06-29T12:07:36.102535Z",
     "iopub.status.busy": "2023-06-29T12:07:36.102535Z",
     "iopub.status.idle": "2023-06-29T12:07:36.110178Z",
     "shell.execute_reply": "2023-06-29T12:07:36.110178Z",
     "shell.execute_reply.started": "2023-06-29T12:07:36.102535Z"
    }
   },
   "outputs": [
    {
     "data": {
      "text/plain": [
       "(True, True)"
      ]
     },
     "execution_count": 64,
     "metadata": {},
     "output_type": "execute_result"
    }
   ],
   "source": [
    "# p_hat here is the proportion of people who said yes, to the question, regardless of the gender.\n",
    "\n",
    "# men yes, no\n",
    "(p_hat * smen) > 10, ((1 - p_hat) * smen) > 10"
   ]
  },
  {
   "cell_type": "code",
   "execution_count": 65,
   "id": "0c0c9a64-38f1-43e7-b986-41d95eed06d3",
   "metadata": {
    "execution": {
     "iopub.execute_input": "2023-06-29T12:07:36.559804Z",
     "iopub.status.busy": "2023-06-29T12:07:36.559804Z",
     "iopub.status.idle": "2023-06-29T12:07:36.567146Z",
     "shell.execute_reply": "2023-06-29T12:07:36.566490Z",
     "shell.execute_reply.started": "2023-06-29T12:07:36.559804Z"
    }
   },
   "outputs": [
    {
     "data": {
      "text/plain": [
       "(True, True)"
      ]
     },
     "execution_count": 65,
     "metadata": {},
     "output_type": "execute_result"
    }
   ],
   "source": [
    "# women yes, no\n",
    "(p_hat * swomen) > 10, ((1 - p_hat) * swomen) > 10"
   ]
  },
  {
   "cell_type": "code",
   "execution_count": 55,
   "id": "62134983-6328-4ebf-b742-b3e5f6459018",
   "metadata": {
    "execution": {
     "iopub.execute_input": "2023-06-29T12:05:45.528713Z",
     "iopub.status.busy": "2023-06-29T12:05:45.528713Z",
     "iopub.status.idle": "2023-06-29T12:05:45.548952Z",
     "shell.execute_reply": "2023-06-29T12:05:45.548845Z",
     "shell.execute_reply.started": "2023-06-29T12:05:45.528713Z"
    }
   },
   "outputs": [],
   "source": [
    "# Okay!"
   ]
  },
  {
   "cell_type": "code",
   "execution_count": 68,
   "id": "e8475e99-40b7-4790-9a71-e21731b10964",
   "metadata": {
    "execution": {
     "iopub.execute_input": "2023-06-29T12:08:33.378863Z",
     "iopub.status.busy": "2023-06-29T12:08:33.378863Z",
     "iopub.status.idle": "2023-06-29T12:08:33.383952Z",
     "shell.execute_reply": "2023-06-29T12:08:33.383379Z",
     "shell.execute_reply.started": "2023-06-29T12:08:33.378863Z"
    }
   },
   "outputs": [
    {
     "data": {
      "text/plain": [
       "0.017000000000000015"
      ]
     },
     "execution_count": 68,
     "metadata": {},
     "output_type": "execute_result"
    }
   ],
   "source": [
    "# Best estimate - difference between the sample proportions\n",
    "\n",
    "best_est = prop_yes_men - prop_yes_women\n",
    "best_est"
   ]
  },
  {
   "cell_type": "code",
   "execution_count": 69,
   "id": "9229fbff-cffe-4c64-9eb8-5049c4f7f39d",
   "metadata": {
    "execution": {
     "iopub.execute_input": "2023-06-29T12:08:45.634837Z",
     "iopub.status.busy": "2023-06-29T12:08:45.633799Z",
     "iopub.status.idle": "2023-06-29T12:08:45.638973Z",
     "shell.execute_reply": "2023-06-29T12:08:45.638427Z",
     "shell.execute_reply.started": "2023-06-29T12:08:45.634837Z"
    }
   },
   "outputs": [
    {
     "data": {
      "text/plain": [
       "0.9106135307056814"
      ]
     },
     "execution_count": 69,
     "metadata": {},
     "output_type": "execute_result"
    }
   ],
   "source": [
    "stderr = np.sqrt(p_hat * (1 - p_hat) * ((1 / smen) + (1 / swomen)))\n",
    "z = (best_est - 0.0) / stderr\n",
    "z"
   ]
  },
  {
   "cell_type": "code",
   "execution_count": 75,
   "id": "85b34843-76ac-41eb-9aa8-c1e51047ba11",
   "metadata": {
    "execution": {
     "iopub.execute_input": "2023-06-29T12:12:50.202564Z",
     "iopub.status.busy": "2023-06-29T12:12:50.202564Z",
     "iopub.status.idle": "2023-06-29T12:12:50.209187Z",
     "shell.execute_reply": "2023-06-29T12:12:50.209187Z",
     "shell.execute_reply.started": "2023-06-29T12:12:50.202564Z"
    }
   },
   "outputs": [
    {
     "data": {
      "text/plain": [
       "0.8187504806548868"
      ]
     },
     "execution_count": 75,
     "metadata": {},
     "output_type": "execute_result"
    }
   ],
   "source": [
    "# Cumulative distribution function, the probability of a random value from normal distribution falling on the left side of the provided\n",
    "# value is a standard normal curve.\n",
    "\n",
    "t  = norm.cdf(z)"
   ]
  },
  {
   "cell_type": "code",
   "execution_count": null,
   "id": "de41d1e3-f585-4486-a85a-93968a8f0bfa",
   "metadata": {},
   "outputs": [],
   "source": []
  },
  {
   "cell_type": "code",
   "execution_count": 26,
   "id": "ba5615b0-90c7-46a2-9ecf-f83192a6f6a7",
   "metadata": {
    "execution": {
     "iopub.execute_input": "2023-06-29T11:43:53.274658Z",
     "iopub.status.busy": "2023-06-29T11:43:53.274658Z",
     "iopub.status.idle": "2023-06-29T11:43:53.279060Z",
     "shell.execute_reply": "2023-06-29T11:43:53.278289Z",
     "shell.execute_reply.started": "2023-06-29T11:43:53.274658Z"
    }
   },
   "outputs": [],
   "source": [
    "# Repeat this to the oil temperature"
   ]
  },
  {
   "cell_type": "code",
   "execution_count": 29,
   "id": "34be1106-49f3-4790-8f5c-a0ceed0bb189",
   "metadata": {
    "execution": {
     "iopub.execute_input": "2023-06-29T11:44:06.166700Z",
     "iopub.status.busy": "2023-06-29T11:44:06.166700Z",
     "iopub.status.idle": "2023-06-29T11:44:06.173961Z",
     "shell.execute_reply": "2023-06-29T11:44:06.173961Z",
     "shell.execute_reply.started": "2023-06-29T11:44:06.166700Z"
    }
   },
   "outputs": [
    {
     "data": {
      "text/plain": [
       "(0.670659137685366, 0.33425744004073926)"
      ]
     },
     "execution_count": 29,
     "metadata": {},
     "output_type": "execute_result"
    }
   ],
   "source": [
    "hr_prop, lr_prop"
   ]
  },
  {
   "cell_type": "code",
   "execution_count": 32,
   "id": "7c2cfc9c-47cd-4e94-b81d-98a7ade6b917",
   "metadata": {
    "execution": {
     "iopub.execute_input": "2023-06-29T11:45:52.651616Z",
     "iopub.status.busy": "2023-06-29T11:45:52.651616Z",
     "iopub.status.idle": "2023-06-29T11:45:52.657870Z",
     "shell.execute_reply": "2023-06-29T11:45:52.657870Z",
     "shell.execute_reply.started": "2023-06-29T11:45:52.651616Z"
    }
   },
   "outputs": [
    {
     "data": {
      "text/plain": [
       "0.49361949361949364"
      ]
     },
     "execution_count": 32,
     "metadata": {},
     "output_type": "execute_result"
    }
   ],
   "source": [
    "p_hat_oil = ((hr_prop * high_res.size) + (lr_prop * low_res.size)) / (high_res.size + low_res.size)\n",
    "p_hat_oil"
   ]
  },
  {
   "cell_type": "code",
   "execution_count": 36,
   "id": "950cd407-31be-420e-960d-8bd9606d69a9",
   "metadata": {
    "execution": {
     "iopub.execute_input": "2023-06-29T11:47:08.138673Z",
     "iopub.status.busy": "2023-06-29T11:47:08.138673Z",
     "iopub.status.idle": "2023-06-29T11:47:08.144421Z",
     "shell.execute_reply": "2023-06-29T11:47:08.143902Z",
     "shell.execute_reply.started": "2023-06-29T11:47:08.138673Z"
    }
   },
   "outputs": [
    {
     "data": {
      "text/plain": [
       "(259779.1053851054, 266494.8946148946)"
      ]
     },
     "execution_count": 36,
     "metadata": {},
     "output_type": "execute_result"
    }
   ],
   "source": [
    "p_hat_oil * low_res.size, (1 - p_hat_oil) * low_res.size"
   ]
  },
  {
   "cell_type": "code",
   "execution_count": 37,
   "id": "9d8fe366-1f34-4319-899e-9d4584f4c3e5",
   "metadata": {
    "execution": {
     "iopub.execute_input": "2023-06-29T11:47:32.851840Z",
     "iopub.status.busy": "2023-06-29T11:47:32.851840Z",
     "iopub.status.idle": "2023-06-29T11:47:32.858301Z",
     "shell.execute_reply": "2023-06-29T11:47:32.858136Z",
     "shell.execute_reply.started": "2023-06-29T11:47:32.851840Z"
    }
   },
   "outputs": [
    {
     "data": {
      "text/plain": [
       "(233839.8946148946, 239885.1053851054)"
      ]
     },
     "execution_count": 37,
     "metadata": {},
     "output_type": "execute_result"
    }
   ],
   "source": [
    "p_hat_oil * high_res.size, (1 - p_hat_oil) * high_res.size"
   ]
  },
  {
   "cell_type": "code",
   "execution_count": null,
   "id": "c2f59c80-9a74-40b1-be09-0bf7064d9b62",
   "metadata": {},
   "outputs": [],
   "source": [
    "# This works too, but when we have the data at hand, it's better to use it."
   ]
  }
 ],
 "metadata": {
  "kernelspec": {
   "display_name": "Python 3 (ipykernel)",
   "language": "python",
   "name": "python3"
  },
  "language_info": {
   "codemirror_mode": {
    "name": "ipython",
    "version": 3
   },
   "file_extension": ".py",
   "mimetype": "text/x-python",
   "name": "python",
   "nbconvert_exporter": "python",
   "pygments_lexer": "ipython3",
   "version": "3.11.4"
  }
 },
 "nbformat": 4,
 "nbformat_minor": 5
}
