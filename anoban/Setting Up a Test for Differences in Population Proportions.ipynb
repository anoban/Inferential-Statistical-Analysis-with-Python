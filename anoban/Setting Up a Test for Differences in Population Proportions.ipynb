{
 "cells": [
  {
   "cell_type": "code",
   "execution_count": 1,
   "id": "3750fe93-c6d2-4d13-9b0f-b99068ee2883",
   "metadata": {
    "execution": {
     "iopub.execute_input": "2023-06-29T01:14:37.621236Z",
     "iopub.status.busy": "2023-06-29T01:14:37.621236Z",
     "iopub.status.idle": "2023-06-29T01:14:38.094947Z",
     "shell.execute_reply": "2023-06-29T01:14:38.094947Z",
     "shell.execute_reply.started": "2023-06-29T01:14:37.621236Z"
    }
   },
   "outputs": [],
   "source": [
    "import numpy as np\n",
    "import pandas as pd"
   ]
  },
  {
   "cell_type": "markdown",
   "id": "303bd176-c4fc-43ce-8871-6a9f3a5211f0",
   "metadata": {},
   "source": [
    "# ___Setting Up a Test for Differences in Population Proportions___\n",
    "--------------"
   ]
  },
  {
   "cell_type": "code",
   "execution_count": null,
   "id": "193bd7c8-b187-409d-8028-d8ba01c8823b",
   "metadata": {},
   "outputs": [],
   "source": []
  }
 ],
 "metadata": {
  "kernelspec": {
   "display_name": "Python 3 (ipykernel)",
   "language": "python",
   "name": "python3"
  },
  "language_info": {
   "codemirror_mode": {
    "name": "ipython",
    "version": 3
   },
   "file_extension": ".py",
   "mimetype": "text/x-python",
   "name": "python",
   "nbconvert_exporter": "python",
   "pygments_lexer": "ipython3",
   "version": "3.11.4"
  }
 },
 "nbformat": 4,
 "nbformat_minor": 5
}
