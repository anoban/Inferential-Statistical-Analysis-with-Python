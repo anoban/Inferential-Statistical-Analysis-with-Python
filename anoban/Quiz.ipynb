{
 "cells": [
  {
   "cell_type": "code",
   "execution_count": 6,
   "id": "dad8a517-5c6a-467d-a074-bd2f190a9c3a",
   "metadata": {
    "execution": {
     "iopub.execute_input": "2023-06-07T11:16:40.283072Z",
     "iopub.status.busy": "2023-06-07T11:16:40.283072Z",
     "iopub.status.idle": "2023-06-07T11:16:40.526589Z",
     "shell.execute_reply": "2023-06-07T11:16:40.526589Z",
     "shell.execute_reply.started": "2023-06-07T11:16:40.283072Z"
    }
   },
   "outputs": [],
   "source": [
    "import numpy as np"
   ]
  },
  {
   "cell_type": "code",
   "execution_count": 7,
   "id": "384b0cd0-2c67-4dc1-ac43-86fbcb0f6a70",
   "metadata": {
    "execution": {
     "iopub.execute_input": "2023-06-07T11:16:40.676079Z",
     "iopub.status.busy": "2023-06-07T11:16:40.676079Z",
     "iopub.status.idle": "2023-06-07T11:16:40.682821Z",
     "shell.execute_reply": "2023-06-07T11:16:40.682821Z",
     "shell.execute_reply.started": "2023-06-07T11:16:40.676079Z"
    }
   },
   "outputs": [],
   "source": [
    "ssize = 526\n",
    "tablet = 0.53\n",
    "\n",
    "# 90% confidence interval for the population proportion of \n",
    "# Americans who own a tablet was reported to be (0.4942, 0.5658).  "
   ]
  },
  {
   "cell_type": "markdown",
   "id": "431ad69f-6bb2-462d-b80a-9ec330bf2f29",
   "metadata": {},
   "source": [
    "![Confidence Intervals](../data/CommonCLZvalues.png)"
   ]
  },
  {
   "cell_type": "code",
   "execution_count": 2,
   "id": "5bd6f4ed-9923-43dd-b70e-1513e0554330",
   "metadata": {
    "execution": {
     "iopub.execute_input": "2023-06-07T11:08:02.850044Z",
     "iopub.status.busy": "2023-06-07T11:08:02.850044Z",
     "iopub.status.idle": "2023-06-07T11:08:02.855671Z",
     "shell.execute_reply": "2023-06-07T11:08:02.855671Z",
     "shell.execute_reply.started": "2023-06-07T11:08:02.850044Z"
    }
   },
   "outputs": [],
   "source": [
    "# 90% confidence interval => z = 1.645\n",
    "# 95% confidence interval => z = 1.96\n",
    "\n",
    "# confidence interval => best estimate +- margin of error\n",
    "# margin of error = z * standard error\n",
    "# in conservative approach, standard error = 1 / (2 * sqrt(n))"
   ]
  },
  {
   "cell_type": "code",
   "execution_count": 3,
   "id": "783dd95b-77d3-4163-9afd-f2fd43a019a7",
   "metadata": {
    "execution": {
     "iopub.execute_input": "2023-06-07T11:13:55.226550Z",
     "iopub.status.busy": "2023-06-07T11:13:55.226550Z",
     "iopub.status.idle": "2023-06-07T11:13:55.230682Z",
     "shell.execute_reply": "2023-06-07T11:13:55.230682Z",
     "shell.execute_reply.started": "2023-06-07T11:13:55.226550Z"
    }
   },
   "outputs": [],
   "source": [
    "# 95% conservative confidence interval\n",
    "# 3% MoE\n",
    "\n",
    "# Sample size?"
   ]
  },
  {
   "cell_type": "code",
   "execution_count": 4,
   "id": "3ad6c6ff-1075-4663-b904-df23d2c5cca4",
   "metadata": {
    "execution": {
     "iopub.execute_input": "2023-06-07T11:16:29.972750Z",
     "iopub.status.busy": "2023-06-07T11:16:29.972750Z",
     "iopub.status.idle": "2023-06-07T11:16:29.983200Z",
     "shell.execute_reply": "2023-06-07T11:16:29.982988Z",
     "shell.execute_reply.started": "2023-06-07T11:16:29.972750Z"
    }
   },
   "outputs": [],
   "source": [
    "# z = 1.96\n",
    "# stderr = 1 / (2 * sqrt(n))\n",
    "# MoE = 0.03\n",
    "\n",
    "stderr = 0.03 / 1.96\n",
    "n = (1 / (2 * stderr)) ** 2"
   ]
  },
  {
   "cell_type": "code",
   "execution_count": 8,
   "id": "81975e97-178a-404f-b0d4-b840e0df63b4",
   "metadata": {
    "execution": {
     "iopub.execute_input": "2023-06-07T11:16:48.636334Z",
     "iopub.status.busy": "2023-06-07T11:16:48.636334Z",
     "iopub.status.idle": "2023-06-07T11:16:48.642511Z",
     "shell.execute_reply": "2023-06-07T11:16:48.641981Z",
     "shell.execute_reply.started": "2023-06-07T11:16:48.636334Z"
    }
   },
   "outputs": [
    {
     "data": {
      "text/plain": [
       "1068.0"
      ]
     },
     "execution_count": 8,
     "metadata": {},
     "output_type": "execute_result"
    }
   ],
   "source": [
    "np.ceil(n)"
   ]
  },
  {
   "cell_type": "code",
   "execution_count": 10,
   "id": "41cd0b24-db72-4886-8a63-c6f919f692cd",
   "metadata": {
    "execution": {
     "iopub.execute_input": "2023-06-07T11:24:44.635506Z",
     "iopub.status.busy": "2023-06-07T11:24:44.635506Z",
     "iopub.status.idle": "2023-06-07T11:24:44.639645Z",
     "shell.execute_reply": "2023-06-07T11:24:44.639130Z",
     "shell.execute_reply.started": "2023-06-07T11:24:44.635506Z"
    }
   },
   "outputs": [
    {
     "data": {
      "text/plain": [
       "0.0637"
      ]
     },
     "execution_count": 10,
     "metadata": {},
     "output_type": "execute_result"
    }
   ],
   "source": [
    "(0.4937 - 0.3663) / 2"
   ]
  },
  {
   "cell_type": "code",
   "execution_count": 11,
   "id": "212dc60a-09ae-47b4-8082-acf477f59d1a",
   "metadata": {
    "execution": {
     "iopub.execute_input": "2023-06-07T11:29:35.390692Z",
     "iopub.status.busy": "2023-06-07T11:29:35.390692Z",
     "iopub.status.idle": "2023-06-07T11:29:35.400296Z",
     "shell.execute_reply": "2023-06-07T11:29:35.400296Z",
     "shell.execute_reply.started": "2023-06-07T11:29:35.390692Z"
    }
   },
   "outputs": [
    {
     "data": {
      "text/plain": [
       "600.2499999999998"
      ]
     },
     "execution_count": 11,
     "metadata": {},
     "output_type": "execute_result"
    }
   ],
   "source": [
    "stderr = 0.04 / 1.96\n",
    "(1 / (2 * stderr)) ** 2"
   ]
  },
  {
   "cell_type": "code",
   "execution_count": 12,
   "id": "0c0da076-3eb3-4036-8309-23162b085840",
   "metadata": {
    "execution": {
     "iopub.execute_input": "2023-06-07T11:30:58.353734Z",
     "iopub.status.busy": "2023-06-07T11:30:58.353734Z",
     "iopub.status.idle": "2023-06-07T11:30:58.369281Z",
     "shell.execute_reply": "2023-06-07T11:30:58.368769Z",
     "shell.execute_reply.started": "2023-06-07T11:30:58.353734Z"
    }
   },
   "outputs": [
    {
     "data": {
      "text/plain": [
       "1508.027777777778"
      ]
     },
     "execution_count": 12,
     "metadata": {},
     "output_type": "execute_result"
    }
   ],
   "source": [
    "stderr = 0.03 / 2.33\n",
    "(1 / (2 * stderr)) ** 2"
   ]
  }
 ],
 "metadata": {
  "kernelspec": {
   "display_name": "Python 3 (ipykernel)",
   "language": "python",
   "name": "python3"
  },
  "language_info": {
   "codemirror_mode": {
    "name": "ipython",
    "version": 3
   },
   "file_extension": ".py",
   "mimetype": "text/x-python",
   "name": "python",
   "nbconvert_exporter": "python",
   "pygments_lexer": "ipython3",
   "version": "3.11.3"
  }
 },
 "nbformat": 4,
 "nbformat_minor": 5
}
