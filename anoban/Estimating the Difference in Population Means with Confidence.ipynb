{
 "cells": [
  {
   "cell_type": "code",
   "execution_count": 1,
   "id": "5ae279db-cc19-436e-9906-862fcadcdb6d",
   "metadata": {
    "execution": {
     "iopub.execute_input": "2023-06-15T22:56:06.005342Z",
     "iopub.status.busy": "2023-06-15T22:56:06.005342Z",
     "iopub.status.idle": "2023-06-15T22:56:06.989913Z",
     "shell.execute_reply": "2023-06-15T22:56:06.989913Z",
     "shell.execute_reply.started": "2023-06-15T22:56:06.005342Z"
    }
   },
   "outputs": [],
   "source": [
    "import numpy as np\n",
    "np.random.seed(2023 - 6 - 14)\n",
    "import pandas as pd\n",
    "import matplotlib.pyplot as plt"
   ]
  },
  {
   "cell_type": "markdown",
   "id": "b36763dc-4aaf-4ab0-9e9f-d4684249c064",
   "metadata": {},
   "source": [
    "# ___Estimating the Difference in Population Means with Confidence___\n",
    "-------------------"
   ]
  },
  {
   "cell_type": "code",
   "execution_count": 2,
   "id": "782b1578-bb22-44bc-b2fc-6dd11d1e89fc",
   "metadata": {
    "execution": {
     "iopub.execute_input": "2023-06-15T22:56:07.575711Z",
     "iopub.status.busy": "2023-06-15T22:56:07.575711Z",
     "iopub.status.idle": "2023-06-15T22:56:07.631242Z",
     "shell.execute_reply": "2023-06-15T22:56:07.631242Z",
     "shell.execute_reply.started": "2023-06-15T22:56:07.575711Z"
    }
   },
   "outputs": [],
   "source": [
    "nhanes = pd.read_csv(\"../data/nhanes_2015_2016.csv\", usecols = [\"RIAGENDR\", \"BMXBMI\"]).dropna(axis = 0)"
   ]
  },
  {
   "cell_type": "code",
   "execution_count": 3,
   "id": "8a2d6392-30d7-4c18-9d44-9330580d9317",
   "metadata": {
    "execution": {
     "iopub.execute_input": "2023-06-15T22:56:07.999679Z",
     "iopub.status.busy": "2023-06-15T22:56:07.999679Z",
     "iopub.status.idle": "2023-06-15T22:56:08.044361Z",
     "shell.execute_reply": "2023-06-15T22:56:08.044361Z",
     "shell.execute_reply.started": "2023-06-15T22:56:07.999679Z"
    }
   },
   "outputs": [
    {
     "data": {
      "text/plain": [
       "0"
      ]
     },
     "execution_count": 3,
     "metadata": {},
     "output_type": "execute_result"
    }
   ],
   "source": [
    "nhanes.BMXBMI.isna().sum()"
   ]
  },
  {
   "cell_type": "code",
   "execution_count": 4,
   "id": "6367e4cf-0697-4a8e-8291-3298e344d008",
   "metadata": {
    "execution": {
     "iopub.execute_input": "2023-06-15T22:56:08.597299Z",
     "iopub.status.busy": "2023-06-15T22:56:08.597299Z",
     "iopub.status.idle": "2023-06-15T22:56:08.607064Z",
     "shell.execute_reply": "2023-06-15T22:56:08.606478Z",
     "shell.execute_reply.started": "2023-06-15T22:56:08.597299Z"
    }
   },
   "outputs": [],
   "source": [
    "nhanes = pd.Series(data = nhanes.BMXBMI.values, index = nhanes.RIAGENDR.apply(lambda x: 'M' if x == 1 else 'F'))"
   ]
  },
  {
   "cell_type": "code",
   "execution_count": 5,
   "id": "116a5374-089c-411a-9699-4b216f1a4b70",
   "metadata": {
    "execution": {
     "iopub.execute_input": "2023-06-15T22:56:13.219714Z",
     "iopub.status.busy": "2023-06-15T22:56:13.219714Z",
     "iopub.status.idle": "2023-06-15T22:56:13.225151Z",
     "shell.execute_reply": "2023-06-15T22:56:13.225151Z",
     "shell.execute_reply.started": "2023-06-15T22:56:13.219714Z"
    }
   },
   "outputs": [],
   "source": [
    "# Q: Does the BMI of males differ significantly from the BMI of females?"
   ]
  },
  {
   "cell_type": "code",
   "execution_count": 6,
   "id": "9228b975-ff0c-46aa-ad0f-899f08df481b",
   "metadata": {
    "execution": {
     "iopub.execute_input": "2023-06-15T22:56:13.667261Z",
     "iopub.status.busy": "2023-06-15T22:56:13.667261Z",
     "iopub.status.idle": "2023-06-15T22:56:13.715023Z",
     "shell.execute_reply": "2023-06-15T22:56:13.715023Z",
     "shell.execute_reply.started": "2023-06-15T22:56:13.667261Z"
    }
   },
   "outputs": [
    {
     "data": {
      "text/plain": [
       "Index(['M', 'F'], dtype='object', name='RIAGENDR')"
      ]
     },
     "execution_count": 6,
     "metadata": {},
     "output_type": "execute_result"
    }
   ],
   "source": [
    "nhanes.index.unique()"
   ]
  },
  {
   "cell_type": "code",
   "execution_count": 7,
   "id": "b9db3f53-c6fd-460e-97cc-3ecca6b12c52",
   "metadata": {
    "execution": {
     "iopub.execute_input": "2023-06-15T22:56:14.712721Z",
     "iopub.status.busy": "2023-06-15T22:56:14.712721Z",
     "iopub.status.idle": "2023-06-15T22:56:14.758584Z",
     "shell.execute_reply": "2023-06-15T22:56:14.758584Z",
     "shell.execute_reply.started": "2023-06-15T22:56:14.712721Z"
    }
   },
   "outputs": [
    {
     "data": {
      "text/plain": [
       "RIAGENDR\n",
       "M    27.8\n",
       "M    30.8\n",
       "M    28.8\n",
       "F    42.4\n",
       "F    20.3\n",
       "     ... \n",
       "F    21.5\n",
       "M    33.8\n",
       "F    31.0\n",
       "M    26.0\n",
       "F    21.4\n",
       "Length: 5662, dtype: float64"
      ]
     },
     "execution_count": 7,
     "metadata": {},
     "output_type": "execute_result"
    }
   ],
   "source": [
    "nhanes"
   ]
  },
  {
   "cell_type": "code",
   "execution_count": 8,
   "id": "218d13e1-acb0-412b-a163-947087f73b84",
   "metadata": {
    "execution": {
     "iopub.execute_input": "2023-06-15T22:56:15.181564Z",
     "iopub.status.busy": "2023-06-15T22:56:15.181564Z",
     "iopub.status.idle": "2023-06-15T22:56:15.226898Z",
     "shell.execute_reply": "2023-06-15T22:56:15.226898Z",
     "shell.execute_reply.started": "2023-06-15T22:56:15.181564Z"
    }
   },
   "outputs": [
    {
     "data": {
      "text/plain": [
       "RIAGENDR\n",
       "F    29.939946\n",
       "M    28.778072\n",
       "dtype: float64"
      ]
     },
     "execution_count": 8,
     "metadata": {},
     "output_type": "execute_result"
    }
   ],
   "source": [
    "nhanes.groupby(level = 0).mean()"
   ]
  },
  {
   "cell_type": "code",
   "execution_count": 9,
   "id": "2a6c1176-97e5-4506-a4f7-4ba158ceaa60",
   "metadata": {
    "execution": {
     "iopub.execute_input": "2023-06-15T22:56:15.575278Z",
     "iopub.status.busy": "2023-06-15T22:56:15.575278Z",
     "iopub.status.idle": "2023-06-15T22:56:15.624286Z",
     "shell.execute_reply": "2023-06-15T22:56:15.624286Z",
     "shell.execute_reply.started": "2023-06-15T22:56:15.575278Z"
    }
   },
   "outputs": [],
   "source": [
    "# Now we have a sample of 200 people.\n",
    "\n",
    "males = nhanes.loc['M']\n",
    "males = males.iloc[np.random.randint(low = 0, high = males.shape[0], size = 1000)]\n",
    "females = nhanes.loc['F']\n",
    "females = females.iloc[np.random.randint(low = 0, high = females.shape[0], size = 1000)]"
   ]
  },
  {
   "cell_type": "code",
   "execution_count": 10,
   "id": "fde55362-c0e8-4aec-bf13-8aef6a75adae",
   "metadata": {
    "execution": {
     "iopub.execute_input": "2023-06-15T22:56:15.982960Z",
     "iopub.status.busy": "2023-06-15T22:56:15.982960Z",
     "iopub.status.idle": "2023-06-15T22:56:15.992388Z",
     "shell.execute_reply": "2023-06-15T22:56:15.992388Z",
     "shell.execute_reply.started": "2023-06-15T22:56:15.982960Z"
    }
   },
   "outputs": [
    {
     "data": {
      "text/plain": [
       "RIAGENDR\n",
       "M    23.2\n",
       "M    32.9\n",
       "M    29.5\n",
       "M    31.5\n",
       "M    31.1\n",
       "     ... \n",
       "M    27.6\n",
       "M    27.6\n",
       "M    23.9\n",
       "M    20.7\n",
       "M    26.3\n",
       "Length: 1000, dtype: float64"
      ]
     },
     "execution_count": 10,
     "metadata": {},
     "output_type": "execute_result"
    }
   ],
   "source": [
    "males"
   ]
  },
  {
   "cell_type": "code",
   "execution_count": 11,
   "id": "b1538bf0-da0f-454e-8ff7-f489814031f1",
   "metadata": {
    "execution": {
     "iopub.execute_input": "2023-06-15T22:56:16.877598Z",
     "iopub.status.busy": "2023-06-15T22:56:16.877598Z",
     "iopub.status.idle": "2023-06-15T22:56:16.887145Z",
     "shell.execute_reply": "2023-06-15T22:56:16.887145Z",
     "shell.execute_reply.started": "2023-06-15T22:56:16.877598Z"
    }
   },
   "outputs": [
    {
     "data": {
      "text/plain": [
       "RIAGENDR\n",
       "F    21.1\n",
       "F    29.1\n",
       "F    30.5\n",
       "F    37.9\n",
       "F    35.9\n",
       "     ... \n",
       "F    41.1\n",
       "F    22.8\n",
       "F    28.1\n",
       "F    34.0\n",
       "F    35.1\n",
       "Length: 1000, dtype: float64"
      ]
     },
     "execution_count": 11,
     "metadata": {},
     "output_type": "execute_result"
    }
   ],
   "source": [
    "females"
   ]
  },
  {
   "cell_type": "code",
   "execution_count": 13,
   "id": "dc5c97e0-23c6-48f5-b40a-26336da5065f",
   "metadata": {
    "execution": {
     "iopub.execute_input": "2023-06-15T22:56:35.956439Z",
     "iopub.status.busy": "2023-06-15T22:56:35.956439Z",
     "iopub.status.idle": "2023-06-15T22:56:35.972098Z",
     "shell.execute_reply": "2023-06-15T22:56:35.971570Z",
     "shell.execute_reply.started": "2023-06-15T22:56:35.956439Z"
    }
   },
   "outputs": [
    {
     "data": {
      "text/plain": [
       "RIAGENDR\n",
       "F    29.939946\n",
       "M    28.778072\n",
       "dtype: float64"
      ]
     },
     "execution_count": 13,
     "metadata": {},
     "output_type": "execute_result"
    }
   ],
   "source": [
    "pop_mean = nhanes.groupby(level = 0).mean()\n",
    "pop_mean"
   ]
  },
  {
   "cell_type": "code",
   "execution_count": 14,
   "id": "b3243c70-45a7-46a1-8431-7999472780ae",
   "metadata": {
    "execution": {
     "iopub.execute_input": "2023-06-15T22:56:48.685803Z",
     "iopub.status.busy": "2023-06-15T22:56:48.685803Z",
     "iopub.status.idle": "2023-06-15T22:56:48.703535Z",
     "shell.execute_reply": "2023-06-15T22:56:48.703535Z",
     "shell.execute_reply.started": "2023-06-15T22:56:48.685803Z"
    }
   },
   "outputs": [
    {
     "data": {
      "text/plain": [
       "count    1000.000000\n",
       "mean       29.080600\n",
       "std         6.376659\n",
       "min        17.700000\n",
       "25%        24.800000\n",
       "50%        27.900000\n",
       "75%        32.000000\n",
       "max        58.000000\n",
       "dtype: float64"
      ]
     },
     "execution_count": 14,
     "metadata": {},
     "output_type": "execute_result"
    }
   ],
   "source": [
    "males.describe()"
   ]
  },
  {
   "cell_type": "code",
   "execution_count": 15,
   "id": "3b3a1fc4-2b7c-4517-b2b5-c83d3c3eb156",
   "metadata": {
    "execution": {
     "iopub.execute_input": "2023-06-15T22:56:49.453822Z",
     "iopub.status.busy": "2023-06-15T22:56:49.453822Z",
     "iopub.status.idle": "2023-06-15T22:56:49.473597Z",
     "shell.execute_reply": "2023-06-15T22:56:49.473597Z",
     "shell.execute_reply.started": "2023-06-15T22:56:49.453822Z"
    }
   },
   "outputs": [
    {
     "data": {
      "text/plain": [
       "count    1000.000000\n",
       "mean       30.189100\n",
       "std         7.888742\n",
       "min        15.500000\n",
       "25%        24.200000\n",
       "50%        29.100000\n",
       "75%        34.300000\n",
       "max        64.500000\n",
       "dtype: float64"
      ]
     },
     "execution_count": 15,
     "metadata": {},
     "output_type": "execute_result"
    }
   ],
   "source": [
    "females.describe()"
   ]
  },
  {
   "cell_type": "code",
   "execution_count": 16,
   "id": "a87cb36b-d31a-4aa4-8432-0ae7bda8a53b",
   "metadata": {
    "execution": {
     "iopub.execute_input": "2023-06-15T22:56:50.241482Z",
     "iopub.status.busy": "2023-06-15T22:56:50.241482Z",
     "iopub.status.idle": "2023-06-15T22:56:50.253676Z",
     "shell.execute_reply": "2023-06-15T22:56:50.252518Z",
     "shell.execute_reply.started": "2023-06-15T22:56:50.241482Z"
    }
   },
   "outputs": [],
   "source": [
    "# To start out, we'll take the sample means as our best estimates.\n",
    "# Sample mean will change from sample to sample.\n",
    "\n",
    "# The difference in the BMIs of males and females will vary from sample to sample.\n",
    "# And this will vary around the true population difference."
   ]
  },
  {
   "cell_type": "code",
   "execution_count": 17,
   "id": "a356d903-6c6a-4c33-974c-18bc0c4ae36d",
   "metadata": {
    "execution": {
     "iopub.execute_input": "2023-06-15T22:56:50.774796Z",
     "iopub.status.busy": "2023-06-15T22:56:50.774796Z",
     "iopub.status.idle": "2023-06-15T22:56:50.786070Z",
     "shell.execute_reply": "2023-06-15T22:56:50.786070Z",
     "shell.execute_reply.started": "2023-06-15T22:56:50.774796Z"
    }
   },
   "outputs": [],
   "source": [
    "# If both populations are approximately normal or if the samples are large enough,\n",
    "# The distribution of our estimated parameter (difference in sample means) is going to be approximately normal as well."
   ]
  },
  {
   "cell_type": "code",
   "execution_count": 18,
   "id": "9dfba2e7-0f7a-4334-84e5-ec3b751dad9f",
   "metadata": {
    "execution": {
     "iopub.execute_input": "2023-06-15T22:56:50.995057Z",
     "iopub.status.busy": "2023-06-15T22:56:50.995057Z",
     "iopub.status.idle": "2023-06-15T22:56:51.011016Z",
     "shell.execute_reply": "2023-06-15T22:56:51.010011Z",
     "shell.execute_reply.started": "2023-06-15T22:56:50.995057Z"
    }
   },
   "outputs": [],
   "source": [
    "# Standard error is the statistic that tells us how far away our estimated statistic is from the population statistic."
   ]
  },
  {
   "cell_type": "markdown",
   "id": "972ad337-e8c3-4881-a9b4-fa8e28603fad",
   "metadata": {},
   "source": [
    "# ___$S.E_{\\mu} = \\frac{\\sigma}{\\sqrt{n}}$___\n",
    "# ___$Estimated~S.E_{\\mu} = \\frac{S}{\\sqrt{n}}$___"
   ]
  },
  {
   "cell_type": "markdown",
   "id": "64c22364-c322-4499-b320-e3d9e4ef15e1",
   "metadata": {
    "execution": {
     "iopub.execute_input": "2023-06-15T11:15:50.431946Z",
     "iopub.status.busy": "2023-06-15T11:15:50.431946Z",
     "iopub.status.idle": "2023-06-15T11:15:50.437376Z",
     "shell.execute_reply": "2023-06-15T11:15:50.437376Z",
     "shell.execute_reply.started": "2023-06-15T11:15:50.431946Z"
    }
   },
   "source": [
    "# ___$S.E_{\\mu_d} = \\frac{\\sigma_1}{\\sqrt{n_1}} - \\frac{\\sigma_2}{\\sqrt{n_2}}$___"
   ]
  },
  {
   "cell_type": "code",
   "execution_count": 19,
   "id": "40dec03f-873a-4036-b174-4f295358c632",
   "metadata": {
    "execution": {
     "iopub.execute_input": "2023-06-15T22:56:51.826826Z",
     "iopub.status.busy": "2023-06-15T22:56:51.826826Z",
     "iopub.status.idle": "2023-06-15T22:56:51.833854Z",
     "shell.execute_reply": "2023-06-15T22:56:51.833854Z",
     "shell.execute_reply.started": "2023-06-15T22:56:51.826826Z"
    }
   },
   "outputs": [],
   "source": [
    "# Since we cannot know the population's standard deviation for males and females,\n",
    "# we'd use the sample's standard deviation for males asnd females."
   ]
  },
  {
   "cell_type": "markdown",
   "id": "452da309-a9f2-4fa9-9a28-15963dc3c3b1",
   "metadata": {},
   "source": [
    "# ___$Estimated~S.E_{\\mu_d} = \\frac{S_1}{\\sqrt{n_1}} - \\frac{S_2}{\\sqrt{n_2}}$___"
   ]
  },
  {
   "cell_type": "code",
   "execution_count": 20,
   "id": "b4fd4aae-e0cc-4fd2-99c6-0ac9a5506494",
   "metadata": {
    "execution": {
     "iopub.execute_input": "2023-06-15T22:56:52.927491Z",
     "iopub.status.busy": "2023-06-15T22:56:52.927491Z",
     "iopub.status.idle": "2023-06-15T22:56:52.931763Z",
     "shell.execute_reply": "2023-06-15T22:56:52.931763Z",
     "shell.execute_reply.started": "2023-06-15T22:56:52.927491Z"
    }
   },
   "outputs": [],
   "source": [
    "# Confidence interval = best estimate +- margin of error\n",
    "# margin of error = multiplier * standard error.\n",
    "\n",
    "# The multiplier we used for sample mean is t value.\n",
    "\n",
    "# say that our sample means are x_bar and y_bar, our best estimate is x_bar - y_bar"
   ]
  },
  {
   "cell_type": "code",
   "execution_count": 21,
   "id": "16c15100-434c-442c-9127-79ef08154404",
   "metadata": {
    "execution": {
     "iopub.execute_input": "2023-06-15T22:56:53.413454Z",
     "iopub.status.busy": "2023-06-15T22:56:53.413454Z",
     "iopub.status.idle": "2023-06-15T22:56:53.421884Z",
     "shell.execute_reply": "2023-06-15T22:56:53.421884Z",
     "shell.execute_reply.started": "2023-06-15T22:56:53.413454Z"
    }
   },
   "outputs": [
    {
     "data": {
      "text/plain": [
       "(0, 0)"
      ]
     },
     "execution_count": 21,
     "metadata": {},
     "output_type": "execute_result"
    }
   ],
   "source": [
    "males.isna().sum(), females.isna().sum()"
   ]
  },
  {
   "cell_type": "code",
   "execution_count": 22,
   "id": "7df0516c-aa99-46e2-b9d2-fe1ab20ce488",
   "metadata": {
    "execution": {
     "iopub.execute_input": "2023-06-15T22:56:54.150832Z",
     "iopub.status.busy": "2023-06-15T22:56:54.150832Z",
     "iopub.status.idle": "2023-06-15T22:56:54.165525Z",
     "shell.execute_reply": "2023-06-15T22:56:54.165525Z",
     "shell.execute_reply.started": "2023-06-15T22:56:54.150832Z"
    }
   },
   "outputs": [
    {
     "data": {
      "text/plain": [
       "(29.080599999999997, 30.1891)"
      ]
     },
     "execution_count": 22,
     "metadata": {},
     "output_type": "execute_result"
    }
   ],
   "source": [
    "male_bmi_sample = males.mean()\n",
    "female_bmi_sample = females.mean()\n",
    "\n",
    "male_bmi_sample, female_bmi_sample"
   ]
  },
  {
   "cell_type": "code",
   "execution_count": 23,
   "id": "1e6a1947-a74a-43aa-acba-fd75f5cb693e",
   "metadata": {
    "execution": {
     "iopub.execute_input": "2023-06-15T22:56:56.535942Z",
     "iopub.status.busy": "2023-06-15T22:56:56.535942Z",
     "iopub.status.idle": "2023-06-15T22:56:56.541565Z",
     "shell.execute_reply": "2023-06-15T22:56:56.541490Z",
     "shell.execute_reply.started": "2023-06-15T22:56:56.535942Z"
    }
   },
   "outputs": [
    {
     "data": {
      "text/plain": [
       "RIAGENDR\n",
       "F    29.939946\n",
       "M    28.778072\n",
       "dtype: float64"
      ]
     },
     "execution_count": 23,
     "metadata": {},
     "output_type": "execute_result"
    }
   ],
   "source": [
    "pop_mean"
   ]
  },
  {
   "cell_type": "code",
   "execution_count": 65,
   "id": "22e4d8a0-e83a-424e-a228-24ba41daf097",
   "metadata": {
    "execution": {
     "iopub.execute_input": "2023-06-15T23:53:13.402961Z",
     "iopub.status.busy": "2023-06-15T23:53:13.402961Z",
     "iopub.status.idle": "2023-06-15T23:53:13.417709Z",
     "shell.execute_reply": "2023-06-15T23:53:13.417709Z",
     "shell.execute_reply.started": "2023-06-15T23:53:13.402961Z"
    }
   },
   "outputs": [
    {
     "data": {
      "text/plain": [
       "(0.2016476764691957, 0.2494639120863646)"
      ]
     },
     "execution_count": 65,
     "metadata": {},
     "output_type": "execute_result"
    }
   ],
   "source": [
    "stderr_male = males.std() / np.sqrt(males.size)\n",
    "stderr_female = females.std() / np.sqrt(females.size)\n",
    "\n",
    "stderr_male, stderr_female"
   ]
  },
  {
   "cell_type": "code",
   "execution_count": 25,
   "id": "484b0a96-85c1-43e9-8e54-a6c3ab6880fa",
   "metadata": {
    "execution": {
     "iopub.execute_input": "2023-06-15T22:57:18.905637Z",
     "iopub.status.busy": "2023-06-15T22:57:18.905637Z",
     "iopub.status.idle": "2023-06-15T22:57:18.918222Z",
     "shell.execute_reply": "2023-06-15T22:57:18.917512Z",
     "shell.execute_reply.started": "2023-06-15T22:57:18.905637Z"
    }
   },
   "outputs": [
    {
     "data": {
      "text/plain": [
       "(1000, 1000)"
      ]
     },
     "execution_count": 25,
     "metadata": {},
     "output_type": "execute_result"
    }
   ],
   "source": [
    "males.size, females.size"
   ]
  },
  {
   "cell_type": "code",
   "execution_count": 80,
   "id": "6aa3f813-79d8-437b-8005-f44e50442fa9",
   "metadata": {
    "execution": {
     "iopub.execute_input": "2023-06-16T00:07:21.776508Z",
     "iopub.status.busy": "2023-06-16T00:07:21.776508Z",
     "iopub.status.idle": "2023-06-16T00:07:21.784494Z",
     "shell.execute_reply": "2023-06-16T00:07:21.784494Z",
     "shell.execute_reply.started": "2023-06-16T00:07:21.776508Z"
    }
   },
   "outputs": [
    {
     "data": {
      "text/plain": [
       "-1.108500000000003"
      ]
     },
     "execution_count": 80,
     "metadata": {},
     "output_type": "execute_result"
    }
   ],
   "source": [
    "best_est = (males.mean() - females.mean())\n",
    "best_est"
   ]
  },
  {
   "cell_type": "code",
   "execution_count": null,
   "id": "5652e967-8a75-46fa-995e-b06614332d8e",
   "metadata": {},
   "outputs": [],
   "source": []
  },
  {
   "cell_type": "markdown",
   "id": "9a253a6e-161e-47a4-a261-5851db34e016",
   "metadata": {},
   "source": [
    "## ___Confidence Interval Approaches:___\n",
    "----------------------"
   ]
  },
  {
   "cell_type": "code",
   "execution_count": null,
   "id": "211f7f4d-8450-49c9-8094-9e192a16766c",
   "metadata": {},
   "outputs": [],
   "source": [
    "# 1) Pooled approach =>\n",
    "# This assumes that the variances of our sampling POPULATIONS equal if they are close enough.\n",
    "# i.e if the variances of males' BMI and females BMI are close enough, we'd assume them to be equal.\n",
    "# Since we cannot measure the variances of populations, we'd evaluate this condition using sample variances.\n",
    "\n",
    "# 2) Unpooled approach =>\n",
    "# This does not assume that the variances of the two POPULATIONS are equal, when they are close enough."
   ]
  },
  {
   "cell_type": "markdown",
   "id": "ed981d9c-8767-4ac5-9644-a9ac42ba18d8",
   "metadata": {},
   "source": [
    "## ___Unpooled Confidence Intervals:___\n",
    "\n",
    "# ___$= (\\bar{x}_m - \\bar{x}_f) \\pm MoE$___\n",
    "\n",
    "# ___$= (\\bar{x}_m - \\bar{x}_f) \\pm (t^* \\cdot Std.Err)$___\n",
    "# ___$= (\\bar{x}_m - \\bar{x}_f) \\pm t^* \\cdot (\\frac{\\sigma_m}{\\sqrt{n_m}} + \\frac{\\sigma_f}{\\sqrt{n_f}})$___\n",
    "\n",
    "# ___$= (\\bar{x}_m - \\bar{x}_f) \\pm (t^* \\cdot Est.Std.Err)$___\n",
    "# ___$= (\\bar{x}_m - \\bar{x}_f) \\pm t^* \\cdot (\\frac{S_m}{\\sqrt{n_m}} + \\frac{S_f}{\\sqrt{n_f}})$___"
   ]
  },
  {
   "cell_type": "code",
   "execution_count": null,
   "id": "94139f38-c298-4d9f-a637-2a1d1fc7a01e",
   "metadata": {},
   "outputs": [],
   "source": [
    "# We'd use the t value for 95% confidence level (5% significance)\n",
    "# Degrees of freedom for the t multiplier can be found using Welch's approximation.\n",
    "# If we had just one sample, our df will be n - 1.\n",
    "# Since we have 2 samples here we cannot simply use the sample size - 1 approach.\n",
    "# Even if the sizes of the 2 samples are same :(\n",
    "\n",
    "# Or a rather less accurate alternative is to use the minimum (n - 1) value."
   ]
  },
  {
   "cell_type": "code",
   "execution_count": 30,
   "id": "0ad67d24-1ad4-448a-85c2-52ae2cfd2911",
   "metadata": {
    "execution": {
     "iopub.execute_input": "2023-06-15T23:21:29.076276Z",
     "iopub.status.busy": "2023-06-15T23:21:29.060800Z",
     "iopub.status.idle": "2023-06-15T23:21:29.082238Z",
     "shell.execute_reply": "2023-06-15T23:21:29.081725Z",
     "shell.execute_reply.started": "2023-06-15T23:21:29.076276Z"
    }
   },
   "outputs": [
    {
     "data": {
      "text/plain": [
       "999"
      ]
     },
     "execution_count": 30,
     "metadata": {},
     "output_type": "execute_result"
    }
   ],
   "source": [
    "# We'd use the smallest sample size - 1 as n\n",
    "\n",
    "min(males.size, females.size) - 1"
   ]
  },
  {
   "cell_type": "code",
   "execution_count": null,
   "id": "b10aaead-4635-410b-8d5d-2f2bbabf08d3",
   "metadata": {},
   "outputs": [],
   "source": []
  },
  {
   "cell_type": "markdown",
   "id": "92f56ff2-fe20-42dc-857e-cd98b62885a2",
   "metadata": {},
   "source": [
    "## ___Pooled Confidence Intervals:___\n",
    "\n",
    "# ___$= (\\bar{x}_m - \\bar{x}_f) \\pm MoE$___\n",
    "# ___$= (\\bar{x}_m - \\bar{x}_f) \\pm (t^* \\cdot Std.Err)$___\n",
    "# ___$= (\\bar{x}_m - \\bar{x}_f) \\pm t^* \\cdot (\\sqrt{\\frac{\\sigma_m^2(n_m - 1) + \\sigma_f^2(n_f - 1)}{n_m + n_f - 2}} \\cdot \\sqrt{\\frac{1}{n_m} + \\frac{1}{n_f}})$___\n",
    "# ___$= (\\bar{x}_m - \\bar{x}_f) \\pm (t^* \\cdot Est.Std.Err)$___\n",
    "# ___$= (\\bar{x}_m - \\bar{x}_f) \\pm t^* \\cdot (\\sqrt{\\frac{S_m^2(n_m - 1) + S_f^2(n_f - 1)}{n_m + n_f - 2}} \\cdot \\sqrt{\\frac{1}{n_m} + \\frac{1}{n_f}})$___"
   ]
  },
  {
   "cell_type": "code",
   "execution_count": null,
   "id": "71820c39-ba1a-46bf-87ef-2afc1f26aba9",
   "metadata": {},
   "outputs": [],
   "source": [
    "# For the pooled approach, degrees of freedom is simply = sample_size_1 + sample_size_2 - 2\n",
    "# This is valid only if we could assume the POPULATION variances are equal. (inferred through sample variances)."
   ]
  },
  {
   "cell_type": "code",
   "execution_count": null,
   "id": "bc1d3d2f-83bd-4a48-b352-bb1700311d4c",
   "metadata": {},
   "outputs": [],
   "source": []
  },
  {
   "cell_type": "markdown",
   "id": "03c3a2ec-1412-4922-94c5-777a2b3c3d01",
   "metadata": {},
   "source": [
    "## ___Evaluating the conditions___\n",
    "-------------"
   ]
  },
  {
   "cell_type": "code",
   "execution_count": 27,
   "id": "51c5b9da-e16b-48e5-8035-26188e51ec96",
   "metadata": {
    "execution": {
     "iopub.execute_input": "2023-06-15T22:57:26.187038Z",
     "iopub.status.busy": "2023-06-15T22:57:26.187038Z",
     "iopub.status.idle": "2023-06-15T22:57:26.197960Z",
     "shell.execute_reply": "2023-06-15T22:57:26.196895Z",
     "shell.execute_reply.started": "2023-06-15T22:57:26.187038Z"
    }
   },
   "outputs": [],
   "source": [
    "# 1) Simple random samples."
   ]
  },
  {
   "cell_type": "code",
   "execution_count": 28,
   "id": "fd9e915e-62f0-405f-9d86-df73667d15ca",
   "metadata": {
    "execution": {
     "iopub.execute_input": "2023-06-15T22:57:26.468716Z",
     "iopub.status.busy": "2023-06-15T22:57:26.468716Z",
     "iopub.status.idle": "2023-06-15T22:57:26.475926Z",
     "shell.execute_reply": "2023-06-15T22:57:26.475814Z",
     "shell.execute_reply.started": "2023-06-15T22:57:26.468716Z"
    }
   },
   "outputs": [],
   "source": [
    "# 2) 2 samples are independent of one another."
   ]
  },
  {
   "cell_type": "code",
   "execution_count": 29,
   "id": "6cbdd6fe-3024-4ef6-9c94-24ee73419413",
   "metadata": {
    "execution": {
     "iopub.execute_input": "2023-06-15T22:57:26.971255Z",
     "iopub.status.busy": "2023-06-15T22:57:26.971255Z",
     "iopub.status.idle": "2023-06-15T22:57:27.215738Z",
     "shell.execute_reply": "2023-06-15T22:57:27.215738Z",
     "shell.execute_reply.started": "2023-06-15T22:57:26.971255Z"
    }
   },
   "outputs": [
    {
     "data": {
      "image/png": "[encoded data removed]",
      "text/plain": [
       "<Figure size 1000x500 with 2 Axes>"
      ]
     },
     "metadata": {},
     "output_type": "display_data"
    }
   ],
   "source": [
    "# 3) Normality assumption.\n",
    "\n",
    "fig, (axes_l, axes_r) = plt.subplots(ncols = 2)\n",
    "fig.set_size_inches(10, 5)\n",
    "\n",
    "axes_l.hist(males, rwidth = 0.9, color = \"blue\")\n",
    "axes_l.set_title(\"Males\")\n",
    "\n",
    "axes_r.hist(females, rwidth = 0.9, color = \"red\")\n",
    "axes_r.set_title(\"Females\")\n",
    "\n",
    "fig.supylabel(\"Count\")\n",
    "fig.supxlabel(\"BMI\")\n",
    "plt.show()"
   ]
  },
  {
   "cell_type": "code",
   "execution_count": 62,
   "id": "911ce60c-7b93-4623-8395-294723bf6493",
   "metadata": {
    "execution": {
     "iopub.execute_input": "2023-06-15T23:39:15.345134Z",
     "iopub.status.busy": "2023-06-15T23:39:15.345134Z",
     "iopub.status.idle": "2023-06-15T23:39:15.349689Z",
     "shell.execute_reply": "2023-06-15T23:39:15.349689Z",
     "shell.execute_reply.started": "2023-06-15T23:39:15.345134Z"
    }
   },
   "outputs": [],
   "source": [
    "# Both distributions appear to be right skewed."
   ]
  },
  {
   "cell_type": "code",
   "execution_count": 48,
   "id": "c05b8e20-18f3-4d1e-9cd0-b0b45315f8b6",
   "metadata": {
    "execution": {
     "iopub.execute_input": "2023-06-15T23:32:46.421421Z",
     "iopub.status.busy": "2023-06-15T23:32:46.421421Z",
     "iopub.status.idle": "2023-06-15T23:32:46.431427Z",
     "shell.execute_reply": "2023-06-15T23:32:46.431427Z",
     "shell.execute_reply.started": "2023-06-15T23:32:46.421421Z"
    }
   },
   "outputs": [
    {
     "data": {
      "text/plain": [
       "(58.0, 64.5)"
      ]
     },
     "execution_count": 48,
     "metadata": {},
     "output_type": "execute_result"
    }
   ],
   "source": [
    "males.max(), females.max()"
   ]
  },
  {
   "cell_type": "code",
   "execution_count": 59,
   "id": "a584ee92-6c87-478c-afe3-40fcc3b100cc",
   "metadata": {
    "execution": {
     "iopub.execute_input": "2023-06-15T23:37:45.347758Z",
     "iopub.status.busy": "2023-06-15T23:37:45.347758Z",
     "iopub.status.idle": "2023-06-15T23:37:45.361214Z",
     "shell.execute_reply": "2023-06-15T23:37:45.360704Z",
     "shell.execute_reply.started": "2023-06-15T23:37:45.347758Z"
    }
   },
   "outputs": [
    {
     "data": {
      "text/plain": [
       "array([17.7  , 20.8  , 22.29 , 23.285, 24.1  , 24.8  , 25.47 , 26.1  ,\n",
       "       26.6  , 27.2  , 27.9  , 28.6  , 29.4  , 30.   , 31.   , 32.   ,\n",
       "       33.5  , 34.7  , 36.9  , 41.31 , 58.   ])"
      ]
     },
     "execution_count": 59,
     "metadata": {},
     "output_type": "execute_result"
    }
   ],
   "source": [
    "np.quantile(males, q = np.arange(0, 1.01, step = 0.05))"
   ]
  },
  {
   "cell_type": "code",
   "execution_count": 54,
   "id": "2225f5cd-0fe6-4305-bb7f-2593d35be7e2",
   "metadata": {
    "execution": {
     "iopub.execute_input": "2023-06-15T23:35:21.052386Z",
     "iopub.status.busy": "2023-06-15T23:35:21.052386Z",
     "iopub.status.idle": "2023-06-15T23:35:21.064626Z",
     "shell.execute_reply": "2023-06-15T23:35:21.064626Z",
     "shell.execute_reply.started": "2023-06-15T23:35:21.052386Z"
    }
   },
   "outputs": [],
   "source": [
    "normal_quantiles = np.quantile(np.random.normal(size  = 1000), q = np.arange(0, 1.01, step = 0.05))\n",
    "m_quantiles = np.quantile(males, q = np.arange(0, 1.01, step = 0.05))\n",
    "f_quantiles = np.quantile(females, q = np.arange(0, 1.01, step = 0.05))"
   ]
  },
  {
   "cell_type": "code",
   "execution_count": 61,
   "id": "c0095c67-bcbd-47f0-8295-394cd57e662f",
   "metadata": {
    "execution": {
     "iopub.execute_input": "2023-06-15T23:38:51.524833Z",
     "iopub.status.busy": "2023-06-15T23:38:51.524833Z",
     "iopub.status.idle": "2023-06-15T23:38:51.714601Z",
     "shell.execute_reply": "2023-06-15T23:38:51.714601Z",
     "shell.execute_reply.started": "2023-06-15T23:38:51.524833Z"
    }
   },
   "outputs": [
    {
     "data": {
      "image/png": "[encoded data removed]",
      "text/plain": [
       "<Figure size 1000x500 with 2 Axes>"
      ]
     },
     "metadata": {},
     "output_type": "display_data"
    }
   ],
   "source": [
    "fig, (axes_l, axes_r) = plt.subplots(ncols = 2, sharey = True)\n",
    "fig.set_size_inches(10, 5)\n",
    "\n",
    "axes_l.scatter(normal_quantiles, m_quantiles, color = \"blue\", edgecolor = \"black\")\n",
    "axes_l.set_title(\"Males\")\n",
    "axes_l.grid()\n",
    "axes_r.scatter(normal_quantiles, f_quantiles, color = \"red\", edgecolor = \"black\")\n",
    "axes_r.set_title(\"Females\")\n",
    "axes_r.grid()\n",
    "fig.supylabel(\"BMI quantiles\")\n",
    "fig.supxlabel(\"Normal quantiles\")\n",
    "plt.show()"
   ]
  },
  {
   "cell_type": "code",
   "execution_count": null,
   "id": "590ce420-fa58-4a06-950f-2ecefc4a6557",
   "metadata": {},
   "outputs": [],
   "source": [
    "# If the distribution in our sample is normal (if our sample is a true random sample from a normal population),\n",
    "# QQ plots will form a more/less straight line.\n",
    "# i.e when the same set of quantiles from our sample and a normal distribution are plotted against one another, the plot will form a straight line.\n",
    "# The lines above are a little saggy in the middle but \n",
    "# Otherwise they are quite straight-ish."
   ]
  },
  {
   "cell_type": "code",
   "execution_count": 89,
   "id": "696f1c6d-3f5e-4ae1-83e5-815af93ee704",
   "metadata": {
    "execution": {
     "iopub.execute_input": "2023-06-16T00:12:56.541782Z",
     "iopub.status.busy": "2023-06-16T00:12:56.541782Z",
     "iopub.status.idle": "2023-06-16T00:12:56.620359Z",
     "shell.execute_reply": "2023-06-16T00:12:56.620359Z",
     "shell.execute_reply.started": "2023-06-16T00:12:56.541782Z"
    }
   },
   "outputs": [
    {
     "data": {
      "image/png": "[encoded data removed]",
      "text/plain": [
       "<Figure size 640x480 with 1 Axes>"
      ]
     },
     "metadata": {},
     "output_type": "display_data"
    }
   ],
   "source": [
    "plt.boxplot([males, females], labels = [\"Males\", \"Females\"])\n",
    "plt.grid()\n",
    "plt.show()"
   ]
  },
  {
   "cell_type": "code",
   "execution_count": 42,
   "id": "d6de8363-e12d-430e-9c11-45b8ded401c5",
   "metadata": {
    "execution": {
     "iopub.execute_input": "2023-06-15T23:28:42.906563Z",
     "iopub.status.busy": "2023-06-15T23:28:42.906563Z",
     "iopub.status.idle": "2023-06-15T23:28:42.910666Z",
     "shell.execute_reply": "2023-06-15T23:28:42.910666Z",
     "shell.execute_reply.started": "2023-06-15T23:28:42.906563Z"
    }
   },
   "outputs": [
    {
     "name": "stdout",
     "output_type": "stream",
     "text": [
      "17.66 %\n"
     ]
    }
   ],
   "source": [
    "# Since our samples are large enough (we sampled 1000 elements from a population of 5662)\n",
    "# We'll consider the CLT (central limit theorem) to be valid and proceed anyways.\n",
    "\n",
    "print(f\"{males.size / nhanes.shape[0] * 100:.2f} %\")"
   ]
  },
  {
   "cell_type": "code",
   "execution_count": null,
   "id": "402c22e1-7261-4132-9059-c22cfe0d404c",
   "metadata": {},
   "outputs": [],
   "source": []
  },
  {
   "cell_type": "code",
   "execution_count": 90,
   "id": "8c9b6cba-a408-472c-87f2-976b7a8f1d23",
   "metadata": {
    "execution": {
     "iopub.execute_input": "2023-06-16T00:13:59.515389Z",
     "iopub.status.busy": "2023-06-16T00:13:59.515389Z",
     "iopub.status.idle": "2023-06-16T00:13:59.522411Z",
     "shell.execute_reply": "2023-06-16T00:13:59.522411Z",
     "shell.execute_reply.started": "2023-06-16T00:13:59.515389Z"
    }
   },
   "outputs": [
    {
     "data": {
      "text/plain": [
       "0.45111158855556033"
      ]
     },
     "execution_count": 90,
     "metadata": {},
     "output_type": "execute_result"
    }
   ],
   "source": [
    "# Unpooled approach:\n",
    "# t value @ 95% confidence interval, at (smallest sample size - 1) degrees of freedom is.\n",
    "\n",
    "# This t start value is an approximation at best.\n",
    "tstar_unpooled = 1.98\n",
    "\n",
    "stderr_unpooled = (males.std() / np.sqrt(males.size)) + (females.std() / np.sqrt(females.size))\n",
    "stderr_unpooled"
   ]
  },
  {
   "cell_type": "code",
   "execution_count": 91,
   "id": "e5e33a34-08e7-4c46-93be-fdba259a3fc0",
   "metadata": {
    "execution": {
     "iopub.execute_input": "2023-06-16T00:14:08.248695Z",
     "iopub.status.busy": "2023-06-16T00:14:08.248695Z",
     "iopub.status.idle": "2023-06-16T00:14:08.260894Z",
     "shell.execute_reply": "2023-06-16T00:14:08.260894Z",
     "shell.execute_reply.started": "2023-06-16T00:14:08.248695Z"
    }
   },
   "outputs": [],
   "source": [
    "moerr_unpooled = tstar_unpooled * stderr_unpooled"
   ]
  },
  {
   "cell_type": "code",
   "execution_count": 92,
   "id": "ee0d8db7-b984-41fb-9bed-da5c9813755d",
   "metadata": {
    "execution": {
     "iopub.execute_input": "2023-06-16T00:14:52.277402Z",
     "iopub.status.busy": "2023-06-16T00:14:52.277402Z",
     "iopub.status.idle": "2023-06-16T00:14:52.294925Z",
     "shell.execute_reply": "2023-06-16T00:14:52.294925Z",
     "shell.execute_reply.started": "2023-06-16T00:14:52.277402Z"
    }
   },
   "outputs": [
    {
     "data": {
      "text/plain": [
       "(-2.0017009453400125, -0.21529905465999344)"
      ]
     },
     "execution_count": 92,
     "metadata": {},
     "output_type": "execute_result"
    }
   ],
   "source": [
    "unpooled_cint = best_est - moerr_unpooled, best_est + moerr_unpooled\n",
    "unpooled_cint"
   ]
  },
  {
   "cell_type": "code",
   "execution_count": 93,
   "id": "e095de85-9448-493e-ab70-e65f6223740e",
   "metadata": {
    "execution": {
     "iopub.execute_input": "2023-06-16T00:15:08.247694Z",
     "iopub.status.busy": "2023-06-16T00:15:08.247694Z",
     "iopub.status.idle": "2023-06-16T00:15:08.264852Z",
     "shell.execute_reply": "2023-06-16T00:15:08.263792Z",
     "shell.execute_reply.started": "2023-06-16T00:15:08.247694Z"
    }
   },
   "outputs": [
    {
     "data": {
      "text/plain": [
       "-1.1618735403269653"
      ]
     },
     "execution_count": 93,
     "metadata": {},
     "output_type": "execute_result"
    }
   ],
   "source": [
    "pop_mean['M'] - pop_mean['F']"
   ]
  },
  {
   "cell_type": "code",
   "execution_count": null,
   "id": "b55fa1ec-b025-4ad4-b204-3e1a47fab0a1",
   "metadata": {},
   "outputs": [],
   "source": [
    "# The unpooled confidence interval does not cover 0 in its range.\n",
    "# But it does cover the true population metric."
   ]
  },
  {
   "cell_type": "code",
   "execution_count": null,
   "id": "f8ee7c04-40c8-41af-b757-d594b9f5bb43",
   "metadata": {},
   "outputs": [],
   "source": []
  },
  {
   "cell_type": "code",
   "execution_count": 69,
   "id": "6d24cef8-e0fb-4947-8851-26da4f355116",
   "metadata": {
    "execution": {
     "iopub.execute_input": "2023-06-16T00:00:15.205774Z",
     "iopub.status.busy": "2023-06-16T00:00:15.205774Z",
     "iopub.status.idle": "2023-06-16T00:00:15.219661Z",
     "shell.execute_reply": "2023-06-16T00:00:15.219661Z",
     "shell.execute_reply.started": "2023-06-16T00:00:15.205774Z"
    }
   },
   "outputs": [
    {
     "data": {
      "text/plain": [
       "0.6351265627717599"
      ]
     },
     "execution_count": 69,
     "metadata": {},
     "output_type": "execute_result"
    }
   ],
   "source": [
    "# Pooled approach, with a t multiplier 1.98\n",
    "\n",
    "tstar_pooled = 1.98\n",
    "stderr_pooled = np.sqrt(((males.var() * (males.size - 1)) + (females.var() * (females.size  - 1))) / (males.size + females.size - 2)) * \\\n",
    "                    np.sqrt((1 / males.size) + (1 / females.size))\n",
    "moerr_pooled = stderr_pooled * tstar_pooled\n",
    "moerr_pooled"
   ]
  },
  {
   "cell_type": "code",
   "execution_count": 78,
   "id": "537d0bf5-4c3c-48a8-9483-ae8d5901ccb1",
   "metadata": {
    "execution": {
     "iopub.execute_input": "2023-06-16T00:06:36.114947Z",
     "iopub.status.busy": "2023-06-16T00:06:36.114947Z",
     "iopub.status.idle": "2023-06-16T00:06:36.121981Z",
     "shell.execute_reply": "2023-06-16T00:06:36.121981Z",
     "shell.execute_reply.started": "2023-06-16T00:06:36.114947Z"
    }
   },
   "outputs": [
    {
     "data": {
      "text/plain": [
       "(-1.7436265627717629, -0.473373437228243)"
      ]
     },
     "execution_count": 78,
     "metadata": {},
     "output_type": "execute_result"
    }
   ],
   "source": [
    "pooled_cint = best_est - moerr_pooled, best_est + moerr_pooled\n",
    "pooled_cint"
   ]
  },
  {
   "cell_type": "code",
   "execution_count": 76,
   "id": "6bdd7864-a4fe-437b-91a8-832cdb8dc37b",
   "metadata": {
    "execution": {
     "iopub.execute_input": "2023-06-16T00:03:40.736620Z",
     "iopub.status.busy": "2023-06-16T00:03:40.736620Z",
     "iopub.status.idle": "2023-06-16T00:03:40.744406Z",
     "shell.execute_reply": "2023-06-16T00:03:40.744406Z",
     "shell.execute_reply.started": "2023-06-16T00:03:40.736620Z"
    }
   },
   "outputs": [
    {
     "data": {
      "text/plain": [
       "-1.1618735403269653"
      ]
     },
     "execution_count": 76,
     "metadata": {},
     "output_type": "execute_result"
    }
   ],
   "source": [
    "pop_mean['M'] - pop_mean['F']"
   ]
  },
  {
   "cell_type": "code",
   "execution_count": 77,
   "id": "510577fe-9941-4da8-a07f-774c39fe607e",
   "metadata": {
    "execution": {
     "iopub.execute_input": "2023-06-16T00:04:04.314779Z",
     "iopub.status.busy": "2023-06-16T00:04:04.314779Z",
     "iopub.status.idle": "2023-06-16T00:04:04.325625Z",
     "shell.execute_reply": "2023-06-16T00:04:04.325020Z",
     "shell.execute_reply.started": "2023-06-16T00:04:04.314779Z"
    }
   },
   "outputs": [],
   "source": [
    "# Pooled confidence interval does not include 0 in its range!.\n",
    "# But it does cover the true population metric!."
   ]
  },
  {
   "cell_type": "code",
   "execution_count": null,
   "id": "9dc1ba26-72ae-4a2a-b19d-994b40032018",
   "metadata": {},
   "outputs": [],
   "source": []
  },
  {
   "cell_type": "code",
   "execution_count": 95,
   "id": "f3b953df-89df-4b09-812e-e6041aadb1f7",
   "metadata": {
    "execution": {
     "iopub.execute_input": "2023-06-16T00:16:09.224800Z",
     "iopub.status.busy": "2023-06-16T00:16:09.224800Z",
     "iopub.status.idle": "2023-06-16T00:16:09.231578Z",
     "shell.execute_reply": "2023-06-16T00:16:09.231058Z",
     "shell.execute_reply.started": "2023-06-16T00:16:09.224800Z"
    }
   },
   "outputs": [
    {
     "data": {
      "text/plain": [
       "(0.6351265627717599, 0.8932009453400095)"
      ]
     },
     "execution_count": 95,
     "metadata": {},
     "output_type": "execute_result"
    }
   ],
   "source": [
    "moerr_pooled, moerr_unpooled"
   ]
  },
  {
   "cell_type": "code",
   "execution_count": 96,
   "id": "5a215576-65e5-4dc6-84dc-c39ed28b8b90",
   "metadata": {
    "execution": {
     "iopub.execute_input": "2023-06-16T00:17:17.245807Z",
     "iopub.status.busy": "2023-06-16T00:17:17.245807Z",
     "iopub.status.idle": "2023-06-16T00:17:17.264239Z",
     "shell.execute_reply": "2023-06-16T00:17:17.264151Z",
     "shell.execute_reply.started": "2023-06-16T00:17:17.245807Z"
    }
   },
   "outputs": [],
   "source": [
    "# Margin of error computed through the unpooled approach is a little large, compared to the one came from pooled approach."
   ]
  },
  {
   "cell_type": "code",
   "execution_count": null,
   "id": "f57f8e43-0073-4106-b4fc-a6030a946476",
   "metadata": {},
   "outputs": [],
   "source": []
  }
 ],
 "metadata": {
  "kernelspec": {
   "display_name": "Python 3 (ipykernel)",
   "language": "python",
   "name": "python3"
  },
  "language_info": {
   "codemirror_mode": {
    "name": "ipython",
    "version": 3
   },
   "file_extension": ".py",
   "mimetype": "text/x-python",
   "name": "python",
   "nbconvert_exporter": "python",
   "pygments_lexer": "ipython3",
   "version": "3.11.4"
  }
 },
 "nbformat": 4,
 "nbformat_minor": 5
}
