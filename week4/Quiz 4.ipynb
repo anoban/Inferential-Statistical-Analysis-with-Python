{
 "cells": [
  {
   "cell_type": "code",
   "execution_count": 1,
   "id": "fc0b2e51-1e64-4b69-82c6-c5925cf8f6b1",
   "metadata": {
    "execution": {
     "iopub.execute_input": "2023-07-09T09:21:40.740229Z",
     "iopub.status.busy": "2023-07-09T09:21:40.740229Z",
     "iopub.status.idle": "2023-07-09T09:21:42.105447Z",
     "shell.execute_reply": "2023-07-09T09:21:42.105447Z",
     "shell.execute_reply.started": "2023-07-09T09:21:40.740229Z"
    }
   },
   "outputs": [],
   "source": [
    "import numpy as np\n",
    "import pandas as pd\n",
    "import matplotlib.pyplot as plt\n",
    "from scipy.stats import (t, norm)"
   ]
  },
  {
   "cell_type": "markdown",
   "id": "c26f3001-8db2-499f-a77e-a83864d0f92d",
   "metadata": {},
   "source": [
    "__Q. A simple random sample of 500 undergraduates at a large university self\u0002 administered a political knowledge test, where the maximum score is 100 and the minimum score is 0. The mean score was 62.5, and the standard deviation of the scores was 10. What is a 95% confidence interval for the overall undergraduate mean at the university?__"
   ]
  },
  {
   "cell_type": "code",
   "execution_count": 2,
   "id": "656ba97e-c56e-4c3c-8636-2f5e665f34d3",
   "metadata": {
    "execution": {
     "iopub.execute_input": "2023-07-09T09:22:48.342686Z",
     "iopub.status.busy": "2023-07-09T09:22:48.342686Z",
     "iopub.status.idle": "2023-07-09T09:22:48.356064Z",
     "shell.execute_reply": "2023-07-09T09:22:48.356064Z",
     "shell.execute_reply.started": "2023-07-09T09:22:48.342686Z"
    }
   },
   "outputs": [
    {
     "data": {
      "text/plain": [
       "0.4472135954999579"
      ]
     },
     "execution_count": 2,
     "metadata": {},
     "output_type": "execute_result"
    }
   ],
   "source": [
    "stderr = 10 / np.sqrt(500)\n",
    "stderr"
   ]
  },
  {
   "cell_type": "code",
   "execution_count": 3,
   "id": "8b8228c7-4da3-4b12-b9cc-9a684ffd382f",
   "metadata": {
    "execution": {
     "iopub.execute_input": "2023-07-09T09:23:11.442439Z",
     "iopub.status.busy": "2023-07-09T09:23:11.442439Z",
     "iopub.status.idle": "2023-07-09T09:23:11.455577Z",
     "shell.execute_reply": "2023-07-09T09:23:11.455577Z",
     "shell.execute_reply.started": "2023-07-09T09:23:11.442439Z"
    }
   },
   "outputs": [
    {
     "data": {
      "text/plain": [
       "0.8765386471799175"
      ]
     },
     "execution_count": 3,
     "metadata": {},
     "output_type": "execute_result"
    }
   ],
   "source": [
    "moerr = 1.96 * stderr\n",
    "moerr"
   ]
  },
  {
   "cell_type": "code",
   "execution_count": 4,
   "id": "e86119f2-fedf-4e67-ad2a-48f06100f468",
   "metadata": {
    "execution": {
     "iopub.execute_input": "2023-07-09T09:23:26.728764Z",
     "iopub.status.busy": "2023-07-09T09:23:26.728764Z",
     "iopub.status.idle": "2023-07-09T09:23:26.736143Z",
     "shell.execute_reply": "2023-07-09T09:23:26.736143Z",
     "shell.execute_reply.started": "2023-07-09T09:23:26.728764Z"
    }
   },
   "outputs": [
    {
     "data": {
      "text/plain": [
       "(61.62346135282008, 63.37653864717992)"
      ]
     },
     "execution_count": 4,
     "metadata": {},
     "output_type": "execute_result"
    }
   ],
   "source": [
    "62.5 - moerr, 62.5 + moerr"
   ]
  },
  {
   "cell_type": "markdown",
   "id": "b22c31d6-dbe6-4b9b-ab12-2b7baacc8afe",
   "metadata": {},
   "source": [
    "__Q. We perform a two-tailed, one-sample t-test of the null hypothesis that the true population mean is 63, versus the alternative hypothesis that the mean is different from 63. We find a test statistic of t = -1.12 (df = 499), with a p-value of 0.264. What is our decision about the null hypothesis at an alpha=0.05?__"
   ]
  },
  {
   "cell_type": "code",
   "execution_count": 6,
   "id": "74bf2a0d-55f8-46fb-8310-624c6d2cb9a2",
   "metadata": {
    "execution": {
     "iopub.execute_input": "2023-07-09T09:29:30.464041Z",
     "iopub.status.busy": "2023-07-09T09:29:30.464041Z",
     "iopub.status.idle": "2023-07-09T09:29:30.473414Z",
     "shell.execute_reply": "2023-07-09T09:29:30.473414Z",
     "shell.execute_reply.started": "2023-07-09T09:29:30.464041Z"
    }
   },
   "outputs": [
    {
     "data": {
      "text/plain": [
       "1.118033988749895"
      ]
     },
     "execution_count": 6,
     "metadata": {},
     "output_type": "execute_result"
    }
   ],
   "source": [
    "tstat = abs((62.5 - 63) / stderr)\n",
    "tstat"
   ]
  },
  {
   "cell_type": "code",
   "execution_count": 8,
   "id": "77690562-c32f-43fa-b9b6-4e756a40d7ec",
   "metadata": {
    "execution": {
     "iopub.execute_input": "2023-07-09T09:30:01.836567Z",
     "iopub.status.busy": "2023-07-09T09:30:01.832491Z",
     "iopub.status.idle": "2023-07-09T09:30:01.841511Z",
     "shell.execute_reply": "2023-07-09T09:30:01.841511Z",
     "shell.execute_reply.started": "2023-07-09T09:30:01.836567Z"
    }
   },
   "outputs": [
    {
     "data": {
      "text/plain": [
       "0.264090439729435"
      ]
     },
     "execution_count": 8,
     "metadata": {},
     "output_type": "execute_result"
    }
   ],
   "source": [
    "p = 2 * (1 - t.cdf(tstat, df = 499))\n",
    "p"
   ]
  },
  {
   "cell_type": "code",
   "execution_count": null,
   "id": "fc510e1f-e88c-456f-a4d2-566a906e974e",
   "metadata": {},
   "outputs": [],
   "source": [
    "# Null hypothesis cannot be rejected!"
   ]
  },
  {
   "cell_type": "markdown",
   "id": "bff3ed55-9645-4424-9834-c9853256d8b7",
   "metadata": {},
   "source": [
    "__Q. A new experimental drug for reducing the pain due to migraine headaches is being tested in a randomized controlled trial. A total of 100 participants with a history of migraine headaches are given the drug, and 100 participants with the same history are given a placebo pill. Each participant is asked about their pain one hour after taking the medication, and whether it has been reduced (yes or no). A biostatistician computes an exact 95% confidence interval for the difference in the proportions of people experiencing pain relief within one hour (treatment minus control). The 95% confidence interval for the difference in proportions is (-0.05, 0.09). What should the biostatistician conclude?__"
   ]
  },
  {
   "cell_type": "code",
   "execution_count": 12,
   "id": "d3d884bd-6922-4e5b-a90b-72539a5707ae",
   "metadata": {
    "execution": {
     "iopub.execute_input": "2023-07-09T09:33:50.872270Z",
     "iopub.status.busy": "2023-07-09T09:33:50.872270Z",
     "iopub.status.idle": "2023-07-09T09:33:50.880829Z",
     "shell.execute_reply": "2023-07-09T09:33:50.880829Z",
     "shell.execute_reply.started": "2023-07-09T09:33:50.872270Z"
    }
   },
   "outputs": [
    {
     "data": {
      "text/plain": [
       "0.07"
      ]
     },
     "execution_count": 12,
     "metadata": {},
     "output_type": "execute_result"
    }
   ],
   "source": [
    "best_est = (0.09 - -0.05) / 2\n",
    "best_est"
   ]
  },
  {
   "cell_type": "code",
   "execution_count": 13,
   "id": "735d9ac6-e91c-4cd5-8a4b-c55245cc69f4",
   "metadata": {
    "execution": {
     "iopub.execute_input": "2023-07-09T09:34:10.722955Z",
     "iopub.status.busy": "2023-07-09T09:34:10.722955Z",
     "iopub.status.idle": "2023-07-09T09:34:10.729450Z",
     "shell.execute_reply": "2023-07-09T09:34:10.729450Z",
     "shell.execute_reply.started": "2023-07-09T09:34:10.722955Z"
    }
   },
   "outputs": [
    {
     "data": {
      "text/plain": [
       "0.01999999999999999"
      ]
     },
     "execution_count": 13,
     "metadata": {},
     "output_type": "execute_result"
    }
   ],
   "source": [
    "moerr = 0.09 - best_est\n",
    "moerr"
   ]
  },
  {
   "cell_type": "code",
   "execution_count": 18,
   "id": "d0d4e543-3280-4599-88ed-a5a763b5bc68",
   "metadata": {
    "execution": {
     "iopub.execute_input": "2023-07-09T09:37:18.527724Z",
     "iopub.status.busy": "2023-07-09T09:37:18.527724Z",
     "iopub.status.idle": "2023-07-09T09:37:18.536203Z",
     "shell.execute_reply": "2023-07-09T09:37:18.536203Z",
     "shell.execute_reply.started": "2023-07-09T09:37:18.527724Z"
    }
   },
   "outputs": [
    {
     "data": {
      "text/plain": [
       "1.959963984540054"
      ]
     },
     "execution_count": 18,
     "metadata": {},
     "output_type": "execute_result"
    }
   ],
   "source": [
    "norm.ppf(0.975)"
   ]
  },
  {
   "cell_type": "code",
   "execution_count": 19,
   "id": "d9d96025-0e3a-4ea1-a6ae-1cb33ca9e1fa",
   "metadata": {
    "execution": {
     "iopub.execute_input": "2023-07-09T09:37:34.505741Z",
     "iopub.status.busy": "2023-07-09T09:37:34.505741Z",
     "iopub.status.idle": "2023-07-09T09:37:34.521832Z",
     "shell.execute_reply": "2023-07-09T09:37:34.521058Z",
     "shell.execute_reply.started": "2023-07-09T09:37:34.505741Z"
    }
   },
   "outputs": [
    {
     "data": {
      "text/plain": [
       "0.010204269138493075"
      ]
     },
     "execution_count": 19,
     "metadata": {},
     "output_type": "execute_result"
    }
   ],
   "source": [
    "stderr = moerr / norm.ppf(0.975)\n",
    "stderr"
   ]
  },
  {
   "cell_type": "code",
   "execution_count": 20,
   "id": "ddd193bd-289a-4250-9fa6-8ec2644a0af0",
   "metadata": {
    "execution": {
     "iopub.execute_input": "2023-07-09T09:37:39.862286Z",
     "iopub.status.busy": "2023-07-09T09:37:39.862286Z",
     "iopub.status.idle": "2023-07-09T09:37:39.872423Z",
     "shell.execute_reply": "2023-07-09T09:37:39.872423Z",
     "shell.execute_reply.started": "2023-07-09T09:37:39.862286Z"
    }
   },
   "outputs": [
    {
     "data": {
      "text/plain": [
       "6.859873945890192"
      ]
     },
     "execution_count": 20,
     "metadata": {},
     "output_type": "execute_result"
    }
   ],
   "source": [
    "zstat = (best_est - 0) / stderr\n",
    "zstat"
   ]
  },
  {
   "cell_type": "code",
   "execution_count": 21,
   "id": "9cb8e5ba-c799-44ce-a406-017733ab1787",
   "metadata": {
    "execution": {
     "iopub.execute_input": "2023-07-09T09:38:08.969266Z",
     "iopub.status.busy": "2023-07-09T09:38:08.969266Z",
     "iopub.status.idle": "2023-07-09T09:38:08.978067Z",
     "shell.execute_reply": "2023-07-09T09:38:08.978067Z",
     "shell.execute_reply.started": "2023-07-09T09:38:08.969266Z"
    }
   },
   "outputs": [
    {
     "data": {
      "text/plain": [
       "6.892042492268047e-12"
      ]
     },
     "execution_count": 21,
     "metadata": {},
     "output_type": "execute_result"
    }
   ],
   "source": [
    "p = 2 * (1 - norm.cdf(zstat))\n",
    "p"
   ]
  },
  {
   "cell_type": "code",
   "execution_count": 22,
   "id": "86bf321c-7146-4ab7-98d7-510d42a24279",
   "metadata": {
    "execution": {
     "iopub.execute_input": "2023-07-09T09:38:25.576404Z",
     "iopub.status.busy": "2023-07-09T09:38:25.576404Z",
     "iopub.status.idle": "2023-07-09T09:38:25.585336Z",
     "shell.execute_reply": "2023-07-09T09:38:25.585336Z",
     "shell.execute_reply.started": "2023-07-09T09:38:25.576404Z"
    }
   },
   "outputs": [
    {
     "data": {
      "text/plain": [
       "True"
      ]
     },
     "execution_count": 22,
     "metadata": {},
     "output_type": "execute_result"
    }
   ],
   "source": [
    "p < 0.05"
   ]
  },
  {
   "cell_type": "code",
   "execution_count": null,
   "id": "d2c6913c-a32d-4df0-880d-897f24455724",
   "metadata": {},
   "outputs": [],
   "source": []
  }
 ],
 "metadata": {
  "kernelspec": {
   "display_name": "Python 3 (ipykernel)",
   "language": "python",
   "name": "python3"
  },
  "language_info": {
   "codemirror_mode": {
    "name": "ipython",
    "version": 3
   },
   "file_extension": ".py",
   "mimetype": "text/x-python",
   "name": "python",
   "nbconvert_exporter": "python",
   "pygments_lexer": "ipython3",
   "version": "3.11.4"
  }
 },
 "nbformat": 4,
 "nbformat_minor": 5
}
